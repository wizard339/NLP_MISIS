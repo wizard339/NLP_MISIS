{
  "nbformat": 4,
  "nbformat_minor": 0,
  "metadata": {
    "accelerator": "GPU",
    "colab": {
      "name": "final_task_unsolved.ipynb",
      "provenance": [],
      "collapsed_sections": [
        "gSAnlfM3KLFo"
      ],
      "include_colab_link": true
    },
    "kernelspec": {
      "display_name": "Python 3",
      "language": "python",
      "name": "python3"
    },
    "language_info": {
      "codemirror_mode": {
        "name": "ipython",
        "version": 3
      },
      "file_extension": ".py",
      "mimetype": "text/x-python",
      "name": "python",
      "nbconvert_exporter": "python",
      "pygments_lexer": "ipython3",
      "version": "3.8.8"
    },
    "widgets": {
      "application/vnd.jupyter.widget-state+json": {
        "1aee0a0b65c34782b1ed169789b43732": {
          "model_module": "@jupyter-widgets/controls",
          "model_name": "HBoxModel",
          "model_module_version": "1.5.0",
          "state": {
            "_view_name": "HBoxView",
            "_dom_classes": [],
            "_model_name": "HBoxModel",
            "_view_module": "@jupyter-widgets/controls",
            "_model_module_version": "1.5.0",
            "_view_count": null,
            "_view_module_version": "1.5.0",
            "box_style": "",
            "layout": "IPY_MODEL_dab81c1bb9a1415ab5a9989e4ae7489b",
            "_model_module": "@jupyter-widgets/controls",
            "children": [
              "IPY_MODEL_afafb19dd0e145cf99b66b5119738db1",
              "IPY_MODEL_680fc2c8d02246ed93a5ef3f37c6a50c",
              "IPY_MODEL_a9e5935325fc4dfb9004952dd9494b71"
            ]
          }
        },
        "dab81c1bb9a1415ab5a9989e4ae7489b": {
          "model_module": "@jupyter-widgets/base",
          "model_name": "LayoutModel",
          "model_module_version": "1.2.0",
          "state": {
            "_view_name": "LayoutView",
            "grid_template_rows": null,
            "right": null,
            "justify_content": null,
            "_view_module": "@jupyter-widgets/base",
            "overflow": null,
            "_model_module_version": "1.2.0",
            "_view_count": null,
            "flex_flow": null,
            "width": null,
            "min_width": null,
            "border": null,
            "align_items": null,
            "bottom": null,
            "_model_module": "@jupyter-widgets/base",
            "top": null,
            "grid_column": null,
            "overflow_y": null,
            "overflow_x": null,
            "grid_auto_flow": null,
            "grid_area": null,
            "grid_template_columns": null,
            "flex": null,
            "_model_name": "LayoutModel",
            "justify_items": null,
            "grid_row": null,
            "max_height": null,
            "align_content": null,
            "visibility": null,
            "align_self": null,
            "height": null,
            "min_height": null,
            "padding": null,
            "grid_auto_rows": null,
            "grid_gap": null,
            "max_width": null,
            "order": null,
            "_view_module_version": "1.2.0",
            "grid_template_areas": null,
            "object_position": null,
            "object_fit": null,
            "grid_auto_columns": null,
            "margin": null,
            "display": null,
            "left": null
          }
        },
        "afafb19dd0e145cf99b66b5119738db1": {
          "model_module": "@jupyter-widgets/controls",
          "model_name": "HTMLModel",
          "model_module_version": "1.5.0",
          "state": {
            "_view_name": "HTMLView",
            "style": "IPY_MODEL_7300f379e26a43a0a2ea0a7cd57afddc",
            "_dom_classes": [],
            "description": "",
            "_model_name": "HTMLModel",
            "placeholder": "​",
            "_view_module": "@jupyter-widgets/controls",
            "_model_module_version": "1.5.0",
            "value": "100%",
            "_view_count": null,
            "_view_module_version": "1.5.0",
            "description_tooltip": null,
            "_model_module": "@jupyter-widgets/controls",
            "layout": "IPY_MODEL_d107f5977213476db30f97386a931fa2"
          }
        },
        "680fc2c8d02246ed93a5ef3f37c6a50c": {
          "model_module": "@jupyter-widgets/controls",
          "model_name": "FloatProgressModel",
          "model_module_version": "1.5.0",
          "state": {
            "_view_name": "ProgressView",
            "style": "IPY_MODEL_37333a51f697441f8e472095fed8209f",
            "_dom_classes": [],
            "description": "",
            "_model_name": "FloatProgressModel",
            "bar_style": "success",
            "max": 3,
            "_view_module": "@jupyter-widgets/controls",
            "_model_module_version": "1.5.0",
            "value": 3,
            "_view_count": null,
            "_view_module_version": "1.5.0",
            "orientation": "horizontal",
            "min": 0,
            "description_tooltip": null,
            "_model_module": "@jupyter-widgets/controls",
            "layout": "IPY_MODEL_ea883172f7694f5faa0d8c75d6c9fb1b"
          }
        },
        "a9e5935325fc4dfb9004952dd9494b71": {
          "model_module": "@jupyter-widgets/controls",
          "model_name": "HTMLModel",
          "model_module_version": "1.5.0",
          "state": {
            "_view_name": "HTMLView",
            "style": "IPY_MODEL_742b6cbd8c184f2f9f08caa8fee24013",
            "_dom_classes": [],
            "description": "",
            "_model_name": "HTMLModel",
            "placeholder": "​",
            "_view_module": "@jupyter-widgets/controls",
            "_model_module_version": "1.5.0",
            "value": " 3/3 [00:00&lt;00:00,  3.78it/s]",
            "_view_count": null,
            "_view_module_version": "1.5.0",
            "description_tooltip": null,
            "_model_module": "@jupyter-widgets/controls",
            "layout": "IPY_MODEL_b398f15bd0204c59a9be58021d5d6f9f"
          }
        },
        "7300f379e26a43a0a2ea0a7cd57afddc": {
          "model_module": "@jupyter-widgets/controls",
          "model_name": "DescriptionStyleModel",
          "model_module_version": "1.5.0",
          "state": {
            "_view_name": "StyleView",
            "_model_name": "DescriptionStyleModel",
            "description_width": "",
            "_view_module": "@jupyter-widgets/base",
            "_model_module_version": "1.5.0",
            "_view_count": null,
            "_view_module_version": "1.2.0",
            "_model_module": "@jupyter-widgets/controls"
          }
        },
        "d107f5977213476db30f97386a931fa2": {
          "model_module": "@jupyter-widgets/base",
          "model_name": "LayoutModel",
          "model_module_version": "1.2.0",
          "state": {
            "_view_name": "LayoutView",
            "grid_template_rows": null,
            "right": null,
            "justify_content": null,
            "_view_module": "@jupyter-widgets/base",
            "overflow": null,
            "_model_module_version": "1.2.0",
            "_view_count": null,
            "flex_flow": null,
            "width": null,
            "min_width": null,
            "border": null,
            "align_items": null,
            "bottom": null,
            "_model_module": "@jupyter-widgets/base",
            "top": null,
            "grid_column": null,
            "overflow_y": null,
            "overflow_x": null,
            "grid_auto_flow": null,
            "grid_area": null,
            "grid_template_columns": null,
            "flex": null,
            "_model_name": "LayoutModel",
            "justify_items": null,
            "grid_row": null,
            "max_height": null,
            "align_content": null,
            "visibility": null,
            "align_self": null,
            "height": null,
            "min_height": null,
            "padding": null,
            "grid_auto_rows": null,
            "grid_gap": null,
            "max_width": null,
            "order": null,
            "_view_module_version": "1.2.0",
            "grid_template_areas": null,
            "object_position": null,
            "object_fit": null,
            "grid_auto_columns": null,
            "margin": null,
            "display": null,
            "left": null
          }
        },
        "37333a51f697441f8e472095fed8209f": {
          "model_module": "@jupyter-widgets/controls",
          "model_name": "ProgressStyleModel",
          "model_module_version": "1.5.0",
          "state": {
            "_view_name": "StyleView",
            "_model_name": "ProgressStyleModel",
            "description_width": "",
            "_view_module": "@jupyter-widgets/base",
            "_model_module_version": "1.5.0",
            "_view_count": null,
            "_view_module_version": "1.2.0",
            "bar_color": null,
            "_model_module": "@jupyter-widgets/controls"
          }
        },
        "ea883172f7694f5faa0d8c75d6c9fb1b": {
          "model_module": "@jupyter-widgets/base",
          "model_name": "LayoutModel",
          "model_module_version": "1.2.0",
          "state": {
            "_view_name": "LayoutView",
            "grid_template_rows": null,
            "right": null,
            "justify_content": null,
            "_view_module": "@jupyter-widgets/base",
            "overflow": null,
            "_model_module_version": "1.2.0",
            "_view_count": null,
            "flex_flow": null,
            "width": null,
            "min_width": null,
            "border": null,
            "align_items": null,
            "bottom": null,
            "_model_module": "@jupyter-widgets/base",
            "top": null,
            "grid_column": null,
            "overflow_y": null,
            "overflow_x": null,
            "grid_auto_flow": null,
            "grid_area": null,
            "grid_template_columns": null,
            "flex": null,
            "_model_name": "LayoutModel",
            "justify_items": null,
            "grid_row": null,
            "max_height": null,
            "align_content": null,
            "visibility": null,
            "align_self": null,
            "height": null,
            "min_height": null,
            "padding": null,
            "grid_auto_rows": null,
            "grid_gap": null,
            "max_width": null,
            "order": null,
            "_view_module_version": "1.2.0",
            "grid_template_areas": null,
            "object_position": null,
            "object_fit": null,
            "grid_auto_columns": null,
            "margin": null,
            "display": null,
            "left": null
          }
        },
        "742b6cbd8c184f2f9f08caa8fee24013": {
          "model_module": "@jupyter-widgets/controls",
          "model_name": "DescriptionStyleModel",
          "model_module_version": "1.5.0",
          "state": {
            "_view_name": "StyleView",
            "_model_name": "DescriptionStyleModel",
            "description_width": "",
            "_view_module": "@jupyter-widgets/base",
            "_model_module_version": "1.5.0",
            "_view_count": null,
            "_view_module_version": "1.2.0",
            "_model_module": "@jupyter-widgets/controls"
          }
        },
        "b398f15bd0204c59a9be58021d5d6f9f": {
          "model_module": "@jupyter-widgets/base",
          "model_name": "LayoutModel",
          "model_module_version": "1.2.0",
          "state": {
            "_view_name": "LayoutView",
            "grid_template_rows": null,
            "right": null,
            "justify_content": null,
            "_view_module": "@jupyter-widgets/base",
            "overflow": null,
            "_model_module_version": "1.2.0",
            "_view_count": null,
            "flex_flow": null,
            "width": null,
            "min_width": null,
            "border": null,
            "align_items": null,
            "bottom": null,
            "_model_module": "@jupyter-widgets/base",
            "top": null,
            "grid_column": null,
            "overflow_y": null,
            "overflow_x": null,
            "grid_auto_flow": null,
            "grid_area": null,
            "grid_template_columns": null,
            "flex": null,
            "_model_name": "LayoutModel",
            "justify_items": null,
            "grid_row": null,
            "max_height": null,
            "align_content": null,
            "visibility": null,
            "align_self": null,
            "height": null,
            "min_height": null,
            "padding": null,
            "grid_auto_rows": null,
            "grid_gap": null,
            "max_width": null,
            "order": null,
            "_view_module_version": "1.2.0",
            "grid_template_areas": null,
            "object_position": null,
            "object_fit": null,
            "grid_auto_columns": null,
            "margin": null,
            "display": null,
            "left": null
          }
        },
        "d95713b99a5f43feb65b277e6bbbde06": {
          "model_module": "@jupyter-widgets/controls",
          "model_name": "HBoxModel",
          "model_module_version": "1.5.0",
          "state": {
            "_view_name": "HBoxView",
            "_dom_classes": [],
            "_model_name": "HBoxModel",
            "_view_module": "@jupyter-widgets/controls",
            "_model_module_version": "1.5.0",
            "_view_count": null,
            "_view_module_version": "1.5.0",
            "box_style": "",
            "layout": "IPY_MODEL_fdc8f902420b44bdb0cf1c0e949f41bd",
            "_model_module": "@jupyter-widgets/controls",
            "children": [
              "IPY_MODEL_e6c64b5c4e7c4d6ebfb9828710ef1877",
              "IPY_MODEL_2095d58f2a87433b84db1fafb902d378",
              "IPY_MODEL_35071b15e22b44749c73d9fd9325744a"
            ]
          }
        },
        "fdc8f902420b44bdb0cf1c0e949f41bd": {
          "model_module": "@jupyter-widgets/base",
          "model_name": "LayoutModel",
          "model_module_version": "1.2.0",
          "state": {
            "_view_name": "LayoutView",
            "grid_template_rows": null,
            "right": null,
            "justify_content": null,
            "_view_module": "@jupyter-widgets/base",
            "overflow": null,
            "_model_module_version": "1.2.0",
            "_view_count": null,
            "flex_flow": null,
            "width": null,
            "min_width": null,
            "border": null,
            "align_items": null,
            "bottom": null,
            "_model_module": "@jupyter-widgets/base",
            "top": null,
            "grid_column": null,
            "overflow_y": null,
            "overflow_x": null,
            "grid_auto_flow": null,
            "grid_area": null,
            "grid_template_columns": null,
            "flex": null,
            "_model_name": "LayoutModel",
            "justify_items": null,
            "grid_row": null,
            "max_height": null,
            "align_content": null,
            "visibility": null,
            "align_self": null,
            "height": null,
            "min_height": null,
            "padding": null,
            "grid_auto_rows": null,
            "grid_gap": null,
            "max_width": null,
            "order": null,
            "_view_module_version": "1.2.0",
            "grid_template_areas": null,
            "object_position": null,
            "object_fit": null,
            "grid_auto_columns": null,
            "margin": null,
            "display": null,
            "left": null
          }
        },
        "e6c64b5c4e7c4d6ebfb9828710ef1877": {
          "model_module": "@jupyter-widgets/controls",
          "model_name": "HTMLModel",
          "model_module_version": "1.5.0",
          "state": {
            "_view_name": "HTMLView",
            "style": "IPY_MODEL_345a4905a16344dbb10d5a8da358d94f",
            "_dom_classes": [],
            "description": "",
            "_model_name": "HTMLModel",
            "placeholder": "​",
            "_view_module": "@jupyter-widgets/controls",
            "_model_module_version": "1.5.0",
            "value": "100%",
            "_view_count": null,
            "_view_module_version": "1.5.0",
            "description_tooltip": null,
            "_model_module": "@jupyter-widgets/controls",
            "layout": "IPY_MODEL_852cfa8c55624d4ab903e712ff7fb536"
          }
        },
        "2095d58f2a87433b84db1fafb902d378": {
          "model_module": "@jupyter-widgets/controls",
          "model_name": "FloatProgressModel",
          "model_module_version": "1.5.0",
          "state": {
            "_view_name": "ProgressView",
            "style": "IPY_MODEL_dcb3856673f64af8af94a4c1b252b03b",
            "_dom_classes": [],
            "description": "",
            "_model_name": "FloatProgressModel",
            "bar_style": "success",
            "max": 123,
            "_view_module": "@jupyter-widgets/controls",
            "_model_module_version": "1.5.0",
            "value": 123,
            "_view_count": null,
            "_view_module_version": "1.5.0",
            "orientation": "horizontal",
            "min": 0,
            "description_tooltip": null,
            "_model_module": "@jupyter-widgets/controls",
            "layout": "IPY_MODEL_392a5e5e9be14a2395bac98b81af3ac2"
          }
        },
        "35071b15e22b44749c73d9fd9325744a": {
          "model_module": "@jupyter-widgets/controls",
          "model_name": "HTMLModel",
          "model_module_version": "1.5.0",
          "state": {
            "_view_name": "HTMLView",
            "style": "IPY_MODEL_26a82ac115dd4bf48a06f4a1bc1fbf6b",
            "_dom_classes": [],
            "description": "",
            "_model_name": "HTMLModel",
            "placeholder": "​",
            "_view_module": "@jupyter-widgets/controls",
            "_model_module_version": "1.5.0",
            "value": " 123/123 [00:08&lt;00:00, 15.30it/s]",
            "_view_count": null,
            "_view_module_version": "1.5.0",
            "description_tooltip": null,
            "_model_module": "@jupyter-widgets/controls",
            "layout": "IPY_MODEL_baeca369b38c4f07bc9c788de4a5ef54"
          }
        },
        "345a4905a16344dbb10d5a8da358d94f": {
          "model_module": "@jupyter-widgets/controls",
          "model_name": "DescriptionStyleModel",
          "model_module_version": "1.5.0",
          "state": {
            "_view_name": "StyleView",
            "_model_name": "DescriptionStyleModel",
            "description_width": "",
            "_view_module": "@jupyter-widgets/base",
            "_model_module_version": "1.5.0",
            "_view_count": null,
            "_view_module_version": "1.2.0",
            "_model_module": "@jupyter-widgets/controls"
          }
        },
        "852cfa8c55624d4ab903e712ff7fb536": {
          "model_module": "@jupyter-widgets/base",
          "model_name": "LayoutModel",
          "model_module_version": "1.2.0",
          "state": {
            "_view_name": "LayoutView",
            "grid_template_rows": null,
            "right": null,
            "justify_content": null,
            "_view_module": "@jupyter-widgets/base",
            "overflow": null,
            "_model_module_version": "1.2.0",
            "_view_count": null,
            "flex_flow": null,
            "width": null,
            "min_width": null,
            "border": null,
            "align_items": null,
            "bottom": null,
            "_model_module": "@jupyter-widgets/base",
            "top": null,
            "grid_column": null,
            "overflow_y": null,
            "overflow_x": null,
            "grid_auto_flow": null,
            "grid_area": null,
            "grid_template_columns": null,
            "flex": null,
            "_model_name": "LayoutModel",
            "justify_items": null,
            "grid_row": null,
            "max_height": null,
            "align_content": null,
            "visibility": null,
            "align_self": null,
            "height": null,
            "min_height": null,
            "padding": null,
            "grid_auto_rows": null,
            "grid_gap": null,
            "max_width": null,
            "order": null,
            "_view_module_version": "1.2.0",
            "grid_template_areas": null,
            "object_position": null,
            "object_fit": null,
            "grid_auto_columns": null,
            "margin": null,
            "display": null,
            "left": null
          }
        },
        "dcb3856673f64af8af94a4c1b252b03b": {
          "model_module": "@jupyter-widgets/controls",
          "model_name": "ProgressStyleModel",
          "model_module_version": "1.5.0",
          "state": {
            "_view_name": "StyleView",
            "_model_name": "ProgressStyleModel",
            "description_width": "",
            "_view_module": "@jupyter-widgets/base",
            "_model_module_version": "1.5.0",
            "_view_count": null,
            "_view_module_version": "1.2.0",
            "bar_color": null,
            "_model_module": "@jupyter-widgets/controls"
          }
        },
        "392a5e5e9be14a2395bac98b81af3ac2": {
          "model_module": "@jupyter-widgets/base",
          "model_name": "LayoutModel",
          "model_module_version": "1.2.0",
          "state": {
            "_view_name": "LayoutView",
            "grid_template_rows": null,
            "right": null,
            "justify_content": null,
            "_view_module": "@jupyter-widgets/base",
            "overflow": null,
            "_model_module_version": "1.2.0",
            "_view_count": null,
            "flex_flow": null,
            "width": null,
            "min_width": null,
            "border": null,
            "align_items": null,
            "bottom": null,
            "_model_module": "@jupyter-widgets/base",
            "top": null,
            "grid_column": null,
            "overflow_y": null,
            "overflow_x": null,
            "grid_auto_flow": null,
            "grid_area": null,
            "grid_template_columns": null,
            "flex": null,
            "_model_name": "LayoutModel",
            "justify_items": null,
            "grid_row": null,
            "max_height": null,
            "align_content": null,
            "visibility": null,
            "align_self": null,
            "height": null,
            "min_height": null,
            "padding": null,
            "grid_auto_rows": null,
            "grid_gap": null,
            "max_width": null,
            "order": null,
            "_view_module_version": "1.2.0",
            "grid_template_areas": null,
            "object_position": null,
            "object_fit": null,
            "grid_auto_columns": null,
            "margin": null,
            "display": null,
            "left": null
          }
        },
        "26a82ac115dd4bf48a06f4a1bc1fbf6b": {
          "model_module": "@jupyter-widgets/controls",
          "model_name": "DescriptionStyleModel",
          "model_module_version": "1.5.0",
          "state": {
            "_view_name": "StyleView",
            "_model_name": "DescriptionStyleModel",
            "description_width": "",
            "_view_module": "@jupyter-widgets/base",
            "_model_module_version": "1.5.0",
            "_view_count": null,
            "_view_module_version": "1.2.0",
            "_model_module": "@jupyter-widgets/controls"
          }
        },
        "baeca369b38c4f07bc9c788de4a5ef54": {
          "model_module": "@jupyter-widgets/base",
          "model_name": "LayoutModel",
          "model_module_version": "1.2.0",
          "state": {
            "_view_name": "LayoutView",
            "grid_template_rows": null,
            "right": null,
            "justify_content": null,
            "_view_module": "@jupyter-widgets/base",
            "overflow": null,
            "_model_module_version": "1.2.0",
            "_view_count": null,
            "flex_flow": null,
            "width": null,
            "min_width": null,
            "border": null,
            "align_items": null,
            "bottom": null,
            "_model_module": "@jupyter-widgets/base",
            "top": null,
            "grid_column": null,
            "overflow_y": null,
            "overflow_x": null,
            "grid_auto_flow": null,
            "grid_area": null,
            "grid_template_columns": null,
            "flex": null,
            "_model_name": "LayoutModel",
            "justify_items": null,
            "grid_row": null,
            "max_height": null,
            "align_content": null,
            "visibility": null,
            "align_self": null,
            "height": null,
            "min_height": null,
            "padding": null,
            "grid_auto_rows": null,
            "grid_gap": null,
            "max_width": null,
            "order": null,
            "_view_module_version": "1.2.0",
            "grid_template_areas": null,
            "object_position": null,
            "object_fit": null,
            "grid_auto_columns": null,
            "margin": null,
            "display": null,
            "left": null
          }
        },
        "4d2d3a5369ae4c599427434f3f09dc85": {
          "model_module": "@jupyter-widgets/controls",
          "model_name": "HBoxModel",
          "model_module_version": "1.5.0",
          "state": {
            "_view_name": "HBoxView",
            "_dom_classes": [],
            "_model_name": "HBoxModel",
            "_view_module": "@jupyter-widgets/controls",
            "_model_module_version": "1.5.0",
            "_view_count": null,
            "_view_module_version": "1.5.0",
            "box_style": "",
            "layout": "IPY_MODEL_11aaf32bf1774f13939e7aceb1d3dbfc",
            "_model_module": "@jupyter-widgets/controls",
            "children": [
              "IPY_MODEL_266f0d6118ec479688b85dc02a716432",
              "IPY_MODEL_4040ea4143ab4986a9c8da86f0671397",
              "IPY_MODEL_8448c8cf88cf45b6a1c9b35ad5bee060"
            ]
          }
        },
        "11aaf32bf1774f13939e7aceb1d3dbfc": {
          "model_module": "@jupyter-widgets/base",
          "model_name": "LayoutModel",
          "model_module_version": "1.2.0",
          "state": {
            "_view_name": "LayoutView",
            "grid_template_rows": null,
            "right": null,
            "justify_content": null,
            "_view_module": "@jupyter-widgets/base",
            "overflow": null,
            "_model_module_version": "1.2.0",
            "_view_count": null,
            "flex_flow": null,
            "width": null,
            "min_width": null,
            "border": null,
            "align_items": null,
            "bottom": null,
            "_model_module": "@jupyter-widgets/base",
            "top": null,
            "grid_column": null,
            "overflow_y": null,
            "overflow_x": null,
            "grid_auto_flow": null,
            "grid_area": null,
            "grid_template_columns": null,
            "flex": null,
            "_model_name": "LayoutModel",
            "justify_items": null,
            "grid_row": null,
            "max_height": null,
            "align_content": null,
            "visibility": null,
            "align_self": null,
            "height": null,
            "min_height": null,
            "padding": null,
            "grid_auto_rows": null,
            "grid_gap": null,
            "max_width": null,
            "order": null,
            "_view_module_version": "1.2.0",
            "grid_template_areas": null,
            "object_position": null,
            "object_fit": null,
            "grid_auto_columns": null,
            "margin": null,
            "display": null,
            "left": null
          }
        },
        "266f0d6118ec479688b85dc02a716432": {
          "model_module": "@jupyter-widgets/controls",
          "model_name": "HTMLModel",
          "model_module_version": "1.5.0",
          "state": {
            "_view_name": "HTMLView",
            "style": "IPY_MODEL_ccc03ecba49f467c8c7f79e117ecf43d",
            "_dom_classes": [],
            "description": "",
            "_model_name": "HTMLModel",
            "placeholder": "​",
            "_view_module": "@jupyter-widgets/controls",
            "_model_module_version": "1.5.0",
            "value": "100%",
            "_view_count": null,
            "_view_module_version": "1.5.0",
            "description_tooltip": null,
            "_model_module": "@jupyter-widgets/controls",
            "layout": "IPY_MODEL_a81671737f7b498483de83e6e6efeb3f"
          }
        },
        "4040ea4143ab4986a9c8da86f0671397": {
          "model_module": "@jupyter-widgets/controls",
          "model_name": "FloatProgressModel",
          "model_module_version": "1.5.0",
          "state": {
            "_view_name": "ProgressView",
            "style": "IPY_MODEL_0bd57bcb9d164f36821ffdbfa4bda7d4",
            "_dom_classes": [],
            "description": "",
            "_model_name": "FloatProgressModel",
            "bar_style": "success",
            "max": 123,
            "_view_module": "@jupyter-widgets/controls",
            "_model_module_version": "1.5.0",
            "value": 123,
            "_view_count": null,
            "_view_module_version": "1.5.0",
            "orientation": "horizontal",
            "min": 0,
            "description_tooltip": null,
            "_model_module": "@jupyter-widgets/controls",
            "layout": "IPY_MODEL_ce418c5865484e538c686eb8ea5fb00f"
          }
        },
        "8448c8cf88cf45b6a1c9b35ad5bee060": {
          "model_module": "@jupyter-widgets/controls",
          "model_name": "HTMLModel",
          "model_module_version": "1.5.0",
          "state": {
            "_view_name": "HTMLView",
            "style": "IPY_MODEL_017a61838bbc4e6ea2dbc4568fe20b20",
            "_dom_classes": [],
            "description": "",
            "_model_name": "HTMLModel",
            "placeholder": "​",
            "_view_module": "@jupyter-widgets/controls",
            "_model_module_version": "1.5.0",
            "value": " 123/123 [00:08&lt;00:00, 15.17it/s]",
            "_view_count": null,
            "_view_module_version": "1.5.0",
            "description_tooltip": null,
            "_model_module": "@jupyter-widgets/controls",
            "layout": "IPY_MODEL_3877e667eb814195b53d0b01784c1a0b"
          }
        },
        "ccc03ecba49f467c8c7f79e117ecf43d": {
          "model_module": "@jupyter-widgets/controls",
          "model_name": "DescriptionStyleModel",
          "model_module_version": "1.5.0",
          "state": {
            "_view_name": "StyleView",
            "_model_name": "DescriptionStyleModel",
            "description_width": "",
            "_view_module": "@jupyter-widgets/base",
            "_model_module_version": "1.5.0",
            "_view_count": null,
            "_view_module_version": "1.2.0",
            "_model_module": "@jupyter-widgets/controls"
          }
        },
        "a81671737f7b498483de83e6e6efeb3f": {
          "model_module": "@jupyter-widgets/base",
          "model_name": "LayoutModel",
          "model_module_version": "1.2.0",
          "state": {
            "_view_name": "LayoutView",
            "grid_template_rows": null,
            "right": null,
            "justify_content": null,
            "_view_module": "@jupyter-widgets/base",
            "overflow": null,
            "_model_module_version": "1.2.0",
            "_view_count": null,
            "flex_flow": null,
            "width": null,
            "min_width": null,
            "border": null,
            "align_items": null,
            "bottom": null,
            "_model_module": "@jupyter-widgets/base",
            "top": null,
            "grid_column": null,
            "overflow_y": null,
            "overflow_x": null,
            "grid_auto_flow": null,
            "grid_area": null,
            "grid_template_columns": null,
            "flex": null,
            "_model_name": "LayoutModel",
            "justify_items": null,
            "grid_row": null,
            "max_height": null,
            "align_content": null,
            "visibility": null,
            "align_self": null,
            "height": null,
            "min_height": null,
            "padding": null,
            "grid_auto_rows": null,
            "grid_gap": null,
            "max_width": null,
            "order": null,
            "_view_module_version": "1.2.0",
            "grid_template_areas": null,
            "object_position": null,
            "object_fit": null,
            "grid_auto_columns": null,
            "margin": null,
            "display": null,
            "left": null
          }
        },
        "0bd57bcb9d164f36821ffdbfa4bda7d4": {
          "model_module": "@jupyter-widgets/controls",
          "model_name": "ProgressStyleModel",
          "model_module_version": "1.5.0",
          "state": {
            "_view_name": "StyleView",
            "_model_name": "ProgressStyleModel",
            "description_width": "",
            "_view_module": "@jupyter-widgets/base",
            "_model_module_version": "1.5.0",
            "_view_count": null,
            "_view_module_version": "1.2.0",
            "bar_color": null,
            "_model_module": "@jupyter-widgets/controls"
          }
        },
        "ce418c5865484e538c686eb8ea5fb00f": {
          "model_module": "@jupyter-widgets/base",
          "model_name": "LayoutModel",
          "model_module_version": "1.2.0",
          "state": {
            "_view_name": "LayoutView",
            "grid_template_rows": null,
            "right": null,
            "justify_content": null,
            "_view_module": "@jupyter-widgets/base",
            "overflow": null,
            "_model_module_version": "1.2.0",
            "_view_count": null,
            "flex_flow": null,
            "width": null,
            "min_width": null,
            "border": null,
            "align_items": null,
            "bottom": null,
            "_model_module": "@jupyter-widgets/base",
            "top": null,
            "grid_column": null,
            "overflow_y": null,
            "overflow_x": null,
            "grid_auto_flow": null,
            "grid_area": null,
            "grid_template_columns": null,
            "flex": null,
            "_model_name": "LayoutModel",
            "justify_items": null,
            "grid_row": null,
            "max_height": null,
            "align_content": null,
            "visibility": null,
            "align_self": null,
            "height": null,
            "min_height": null,
            "padding": null,
            "grid_auto_rows": null,
            "grid_gap": null,
            "max_width": null,
            "order": null,
            "_view_module_version": "1.2.0",
            "grid_template_areas": null,
            "object_position": null,
            "object_fit": null,
            "grid_auto_columns": null,
            "margin": null,
            "display": null,
            "left": null
          }
        },
        "017a61838bbc4e6ea2dbc4568fe20b20": {
          "model_module": "@jupyter-widgets/controls",
          "model_name": "DescriptionStyleModel",
          "model_module_version": "1.5.0",
          "state": {
            "_view_name": "StyleView",
            "_model_name": "DescriptionStyleModel",
            "description_width": "",
            "_view_module": "@jupyter-widgets/base",
            "_model_module_version": "1.5.0",
            "_view_count": null,
            "_view_module_version": "1.2.0",
            "_model_module": "@jupyter-widgets/controls"
          }
        },
        "3877e667eb814195b53d0b01784c1a0b": {
          "model_module": "@jupyter-widgets/base",
          "model_name": "LayoutModel",
          "model_module_version": "1.2.0",
          "state": {
            "_view_name": "LayoutView",
            "grid_template_rows": null,
            "right": null,
            "justify_content": null,
            "_view_module": "@jupyter-widgets/base",
            "overflow": null,
            "_model_module_version": "1.2.0",
            "_view_count": null,
            "flex_flow": null,
            "width": null,
            "min_width": null,
            "border": null,
            "align_items": null,
            "bottom": null,
            "_model_module": "@jupyter-widgets/base",
            "top": null,
            "grid_column": null,
            "overflow_y": null,
            "overflow_x": null,
            "grid_auto_flow": null,
            "grid_area": null,
            "grid_template_columns": null,
            "flex": null,
            "_model_name": "LayoutModel",
            "justify_items": null,
            "grid_row": null,
            "max_height": null,
            "align_content": null,
            "visibility": null,
            "align_self": null,
            "height": null,
            "min_height": null,
            "padding": null,
            "grid_auto_rows": null,
            "grid_gap": null,
            "max_width": null,
            "order": null,
            "_view_module_version": "1.2.0",
            "grid_template_areas": null,
            "object_position": null,
            "object_fit": null,
            "grid_auto_columns": null,
            "margin": null,
            "display": null,
            "left": null
          }
        },
        "3f2b250ba144406980ae6a5a8e47d7cf": {
          "model_module": "@jupyter-widgets/controls",
          "model_name": "HBoxModel",
          "model_module_version": "1.5.0",
          "state": {
            "_view_name": "HBoxView",
            "_dom_classes": [],
            "_model_name": "HBoxModel",
            "_view_module": "@jupyter-widgets/controls",
            "_model_module_version": "1.5.0",
            "_view_count": null,
            "_view_module_version": "1.5.0",
            "box_style": "",
            "layout": "IPY_MODEL_6b5f5c6ad9f9460080d195096e8e1317",
            "_model_module": "@jupyter-widgets/controls",
            "children": [
              "IPY_MODEL_58c4892469db4908acdaad0a0f3d53ff",
              "IPY_MODEL_77d13e03a05b4e0b8af79df09f4a7029",
              "IPY_MODEL_5f0b9df785874e4385450651f5111f9e"
            ]
          }
        },
        "6b5f5c6ad9f9460080d195096e8e1317": {
          "model_module": "@jupyter-widgets/base",
          "model_name": "LayoutModel",
          "model_module_version": "1.2.0",
          "state": {
            "_view_name": "LayoutView",
            "grid_template_rows": null,
            "right": null,
            "justify_content": null,
            "_view_module": "@jupyter-widgets/base",
            "overflow": null,
            "_model_module_version": "1.2.0",
            "_view_count": null,
            "flex_flow": null,
            "width": null,
            "min_width": null,
            "border": null,
            "align_items": null,
            "bottom": null,
            "_model_module": "@jupyter-widgets/base",
            "top": null,
            "grid_column": null,
            "overflow_y": null,
            "overflow_x": null,
            "grid_auto_flow": null,
            "grid_area": null,
            "grid_template_columns": null,
            "flex": null,
            "_model_name": "LayoutModel",
            "justify_items": null,
            "grid_row": null,
            "max_height": null,
            "align_content": null,
            "visibility": null,
            "align_self": null,
            "height": null,
            "min_height": null,
            "padding": null,
            "grid_auto_rows": null,
            "grid_gap": null,
            "max_width": null,
            "order": null,
            "_view_module_version": "1.2.0",
            "grid_template_areas": null,
            "object_position": null,
            "object_fit": null,
            "grid_auto_columns": null,
            "margin": null,
            "display": null,
            "left": null
          }
        },
        "58c4892469db4908acdaad0a0f3d53ff": {
          "model_module": "@jupyter-widgets/controls",
          "model_name": "HTMLModel",
          "model_module_version": "1.5.0",
          "state": {
            "_view_name": "HTMLView",
            "style": "IPY_MODEL_8f8377921e3d4cd5acae2123a5588371",
            "_dom_classes": [],
            "description": "",
            "_model_name": "HTMLModel",
            "placeholder": "​",
            "_view_module": "@jupyter-widgets/controls",
            "_model_module_version": "1.5.0",
            "value": "100%",
            "_view_count": null,
            "_view_module_version": "1.5.0",
            "description_tooltip": null,
            "_model_module": "@jupyter-widgets/controls",
            "layout": "IPY_MODEL_45186090ae2a4b13a058c7d39aa96ec4"
          }
        },
        "77d13e03a05b4e0b8af79df09f4a7029": {
          "model_module": "@jupyter-widgets/controls",
          "model_name": "FloatProgressModel",
          "model_module_version": "1.5.0",
          "state": {
            "_view_name": "ProgressView",
            "style": "IPY_MODEL_52485a10a5104b92b334e5333e1e086f",
            "_dom_classes": [],
            "description": "",
            "_model_name": "FloatProgressModel",
            "bar_style": "success",
            "max": 123,
            "_view_module": "@jupyter-widgets/controls",
            "_model_module_version": "1.5.0",
            "value": 123,
            "_view_count": null,
            "_view_module_version": "1.5.0",
            "orientation": "horizontal",
            "min": 0,
            "description_tooltip": null,
            "_model_module": "@jupyter-widgets/controls",
            "layout": "IPY_MODEL_c70d6e07c2394dd2b2df9261a2f14631"
          }
        },
        "5f0b9df785874e4385450651f5111f9e": {
          "model_module": "@jupyter-widgets/controls",
          "model_name": "HTMLModel",
          "model_module_version": "1.5.0",
          "state": {
            "_view_name": "HTMLView",
            "style": "IPY_MODEL_593aa7ab9f194de4a22a4ced19368462",
            "_dom_classes": [],
            "description": "",
            "_model_name": "HTMLModel",
            "placeholder": "​",
            "_view_module": "@jupyter-widgets/controls",
            "_model_module_version": "1.5.0",
            "value": " 123/123 [00:08&lt;00:00, 15.20it/s]",
            "_view_count": null,
            "_view_module_version": "1.5.0",
            "description_tooltip": null,
            "_model_module": "@jupyter-widgets/controls",
            "layout": "IPY_MODEL_d22116e2baed4934b376993eea9eb679"
          }
        },
        "8f8377921e3d4cd5acae2123a5588371": {
          "model_module": "@jupyter-widgets/controls",
          "model_name": "DescriptionStyleModel",
          "model_module_version": "1.5.0",
          "state": {
            "_view_name": "StyleView",
            "_model_name": "DescriptionStyleModel",
            "description_width": "",
            "_view_module": "@jupyter-widgets/base",
            "_model_module_version": "1.5.0",
            "_view_count": null,
            "_view_module_version": "1.2.0",
            "_model_module": "@jupyter-widgets/controls"
          }
        },
        "45186090ae2a4b13a058c7d39aa96ec4": {
          "model_module": "@jupyter-widgets/base",
          "model_name": "LayoutModel",
          "model_module_version": "1.2.0",
          "state": {
            "_view_name": "LayoutView",
            "grid_template_rows": null,
            "right": null,
            "justify_content": null,
            "_view_module": "@jupyter-widgets/base",
            "overflow": null,
            "_model_module_version": "1.2.0",
            "_view_count": null,
            "flex_flow": null,
            "width": null,
            "min_width": null,
            "border": null,
            "align_items": null,
            "bottom": null,
            "_model_module": "@jupyter-widgets/base",
            "top": null,
            "grid_column": null,
            "overflow_y": null,
            "overflow_x": null,
            "grid_auto_flow": null,
            "grid_area": null,
            "grid_template_columns": null,
            "flex": null,
            "_model_name": "LayoutModel",
            "justify_items": null,
            "grid_row": null,
            "max_height": null,
            "align_content": null,
            "visibility": null,
            "align_self": null,
            "height": null,
            "min_height": null,
            "padding": null,
            "grid_auto_rows": null,
            "grid_gap": null,
            "max_width": null,
            "order": null,
            "_view_module_version": "1.2.0",
            "grid_template_areas": null,
            "object_position": null,
            "object_fit": null,
            "grid_auto_columns": null,
            "margin": null,
            "display": null,
            "left": null
          }
        },
        "52485a10a5104b92b334e5333e1e086f": {
          "model_module": "@jupyter-widgets/controls",
          "model_name": "ProgressStyleModel",
          "model_module_version": "1.5.0",
          "state": {
            "_view_name": "StyleView",
            "_model_name": "ProgressStyleModel",
            "description_width": "",
            "_view_module": "@jupyter-widgets/base",
            "_model_module_version": "1.5.0",
            "_view_count": null,
            "_view_module_version": "1.2.0",
            "bar_color": null,
            "_model_module": "@jupyter-widgets/controls"
          }
        },
        "c70d6e07c2394dd2b2df9261a2f14631": {
          "model_module": "@jupyter-widgets/base",
          "model_name": "LayoutModel",
          "model_module_version": "1.2.0",
          "state": {
            "_view_name": "LayoutView",
            "grid_template_rows": null,
            "right": null,
            "justify_content": null,
            "_view_module": "@jupyter-widgets/base",
            "overflow": null,
            "_model_module_version": "1.2.0",
            "_view_count": null,
            "flex_flow": null,
            "width": null,
            "min_width": null,
            "border": null,
            "align_items": null,
            "bottom": null,
            "_model_module": "@jupyter-widgets/base",
            "top": null,
            "grid_column": null,
            "overflow_y": null,
            "overflow_x": null,
            "grid_auto_flow": null,
            "grid_area": null,
            "grid_template_columns": null,
            "flex": null,
            "_model_name": "LayoutModel",
            "justify_items": null,
            "grid_row": null,
            "max_height": null,
            "align_content": null,
            "visibility": null,
            "align_self": null,
            "height": null,
            "min_height": null,
            "padding": null,
            "grid_auto_rows": null,
            "grid_gap": null,
            "max_width": null,
            "order": null,
            "_view_module_version": "1.2.0",
            "grid_template_areas": null,
            "object_position": null,
            "object_fit": null,
            "grid_auto_columns": null,
            "margin": null,
            "display": null,
            "left": null
          }
        },
        "593aa7ab9f194de4a22a4ced19368462": {
          "model_module": "@jupyter-widgets/controls",
          "model_name": "DescriptionStyleModel",
          "model_module_version": "1.5.0",
          "state": {
            "_view_name": "StyleView",
            "_model_name": "DescriptionStyleModel",
            "description_width": "",
            "_view_module": "@jupyter-widgets/base",
            "_model_module_version": "1.5.0",
            "_view_count": null,
            "_view_module_version": "1.2.0",
            "_model_module": "@jupyter-widgets/controls"
          }
        },
        "d22116e2baed4934b376993eea9eb679": {
          "model_module": "@jupyter-widgets/base",
          "model_name": "LayoutModel",
          "model_module_version": "1.2.0",
          "state": {
            "_view_name": "LayoutView",
            "grid_template_rows": null,
            "right": null,
            "justify_content": null,
            "_view_module": "@jupyter-widgets/base",
            "overflow": null,
            "_model_module_version": "1.2.0",
            "_view_count": null,
            "flex_flow": null,
            "width": null,
            "min_width": null,
            "border": null,
            "align_items": null,
            "bottom": null,
            "_model_module": "@jupyter-widgets/base",
            "top": null,
            "grid_column": null,
            "overflow_y": null,
            "overflow_x": null,
            "grid_auto_flow": null,
            "grid_area": null,
            "grid_template_columns": null,
            "flex": null,
            "_model_name": "LayoutModel",
            "justify_items": null,
            "grid_row": null,
            "max_height": null,
            "align_content": null,
            "visibility": null,
            "align_self": null,
            "height": null,
            "min_height": null,
            "padding": null,
            "grid_auto_rows": null,
            "grid_gap": null,
            "max_width": null,
            "order": null,
            "_view_module_version": "1.2.0",
            "grid_template_areas": null,
            "object_position": null,
            "object_fit": null,
            "grid_auto_columns": null,
            "margin": null,
            "display": null,
            "left": null
          }
        },
        "174062b0ba21403e9cf0981a7d2aeb81": {
          "model_module": "@jupyter-widgets/controls",
          "model_name": "HBoxModel",
          "model_module_version": "1.5.0",
          "state": {
            "_view_name": "HBoxView",
            "_dom_classes": [],
            "_model_name": "HBoxModel",
            "_view_module": "@jupyter-widgets/controls",
            "_model_module_version": "1.5.0",
            "_view_count": null,
            "_view_module_version": "1.5.0",
            "box_style": "",
            "layout": "IPY_MODEL_3c40e02f13f6463ca79b2674f4fb1e0c",
            "_model_module": "@jupyter-widgets/controls",
            "children": [
              "IPY_MODEL_c7ed75ee16ba41f19f9903b60ef83479",
              "IPY_MODEL_66def0a6ad804bd0b774724fbc2df024",
              "IPY_MODEL_882da637eec649feb0562e79a5ede35f"
            ]
          }
        },
        "3c40e02f13f6463ca79b2674f4fb1e0c": {
          "model_module": "@jupyter-widgets/base",
          "model_name": "LayoutModel",
          "model_module_version": "1.2.0",
          "state": {
            "_view_name": "LayoutView",
            "grid_template_rows": null,
            "right": null,
            "justify_content": null,
            "_view_module": "@jupyter-widgets/base",
            "overflow": null,
            "_model_module_version": "1.2.0",
            "_view_count": null,
            "flex_flow": null,
            "width": null,
            "min_width": null,
            "border": null,
            "align_items": null,
            "bottom": null,
            "_model_module": "@jupyter-widgets/base",
            "top": null,
            "grid_column": null,
            "overflow_y": null,
            "overflow_x": null,
            "grid_auto_flow": null,
            "grid_area": null,
            "grid_template_columns": null,
            "flex": null,
            "_model_name": "LayoutModel",
            "justify_items": null,
            "grid_row": null,
            "max_height": null,
            "align_content": null,
            "visibility": null,
            "align_self": null,
            "height": null,
            "min_height": null,
            "padding": null,
            "grid_auto_rows": null,
            "grid_gap": null,
            "max_width": null,
            "order": null,
            "_view_module_version": "1.2.0",
            "grid_template_areas": null,
            "object_position": null,
            "object_fit": null,
            "grid_auto_columns": null,
            "margin": null,
            "display": null,
            "left": null
          }
        },
        "c7ed75ee16ba41f19f9903b60ef83479": {
          "model_module": "@jupyter-widgets/controls",
          "model_name": "HTMLModel",
          "model_module_version": "1.5.0",
          "state": {
            "_view_name": "HTMLView",
            "style": "IPY_MODEL_ce7ec980808544d2b1bb1d219f9c015b",
            "_dom_classes": [],
            "description": "",
            "_model_name": "HTMLModel",
            "placeholder": "​",
            "_view_module": "@jupyter-widgets/controls",
            "_model_module_version": "1.5.0",
            "value": "100%",
            "_view_count": null,
            "_view_module_version": "1.5.0",
            "description_tooltip": null,
            "_model_module": "@jupyter-widgets/controls",
            "layout": "IPY_MODEL_5f85a6e8f882429787fbd4e1075cdff3"
          }
        },
        "66def0a6ad804bd0b774724fbc2df024": {
          "model_module": "@jupyter-widgets/controls",
          "model_name": "FloatProgressModel",
          "model_module_version": "1.5.0",
          "state": {
            "_view_name": "ProgressView",
            "style": "IPY_MODEL_f3f1a8bded6947fba848371f8558d36b",
            "_dom_classes": [],
            "description": "",
            "_model_name": "FloatProgressModel",
            "bar_style": "success",
            "max": 123,
            "_view_module": "@jupyter-widgets/controls",
            "_model_module_version": "1.5.0",
            "value": 123,
            "_view_count": null,
            "_view_module_version": "1.5.0",
            "orientation": "horizontal",
            "min": 0,
            "description_tooltip": null,
            "_model_module": "@jupyter-widgets/controls",
            "layout": "IPY_MODEL_df77d3fd68a344ccb7d186a518769e3d"
          }
        },
        "882da637eec649feb0562e79a5ede35f": {
          "model_module": "@jupyter-widgets/controls",
          "model_name": "HTMLModel",
          "model_module_version": "1.5.0",
          "state": {
            "_view_name": "HTMLView",
            "style": "IPY_MODEL_ad15ea5b3b2341b08e5f1aa71c5feafc",
            "_dom_classes": [],
            "description": "",
            "_model_name": "HTMLModel",
            "placeholder": "​",
            "_view_module": "@jupyter-widgets/controls",
            "_model_module_version": "1.5.0",
            "value": " 123/123 [00:08&lt;00:00, 15.20it/s]",
            "_view_count": null,
            "_view_module_version": "1.5.0",
            "description_tooltip": null,
            "_model_module": "@jupyter-widgets/controls",
            "layout": "IPY_MODEL_71f64cd8c5b14c90a1577726bbbf3c0a"
          }
        },
        "ce7ec980808544d2b1bb1d219f9c015b": {
          "model_module": "@jupyter-widgets/controls",
          "model_name": "DescriptionStyleModel",
          "model_module_version": "1.5.0",
          "state": {
            "_view_name": "StyleView",
            "_model_name": "DescriptionStyleModel",
            "description_width": "",
            "_view_module": "@jupyter-widgets/base",
            "_model_module_version": "1.5.0",
            "_view_count": null,
            "_view_module_version": "1.2.0",
            "_model_module": "@jupyter-widgets/controls"
          }
        },
        "5f85a6e8f882429787fbd4e1075cdff3": {
          "model_module": "@jupyter-widgets/base",
          "model_name": "LayoutModel",
          "model_module_version": "1.2.0",
          "state": {
            "_view_name": "LayoutView",
            "grid_template_rows": null,
            "right": null,
            "justify_content": null,
            "_view_module": "@jupyter-widgets/base",
            "overflow": null,
            "_model_module_version": "1.2.0",
            "_view_count": null,
            "flex_flow": null,
            "width": null,
            "min_width": null,
            "border": null,
            "align_items": null,
            "bottom": null,
            "_model_module": "@jupyter-widgets/base",
            "top": null,
            "grid_column": null,
            "overflow_y": null,
            "overflow_x": null,
            "grid_auto_flow": null,
            "grid_area": null,
            "grid_template_columns": null,
            "flex": null,
            "_model_name": "LayoutModel",
            "justify_items": null,
            "grid_row": null,
            "max_height": null,
            "align_content": null,
            "visibility": null,
            "align_self": null,
            "height": null,
            "min_height": null,
            "padding": null,
            "grid_auto_rows": null,
            "grid_gap": null,
            "max_width": null,
            "order": null,
            "_view_module_version": "1.2.0",
            "grid_template_areas": null,
            "object_position": null,
            "object_fit": null,
            "grid_auto_columns": null,
            "margin": null,
            "display": null,
            "left": null
          }
        },
        "f3f1a8bded6947fba848371f8558d36b": {
          "model_module": "@jupyter-widgets/controls",
          "model_name": "ProgressStyleModel",
          "model_module_version": "1.5.0",
          "state": {
            "_view_name": "StyleView",
            "_model_name": "ProgressStyleModel",
            "description_width": "",
            "_view_module": "@jupyter-widgets/base",
            "_model_module_version": "1.5.0",
            "_view_count": null,
            "_view_module_version": "1.2.0",
            "bar_color": null,
            "_model_module": "@jupyter-widgets/controls"
          }
        },
        "df77d3fd68a344ccb7d186a518769e3d": {
          "model_module": "@jupyter-widgets/base",
          "model_name": "LayoutModel",
          "model_module_version": "1.2.0",
          "state": {
            "_view_name": "LayoutView",
            "grid_template_rows": null,
            "right": null,
            "justify_content": null,
            "_view_module": "@jupyter-widgets/base",
            "overflow": null,
            "_model_module_version": "1.2.0",
            "_view_count": null,
            "flex_flow": null,
            "width": null,
            "min_width": null,
            "border": null,
            "align_items": null,
            "bottom": null,
            "_model_module": "@jupyter-widgets/base",
            "top": null,
            "grid_column": null,
            "overflow_y": null,
            "overflow_x": null,
            "grid_auto_flow": null,
            "grid_area": null,
            "grid_template_columns": null,
            "flex": null,
            "_model_name": "LayoutModel",
            "justify_items": null,
            "grid_row": null,
            "max_height": null,
            "align_content": null,
            "visibility": null,
            "align_self": null,
            "height": null,
            "min_height": null,
            "padding": null,
            "grid_auto_rows": null,
            "grid_gap": null,
            "max_width": null,
            "order": null,
            "_view_module_version": "1.2.0",
            "grid_template_areas": null,
            "object_position": null,
            "object_fit": null,
            "grid_auto_columns": null,
            "margin": null,
            "display": null,
            "left": null
          }
        },
        "ad15ea5b3b2341b08e5f1aa71c5feafc": {
          "model_module": "@jupyter-widgets/controls",
          "model_name": "DescriptionStyleModel",
          "model_module_version": "1.5.0",
          "state": {
            "_view_name": "StyleView",
            "_model_name": "DescriptionStyleModel",
            "description_width": "",
            "_view_module": "@jupyter-widgets/base",
            "_model_module_version": "1.5.0",
            "_view_count": null,
            "_view_module_version": "1.2.0",
            "_model_module": "@jupyter-widgets/controls"
          }
        },
        "71f64cd8c5b14c90a1577726bbbf3c0a": {
          "model_module": "@jupyter-widgets/base",
          "model_name": "LayoutModel",
          "model_module_version": "1.2.0",
          "state": {
            "_view_name": "LayoutView",
            "grid_template_rows": null,
            "right": null,
            "justify_content": null,
            "_view_module": "@jupyter-widgets/base",
            "overflow": null,
            "_model_module_version": "1.2.0",
            "_view_count": null,
            "flex_flow": null,
            "width": null,
            "min_width": null,
            "border": null,
            "align_items": null,
            "bottom": null,
            "_model_module": "@jupyter-widgets/base",
            "top": null,
            "grid_column": null,
            "overflow_y": null,
            "overflow_x": null,
            "grid_auto_flow": null,
            "grid_area": null,
            "grid_template_columns": null,
            "flex": null,
            "_model_name": "LayoutModel",
            "justify_items": null,
            "grid_row": null,
            "max_height": null,
            "align_content": null,
            "visibility": null,
            "align_self": null,
            "height": null,
            "min_height": null,
            "padding": null,
            "grid_auto_rows": null,
            "grid_gap": null,
            "max_width": null,
            "order": null,
            "_view_module_version": "1.2.0",
            "grid_template_areas": null,
            "object_position": null,
            "object_fit": null,
            "grid_auto_columns": null,
            "margin": null,
            "display": null,
            "left": null
          }
        },
        "7e9be2fd839947e98949468d9b870557": {
          "model_module": "@jupyter-widgets/controls",
          "model_name": "HBoxModel",
          "model_module_version": "1.5.0",
          "state": {
            "_view_name": "HBoxView",
            "_dom_classes": [],
            "_model_name": "HBoxModel",
            "_view_module": "@jupyter-widgets/controls",
            "_model_module_version": "1.5.0",
            "_view_count": null,
            "_view_module_version": "1.5.0",
            "box_style": "",
            "layout": "IPY_MODEL_4fe96272b1e641708304f523d1a1752f",
            "_model_module": "@jupyter-widgets/controls",
            "children": [
              "IPY_MODEL_309e6739df944cf4a7919e30207dfdc5",
              "IPY_MODEL_7e031d5e3941427989bd7ee28fa1e76d",
              "IPY_MODEL_c54f1a8ed36046a0af897617ebb93e25"
            ]
          }
        },
        "4fe96272b1e641708304f523d1a1752f": {
          "model_module": "@jupyter-widgets/base",
          "model_name": "LayoutModel",
          "model_module_version": "1.2.0",
          "state": {
            "_view_name": "LayoutView",
            "grid_template_rows": null,
            "right": null,
            "justify_content": null,
            "_view_module": "@jupyter-widgets/base",
            "overflow": null,
            "_model_module_version": "1.2.0",
            "_view_count": null,
            "flex_flow": null,
            "width": null,
            "min_width": null,
            "border": null,
            "align_items": null,
            "bottom": null,
            "_model_module": "@jupyter-widgets/base",
            "top": null,
            "grid_column": null,
            "overflow_y": null,
            "overflow_x": null,
            "grid_auto_flow": null,
            "grid_area": null,
            "grid_template_columns": null,
            "flex": null,
            "_model_name": "LayoutModel",
            "justify_items": null,
            "grid_row": null,
            "max_height": null,
            "align_content": null,
            "visibility": null,
            "align_self": null,
            "height": null,
            "min_height": null,
            "padding": null,
            "grid_auto_rows": null,
            "grid_gap": null,
            "max_width": null,
            "order": null,
            "_view_module_version": "1.2.0",
            "grid_template_areas": null,
            "object_position": null,
            "object_fit": null,
            "grid_auto_columns": null,
            "margin": null,
            "display": null,
            "left": null
          }
        },
        "309e6739df944cf4a7919e30207dfdc5": {
          "model_module": "@jupyter-widgets/controls",
          "model_name": "HTMLModel",
          "model_module_version": "1.5.0",
          "state": {
            "_view_name": "HTMLView",
            "style": "IPY_MODEL_5a32da1849d342218427326f21a2a2cf",
            "_dom_classes": [],
            "description": "",
            "_model_name": "HTMLModel",
            "placeholder": "​",
            "_view_module": "@jupyter-widgets/controls",
            "_model_module_version": "1.5.0",
            "value": "100%",
            "_view_count": null,
            "_view_module_version": "1.5.0",
            "description_tooltip": null,
            "_model_module": "@jupyter-widgets/controls",
            "layout": "IPY_MODEL_2cd39522365442d59c442bc48fe55fd7"
          }
        },
        "7e031d5e3941427989bd7ee28fa1e76d": {
          "model_module": "@jupyter-widgets/controls",
          "model_name": "FloatProgressModel",
          "model_module_version": "1.5.0",
          "state": {
            "_view_name": "ProgressView",
            "style": "IPY_MODEL_bf2279b8f58a4d9bad0f46ec9b9baf39",
            "_dom_classes": [],
            "description": "",
            "_model_name": "FloatProgressModel",
            "bar_style": "success",
            "max": 123,
            "_view_module": "@jupyter-widgets/controls",
            "_model_module_version": "1.5.0",
            "value": 123,
            "_view_count": null,
            "_view_module_version": "1.5.0",
            "orientation": "horizontal",
            "min": 0,
            "description_tooltip": null,
            "_model_module": "@jupyter-widgets/controls",
            "layout": "IPY_MODEL_0c9e442f7729468ea2d54ebcb4781af4"
          }
        },
        "c54f1a8ed36046a0af897617ebb93e25": {
          "model_module": "@jupyter-widgets/controls",
          "model_name": "HTMLModel",
          "model_module_version": "1.5.0",
          "state": {
            "_view_name": "HTMLView",
            "style": "IPY_MODEL_7f6204b53c044ad0b56b861d61696d0e",
            "_dom_classes": [],
            "description": "",
            "_model_name": "HTMLModel",
            "placeholder": "​",
            "_view_module": "@jupyter-widgets/controls",
            "_model_module_version": "1.5.0",
            "value": " 123/123 [00:08&lt;00:00, 14.90it/s]",
            "_view_count": null,
            "_view_module_version": "1.5.0",
            "description_tooltip": null,
            "_model_module": "@jupyter-widgets/controls",
            "layout": "IPY_MODEL_81aaa91c19fe4862aac64bd33e6839cb"
          }
        },
        "5a32da1849d342218427326f21a2a2cf": {
          "model_module": "@jupyter-widgets/controls",
          "model_name": "DescriptionStyleModel",
          "model_module_version": "1.5.0",
          "state": {
            "_view_name": "StyleView",
            "_model_name": "DescriptionStyleModel",
            "description_width": "",
            "_view_module": "@jupyter-widgets/base",
            "_model_module_version": "1.5.0",
            "_view_count": null,
            "_view_module_version": "1.2.0",
            "_model_module": "@jupyter-widgets/controls"
          }
        },
        "2cd39522365442d59c442bc48fe55fd7": {
          "model_module": "@jupyter-widgets/base",
          "model_name": "LayoutModel",
          "model_module_version": "1.2.0",
          "state": {
            "_view_name": "LayoutView",
            "grid_template_rows": null,
            "right": null,
            "justify_content": null,
            "_view_module": "@jupyter-widgets/base",
            "overflow": null,
            "_model_module_version": "1.2.0",
            "_view_count": null,
            "flex_flow": null,
            "width": null,
            "min_width": null,
            "border": null,
            "align_items": null,
            "bottom": null,
            "_model_module": "@jupyter-widgets/base",
            "top": null,
            "grid_column": null,
            "overflow_y": null,
            "overflow_x": null,
            "grid_auto_flow": null,
            "grid_area": null,
            "grid_template_columns": null,
            "flex": null,
            "_model_name": "LayoutModel",
            "justify_items": null,
            "grid_row": null,
            "max_height": null,
            "align_content": null,
            "visibility": null,
            "align_self": null,
            "height": null,
            "min_height": null,
            "padding": null,
            "grid_auto_rows": null,
            "grid_gap": null,
            "max_width": null,
            "order": null,
            "_view_module_version": "1.2.0",
            "grid_template_areas": null,
            "object_position": null,
            "object_fit": null,
            "grid_auto_columns": null,
            "margin": null,
            "display": null,
            "left": null
          }
        },
        "bf2279b8f58a4d9bad0f46ec9b9baf39": {
          "model_module": "@jupyter-widgets/controls",
          "model_name": "ProgressStyleModel",
          "model_module_version": "1.5.0",
          "state": {
            "_view_name": "StyleView",
            "_model_name": "ProgressStyleModel",
            "description_width": "",
            "_view_module": "@jupyter-widgets/base",
            "_model_module_version": "1.5.0",
            "_view_count": null,
            "_view_module_version": "1.2.0",
            "bar_color": null,
            "_model_module": "@jupyter-widgets/controls"
          }
        },
        "0c9e442f7729468ea2d54ebcb4781af4": {
          "model_module": "@jupyter-widgets/base",
          "model_name": "LayoutModel",
          "model_module_version": "1.2.0",
          "state": {
            "_view_name": "LayoutView",
            "grid_template_rows": null,
            "right": null,
            "justify_content": null,
            "_view_module": "@jupyter-widgets/base",
            "overflow": null,
            "_model_module_version": "1.2.0",
            "_view_count": null,
            "flex_flow": null,
            "width": null,
            "min_width": null,
            "border": null,
            "align_items": null,
            "bottom": null,
            "_model_module": "@jupyter-widgets/base",
            "top": null,
            "grid_column": null,
            "overflow_y": null,
            "overflow_x": null,
            "grid_auto_flow": null,
            "grid_area": null,
            "grid_template_columns": null,
            "flex": null,
            "_model_name": "LayoutModel",
            "justify_items": null,
            "grid_row": null,
            "max_height": null,
            "align_content": null,
            "visibility": null,
            "align_self": null,
            "height": null,
            "min_height": null,
            "padding": null,
            "grid_auto_rows": null,
            "grid_gap": null,
            "max_width": null,
            "order": null,
            "_view_module_version": "1.2.0",
            "grid_template_areas": null,
            "object_position": null,
            "object_fit": null,
            "grid_auto_columns": null,
            "margin": null,
            "display": null,
            "left": null
          }
        },
        "7f6204b53c044ad0b56b861d61696d0e": {
          "model_module": "@jupyter-widgets/controls",
          "model_name": "DescriptionStyleModel",
          "model_module_version": "1.5.0",
          "state": {
            "_view_name": "StyleView",
            "_model_name": "DescriptionStyleModel",
            "description_width": "",
            "_view_module": "@jupyter-widgets/base",
            "_model_module_version": "1.5.0",
            "_view_count": null,
            "_view_module_version": "1.2.0",
            "_model_module": "@jupyter-widgets/controls"
          }
        },
        "81aaa91c19fe4862aac64bd33e6839cb": {
          "model_module": "@jupyter-widgets/base",
          "model_name": "LayoutModel",
          "model_module_version": "1.2.0",
          "state": {
            "_view_name": "LayoutView",
            "grid_template_rows": null,
            "right": null,
            "justify_content": null,
            "_view_module": "@jupyter-widgets/base",
            "overflow": null,
            "_model_module_version": "1.2.0",
            "_view_count": null,
            "flex_flow": null,
            "width": null,
            "min_width": null,
            "border": null,
            "align_items": null,
            "bottom": null,
            "_model_module": "@jupyter-widgets/base",
            "top": null,
            "grid_column": null,
            "overflow_y": null,
            "overflow_x": null,
            "grid_auto_flow": null,
            "grid_area": null,
            "grid_template_columns": null,
            "flex": null,
            "_model_name": "LayoutModel",
            "justify_items": null,
            "grid_row": null,
            "max_height": null,
            "align_content": null,
            "visibility": null,
            "align_self": null,
            "height": null,
            "min_height": null,
            "padding": null,
            "grid_auto_rows": null,
            "grid_gap": null,
            "max_width": null,
            "order": null,
            "_view_module_version": "1.2.0",
            "grid_template_areas": null,
            "object_position": null,
            "object_fit": null,
            "grid_auto_columns": null,
            "margin": null,
            "display": null,
            "left": null
          }
        },
        "0be32b88edd64bdb958c9e8135dd8f85": {
          "model_module": "@jupyter-widgets/controls",
          "model_name": "HBoxModel",
          "model_module_version": "1.5.0",
          "state": {
            "_view_name": "HBoxView",
            "_dom_classes": [],
            "_model_name": "HBoxModel",
            "_view_module": "@jupyter-widgets/controls",
            "_model_module_version": "1.5.0",
            "_view_count": null,
            "_view_module_version": "1.5.0",
            "box_style": "",
            "layout": "IPY_MODEL_d18bd56098c2424385e2bac71f2a8ba0",
            "_model_module": "@jupyter-widgets/controls",
            "children": [
              "IPY_MODEL_73f173097cb04649b2b06204a830d8ba",
              "IPY_MODEL_f34a79d5f1e541888bb98f9d3e59162b",
              "IPY_MODEL_c6e61269e87b447b9d4f4c230737eeb8"
            ]
          }
        },
        "d18bd56098c2424385e2bac71f2a8ba0": {
          "model_module": "@jupyter-widgets/base",
          "model_name": "LayoutModel",
          "model_module_version": "1.2.0",
          "state": {
            "_view_name": "LayoutView",
            "grid_template_rows": null,
            "right": null,
            "justify_content": null,
            "_view_module": "@jupyter-widgets/base",
            "overflow": null,
            "_model_module_version": "1.2.0",
            "_view_count": null,
            "flex_flow": null,
            "width": null,
            "min_width": null,
            "border": null,
            "align_items": null,
            "bottom": null,
            "_model_module": "@jupyter-widgets/base",
            "top": null,
            "grid_column": null,
            "overflow_y": null,
            "overflow_x": null,
            "grid_auto_flow": null,
            "grid_area": null,
            "grid_template_columns": null,
            "flex": null,
            "_model_name": "LayoutModel",
            "justify_items": null,
            "grid_row": null,
            "max_height": null,
            "align_content": null,
            "visibility": null,
            "align_self": null,
            "height": null,
            "min_height": null,
            "padding": null,
            "grid_auto_rows": null,
            "grid_gap": null,
            "max_width": null,
            "order": null,
            "_view_module_version": "1.2.0",
            "grid_template_areas": null,
            "object_position": null,
            "object_fit": null,
            "grid_auto_columns": null,
            "margin": null,
            "display": null,
            "left": null
          }
        },
        "73f173097cb04649b2b06204a830d8ba": {
          "model_module": "@jupyter-widgets/controls",
          "model_name": "HTMLModel",
          "model_module_version": "1.5.0",
          "state": {
            "_view_name": "HTMLView",
            "style": "IPY_MODEL_7f4bc82058a2401fbc8445d56acf3d38",
            "_dom_classes": [],
            "description": "",
            "_model_name": "HTMLModel",
            "placeholder": "​",
            "_view_module": "@jupyter-widgets/controls",
            "_model_module_version": "1.5.0",
            "value": "100%",
            "_view_count": null,
            "_view_module_version": "1.5.0",
            "description_tooltip": null,
            "_model_module": "@jupyter-widgets/controls",
            "layout": "IPY_MODEL_9002c2393c1142058193321cfa475989"
          }
        },
        "f34a79d5f1e541888bb98f9d3e59162b": {
          "model_module": "@jupyter-widgets/controls",
          "model_name": "FloatProgressModel",
          "model_module_version": "1.5.0",
          "state": {
            "_view_name": "ProgressView",
            "style": "IPY_MODEL_5ca053b5d655477e94e4c897868f8005",
            "_dom_classes": [],
            "description": "",
            "_model_name": "FloatProgressModel",
            "bar_style": "success",
            "max": 123,
            "_view_module": "@jupyter-widgets/controls",
            "_model_module_version": "1.5.0",
            "value": 123,
            "_view_count": null,
            "_view_module_version": "1.5.0",
            "orientation": "horizontal",
            "min": 0,
            "description_tooltip": null,
            "_model_module": "@jupyter-widgets/controls",
            "layout": "IPY_MODEL_6fdb87bc6cf545a5b27b3d6272e4a281"
          }
        },
        "c6e61269e87b447b9d4f4c230737eeb8": {
          "model_module": "@jupyter-widgets/controls",
          "model_name": "HTMLModel",
          "model_module_version": "1.5.0",
          "state": {
            "_view_name": "HTMLView",
            "style": "IPY_MODEL_d7f02cf6f6214e4b9cd193bdc840f280",
            "_dom_classes": [],
            "description": "",
            "_model_name": "HTMLModel",
            "placeholder": "​",
            "_view_module": "@jupyter-widgets/controls",
            "_model_module_version": "1.5.0",
            "value": " 123/123 [00:08&lt;00:00, 15.06it/s]",
            "_view_count": null,
            "_view_module_version": "1.5.0",
            "description_tooltip": null,
            "_model_module": "@jupyter-widgets/controls",
            "layout": "IPY_MODEL_ae7de9dcdb5f42e2beaca5f1ad1d9315"
          }
        },
        "7f4bc82058a2401fbc8445d56acf3d38": {
          "model_module": "@jupyter-widgets/controls",
          "model_name": "DescriptionStyleModel",
          "model_module_version": "1.5.0",
          "state": {
            "_view_name": "StyleView",
            "_model_name": "DescriptionStyleModel",
            "description_width": "",
            "_view_module": "@jupyter-widgets/base",
            "_model_module_version": "1.5.0",
            "_view_count": null,
            "_view_module_version": "1.2.0",
            "_model_module": "@jupyter-widgets/controls"
          }
        },
        "9002c2393c1142058193321cfa475989": {
          "model_module": "@jupyter-widgets/base",
          "model_name": "LayoutModel",
          "model_module_version": "1.2.0",
          "state": {
            "_view_name": "LayoutView",
            "grid_template_rows": null,
            "right": null,
            "justify_content": null,
            "_view_module": "@jupyter-widgets/base",
            "overflow": null,
            "_model_module_version": "1.2.0",
            "_view_count": null,
            "flex_flow": null,
            "width": null,
            "min_width": null,
            "border": null,
            "align_items": null,
            "bottom": null,
            "_model_module": "@jupyter-widgets/base",
            "top": null,
            "grid_column": null,
            "overflow_y": null,
            "overflow_x": null,
            "grid_auto_flow": null,
            "grid_area": null,
            "grid_template_columns": null,
            "flex": null,
            "_model_name": "LayoutModel",
            "justify_items": null,
            "grid_row": null,
            "max_height": null,
            "align_content": null,
            "visibility": null,
            "align_self": null,
            "height": null,
            "min_height": null,
            "padding": null,
            "grid_auto_rows": null,
            "grid_gap": null,
            "max_width": null,
            "order": null,
            "_view_module_version": "1.2.0",
            "grid_template_areas": null,
            "object_position": null,
            "object_fit": null,
            "grid_auto_columns": null,
            "margin": null,
            "display": null,
            "left": null
          }
        },
        "5ca053b5d655477e94e4c897868f8005": {
          "model_module": "@jupyter-widgets/controls",
          "model_name": "ProgressStyleModel",
          "model_module_version": "1.5.0",
          "state": {
            "_view_name": "StyleView",
            "_model_name": "ProgressStyleModel",
            "description_width": "",
            "_view_module": "@jupyter-widgets/base",
            "_model_module_version": "1.5.0",
            "_view_count": null,
            "_view_module_version": "1.2.0",
            "bar_color": null,
            "_model_module": "@jupyter-widgets/controls"
          }
        },
        "6fdb87bc6cf545a5b27b3d6272e4a281": {
          "model_module": "@jupyter-widgets/base",
          "model_name": "LayoutModel",
          "model_module_version": "1.2.0",
          "state": {
            "_view_name": "LayoutView",
            "grid_template_rows": null,
            "right": null,
            "justify_content": null,
            "_view_module": "@jupyter-widgets/base",
            "overflow": null,
            "_model_module_version": "1.2.0",
            "_view_count": null,
            "flex_flow": null,
            "width": null,
            "min_width": null,
            "border": null,
            "align_items": null,
            "bottom": null,
            "_model_module": "@jupyter-widgets/base",
            "top": null,
            "grid_column": null,
            "overflow_y": null,
            "overflow_x": null,
            "grid_auto_flow": null,
            "grid_area": null,
            "grid_template_columns": null,
            "flex": null,
            "_model_name": "LayoutModel",
            "justify_items": null,
            "grid_row": null,
            "max_height": null,
            "align_content": null,
            "visibility": null,
            "align_self": null,
            "height": null,
            "min_height": null,
            "padding": null,
            "grid_auto_rows": null,
            "grid_gap": null,
            "max_width": null,
            "order": null,
            "_view_module_version": "1.2.0",
            "grid_template_areas": null,
            "object_position": null,
            "object_fit": null,
            "grid_auto_columns": null,
            "margin": null,
            "display": null,
            "left": null
          }
        },
        "d7f02cf6f6214e4b9cd193bdc840f280": {
          "model_module": "@jupyter-widgets/controls",
          "model_name": "DescriptionStyleModel",
          "model_module_version": "1.5.0",
          "state": {
            "_view_name": "StyleView",
            "_model_name": "DescriptionStyleModel",
            "description_width": "",
            "_view_module": "@jupyter-widgets/base",
            "_model_module_version": "1.5.0",
            "_view_count": null,
            "_view_module_version": "1.2.0",
            "_model_module": "@jupyter-widgets/controls"
          }
        },
        "ae7de9dcdb5f42e2beaca5f1ad1d9315": {
          "model_module": "@jupyter-widgets/base",
          "model_name": "LayoutModel",
          "model_module_version": "1.2.0",
          "state": {
            "_view_name": "LayoutView",
            "grid_template_rows": null,
            "right": null,
            "justify_content": null,
            "_view_module": "@jupyter-widgets/base",
            "overflow": null,
            "_model_module_version": "1.2.0",
            "_view_count": null,
            "flex_flow": null,
            "width": null,
            "min_width": null,
            "border": null,
            "align_items": null,
            "bottom": null,
            "_model_module": "@jupyter-widgets/base",
            "top": null,
            "grid_column": null,
            "overflow_y": null,
            "overflow_x": null,
            "grid_auto_flow": null,
            "grid_area": null,
            "grid_template_columns": null,
            "flex": null,
            "_model_name": "LayoutModel",
            "justify_items": null,
            "grid_row": null,
            "max_height": null,
            "align_content": null,
            "visibility": null,
            "align_self": null,
            "height": null,
            "min_height": null,
            "padding": null,
            "grid_auto_rows": null,
            "grid_gap": null,
            "max_width": null,
            "order": null,
            "_view_module_version": "1.2.0",
            "grid_template_areas": null,
            "object_position": null,
            "object_fit": null,
            "grid_auto_columns": null,
            "margin": null,
            "display": null,
            "left": null
          }
        },
        "c119e949d0d14a96b76e54487d9e95d2": {
          "model_module": "@jupyter-widgets/controls",
          "model_name": "HBoxModel",
          "model_module_version": "1.5.0",
          "state": {
            "_view_name": "HBoxView",
            "_dom_classes": [],
            "_model_name": "HBoxModel",
            "_view_module": "@jupyter-widgets/controls",
            "_model_module_version": "1.5.0",
            "_view_count": null,
            "_view_module_version": "1.5.0",
            "box_style": "",
            "layout": "IPY_MODEL_f11a3d31484b42e78a4672aef4865427",
            "_model_module": "@jupyter-widgets/controls",
            "children": [
              "IPY_MODEL_e287c882008c4f249306d658297f1288",
              "IPY_MODEL_2d3354cf3cbf45148d1531df57d47fc8",
              "IPY_MODEL_7324238f9da1415a9075f80490c488e0"
            ]
          }
        },
        "f11a3d31484b42e78a4672aef4865427": {
          "model_module": "@jupyter-widgets/base",
          "model_name": "LayoutModel",
          "model_module_version": "1.2.0",
          "state": {
            "_view_name": "LayoutView",
            "grid_template_rows": null,
            "right": null,
            "justify_content": null,
            "_view_module": "@jupyter-widgets/base",
            "overflow": null,
            "_model_module_version": "1.2.0",
            "_view_count": null,
            "flex_flow": null,
            "width": null,
            "min_width": null,
            "border": null,
            "align_items": null,
            "bottom": null,
            "_model_module": "@jupyter-widgets/base",
            "top": null,
            "grid_column": null,
            "overflow_y": null,
            "overflow_x": null,
            "grid_auto_flow": null,
            "grid_area": null,
            "grid_template_columns": null,
            "flex": null,
            "_model_name": "LayoutModel",
            "justify_items": null,
            "grid_row": null,
            "max_height": null,
            "align_content": null,
            "visibility": null,
            "align_self": null,
            "height": null,
            "min_height": null,
            "padding": null,
            "grid_auto_rows": null,
            "grid_gap": null,
            "max_width": null,
            "order": null,
            "_view_module_version": "1.2.0",
            "grid_template_areas": null,
            "object_position": null,
            "object_fit": null,
            "grid_auto_columns": null,
            "margin": null,
            "display": null,
            "left": null
          }
        },
        "e287c882008c4f249306d658297f1288": {
          "model_module": "@jupyter-widgets/controls",
          "model_name": "HTMLModel",
          "model_module_version": "1.5.0",
          "state": {
            "_view_name": "HTMLView",
            "style": "IPY_MODEL_7287d029e47f4d49a919433c3a69969a",
            "_dom_classes": [],
            "description": "",
            "_model_name": "HTMLModel",
            "placeholder": "​",
            "_view_module": "@jupyter-widgets/controls",
            "_model_module_version": "1.5.0",
            "value": "100%",
            "_view_count": null,
            "_view_module_version": "1.5.0",
            "description_tooltip": null,
            "_model_module": "@jupyter-widgets/controls",
            "layout": "IPY_MODEL_b1e6e1601f7a45f4b714fed59771c4da"
          }
        },
        "2d3354cf3cbf45148d1531df57d47fc8": {
          "model_module": "@jupyter-widgets/controls",
          "model_name": "FloatProgressModel",
          "model_module_version": "1.5.0",
          "state": {
            "_view_name": "ProgressView",
            "style": "IPY_MODEL_e6ea1cc223354041b33a96825d824756",
            "_dom_classes": [],
            "description": "",
            "_model_name": "FloatProgressModel",
            "bar_style": "success",
            "max": 123,
            "_view_module": "@jupyter-widgets/controls",
            "_model_module_version": "1.5.0",
            "value": 123,
            "_view_count": null,
            "_view_module_version": "1.5.0",
            "orientation": "horizontal",
            "min": 0,
            "description_tooltip": null,
            "_model_module": "@jupyter-widgets/controls",
            "layout": "IPY_MODEL_41d748201946435cb576cbfe266d76bc"
          }
        },
        "7324238f9da1415a9075f80490c488e0": {
          "model_module": "@jupyter-widgets/controls",
          "model_name": "HTMLModel",
          "model_module_version": "1.5.0",
          "state": {
            "_view_name": "HTMLView",
            "style": "IPY_MODEL_66d145119aff41edae924f6c5757183a",
            "_dom_classes": [],
            "description": "",
            "_model_name": "HTMLModel",
            "placeholder": "​",
            "_view_module": "@jupyter-widgets/controls",
            "_model_module_version": "1.5.0",
            "value": " 123/123 [00:08&lt;00:00, 15.12it/s]",
            "_view_count": null,
            "_view_module_version": "1.5.0",
            "description_tooltip": null,
            "_model_module": "@jupyter-widgets/controls",
            "layout": "IPY_MODEL_efaf237e1b3543e8bbecd69eae076c64"
          }
        },
        "7287d029e47f4d49a919433c3a69969a": {
          "model_module": "@jupyter-widgets/controls",
          "model_name": "DescriptionStyleModel",
          "model_module_version": "1.5.0",
          "state": {
            "_view_name": "StyleView",
            "_model_name": "DescriptionStyleModel",
            "description_width": "",
            "_view_module": "@jupyter-widgets/base",
            "_model_module_version": "1.5.0",
            "_view_count": null,
            "_view_module_version": "1.2.0",
            "_model_module": "@jupyter-widgets/controls"
          }
        },
        "b1e6e1601f7a45f4b714fed59771c4da": {
          "model_module": "@jupyter-widgets/base",
          "model_name": "LayoutModel",
          "model_module_version": "1.2.0",
          "state": {
            "_view_name": "LayoutView",
            "grid_template_rows": null,
            "right": null,
            "justify_content": null,
            "_view_module": "@jupyter-widgets/base",
            "overflow": null,
            "_model_module_version": "1.2.0",
            "_view_count": null,
            "flex_flow": null,
            "width": null,
            "min_width": null,
            "border": null,
            "align_items": null,
            "bottom": null,
            "_model_module": "@jupyter-widgets/base",
            "top": null,
            "grid_column": null,
            "overflow_y": null,
            "overflow_x": null,
            "grid_auto_flow": null,
            "grid_area": null,
            "grid_template_columns": null,
            "flex": null,
            "_model_name": "LayoutModel",
            "justify_items": null,
            "grid_row": null,
            "max_height": null,
            "align_content": null,
            "visibility": null,
            "align_self": null,
            "height": null,
            "min_height": null,
            "padding": null,
            "grid_auto_rows": null,
            "grid_gap": null,
            "max_width": null,
            "order": null,
            "_view_module_version": "1.2.0",
            "grid_template_areas": null,
            "object_position": null,
            "object_fit": null,
            "grid_auto_columns": null,
            "margin": null,
            "display": null,
            "left": null
          }
        },
        "e6ea1cc223354041b33a96825d824756": {
          "model_module": "@jupyter-widgets/controls",
          "model_name": "ProgressStyleModel",
          "model_module_version": "1.5.0",
          "state": {
            "_view_name": "StyleView",
            "_model_name": "ProgressStyleModel",
            "description_width": "",
            "_view_module": "@jupyter-widgets/base",
            "_model_module_version": "1.5.0",
            "_view_count": null,
            "_view_module_version": "1.2.0",
            "bar_color": null,
            "_model_module": "@jupyter-widgets/controls"
          }
        },
        "41d748201946435cb576cbfe266d76bc": {
          "model_module": "@jupyter-widgets/base",
          "model_name": "LayoutModel",
          "model_module_version": "1.2.0",
          "state": {
            "_view_name": "LayoutView",
            "grid_template_rows": null,
            "right": null,
            "justify_content": null,
            "_view_module": "@jupyter-widgets/base",
            "overflow": null,
            "_model_module_version": "1.2.0",
            "_view_count": null,
            "flex_flow": null,
            "width": null,
            "min_width": null,
            "border": null,
            "align_items": null,
            "bottom": null,
            "_model_module": "@jupyter-widgets/base",
            "top": null,
            "grid_column": null,
            "overflow_y": null,
            "overflow_x": null,
            "grid_auto_flow": null,
            "grid_area": null,
            "grid_template_columns": null,
            "flex": null,
            "_model_name": "LayoutModel",
            "justify_items": null,
            "grid_row": null,
            "max_height": null,
            "align_content": null,
            "visibility": null,
            "align_self": null,
            "height": null,
            "min_height": null,
            "padding": null,
            "grid_auto_rows": null,
            "grid_gap": null,
            "max_width": null,
            "order": null,
            "_view_module_version": "1.2.0",
            "grid_template_areas": null,
            "object_position": null,
            "object_fit": null,
            "grid_auto_columns": null,
            "margin": null,
            "display": null,
            "left": null
          }
        },
        "66d145119aff41edae924f6c5757183a": {
          "model_module": "@jupyter-widgets/controls",
          "model_name": "DescriptionStyleModel",
          "model_module_version": "1.5.0",
          "state": {
            "_view_name": "StyleView",
            "_model_name": "DescriptionStyleModel",
            "description_width": "",
            "_view_module": "@jupyter-widgets/base",
            "_model_module_version": "1.5.0",
            "_view_count": null,
            "_view_module_version": "1.2.0",
            "_model_module": "@jupyter-widgets/controls"
          }
        },
        "efaf237e1b3543e8bbecd69eae076c64": {
          "model_module": "@jupyter-widgets/base",
          "model_name": "LayoutModel",
          "model_module_version": "1.2.0",
          "state": {
            "_view_name": "LayoutView",
            "grid_template_rows": null,
            "right": null,
            "justify_content": null,
            "_view_module": "@jupyter-widgets/base",
            "overflow": null,
            "_model_module_version": "1.2.0",
            "_view_count": null,
            "flex_flow": null,
            "width": null,
            "min_width": null,
            "border": null,
            "align_items": null,
            "bottom": null,
            "_model_module": "@jupyter-widgets/base",
            "top": null,
            "grid_column": null,
            "overflow_y": null,
            "overflow_x": null,
            "grid_auto_flow": null,
            "grid_area": null,
            "grid_template_columns": null,
            "flex": null,
            "_model_name": "LayoutModel",
            "justify_items": null,
            "grid_row": null,
            "max_height": null,
            "align_content": null,
            "visibility": null,
            "align_self": null,
            "height": null,
            "min_height": null,
            "padding": null,
            "grid_auto_rows": null,
            "grid_gap": null,
            "max_width": null,
            "order": null,
            "_view_module_version": "1.2.0",
            "grid_template_areas": null,
            "object_position": null,
            "object_fit": null,
            "grid_auto_columns": null,
            "margin": null,
            "display": null,
            "left": null
          }
        },
        "3916a71aa9424fe9b9183e155eb88e7a": {
          "model_module": "@jupyter-widgets/controls",
          "model_name": "HBoxModel",
          "model_module_version": "1.5.0",
          "state": {
            "_view_name": "HBoxView",
            "_dom_classes": [],
            "_model_name": "HBoxModel",
            "_view_module": "@jupyter-widgets/controls",
            "_model_module_version": "1.5.0",
            "_view_count": null,
            "_view_module_version": "1.5.0",
            "box_style": "",
            "layout": "IPY_MODEL_f9231a3eaef54ca0952d0b137490fadc",
            "_model_module": "@jupyter-widgets/controls",
            "children": [
              "IPY_MODEL_7ce4ad4855c044bf919e180898f6b4a6",
              "IPY_MODEL_e87ac3ba21d043bf8d09c9d4856abebf",
              "IPY_MODEL_238225c2d3df4071b07411feda626ca8"
            ]
          }
        },
        "f9231a3eaef54ca0952d0b137490fadc": {
          "model_module": "@jupyter-widgets/base",
          "model_name": "LayoutModel",
          "model_module_version": "1.2.0",
          "state": {
            "_view_name": "LayoutView",
            "grid_template_rows": null,
            "right": null,
            "justify_content": null,
            "_view_module": "@jupyter-widgets/base",
            "overflow": null,
            "_model_module_version": "1.2.0",
            "_view_count": null,
            "flex_flow": null,
            "width": null,
            "min_width": null,
            "border": null,
            "align_items": null,
            "bottom": null,
            "_model_module": "@jupyter-widgets/base",
            "top": null,
            "grid_column": null,
            "overflow_y": null,
            "overflow_x": null,
            "grid_auto_flow": null,
            "grid_area": null,
            "grid_template_columns": null,
            "flex": null,
            "_model_name": "LayoutModel",
            "justify_items": null,
            "grid_row": null,
            "max_height": null,
            "align_content": null,
            "visibility": null,
            "align_self": null,
            "height": null,
            "min_height": null,
            "padding": null,
            "grid_auto_rows": null,
            "grid_gap": null,
            "max_width": null,
            "order": null,
            "_view_module_version": "1.2.0",
            "grid_template_areas": null,
            "object_position": null,
            "object_fit": null,
            "grid_auto_columns": null,
            "margin": null,
            "display": null,
            "left": null
          }
        },
        "7ce4ad4855c044bf919e180898f6b4a6": {
          "model_module": "@jupyter-widgets/controls",
          "model_name": "HTMLModel",
          "model_module_version": "1.5.0",
          "state": {
            "_view_name": "HTMLView",
            "style": "IPY_MODEL_d82039c86ae849299c3a6f650445376c",
            "_dom_classes": [],
            "description": "",
            "_model_name": "HTMLModel",
            "placeholder": "​",
            "_view_module": "@jupyter-widgets/controls",
            "_model_module_version": "1.5.0",
            "value": "100%",
            "_view_count": null,
            "_view_module_version": "1.5.0",
            "description_tooltip": null,
            "_model_module": "@jupyter-widgets/controls",
            "layout": "IPY_MODEL_ff448c5b74a245b995b4ffe824a7155a"
          }
        },
        "e87ac3ba21d043bf8d09c9d4856abebf": {
          "model_module": "@jupyter-widgets/controls",
          "model_name": "FloatProgressModel",
          "model_module_version": "1.5.0",
          "state": {
            "_view_name": "ProgressView",
            "style": "IPY_MODEL_5234513d7dfe49469b754e30c7e4a25e",
            "_dom_classes": [],
            "description": "",
            "_model_name": "FloatProgressModel",
            "bar_style": "success",
            "max": 123,
            "_view_module": "@jupyter-widgets/controls",
            "_model_module_version": "1.5.0",
            "value": 123,
            "_view_count": null,
            "_view_module_version": "1.5.0",
            "orientation": "horizontal",
            "min": 0,
            "description_tooltip": null,
            "_model_module": "@jupyter-widgets/controls",
            "layout": "IPY_MODEL_b915f600199b4d21bc632ddace792c97"
          }
        },
        "238225c2d3df4071b07411feda626ca8": {
          "model_module": "@jupyter-widgets/controls",
          "model_name": "HTMLModel",
          "model_module_version": "1.5.0",
          "state": {
            "_view_name": "HTMLView",
            "style": "IPY_MODEL_45560cd053f147e099139e8dc73cb29b",
            "_dom_classes": [],
            "description": "",
            "_model_name": "HTMLModel",
            "placeholder": "​",
            "_view_module": "@jupyter-widgets/controls",
            "_model_module_version": "1.5.0",
            "value": " 123/123 [00:08&lt;00:00, 15.50it/s]",
            "_view_count": null,
            "_view_module_version": "1.5.0",
            "description_tooltip": null,
            "_model_module": "@jupyter-widgets/controls",
            "layout": "IPY_MODEL_489cc28e37f8427eace34f3880083b6b"
          }
        },
        "d82039c86ae849299c3a6f650445376c": {
          "model_module": "@jupyter-widgets/controls",
          "model_name": "DescriptionStyleModel",
          "model_module_version": "1.5.0",
          "state": {
            "_view_name": "StyleView",
            "_model_name": "DescriptionStyleModel",
            "description_width": "",
            "_view_module": "@jupyter-widgets/base",
            "_model_module_version": "1.5.0",
            "_view_count": null,
            "_view_module_version": "1.2.0",
            "_model_module": "@jupyter-widgets/controls"
          }
        },
        "ff448c5b74a245b995b4ffe824a7155a": {
          "model_module": "@jupyter-widgets/base",
          "model_name": "LayoutModel",
          "model_module_version": "1.2.0",
          "state": {
            "_view_name": "LayoutView",
            "grid_template_rows": null,
            "right": null,
            "justify_content": null,
            "_view_module": "@jupyter-widgets/base",
            "overflow": null,
            "_model_module_version": "1.2.0",
            "_view_count": null,
            "flex_flow": null,
            "width": null,
            "min_width": null,
            "border": null,
            "align_items": null,
            "bottom": null,
            "_model_module": "@jupyter-widgets/base",
            "top": null,
            "grid_column": null,
            "overflow_y": null,
            "overflow_x": null,
            "grid_auto_flow": null,
            "grid_area": null,
            "grid_template_columns": null,
            "flex": null,
            "_model_name": "LayoutModel",
            "justify_items": null,
            "grid_row": null,
            "max_height": null,
            "align_content": null,
            "visibility": null,
            "align_self": null,
            "height": null,
            "min_height": null,
            "padding": null,
            "grid_auto_rows": null,
            "grid_gap": null,
            "max_width": null,
            "order": null,
            "_view_module_version": "1.2.0",
            "grid_template_areas": null,
            "object_position": null,
            "object_fit": null,
            "grid_auto_columns": null,
            "margin": null,
            "display": null,
            "left": null
          }
        },
        "5234513d7dfe49469b754e30c7e4a25e": {
          "model_module": "@jupyter-widgets/controls",
          "model_name": "ProgressStyleModel",
          "model_module_version": "1.5.0",
          "state": {
            "_view_name": "StyleView",
            "_model_name": "ProgressStyleModel",
            "description_width": "",
            "_view_module": "@jupyter-widgets/base",
            "_model_module_version": "1.5.0",
            "_view_count": null,
            "_view_module_version": "1.2.0",
            "bar_color": null,
            "_model_module": "@jupyter-widgets/controls"
          }
        },
        "b915f600199b4d21bc632ddace792c97": {
          "model_module": "@jupyter-widgets/base",
          "model_name": "LayoutModel",
          "model_module_version": "1.2.0",
          "state": {
            "_view_name": "LayoutView",
            "grid_template_rows": null,
            "right": null,
            "justify_content": null,
            "_view_module": "@jupyter-widgets/base",
            "overflow": null,
            "_model_module_version": "1.2.0",
            "_view_count": null,
            "flex_flow": null,
            "width": null,
            "min_width": null,
            "border": null,
            "align_items": null,
            "bottom": null,
            "_model_module": "@jupyter-widgets/base",
            "top": null,
            "grid_column": null,
            "overflow_y": null,
            "overflow_x": null,
            "grid_auto_flow": null,
            "grid_area": null,
            "grid_template_columns": null,
            "flex": null,
            "_model_name": "LayoutModel",
            "justify_items": null,
            "grid_row": null,
            "max_height": null,
            "align_content": null,
            "visibility": null,
            "align_self": null,
            "height": null,
            "min_height": null,
            "padding": null,
            "grid_auto_rows": null,
            "grid_gap": null,
            "max_width": null,
            "order": null,
            "_view_module_version": "1.2.0",
            "grid_template_areas": null,
            "object_position": null,
            "object_fit": null,
            "grid_auto_columns": null,
            "margin": null,
            "display": null,
            "left": null
          }
        },
        "45560cd053f147e099139e8dc73cb29b": {
          "model_module": "@jupyter-widgets/controls",
          "model_name": "DescriptionStyleModel",
          "model_module_version": "1.5.0",
          "state": {
            "_view_name": "StyleView",
            "_model_name": "DescriptionStyleModel",
            "description_width": "",
            "_view_module": "@jupyter-widgets/base",
            "_model_module_version": "1.5.0",
            "_view_count": null,
            "_view_module_version": "1.2.0",
            "_model_module": "@jupyter-widgets/controls"
          }
        },
        "489cc28e37f8427eace34f3880083b6b": {
          "model_module": "@jupyter-widgets/base",
          "model_name": "LayoutModel",
          "model_module_version": "1.2.0",
          "state": {
            "_view_name": "LayoutView",
            "grid_template_rows": null,
            "right": null,
            "justify_content": null,
            "_view_module": "@jupyter-widgets/base",
            "overflow": null,
            "_model_module_version": "1.2.0",
            "_view_count": null,
            "flex_flow": null,
            "width": null,
            "min_width": null,
            "border": null,
            "align_items": null,
            "bottom": null,
            "_model_module": "@jupyter-widgets/base",
            "top": null,
            "grid_column": null,
            "overflow_y": null,
            "overflow_x": null,
            "grid_auto_flow": null,
            "grid_area": null,
            "grid_template_columns": null,
            "flex": null,
            "_model_name": "LayoutModel",
            "justify_items": null,
            "grid_row": null,
            "max_height": null,
            "align_content": null,
            "visibility": null,
            "align_self": null,
            "height": null,
            "min_height": null,
            "padding": null,
            "grid_auto_rows": null,
            "grid_gap": null,
            "max_width": null,
            "order": null,
            "_view_module_version": "1.2.0",
            "grid_template_areas": null,
            "object_position": null,
            "object_fit": null,
            "grid_auto_columns": null,
            "margin": null,
            "display": null,
            "left": null
          }
        }
      }
    }
  },
  "cells": [
    {
      "cell_type": "markdown",
      "metadata": {
        "id": "view-in-github",
        "colab_type": "text"
      },
      "source": [
        "<a href=\"https://colab.research.google.com/github/wizard339/NLP_MISIS/blob/main/final_projects/final_task_solved_2.ipynb\" target=\"_parent\"><img src=\"https://colab.research.google.com/assets/colab-badge.svg\" alt=\"Open In Colab\"/></a>"
      ]
    },
    {
      "cell_type": "markdown",
      "metadata": {
        "id": "x1Mv0JDWC40r"
      },
      "source": [
        "# Финальное задание NLP-2. Рекуррентные нейронные сети"
      ]
    },
    {
      "cell_type": "markdown",
      "metadata": {
        "id": "b3ltcjtlDH0u"
      },
      "source": [
        "Теперь вы можете самостоятельно написать рекуррентную нейронную сеть для задачи NER, решающую задачу с достаточно высоким качеством.\n",
        "\n",
        "В рамках этого задания вы отработаете навыки:\n",
        "\n",
        "*   Построения словаря слов\n",
        "*   Загрузки предобученных весов и использовании их для построения корпуса текста\n",
        "*   Написания двунаправленной рекуррентной нейронной сети"
      ]
    },
    {
      "cell_type": "markdown",
      "metadata": {
        "id": "ykCjn2mmEkPO"
      },
      "source": [
        "## Установка зависимостей"
      ]
    },
    {
      "cell_type": "markdown",
      "metadata": {
        "id": "0jTSelJVEqKN"
      },
      "source": [
        "Тут есть важное действие, которое тебе нужно сделать перед тем, как запускать этот ноутбук.\n",
        "\n",
        "Если вы делаете это задание в Google Colab, первым делом переключите Runtime в GPU. Это задание нормально посчитается и на CPU, но некоторые из будущих кейсов потребуют GPU (либо вам придётся несколько часов, или даже дней, чтобы модель обучилась — и мы не преувеличиваем). Ещё мы рекомендуем переключить язык интерфейса Colab на английский, потому что русская локализация ужасна, да и вообще не нужна."
      ]
    },
    {
      "cell_type": "markdown",
      "metadata": {
        "id": "Lq6uWFuZEzQb"
      },
      "source": [
        "[Тут](https://www.geeksforgeeks.org/how-to-use-google-colab/) о том, как переключить рантайм."
      ]
    },
    {
      "cell_type": "markdown",
      "metadata": {
        "id": "9SgpHMQwE2kB"
      },
      "source": [
        "Как обычно, установим недостающие библиотеки:"
      ]
    },
    {
      "cell_type": "code",
      "metadata": {
        "id": "Vd-IotO4I0tk"
      },
      "source": [
        "!pip install datasets > /dev/null\n",
        "!pip install fasttext > /dev/null"
      ],
      "execution_count": 1,
      "outputs": []
    },
    {
      "cell_type": "code",
      "metadata": {
        "id": "DJ3hL-f9I0l9"
      },
      "source": [
        "import pytest\n",
        "from datasets import load_dataset\n",
        "import torch\n",
        "import pandas as pd\n",
        "import numpy as np\n",
        "import torch.nn as nn\n",
        "from torch import LongTensor, FloatTensor\n",
        "from torch.nn import functional as F\n",
        "from typing import List, Dict, Tuple, Optional, Union\n",
        "from torch.utils.data import Dataset\n",
        "from torch.optim import Adam\n",
        "import time\n",
        "from tqdm import tqdm\n",
        "\n",
        "from collections import Counter"
      ],
      "execution_count": 2,
      "outputs": []
    },
    {
      "cell_type": "markdown",
      "metadata": {
        "id": "zeXuowJXYHDZ"
      },
      "source": [
        "## Векторное представление слов"
      ]
    },
    {
      "cell_type": "markdown",
      "metadata": {
        "id": "pattZfxhFGB_"
      },
      "source": [
        "В прошлом модуле вы познакомились с представлением слова как векторов. \n",
        "В этом задании мы будем использовать веса из библиотеки Fasttext."
      ]
    },
    {
      "cell_type": "markdown",
      "metadata": {
        "id": "kCbEs8OuFglx"
      },
      "source": [
        "В качестве данных для задачи NER будем использовать уже рассмотренный нами ранее датасет conll2003, содержащий сущности 4ех разных классов — личности, организации, места и национальности."
      ]
    },
    {
      "cell_type": "code",
      "metadata": {
        "id": "TDZ1Piz4I0XU",
        "colab": {
          "base_uri": "https://localhost:8080/",
          "height": 87,
          "referenced_widgets": [
            "1aee0a0b65c34782b1ed169789b43732",
            "dab81c1bb9a1415ab5a9989e4ae7489b",
            "afafb19dd0e145cf99b66b5119738db1",
            "680fc2c8d02246ed93a5ef3f37c6a50c",
            "a9e5935325fc4dfb9004952dd9494b71",
            "7300f379e26a43a0a2ea0a7cd57afddc",
            "d107f5977213476db30f97386a931fa2",
            "37333a51f697441f8e472095fed8209f",
            "ea883172f7694f5faa0d8c75d6c9fb1b",
            "742b6cbd8c184f2f9f08caa8fee24013",
            "b398f15bd0204c59a9be58021d5d6f9f"
          ]
        },
        "outputId": "9fdb6aa8-db6d-4e54-83e8-5c9f27012f0e"
      },
      "source": [
        "dataset_base = load_dataset(\"conll2003\")"
      ],
      "execution_count": 3,
      "outputs": [
        {
          "output_type": "stream",
          "name": "stderr",
          "text": [
            "Reusing dataset conll2003 (/root/.cache/huggingface/datasets/conll2003/conll2003/1.0.0/40e7cb6bcc374f7c349c83acd1e9352a4f09474eb691f64f364ee62eb65d0ca6)\n"
          ]
        },
        {
          "output_type": "display_data",
          "data": {
            "application/vnd.jupyter.widget-view+json": {
              "model_id": "1aee0a0b65c34782b1ed169789b43732",
              "version_minor": 0,
              "version_major": 2
            },
            "text/plain": [
              "  0%|          | 0/3 [00:00<?, ?it/s]"
            ]
          },
          "metadata": {}
        }
      ]
    },
    {
      "cell_type": "code",
      "metadata": {
        "colab": {
          "base_uri": "https://localhost:8080/"
        },
        "id": "aUDWw7mZI76R",
        "outputId": "9d2bfddf-5882-47d6-d6e6-aaa14e2d03cd"
      },
      "source": [
        "dataset_base['train']"
      ],
      "execution_count": 4,
      "outputs": [
        {
          "output_type": "execute_result",
          "data": {
            "text/plain": [
              "Dataset({\n",
              "    features: ['id', 'tokens', 'pos_tags', 'chunk_tags', 'ner_tags'],\n",
              "    num_rows: 14041\n",
              "})"
            ]
          },
          "metadata": {},
          "execution_count": 4
        }
      ]
    },
    {
      "cell_type": "code",
      "metadata": {
        "colab": {
          "base_uri": "https://localhost:8080/"
        },
        "id": "hh6_vs8F_jtY",
        "outputId": "6b51a7e1-06b0-406d-eb46-9e6b72e0781d"
      },
      "source": [
        "dataset_base"
      ],
      "execution_count": 5,
      "outputs": [
        {
          "output_type": "execute_result",
          "data": {
            "text/plain": [
              "DatasetDict({\n",
              "    train: Dataset({\n",
              "        features: ['id', 'tokens', 'pos_tags', 'chunk_tags', 'ner_tags'],\n",
              "        num_rows: 14041\n",
              "    })\n",
              "    validation: Dataset({\n",
              "        features: ['id', 'tokens', 'pos_tags', 'chunk_tags', 'ner_tags'],\n",
              "        num_rows: 3250\n",
              "    })\n",
              "    test: Dataset({\n",
              "        features: ['id', 'tokens', 'pos_tags', 'chunk_tags', 'ner_tags'],\n",
              "        num_rows: 3453\n",
              "    })\n",
              "})"
            ]
          },
          "metadata": {},
          "execution_count": 5
        }
      ]
    },
    {
      "cell_type": "markdown",
      "metadata": {
        "id": "5L6Noa0THw48"
      },
      "source": [
        "Загрузим веса модели (это может занять примерно 25 минут, веса весят 6GB)."
      ]
    },
    {
      "cell_type": "code",
      "metadata": {
        "id": "KsPu9uW2Gd1d"
      },
      "source": [
        "import fasttext.util\n",
        "# fasttext.util.download_model('en', if_exists='ignore')  # English"
      ],
      "execution_count": 6,
      "outputs": []
    },
    {
      "cell_type": "markdown",
      "metadata": {
        "id": "c_r6rXkHOTbj"
      },
      "source": [
        "Загрузите fasttext модель cc.en.300.bin:"
      ]
    },
    {
      "cell_type": "code",
      "metadata": {
        "id": "n5rrH0VYOkIb",
        "colab": {
          "base_uri": "https://localhost:8080/"
        },
        "outputId": "ef0e4d8f-aef6-4502-bd38-f2246ac13f02"
      },
      "source": [
        "# YOUR CODE HERE\n",
        "import fasttext\n",
        "\n",
        "ft = fasttext.load_model('/content/drive/MyDrive/cc.en.300.bin')"
      ],
      "execution_count": 7,
      "outputs": [
        {
          "output_type": "stream",
          "name": "stderr",
          "text": [
            "Warning : `load_model` does not return WordVectorModel or SupervisedModel any more, but a `FastText` object which is very similar.\n"
          ]
        }
      ]
    },
    {
      "cell_type": "code",
      "metadata": {
        "id": "ZpMtDmLcMKap"
      },
      "source": [
        "assert ft is not None\n",
        "assert ft['Cat'].shape[0] == 300\n",
        "assert ft['Cat'].sum() < -2.3 and ft['Cat'].sum() > -2.4"
      ],
      "execution_count": 8,
      "outputs": []
    },
    {
      "cell_type": "code",
      "metadata": {
        "id": "wkj5uYR2PZN9"
      },
      "source": [
        "def get_word_to_idx(count: List[Tuple[str, int]],\n",
        "                   min_words: Union[int, float] = 0.0,\n",
        "                   max_words: Union[int, float] = 1.0) -> Dict[str, int]:\n",
        "    max_count = count[0][1]\n",
        "    if isinstance(min_words, float):\n",
        "        min_words = max_count * min_words\n",
        "    if isinstance(max_words, float):\n",
        "        max_words = max_count * max_words\n",
        "        \n",
        "    all_words = [w[0] for w in count if max_words >= w[1] >= min_words]\n",
        "    \n",
        "    all_words = ['<pad>', '<unk>'] + all_words\n",
        "    \n",
        "    word_to_idx = {k: v for k, v in zip(all_words, range(0, len(all_words)))}\n",
        "    return word_to_idx"
      ],
      "execution_count": 9,
      "outputs": []
    },
    {
      "cell_type": "markdown",
      "metadata": {
        "id": "yEfVFISjPt7u"
      },
      "source": [
        "Проинициализируйте словарь word_to_idx, убрав слова, встречающиеся больше 100 раз:"
      ]
    },
    {
      "cell_type": "code",
      "metadata": {
        "id": "c6GepdBqPxNU"
      },
      "source": [
        "# YOUR CODE HERE\n",
        "count = Counter([i for j in dataset_base['train'] for i in j['tokens']])\n",
        "word_to_idx = get_word_to_idx(count.most_common(), max_words=100)"
      ],
      "execution_count": 10,
      "outputs": []
    },
    {
      "cell_type": "markdown",
      "metadata": {
        "id": "_4pszkwAXJ9t"
      },
      "source": [
        "Посмотрим на длину словаря:"
      ]
    },
    {
      "cell_type": "code",
      "metadata": {
        "id": "K84fIb-ePY__",
        "colab": {
          "base_uri": "https://localhost:8080/"
        },
        "outputId": "be7f76cc-51af-41bc-9f9e-ff0bc2995931"
      },
      "source": [
        "len(word_to_idx)"
      ],
      "execution_count": 11,
      "outputs": [
        {
          "output_type": "execute_result",
          "data": {
            "text/plain": [
              "23439"
            ]
          },
          "metadata": {},
          "execution_count": 11
        }
      ]
    },
    {
      "cell_type": "code",
      "metadata": {
        "id": "LLzJQYA4QrOR"
      },
      "source": [
        "assert isinstance(count, Counter)\n",
        "assert len(word_to_idx) < 23500 \n",
        "assert word_to_idx['MANCHESTER'] == 1521"
      ],
      "execution_count": 12,
      "outputs": []
    },
    {
      "cell_type": "markdown",
      "metadata": {
        "id": "W83lS3N_dlHU"
      },
      "source": [
        "Оствавим часто встречаемые слова, потому что среди них может встречаться наши прогнозируемые токены:"
      ]
    },
    {
      "cell_type": "code",
      "metadata": {
        "id": "TO6EcxFudkKb"
      },
      "source": [
        "count = Counter([i for j in dataset_base['train'] for i in j['tokens']])\n",
        "word_to_idx = get_word_to_idx(count.most_common(), min_words=1)"
      ],
      "execution_count": 13,
      "outputs": []
    },
    {
      "cell_type": "code",
      "metadata": {
        "id": "S9IqtHXGLCJL"
      },
      "source": [
        "def build_matrix(\n",
        "    word_dict: Dict,\n",
        "    embedding_index,\n",
        "    max_features: int = 100000,\n",
        "    embed_size: int = 300,\n",
        ") -> Tuple[np.array, int, List]:\n",
        "    \"\"\"\n",
        "    Create embedding matrix\n",
        "\n",
        "    Args:\n",
        "        word_dict: tokenizer\n",
        "        embedding_index: Fasttext embeddings\n",
        "        max_features: max features to use\n",
        "        embed_size: size of embeddings\n",
        "\n",
        "    Returns:\n",
        "        embedding matrix, number of of words and the list of not found words\n",
        "    \"\"\"\n",
        "    embedding_index = ft\n",
        "    nb_words = min(max_features, len(word_dict))\n",
        "    embedding_matrix = np.zeros((nb_words, embed_size))\n",
        "\n",
        "    for word, i in word_dict.items():\n",
        "        embedding_matrix[i] = embedding_index[word]\n",
        "    return embedding_matrix, nb_words"
      ],
      "execution_count": 14,
      "outputs": []
    },
    {
      "cell_type": "markdown",
      "metadata": {
        "id": "lpww06DjSlA2"
      },
      "source": [
        "Теперь проинициализируйте матрицу embedding_matrix с использованием функции build_matrix:"
      ]
    },
    {
      "cell_type": "code",
      "metadata": {
        "id": "MN1yl8WjS-Gh"
      },
      "source": [
        "# YOUR CODE HERE\n",
        "embedding_matrix, nb_words = build_matrix(word_dict=word_to_idx, embedding_index=ft)"
      ],
      "execution_count": 15,
      "outputs": []
    },
    {
      "cell_type": "code",
      "metadata": {
        "id": "gFDUqVDqLn0Y"
      },
      "source": [
        "assert embedding_matrix.shape[0] == len(word_to_idx)\n",
        "assert embedding_matrix[42].sum() > -1"
      ],
      "execution_count": 16,
      "outputs": []
    },
    {
      "cell_type": "code",
      "metadata": {
        "id": "yCASSOFILmWL"
      },
      "source": [
        "embedding_matrix = torch.tensor(embedding_matrix, dtype=torch.float32)"
      ],
      "execution_count": 17,
      "outputs": []
    },
    {
      "cell_type": "markdown",
      "metadata": {
        "id": "PEMltxDtAyAz"
      },
      "source": [
        "## Реализация модели RNN"
      ]
    },
    {
      "cell_type": "markdown",
      "metadata": {
        "id": "0snHYczOgjXr"
      },
      "source": [
        "Как обычно, проверим распределение длин тренировочных текстов:"
      ]
    },
    {
      "cell_type": "code",
      "metadata": {
        "id": "b2JqI7fC82P-",
        "colab": {
          "base_uri": "https://localhost:8080/",
          "height": 265
        },
        "outputId": "9b4bcc57-51c6-47d3-8049-9f1be1f2460b"
      },
      "source": [
        "import pandas as pd\n",
        "import numpy as np\n",
        "\n",
        "\n",
        "max_lens = list()\n",
        "for row in dataset_base['train']:\n",
        "    max_lens.append(len(row['tokens']))\n",
        "max_lens = pd.Series(max_lens)\n",
        "max_lens.plot();"
      ],
      "execution_count": 18,
      "outputs": [
        {
          "output_type": "display_data",
          "data": {
            "image/png": "[encoded data removed]",
            "text/plain": [
              "<Figure size 432x288 with 1 Axes>"
            ]
          },
          "metadata": {
            "needs_background": "light"
          }
        }
      ]
    },
    {
      "cell_type": "code",
      "metadata": {
        "id": "BAgV9HGk9AdK"
      },
      "source": [
        "import json\n",
        "mapping_ = {v: k for k, v in dataset_base[\"train\"].features[\"ner_tags\"].feature._str2int.items()}\n",
        "\n",
        "with open('mapping.json', 'w') as f:\n",
        "  json.dump(mapping_, f)"
      ],
      "execution_count": 19,
      "outputs": []
    },
    {
      "cell_type": "code",
      "metadata": {
        "colab": {
          "base_uri": "https://localhost:8080/"
        },
        "id": "Wa6csx-GaO5a",
        "outputId": "5ec9c78d-c8eb-437c-db16-6f69cf30ea24"
      },
      "source": [
        "mapping_"
      ],
      "execution_count": 20,
      "outputs": [
        {
          "output_type": "execute_result",
          "data": {
            "text/plain": [
              "{0: 'O',\n",
              " 1: 'B-PER',\n",
              " 2: 'I-PER',\n",
              " 3: 'B-ORG',\n",
              " 4: 'I-ORG',\n",
              " 5: 'B-LOC',\n",
              " 6: 'I-LOC',\n",
              " 7: 'B-MISC',\n",
              " 8: 'I-MISC'}"
            ]
          },
          "metadata": {},
          "execution_count": 20
        }
      ]
    },
    {
      "cell_type": "markdown",
      "metadata": {
        "id": "uRwCxEkhVsj-"
      },
      "source": [
        "Теперь заполните недостающую строчку в функции create_matrix_of_texts, так, чтобы при попадании неизвестного слова в матрице ставился индекс неизвестного слова:"
      ]
    },
    {
      "cell_type": "code",
      "metadata": {
        "id": "a7J-mz8kWAZ9"
      },
      "source": [
        "# YOUR CODE HERE\n",
        "\n",
        "def create_matrix_of_texts(dataset, max_sequence_length, \n",
        "                           pad_token, word2index):\n",
        "    texts = np.full((len(dataset), max_sequence_length),\n",
        "                    word2index[pad_token], dtype=np.int64)  # creating empty matrix\n",
        "\n",
        "    for ind, row in enumerate(dataset):\n",
        "          trim_length = min(max_sequence_length, len(row['tokens']))\n",
        "          text = row['tokens'][: trim_length]\n",
        "          # YOUR CODE HERE\n",
        "          texts[ind, : trim_length] = [word2index[w] if w in word2index else 1 for w in text]\n",
        "          # END OF YOUR CODE\n",
        "    return texts\n",
        "\n",
        "\n",
        "def create_matrix_of_tags(dataset, max_sequence_length, pad_index):\n",
        "    tags = np.full((len(dataset), max_sequence_length),\n",
        "                    pad_index, dtype=np.int64)  # creating empty matrix\n",
        "\n",
        "    for ind, row in enumerate(dataset):\n",
        "          trim_length = min(max_sequence_length, len(row['ner_tags']))\n",
        "          labels = row['ner_tags'][: trim_length]\n",
        "          tags[ind, : trim_length] = [item for item in labels]\n",
        "    return tags"
      ],
      "execution_count": 21,
      "outputs": []
    },
    {
      "cell_type": "code",
      "metadata": {
        "id": "ZgLxcXzm9rYT"
      },
      "source": [
        "texts = create_matrix_of_texts(dataset_base['train'], \n",
        "                               int(max_lens.quantile(0.97)),\n",
        "                               '<pad>', word_to_idx)\n",
        "tags = create_matrix_of_tags(dataset_base['train'],\n",
        "                             int(max_lens.quantile(0.97)), 0)"
      ],
      "execution_count": 22,
      "outputs": []
    },
    {
      "cell_type": "code",
      "metadata": {
        "id": "-hFN3K46YgTq"
      },
      "source": [
        "text_for_check = create_matrix_of_texts(dataset_base['validation'], \n",
        "                                        int(max_lens.quantile(0.97)),\n",
        "                                        '<pad>', word_to_idx)\n",
        "assert text_for_check[0][2] == 1\n",
        "assert text_for_check[23].sum() == 40986"
      ],
      "execution_count": 23,
      "outputs": []
    },
    {
      "cell_type": "code",
      "metadata": {
        "colab": {
          "base_uri": "https://localhost:8080/"
        },
        "id": "eucRLM9bRh1y",
        "outputId": "6c7c3bc5-cfc8-4fbc-fba5-9d9b7179be42"
      },
      "source": [
        "text_for_check[23]"
      ],
      "execution_count": 24,
      "outputs": [
        {
          "output_type": "execute_result",
          "data": {
            "text/plain": [
              "array([21962,  3625,    30,  2530,     1,     9,  1327,   983,  6759,\n",
              "         432,   496,     1,     1,    10,     3,  2814,     1,     2,\n",
              "           0,     0,     0,     0,     0,     0,     0,     0,     0,\n",
              "           0,     0,     0,     0,     0,     0,     0,     0,     0,\n",
              "           0,     0,     0,     0])"
            ]
          },
          "metadata": {},
          "execution_count": 24
        }
      ]
    },
    {
      "cell_type": "markdown",
      "metadata": {
        "id": "P9IxIjMWXaCl"
      },
      "source": [
        "Напишем класс для загрузки датасета:"
      ]
    },
    {
      "cell_type": "code",
      "metadata": {
        "id": "oXytRlf391rB"
      },
      "source": [
        "class NerDataset(Dataset):\n",
        "    def __init__(self,\n",
        "                 texts: np.array,\n",
        "                 tags: np.array):\n",
        "        self.tags = tags\n",
        "        self.texts = texts\n",
        "        \n",
        "\n",
        "    def __getitem__(self, idx: int) -> Tuple[torch.LongTensor, torch.LongTensor]:\n",
        "        tokens_tensor = torch.tensor(self.texts[idx], dtype=torch.int64)\n",
        "        return tokens_tensor, torch.tensor(self.tags[idx], dtype=torch.int64)\n",
        "\n",
        "    def __len__(self) -> int:\n",
        "        dataset_len = self.texts.shape[0]\n",
        "        return dataset_len"
      ],
      "execution_count": 25,
      "outputs": []
    },
    {
      "cell_type": "code",
      "metadata": {
        "id": "pPG8N8PQh69E"
      },
      "source": [
        "dataset = dataset_base['train']\n",
        "ner_dataset = NerDataset(texts, tags)"
      ],
      "execution_count": 26,
      "outputs": []
    },
    {
      "cell_type": "code",
      "metadata": {
        "colab": {
          "base_uri": "https://localhost:8080/"
        },
        "id": "2O27qc_zYbvk",
        "outputId": "52ab1712-6c49-43f0-e274-2d1bec90f296"
      },
      "source": [
        "' '.join(dataset_base['train'][0]['tokens']), ner_dataset[0]"
      ],
      "execution_count": 27,
      "outputs": [
        {
          "output_type": "execute_result",
          "data": {
            "text/plain": [
              "('EU rejects German call to boycott British lamb .',\n",
              " (tensor([  958, 11984,   234,   763,     7,  4148,   210,  6183,     2,     0,\n",
              "              0,     0,     0,     0,     0,     0,     0,     0,     0,     0,\n",
              "              0,     0,     0,     0,     0,     0,     0,     0,     0,     0,\n",
              "              0,     0,     0,     0,     0,     0,     0,     0,     0,     0]),\n",
              "  tensor([3, 0, 7, 0, 0, 0, 7, 0, 0, 0, 0, 0, 0, 0, 0, 0, 0, 0, 0, 0, 0, 0, 0, 0,\n",
              "          0, 0, 0, 0, 0, 0, 0, 0, 0, 0, 0, 0, 0, 0, 0, 0])))"
            ]
          },
          "metadata": {},
          "execution_count": 27
        }
      ]
    },
    {
      "cell_type": "markdown",
      "metadata": {
        "id": "27ekdYQhg33P"
      },
      "source": [
        "Разобьем текст на тренировочную и валидационную часть:"
      ]
    },
    {
      "cell_type": "code",
      "metadata": {
        "id": "rdxMabf1zFc_"
      },
      "source": [
        "from torch.utils.data.dataset import random_split"
      ],
      "execution_count": 28,
      "outputs": []
    },
    {
      "cell_type": "code",
      "metadata": {
        "id": "wjbUjeF5zpoo"
      },
      "source": [
        "BATCH_SIZE = 32"
      ],
      "execution_count": 29,
      "outputs": []
    },
    {
      "cell_type": "code",
      "metadata": {
        "id": "SeJxwMrGs936"
      },
      "source": [
        "num_train = int(len(ner_dataset) * 0.95)\n",
        "split_train_, split_valid_ = \\\n",
        "    random_split(ner_dataset, [num_train, len(ner_dataset) - num_train])\n",
        "\n",
        "train_dataloader = torch.utils.data.DataLoader(split_train_, batch_size=BATCH_SIZE,\n",
        "                              shuffle=True, drop_last=True)\n",
        "valid_dataloader = torch.utils.data.DataLoader(split_valid_, batch_size=BATCH_SIZE,\n",
        "                              shuffle=False)"
      ],
      "execution_count": 30,
      "outputs": []
    },
    {
      "cell_type": "markdown",
      "metadata": {
        "id": "bylT3W5ChFrG"
      },
      "source": [
        "Наша нейронная сеть будет принимать в качестве слоя эмбеддинга предобученные веса из библиотеки fasttext, а в качестве промежуточного вычислительного звена будем использовать двунаправленную двухслойную рекуррентную сеть. Схематично ее можно изобразить как на рисунке."
      ]
    },
    {
      "cell_type": "markdown",
      "metadata": {
        "id": "DwIPx4s2JwXy"
      },
      "source": [
        "![image.png](data:image/png;base64,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)"
      ]
    },
    {
      "cell_type": "markdown",
      "metadata": {
        "id": "HSP1alNGhn0s"
      },
      "source": [
        "Перейдем к созданию матрицы."
      ]
    },
    {
      "cell_type": "markdown",
      "metadata": {
        "id": "SZ51ooe-VfwP"
      },
      "source": [
        "Создайте класс сети RNN, у которого в слой эмбеддинга будет проинициализирован матрицей загруженных весов, а слой рекуррентной сети будет иметь параметры num_layers=1 и быть двунаправленным.\n",
        "Так как мы будем использовать двунаправленный рекуррентный блок, то входная размерность выходного слоя должна быть в два раза больше чем размер скрытого состояния.  "
      ]
    },
    {
      "cell_type": "code",
      "metadata": {
        "id": "_kTfTvH8kVj4"
      },
      "source": [
        "class NerRNNModel(nn.Module):\n",
        "    def __init__(\n",
        "        self,\n",
        "        pretrained_embeddings,\n",
        "        mapping: Dict[int, str] = None,\n",
        "        hidden_size: int = 256\n",
        "    ):\n",
        "        super(NerRNNModel, self).__init__()\n",
        "        if not mapping:\n",
        "            raise RuntimeError(f'Empty labels')\n",
        "\n",
        "        # Vocabulary size\n",
        "        self.vocab_size = pretrained_embeddings.shape[0]\n",
        "        # Embedding dimensionality\n",
        "        self.embedding_size = pretrained_embeddings.shape[1]\n",
        "        self.labels = mapping\n",
        "\n",
        "        # YOUR CODE HERE\n",
        "        self.embedding = nn.Embedding(self.vocab_size, hidden_size)\n",
        "        # END OF YOUR CODE\n",
        "        self.embedding.weight = nn.Parameter(torch.tensor(pretrained_embeddings).clone().detach())\n",
        "        self.embedding.requires_grad_(True)  # дообучим под свою задачу\n",
        "\n",
        "        # YOUR CODE HERE\n",
        "        self.encoder = nn.RNN(input_size=self.embedding_size, hidden_size=hidden_size, num_layers=1, bidirectional=True, batch_first=True)\n",
        "        encoder_output_value = 2*hidden_size\n",
        "        # END OF YOUR CODE\n",
        "\n",
        "        self.projection = nn.Linear(encoder_output_value, len(mapping))\n",
        "        \n",
        "    def forward(self, tokens: LongTensor) -> FloatTensor:\n",
        "        emb = self.embedding(tokens)        \n",
        "        h, _ = self.encoder(emb)\n",
        "        pred = self.projection(h)\n",
        "        return pred.view(-1, len(self.labels))"
      ],
      "execution_count": 31,
      "outputs": []
    },
    {
      "cell_type": "markdown",
      "metadata": {
        "id": "cnPKpIrm_cuM"
      },
      "source": [
        "## Обучение модели"
      ]
    },
    {
      "cell_type": "code",
      "metadata": {
        "id": "H4sicwiwZIex"
      },
      "source": [
        "from sklearn.metrics import classification_report\n",
        "\n",
        "def evaluate(dataloader):\n",
        "    model.eval()\n",
        "    total_acc, total_count = 0, 0\n",
        "    correct_labels = [value for value in mapping_.values() if value != 'O']\n",
        "    predicted, true_labels = list(), list()\n",
        "\n",
        "    with torch.no_grad():\n",
        "        for idx, batch in enumerate(dataloader):\n",
        "            tokens, label = batch\n",
        "            tokens = tokens.to(device)\n",
        "            \n",
        "            logits = model(tokens)\n",
        "            predictions = F.log_softmax(logits, dim=1).reshape(-1,\n",
        "                                                               40,\n",
        "                                                               len(mapping_)).argmax(dim=2).flatten().detach().cpu().numpy()\n",
        "            predicted.extend(predictions)\n",
        "            true_labels.extend(label.flatten().detach().cpu().numpy())\n",
        "    \n",
        "    true_labels = [mapping_[val] for val in true_labels]\n",
        "    \n",
        "    predicted = [mapping_[val] for val in predicted]\n",
        "    print('\\n', classification_report(true_labels,\n",
        "                                      predicted,\n",
        "                                      labels=correct_labels))"
      ],
      "execution_count": 32,
      "outputs": []
    },
    {
      "cell_type": "markdown",
      "metadata": {
        "id": "txNjIp08io7u"
      },
      "source": [
        "Создайте экземпляр класса сети с размером скрытого слоя равным 256.\n",
        "\n",
        "Затем создайте оптимизатор.\n",
        "\n",
        "Не забудьте перенести созданную модель на видеокарту для ускорения обучения!"
      ]
    },
    {
      "cell_type": "code",
      "metadata": {
        "id": "3RkX1zAGil2g",
        "colab": {
          "base_uri": "https://localhost:8080/"
        },
        "outputId": "201b6a4d-3280-4101-f388-132ba13ea257"
      },
      "source": [
        "# YOUR CODE HERE\n",
        "EPOCHS = 7\n",
        "LR = 3e-4 \n",
        "BATCH_SIZE = 32\n",
        "\n",
        "\n",
        "model = NerRNNModel(pretrained_embeddings=embedding_matrix, mapping=mapping_, hidden_size=256)\n",
        "optimizer = torch.optim.Adam(model.parameters(), lr=LR, weight_decay=1e-4)\n",
        "device = torch.device('cuda') if torch.cuda.is_available() else  torch.device('cpu')\n",
        "model.to(device)"
      ],
      "execution_count": 33,
      "outputs": [
        {
          "output_type": "stream",
          "name": "stderr",
          "text": [
            "/usr/local/lib/python3.7/dist-packages/ipykernel_launcher.py:21: UserWarning: To copy construct from a tensor, it is recommended to use sourceTensor.clone().detach() or sourceTensor.clone().detach().requires_grad_(True), rather than torch.tensor(sourceTensor).\n"
          ]
        },
        {
          "output_type": "execute_result",
          "data": {
            "text/plain": [
              "NerRNNModel(\n",
              "  (embedding): Embedding(23625, 256)\n",
              "  (encoder): RNN(300, 256, batch_first=True, bidirectional=True)\n",
              "  (projection): Linear(in_features=512, out_features=9, bias=True)\n",
              ")"
            ]
          },
          "metadata": {},
          "execution_count": 33
        }
      ]
    },
    {
      "cell_type": "code",
      "metadata": {
        "id": "YH2faXF_iQ2h"
      },
      "source": [
        "assert sum([params.numel() for params in model.parameters() if params.requires_grad]) > 7_000_000\n",
        "assert sum([params.numel() for params in model.parameters() if params.requires_grad]) < 7_500_000"
      ],
      "execution_count": 34,
      "outputs": []
    },
    {
      "cell_type": "code",
      "metadata": {
        "colab": {
          "base_uri": "https://localhost:8080/"
        },
        "id": "-Sk0_Vk7iTtg",
        "outputId": "b5032c3b-de99-4671-86f9-030e4d3c948e"
      },
      "source": [
        "print(sum([params.numel() for params in model.parameters() if params.requires_grad]))"
      ],
      "execution_count": 35,
      "outputs": [
        {
          "output_type": "stream",
          "name": "stdout",
          "text": [
            "7377813\n"
          ]
        }
      ]
    },
    {
      "cell_type": "markdown",
      "metadata": {
        "id": "8h7jaURgiDU7"
      },
      "source": [
        "Так как мы загружали уже предобученные веса, для сходимости к хорошему качеству нашей сети нужно меньше эпох, чем если бы мы обучали сеть с нуля."
      ]
    },
    {
      "cell_type": "code",
      "metadata": {
        "id": "ParaP94P1WEm",
        "colab": {
          "base_uri": "https://localhost:8080/"
        },
        "outputId": "b95d3abf-53cb-4bd7-e33a-b591871215ba"
      },
      "source": [
        "for e in range(10):\n",
        "    total_loss = 0\n",
        "    model.train()\n",
        "    loss_function = nn.CrossEntropyLoss()\n",
        "    for sent in tqdm(train_dataloader):\n",
        "\n",
        "            # (1) Set gradient to zero for new example: Set gradients to zero before pass\n",
        "            model.zero_grad()\n",
        "            \n",
        "            # (2) Encode sentence and tag sequence as sequences of indices\n",
        "            input_sent, gold_tags = sent\n",
        "\n",
        "            # (3) Predict tags (sentence by sentence)\n",
        "            if len(input_sent) > 0:\n",
        "                pred_scores = model(input_sent.to(device))\n",
        "                mask = gold_tags != 0\n",
        "                # (4) Compute loss and do backward step\n",
        "                loss = loss_function(pred_scores.to(device), gold_tags.view(-1).to(device))\n",
        "                loss.backward()\n",
        "              \n",
        "                # (5) Optimize parameter values\n",
        "                optimizer.step()\n",
        "          \n",
        "                # (6) Accumulate loss\n",
        "                total_loss += loss\n",
        "    print('\\nEpoch: %d, loss: %.4f' % (e, total_loss / len(train_dataloader)))\n",
        "    evaluate(valid_dataloader)"
      ],
      "execution_count": 36,
      "outputs": [
        {
          "output_type": "stream",
          "name": "stderr",
          "text": [
            "100%|██████████| 416/416 [00:06<00:00, 67.84it/s]\n"
          ]
        },
        {
          "output_type": "stream",
          "name": "stdout",
          "text": [
            "\n",
            "Epoch: 0, loss: 0.2245\n"
          ]
        },
        {
          "output_type": "stream",
          "name": "stderr",
          "text": [
            "/usr/local/lib/python3.7/dist-packages/sklearn/metrics/_classification.py:1272: UndefinedMetricWarning: Precision and F-score are ill-defined and being set to 0.0 in labels with no predicted samples. Use `zero_division` parameter to control this behavior.\n",
            "  _warn_prf(average, modifier, msg_start, len(result))\n"
          ]
        },
        {
          "output_type": "stream",
          "name": "stdout",
          "text": [
            "\n",
            "               precision    recall  f1-score   support\n",
            "\n",
            "       B-PER       0.82      0.62      0.71       329\n",
            "       I-PER       0.67      0.76      0.71       237\n",
            "       B-ORG       0.67      0.54      0.60       309\n",
            "       I-ORG       0.59      0.23      0.33       197\n",
            "       B-LOC       0.62      0.70      0.66       337\n",
            "       I-LOC       0.00      0.00      0.00        46\n",
            "      B-MISC       0.89      0.04      0.08       186\n",
            "      I-MISC       0.00      0.00      0.00        60\n",
            "\n",
            "   micro avg       0.68      0.49      0.57      1701\n",
            "   macro avg       0.53      0.36      0.39      1701\n",
            "weighted avg       0.66      0.49      0.52      1701\n",
            "\n"
          ]
        },
        {
          "output_type": "stream",
          "name": "stderr",
          "text": [
            "100%|██████████| 416/416 [00:05<00:00, 71.89it/s]\n"
          ]
        },
        {
          "output_type": "stream",
          "name": "stdout",
          "text": [
            "\n",
            "Epoch: 1, loss: 0.0799\n",
            "\n",
            "               precision    recall  f1-score   support\n",
            "\n",
            "       B-PER       0.88      0.81      0.84       329\n",
            "       I-PER       0.86      0.87      0.87       237\n",
            "       B-ORG       0.88      0.64      0.74       309\n",
            "       I-ORG       0.86      0.59      0.70       197\n",
            "       B-LOC       0.85      0.79      0.82       337\n",
            "       I-LOC       0.88      0.46      0.60        46\n",
            "      B-MISC       0.87      0.52      0.65       186\n",
            "      I-MISC       0.82      0.23      0.36        60\n",
            "\n",
            "   micro avg       0.87      0.70      0.77      1701\n",
            "   macro avg       0.86      0.61      0.70      1701\n",
            "weighted avg       0.87      0.70      0.76      1701\n",
            "\n"
          ]
        },
        {
          "output_type": "stream",
          "name": "stderr",
          "text": [
            "100%|██████████| 416/416 [00:05<00:00, 72.21it/s]\n"
          ]
        },
        {
          "output_type": "stream",
          "name": "stdout",
          "text": [
            "\n",
            "Epoch: 2, loss: 0.0471\n",
            "\n",
            "               precision    recall  f1-score   support\n",
            "\n",
            "       B-PER       0.91      0.89      0.90       329\n",
            "       I-PER       0.91      0.93      0.92       237\n",
            "       B-ORG       0.83      0.82      0.82       309\n",
            "       I-ORG       0.74      0.85      0.79       197\n",
            "       B-LOC       0.90      0.82      0.86       337\n",
            "       I-LOC       0.95      0.46      0.62        46\n",
            "      B-MISC       0.90      0.66      0.76       186\n",
            "      I-MISC       0.83      0.50      0.62        60\n",
            "\n",
            "   micro avg       0.87      0.81      0.84      1701\n",
            "   macro avg       0.87      0.74      0.79      1701\n",
            "weighted avg       0.87      0.81      0.84      1701\n",
            "\n"
          ]
        },
        {
          "output_type": "stream",
          "name": "stderr",
          "text": [
            "100%|██████████| 416/416 [00:05<00:00, 72.08it/s]\n"
          ]
        },
        {
          "output_type": "stream",
          "name": "stdout",
          "text": [
            "\n",
            "Epoch: 3, loss: 0.0316\n",
            "\n",
            "               precision    recall  f1-score   support\n",
            "\n",
            "       B-PER       0.94      0.90      0.92       329\n",
            "       I-PER       0.94      0.90      0.92       237\n",
            "       B-ORG       0.94      0.76      0.84       309\n",
            "       I-ORG       0.93      0.77      0.84       197\n",
            "       B-LOC       0.87      0.89      0.88       337\n",
            "       I-LOC       0.83      0.63      0.72        46\n",
            "      B-MISC       0.91      0.76      0.83       186\n",
            "      I-MISC       0.84      0.68      0.75        60\n",
            "\n",
            "   micro avg       0.91      0.83      0.87      1701\n",
            "   macro avg       0.90      0.79      0.84      1701\n",
            "weighted avg       0.91      0.83      0.87      1701\n",
            "\n"
          ]
        },
        {
          "output_type": "stream",
          "name": "stderr",
          "text": [
            "100%|██████████| 416/416 [00:05<00:00, 72.66it/s]\n"
          ]
        },
        {
          "output_type": "stream",
          "name": "stdout",
          "text": [
            "\n",
            "Epoch: 4, loss: 0.0231\n",
            "\n",
            "               precision    recall  f1-score   support\n",
            "\n",
            "       B-PER       0.92      0.90      0.91       329\n",
            "       I-PER       0.93      0.92      0.93       237\n",
            "       B-ORG       0.91      0.80      0.85       309\n",
            "       I-ORG       0.91      0.80      0.85       197\n",
            "       B-LOC       0.89      0.89      0.89       337\n",
            "       I-LOC       0.86      0.67      0.76        46\n",
            "      B-MISC       0.95      0.74      0.83       186\n",
            "      I-MISC       0.84      0.68      0.75        60\n",
            "\n",
            "   micro avg       0.91      0.84      0.87      1701\n",
            "   macro avg       0.90      0.80      0.85      1701\n",
            "weighted avg       0.91      0.84      0.87      1701\n",
            "\n"
          ]
        },
        {
          "output_type": "stream",
          "name": "stderr",
          "text": [
            "100%|██████████| 416/416 [00:05<00:00, 72.25it/s]\n"
          ]
        },
        {
          "output_type": "stream",
          "name": "stdout",
          "text": [
            "\n",
            "Epoch: 5, loss: 0.0187\n",
            "\n",
            "               precision    recall  f1-score   support\n",
            "\n",
            "       B-PER       0.94      0.90      0.92       329\n",
            "       I-PER       0.92      0.92      0.92       237\n",
            "       B-ORG       0.87      0.89      0.88       309\n",
            "       I-ORG       0.78      0.86      0.82       197\n",
            "       B-LOC       0.93      0.90      0.91       337\n",
            "       I-LOC       0.84      0.67      0.75        46\n",
            "      B-MISC       0.95      0.75      0.84       186\n",
            "      I-MISC       0.96      0.75      0.84        60\n",
            "\n",
            "   micro avg       0.90      0.87      0.88      1701\n",
            "   macro avg       0.90      0.83      0.86      1701\n",
            "weighted avg       0.90      0.87      0.88      1701\n",
            "\n"
          ]
        },
        {
          "output_type": "stream",
          "name": "stderr",
          "text": [
            "100%|██████████| 416/416 [00:05<00:00, 72.05it/s]\n"
          ]
        },
        {
          "output_type": "stream",
          "name": "stdout",
          "text": [
            "\n",
            "Epoch: 6, loss: 0.0160\n",
            "\n",
            "               precision    recall  f1-score   support\n",
            "\n",
            "       B-PER       0.97      0.88      0.92       329\n",
            "       I-PER       0.97      0.89      0.93       237\n",
            "       B-ORG       0.92      0.84      0.88       309\n",
            "       I-ORG       0.95      0.77      0.85       197\n",
            "       B-LOC       0.92      0.89      0.90       337\n",
            "       I-LOC       0.94      0.74      0.83        46\n",
            "      B-MISC       0.96      0.77      0.86       186\n",
            "      I-MISC       0.89      0.57      0.69        60\n",
            "\n",
            "   micro avg       0.94      0.84      0.89      1701\n",
            "   macro avg       0.94      0.79      0.86      1701\n",
            "weighted avg       0.94      0.84      0.88      1701\n",
            "\n"
          ]
        },
        {
          "output_type": "stream",
          "name": "stderr",
          "text": [
            "100%|██████████| 416/416 [00:05<00:00, 72.50it/s]\n"
          ]
        },
        {
          "output_type": "stream",
          "name": "stdout",
          "text": [
            "\n",
            "Epoch: 7, loss: 0.0139\n",
            "\n",
            "               precision    recall  f1-score   support\n",
            "\n",
            "       B-PER       0.95      0.91      0.93       329\n",
            "       I-PER       0.96      0.90      0.93       237\n",
            "       B-ORG       0.93      0.85      0.89       309\n",
            "       I-ORG       0.95      0.77      0.85       197\n",
            "       B-LOC       0.93      0.91      0.92       337\n",
            "       I-LOC       0.90      0.76      0.82        46\n",
            "      B-MISC       0.95      0.81      0.88       186\n",
            "      I-MISC       0.88      0.85      0.86        60\n",
            "\n",
            "   micro avg       0.94      0.86      0.90      1701\n",
            "   macro avg       0.93      0.85      0.88      1701\n",
            "weighted avg       0.94      0.86      0.90      1701\n",
            "\n"
          ]
        },
        {
          "output_type": "stream",
          "name": "stderr",
          "text": [
            "100%|██████████| 416/416 [00:05<00:00, 72.52it/s]\n"
          ]
        },
        {
          "output_type": "stream",
          "name": "stdout",
          "text": [
            "\n",
            "Epoch: 8, loss: 0.0127\n",
            "\n",
            "               precision    recall  f1-score   support\n",
            "\n",
            "       B-PER       0.96      0.88      0.92       329\n",
            "       I-PER       0.98      0.87      0.92       237\n",
            "       B-ORG       0.91      0.85      0.88       309\n",
            "       I-ORG       0.92      0.73      0.81       197\n",
            "       B-LOC       0.94      0.90      0.92       337\n",
            "       I-LOC       0.92      0.76      0.83        46\n",
            "      B-MISC       0.94      0.83      0.88       186\n",
            "      I-MISC       0.86      0.70      0.77        60\n",
            "\n",
            "   micro avg       0.94      0.84      0.89      1701\n",
            "   macro avg       0.93      0.81      0.87      1701\n",
            "weighted avg       0.94      0.84      0.89      1701\n",
            "\n"
          ]
        },
        {
          "output_type": "stream",
          "name": "stderr",
          "text": [
            "100%|██████████| 416/416 [00:05<00:00, 72.43it/s]\n"
          ]
        },
        {
          "output_type": "stream",
          "name": "stdout",
          "text": [
            "\n",
            "Epoch: 9, loss: 0.0117\n",
            "\n",
            "               precision    recall  f1-score   support\n",
            "\n",
            "       B-PER       0.95      0.88      0.92       329\n",
            "       I-PER       0.96      0.90      0.93       237\n",
            "       B-ORG       0.94      0.81      0.87       309\n",
            "       I-ORG       0.95      0.72      0.82       197\n",
            "       B-LOC       0.89      0.92      0.90       337\n",
            "       I-LOC       0.80      0.76      0.78        46\n",
            "      B-MISC       0.93      0.83      0.88       186\n",
            "      I-MISC       0.84      0.82      0.83        60\n",
            "\n",
            "   micro avg       0.92      0.85      0.89      1701\n",
            "   macro avg       0.91      0.83      0.87      1701\n",
            "weighted avg       0.93      0.85      0.89      1701\n",
            "\n"
          ]
        }
      ]
    },
    {
      "cell_type": "markdown",
      "metadata": {
        "id": "eSa2Am7jk72t"
      },
      "source": [
        "Добейтесь качества обучаемой модели не ниже 0.87 по метрике weighted avg f1-score, чтобы задание считалось успешно выполненным."
      ]
    },
    {
      "cell_type": "code",
      "metadata": {
        "id": "eOzEdpDWudhT",
        "outputId": "99e8f272-e138-44da-af95-e134144c9256",
        "colab": {
          "base_uri": "https://localhost:8080/"
        }
      },
      "source": [
        "torch.cuda.empty_cache"
      ],
      "execution_count": 39,
      "outputs": [
        {
          "output_type": "execute_result",
          "data": {
            "text/plain": [
              "<function torch.cuda.memory.empty_cache>"
            ]
          },
          "metadata": {},
          "execution_count": 39
        }
      ]
    },
    {
      "cell_type": "markdown",
      "metadata": {
        "id": "9F2-jqhcudhT"
      },
      "source": [
        "# Финальное задание NLP-2. Рекуррентные нейронные сети"
      ]
    },
    {
      "cell_type": "markdown",
      "metadata": {
        "id": "rMmMub0dpqx-"
      },
      "source": [
        "Теперь, когда вы изучили GRU и LSTM, вы готовы к решению задач NER с использованием подобных более продвинутых архитектур.\n",
        "\n",
        "В рамках данного задания вы отработаете навыки:\n",
        "- Работы с нетиповыми данными\n",
        "- Построения словаря слов\n",
        "- Написания двунаправленной рекуррентной нейронной сети на основе изученных архитектур<br>\n",
        "\n",
        "В итоге вы напишете рекуррентную нейронную сеть для задачи NER, решающую задачу с достаточно высоким качеством."
      ]
    },
    {
      "cell_type": "markdown",
      "metadata": {
        "id": "MIY5j5HtpeCF"
      },
      "source": [
        "# Загрузка данных"
      ]
    },
    {
      "cell_type": "markdown",
      "metadata": {
        "id": "3NIeB5kO1NZB"
      },
      "source": [
        "Загрузим данные из очень известной NLP библиотеки для работы с русским языком —  [Natasha](https://github.com/natasha/nerus)."
      ]
    },
    {
      "cell_type": "markdown",
      "metadata": {
        "id": "Gc7xAp_cAarp"
      },
      "source": [
        "Данные представляют из себя новости, скачанные из Lenta.ru и размеченные BIO-разметкой."
      ]
    },
    {
      "cell_type": "code",
      "metadata": {
        "id": "zc88ekoRbzSR",
        "outputId": "2ed5026c-1e60-48cb-8574-1664cf07c0f4",
        "colab": {
          "base_uri": "https://localhost:8080/"
        }
      },
      "source": [
        "# !wget https://storage.yandexcloud.net/natasha-nerus/data/nerus_lenta.conllu.gz"
      ],
      "execution_count": 38,
      "outputs": [
        {
          "output_type": "stream",
          "name": "stdout",
          "text": [
            "--2021-10-15 18:07:10--  https://storage.yandexcloud.net/natasha-nerus/data/nerus_lenta.conllu.gz\n",
            "Resolving storage.yandexcloud.net (storage.yandexcloud.net)... 213.180.193.243, 2a02:6b8::1d9\n",
            "Connecting to storage.yandexcloud.net (storage.yandexcloud.net)|213.180.193.243|:443... connected.\n",
            "HTTP request sent, awaiting response... 200 OK\n",
            "Length: 1961465886 (1.8G) [application/octet-stream]\n",
            "Saving to: ‘nerus_lenta.conllu.gz.1’\n",
            "\n",
            "nerus_lenta.conllu. 100%[===================>]   1.83G  21.0MB/s    in 94s     \n",
            "\n",
            "2021-10-15 18:08:44 (20.0 MB/s) - ‘nerus_lenta.conllu.gz.1’ saved [1961465886/1961465886]\n",
            "\n"
          ]
        }
      ]
    },
    {
      "cell_type": "code",
      "metadata": {
        "id": "PGMuiA22bZ2e",
        "outputId": "9c2ab424-e6a4-4878-c967-adf66e847e85",
        "colab": {
          "base_uri": "https://localhost:8080/"
        }
      },
      "source": [
        "!gunzip -c nerus_lenta.conllu.gz | head"
      ],
      "execution_count": 40,
      "outputs": [
        {
          "output_type": "stream",
          "name": "stdout",
          "text": [
            "# newdoc id = 0\n",
            "# sent_id = 0_0\n",
            "# text = Вице-премьер по социальным вопросам Татьяна Голикова рассказала, в каких регионах России зафиксирована наиболее высокая смертность от рака, сообщает РИА Новости.\n",
            "1\tВице-премьер\t_\tNOUN\t_\tAnimacy=Anim|Case=Nom|Gender=Masc|Number=Sing\t7\tnsubj\t_\tTag=O\n",
            "2\tпо\t_\tADP\t_\t_\t4\tcase\t_\tTag=O\n",
            "3\tсоциальным\t_\tADJ\t_\tCase=Dat|Degree=Pos|Number=Plur\t4\tamod\t_\tTag=O\n",
            "4\tвопросам\t_\tNOUN\t_\tAnimacy=Inan|Case=Dat|Gender=Masc|Number=Plur\t1\tnmod\t_\tTag=O\n",
            "5\tТатьяна\t_\tPROPN\t_\tAnimacy=Anim|Case=Nom|Gender=Fem|Number=Sing\t1\tappos\t_\tTag=B-PER\n",
            "6\tГоликова\t_\tPROPN\t_\tAnimacy=Anim|Case=Nom|Gender=Fem|Number=Sing\t5\tflat:name\t_\tTag=I-PER\n",
            "7\tрассказала\t_\tVERB\t_\tAspect=Perf|Gender=Fem|Mood=Ind|Number=Sing|Tense=Past|VerbForm=Fin|Voice=Act\t0\troot\t_\tTag=O\n"
          ]
        }
      ]
    },
    {
      "cell_type": "markdown",
      "metadata": {
        "id": "s_TJqzZDAjKg"
      },
      "source": [
        "Чтобы работать с данными этой библиотеки, необходимо поставить специальный модуль."
      ]
    },
    {
      "cell_type": "code",
      "metadata": {
        "id": "qxD9FHrh1fMh",
        "outputId": "5714e940-29b8-4798-a7eb-c02d3d91fd47",
        "colab": {
          "base_uri": "https://localhost:8080/"
        }
      },
      "source": [
        "!pip install nerus"
      ],
      "execution_count": 41,
      "outputs": [
        {
          "output_type": "stream",
          "name": "stdout",
          "text": [
            "Requirement already satisfied: nerus in /usr/local/lib/python3.7/dist-packages (1.7.0)\n"
          ]
        }
      ]
    },
    {
      "cell_type": "markdown",
      "metadata": {
        "id": "7NuM1dX1AvMA"
      },
      "source": [
        "Также мы будем использовать токенизатор по пунктуации, потому что именно таким образом был размечен этот датасет."
      ]
    },
    {
      "cell_type": "code",
      "metadata": {
        "id": "Vi0bDTLAbv4t"
      },
      "source": [
        "import tqdm\n",
        "from nerus import load_nerus\n",
        "from nltk.tokenize import WordPunctTokenizer"
      ],
      "execution_count": 39,
      "outputs": []
    },
    {
      "cell_type": "code",
      "metadata": {
        "id": "d6-QFE_KdKr9"
      },
      "source": [
        "docs = load_nerus('nerus_lenta.conllu.gz')"
      ],
      "execution_count": 40,
      "outputs": []
    },
    {
      "cell_type": "code",
      "metadata": {
        "id": "UMPoKvzSP6zq"
      },
      "source": [
        "tokenizer = WordPunctTokenizer()"
      ],
      "execution_count": 41,
      "outputs": []
    },
    {
      "cell_type": "markdown",
      "metadata": {
        "id": "O5cUWSpRA-Mr"
      },
      "source": [
        "Посмотрим, что из себя представляют данные:"
      ]
    },
    {
      "cell_type": "code",
      "metadata": {
        "id": "kQqhB_7KdlIJ",
        "outputId": "be26ee5b-247a-43c3-d373-21f0bdca542c",
        "colab": {
          "base_uri": "https://localhost:8080/"
        }
      },
      "source": [
        "doc = next(docs)\n",
        "[text.text for text in doc.sents]"
      ],
      "execution_count": 42,
      "outputs": [
        {
          "output_type": "execute_result",
          "data": {
            "text/plain": [
              "['Вице-премьер по социальным вопросам Татьяна Голикова рассказала, в каких регионах России зафиксирована наиболее высокая смертность от рака, сообщает РИА Новости.',\n",
              " 'По словам Голиковой, чаще всего онкологические заболевания становились причиной смерти в Псковской, Тверской, Тульской и Орловской областях, а также в Севастополе.',\n",
              " 'Вице-премьер напомнила, что главные факторы смертности в России — рак и болезни системы кровообращения.',\n",
              " 'В начале года стало известно, что смертность от онкологических заболеваний среди россиян снизилась впервые за три года.',\n",
              " 'По данным Росстата, в 2017 году от рака умерли 289 тысяч человек.',\n",
              " 'Это на 3,5 процента меньше, чем годом ранее.']"
            ]
          },
          "metadata": {},
          "execution_count": 42
        }
      ]
    },
    {
      "cell_type": "code",
      "metadata": {
        "id": "Zfhi6j4-eLit",
        "outputId": "2313d167-9ad0-4910-eb5b-20e5259ccec0",
        "colab": {
          "base_uri": "https://localhost:8080/"
        }
      },
      "source": [
        "[' '.join([item.tag for item in text.tokens]) for text in doc.sents]"
      ],
      "execution_count": 43,
      "outputs": [
        {
          "output_type": "execute_result",
          "data": {
            "text/plain": [
              "['O O O O B-PER I-PER O O O O O B-LOC O O O O O O O O B-ORG I-ORG O',\n",
              " 'O O B-PER O O O O O O O O O B-LOC O B-LOC O B-LOC O B-LOC I-LOC O O O O B-LOC O',\n",
              " 'O O O O O O O O B-LOC O O O O O O O',\n",
              " 'O O O O O O O O O O O O O O O O O O O',\n",
              " 'O O B-ORG O O O O O O O O O O O',\n",
              " 'O O O O O O O O O O']"
            ]
          },
          "metadata": {},
          "execution_count": 43
        }
      ]
    },
    {
      "cell_type": "code",
      "metadata": {
        "id": "AGZDvbVpR5He",
        "outputId": "ef04a963-6012-4a91-9c63-dcedf27a7644",
        "colab": {
          "base_uri": "https://localhost:8080/"
        }
      },
      "source": [
        "train_texts, train_tags = list(), list()\n",
        "\n",
        "for i in tqdm.tqdm(range(100000)):\n",
        "  doc = next(docs)\n",
        "  bad_sentences = list()\n",
        "  texts = [text.text for text in doc.sents]\n",
        "  tags = [' '.join([item.tag for item in text.tokens]) for text in doc.sents]\n",
        "\n",
        "  for j in range(len(tags)):\n",
        "    if set(tags[j].split()) == {'O'}:\n",
        "      bad_sentences.append((texts[j], tags[j]))\n",
        "  \n",
        "  for s, t in bad_sentences:\n",
        "    texts.remove(s)\n",
        "    tags.remove(t)\n",
        "\n",
        "  if len(tokenizer.tokenize(' '.join(texts))) == len(' '.join(tags).split()) and len(tokenizer.tokenize(' '.join(texts))) < 125:\n",
        "    train_texts.append(' '.join(texts))\n",
        "    train_tags.append(' '.join(tags))"
      ],
      "execution_count": 44,
      "outputs": [
        {
          "output_type": "stream",
          "name": "stderr",
          "text": [
            "100%|██████████| 100000/100000 [03:40<00:00, 454.47it/s]\n"
          ]
        }
      ]
    },
    {
      "cell_type": "markdown",
      "metadata": {
        "id": "_cHYyxCJBTHx"
      },
      "source": [
        "## Задание 1"
      ]
    },
    {
      "cell_type": "markdown",
      "metadata": {
        "id": "FxQ7xl4OBXUu"
      },
      "source": [
        "Проверим что данные были загружены правильно, и проинициализируем множество тегов. <br>\n",
        "\n",
        "Создайте set всех уникальных тегов (их должно быть мало)."
      ]
    },
    {
      "cell_type": "code",
      "metadata": {
        "id": "uw8bTQUyPl-k"
      },
      "source": [
        "txt_ = [list(set(string)) for string in train_tags]"
      ],
      "execution_count": 45,
      "outputs": []
    },
    {
      "cell_type": "code",
      "metadata": {
        "id": "cvrGaPjpP2MU"
      },
      "source": [
        "tags = []\n",
        "for string in train_tags:\n",
        "  string = string.split()\n",
        "  for tag in string:\n",
        "    if tag not in tags:\n",
        "      tags.append(tag)"
      ],
      "execution_count": 46,
      "outputs": []
    },
    {
      "cell_type": "code",
      "metadata": {
        "id": "CWI7vhUuPxBN",
        "outputId": "990495a5-70c5-442f-93ba-24ef41a31595",
        "colab": {
          "base_uri": "https://localhost:8080/"
        }
      },
      "source": [
        "tags"
      ],
      "execution_count": 47,
      "outputs": [
        {
          "output_type": "execute_result",
          "data": {
            "text/plain": [
              "['B-LOC', 'O', 'B-PER', 'I-PER', 'B-ORG', 'I-ORG', 'I-LOC']"
            ]
          },
          "metadata": {},
          "execution_count": 47
        }
      ]
    },
    {
      "cell_type": "markdown",
      "metadata": {
        "id": "72tQ3DN2CPz7"
      },
      "source": [
        "Проверим правильность вашего кода:"
      ]
    },
    {
      "cell_type": "code",
      "metadata": {
        "id": "9ioA6bqmCOsG"
      },
      "source": [
        "from collections import Counter\n",
        "assert tags is not None\n",
        "assert len(tags) == 7\n",
        "assert sorted(tags)[2] == 'B-PER'\n",
        "assert Counter([tag for tags in train_tags for tag in tags.split()]).most_common()[1][1] < 25000"
      ],
      "execution_count": 48,
      "outputs": []
    },
    {
      "cell_type": "markdown",
      "metadata": {
        "id": "jYgqCTxmpRp_"
      },
      "source": [
        "# Предобученные эмбеддинги"
      ]
    },
    {
      "cell_type": "markdown",
      "metadata": {
        "id": "Oe6OYO3JDpev"
      },
      "source": [
        "Мы опять будем использовать предобученные эмбеддинги, только теперь для русского языка"
      ]
    },
    {
      "cell_type": "code",
      "metadata": {
        "id": "tM4_JU13rUym"
      },
      "source": [
        "!pip install fasttext > /dev/null"
      ],
      "execution_count": 49,
      "outputs": []
    },
    {
      "cell_type": "code",
      "metadata": {
        "id": "IdyFRXzNm-8E"
      },
      "source": [
        "import pytest\n",
        "import torch\n",
        "import pandas as pd\n",
        "import numpy as np\n",
        "import torch.nn as nn\n",
        "from torch import LongTensor, FloatTensor\n",
        "from torch.nn import functional as F\n",
        "from typing import List, Dict, Tuple, Optional, Union\n",
        "from torch.utils.data import Dataset\n",
        "from torch.optim import Adam\n",
        "import time\n",
        "\n",
        "from collections import Counter"
      ],
      "execution_count": 50,
      "outputs": []
    },
    {
      "cell_type": "markdown",
      "metadata": {
        "id": "QiVbXtA6Dzb9"
      },
      "source": [
        "## Задание 2\n",
        "Скачайте предобученные эмбеддинги для русского языка:"
      ]
    },
    {
      "cell_type": "code",
      "metadata": {
        "id": "ublvzeFbD8pT"
      },
      "source": [
        "# YOUR CODE HERE\n",
        "import fasttext.util\n",
        "# fasttext.util.download_model('ru', if_exists='ignore')  # russian\n"
      ],
      "execution_count": 51,
      "outputs": []
    },
    {
      "cell_type": "code",
      "metadata": {
        "id": "ccXcwmNdFztm"
      },
      "source": [
        "ft = fasttext.load_model('cc.ru.300.bin')"
      ],
      "execution_count": null,
      "outputs": []
    },
    {
      "cell_type": "markdown",
      "metadata": {
        "id": "bp-kpW45ERmj"
      },
      "source": [
        "Мы специально выбирали новости примерно одной длины, чтобы данные были достаточно однообразны."
      ]
    },
    {
      "cell_type": "code",
      "metadata": {
        "id": "_aJV2zZHwhNr",
        "outputId": "7ff3dbc9-9e58-46d8-f583-58ce6b8890c4",
        "colab": {
          "base_uri": "https://localhost:8080/",
          "height": 421
        }
      },
      "source": [
        "import pandas as pd\n",
        "import numpy as np\n",
        "\n",
        "\n",
        "max_lens = list()\n",
        "for row in train_texts:\n",
        "    max_lens.append(len(tokenizer.tokenize(row)))\n",
        "max_lens = pd.Series(max_lens)\n",
        "max_lens.plot();\n",
        "max_lens.describe()"
      ],
      "execution_count": 17,
      "outputs": [
        {
          "output_type": "execute_result",
          "data": {
            "text/plain": [
              "count    8760.000000\n",
              "mean       71.077397\n",
              "std        31.080529\n",
              "min         0.000000\n",
              "25%        46.000000\n",
              "50%        72.000000\n",
              "75%        97.000000\n",
              "max       124.000000\n",
              "dtype: float64"
            ]
          },
          "metadata": {},
          "execution_count": 17
        },
        {
          "output_type": "display_data",
          "data": {
            "image/png": "[encoded data removed]",
            "text/plain": [
              "<Figure size 432x288 with 1 Axes>"
            ]
          },
          "metadata": {
            "needs_background": "light"
          }
        }
      ]
    },
    {
      "cell_type": "markdown",
      "metadata": {
        "id": "iUY8zkLGEjok"
      },
      "source": [
        "Для проверки правильности вашего кода проинициализируйте переменную ```max_length``` 95% квантилем длинны всех строк, приведите ее к целому числу."
      ]
    },
    {
      "cell_type": "code",
      "metadata": {
        "id": "Af5bTyItGubS"
      },
      "source": [
        "# YOUR CODE HERE\n",
        "max_length = int(max_lens.quantile(0.95))"
      ],
      "execution_count": 53,
      "outputs": []
    },
    {
      "cell_type": "code",
      "metadata": {
        "id": "UGAfSTUJE7y9"
      },
      "source": [
        "assert len(train_texts) == 8760\n",
        "assert max_length < 120\n",
        "assert max_length > 100\n",
        "assert isinstance(max_length, int)"
      ],
      "execution_count": 55,
      "outputs": []
    },
    {
      "cell_type": "code",
      "metadata": {
        "id": "FgikzSUJqUt-"
      },
      "source": [
        "def get_word_to_idx(count: List[Tuple[str, int]],\n",
        "                   min_words: Union[int, float] = 0.0,\n",
        "                   max_words: Union[int, float] = 1.0) -> Dict[str, int]:\n",
        "    max_count = count[0][1]\n",
        "    if isinstance(min_words, float):\n",
        "        min_words = max_count * min_words\n",
        "    if isinstance(max_words, float):\n",
        "        max_words = max_count * max_words\n",
        "        \n",
        "    all_words = [w[0] for w in count if max_words >= w[1] >= min_words]\n",
        "    \n",
        "    all_words = ['<pad>', '<unk>'] + all_words\n",
        "    \n",
        "    word_to_idx = {k: v for k, v in zip(all_words, range(0, len(all_words)))}\n",
        "    return word_to_idx"
      ],
      "execution_count": 56,
      "outputs": []
    },
    {
      "cell_type": "code",
      "metadata": {
        "id": "78QDRQy5qcnY"
      },
      "source": [
        "count = Counter([i.lower() for j in train_texts for i in tokenizer.tokenize(j)])\n",
        "word_to_idx = get_word_to_idx(count.most_common(), min_words=1, max_words=100)"
      ],
      "execution_count": 57,
      "outputs": []
    },
    {
      "cell_type": "code",
      "metadata": {
        "id": "nHxDr4aFqtsl",
        "outputId": "db479184-694a-4097-a435-56708e1c9f48",
        "colab": {
          "base_uri": "https://localhost:8080/"
        }
      },
      "source": [
        "len(word_to_idx)"
      ],
      "execution_count": 58,
      "outputs": [
        {
          "output_type": "execute_result",
          "data": {
            "text/plain": [
              "73414"
            ]
          },
          "metadata": {},
          "execution_count": 58
        }
      ]
    },
    {
      "cell_type": "code",
      "metadata": {
        "id": "ohg5glBSyS-J",
        "outputId": "2ca0cb99-ff6d-4706-a0c7-33143a84cd34",
        "colab": {
          "base_uri": "https://localhost:8080/"
        }
      },
      "source": [
        "tag_to_idx = {v: k for k, v in enumerate(set([tag for tags in train_tags for tag in list(set(tags.split()))]))}\n",
        "tag_to_idx"
      ],
      "execution_count": 59,
      "outputs": [
        {
          "output_type": "execute_result",
          "data": {
            "text/plain": [
              "{'B-LOC': 5,\n",
              " 'B-ORG': 6,\n",
              " 'B-PER': 4,\n",
              " 'I-LOC': 1,\n",
              " 'I-ORG': 0,\n",
              " 'I-PER': 2,\n",
              " 'O': 3}"
            ]
          },
          "metadata": {},
          "execution_count": 59
        }
      ]
    },
    {
      "cell_type": "markdown",
      "metadata": {
        "id": "dvu4JDm8F7vD"
      },
      "source": [
        "## Задание 3\n",
        "Напишите функцию по построению матрицы, использующую прдобученные эмбеддинги."
      ]
    },
    {
      "cell_type": "code",
      "metadata": {
        "id": "MyBhFku-GPtp"
      },
      "source": [
        "# YOUR CODE HERE\n",
        "def build_matrix(\n",
        "    word_dict: Dict,\n",
        "    embedding_index,\n",
        "    max_features: int = 100000,\n",
        "    embed_size: int = 100,\n",
        ") -> Tuple[np.array, int, List]:\n",
        "    \n",
        "    embedding_index = ft\n",
        "    nb_words = min(max_features, len(word_dict))\n",
        "    embedding_matrix = np.zeros((nb_words, embed_size))\n",
        "\n",
        "    for word, i in word_dict.items():\n",
        "        embedding_matrix[i] = embedding_index[word]\n",
        "    return embedding_matrix, nb_words"
      ],
      "execution_count": 60,
      "outputs": []
    },
    {
      "cell_type": "code",
      "metadata": {
        "id": "bcgF3MmtGCvI"
      },
      "source": [
        "embedding_matrix, nb_words = build_matrix(word_dict=word_to_idx,\n",
        "                                          embedding_index=ft,\n",
        "                                          embed_size=300)"
      ],
      "execution_count": 61,
      "outputs": []
    },
    {
      "cell_type": "markdown",
      "metadata": {
        "id": "yFhSBt23Gasn"
      },
      "source": [
        "Проверим, корректно ли работает функция:"
      ]
    },
    {
      "cell_type": "code",
      "metadata": {
        "id": "JYd6idhUGaTt"
      },
      "source": [
        "assert embedding_matrix.shape[0] < 75000\n",
        "assert nb_words > 8 ** 3\n",
        "assert embedding_matrix[42].sum(axis=0) > -2"
      ],
      "execution_count": 62,
      "outputs": []
    },
    {
      "cell_type": "code",
      "metadata": {
        "id": "cUne__WvIN2R"
      },
      "source": [
        "embedding_matrix = torch.tensor(embedding_matrix, dtype=torch.float32)"
      ],
      "execution_count": 63,
      "outputs": []
    },
    {
      "cell_type": "markdown",
      "metadata": {
        "id": "d1wejDz8HXOb"
      },
      "source": [
        "## Задание 4\n",
        "Напишите функцию по созданию матрицы текстов и матрицы тегов. Не забудьте, что нужно использовать токенизацию при разбиении текстов новостей."
      ]
    },
    {
      "cell_type": "code",
      "metadata": {
        "id": "crQmuEZLHtTk"
      },
      "source": [
        "# YOUR CODE HERE\n",
        "\n",
        "def create_matrix_of_texts(dataset, max_sequence_length, \n",
        "                           pad_token, word2index):\n",
        "    texts = np.full((len(dataset), max_sequence_length),\n",
        "                    word2index[pad_token], dtype=np.int64)  # creating empty matrix\n",
        "\n",
        "    for ind, row in enumerate(dataset):\n",
        "          trim_length = min(max_sequence_length, len(tokenizer.tokenize(row.lower())))\n",
        "          text = tokenizer.tokenize(row.lower())[: trim_length] # ADD CODE HERE\n",
        "          texts[ind, : trim_length] = [word2index[w] if w in word2index else 1 for w in text] # ADD CODE HERE\n",
        "    return texts\n",
        "\n",
        "\n",
        "def create_matrix_of_tags(dataset, max_sequence_length, pad_index, tag2index):\n",
        "    tags = np.full((len(dataset), max_sequence_length),\n",
        "                    pad_index, dtype=np.int64)  # creating empty matrix\n",
        "\n",
        "    for ind, row in enumerate(dataset):\n",
        "          trim_length = min(max_sequence_length, len(row.split()))\n",
        "          labels = row.split()[: trim_length] # ADD CODE HERE\n",
        "          tags[ind, : trim_length] = [tag2index[item] for item in labels] # ADD CODE HERE\n",
        "    return tags"
      ],
      "execution_count": 75,
      "outputs": []
    },
    {
      "cell_type": "code",
      "metadata": {
        "id": "JKYZXKU8w11R"
      },
      "source": [
        "texts_matrix = create_matrix_of_texts(train_texts, \n",
        "                               max_length,\n",
        "                               '<pad>', word_to_idx)\n",
        "tags_matrix = create_matrix_of_tags(train_tags,\n",
        "                             max_length, tag_to_idx['O'], tag_to_idx)"
      ],
      "execution_count": 76,
      "outputs": []
    },
    {
      "cell_type": "code",
      "metadata": {
        "id": "d1pg9qVzIItF"
      },
      "source": [
        "# assert tags_matrix[6].sum() == 23\n",
        "assert texts_matrix[2029].mean() > 4500\n",
        "assert texts_matrix.shape[1] == max_length"
      ],
      "execution_count": 91,
      "outputs": []
    },
    {
      "cell_type": "markdown",
      "metadata": {
        "id": "v6LpaZHbDBa8"
      },
      "source": [
        "# Загрузка датасета"
      ]
    },
    {
      "cell_type": "markdown",
      "metadata": {
        "id": "ZE3Nl51DDGeF"
      },
      "source": [
        "Объединим матрицы текстов и матрицы тегов в обучающий датасет, используя знакомый вам класс загрузки датасетов."
      ]
    },
    {
      "cell_type": "code",
      "metadata": {
        "id": "YlwHhGEEzXCz"
      },
      "source": [
        "class NerDataset(Dataset):\n",
        "    def __init__(self,\n",
        "                 texts: np.array,\n",
        "                 tags: np.array):\n",
        "        self.tags = tags\n",
        "        self.texts = texts\n",
        "        \n",
        "\n",
        "    def __getitem__(self, idx: int) -> Tuple[torch.LongTensor, torch.LongTensor]:\n",
        "        tokens_tensor = torch.tensor(self.texts[idx], dtype=torch.int64)\n",
        "        return tokens_tensor, torch.tensor(self.tags[idx], dtype=torch.int64)\n",
        "\n",
        "    def __len__(self) -> int:\n",
        "        dataset_len = self.texts.shape[0]\n",
        "        return dataset_len"
      ],
      "execution_count": 92,
      "outputs": []
    },
    {
      "cell_type": "code",
      "metadata": {
        "id": "P5Q3xu2BzW70"
      },
      "source": [
        "dataset = train_tags\n",
        "ner_dataset = NerDataset(texts_matrix, tags_matrix)"
      ],
      "execution_count": 93,
      "outputs": []
    },
    {
      "cell_type": "code",
      "metadata": {
        "id": "AGIEGqsD3m1l"
      },
      "source": [
        "idx_to_tag = {second: first for first, second in tag_to_idx.items()}"
      ],
      "execution_count": 94,
      "outputs": []
    },
    {
      "cell_type": "code",
      "metadata": {
        "id": "X3bOTeJqz4rV"
      },
      "source": [
        "from torch.utils.data.dataset import random_split"
      ],
      "execution_count": 95,
      "outputs": []
    },
    {
      "cell_type": "code",
      "metadata": {
        "id": "GNUvRssuz4n2"
      },
      "source": [
        "BATCH_SIZE = 64"
      ],
      "execution_count": 96,
      "outputs": []
    },
    {
      "cell_type": "code",
      "metadata": {
        "id": "oFDAsMo2z4gr"
      },
      "source": [
        "num_train = int(len(ner_dataset) * 0.9)\n",
        "split_train_, split_valid_ = \\\n",
        "    random_split(ner_dataset, [num_train, len(ner_dataset) - num_train])\n",
        "\n",
        "train_dataloader = torch.utils.data.DataLoader(split_train_, batch_size=BATCH_SIZE,\n",
        "                              shuffle=True, drop_last=True)\n",
        "valid_dataloader = torch.utils.data.DataLoader(split_valid_, batch_size=BATCH_SIZE,\n",
        "                              shuffle=True)"
      ],
      "execution_count": 97,
      "outputs": []
    },
    {
      "cell_type": "markdown",
      "metadata": {
        "id": "QuhPyJ0mDVg5"
      },
      "source": [
        "# Обучение модели"
      ]
    },
    {
      "cell_type": "markdown",
      "metadata": {
        "id": "vrYTy-iOIToF"
      },
      "source": [
        "## Задание 5\n",
        "Создайте свою нейронную сеть. Попробуйте разные вариации архитектур RNN, посмотрите, что дает размораживание или заморозка предобученных весов.\n",
        "\n",
        "В дальнейшем вы выберите ту модель, которая демонстрирует лучшее качество."
      ]
    },
    {
      "cell_type": "code",
      "metadata": {
        "id": "osXe6jusIugL"
      },
      "source": [
        "# INSERT YOUR CODE\n",
        "\n",
        "class NerRNNModel(nn.Module):\n",
        "    def __init__(\n",
        "        self,\n",
        "        pretrained_embeddings,\n",
        "        mapping: Dict[int, str] = None,\n",
        "        hidden_size: int = 256\n",
        "    ):\n",
        "        super(NerRNNModel, self).__init__()\n",
        "        if not mapping:\n",
        "            raise RuntimeError(f'Empty labels')\n",
        "\n",
        "        # Vocabulary size\n",
        "        self.vocab_size = pretrained_embeddings.shape[0]\n",
        "        # Embedding dimensionality\n",
        "        self.embedding_size = pretrained_embeddings.shape[1]\n",
        "        self.labels = mapping\n",
        "        self.embedding = nn.Embedding.from_pretrained(pretrained_embeddings)\n",
        "        self.embedding.requires_grad_(True)\n",
        "        self.encoder = nn.RNN(input_size=self.embedding_size, hidden_size=hidden_size, num_layers=2, bidirectional=True, batch_first=True) # ADD YOUR CODE HERE\n",
        "\n",
        "        encoder_output_value = 2*hidden_size # ADD YOUR CODE HERE\n",
        "\n",
        "        self.projection = nn.Linear(encoder_output_value, len(mapping))\n",
        "        \n",
        "    def forward(self, tokens: LongTensor) -> FloatTensor:\n",
        "        emb = self.embedding(tokens)        \n",
        "        h, _ = self.encoder(emb) # ADD YOUR CODE HERE\n",
        "        pred = self.projection(h) # ADD YOUR CODE HERE\n",
        "        return pred.view(-1, len(self.labels))"
      ],
      "execution_count": 141,
      "outputs": []
    },
    {
      "cell_type": "code",
      "metadata": {
        "id": "3lzhsLlE5-L-"
      },
      "source": [
        "idx_to_word = {second: first for first, second in word_to_idx.items()}"
      ],
      "execution_count": 142,
      "outputs": []
    },
    {
      "cell_type": "code",
      "metadata": {
        "id": "TuROB6S_0dEG"
      },
      "source": [
        "from sklearn.metrics import classification_report\n",
        "\n",
        "def evaluate(dataloader):\n",
        "    model.eval()\n",
        "    total_acc, total_count = 0, 0\n",
        "    correct_labels = [value for value in idx_to_tag.values() if value != 'O']\n",
        "    predicted, true_labels = list(), list()\n",
        "\n",
        "    with torch.no_grad():\n",
        "        for idx, batch in enumerate(dataloader):\n",
        "            tokens, label = batch\n",
        "            tokens = tokens.to(device)\n",
        "            \n",
        "            logits = model(tokens)\n",
        "            predictions = F.log_softmax(logits, dim=1).reshape(-1,\n",
        "                                                               max_length,\n",
        "                                                               len(idx_to_tag)).argmax(dim=2).flatten().detach().cpu().numpy()\n",
        "            predicted.extend(predictions)\n",
        "            true_labels.extend(label.flatten().detach().cpu().numpy())\n",
        "    \n",
        "    true_labels = [idx_to_tag[val] for val in true_labels]\n",
        "    \n",
        "    predicted = [idx_to_tag[val] for val in predicted]\n",
        "    print('\\n', classification_report(true_labels,\n",
        "                                      predicted,\n",
        "                                      labels=correct_labels))"
      ],
      "execution_count": 143,
      "outputs": []
    },
    {
      "cell_type": "code",
      "metadata": {
        "id": "db4a9j7A0dAJ",
        "outputId": "ba65d967-dd4c-4295-d1bc-10df1c97f644",
        "colab": {
          "base_uri": "https://localhost:8080/"
        }
      },
      "source": [
        "model = NerRNNModel(embedding_matrix, tag_to_idx, 256)\n",
        "optimizer = torch.optim.Adam(model.parameters(), lr=0.0001)\n",
        "device = torch.device('cuda') if torch.cuda.is_available() else torch.device('cpu')\n",
        "model.to(device)"
      ],
      "execution_count": 144,
      "outputs": [
        {
          "output_type": "execute_result",
          "data": {
            "text/plain": [
              "NerRNNModel(\n",
              "  (embedding): Embedding(73414, 300)\n",
              "  (encoder): RNN(300, 256, num_layers=2, batch_first=True, bidirectional=True)\n",
              "  (projection): Linear(in_features=512, out_features=7, bias=True)\n",
              ")"
            ]
          },
          "metadata": {},
          "execution_count": 144
        }
      ]
    },
    {
      "cell_type": "code",
      "metadata": {
        "id": "4bgnKQ0x0y6s",
        "outputId": "a4cba43e-37e1-4f56-afe6-39c544c0ab83",
        "colab": {
          "base_uri": "https://localhost:8080/"
        }
      },
      "source": [
        "sum([params.numel() for params in model.parameters() if params.requires_grad])"
      ],
      "execution_count": 145,
      "outputs": [
        {
          "output_type": "execute_result",
          "data": {
            "text/plain": [
              "22707727"
            ]
          },
          "metadata": {},
          "execution_count": 145
        }
      ]
    },
    {
      "cell_type": "markdown",
      "metadata": {
        "id": "ryHm8VFBJVOn"
      },
      "source": [
        "## Задание 6\n",
        "Дополните цикл обучения:"
      ]
    },
    {
      "cell_type": "code",
      "metadata": {
        "id": "8pTRcK4QJisG",
        "outputId": "927d0dc9-7e1c-4aad-e8a9-8feb1c91290d",
        "colab": {
          "base_uri": "https://localhost:8080/",
          "height": 1000,
          "referenced_widgets": [
            "d95713b99a5f43feb65b277e6bbbde06",
            "fdc8f902420b44bdb0cf1c0e949f41bd",
            "e6c64b5c4e7c4d6ebfb9828710ef1877",
            "2095d58f2a87433b84db1fafb902d378",
            "35071b15e22b44749c73d9fd9325744a",
            "345a4905a16344dbb10d5a8da358d94f",
            "852cfa8c55624d4ab903e712ff7fb536",
            "dcb3856673f64af8af94a4c1b252b03b",
            "392a5e5e9be14a2395bac98b81af3ac2",
            "26a82ac115dd4bf48a06f4a1bc1fbf6b",
            "baeca369b38c4f07bc9c788de4a5ef54",
            "4d2d3a5369ae4c599427434f3f09dc85",
            "11aaf32bf1774f13939e7aceb1d3dbfc",
            "266f0d6118ec479688b85dc02a716432",
            "4040ea4143ab4986a9c8da86f0671397",
            "8448c8cf88cf45b6a1c9b35ad5bee060",
            "ccc03ecba49f467c8c7f79e117ecf43d",
            "a81671737f7b498483de83e6e6efeb3f",
            "0bd57bcb9d164f36821ffdbfa4bda7d4",
            "ce418c5865484e538c686eb8ea5fb00f",
            "017a61838bbc4e6ea2dbc4568fe20b20",
            "3877e667eb814195b53d0b01784c1a0b",
            "3f2b250ba144406980ae6a5a8e47d7cf",
            "6b5f5c6ad9f9460080d195096e8e1317",
            "58c4892469db4908acdaad0a0f3d53ff",
            "77d13e03a05b4e0b8af79df09f4a7029",
            "5f0b9df785874e4385450651f5111f9e",
            "8f8377921e3d4cd5acae2123a5588371",
            "45186090ae2a4b13a058c7d39aa96ec4",
            "52485a10a5104b92b334e5333e1e086f",
            "c70d6e07c2394dd2b2df9261a2f14631",
            "593aa7ab9f194de4a22a4ced19368462",
            "d22116e2baed4934b376993eea9eb679",
            "174062b0ba21403e9cf0981a7d2aeb81",
            "3c40e02f13f6463ca79b2674f4fb1e0c",
            "c7ed75ee16ba41f19f9903b60ef83479",
            "66def0a6ad804bd0b774724fbc2df024",
            "882da637eec649feb0562e79a5ede35f",
            "ce7ec980808544d2b1bb1d219f9c015b",
            "5f85a6e8f882429787fbd4e1075cdff3",
            "f3f1a8bded6947fba848371f8558d36b",
            "df77d3fd68a344ccb7d186a518769e3d",
            "ad15ea5b3b2341b08e5f1aa71c5feafc",
            "71f64cd8c5b14c90a1577726bbbf3c0a",
            "7e9be2fd839947e98949468d9b870557",
            "4fe96272b1e641708304f523d1a1752f",
            "309e6739df944cf4a7919e30207dfdc5",
            "7e031d5e3941427989bd7ee28fa1e76d",
            "c54f1a8ed36046a0af897617ebb93e25",
            "5a32da1849d342218427326f21a2a2cf",
            "2cd39522365442d59c442bc48fe55fd7",
            "bf2279b8f58a4d9bad0f46ec9b9baf39",
            "0c9e442f7729468ea2d54ebcb4781af4",
            "7f6204b53c044ad0b56b861d61696d0e",
            "81aaa91c19fe4862aac64bd33e6839cb",
            "0be32b88edd64bdb958c9e8135dd8f85",
            "d18bd56098c2424385e2bac71f2a8ba0",
            "73f173097cb04649b2b06204a830d8ba",
            "f34a79d5f1e541888bb98f9d3e59162b",
            "c6e61269e87b447b9d4f4c230737eeb8",
            "7f4bc82058a2401fbc8445d56acf3d38",
            "9002c2393c1142058193321cfa475989",
            "5ca053b5d655477e94e4c897868f8005",
            "6fdb87bc6cf545a5b27b3d6272e4a281",
            "d7f02cf6f6214e4b9cd193bdc840f280",
            "ae7de9dcdb5f42e2beaca5f1ad1d9315",
            "c119e949d0d14a96b76e54487d9e95d2",
            "f11a3d31484b42e78a4672aef4865427",
            "e287c882008c4f249306d658297f1288",
            "2d3354cf3cbf45148d1531df57d47fc8",
            "7324238f9da1415a9075f80490c488e0",
            "7287d029e47f4d49a919433c3a69969a",
            "b1e6e1601f7a45f4b714fed59771c4da",
            "e6ea1cc223354041b33a96825d824756",
            "41d748201946435cb576cbfe266d76bc",
            "66d145119aff41edae924f6c5757183a",
            "efaf237e1b3543e8bbecd69eae076c64",
            "3916a71aa9424fe9b9183e155eb88e7a",
            "f9231a3eaef54ca0952d0b137490fadc",
            "7ce4ad4855c044bf919e180898f6b4a6",
            "e87ac3ba21d043bf8d09c9d4856abebf",
            "238225c2d3df4071b07411feda626ca8",
            "d82039c86ae849299c3a6f650445376c",
            "ff448c5b74a245b995b4ffe824a7155a",
            "5234513d7dfe49469b754e30c7e4a25e",
            "b915f600199b4d21bc632ddace792c97",
            "45560cd053f147e099139e8dc73cb29b",
            "489cc28e37f8427eace34f3880083b6b"
          ]
        }
      },
      "source": [
        "# INSERT YOUR CODE\n",
        "\n",
        "for e in range(8):\n",
        "    total_loss = 0\n",
        "    model.train()\n",
        "    loss_function = nn.CrossEntropyLoss()\n",
        "    for sent in tqdm.auto.tqdm(train_dataloader):\n",
        "\n",
        "            # (1) Set gradient to zero for new example: Set gradients to zero before pass\n",
        "            model.zero_grad() # ADD YOUR CODE inplace ...\n",
        "            \n",
        "            # (2) Encode sentence and tag sequence as sequences of indices\n",
        "            input_sent, gold_tags = sent\n",
        "\n",
        "            # (3) Predict tags (sentence by sentence)\n",
        "            if len(input_sent) > 0:\n",
        "                pred_scores = model(input_sent.to(device))\n",
        "                mask = gold_tags != tag_to_idx['O']\n",
        "                # (4) Compute loss and do backward step\n",
        "                loss = loss_function(pred_scores.to(device), gold_tags.view(-1).to(device))\n",
        "                loss.backward() # ADD YOUR CODE\n",
        "              \n",
        "                # (5) Optimize parameter values\n",
        "                optimizer.step() # ADD YOUR CODE inplace ...\n",
        "          \n",
        "                # (6) Accumulate loss\n",
        "                total_loss += loss\n",
        "    print('\\nEpoch: %d, loss: %.4f' % (e, total_loss / len(train_dataloader)))\n",
        "    evaluate(valid_dataloader)"
      ],
      "execution_count": 146,
      "outputs": [
        {
          "output_type": "display_data",
          "data": {
            "application/vnd.jupyter.widget-view+json": {
              "model_id": "d95713b99a5f43feb65b277e6bbbde06",
              "version_minor": 0,
              "version_major": 2
            },
            "text/plain": [
              "  0%|          | 0/123 [00:00<?, ?it/s]"
            ]
          },
          "metadata": {}
        },
        {
          "output_type": "stream",
          "name": "stdout",
          "text": [
            "\n",
            "Epoch: 0, loss: 0.5525\n"
          ]
        },
        {
          "output_type": "stream",
          "name": "stderr",
          "text": [
            "/usr/local/lib/python3.7/dist-packages/sklearn/metrics/_classification.py:1272: UndefinedMetricWarning: Precision and F-score are ill-defined and being set to 0.0 in labels with no predicted samples. Use `zero_division` parameter to control this behavior.\n",
            "  _warn_prf(average, modifier, msg_start, len(result))\n",
            "/usr/local/lib/python3.7/dist-packages/sklearn/metrics/_classification.py:1272: UndefinedMetricWarning: Precision and F-score are ill-defined and being set to 0.0 due to no predicted samples. Use `zero_division` parameter to control this behavior.\n",
            "  _warn_prf(average, modifier, msg_start, len(result))\n"
          ]
        },
        {
          "output_type": "stream",
          "name": "stdout",
          "text": [
            "\n",
            "               precision    recall  f1-score   support\n",
            "\n",
            "       I-ORG       0.00      0.00      0.00      1704\n",
            "       I-LOC       0.00      0.00      0.00       382\n",
            "       I-PER       0.00      0.00      0.00      1203\n",
            "       B-PER       0.00      0.00      0.00      1389\n",
            "       B-LOC       0.00      0.00      0.00      2155\n",
            "       B-ORG       0.00      0.00      0.00      2197\n",
            "\n",
            "   micro avg       0.00      0.00      0.00      9030\n",
            "   macro avg       0.00      0.00      0.00      9030\n",
            "weighted avg       0.00      0.00      0.00      9030\n",
            "\n"
          ]
        },
        {
          "output_type": "display_data",
          "data": {
            "application/vnd.jupyter.widget-view+json": {
              "model_id": "4d2d3a5369ae4c599427434f3f09dc85",
              "version_minor": 0,
              "version_major": 2
            },
            "text/plain": [
              "  0%|          | 0/123 [00:00<?, ?it/s]"
            ]
          },
          "metadata": {}
        },
        {
          "output_type": "stream",
          "name": "stdout",
          "text": [
            "\n",
            "Epoch: 1, loss: 0.3577\n",
            "\n",
            "               precision    recall  f1-score   support\n",
            "\n",
            "       I-ORG       0.77      0.04      0.07      1704\n",
            "       I-LOC       0.00      0.00      0.00       382\n",
            "       I-PER       0.62      0.13      0.22      1203\n",
            "       B-PER       0.67      0.10      0.17      1389\n",
            "       B-LOC       0.48      0.01      0.01      2155\n",
            "       B-ORG       0.34      0.07      0.11      2197\n",
            "\n",
            "   micro avg       0.52      0.06      0.10      9030\n",
            "   macro avg       0.48      0.06      0.10      9030\n",
            "weighted avg       0.53      0.06      0.10      9030\n",
            "\n"
          ]
        },
        {
          "output_type": "display_data",
          "data": {
            "application/vnd.jupyter.widget-view+json": {
              "model_id": "3f2b250ba144406980ae6a5a8e47d7cf",
              "version_minor": 0,
              "version_major": 2
            },
            "text/plain": [
              "  0%|          | 0/123 [00:00<?, ?it/s]"
            ]
          },
          "metadata": {}
        },
        {
          "output_type": "stream",
          "name": "stdout",
          "text": [
            "\n",
            "Epoch: 2, loss: 0.2914\n",
            "\n",
            "               precision    recall  f1-score   support\n",
            "\n",
            "       I-ORG       0.69      0.20      0.31      1704\n",
            "       I-LOC       0.00      0.00      0.00       382\n",
            "       I-PER       0.61      0.40      0.48      1203\n",
            "       B-PER       0.57      0.27      0.37      1389\n",
            "       B-LOC       0.61      0.19      0.29      2155\n",
            "       B-ORG       0.52      0.15      0.23      2197\n",
            "\n",
            "   micro avg       0.60      0.21      0.32      9030\n",
            "   macro avg       0.50      0.20      0.28      9030\n",
            "weighted avg       0.57      0.21      0.31      9030\n",
            "\n"
          ]
        },
        {
          "output_type": "display_data",
          "data": {
            "application/vnd.jupyter.widget-view+json": {
              "model_id": "174062b0ba21403e9cf0981a7d2aeb81",
              "version_minor": 0,
              "version_major": 2
            },
            "text/plain": [
              "  0%|          | 0/123 [00:00<?, ?it/s]"
            ]
          },
          "metadata": {}
        },
        {
          "output_type": "stream",
          "name": "stdout",
          "text": [
            "\n",
            "Epoch: 3, loss: 0.2427\n",
            "\n",
            "               precision    recall  f1-score   support\n",
            "\n",
            "       I-ORG       0.72      0.30      0.42      1704\n",
            "       I-LOC       0.00      0.00      0.00       382\n",
            "       I-PER       0.74      0.45      0.56      1203\n",
            "       B-PER       0.60      0.33      0.43      1389\n",
            "       B-LOC       0.61      0.40      0.48      2155\n",
            "       B-ORG       0.61      0.20      0.30      2197\n",
            "\n",
            "   micro avg       0.65      0.31      0.42      9030\n",
            "   macro avg       0.55      0.28      0.37      9030\n",
            "weighted avg       0.62      0.31      0.41      9030\n",
            "\n"
          ]
        },
        {
          "output_type": "display_data",
          "data": {
            "application/vnd.jupyter.widget-view+json": {
              "model_id": "7e9be2fd839947e98949468d9b870557",
              "version_minor": 0,
              "version_major": 2
            },
            "text/plain": [
              "  0%|          | 0/123 [00:00<?, ?it/s]"
            ]
          },
          "metadata": {}
        },
        {
          "output_type": "stream",
          "name": "stdout",
          "text": [
            "\n",
            "Epoch: 4, loss: 0.2042\n",
            "\n",
            "               precision    recall  f1-score   support\n",
            "\n",
            "       I-ORG       0.71      0.36      0.48      1704\n",
            "       I-LOC       0.80      0.04      0.08       382\n",
            "       I-PER       0.75      0.53      0.62      1203\n",
            "       B-PER       0.60      0.44      0.51      1389\n",
            "       B-LOC       0.76      0.47      0.58      2155\n",
            "       B-ORG       0.65      0.30      0.41      2197\n",
            "\n",
            "   micro avg       0.70      0.39      0.50      9030\n",
            "   macro avg       0.71      0.36      0.45      9030\n",
            "weighted avg       0.70      0.39      0.49      9030\n",
            "\n"
          ]
        },
        {
          "output_type": "display_data",
          "data": {
            "application/vnd.jupyter.widget-view+json": {
              "model_id": "0be32b88edd64bdb958c9e8135dd8f85",
              "version_minor": 0,
              "version_major": 2
            },
            "text/plain": [
              "  0%|          | 0/123 [00:00<?, ?it/s]"
            ]
          },
          "metadata": {}
        },
        {
          "output_type": "stream",
          "name": "stdout",
          "text": [
            "\n",
            "Epoch: 5, loss: 0.1753\n",
            "\n",
            "               precision    recall  f1-score   support\n",
            "\n",
            "       I-ORG       0.72      0.38      0.50      1704\n",
            "       I-LOC       0.86      0.21      0.33       382\n",
            "       I-PER       0.77      0.52      0.62      1203\n",
            "       B-PER       0.62      0.43      0.51      1389\n",
            "       B-LOC       0.79      0.50      0.61      2155\n",
            "       B-ORG       0.64      0.32      0.42      2197\n",
            "\n",
            "   micro avg       0.71      0.41      0.52      9030\n",
            "   macro avg       0.73      0.39      0.50      9030\n",
            "weighted avg       0.71      0.41      0.52      9030\n",
            "\n"
          ]
        },
        {
          "output_type": "display_data",
          "data": {
            "application/vnd.jupyter.widget-view+json": {
              "model_id": "c119e949d0d14a96b76e54487d9e95d2",
              "version_minor": 0,
              "version_major": 2
            },
            "text/plain": [
              "  0%|          | 0/123 [00:00<?, ?it/s]"
            ]
          },
          "metadata": {}
        },
        {
          "output_type": "stream",
          "name": "stdout",
          "text": [
            "\n",
            "Epoch: 6, loss: 0.1536\n",
            "\n",
            "               precision    recall  f1-score   support\n",
            "\n",
            "       I-ORG       0.70      0.39      0.50      1704\n",
            "       I-LOC       0.75      0.29      0.42       382\n",
            "       I-PER       0.74      0.53      0.62      1203\n",
            "       B-PER       0.62      0.44      0.51      1389\n",
            "       B-LOC       0.72      0.54      0.62      2155\n",
            "       B-ORG       0.66      0.31      0.42      2197\n",
            "\n",
            "   micro avg       0.69      0.43      0.53      9030\n",
            "   macro avg       0.70      0.42      0.52      9030\n",
            "weighted avg       0.69      0.43      0.52      9030\n",
            "\n"
          ]
        },
        {
          "output_type": "display_data",
          "data": {
            "application/vnd.jupyter.widget-view+json": {
              "model_id": "3916a71aa9424fe9b9183e155eb88e7a",
              "version_minor": 0,
              "version_major": 2
            },
            "text/plain": [
              "  0%|          | 0/123 [00:00<?, ?it/s]"
            ]
          },
          "metadata": {}
        },
        {
          "output_type": "stream",
          "name": "stdout",
          "text": [
            "\n",
            "Epoch: 7, loss: 0.1346\n",
            "\n",
            "               precision    recall  f1-score   support\n",
            "\n",
            "       I-ORG       0.70      0.38      0.49      1704\n",
            "       I-LOC       0.78      0.28      0.41       382\n",
            "       I-PER       0.73      0.53      0.62      1203\n",
            "       B-PER       0.60      0.45      0.52      1389\n",
            "       B-LOC       0.79      0.50      0.61      2155\n",
            "       B-ORG       0.65      0.33      0.43      2197\n",
            "\n",
            "   micro avg       0.70      0.42      0.53      9030\n",
            "   macro avg       0.71      0.41      0.51      9030\n",
            "weighted avg       0.70      0.42      0.52      9030\n",
            "\n"
          ]
        }
      ]
    },
    {
      "cell_type": "markdown",
      "metadata": {
        "id": "TqHvasIRudhm"
      },
      "source": [
        ""
      ]
    },
    {
      "cell_type": "markdown",
      "metadata": {
        "id": "iCViX5ZmJ81M"
      },
      "source": [
        "Попробуйте различные подходы, добейтесь качества модели больше 0.5 по micro avg f1-score. <br>"
      ]
    },
    {
      "cell_type": "markdown",
      "metadata": {
        "id": "gSAnlfM3KLFo"
      },
      "source": [
        "### Подсказка"
      ]
    },
    {
      "cell_type": "markdown",
      "metadata": {
        "id": "hrCDiVxADxiK"
      },
      "source": [
        "Иногда простые модели бьют куда более сложные нейронные сети :)"
      ]
    }
  ]
}