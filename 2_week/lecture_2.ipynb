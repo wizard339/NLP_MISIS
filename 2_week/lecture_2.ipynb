{
  "nbformat": 4,
  "nbformat_minor": 0,
  "metadata": {
    "colab": {
      "name": "lecture_2.ipynb",
      "provenance": [],
      "collapsed_sections": [
        "dYiMSlimBMdh"
      ]
    },
    "kernelspec": {
      "name": "python3",
      "display_name": "Python 3"
    },
    "language_info": {
      "name": "python"
    }
  },
  "cells": [
    {
      "cell_type": "markdown",
      "metadata": {
        "id": "vQOdcqFLBBqB"
      },
      "source": [
        "Let`s write function that computes cross-entropy fuction on batch of samples. "
      ]
    },
    {
      "cell_type": "markdown",
      "metadata": {
        "id": "dYiMSlimBMdh"
      },
      "source": [
        "#### help"
      ]
    },
    {
      "cell_type": "code",
      "metadata": {
        "id": "h51AX3xeBOo6"
      },
      "source": [
        "# 0.  Your input is probabilities - vector for of probabilities for all classes for one sample and targets - ohe vectors for each sample\n",
        "# 1.  clip predictions in range of (0,1). You can also clip predictions on some little value of epsilon (epsilon, 1 - epsilon)\n",
        "# 2.  compute sum of each prob multiply target\n",
        "# 3.  take on everage value of all CE for each sample"
      ],
      "execution_count": null,
      "outputs": []
    },
    {
      "cell_type": "markdown",
      "metadata": {
        "id": "m4amaNTMDCqD"
      },
      "source": [
        "### Your Implementation"
      ]
    },
    {
      "cell_type": "code",
      "metadata": {
        "id": "V0aNOQMBDPKN"
      },
      "source": [
        "import numpy as np"
      ],
      "execution_count": 1,
      "outputs": []
    },
    {
      "cell_type": "code",
      "metadata": {
        "id": "cOzXJXVZA_jQ"
      },
      "source": [
        "#YOUR CODE HERE\n",
        "def cross_entropy(prob: np.array, targets: np.array, epsilon=1e-9) -> float:\n",
        "  predictions = np.clip(prob, epsilon, 1. - epsilon)\n",
        "  N = predictions.shape[0]\n",
        "  ce = -np.sum(targets * np.log(prob + 1e-9)) / N\n",
        "  return ce"
      ],
      "execution_count": 4,
      "outputs": []
    },
    {
      "cell_type": "code",
      "metadata": {
        "id": "fZmpzpMbDwgg"
      },
      "source": [
        "predictions = np.array([[0.25,0.25,0.25,0.25],\n",
        "                        [0.01,0.01,0.01,0.96]])\n",
        "\n",
        "targets = np.array([[0,0,0,1],\n",
        "                   [0,0,0,1]])\n",
        "\n",
        "ans = 0.71355817782 \n",
        "\n",
        "x = cross_entropy(predictions, targets)"
      ],
      "execution_count": 5,
      "outputs": []
    },
    {
      "cell_type": "code",
      "metadata": {
        "id": "XYiFBFNAD0ym"
      },
      "source": [
        "assert np.isclose(x,ans)"
      ],
      "execution_count": 6,
      "outputs": []
    },
    {
      "cell_type": "code",
      "metadata": {
        "id": "eJOT7F3BEFbd"
      },
      "source": [
        ""
      ],
      "execution_count": null,
      "outputs": []
    }
  ]
}
