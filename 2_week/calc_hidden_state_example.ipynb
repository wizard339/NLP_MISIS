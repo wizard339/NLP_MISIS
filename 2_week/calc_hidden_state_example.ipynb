{
  "nbformat": 4,
  "nbformat_minor": 0,
  "metadata": {
    "colab": {
      "name": "Добро пожаловать в Colaboratory!",
      "provenance": [],
      "collapsed_sections": [],
      "toc_visible": true,
      "include_colab_link": true
    },
    "kernelspec": {
      "display_name": "Python 3",
      "name": "python3"
    }
  },
  "cells": [
    {
      "cell_type": "markdown",
      "metadata": {
        "id": "view-in-github",
        "colab_type": "text"
      },
      "source": [
        "<a href=\"https://colab.research.google.com/github/wizard339/NLP_MISIS/blob/main/2_week/calc_hidden_state_example.ipynb\" target=\"_parent\"><img src=\"https://colab.research.google.com/assets/colab-badge.svg\" alt=\"Open In Colab\"/></a>"
      ]
    },
    {
      "cell_type": "code",
      "metadata": {
        "id": "oALKz0sapC2X"
      },
      "source": [
        "import numpy as np"
      ],
      "execution_count": 1,
      "outputs": []
    },
    {
      "cell_type": "markdown",
      "metadata": {
        "id": "PHxl4wozpH2C"
      },
      "source": [
        "→ Дан текст (для задания 8.1): “мама мыла”\n",
        "\n",
        "→ Веса для слов: мама = [0.2, 0.5, 0.8]; мыла = [0.5, 0.6, -0.3]\n",
        "\n",
        "→ Матрица весов Wh = [[0.4, 0.6, 0.9], [-0.2, 0.5, 0.1], [0.2, 0.1, -0.7]]\n",
        "\n",
        "→ Матрица весов We = [[0.3, -0.1, 0.4], [0.2, -0.7, 0.4], [0.3, 0.2, 0.8]]\n",
        "\n",
        "→ Вектор b = [0.9, 0.4, -0.8]"
      ]
    },
    {
      "cell_type": "code",
      "metadata": {
        "id": "13MuZzinpEqg"
      },
      "source": [
        "text = 'мама мыла'"
      ],
      "execution_count": 2,
      "outputs": []
    },
    {
      "cell_type": "code",
      "metadata": {
        "id": "agIcMlqQpNT4",
        "outputId": "b953e7c4-4cb5-4725-c6c6-cca2660ced06",
        "colab": {
          "base_uri": "https://localhost:8080/"
        }
      },
      "source": [
        "e1 = np.array([0.2, 0.5, 0.8])\n",
        "e1"
      ],
      "execution_count": 3,
      "outputs": [
        {
          "output_type": "execute_result",
          "data": {
            "text/plain": [
              "array([0.2, 0.5, 0.8])"
            ]
          },
          "metadata": {},
          "execution_count": 3
        }
      ]
    },
    {
      "cell_type": "code",
      "metadata": {
        "id": "lBdgbcQWpUPg",
        "outputId": "b95cd1ff-da78-47ac-9e93-133bb283a2fc",
        "colab": {
          "base_uri": "https://localhost:8080/"
        }
      },
      "source": [
        "e2 = np.array([0.5, 0.6, -0.3])\n",
        "e2"
      ],
      "execution_count": 4,
      "outputs": [
        {
          "output_type": "execute_result",
          "data": {
            "text/plain": [
              "array([ 0.5,  0.6, -0.3])"
            ]
          },
          "metadata": {},
          "execution_count": 4
        }
      ]
    },
    {
      "cell_type": "code",
      "metadata": {
        "id": "ikpTfDSPpZje",
        "outputId": "4750d442-c9b3-410d-fff9-16282b3989a1",
        "colab": {
          "base_uri": "https://localhost:8080/"
        }
      },
      "source": [
        "Wh = np.array([[0.4, 0.6, 0.9], [-0.2, 0.5, 0.1], [0.2, 0.1, -0.7]])\n",
        "Wh"
      ],
      "execution_count": 5,
      "outputs": [
        {
          "output_type": "execute_result",
          "data": {
            "text/plain": [
              "array([[ 0.4,  0.6,  0.9],\n",
              "       [-0.2,  0.5,  0.1],\n",
              "       [ 0.2,  0.1, -0.7]])"
            ]
          },
          "metadata": {},
          "execution_count": 5
        }
      ]
    },
    {
      "cell_type": "code",
      "metadata": {
        "id": "HFp0L1n1pfHW",
        "outputId": "73c38dd0-5467-47fb-c2d0-fff60ba5634d",
        "colab": {
          "base_uri": "https://localhost:8080/"
        }
      },
      "source": [
        "We = np.array([[0.3, -0.1, 0.4], [0.2, -0.7, 0.4], [0.3, 0.2, 0.8]])\n",
        "We"
      ],
      "execution_count": 6,
      "outputs": [
        {
          "output_type": "execute_result",
          "data": {
            "text/plain": [
              "array([[ 0.3, -0.1,  0.4],\n",
              "       [ 0.2, -0.7,  0.4],\n",
              "       [ 0.3,  0.2,  0.8]])"
            ]
          },
          "metadata": {},
          "execution_count": 6
        }
      ]
    },
    {
      "cell_type": "code",
      "metadata": {
        "id": "bmnPLLd6pkla",
        "outputId": "fdda422d-93b6-49d1-9ae4-140b94bec6ac",
        "colab": {
          "base_uri": "https://localhost:8080/"
        }
      },
      "source": [
        "b = np.array([0.9, 0.4, -0.8])\n",
        "b"
      ],
      "execution_count": 7,
      "outputs": [
        {
          "output_type": "execute_result",
          "data": {
            "text/plain": [
              "array([ 0.9,  0.4, -0.8])"
            ]
          },
          "metadata": {},
          "execution_count": 7
        }
      ]
    },
    {
      "cell_type": "code",
      "metadata": {
        "id": "nrLHDW2YpoTX"
      },
      "source": [
        "def sigmoid(x):\n",
        "  return 1 / (1 + np.exp(-x))\n",
        "\n",
        "assert sigmoid(0.458) == 0.61253961344091512"
      ],
      "execution_count": 8,
      "outputs": []
    },
    {
      "cell_type": "code",
      "metadata": {
        "id": "PBkIIS8FrcSB",
        "outputId": "6928c0e0-f00b-4c87-ee7f-a3997a5211a3",
        "colab": {
          "base_uri": "https://localhost:8080/"
        }
      },
      "source": [
        "h0 = np.zeros(3)\n",
        "h0"
      ],
      "execution_count": 9,
      "outputs": [
        {
          "output_type": "execute_result",
          "data": {
            "text/plain": [
              "array([0., 0., 0.])"
            ]
          },
          "metadata": {},
          "execution_count": 9
        }
      ]
    },
    {
      "cell_type": "code",
      "metadata": {
        "id": "WtnxVWeNqTYc",
        "outputId": "f167486a-f565-4f4e-f4be-a9d25f0626b5",
        "colab": {
          "base_uri": "https://localhost:8080/"
        }
      },
      "source": [
        "h1 = sigmoid(np.dot(Wh, h0) + np.dot(We, e1) + b)\n",
        "h1"
      ],
      "execution_count": 10,
      "outputs": [
        {
          "output_type": "execute_result",
          "data": {
            "text/plain": [
              "array([0.77381857, 0.60108788, 0.5       ])"
            ]
          },
          "metadata": {},
          "execution_count": 10
        }
      ]
    },
    {
      "cell_type": "code",
      "metadata": {
        "id": "qUX88aSlsRNq",
        "outputId": "db5b488f-91e0-4f0e-dcf1-22970e045b36",
        "colab": {
          "base_uri": "https://localhost:8080/"
        }
      },
      "source": [
        "h2 = sigmoid(np.dot(Wh, h1) + np.dot(We, e2) + b)\n",
        "h2"
      ],
      "execution_count": 11,
      "outputs": [
        {
          "output_type": "execute_result",
          "data": {
            "text/plain": [
              "array([0.8797622 , 0.53886649, 0.28799794])"
            ]
          },
          "metadata": {},
          "execution_count": 11
        }
      ]
    },
    {
      "cell_type": "code",
      "metadata": {
        "id": "VxwdBCA_sZTg",
        "outputId": "9b47a75e-ef69-4f6d-912a-f84d89db5936",
        "colab": {
          "base_uri": "https://localhost:8080/"
        }
      },
      "source": [
        "np.round(h2, 2)"
      ],
      "execution_count": 12,
      "outputs": [
        {
          "output_type": "execute_result",
          "data": {
            "text/plain": [
              "array([0.88, 0.54, 0.29])"
            ]
          },
          "metadata": {},
          "execution_count": 12
        }
      ]
    },
    {
      "cell_type": "code",
      "metadata": {
        "id": "TLYOCpOis0HL"
      },
      "source": [
        ""
      ],
      "execution_count": 12,
      "outputs": []
    }
  ]
}