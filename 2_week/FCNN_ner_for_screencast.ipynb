{
  "nbformat": 4,
  "nbformat_minor": 0,
  "metadata": {
    "colab": {
      "name": "FCNN ner_for_screencast.ipynb",
      "provenance": [],
      "collapsed_sections": [
        "AqP86jc610L0"
      ]
    },
    "kernelspec": {
      "name": "python3",
      "display_name": "Python 3"
    },
    "language_info": {
      "name": "python"
    },
    "accelerator": "GPU",
    "widgets": {
      "application/vnd.jupyter.widget-state+json": {
        "71613531fcfc41aeb855160f9090a18c": {
          "model_module": "@jupyter-widgets/controls",
          "model_name": "HBoxModel",
          "state": {
            "_view_name": "HBoxView",
            "_dom_classes": [],
            "_model_name": "HBoxModel",
            "_view_module": "@jupyter-widgets/controls",
            "_model_module_version": "1.5.0",
            "_view_count": null,
            "_view_module_version": "1.5.0",
            "box_style": "",
            "layout": "IPY_MODEL_dc55496ce84c435ea2bbbfa74b7b60c4",
            "_model_module": "@jupyter-widgets/controls",
            "children": [
              "IPY_MODEL_2f4ecdcf29914f2ea1577e5119b43c0c",
              "IPY_MODEL_a91d4ac67c4c4f9ba10a66aae8000086"
            ]
          }
        },
        "dc55496ce84c435ea2bbbfa74b7b60c4": {
          "model_module": "@jupyter-widgets/base",
          "model_name": "LayoutModel",
          "state": {
            "_view_name": "LayoutView",
            "grid_template_rows": null,
            "right": null,
            "justify_content": null,
            "_view_module": "@jupyter-widgets/base",
            "overflow": null,
            "_model_module_version": "1.2.0",
            "_view_count": null,
            "flex_flow": null,
            "width": null,
            "min_width": null,
            "border": null,
            "align_items": null,
            "bottom": null,
            "_model_module": "@jupyter-widgets/base",
            "top": null,
            "grid_column": null,
            "overflow_y": null,
            "overflow_x": null,
            "grid_auto_flow": null,
            "grid_area": null,
            "grid_template_columns": null,
            "flex": null,
            "_model_name": "LayoutModel",
            "justify_items": null,
            "grid_row": null,
            "max_height": null,
            "align_content": null,
            "visibility": null,
            "align_self": null,
            "height": null,
            "min_height": null,
            "padding": null,
            "grid_auto_rows": null,
            "grid_gap": null,
            "max_width": null,
            "order": null,
            "_view_module_version": "1.2.0",
            "grid_template_areas": null,
            "object_position": null,
            "object_fit": null,
            "grid_auto_columns": null,
            "margin": null,
            "display": null,
            "left": null
          }
        },
        "2f4ecdcf29914f2ea1577e5119b43c0c": {
          "model_module": "@jupyter-widgets/controls",
          "model_name": "FloatProgressModel",
          "state": {
            "_view_name": "ProgressView",
            "style": "IPY_MODEL_2b99f0d142464016a9d6ad02cff4923c",
            "_dom_classes": [],
            "description": "",
            "_model_name": "FloatProgressModel",
            "bar_style": "info",
            "max": 1,
            "_view_module": "@jupyter-widgets/controls",
            "_model_module_version": "1.5.0",
            "value": 1,
            "_view_count": null,
            "_view_module_version": "1.5.0",
            "orientation": "horizontal",
            "min": 0,
            "description_tooltip": null,
            "_model_module": "@jupyter-widgets/controls",
            "layout": "IPY_MODEL_4a09a42d2c5245469224afe74e80c7f6"
          }
        },
        "a91d4ac67c4c4f9ba10a66aae8000086": {
          "model_module": "@jupyter-widgets/controls",
          "model_name": "HTMLModel",
          "state": {
            "_view_name": "HTMLView",
            "style": "IPY_MODEL_b483cf79b50a445e8d92fef36c3c66dd",
            "_dom_classes": [],
            "description": "",
            "_model_name": "HTMLModel",
            "placeholder": "​",
            "_view_module": "@jupyter-widgets/controls",
            "_model_module_version": "1.5.0",
            "value": " 3453/0 [00:00&lt;00:00, 4324.05 examples/s]",
            "_view_count": null,
            "_view_module_version": "1.5.0",
            "description_tooltip": null,
            "_model_module": "@jupyter-widgets/controls",
            "layout": "IPY_MODEL_9211e00cc718408db1e82beceb2f7e67"
          }
        },
        "2b99f0d142464016a9d6ad02cff4923c": {
          "model_module": "@jupyter-widgets/controls",
          "model_name": "ProgressStyleModel",
          "state": {
            "_view_name": "StyleView",
            "_model_name": "ProgressStyleModel",
            "description_width": "initial",
            "_view_module": "@jupyter-widgets/base",
            "_model_module_version": "1.5.0",
            "_view_count": null,
            "_view_module_version": "1.2.0",
            "bar_color": null,
            "_model_module": "@jupyter-widgets/controls"
          }
        },
        "4a09a42d2c5245469224afe74e80c7f6": {
          "model_module": "@jupyter-widgets/base",
          "model_name": "LayoutModel",
          "state": {
            "_view_name": "LayoutView",
            "grid_template_rows": null,
            "right": null,
            "justify_content": null,
            "_view_module": "@jupyter-widgets/base",
            "overflow": null,
            "_model_module_version": "1.2.0",
            "_view_count": null,
            "flex_flow": null,
            "width": null,
            "min_width": null,
            "border": null,
            "align_items": null,
            "bottom": null,
            "_model_module": "@jupyter-widgets/base",
            "top": null,
            "grid_column": null,
            "overflow_y": null,
            "overflow_x": null,
            "grid_auto_flow": null,
            "grid_area": null,
            "grid_template_columns": null,
            "flex": null,
            "_model_name": "LayoutModel",
            "justify_items": null,
            "grid_row": null,
            "max_height": null,
            "align_content": null,
            "visibility": null,
            "align_self": null,
            "height": null,
            "min_height": null,
            "padding": null,
            "grid_auto_rows": null,
            "grid_gap": null,
            "max_width": null,
            "order": null,
            "_view_module_version": "1.2.0",
            "grid_template_areas": null,
            "object_position": null,
            "object_fit": null,
            "grid_auto_columns": null,
            "margin": null,
            "display": null,
            "left": null
          }
        },
        "b483cf79b50a445e8d92fef36c3c66dd": {
          "model_module": "@jupyter-widgets/controls",
          "model_name": "DescriptionStyleModel",
          "state": {
            "_view_name": "StyleView",
            "_model_name": "DescriptionStyleModel",
            "description_width": "",
            "_view_module": "@jupyter-widgets/base",
            "_model_module_version": "1.5.0",
            "_view_count": null,
            "_view_module_version": "1.2.0",
            "_model_module": "@jupyter-widgets/controls"
          }
        },
        "9211e00cc718408db1e82beceb2f7e67": {
          "model_module": "@jupyter-widgets/base",
          "model_name": "LayoutModel",
          "state": {
            "_view_name": "LayoutView",
            "grid_template_rows": null,
            "right": null,
            "justify_content": null,
            "_view_module": "@jupyter-widgets/base",
            "overflow": null,
            "_model_module_version": "1.2.0",
            "_view_count": null,
            "flex_flow": null,
            "width": null,
            "min_width": null,
            "border": null,
            "align_items": null,
            "bottom": null,
            "_model_module": "@jupyter-widgets/base",
            "top": null,
            "grid_column": null,
            "overflow_y": null,
            "overflow_x": null,
            "grid_auto_flow": null,
            "grid_area": null,
            "grid_template_columns": null,
            "flex": null,
            "_model_name": "LayoutModel",
            "justify_items": null,
            "grid_row": null,
            "max_height": null,
            "align_content": null,
            "visibility": null,
            "align_self": null,
            "height": null,
            "min_height": null,
            "padding": null,
            "grid_auto_rows": null,
            "grid_gap": null,
            "max_width": null,
            "order": null,
            "_view_module_version": "1.2.0",
            "grid_template_areas": null,
            "object_position": null,
            "object_fit": null,
            "grid_auto_columns": null,
            "margin": null,
            "display": null,
            "left": null
          }
        }
      }
    }
  },
  "cells": [
    {
      "cell_type": "code",
      "metadata": {
        "id": "Vd-IotO4I0tk"
      },
      "source": [
        "!pip install datasets > /dev/null"
      ],
      "execution_count": null,
      "outputs": []
    },
    {
      "cell_type": "code",
      "metadata": {
        "id": "DJ3hL-f9I0l9"
      },
      "source": [
        "import pytest\n",
        "from datasets import load_dataset\n",
        "import torch\n",
        "import torch.nn as nn\n",
        "from torch import LongTensor, FloatTensor\n",
        "from torch.nn import functional as F\n",
        "from typing import List, Dict, Tuple, Optional\n",
        "from torch.utils.data import Dataset\n",
        "from torch.optim import Adam\n",
        "import time\n",
        "from tqdm import tqdm\n",
        "\n",
        "from collections import Counter"
      ],
      "execution_count": null,
      "outputs": []
    },
    {
      "cell_type": "code",
      "metadata": {
        "id": "TDZ1Piz4I0XU",
        "colab": {
          "base_uri": "https://localhost:8080/",
          "height": 71,
          "referenced_widgets": [
            "d75e1f7ef64448f2973e260670bc3a8d",
            "71613531fcfc41aeb855160f9090a18c",
            "dc55496ce84c435ea2bbbfa74b7b60c4",
            "2f4ecdcf29914f2ea1577e5119b43c0c",
            "a91d4ac67c4c4f9ba10a66aae8000086",
            "2b99f0d142464016a9d6ad02cff4923c",
            "4a09a42d2c5245469224afe74e80c7f6",
            "b483cf79b50a445e8d92fef36c3c66dd",
            "9211e00cc718408db1e82beceb2f7e67"
          ]
        },
        "outputId": "2f899b01-30cc-4348-c34b-9e25aa4a970d"
      },
      "source": [
        "dataset_base = load_dataset(\"conll2003\")"
      ],
      "execution_count": null,
      "outputs": [
        {
          "output_type": "stream",
          "text": [
            "\r"
          ],
          "name": "stdout"
        },
        {
          "output_type": "display_data",
          "data": {
            "application/vnd.jupyter.widget-view+json": {
              "model_id": "d75e1f7ef64448f2973e260670bc3a8d",
              "version_minor": 0,
              "version_major": 2
            },
            "text/plain": [
              "HBox(children=(FloatProgress(value=1.0, bar_style='info', max=1.0), HTML(value='')))"
            ]
          },
          "metadata": {
            "tags": []
          }
        },
        {
          "output_type": "stream",
          "text": [
            "\r"
          ],
          "name": "stdout"
        },
        {
          "output_type": "display_data",
          "data": {
            "application/vnd.jupyter.widget-view+json": {
              "model_id": "71613531fcfc41aeb855160f9090a18c",
              "version_minor": 0,
              "version_major": 2
            },
            "text/plain": [
              "HBox(children=(FloatProgress(value=1.0, bar_style='info', max=1.0), HTML(value='')))"
            ]
          },
          "metadata": {
            "tags": []
          }
        },
        {
          "output_type": "stream",
          "text": [
            "\rDataset conll2003 downloaded and prepared to /root/.cache/huggingface/datasets/conll2003/conll2003/1.0.0/40e7cb6bcc374f7c349c83acd1e9352a4f09474eb691f64f364ee62eb65d0ca6. Subsequent calls will reuse this data.\n"
          ],
          "name": "stdout"
        }
      ]
    },
    {
      "cell_type": "code",
      "metadata": {
        "colab": {
          "base_uri": "https://localhost:8080/"
        },
        "id": "aUDWw7mZI76R",
        "outputId": "9cc32967-4b2a-4c20-9052-d0808f57d171"
      },
      "source": [
        "dataset_base['train']"
      ],
      "execution_count": null,
      "outputs": [
        {
          "output_type": "execute_result",
          "data": {
            "text/plain": [
              "Dataset({\n",
              "    features: ['chunk_tags', 'id', 'ner_tags', 'pos_tags', 'tokens'],\n",
              "    num_rows: 14041\n",
              "})"
            ]
          },
          "metadata": {
            "tags": []
          },
          "execution_count": 4
        }
      ]
    },
    {
      "cell_type": "code",
      "metadata": {
        "colab": {
          "base_uri": "https://localhost:8080/"
        },
        "id": "JSwpeouxZgZg",
        "outputId": "d3d720b2-66b6-464c-ea1f-b5d37d14aa29"
      },
      "source": [
        "import json\n",
        "mapping_ = {v: k for k, v in dataset_base[\"train\"].features[\"ner_tags\"].feature._str2int.items()}\n",
        "\n",
        "with open('mapping.json', 'w') as f:\n",
        "  json.dump(mapping_, f)\n",
        "mapping_"
      ],
      "execution_count": null,
      "outputs": [
        {
          "output_type": "execute_result",
          "data": {
            "text/plain": [
              "{0: 'O',\n",
              " 1: 'B-PER',\n",
              " 2: 'I-PER',\n",
              " 3: 'B-ORG',\n",
              " 4: 'I-ORG',\n",
              " 5: 'B-LOC',\n",
              " 6: 'I-LOC',\n",
              " 7: 'B-MISC',\n",
              " 8: 'I-MISC'}"
            ]
          },
          "metadata": {
            "tags": []
          },
          "execution_count": 5
        }
      ]
    },
    {
      "cell_type": "markdown",
      "metadata": {
        "id": "AqP86jc610L0"
      },
      "source": [
        "## sklearn crf"
      ]
    },
    {
      "cell_type": "code",
      "metadata": {
        "id": "yBbojqMZ2AjH"
      },
      "source": [
        "!pip install sklearn_crfsuite > /dev/null"
      ],
      "execution_count": null,
      "outputs": []
    },
    {
      "cell_type": "code",
      "metadata": {
        "id": "RBun7VL414bV"
      },
      "source": [
        "import pandas as pd\n",
        "import numpy as np\n",
        "import sklearn\n",
        "import sklearn_crfsuite\n",
        "from sklearn_crfsuite import scorers\n",
        "from sklearn_crfsuite import metrics"
      ],
      "execution_count": null,
      "outputs": []
    },
    {
      "cell_type": "code",
      "metadata": {
        "id": "dpknLGgd14Q2",
        "colab": {
          "base_uri": "https://localhost:8080/",
          "height": 669
        },
        "outputId": "9b10f1ff-ed7e-4ace-c842-a508c7fc487d"
      },
      "source": [
        "df = pd.DataFrame({'sent_id': [i for j in [[i] * len(s['tokens']) for i, s in enumerate(dataset_base['train'])] for i in j],\n",
        "                   'data': [i for j in dataset_base['train'] for i in j['tokens']],\n",
        "                   'entities': [mapping_[i] for j in dataset_base['train'] for i in j['ner_tags']]})\n",
        "df.head(20)"
      ],
      "execution_count": null,
      "outputs": [
        {
          "output_type": "execute_result",
          "data": {
            "text/html": [
              "<div>\n",
              "<style scoped>\n",
              "    .dataframe tbody tr th:only-of-type {\n",
              "        vertical-align: middle;\n",
              "    }\n",
              "\n",
              "    .dataframe tbody tr th {\n",
              "        vertical-align: top;\n",
              "    }\n",
              "\n",
              "    .dataframe thead th {\n",
              "        text-align: right;\n",
              "    }\n",
              "</style>\n",
              "<table border=\"1\" class=\"dataframe\">\n",
              "  <thead>\n",
              "    <tr style=\"text-align: right;\">\n",
              "      <th></th>\n",
              "      <th>sent_id</th>\n",
              "      <th>data</th>\n",
              "      <th>entities</th>\n",
              "    </tr>\n",
              "  </thead>\n",
              "  <tbody>\n",
              "    <tr>\n",
              "      <th>0</th>\n",
              "      <td>0</td>\n",
              "      <td>EU</td>\n",
              "      <td>B-ORG</td>\n",
              "    </tr>\n",
              "    <tr>\n",
              "      <th>1</th>\n",
              "      <td>0</td>\n",
              "      <td>rejects</td>\n",
              "      <td>O</td>\n",
              "    </tr>\n",
              "    <tr>\n",
              "      <th>2</th>\n",
              "      <td>0</td>\n",
              "      <td>German</td>\n",
              "      <td>B-MISC</td>\n",
              "    </tr>\n",
              "    <tr>\n",
              "      <th>3</th>\n",
              "      <td>0</td>\n",
              "      <td>call</td>\n",
              "      <td>O</td>\n",
              "    </tr>\n",
              "    <tr>\n",
              "      <th>4</th>\n",
              "      <td>0</td>\n",
              "      <td>to</td>\n",
              "      <td>O</td>\n",
              "    </tr>\n",
              "    <tr>\n",
              "      <th>5</th>\n",
              "      <td>0</td>\n",
              "      <td>boycott</td>\n",
              "      <td>O</td>\n",
              "    </tr>\n",
              "    <tr>\n",
              "      <th>6</th>\n",
              "      <td>0</td>\n",
              "      <td>British</td>\n",
              "      <td>B-MISC</td>\n",
              "    </tr>\n",
              "    <tr>\n",
              "      <th>7</th>\n",
              "      <td>0</td>\n",
              "      <td>lamb</td>\n",
              "      <td>O</td>\n",
              "    </tr>\n",
              "    <tr>\n",
              "      <th>8</th>\n",
              "      <td>0</td>\n",
              "      <td>.</td>\n",
              "      <td>O</td>\n",
              "    </tr>\n",
              "    <tr>\n",
              "      <th>9</th>\n",
              "      <td>1</td>\n",
              "      <td>Peter</td>\n",
              "      <td>B-PER</td>\n",
              "    </tr>\n",
              "    <tr>\n",
              "      <th>10</th>\n",
              "      <td>1</td>\n",
              "      <td>Blackburn</td>\n",
              "      <td>I-PER</td>\n",
              "    </tr>\n",
              "    <tr>\n",
              "      <th>11</th>\n",
              "      <td>2</td>\n",
              "      <td>BRUSSELS</td>\n",
              "      <td>B-LOC</td>\n",
              "    </tr>\n",
              "    <tr>\n",
              "      <th>12</th>\n",
              "      <td>2</td>\n",
              "      <td>1996-08-22</td>\n",
              "      <td>O</td>\n",
              "    </tr>\n",
              "    <tr>\n",
              "      <th>13</th>\n",
              "      <td>3</td>\n",
              "      <td>The</td>\n",
              "      <td>O</td>\n",
              "    </tr>\n",
              "    <tr>\n",
              "      <th>14</th>\n",
              "      <td>3</td>\n",
              "      <td>European</td>\n",
              "      <td>B-ORG</td>\n",
              "    </tr>\n",
              "    <tr>\n",
              "      <th>15</th>\n",
              "      <td>3</td>\n",
              "      <td>Commission</td>\n",
              "      <td>I-ORG</td>\n",
              "    </tr>\n",
              "    <tr>\n",
              "      <th>16</th>\n",
              "      <td>3</td>\n",
              "      <td>said</td>\n",
              "      <td>O</td>\n",
              "    </tr>\n",
              "    <tr>\n",
              "      <th>17</th>\n",
              "      <td>3</td>\n",
              "      <td>on</td>\n",
              "      <td>O</td>\n",
              "    </tr>\n",
              "    <tr>\n",
              "      <th>18</th>\n",
              "      <td>3</td>\n",
              "      <td>Thursday</td>\n",
              "      <td>O</td>\n",
              "    </tr>\n",
              "    <tr>\n",
              "      <th>19</th>\n",
              "      <td>3</td>\n",
              "      <td>it</td>\n",
              "      <td>O</td>\n",
              "    </tr>\n",
              "  </tbody>\n",
              "</table>\n",
              "</div>"
            ],
            "text/plain": [
              "    sent_id        data entities\n",
              "0         0          EU    B-ORG\n",
              "1         0     rejects        O\n",
              "2         0      German   B-MISC\n",
              "3         0        call        O\n",
              "4         0          to        O\n",
              "5         0     boycott        O\n",
              "6         0     British   B-MISC\n",
              "7         0        lamb        O\n",
              "8         0           .        O\n",
              "9         1       Peter    B-PER\n",
              "10        1   Blackburn    I-PER\n",
              "11        2    BRUSSELS    B-LOC\n",
              "12        2  1996-08-22        O\n",
              "13        3         The        O\n",
              "14        3    European    B-ORG\n",
              "15        3  Commission    I-ORG\n",
              "16        3        said        O\n",
              "17        3          on        O\n",
              "18        3    Thursday        O\n",
              "19        3          it        O"
            ]
          },
          "metadata": {
            "tags": []
          },
          "execution_count": 68
        }
      ]
    },
    {
      "cell_type": "code",
      "metadata": {
        "id": "pB6G0QRr14G5"
      },
      "source": [
        "class SentenceGetter(object):\n",
        "    \n",
        "    def __init__(self, data):\n",
        "        self.n_sent = 1\n",
        "        self.data = data\n",
        "        self.empty = False\n",
        "        agg_func = lambda s: [(w, t) for w, t in zip(s['data'].values.tolist(), \n",
        "                                                     s['entities'].values.tolist())]\n",
        "        self.grouped = self.data.groupby('sent_id').apply(agg_func)\n",
        "        self.sentences = [s for s in self.grouped]\n",
        "        \n",
        "    def get_next(self):\n",
        "        try: \n",
        "            s = self.grouped['Sentence: {}'.format(self.n_sent)]\n",
        "            self.n_sent += 1\n",
        "            return s \n",
        "        except:\n",
        "            return None\n",
        "\n",
        "getter = SentenceGetter(df)\n",
        "sentences = getter.sentences"
      ],
      "execution_count": null,
      "outputs": []
    },
    {
      "cell_type": "code",
      "metadata": {
        "id": "6suzvO5E5lbu"
      },
      "source": [
        "def word2features(sent, i):\n",
        "    word = sent[i][0]\n",
        "    postag = sent[i][1]\n",
        "    \n",
        "    features = {\n",
        "        'bias': 1.0, \n",
        "        'word.lower()': word.lower(), \n",
        "        'word[-3:]': word[-3:],\n",
        "        'word[-2:]': word[-2:],\n",
        "        'word.isupper()': word.isupper(),\n",
        "        'word.istitle()': word.istitle(),\n",
        "        'word.isdigit()': word.isdigit()\n",
        "    }\n",
        "    if i > 0:\n",
        "        word1 = sent[i-1][0]\n",
        "        features.update({\n",
        "            '-1:word.lower()': word1.lower(),\n",
        "            '-1:word.istitle()': word1.istitle(),\n",
        "            '-1:word.isupper()': word1.isupper()\n",
        "        })\n",
        "    else:\n",
        "        features['BOS'] = True\n",
        "    if i < len(sent)-1:\n",
        "        word1 = sent[i+1][0]\n",
        "        features.update({\n",
        "            '+1:word.lower()': word1.lower(),\n",
        "            '+1:word.istitle()': word1.istitle(),\n",
        "            '+1:word.isupper()': word1.isupper()\n",
        "        })\n",
        "    else:\n",
        "        features['EOS'] = True\n",
        "\n",
        "    return features\n",
        "\n",
        "def sent2features(sent):\n",
        "    return [word2features(sent, i) for i in range(len(sent))]\n",
        "\n",
        "def sent2labels(sent):\n",
        "    return [label for token, label in sent]\n",
        "\n",
        "def sent2tokens(sent):\n",
        "    return [token for token, label in sent]"
      ],
      "execution_count": null,
      "outputs": []
    },
    {
      "cell_type": "code",
      "metadata": {
        "id": "17OlKia_5lRr"
      },
      "source": [
        "X = [sent2features(s) for s in sentences]\n",
        "y = [sent2labels(s) for s in sentences]"
      ],
      "execution_count": null,
      "outputs": []
    },
    {
      "cell_type": "code",
      "metadata": {
        "colab": {
          "base_uri": "https://localhost:8080/"
        },
        "id": "uHje_zel5lIS",
        "outputId": "3efa091b-7bfd-4458-9918-494d3a292394"
      },
      "source": [
        "len(X)"
      ],
      "execution_count": null,
      "outputs": [
        {
          "output_type": "execute_result",
          "data": {
            "text/plain": [
              "14041"
            ]
          },
          "metadata": {
            "tags": []
          },
          "execution_count": 72
        }
      ]
    },
    {
      "cell_type": "code",
      "metadata": {
        "id": "7cDvXaMd5zRH"
      },
      "source": [
        "X_train = X[:10000]\n",
        "X_test = X[10000:]\n",
        "y_train = y[:10000]\n",
        "y_test = y[10000:]"
      ],
      "execution_count": null,
      "outputs": []
    },
    {
      "cell_type": "code",
      "metadata": {
        "id": "WzdtzbLz5_0p"
      },
      "source": [
        "%%time\n",
        "crf = sklearn_crfsuite.CRF(\n",
        "    algorithm='lbfgs',\n",
        "    c1=0.1,\n",
        "    c2=0.1,\n",
        "    max_iterations=100,\n",
        "    all_possible_transitions=True,\n",
        "    verbose=True\n",
        ")\n",
        "crf.fit(X_train, y_train)"
      ],
      "execution_count": null,
      "outputs": []
    },
    {
      "cell_type": "code",
      "metadata": {
        "id": "7xxa8nFp5_kF",
        "colab": {
          "base_uri": "https://localhost:8080/"
        },
        "outputId": "7266f07c-8f4a-4ed0-9e95-764d18f01332"
      },
      "source": [
        "all_entities = sorted(df.entities.unique().tolist())\n",
        "y_pred = crf.predict(X_test)\n",
        "metrics.flat_f1_score(y_test, y_pred, average='weighted', labels=all_entities)"
      ],
      "execution_count": null,
      "outputs": [
        {
          "output_type": "execute_result",
          "data": {
            "text/plain": [
              "0.9670912566610134"
            ]
          },
          "metadata": {
            "tags": []
          },
          "execution_count": 75
        }
      ]
    },
    {
      "cell_type": "code",
      "metadata": {
        "id": "viNqEHDf6P9W",
        "colab": {
          "base_uri": "https://localhost:8080/"
        },
        "outputId": "4bd9c1aa-e31e-45f4-f9d2-cbc27b22bb88"
      },
      "source": [
        "y_pred = crf.predict(X_test)\n",
        "metrics.flat_f1_score(y_test, y_pred, average='weighted', labels=[i for i in all_entities if i != 'O'])"
      ],
      "execution_count": null,
      "outputs": [
        {
          "output_type": "execute_result",
          "data": {
            "text/plain": [
              "0.8369877440448509"
            ]
          },
          "metadata": {
            "tags": []
          },
          "execution_count": 76
        }
      ]
    },
    {
      "cell_type": "code",
      "metadata": {
        "id": "J4UGNtv16PwU",
        "colab": {
          "base_uri": "https://localhost:8080/"
        },
        "outputId": "c294fb86-b9b4-419f-ff97-fdd04b957197"
      },
      "source": [
        "print(metrics.flat_classification_report(y_test, y_pred, labels=all_entities))"
      ],
      "execution_count": null,
      "outputs": [
        {
          "output_type": "stream",
          "text": [
            "              precision    recall  f1-score   support\n",
            "\n",
            "       B-LOC       0.89      0.86      0.88      2205\n",
            "      B-MISC       0.91      0.79      0.85      1103\n",
            "       B-ORG       0.78      0.75      0.77      1739\n",
            "       B-PER       0.86      0.86      0.86      1976\n",
            "       I-LOC       0.86      0.69      0.76       422\n",
            "      I-MISC       0.82      0.62      0.70       370\n",
            "       I-ORG       0.79      0.80      0.79      1149\n",
            "       I-PER       0.89      0.95      0.92      1297\n",
            "           O       0.99      0.99      0.99     54605\n",
            "\n",
            "    accuracy                           0.97     64866\n",
            "   macro avg       0.87      0.81      0.84     64866\n",
            "weighted avg       0.97      0.97      0.97     64866\n",
            "\n"
          ],
          "name": "stdout"
        }
      ]
    },
    {
      "cell_type": "code",
      "metadata": {
        "colab": {
          "base_uri": "https://localhost:8080/"
        },
        "id": "F6cKe7rU6Pj3",
        "outputId": "2c283672-24b3-4117-d1c4-262b08f806f2"
      },
      "source": [
        "print(metrics.flat_classification_report(y_test, y_pred, labels=[i for i in all_entities if i != 'O']))"
      ],
      "execution_count": null,
      "outputs": [
        {
          "output_type": "stream",
          "text": [
            "              precision    recall  f1-score   support\n",
            "\n",
            "       B-LOC       0.89      0.86      0.88      2205\n",
            "      B-MISC       0.91      0.79      0.85      1103\n",
            "       B-ORG       0.78      0.75      0.77      1739\n",
            "       B-PER       0.86      0.86      0.86      1976\n",
            "       I-LOC       0.86      0.69      0.76       422\n",
            "      I-MISC       0.82      0.62      0.70       370\n",
            "       I-ORG       0.79      0.80      0.79      1149\n",
            "       I-PER       0.89      0.95      0.92      1297\n",
            "\n",
            "   micro avg       0.85      0.82      0.84     10261\n",
            "   macro avg       0.85      0.79      0.82     10261\n",
            "weighted avg       0.85      0.82      0.84     10261\n",
            "\n"
          ],
          "name": "stdout"
        }
      ]
    },
    {
      "cell_type": "markdown",
      "metadata": {
        "id": "MFDIKC92G1qe"
      },
      "source": [
        "## NER"
      ]
    },
    {
      "cell_type": "markdown",
      "metadata": {
        "id": "PEMltxDtAyAz"
      },
      "source": [
        "### FCNN"
      ]
    },
    {
      "cell_type": "code",
      "metadata": {
        "id": "s7xvPhtGmOzs"
      },
      "source": [
        "import pytest\n",
        "from datasets import load_dataset\n",
        "import torch\n",
        "import torch.nn as nn\n",
        "from torch import LongTensor, FloatTensor\n",
        "from torch.nn import functional as F\n",
        "from typing import List, Dict, Tuple, Optional, Union\n",
        "from torch.utils.data import Dataset\n",
        "from sklearn.metrics import classification_report\n",
        "import numpy as np\n",
        "import pandas as pd\n",
        "import time\n",
        "from tqdm import tqdm\n",
        "\n",
        "from collections import Counter"
      ],
      "execution_count": null,
      "outputs": []
    },
    {
      "cell_type": "code",
      "metadata": {
        "colab": {
          "base_uri": "https://localhost:8080/",
          "height": 418
        },
        "id": "b2JqI7fC82P-",
        "outputId": "781ccd2b-f181-4432-e308-5f4135b1b045"
      },
      "source": [
        "import pandas as pd\n",
        "\n",
        "\n",
        "max_lens = list()\n",
        "for row in dataset_base['train']:\n",
        "    max_lens.append(len(row['tokens']))\n",
        "max_lens = pd.Series(max_lens)\n",
        "max_lens.plot();\n",
        "max_lens.describe()"
      ],
      "execution_count": null,
      "outputs": [
        {
          "output_type": "execute_result",
          "data": {
            "text/plain": [
              "count    14041.000000\n",
              "mean        14.501887\n",
              "std         11.602756\n",
              "min          1.000000\n",
              "25%          6.000000\n",
              "50%         10.000000\n",
              "75%         22.000000\n",
              "max        113.000000\n",
              "dtype: float64"
            ]
          },
          "metadata": {
            "tags": []
          },
          "execution_count": 7
        },
        {
          "output_type": "display_data",
          "data": {
            "image/png": "[encoded data removed]",
            "text/plain": [
              "<Figure size 432x288 with 1 Axes>"
            ]
          },
          "metadata": {
            "tags": [],
            "needs_background": "light"
          }
        }
      ]
    },
    {
      "cell_type": "code",
      "metadata": {
        "id": "iZU2rS_4NazR"
      },
      "source": [
        "def get_word_to_idx(count: List[Tuple[str, int]],\n",
        "                   min_words: Union[int, float] = 0.0,\n",
        "                   max_words: Union[int, float] = 1.0) -> Dict[str, int]:\n",
        "    max_count = count[0][1]\n",
        "    if isinstance(min_words, float):\n",
        "        min_words = max_count * min_words\n",
        "    if isinstance(max_words, float):\n",
        "        max_words = max_count * max_words\n",
        "        \n",
        "    all_words = [w[0] for w in count if max_words >= w[1] >= min_words]\n",
        "    \n",
        "    all_words = ['<pad>', '<unk>'] + all_words\n",
        "    \n",
        "    word_to_idx = {k: v for k, v in zip(all_words, range(0, len(all_words)))}\n",
        "    return word_to_idx"
      ],
      "execution_count": null,
      "outputs": []
    },
    {
      "cell_type": "code",
      "metadata": {
        "colab": {
          "base_uri": "https://localhost:8080/"
        },
        "id": "8erRNdHW7mhy",
        "outputId": "da80512f-0fd1-4875-87f2-4bc1cf6d01bd"
      },
      "source": [
        "count = Counter([i for j in dataset_base['train'] for i in j['tokens']])\n",
        "word_to_idx = get_word_to_idx(count.most_common(), min_words=1)\n",
        "len(word_to_idx)"
      ],
      "execution_count": null,
      "outputs": [
        {
          "output_type": "execute_result",
          "data": {
            "text/plain": [
              "23625"
            ]
          },
          "metadata": {
            "tags": []
          },
          "execution_count": 9
        }
      ]
    },
    {
      "cell_type": "code",
      "metadata": {
        "id": "b5ZL84Z8c6FF"
      },
      "source": [
        "def create_matrix_of_texts(dataset, max_sequence_length, \n",
        "                           pad_token, word2index):\n",
        "    texts = np.full((len(dataset), max_sequence_length),\n",
        "                    word2index[pad_token], dtype=np.int64)  # creating empty matrix\n",
        "\n",
        "    for ind, row in enumerate(dataset):\n",
        "          trim_length = min(max_sequence_length, len(row['tokens']))\n",
        "          text = row['tokens'][: trim_length]\n",
        "          texts[ind, : trim_length] = [word2index[item] for item in text]\n",
        "    return texts\n",
        "\n",
        "\n",
        "def create_matrix_of_tags(dataset, max_sequence_length, pad_index):\n",
        "    tags = np.full((len(dataset), max_sequence_length),\n",
        "                    pad_index, dtype=np.int64)  # creating empty matrix\n",
        "\n",
        "    for ind, row in enumerate(dataset):\n",
        "          trim_length = min(max_sequence_length, len(row['ner_tags']))\n",
        "          labels = row['ner_tags'][: trim_length]\n",
        "          tags[ind, : trim_length] = [item for item in labels]\n",
        "    return tags"
      ],
      "execution_count": null,
      "outputs": []
    },
    {
      "cell_type": "code",
      "metadata": {
        "id": "6wBoNF8dfYlZ"
      },
      "source": [
        "texts = create_matrix_of_texts(dataset_base['train'], \n",
        "                               int(max_lens.quantile(0.97)),\n",
        "                               '<pad>', word_to_idx)\n",
        "tags = create_matrix_of_tags(dataset_base['train'],\n",
        "                             int(max_lens.quantile(0.97)), 0)"
      ],
      "execution_count": null,
      "outputs": []
    },
    {
      "cell_type": "code",
      "metadata": {
        "id": "wLE_b_fIiiCJ"
      },
      "source": [
        "class NerDataset(Dataset):\n",
        "    def __init__(self,\n",
        "                 texts: np.array,\n",
        "                 tags: np.array):\n",
        "        self.tags = tags\n",
        "        self.texts = texts\n",
        "        \n",
        "\n",
        "    def __getitem__(self, idx: int) -> Tuple[torch.LongTensor, torch.LongTensor]:\n",
        "        tokens_tensor = torch.tensor(self.texts[idx], dtype=torch.int64)\n",
        "        return tokens_tensor, torch.tensor(self.tags[idx], dtype=torch.int64)\n",
        "\n",
        "    def __len__(self) -> int:\n",
        "        dataset_len = self.texts.shape[0]\n",
        "        return dataset_len"
      ],
      "execution_count": null,
      "outputs": []
    },
    {
      "cell_type": "code",
      "metadata": {
        "id": "pPG8N8PQh69E"
      },
      "source": [
        "dataset = dataset_base['train']\n",
        "ner_dataset = NerDataset(texts, tags)\n",
        "assert len(ner_dataset) == 14041"
      ],
      "execution_count": null,
      "outputs": []
    },
    {
      "cell_type": "code",
      "metadata": {
        "id": "2O27qc_zYbvk",
        "colab": {
          "base_uri": "https://localhost:8080/"
        },
        "outputId": "3c6c5432-e6e3-4ea9-f7a0-6047d1344dcf"
      },
      "source": [
        "' '.join(dataset_base['train'][0]['tokens']), ner_dataset[0]"
      ],
      "execution_count": null,
      "outputs": [
        {
          "output_type": "execute_result",
          "data": {
            "text/plain": [
              "('EU rejects German call to boycott British lamb .',\n",
              " (tensor([  958, 11984,   234,   763,     7,  4148,   210,  6183,     2,     0,\n",
              "              0,     0,     0,     0,     0,     0,     0,     0,     0,     0,\n",
              "              0,     0,     0,     0,     0,     0,     0,     0,     0,     0,\n",
              "              0,     0,     0,     0,     0,     0,     0,     0,     0,     0]),\n",
              "  tensor([3, 0, 7, 0, 0, 0, 7, 0, 0, 0, 0, 0, 0, 0, 0, 0, 0, 0, 0, 0, 0, 0, 0, 0,\n",
              "          0, 0, 0, 0, 0, 0, 0, 0, 0, 0, 0, 0, 0, 0, 0, 0])))"
            ]
          },
          "metadata": {
            "tags": []
          },
          "execution_count": 14
        }
      ]
    },
    {
      "cell_type": "code",
      "metadata": {
        "id": "UCxj4j9amjIU"
      },
      "source": [
        "dataset = dataset_base[\"train\"]\n",
        "ner_dataset = NerDataset(texts, tags)\n",
        "tokens, labels = ner_dataset[0]\n",
        "assert isinstance(tokens, LongTensor)\n",
        "assert isinstance(labels, LongTensor)\n",
        "assert tokens.shape == labels.shape\n",
        "tokens, labels = ner_dataset[2]\n",
        "assert tokens.shape == labels.shape"
      ],
      "execution_count": null,
      "outputs": []
    },
    {
      "cell_type": "code",
      "metadata": {
        "id": "rdxMabf1zFc_"
      },
      "source": [
        "from torch.utils.data.dataset import random_split"
      ],
      "execution_count": null,
      "outputs": []
    },
    {
      "cell_type": "code",
      "metadata": {
        "id": "wjbUjeF5zpoo"
      },
      "source": [
        "BATCH_SIZE = 32"
      ],
      "execution_count": null,
      "outputs": []
    },
    {
      "cell_type": "code",
      "metadata": {
        "id": "SeJxwMrGs936"
      },
      "source": [
        "num_train = int(len(ner_dataset) * 0.95)\n",
        "split_train_, split_valid_ = \\\n",
        "    random_split(ner_dataset, [num_train, len(ner_dataset) - num_train])\n",
        "\n",
        "train_dataloader = torch.utils.data.DataLoader(split_train_, batch_size=BATCH_SIZE,\n",
        "                              shuffle=True, drop_last=True)\n",
        "valid_dataloader = torch.utils.data.DataLoader(split_valid_, batch_size=BATCH_SIZE,\n",
        "                              shuffle=False)"
      ],
      "execution_count": null,
      "outputs": []
    },
    {
      "cell_type": "code",
      "metadata": {
        "id": "trRZ_cBis9vt"
      },
      "source": [
        "class NerModel(nn.Module):\n",
        "    def __init__(\n",
        "        self,\n",
        "        word2idx: Dict,\n",
        "        embedding_dim: int = 100,\n",
        "        mapping: Dict[int, str] = None,\n",
        "        hidden_size: int = 256,\n",
        "    ):\n",
        "        super(NerModel, self).__init__()\n",
        "        if not mapping:\n",
        "            raise RuntimeError(f'Empty labels')\n",
        "        self.word2idx = word2idx\n",
        "        self.labels = mapping\n",
        "\n",
        "        self.linear_sigmoid_stack = nn.Sequential(\n",
        "            nn.Embedding(len(self.word2idx), embedding_dim),\n",
        "            nn.Sigmoid(),\n",
        "            nn.Linear(embedding_dim, hidden_size),\n",
        "            nn.Sigmoid(),\n",
        "            nn.Linear(hidden_size, len(mapping))\n",
        "        )\n",
        "\n",
        "\n",
        "    def forward(self, tokens: LongTensor) -> FloatTensor:\n",
        "\n",
        "        return self.linear_sigmoid_stack(tokens).view(-1, len(self.labels))"
      ],
      "execution_count": null,
      "outputs": []
    },
    {
      "cell_type": "code",
      "metadata": {
        "id": "F75-TSan0zMp"
      },
      "source": [
        "model = NerModel(word_to_idx, 100, {idx: str(idx) for idx in range(10)})\n",
        "assert (\n",
        "        len(list(name for name, module in model.named_modules())) > 3\n",
        "    ), \"Not enough layers created\""
      ],
      "execution_count": null,
      "outputs": []
    },
    {
      "cell_type": "code",
      "metadata": {
        "id": "aWdYNuWV1UFb"
      },
      "source": [
        "num_classes = 9\n",
        "model = NerModel(word_to_idx, 30, {idx: str(idx) for idx in range(num_classes)})\n",
        "seq_len = 32\n",
        "example_input = torch.randint(0, 2, (BATCH_SIZE, seq_len), dtype=torch.int64)\n",
        "logits = model(example_input)\n",
        "assert isinstance(logits, torch.FloatTensor)\n",
        "assert logits.shape == (BATCH_SIZE * seq_len, num_classes), f\"current size of model output {logits.shape}\""
      ],
      "execution_count": null,
      "outputs": []
    },
    {
      "cell_type": "code",
      "metadata": {
        "colab": {
          "base_uri": "https://localhost:8080/"
        },
        "id": "oq_vuNOnVfiT",
        "outputId": "2e6f2cc0-60dd-4032-f0c2-b0c561cb53e6"
      },
      "source": [
        "i = iter(train_dataloader)\n",
        "text, label = next(i)\n",
        "logits = model(text)\n",
        "loss_function = nn.CrossEntropyLoss()\n",
        "loss_function(logits, label.view(-1))"
      ],
      "execution_count": null,
      "outputs": [
        {
          "output_type": "execute_result",
          "data": {
            "text/plain": [
              "tensor(2.4301, grad_fn=<NllLossBackward>)"
            ]
          },
          "metadata": {
            "tags": []
          },
          "execution_count": 22
        }
      ]
    },
    {
      "cell_type": "markdown",
      "metadata": {
        "id": "cnPKpIrm_cuM"
      },
      "source": [
        "### trainig"
      ]
    },
    {
      "cell_type": "code",
      "metadata": {
        "id": "H4sicwiwZIex"
      },
      "source": [
        "def evaluate(dataloader):\n",
        "    model.eval()\n",
        "    total_acc, total_count = 0, 0\n",
        "    correct_labels = [value for value in mapping_.values() if value != 'O']\n",
        "    predicted, true_labels = list(), list()\n",
        "\n",
        "    with torch.no_grad():\n",
        "        for idx, batch in enumerate(dataloader):\n",
        "            tokens, label = batch\n",
        "            tokens = tokens.to(device)\n",
        "            \n",
        "            logits = model(tokens)\n",
        "            predictions = F.log_softmax(logits, dim=1).reshape(-1,\n",
        "                                                               40,\n",
        "                                                               len(mapping_)).argmax(dim=2).flatten().detach().cpu().numpy()\n",
        "            predicted.extend(predictions)\n",
        "            true_labels.extend(label.flatten().detach().cpu().numpy())\n",
        "    \n",
        "    true_labels = [mapping_[val] for val in true_labels]\n",
        "    \n",
        "    predicted = [mapping_[val] for val in predicted]\n",
        "    print('\\n', classification_report(true_labels,\n",
        "                                      predicted,\n",
        "                                      labels=correct_labels))"
      ],
      "execution_count": null,
      "outputs": []
    },
    {
      "cell_type": "code",
      "metadata": {
        "colab": {
          "base_uri": "https://localhost:8080/"
        },
        "id": "2mqfJIAqzOnC",
        "outputId": "a4db0fbe-eb54-4559-bb42-8aa6c5b00fe3"
      },
      "source": [
        "model = NerModel(word_to_idx, 300, mapping_)\n",
        "optimizer = torch.optim.Adam(model.parameters(), lr=0.01)\n",
        "device = torch.device('cuda') if torch.cuda.is_available() else torch.device('cpu')\n",
        "model.to(device)"
      ],
      "execution_count": null,
      "outputs": [
        {
          "output_type": "execute_result",
          "data": {
            "text/plain": [
              "NerModel(\n",
              "  (linear_sigmoid_stack): Sequential(\n",
              "    (0): Embedding(23625, 300)\n",
              "    (1): Sigmoid()\n",
              "    (2): Linear(in_features=300, out_features=256, bias=True)\n",
              "    (3): Sigmoid()\n",
              "    (4): Linear(in_features=256, out_features=9, bias=True)\n",
              "  )\n",
              ")"
            ]
          },
          "metadata": {
            "tags": []
          },
          "execution_count": 24
        }
      ]
    },
    {
      "cell_type": "code",
      "metadata": {
        "colab": {
          "base_uri": "https://localhost:8080/"
        },
        "id": "ParaP94P1WEm",
        "outputId": "62b24412-e0db-4a47-f01e-46ae7ab5af8e"
      },
      "source": [
        "for e in range(10):\n",
        "    total_loss = 0\n",
        "    model.train()\n",
        "    loss_function = nn.CrossEntropyLoss()\n",
        "    for sent in tqdm(train_dataloader):\n",
        "\n",
        "            # (1) Set gradient to zero for new example: Set gradients to zero before pass\n",
        "            model.zero_grad()\n",
        "            \n",
        "            # (2) Encode sentence and tag sequence as sequences of indices\n",
        "            input_sent, gold_tags = sent\n",
        "\n",
        "            # (3) Predict tags (sentence by sentence)\n",
        "            if len(input_sent) > 0:\n",
        "                pred_scores = model(input_sent.to(device))\n",
        "                mask = gold_tags != 0\n",
        "                # (4) Compute loss and do backward step\n",
        "                loss = loss_function(pred_scores.to(device), gold_tags.view(-1).to(device))\n",
        "                loss.backward()\n",
        "              \n",
        "                # (5) Optimize parameter values\n",
        "                optimizer.step()\n",
        "          \n",
        "                # (6) Accumulate loss\n",
        "                total_loss += loss\n",
        "    print('\\nEpoch: %d, loss: %.4f' % (e, total_loss / len(train_dataloader)))\n",
        "    evaluate(valid_dataloader)"
      ],
      "execution_count": null,
      "outputs": [
        {
          "output_type": "stream",
          "text": [
            "100%|██████████| 416/416 [00:01<00:00, 247.48it/s]\n",
            "/usr/local/lib/python3.7/dist-packages/sklearn/metrics/_classification.py:1272: UndefinedMetricWarning: Precision and F-score are ill-defined and being set to 0.0 in labels with no predicted samples. Use `zero_division` parameter to control this behavior.\n",
            "  _warn_prf(average, modifier, msg_start, len(result))\n",
            "  0%|          | 0/416 [00:00<?, ?it/s]"
          ],
          "name": "stderr"
        },
        {
          "output_type": "stream",
          "text": [
            "\n",
            "Epoch: 0, loss: 0.2261\n",
            "\n",
            "               precision    recall  f1-score   support\n",
            "\n",
            "       B-PER       0.00      0.00      0.00       344\n",
            "       I-PER       0.00      0.00      0.00       231\n",
            "       B-ORG       0.23      0.73      0.35       278\n",
            "       I-ORG       0.00      0.00      0.00       182\n",
            "       B-LOC       0.59      0.69      0.64       361\n",
            "       I-LOC       0.00      0.00      0.00        46\n",
            "      B-MISC       0.00      0.00      0.00       171\n",
            "      I-MISC       0.00      0.00      0.00        61\n",
            "\n",
            "   micro avg       0.35      0.27      0.30      1674\n",
            "   macro avg       0.10      0.18      0.12      1674\n",
            "weighted avg       0.17      0.27      0.20      1674\n",
            "\n"
          ],
          "name": "stdout"
        },
        {
          "output_type": "stream",
          "text": [
            "100%|██████████| 416/416 [00:01<00:00, 246.56it/s]\n",
            "  0%|          | 0/416 [00:00<?, ?it/s]"
          ],
          "name": "stderr"
        },
        {
          "output_type": "stream",
          "text": [
            "\n",
            "Epoch: 1, loss: 0.1141\n",
            "\n",
            "               precision    recall  f1-score   support\n",
            "\n",
            "       B-PER       0.44      0.69      0.54       344\n",
            "       I-PER       0.00      0.00      0.00       231\n",
            "       B-ORG       0.41      0.79      0.54       278\n",
            "       I-ORG       0.25      0.02      0.04       182\n",
            "       B-LOC       0.90      0.70      0.79       361\n",
            "       I-LOC       0.00      0.00      0.00        46\n",
            "      B-MISC       0.62      0.57      0.59       171\n",
            "      I-MISC       0.00      0.00      0.00        61\n",
            "\n",
            "   micro avg       0.53      0.48      0.50      1674\n",
            "   macro avg       0.33      0.35      0.31      1674\n",
            "weighted avg       0.44      0.48      0.43      1674\n",
            "\n"
          ],
          "name": "stdout"
        },
        {
          "output_type": "stream",
          "text": [
            "100%|██████████| 416/416 [00:01<00:00, 246.42it/s]\n"
          ],
          "name": "stderr"
        },
        {
          "output_type": "stream",
          "text": [
            "\n",
            "Epoch: 2, loss: 0.0788\n",
            "\n",
            "               precision    recall  f1-score   support\n",
            "\n",
            "       B-PER       0.62      0.72      0.67       344\n",
            "       I-PER       0.22      0.51      0.31       231\n",
            "       B-ORG       0.73      0.71      0.72       278\n",
            "       I-ORG       0.62      0.42      0.50       182\n",
            "       B-LOC       0.83      0.85      0.84       361\n",
            "       I-LOC       0.00      0.00      0.00        46\n",
            "      B-MISC       0.92      0.71      0.80       171\n",
            "      I-MISC       0.81      0.36      0.50        61\n",
            "\n",
            "   micro avg       0.59      0.65      0.62      1674\n",
            "   macro avg       0.59      0.53      0.54      1674\n",
            "weighted avg       0.65      0.65      0.63      1674\n",
            "\n"
          ],
          "name": "stdout"
        },
        {
          "output_type": "stream",
          "text": [
            "100%|██████████| 416/416 [00:01<00:00, 244.58it/s]\n",
            "  0%|          | 0/416 [00:00<?, ?it/s]"
          ],
          "name": "stderr"
        },
        {
          "output_type": "stream",
          "text": [
            "\n",
            "Epoch: 3, loss: 0.0527\n",
            "\n",
            "               precision    recall  f1-score   support\n",
            "\n",
            "       B-PER       0.49      0.80      0.60       344\n",
            "       I-PER       0.26      0.39      0.32       231\n",
            "       B-ORG       0.88      0.69      0.78       278\n",
            "       I-ORG       0.51      0.55      0.53       182\n",
            "       B-LOC       0.86      0.91      0.88       361\n",
            "       I-LOC       0.86      0.54      0.67        46\n",
            "      B-MISC       0.88      0.80      0.83       171\n",
            "      I-MISC       0.77      0.54      0.63        61\n",
            "\n",
            "   micro avg       0.61      0.70      0.65      1674\n",
            "   macro avg       0.69      0.65      0.66      1674\n",
            "weighted avg       0.67      0.70      0.67      1674\n",
            "\n"
          ],
          "name": "stdout"
        },
        {
          "output_type": "stream",
          "text": [
            "100%|██████████| 416/416 [00:01<00:00, 245.66it/s]\n",
            "  0%|          | 0/416 [00:00<?, ?it/s]"
          ],
          "name": "stderr"
        },
        {
          "output_type": "stream",
          "text": [
            "\n",
            "Epoch: 4, loss: 0.0410\n",
            "\n",
            "               precision    recall  f1-score   support\n",
            "\n",
            "       B-PER       0.68      0.68      0.68       344\n",
            "       I-PER       0.24      0.68      0.35       231\n",
            "       B-ORG       0.82      0.74      0.78       278\n",
            "       I-ORG       0.80      0.53      0.64       182\n",
            "       B-LOC       0.90      0.83      0.86       361\n",
            "       I-LOC       0.78      0.83      0.80        46\n",
            "      B-MISC       0.83      0.81      0.82       171\n",
            "      I-MISC       0.81      0.69      0.74        61\n",
            "\n",
            "   micro avg       0.61      0.72      0.66      1674\n",
            "   macro avg       0.73      0.72      0.71      1674\n",
            "weighted avg       0.72      0.72      0.70      1674\n",
            "\n"
          ],
          "name": "stdout"
        },
        {
          "output_type": "stream",
          "text": [
            "100%|██████████| 416/416 [00:01<00:00, 246.00it/s]\n"
          ],
          "name": "stderr"
        },
        {
          "output_type": "stream",
          "text": [
            "\n",
            "Epoch: 5, loss: 0.0369\n",
            "\n",
            "               precision    recall  f1-score   support\n",
            "\n",
            "       B-PER       0.79      0.66      0.72       344\n",
            "       I-PER       0.24      0.75      0.36       231\n",
            "       B-ORG       0.85      0.71      0.77       278\n",
            "       I-ORG       0.82      0.52      0.63       182\n",
            "       B-LOC       0.88      0.87      0.88       361\n",
            "       I-LOC       0.78      0.83      0.80        46\n",
            "      B-MISC       0.88      0.80      0.84       171\n",
            "      I-MISC       0.75      0.54      0.63        61\n",
            "\n",
            "   micro avg       0.61      0.73      0.67      1674\n",
            "   macro avg       0.75      0.71      0.70      1674\n",
            "weighted avg       0.75      0.73      0.71      1674\n",
            "\n"
          ],
          "name": "stdout"
        },
        {
          "output_type": "stream",
          "text": [
            "100%|██████████| 416/416 [00:01<00:00, 246.74it/s]\n"
          ],
          "name": "stderr"
        },
        {
          "output_type": "stream",
          "text": [
            "\n",
            "Epoch: 6, loss: 0.0347\n",
            "\n",
            "               precision    recall  f1-score   support\n",
            "\n",
            "       B-PER       0.62      0.75      0.68       344\n",
            "       I-PER       0.27      0.55      0.36       231\n",
            "       B-ORG       0.89      0.67      0.76       278\n",
            "       I-ORG       0.61      0.52      0.56       182\n",
            "       B-LOC       0.83      0.89      0.86       361\n",
            "       I-LOC       0.80      0.85      0.82        46\n",
            "      B-MISC       0.90      0.80      0.85       171\n",
            "      I-MISC       0.78      0.52      0.63        61\n",
            "\n",
            "   micro avg       0.63      0.71      0.67      1674\n",
            "   macro avg       0.71      0.69      0.69      1674\n",
            "weighted avg       0.70      0.71      0.69      1674\n",
            "\n"
          ],
          "name": "stdout"
        },
        {
          "output_type": "stream",
          "text": [
            "100%|██████████| 416/416 [00:01<00:00, 245.18it/s]\n",
            "  0%|          | 0/416 [00:00<?, ?it/s]"
          ],
          "name": "stderr"
        },
        {
          "output_type": "stream",
          "text": [
            "\n",
            "Epoch: 7, loss: 0.0334\n",
            "\n",
            "               precision    recall  f1-score   support\n",
            "\n",
            "       B-PER       0.75      0.73      0.74       344\n",
            "       I-PER       0.25      0.57      0.34       231\n",
            "       B-ORG       0.81      0.75      0.78       278\n",
            "       I-ORG       0.62      0.59      0.61       182\n",
            "       B-LOC       0.90      0.85      0.87       361\n",
            "       I-LOC       0.81      0.83      0.82        46\n",
            "      B-MISC       0.91      0.75      0.82       171\n",
            "      I-MISC       0.81      0.69      0.74        61\n",
            "\n",
            "   micro avg       0.65      0.73      0.68      1674\n",
            "   macro avg       0.73      0.72      0.72      1674\n",
            "weighted avg       0.73      0.73      0.72      1674\n",
            "\n"
          ],
          "name": "stdout"
        },
        {
          "output_type": "stream",
          "text": [
            "100%|██████████| 416/416 [00:01<00:00, 245.93it/s]\n"
          ],
          "name": "stderr"
        },
        {
          "output_type": "stream",
          "text": [
            "\n",
            "Epoch: 8, loss: 0.0324\n"
          ],
          "name": "stdout"
        },
        {
          "output_type": "stream",
          "text": [
            "  6%|▌         | 25/416 [00:00<00:01, 242.63it/s]"
          ],
          "name": "stderr"
        },
        {
          "output_type": "stream",
          "text": [
            "\n",
            "               precision    recall  f1-score   support\n",
            "\n",
            "       B-PER       0.59      0.79      0.67       344\n",
            "       I-PER       0.24      0.55      0.33       231\n",
            "       B-ORG       0.82      0.76      0.79       278\n",
            "       I-ORG       0.72      0.58      0.64       182\n",
            "       B-LOC       0.90      0.85      0.87       361\n",
            "       I-LOC       0.89      0.74      0.81        46\n",
            "      B-MISC       0.92      0.77      0.83       171\n",
            "      I-MISC       0.82      0.52      0.64        61\n",
            "\n",
            "   micro avg       0.62      0.73      0.67      1674\n",
            "   macro avg       0.74      0.69      0.70      1674\n",
            "weighted avg       0.71      0.73      0.70      1674\n",
            "\n"
          ],
          "name": "stdout"
        },
        {
          "output_type": "stream",
          "text": [
            "100%|██████████| 416/416 [00:01<00:00, 244.89it/s]\n"
          ],
          "name": "stderr"
        },
        {
          "output_type": "stream",
          "text": [
            "\n",
            "Epoch: 9, loss: 0.0314\n",
            "\n",
            "               precision    recall  f1-score   support\n",
            "\n",
            "       B-PER       0.75      0.71      0.73       344\n",
            "       I-PER       0.25      0.63      0.36       231\n",
            "       B-ORG       0.66      0.77      0.71       278\n",
            "       I-ORG       0.73      0.57      0.64       182\n",
            "       B-LOC       0.90      0.82      0.86       361\n",
            "       I-LOC       0.92      0.72      0.80        46\n",
            "      B-MISC       0.82      0.82      0.82       171\n",
            "      I-MISC       0.83      0.56      0.67        61\n",
            "\n",
            "   micro avg       0.62      0.72      0.67      1674\n",
            "   macro avg       0.73      0.70      0.70      1674\n",
            "weighted avg       0.71      0.72      0.70      1674\n",
            "\n"
          ],
          "name": "stdout"
        }
      ]
    },
    {
      "cell_type": "code",
      "metadata": {
        "id": "DWxfp4pffF_O"
      },
      "source": [
        ""
      ],
      "execution_count": null,
      "outputs": []
    }
  ]
}