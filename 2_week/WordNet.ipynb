{
  "nbformat": 4,
  "nbformat_minor": 0,
  "metadata": {
    "kernelspec": {
      "display_name": "Python 3",
      "language": "python",
      "name": "python3"
    },
    "language_info": {
      "codemirror_mode": {
        "name": "ipython",
        "version": 3
      },
      "file_extension": ".py",
      "mimetype": "text/x-python",
      "name": "python",
      "nbconvert_exporter": "python",
      "pygments_lexer": "ipython3",
      "version": "3.7.6"
    },
    "colab": {
      "name": "WordNet.ipynb",
      "provenance": [],
      "collapsed_sections": []
    }
  },
  "cells": [
    {
      "cell_type": "markdown",
      "metadata": {
        "id": "ukzzGTgLXCfM"
      },
      "source": [
        "\n",
        "# WordNet"
      ]
    },
    {
      "cell_type": "markdown",
      "metadata": {
        "id": "9GA_F8z6XCfM"
      },
      "source": [
        "Самое распространенное решение проблемы о передачи смысла слова компьютеру – использовать некую базу данных –, например, [**WordNet**](https://wordnet.princeton.edu/).\n",
        "\n",
        "**WordNet** – это лексическая база данных английского языка, разработанная в Принстонском университете. Представляет собой электронный словарь и набор семантических сетей для английского языка.\n",
        "\n",
        "Базовой единицей в свою очередь в WordNet является не отдельное слово, а синонимический ряд, объединяющий слова со схожим значением в узел семантической сети. Такие синонимические ряды называют синсетами – synset. Они связаны между собой различными семантическими отношениями:\n",
        "\n",
        "- гипероним – обед -> прием пищи (lunch -> meal)\n",
        "- гипоним – прием пищи -> обед (meal -> lunch)\n",
        "- has-member – факультет -> профессор (faculty -> professor)\n",
        "- member-of – пилот -> экипаж (pilot -> crew)\n",
        "- мероним/has-part – стул -> ножка (chair -> leg)\n",
        "- антоним – белое -> черное (white -> black)"
      ]
    },
    {
      "cell_type": "code",
      "metadata": {
        "colab": {
          "base_uri": "https://localhost:8080/"
        },
        "id": "HONz1ZskXCfN",
        "outputId": "ce0185cb-4bdd-49fa-8866-966c9c21c2b4"
      },
      "source": [
        "import nltk\n",
        "nltk.download('wordnet')"
      ],
      "execution_count": 1,
      "outputs": [
        {
          "output_type": "stream",
          "name": "stdout",
          "text": [
            "[nltk_data] Downloading package wordnet to /root/nltk_data...\n",
            "[nltk_data]   Unzipping corpora/wordnet.zip.\n"
          ]
        },
        {
          "output_type": "execute_result",
          "data": {
            "text/plain": [
              "True"
            ]
          },
          "metadata": {},
          "execution_count": 1
        }
      ]
    },
    {
      "cell_type": "code",
      "metadata": {
        "id": "wuSqLiOEX9v5"
      },
      "source": [
        "from nltk.corpus import wordnet"
      ],
      "execution_count": 2,
      "outputs": []
    },
    {
      "cell_type": "markdown",
      "metadata": {
        "id": "-wduWrlJwAhR"
      },
      "source": [
        "Здесь мы составим вспомогательный dict, для вывода более красивого print \n",
        "\n",
        "Части речи в WordNet обозначаются одной буквой - 'n', 'v' etc \n",
        "\n",
        "Нам же чисто визуально удобнее смотреть на более полное название - сопоставим ключу 'n' в качестве значения слово 'noun' и так далее для всех остальных частей речи. "
      ]
    },
    {
      "cell_type": "code",
      "metadata": {
        "id": "klmdg2aTXCfN"
      },
      "source": [
        "poses = {'n': 'noun', 'v': 'verb', 's': 'adj (s)', 'a': 'adj', 'r': 'adv'}"
      ],
      "execution_count": 3,
      "outputs": []
    },
    {
      "cell_type": "markdown",
      "metadata": {
        "id": "y84neV1iXCfN"
      },
      "source": [
        "Давайте выведем на экран все синсеты слова \"good\":"
      ]
    },
    {
      "cell_type": "code",
      "metadata": {
        "colab": {
          "base_uri": "https://localhost:8080/"
        },
        "id": "d0frt0H0XCfN",
        "outputId": "498d4d59-9246-4fd8-abf1-aa129a79b262"
      },
      "source": [
        "good = wordnet.synsets(\"good\")\n",
        "for synset in good: \n",
        "    print(f'{poses[synset.pos()]}: {\", \".join([l.name() for l in synset.lemmas()])}')"
      ],
      "execution_count": 4,
      "outputs": [
        {
          "output_type": "stream",
          "name": "stdout",
          "text": [
            "noun: good\n",
            "noun: good, goodness\n",
            "noun: good, goodness\n",
            "noun: commodity, trade_good, good\n",
            "adj: good\n",
            "adj (s): full, good\n",
            "adj: good\n",
            "adj (s): estimable, good, honorable, respectable\n",
            "adj (s): beneficial, good\n",
            "adj (s): good\n",
            "adj (s): good, just, upright\n",
            "adj (s): adept, expert, good, practiced, proficient, skillful, skilful\n",
            "adj (s): good\n",
            "adj (s): dear, good, near\n",
            "adj (s): dependable, good, safe, secure\n",
            "adj (s): good, right, ripe\n",
            "adj (s): good, well\n",
            "adj (s): effective, good, in_effect, in_force\n",
            "adj (s): good\n",
            "adj (s): good, serious\n",
            "adj (s): good, sound\n",
            "adj (s): good, salutary\n",
            "adj (s): good, honest\n",
            "adj (s): good, undecomposed, unspoiled, unspoilt\n",
            "adj (s): good\n",
            "adv: well, good\n",
            "adv: thoroughly, soundly, good\n"
          ]
        }
      ]
    },
    {
      "cell_type": "markdown",
      "metadata": {
        "id": "uLYfYugCXCfO"
      },
      "source": [
        "Теперь найдемы **гиперонимы** к слову \"elephant\"\n",
        "\n",
        "**Гипероним** - слово с более широким значением, выражающее общее, родовое понятие, название класса (множества) предметов (свойств, признаков).\n",
        "\n",
        "[source](https://ru.wikipedia.org/wiki/%D0%93%D0%B8%D0%BF%D0%BE%D0%BD%D0%B8%D0%BC_%D0%B8_%D0%B3%D0%B8%D0%BF%D0%B5%D1%80%D0%BE%D0%BD%D0%B8%D0%BC)"
      ]
    },
    {
      "cell_type": "code",
      "metadata": {
        "colab": {
          "base_uri": "https://localhost:8080/"
        },
        "id": "pzz5joyJXCfO",
        "outputId": "9dc59f2d-10a0-4306-d365-8e3e85bcfc05"
      },
      "source": [
        "elephant = wordnet.synset(\"elephant.n.01\")\n",
        "hypernym = lambda s: s.hypernyms()\n",
        "list(elephant.closure(hypernym))"
      ],
      "execution_count": 5,
      "outputs": [
        {
          "output_type": "execute_result",
          "data": {
            "text/plain": [
              "[Synset('pachyderm.n.01'),\n",
              " Synset('proboscidean.n.01'),\n",
              " Synset('placental.n.01'),\n",
              " Synset('mammal.n.01'),\n",
              " Synset('vertebrate.n.01'),\n",
              " Synset('chordate.n.01'),\n",
              " Synset('animal.n.01'),\n",
              " Synset('organism.n.01'),\n",
              " Synset('living_thing.n.01'),\n",
              " Synset('whole.n.02'),\n",
              " Synset('object.n.01'),\n",
              " Synset('physical_entity.n.01'),\n",
              " Synset('entity.n.01')]"
            ]
          },
          "metadata": {},
          "execution_count": 5
        }
      ]
    },
    {
      "cell_type": "markdown",
      "metadata": {
        "id": "xguC2rlFwn_0"
      },
      "source": [
        "Проблемы использования **WordNet**:\n",
        "- это отличный ресурс, в котором очень много данных, однако он опускает некоторые нюансы, на которые отличается смысл слов. \n",
        "\n",
        "Например, *“good”* – «хороший» иp *“proficient”* – «опытный», «искусный». Эти слова будут находиться вместе в одном из синсетов для слова *“good”*, т.е. согласно WordNet иметь схожий смысл, однако, как даже видно по переводу, они все же имеют разный смысл.\n",
        "- здесь отсутствует смысл достаточно новых слов –*”stan”* (новое слово в английском языке, означает “невероятно увлеченный и преданный фанат” - “stalker-fan”),  *“badass”* – WordNet невероятно сложно поддерживать в актуальном состоянии, так как его необходимо обновлять вручную и нанимать дорогостоящих специалистов — такие вещи обычно не доверяют случайным толокерам.\n",
        "\n",
        "- сложно вычислить точную «близость» слов друг к другу по смыслу. \n",
        "\n",
        "Так как WordNet по сути состоит из неизменяемых дискретных наборов связей между словами, так что если у нас есть слово, которое близко по значению к заданному, но отсутствует в синсете для заданного слова, мы не сможем никак узнать, что они похожи по смыслу и использовать это. Например слова *“good”* и *“marvelous”* похожи по значению в разных контекстах, однако мы не узнаем об этом, используя WordNet, т.к. они отсутствуют друг у друга в синсетах\n"
      ]
    },
    {
      "cell_type": "markdown",
      "metadata": {
        "id": "wSFoHPpJXCfO"
      },
      "source": [
        "Пример определения близости слов с помощью одного из методов WordNet - **path_similarity**\n",
        "\n",
        "**path_similarity** возвращает \"оценку\" близости - число от 0 до 1 - на основе кратчайшего пути, который соединяет слова в таксономии is-a (гипероним/гипноим)"
      ]
    },
    {
      "cell_type": "code",
      "metadata": {
        "id": "fppwLYQSXCfO",
        "outputId": "225d8307-703d-42e3-e9dc-e798272c2ad4",
        "colab": {
          "base_uri": "https://localhost:8080/"
        }
      },
      "source": [
        "cat = wordnet.synset(\"cat.n.01\")\n",
        "dog = wordnet.synset(\"dog.n.01\")\n",
        "kitten = wordnet.synset(\"kitten.n.01\")\n",
        "print(cat.path_similarity(cat))\n",
        "print(cat.path_similarity(dog))\n",
        "print(cat.path_similarity(kitten))"
      ],
      "execution_count": 6,
      "outputs": [
        {
          "output_type": "stream",
          "name": "stdout",
          "text": [
            "1.0\n",
            "0.2\n",
            "0.09090909090909091\n"
          ]
        }
      ]
    },
    {
      "cell_type": "markdown",
      "metadata": {
        "id": "xbOpYXDmXCfO"
      },
      "source": [
        "Работает не очень, правда? :)"
      ]
    },
    {
      "cell_type": "markdown",
      "metadata": {
        "id": "Jgdt8f2hXCfP"
      },
      "source": [
        "Mожно вывести на экран определение слова:"
      ]
    },
    {
      "cell_type": "code",
      "metadata": {
        "id": "Qw92uoU4XCfP",
        "outputId": "a7f4f9f4-ea46-454e-9810-a4b032154adf",
        "colab": {
          "base_uri": "https://localhost:8080/",
          "height": 35
        }
      },
      "source": [
        "gradient = wordnet.synset(\"gradient.n.01\")\n",
        "gradient.definition()"
      ],
      "execution_count": 7,
      "outputs": [
        {
          "output_type": "execute_result",
          "data": {
            "application/vnd.google.colaboratory.intrinsic+json": {
              "type": "string"
            },
            "text/plain": [
              "'a graded change in the magnitude of some physical quantity or dimension'"
            ]
          },
          "metadata": {},
          "execution_count": 7
        }
      ]
    },
    {
      "cell_type": "markdown",
      "metadata": {
        "id": "-_sM8i8KXCfP"
      },
      "source": [
        "Попробуйте сами вывести, например, антонимы к слову \"wicked\" с помощью метода antonyms()"
      ]
    },
    {
      "cell_type": "code",
      "metadata": {
        "id": "YZyrl02uXCfP",
        "outputId": "2da085d0-5d5a-4208-8bfa-b1ee4a708b90",
        "colab": {
          "base_uri": "https://localhost:8080/"
        }
      },
      "source": [
        "wordnet.lemma(\"wicked.a.01.wicked\").antonyms()\n"
      ],
      "execution_count": 29,
      "outputs": [
        {
          "output_type": "execute_result",
          "data": {
            "text/plain": [
              "[Lemma('virtuous.a.01.virtuous')]"
            ]
          },
          "metadata": {},
          "execution_count": 29
        }
      ]
    },
    {
      "cell_type": "code",
      "metadata": {
        "id": "-sptNqRwx0YW"
      },
      "source": [
        ""
      ],
      "execution_count": null,
      "outputs": []
    }
  ]
}