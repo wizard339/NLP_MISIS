{
  "nbformat": 4,
  "nbformat_minor": 0,
  "metadata": {
    "colab": {
      "name": "seminar_2.ipynb",
      "provenance": [],
      "collapsed_sections": [
        "7zZBtixjCebK",
        "ktAtfesGrSDb"
      ],
      "include_colab_link": true
    },
    "kernelspec": {
      "display_name": "Python 3",
      "name": "python3"
    },
    "language_info": {
      "name": "python"
    },
    "accelerator": "GPU",
    "widgets": {
      "application/vnd.jupyter.widget-state+json": {
        "e59c79aad1534b1d8b280ddf2c51c0f0": {
          "model_module": "@jupyter-widgets/controls",
          "model_name": "HBoxModel",
          "model_module_version": "1.5.0",
          "state": {
            "_view_name": "HBoxView",
            "_dom_classes": [],
            "_model_name": "HBoxModel",
            "_view_module": "@jupyter-widgets/controls",
            "_model_module_version": "1.5.0",
            "_view_count": null,
            "_view_module_version": "1.5.0",
            "box_style": "",
            "layout": "IPY_MODEL_0c45718b44364618885b5319968bfeb6",
            "_model_module": "@jupyter-widgets/controls",
            "children": [
              "IPY_MODEL_9031697170ec4e6d9e1473bda7b21441",
              "IPY_MODEL_11d286fe5b454fbead2d1c635e821bc0",
              "IPY_MODEL_3de5f57cb9ac4fd7bd43d262126db91a"
            ]
          }
        },
        "0c45718b44364618885b5319968bfeb6": {
          "model_module": "@jupyter-widgets/base",
          "model_name": "LayoutModel",
          "model_module_version": "1.2.0",
          "state": {
            "_view_name": "LayoutView",
            "grid_template_rows": null,
            "right": null,
            "justify_content": null,
            "_view_module": "@jupyter-widgets/base",
            "overflow": null,
            "_model_module_version": "1.2.0",
            "_view_count": null,
            "flex_flow": null,
            "width": null,
            "min_width": null,
            "border": null,
            "align_items": null,
            "bottom": null,
            "_model_module": "@jupyter-widgets/base",
            "top": null,
            "grid_column": null,
            "overflow_y": null,
            "overflow_x": null,
            "grid_auto_flow": null,
            "grid_area": null,
            "grid_template_columns": null,
            "flex": null,
            "_model_name": "LayoutModel",
            "justify_items": null,
            "grid_row": null,
            "max_height": null,
            "align_content": null,
            "visibility": null,
            "align_self": null,
            "height": null,
            "min_height": null,
            "padding": null,
            "grid_auto_rows": null,
            "grid_gap": null,
            "max_width": null,
            "order": null,
            "_view_module_version": "1.2.0",
            "grid_template_areas": null,
            "object_position": null,
            "object_fit": null,
            "grid_auto_columns": null,
            "margin": null,
            "display": null,
            "left": null
          }
        },
        "9031697170ec4e6d9e1473bda7b21441": {
          "model_module": "@jupyter-widgets/controls",
          "model_name": "HTMLModel",
          "model_module_version": "1.5.0",
          "state": {
            "_view_name": "HTMLView",
            "style": "IPY_MODEL_7471f0535229417fb87c8c1d81a53e7f",
            "_dom_classes": [],
            "description": "",
            "_model_name": "HTMLModel",
            "placeholder": "​",
            "_view_module": "@jupyter-widgets/controls",
            "_model_module_version": "1.5.0",
            "value": "100%",
            "_view_count": null,
            "_view_module_version": "1.5.0",
            "description_tooltip": null,
            "_model_module": "@jupyter-widgets/controls",
            "layout": "IPY_MODEL_80c0066beea84e99a1e81b3d7b22cdf2"
          }
        },
        "11d286fe5b454fbead2d1c635e821bc0": {
          "model_module": "@jupyter-widgets/controls",
          "model_name": "FloatProgressModel",
          "model_module_version": "1.5.0",
          "state": {
            "_view_name": "ProgressView",
            "style": "IPY_MODEL_3f5395e4b44d4ea999a6a48d908ea770",
            "_dom_classes": [],
            "description": "",
            "_model_name": "FloatProgressModel",
            "bar_style": "success",
            "max": 12500,
            "_view_module": "@jupyter-widgets/controls",
            "_model_module_version": "1.5.0",
            "value": 12500,
            "_view_count": null,
            "_view_module_version": "1.5.0",
            "orientation": "horizontal",
            "min": 0,
            "description_tooltip": null,
            "_model_module": "@jupyter-widgets/controls",
            "layout": "IPY_MODEL_329c55fd3ce14a29a12e19aa8bae0a03"
          }
        },
        "3de5f57cb9ac4fd7bd43d262126db91a": {
          "model_module": "@jupyter-widgets/controls",
          "model_name": "HTMLModel",
          "model_module_version": "1.5.0",
          "state": {
            "_view_name": "HTMLView",
            "style": "IPY_MODEL_181023ee6a6147a8a7371d8a08124689",
            "_dom_classes": [],
            "description": "",
            "_model_name": "HTMLModel",
            "placeholder": "​",
            "_view_module": "@jupyter-widgets/controls",
            "_model_module_version": "1.5.0",
            "value": " 12500/12500 [00:01&lt;00:00, 11651.45it/s]",
            "_view_count": null,
            "_view_module_version": "1.5.0",
            "description_tooltip": null,
            "_model_module": "@jupyter-widgets/controls",
            "layout": "IPY_MODEL_d9ab224c5c93435098da7856f70060bb"
          }
        },
        "7471f0535229417fb87c8c1d81a53e7f": {
          "model_module": "@jupyter-widgets/controls",
          "model_name": "DescriptionStyleModel",
          "model_module_version": "1.5.0",
          "state": {
            "_view_name": "StyleView",
            "_model_name": "DescriptionStyleModel",
            "description_width": "",
            "_view_module": "@jupyter-widgets/base",
            "_model_module_version": "1.5.0",
            "_view_count": null,
            "_view_module_version": "1.2.0",
            "_model_module": "@jupyter-widgets/controls"
          }
        },
        "80c0066beea84e99a1e81b3d7b22cdf2": {
          "model_module": "@jupyter-widgets/base",
          "model_name": "LayoutModel",
          "model_module_version": "1.2.0",
          "state": {
            "_view_name": "LayoutView",
            "grid_template_rows": null,
            "right": null,
            "justify_content": null,
            "_view_module": "@jupyter-widgets/base",
            "overflow": null,
            "_model_module_version": "1.2.0",
            "_view_count": null,
            "flex_flow": null,
            "width": null,
            "min_width": null,
            "border": null,
            "align_items": null,
            "bottom": null,
            "_model_module": "@jupyter-widgets/base",
            "top": null,
            "grid_column": null,
            "overflow_y": null,
            "overflow_x": null,
            "grid_auto_flow": null,
            "grid_area": null,
            "grid_template_columns": null,
            "flex": null,
            "_model_name": "LayoutModel",
            "justify_items": null,
            "grid_row": null,
            "max_height": null,
            "align_content": null,
            "visibility": null,
            "align_self": null,
            "height": null,
            "min_height": null,
            "padding": null,
            "grid_auto_rows": null,
            "grid_gap": null,
            "max_width": null,
            "order": null,
            "_view_module_version": "1.2.0",
            "grid_template_areas": null,
            "object_position": null,
            "object_fit": null,
            "grid_auto_columns": null,
            "margin": null,
            "display": null,
            "left": null
          }
        },
        "3f5395e4b44d4ea999a6a48d908ea770": {
          "model_module": "@jupyter-widgets/controls",
          "model_name": "ProgressStyleModel",
          "model_module_version": "1.5.0",
          "state": {
            "_view_name": "StyleView",
            "_model_name": "ProgressStyleModel",
            "description_width": "",
            "_view_module": "@jupyter-widgets/base",
            "_model_module_version": "1.5.0",
            "_view_count": null,
            "_view_module_version": "1.2.0",
            "bar_color": null,
            "_model_module": "@jupyter-widgets/controls"
          }
        },
        "329c55fd3ce14a29a12e19aa8bae0a03": {
          "model_module": "@jupyter-widgets/base",
          "model_name": "LayoutModel",
          "model_module_version": "1.2.0",
          "state": {
            "_view_name": "LayoutView",
            "grid_template_rows": null,
            "right": null,
            "justify_content": null,
            "_view_module": "@jupyter-widgets/base",
            "overflow": null,
            "_model_module_version": "1.2.0",
            "_view_count": null,
            "flex_flow": null,
            "width": null,
            "min_width": null,
            "border": null,
            "align_items": null,
            "bottom": null,
            "_model_module": "@jupyter-widgets/base",
            "top": null,
            "grid_column": null,
            "overflow_y": null,
            "overflow_x": null,
            "grid_auto_flow": null,
            "grid_area": null,
            "grid_template_columns": null,
            "flex": null,
            "_model_name": "LayoutModel",
            "justify_items": null,
            "grid_row": null,
            "max_height": null,
            "align_content": null,
            "visibility": null,
            "align_self": null,
            "height": null,
            "min_height": null,
            "padding": null,
            "grid_auto_rows": null,
            "grid_gap": null,
            "max_width": null,
            "order": null,
            "_view_module_version": "1.2.0",
            "grid_template_areas": null,
            "object_position": null,
            "object_fit": null,
            "grid_auto_columns": null,
            "margin": null,
            "display": null,
            "left": null
          }
        },
        "181023ee6a6147a8a7371d8a08124689": {
          "model_module": "@jupyter-widgets/controls",
          "model_name": "DescriptionStyleModel",
          "model_module_version": "1.5.0",
          "state": {
            "_view_name": "StyleView",
            "_model_name": "DescriptionStyleModel",
            "description_width": "",
            "_view_module": "@jupyter-widgets/base",
            "_model_module_version": "1.5.0",
            "_view_count": null,
            "_view_module_version": "1.2.0",
            "_model_module": "@jupyter-widgets/controls"
          }
        },
        "d9ab224c5c93435098da7856f70060bb": {
          "model_module": "@jupyter-widgets/base",
          "model_name": "LayoutModel",
          "model_module_version": "1.2.0",
          "state": {
            "_view_name": "LayoutView",
            "grid_template_rows": null,
            "right": null,
            "justify_content": null,
            "_view_module": "@jupyter-widgets/base",
            "overflow": null,
            "_model_module_version": "1.2.0",
            "_view_count": null,
            "flex_flow": null,
            "width": null,
            "min_width": null,
            "border": null,
            "align_items": null,
            "bottom": null,
            "_model_module": "@jupyter-widgets/base",
            "top": null,
            "grid_column": null,
            "overflow_y": null,
            "overflow_x": null,
            "grid_auto_flow": null,
            "grid_area": null,
            "grid_template_columns": null,
            "flex": null,
            "_model_name": "LayoutModel",
            "justify_items": null,
            "grid_row": null,
            "max_height": null,
            "align_content": null,
            "visibility": null,
            "align_self": null,
            "height": null,
            "min_height": null,
            "padding": null,
            "grid_auto_rows": null,
            "grid_gap": null,
            "max_width": null,
            "order": null,
            "_view_module_version": "1.2.0",
            "grid_template_areas": null,
            "object_position": null,
            "object_fit": null,
            "grid_auto_columns": null,
            "margin": null,
            "display": null,
            "left": null
          }
        },
        "6b2de2ac39244217a179502259462b55": {
          "model_module": "@jupyter-widgets/controls",
          "model_name": "HBoxModel",
          "model_module_version": "1.5.0",
          "state": {
            "_view_name": "HBoxView",
            "_dom_classes": [],
            "_model_name": "HBoxModel",
            "_view_module": "@jupyter-widgets/controls",
            "_model_module_version": "1.5.0",
            "_view_count": null,
            "_view_module_version": "1.5.0",
            "box_style": "",
            "layout": "IPY_MODEL_2eeeb3f789f143a39605288d25e1d0b6",
            "_model_module": "@jupyter-widgets/controls",
            "children": [
              "IPY_MODEL_931d1929ed7746b6ad311177008d76ff",
              "IPY_MODEL_e185413ada5f425e8001b41f909846c6",
              "IPY_MODEL_083369f838b2405bba1b724b7beea59b"
            ]
          }
        },
        "2eeeb3f789f143a39605288d25e1d0b6": {
          "model_module": "@jupyter-widgets/base",
          "model_name": "LayoutModel",
          "model_module_version": "1.2.0",
          "state": {
            "_view_name": "LayoutView",
            "grid_template_rows": null,
            "right": null,
            "justify_content": null,
            "_view_module": "@jupyter-widgets/base",
            "overflow": null,
            "_model_module_version": "1.2.0",
            "_view_count": null,
            "flex_flow": null,
            "width": null,
            "min_width": null,
            "border": null,
            "align_items": null,
            "bottom": null,
            "_model_module": "@jupyter-widgets/base",
            "top": null,
            "grid_column": null,
            "overflow_y": null,
            "overflow_x": null,
            "grid_auto_flow": null,
            "grid_area": null,
            "grid_template_columns": null,
            "flex": null,
            "_model_name": "LayoutModel",
            "justify_items": null,
            "grid_row": null,
            "max_height": null,
            "align_content": null,
            "visibility": null,
            "align_self": null,
            "height": null,
            "min_height": null,
            "padding": null,
            "grid_auto_rows": null,
            "grid_gap": null,
            "max_width": null,
            "order": null,
            "_view_module_version": "1.2.0",
            "grid_template_areas": null,
            "object_position": null,
            "object_fit": null,
            "grid_auto_columns": null,
            "margin": null,
            "display": null,
            "left": null
          }
        },
        "931d1929ed7746b6ad311177008d76ff": {
          "model_module": "@jupyter-widgets/controls",
          "model_name": "HTMLModel",
          "model_module_version": "1.5.0",
          "state": {
            "_view_name": "HTMLView",
            "style": "IPY_MODEL_421f781c092242098c99ca0732e443dc",
            "_dom_classes": [],
            "description": "",
            "_model_name": "HTMLModel",
            "placeholder": "​",
            "_view_module": "@jupyter-widgets/controls",
            "_model_module_version": "1.5.0",
            "value": "100%",
            "_view_count": null,
            "_view_module_version": "1.5.0",
            "description_tooltip": null,
            "_model_module": "@jupyter-widgets/controls",
            "layout": "IPY_MODEL_b2ee31b711214545893fb23068a6d43b"
          }
        },
        "e185413ada5f425e8001b41f909846c6": {
          "model_module": "@jupyter-widgets/controls",
          "model_name": "FloatProgressModel",
          "model_module_version": "1.5.0",
          "state": {
            "_view_name": "ProgressView",
            "style": "IPY_MODEL_f4a9ee781aa34d98b9a76781713d839d",
            "_dom_classes": [],
            "description": "",
            "_model_name": "FloatProgressModel",
            "bar_style": "success",
            "max": 12500,
            "_view_module": "@jupyter-widgets/controls",
            "_model_module_version": "1.5.0",
            "value": 12500,
            "_view_count": null,
            "_view_module_version": "1.5.0",
            "orientation": "horizontal",
            "min": 0,
            "description_tooltip": null,
            "_model_module": "@jupyter-widgets/controls",
            "layout": "IPY_MODEL_c2e5eab88117425f9d5c938b036a8422"
          }
        },
        "083369f838b2405bba1b724b7beea59b": {
          "model_module": "@jupyter-widgets/controls",
          "model_name": "HTMLModel",
          "model_module_version": "1.5.0",
          "state": {
            "_view_name": "HTMLView",
            "style": "IPY_MODEL_a9ec7dcd2f434dd88297be177f6064f6",
            "_dom_classes": [],
            "description": "",
            "_model_name": "HTMLModel",
            "placeholder": "​",
            "_view_module": "@jupyter-widgets/controls",
            "_model_module_version": "1.5.0",
            "value": " 12500/12500 [00:01&lt;00:00, 10150.88it/s]",
            "_view_count": null,
            "_view_module_version": "1.5.0",
            "description_tooltip": null,
            "_model_module": "@jupyter-widgets/controls",
            "layout": "IPY_MODEL_91d3efe091294a8e8a9e957ef120570d"
          }
        },
        "421f781c092242098c99ca0732e443dc": {
          "model_module": "@jupyter-widgets/controls",
          "model_name": "DescriptionStyleModel",
          "model_module_version": "1.5.0",
          "state": {
            "_view_name": "StyleView",
            "_model_name": "DescriptionStyleModel",
            "description_width": "",
            "_view_module": "@jupyter-widgets/base",
            "_model_module_version": "1.5.0",
            "_view_count": null,
            "_view_module_version": "1.2.0",
            "_model_module": "@jupyter-widgets/controls"
          }
        },
        "b2ee31b711214545893fb23068a6d43b": {
          "model_module": "@jupyter-widgets/base",
          "model_name": "LayoutModel",
          "model_module_version": "1.2.0",
          "state": {
            "_view_name": "LayoutView",
            "grid_template_rows": null,
            "right": null,
            "justify_content": null,
            "_view_module": "@jupyter-widgets/base",
            "overflow": null,
            "_model_module_version": "1.2.0",
            "_view_count": null,
            "flex_flow": null,
            "width": null,
            "min_width": null,
            "border": null,
            "align_items": null,
            "bottom": null,
            "_model_module": "@jupyter-widgets/base",
            "top": null,
            "grid_column": null,
            "overflow_y": null,
            "overflow_x": null,
            "grid_auto_flow": null,
            "grid_area": null,
            "grid_template_columns": null,
            "flex": null,
            "_model_name": "LayoutModel",
            "justify_items": null,
            "grid_row": null,
            "max_height": null,
            "align_content": null,
            "visibility": null,
            "align_self": null,
            "height": null,
            "min_height": null,
            "padding": null,
            "grid_auto_rows": null,
            "grid_gap": null,
            "max_width": null,
            "order": null,
            "_view_module_version": "1.2.0",
            "grid_template_areas": null,
            "object_position": null,
            "object_fit": null,
            "grid_auto_columns": null,
            "margin": null,
            "display": null,
            "left": null
          }
        },
        "f4a9ee781aa34d98b9a76781713d839d": {
          "model_module": "@jupyter-widgets/controls",
          "model_name": "ProgressStyleModel",
          "model_module_version": "1.5.0",
          "state": {
            "_view_name": "StyleView",
            "_model_name": "ProgressStyleModel",
            "description_width": "",
            "_view_module": "@jupyter-widgets/base",
            "_model_module_version": "1.5.0",
            "_view_count": null,
            "_view_module_version": "1.2.0",
            "bar_color": null,
            "_model_module": "@jupyter-widgets/controls"
          }
        },
        "c2e5eab88117425f9d5c938b036a8422": {
          "model_module": "@jupyter-widgets/base",
          "model_name": "LayoutModel",
          "model_module_version": "1.2.0",
          "state": {
            "_view_name": "LayoutView",
            "grid_template_rows": null,
            "right": null,
            "justify_content": null,
            "_view_module": "@jupyter-widgets/base",
            "overflow": null,
            "_model_module_version": "1.2.0",
            "_view_count": null,
            "flex_flow": null,
            "width": null,
            "min_width": null,
            "border": null,
            "align_items": null,
            "bottom": null,
            "_model_module": "@jupyter-widgets/base",
            "top": null,
            "grid_column": null,
            "overflow_y": null,
            "overflow_x": null,
            "grid_auto_flow": null,
            "grid_area": null,
            "grid_template_columns": null,
            "flex": null,
            "_model_name": "LayoutModel",
            "justify_items": null,
            "grid_row": null,
            "max_height": null,
            "align_content": null,
            "visibility": null,
            "align_self": null,
            "height": null,
            "min_height": null,
            "padding": null,
            "grid_auto_rows": null,
            "grid_gap": null,
            "max_width": null,
            "order": null,
            "_view_module_version": "1.2.0",
            "grid_template_areas": null,
            "object_position": null,
            "object_fit": null,
            "grid_auto_columns": null,
            "margin": null,
            "display": null,
            "left": null
          }
        },
        "a9ec7dcd2f434dd88297be177f6064f6": {
          "model_module": "@jupyter-widgets/controls",
          "model_name": "DescriptionStyleModel",
          "model_module_version": "1.5.0",
          "state": {
            "_view_name": "StyleView",
            "_model_name": "DescriptionStyleModel",
            "description_width": "",
            "_view_module": "@jupyter-widgets/base",
            "_model_module_version": "1.5.0",
            "_view_count": null,
            "_view_module_version": "1.2.0",
            "_model_module": "@jupyter-widgets/controls"
          }
        },
        "91d3efe091294a8e8a9e957ef120570d": {
          "model_module": "@jupyter-widgets/base",
          "model_name": "LayoutModel",
          "model_module_version": "1.2.0",
          "state": {
            "_view_name": "LayoutView",
            "grid_template_rows": null,
            "right": null,
            "justify_content": null,
            "_view_module": "@jupyter-widgets/base",
            "overflow": null,
            "_model_module_version": "1.2.0",
            "_view_count": null,
            "flex_flow": null,
            "width": null,
            "min_width": null,
            "border": null,
            "align_items": null,
            "bottom": null,
            "_model_module": "@jupyter-widgets/base",
            "top": null,
            "grid_column": null,
            "overflow_y": null,
            "overflow_x": null,
            "grid_auto_flow": null,
            "grid_area": null,
            "grid_template_columns": null,
            "flex": null,
            "_model_name": "LayoutModel",
            "justify_items": null,
            "grid_row": null,
            "max_height": null,
            "align_content": null,
            "visibility": null,
            "align_self": null,
            "height": null,
            "min_height": null,
            "padding": null,
            "grid_auto_rows": null,
            "grid_gap": null,
            "max_width": null,
            "order": null,
            "_view_module_version": "1.2.0",
            "grid_template_areas": null,
            "object_position": null,
            "object_fit": null,
            "grid_auto_columns": null,
            "margin": null,
            "display": null,
            "left": null
          }
        },
        "12e5afe589c445ea856558da91d03c6d": {
          "model_module": "@jupyter-widgets/controls",
          "model_name": "HBoxModel",
          "model_module_version": "1.5.0",
          "state": {
            "_view_name": "HBoxView",
            "_dom_classes": [],
            "_model_name": "HBoxModel",
            "_view_module": "@jupyter-widgets/controls",
            "_model_module_version": "1.5.0",
            "_view_count": null,
            "_view_module_version": "1.5.0",
            "box_style": "",
            "layout": "IPY_MODEL_c93d8397891940e791b7172244f28b2c",
            "_model_module": "@jupyter-widgets/controls",
            "children": [
              "IPY_MODEL_29555a884f7143d6a624af056671fad6",
              "IPY_MODEL_3f4a09e7ae9f41b590f850f01f011a6d",
              "IPY_MODEL_0254a8a6c6584fe4b2e15ef15321f67a"
            ]
          }
        },
        "c93d8397891940e791b7172244f28b2c": {
          "model_module": "@jupyter-widgets/base",
          "model_name": "LayoutModel",
          "model_module_version": "1.2.0",
          "state": {
            "_view_name": "LayoutView",
            "grid_template_rows": null,
            "right": null,
            "justify_content": null,
            "_view_module": "@jupyter-widgets/base",
            "overflow": null,
            "_model_module_version": "1.2.0",
            "_view_count": null,
            "flex_flow": null,
            "width": null,
            "min_width": null,
            "border": null,
            "align_items": null,
            "bottom": null,
            "_model_module": "@jupyter-widgets/base",
            "top": null,
            "grid_column": null,
            "overflow_y": null,
            "overflow_x": null,
            "grid_auto_flow": null,
            "grid_area": null,
            "grid_template_columns": null,
            "flex": null,
            "_model_name": "LayoutModel",
            "justify_items": null,
            "grid_row": null,
            "max_height": null,
            "align_content": null,
            "visibility": null,
            "align_self": null,
            "height": null,
            "min_height": null,
            "padding": null,
            "grid_auto_rows": null,
            "grid_gap": null,
            "max_width": null,
            "order": null,
            "_view_module_version": "1.2.0",
            "grid_template_areas": null,
            "object_position": null,
            "object_fit": null,
            "grid_auto_columns": null,
            "margin": null,
            "display": null,
            "left": null
          }
        },
        "29555a884f7143d6a624af056671fad6": {
          "model_module": "@jupyter-widgets/controls",
          "model_name": "HTMLModel",
          "model_module_version": "1.5.0",
          "state": {
            "_view_name": "HTMLView",
            "style": "IPY_MODEL_788056d9682442f79a54352889cf7cd5",
            "_dom_classes": [],
            "description": "",
            "_model_name": "HTMLModel",
            "placeholder": "​",
            "_view_module": "@jupyter-widgets/controls",
            "_model_module_version": "1.5.0",
            "value": "100%",
            "_view_count": null,
            "_view_module_version": "1.5.0",
            "description_tooltip": null,
            "_model_module": "@jupyter-widgets/controls",
            "layout": "IPY_MODEL_ff8ed7d0ab044aa48b201e055c65b9fa"
          }
        },
        "3f4a09e7ae9f41b590f850f01f011a6d": {
          "model_module": "@jupyter-widgets/controls",
          "model_name": "FloatProgressModel",
          "model_module_version": "1.5.0",
          "state": {
            "_view_name": "ProgressView",
            "style": "IPY_MODEL_81c14041d3d04601b35ca8866afb05a7",
            "_dom_classes": [],
            "description": "",
            "_model_name": "FloatProgressModel",
            "bar_style": "success",
            "max": 313,
            "_view_module": "@jupyter-widgets/controls",
            "_model_module_version": "1.5.0",
            "value": 313,
            "_view_count": null,
            "_view_module_version": "1.5.0",
            "orientation": "horizontal",
            "min": 0,
            "description_tooltip": null,
            "_model_module": "@jupyter-widgets/controls",
            "layout": "IPY_MODEL_4cabc08b94a94d3594e488c4bacafd50"
          }
        },
        "0254a8a6c6584fe4b2e15ef15321f67a": {
          "model_module": "@jupyter-widgets/controls",
          "model_name": "HTMLModel",
          "model_module_version": "1.5.0",
          "state": {
            "_view_name": "HTMLView",
            "style": "IPY_MODEL_b5068ef5b9c64a3585cb57b134004781",
            "_dom_classes": [],
            "description": "",
            "_model_name": "HTMLModel",
            "placeholder": "​",
            "_view_module": "@jupyter-widgets/controls",
            "_model_module_version": "1.5.0",
            "value": " 313/313 [00:15&lt;00:00, 22.89it/s]",
            "_view_count": null,
            "_view_module_version": "1.5.0",
            "description_tooltip": null,
            "_model_module": "@jupyter-widgets/controls",
            "layout": "IPY_MODEL_c8ddf832e3c84aa5ac57ee180d275227"
          }
        },
        "788056d9682442f79a54352889cf7cd5": {
          "model_module": "@jupyter-widgets/controls",
          "model_name": "DescriptionStyleModel",
          "model_module_version": "1.5.0",
          "state": {
            "_view_name": "StyleView",
            "_model_name": "DescriptionStyleModel",
            "description_width": "",
            "_view_module": "@jupyter-widgets/base",
            "_model_module_version": "1.5.0",
            "_view_count": null,
            "_view_module_version": "1.2.0",
            "_model_module": "@jupyter-widgets/controls"
          }
        },
        "ff8ed7d0ab044aa48b201e055c65b9fa": {
          "model_module": "@jupyter-widgets/base",
          "model_name": "LayoutModel",
          "model_module_version": "1.2.0",
          "state": {
            "_view_name": "LayoutView",
            "grid_template_rows": null,
            "right": null,
            "justify_content": null,
            "_view_module": "@jupyter-widgets/base",
            "overflow": null,
            "_model_module_version": "1.2.0",
            "_view_count": null,
            "flex_flow": null,
            "width": null,
            "min_width": null,
            "border": null,
            "align_items": null,
            "bottom": null,
            "_model_module": "@jupyter-widgets/base",
            "top": null,
            "grid_column": null,
            "overflow_y": null,
            "overflow_x": null,
            "grid_auto_flow": null,
            "grid_area": null,
            "grid_template_columns": null,
            "flex": null,
            "_model_name": "LayoutModel",
            "justify_items": null,
            "grid_row": null,
            "max_height": null,
            "align_content": null,
            "visibility": null,
            "align_self": null,
            "height": null,
            "min_height": null,
            "padding": null,
            "grid_auto_rows": null,
            "grid_gap": null,
            "max_width": null,
            "order": null,
            "_view_module_version": "1.2.0",
            "grid_template_areas": null,
            "object_position": null,
            "object_fit": null,
            "grid_auto_columns": null,
            "margin": null,
            "display": null,
            "left": null
          }
        },
        "81c14041d3d04601b35ca8866afb05a7": {
          "model_module": "@jupyter-widgets/controls",
          "model_name": "ProgressStyleModel",
          "model_module_version": "1.5.0",
          "state": {
            "_view_name": "StyleView",
            "_model_name": "ProgressStyleModel",
            "description_width": "",
            "_view_module": "@jupyter-widgets/base",
            "_model_module_version": "1.5.0",
            "_view_count": null,
            "_view_module_version": "1.2.0",
            "bar_color": null,
            "_model_module": "@jupyter-widgets/controls"
          }
        },
        "4cabc08b94a94d3594e488c4bacafd50": {
          "model_module": "@jupyter-widgets/base",
          "model_name": "LayoutModel",
          "model_module_version": "1.2.0",
          "state": {
            "_view_name": "LayoutView",
            "grid_template_rows": null,
            "right": null,
            "justify_content": null,
            "_view_module": "@jupyter-widgets/base",
            "overflow": null,
            "_model_module_version": "1.2.0",
            "_view_count": null,
            "flex_flow": null,
            "width": null,
            "min_width": null,
            "border": null,
            "align_items": null,
            "bottom": null,
            "_model_module": "@jupyter-widgets/base",
            "top": null,
            "grid_column": null,
            "overflow_y": null,
            "overflow_x": null,
            "grid_auto_flow": null,
            "grid_area": null,
            "grid_template_columns": null,
            "flex": null,
            "_model_name": "LayoutModel",
            "justify_items": null,
            "grid_row": null,
            "max_height": null,
            "align_content": null,
            "visibility": null,
            "align_self": null,
            "height": null,
            "min_height": null,
            "padding": null,
            "grid_auto_rows": null,
            "grid_gap": null,
            "max_width": null,
            "order": null,
            "_view_module_version": "1.2.0",
            "grid_template_areas": null,
            "object_position": null,
            "object_fit": null,
            "grid_auto_columns": null,
            "margin": null,
            "display": null,
            "left": null
          }
        },
        "b5068ef5b9c64a3585cb57b134004781": {
          "model_module": "@jupyter-widgets/controls",
          "model_name": "DescriptionStyleModel",
          "model_module_version": "1.5.0",
          "state": {
            "_view_name": "StyleView",
            "_model_name": "DescriptionStyleModel",
            "description_width": "",
            "_view_module": "@jupyter-widgets/base",
            "_model_module_version": "1.5.0",
            "_view_count": null,
            "_view_module_version": "1.2.0",
            "_model_module": "@jupyter-widgets/controls"
          }
        },
        "c8ddf832e3c84aa5ac57ee180d275227": {
          "model_module": "@jupyter-widgets/base",
          "model_name": "LayoutModel",
          "model_module_version": "1.2.0",
          "state": {
            "_view_name": "LayoutView",
            "grid_template_rows": null,
            "right": null,
            "justify_content": null,
            "_view_module": "@jupyter-widgets/base",
            "overflow": null,
            "_model_module_version": "1.2.0",
            "_view_count": null,
            "flex_flow": null,
            "width": null,
            "min_width": null,
            "border": null,
            "align_items": null,
            "bottom": null,
            "_model_module": "@jupyter-widgets/base",
            "top": null,
            "grid_column": null,
            "overflow_y": null,
            "overflow_x": null,
            "grid_auto_flow": null,
            "grid_area": null,
            "grid_template_columns": null,
            "flex": null,
            "_model_name": "LayoutModel",
            "justify_items": null,
            "grid_row": null,
            "max_height": null,
            "align_content": null,
            "visibility": null,
            "align_self": null,
            "height": null,
            "min_height": null,
            "padding": null,
            "grid_auto_rows": null,
            "grid_gap": null,
            "max_width": null,
            "order": null,
            "_view_module_version": "1.2.0",
            "grid_template_areas": null,
            "object_position": null,
            "object_fit": null,
            "grid_auto_columns": null,
            "margin": null,
            "display": null,
            "left": null
          }
        }
      }
    }
  },
  "cells": [
    {
      "cell_type": "markdown",
      "metadata": {
        "id": "view-in-github",
        "colab_type": "text"
      },
      "source": [
        "<a href=\"https://colab.research.google.com/github/wizard339/NLP_MISIS/blob/main/week2/seminar_2_.ipynb\" target=\"_parent\"><img src=\"https://colab.research.google.com/assets/colab-badge.svg\" alt=\"Open In Colab\"/></a>"
      ]
    },
    {
      "cell_type": "markdown",
      "metadata": {
        "id": "x1oBo3Azdy7L"
      },
      "source": [
        "# Seminar 2 (Word representation and CNN for text classification)"
      ]
    },
    {
      "cell_type": "markdown",
      "metadata": {
        "id": "8Gf7_dLEfg71"
      },
      "source": [
        "## Purpose of the lesson"
      ]
    },
    {
      "cell_type": "markdown",
      "metadata": {
        "id": "LCFQ8ClNfwEd"
      },
      "source": [
        "In this lesson, we will touch on two topics: \n",
        "- data research through training your language model and studying the vector representation of words from data\n",
        "- solving practical problem of classifying the sentiment of the text."
      ]
    },
    {
      "cell_type": "markdown",
      "metadata": {
        "id": "36kSDfDqjO04"
      },
      "source": [
        "Practical skills, that you will learn:\n",
        "- training model, that handle distributional semantics over your training dataset;\n",
        "- dimension reduction to more effectively handle vectors and futher use simplier and more light weighted machine learning models;\n",
        "- representation of vectors on 2 dimensional graphics to find some structure in data, relative positions of vectors and similar meanings of words;\n",
        "- downloading open-source datasets for sentiment analysis;\n",
        "- downloading pretrained on large corpus weights;\n",
        "- initialize pretrained weights to your model and use them to get better quality of model;\n",
        "- writing custom class to process data for your model;\n",
        "- learn how to use CNN for text classification;\n",
        "- write simple training/validation loop to train your model;\n",
        "- some kind of transfer learning to solve text classification task for faster, using less data and more effectively."
      ]
    },
    {
      "cell_type": "markdown",
      "metadata": {
        "id": "46IFrLhed7vo"
      },
      "source": [
        "## PART 1"
      ]
    },
    {
      "cell_type": "markdown",
      "metadata": {
        "id": "UtY20Aavhous"
      },
      "source": [
        "In Part 1 we use texts, but you can also use other data to train vector represention of your tokens.<br> For example: each nodes in graph can be represented as random walk over neighbour nodes. After learning vector representation of your nodes you can cluster your data. It is computational more effective, because all graph clustering algorigtms have O(n**2) complexity and harder.<br>\n",
        "Or you can represent your customers as chain of their transactions and then learn their representation."
      ]
    },
    {
      "cell_type": "code",
      "metadata": {
        "id": "cDs0xRMKA8xv"
      },
      "source": [
        "import numpy as np\n",
        "import pandas as pd\n",
        "from tqdm.notebook import tqdm\n",
        "import torch\n",
        "import torch.nn as nn\n",
        "from matplotlib import pyplot as plt\n",
        "\n",
        "from typing import Union, List, Tuple, Dict, Set"
      ],
      "execution_count": 1,
      "outputs": []
    },
    {
      "cell_type": "markdown",
      "metadata": {
        "id": "nAZEp7bkfmJc"
      },
      "source": [
        "### Vector normalization"
      ]
    },
    {
      "cell_type": "markdown",
      "metadata": {
        "id": "5KklCrHsm8PH"
      },
      "source": [
        "When you work with classical ML problems you need to preprocess you features to equal scale. It helps models to faster converge and get more accurate solution.<br>\n",
        "It`s all applicable for texts and their vector representation."
      ]
    },
    {
      "cell_type": "markdown",
      "metadata": {
        "id": "-mwfxADindXY"
      },
      "source": [
        "Lets get some simple vectors. They are similar, but have pretty different lenghts."
      ]
    },
    {
      "cell_type": "code",
      "metadata": {
        "id": "6e8dwyrEBDau",
        "colab": {
          "base_uri": "https://localhost:8080/"
        },
        "outputId": "02ac2561-5c25-45f0-9995-cc7a71a86c7c"
      },
      "source": [
        "vectors = np.array([[ 7.,  8.,  5.,  5.],\n",
        "                    [ 9.,  8., 10.,  8.],\n",
        "                    [10.,  8.,  8.,  6.]])\n",
        "vectors"
      ],
      "execution_count": 2,
      "outputs": [
        {
          "output_type": "execute_result",
          "data": {
            "text/plain": [
              "array([[ 7.,  8.,  5.,  5.],\n",
              "       [ 9.,  8., 10.,  8.],\n",
              "       [10.,  8.,  8.,  6.]])"
            ]
          },
          "metadata": {},
          "execution_count": 2
        }
      ]
    },
    {
      "cell_type": "code",
      "metadata": {
        "id": "9fDxIlzxB6I9"
      },
      "source": [
        "import torch.nn.functional as F"
      ],
      "execution_count": 3,
      "outputs": []
    },
    {
      "cell_type": "markdown",
      "metadata": {
        "id": "GN3TsNzICKKZ"
      },
      "source": [
        "#### Task 1\n",
        "Write function that get two vectors as input, normalize them to get length equal 1 and return them as torch.tensor for futher work in our Neural Networks."
      ]
    },
    {
      "cell_type": "markdown",
      "metadata": {
        "id": "B0nqalDjoSme"
      },
      "source": [
        "We will use whis function when we will preprocess all vectors, that we get for our model. Especially if we get vectors from outside."
      ]
    },
    {
      "cell_type": "markdown",
      "metadata": {
        "id": "7zZBtixjCebK"
      },
      "source": [
        "##### help"
      ]
    },
    {
      "cell_type": "code",
      "metadata": {
        "id": "FA351qU5CjOM"
      },
      "source": [
        "# 1. use torch.nn.functional module to normalize (there are normalize function)\n",
        "# 2. don`t forget to cast types"
      ],
      "execution_count": 4,
      "outputs": []
    },
    {
      "cell_type": "markdown",
      "metadata": {
        "id": "3YZAuQmyCeWA"
      },
      "source": [
        "##### continue work"
      ]
    },
    {
      "cell_type": "code",
      "metadata": {
        "id": "_WuZLLzNC02C"
      },
      "source": [
        "# YOUR CODE HERE\n",
        "def normalize_vectors(vectors: Union[List[Union[int, float]],\n",
        "                                     np.array,\n",
        "                                     torch.tensor]) -> torch.tensor:\n",
        "  return F.normalize(torch.tensor(vectors)).type(torch.float64)"
      ],
      "execution_count": 5,
      "outputs": []
    },
    {
      "cell_type": "code",
      "metadata": {
        "id": "TTLwZBNtDghS"
      },
      "source": [
        "normed_vectors = normalize_vectors(vectors)\n",
        "\n",
        "assert torch.norm(normed_vectors, dim=1).sum().item() == 3\n",
        "assert normed_vectors.dtype == torch.float64"
      ],
      "execution_count": 6,
      "outputs": []
    },
    {
      "cell_type": "markdown",
      "metadata": {
        "id": "JdCrgkDXfqGg"
      },
      "source": [
        "### Calculate vector similarity"
      ]
    },
    {
      "cell_type": "markdown",
      "metadata": {
        "id": "ULUM2lhop6FT"
      },
      "source": [
        "To measure how similar are vectors we use cosine similariry. It`s formula is represented below.<br>\n",
        "When we need to get deeper and faster insight into data, without clustering we can just calculate cosine similarity between vectors and get first understanding how common is concrete vector to other vectors."
      ]
    },
    {
      "cell_type": "markdown",
      "metadata": {
        "id": "kUDuiFORFx5d"
      },
      "source": [
        "#### Task 2\n",
        "Write on pure numpy function that measure vector distance between two vectors. Each input vector is a numpy array. Return a single float number that measure similarity between vectors.\n",
        "![image.png](data:image/png;base64,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)"
      ]
    },
    {
      "cell_type": "markdown",
      "metadata": {
        "id": "ktAtfesGrSDb"
      },
      "source": [
        "##### help"
      ]
    },
    {
      "cell_type": "code",
      "metadata": {
        "id": "iViNG3nNrUkS"
      },
      "source": [
        "# 1. In numerator we get scalar multiplication of two vectors. It sums pairwise multiplication of each component in vectors\n",
        "# 2. In denominator we get multiplication of length of each vector. We calculate it as L2-norm.\n",
        "\n",
        "# You can use numpy functions below to calculate similarity"
      ],
      "execution_count": 7,
      "outputs": []
    },
    {
      "cell_type": "code",
      "metadata": {
        "id": "d-5PRIwKGEBt"
      },
      "source": [
        "from numpy import dot\n",
        "from numpy.linalg import norm"
      ],
      "execution_count": 8,
      "outputs": []
    },
    {
      "cell_type": "markdown",
      "metadata": {
        "id": "-IzvtuwzrU-z"
      },
      "source": [
        "##### continue work"
      ]
    },
    {
      "cell_type": "code",
      "metadata": {
        "id": "OLKSps22GRvn"
      },
      "source": [
        "# YOUR CODE HERE\n",
        "def cos_similarity(a: np.array, b: np.array) -> float:\n",
        "  return dot(a, b) / (norm(a) * norm(b))"
      ],
      "execution_count": 9,
      "outputs": []
    },
    {
      "cell_type": "code",
      "metadata": {
        "id": "AQpBP0jWGVW9"
      },
      "source": [
        "cos_sim_1 = cos_similarity(normed_vectors[0], normed_vectors[1])\n",
        "cos_sim_2 = cos_similarity(normed_vectors[1], normed_vectors[2])\n",
        "\n",
        "assert cos_sim_1 < cos_sim_2\n",
        "assert cos_sim_1 > 0.96\n",
        "assert cos_sim_2 > 0.98"
      ],
      "execution_count": 10,
      "outputs": []
    },
    {
      "cell_type": "markdown",
      "metadata": {
        "id": "J8RQdM1gf07U"
      },
      "source": [
        "### Training vector representation from our data"
      ]
    },
    {
      "cell_type": "markdown",
      "metadata": {
        "id": "l9hU90Kas0L5"
      },
      "source": [
        "If we have anough data or you are not familier with domain of your data you can train language model from just your data. After traing you can explore your vectors with some clusterning technics or just visualize vectors in 2d or 3d dimensions."
      ]
    },
    {
      "cell_type": "markdown",
      "metadata": {
        "id": "eUL27zXstk_t"
      },
      "source": [
        "On lecture we discussed word2vec model. More complex and functional version of word2vec is Fasttext, that handle main problem of word2vec - Out-Of-Vocabulary words. Implementation of this model and some basic functionality with it you can find in python library fasttext. It is disigned by Facebook."
      ]
    },
    {
      "cell_type": "code",
      "metadata": {
        "id": "uoJFdx8QHb8J",
        "colab": {
          "base_uri": "https://localhost:8080/"
        },
        "outputId": "39f61258-cd79-4af3-adee-143b767a4eb3"
      },
      "source": [
        "!pip install fasttext"
      ],
      "execution_count": 11,
      "outputs": [
        {
          "output_type": "stream",
          "name": "stdout",
          "text": [
            "Collecting fasttext\n",
            "  Downloading fasttext-0.9.2.tar.gz (68 kB)\n",
            "\u001b[?25l\r\u001b[K     |████▊                           | 10 kB 22.2 MB/s eta 0:00:01\r\u001b[K     |█████████▌                      | 20 kB 25.9 MB/s eta 0:00:01\r\u001b[K     |██████████████▎                 | 30 kB 21.9 MB/s eta 0:00:01\r\u001b[K     |███████████████████             | 40 kB 17.4 MB/s eta 0:00:01\r\u001b[K     |███████████████████████▉        | 51 kB 13.8 MB/s eta 0:00:01\r\u001b[K     |████████████████████████████▋   | 61 kB 13.7 MB/s eta 0:00:01\r\u001b[K     |████████████████████████████████| 68 kB 4.6 MB/s \n",
            "\u001b[?25hCollecting pybind11>=2.2\n",
            "  Using cached pybind11-2.8.0-py2.py3-none-any.whl (207 kB)\n",
            "Requirement already satisfied: setuptools>=0.7.0 in /usr/local/lib/python3.7/dist-packages (from fasttext) (57.4.0)\n",
            "Requirement already satisfied: numpy in /usr/local/lib/python3.7/dist-packages (from fasttext) (1.19.5)\n",
            "Building wheels for collected packages: fasttext\n",
            "  Building wheel for fasttext (setup.py) ... \u001b[?25l\u001b[?25hdone\n",
            "  Created wheel for fasttext: filename=fasttext-0.9.2-cp37-cp37m-linux_x86_64.whl size=3123402 sha256=ea69396e161fcd1c159ec367c31205d6748b1c853572dc2947435bbdef8fa7b4\n",
            "  Stored in directory: /root/.cache/pip/wheels/4e/ca/bf/b020d2be95f7641801a6597a29c8f4f19e38f9c02a345bab9b\n",
            "Successfully built fasttext\n",
            "Installing collected packages: pybind11, fasttext\n",
            "Successfully installed fasttext-0.9.2 pybind11-2.8.0\n"
          ]
        }
      ]
    },
    {
      "cell_type": "markdown",
      "metadata": {
        "id": "WNhGth4MuNiL"
      },
      "source": [
        "Download data of russian comments form Odnoklassniki social network"
      ]
    },
    {
      "cell_type": "code",
      "metadata": {
        "id": "5k7tcvztISpy",
        "colab": {
          "base_uri": "https://localhost:8080/"
        },
        "outputId": "0768d046-9256-4dd9-b77a-c521ad345c3c"
      },
      "source": [
        "!wget https://raw.githubusercontent.com/snv-ds/NLP_course/master/week2/train"
      ],
      "execution_count": 12,
      "outputs": [
        {
          "output_type": "stream",
          "name": "stdout",
          "text": [
            "--2021-10-09 08:34:37--  https://raw.githubusercontent.com/snv-ds/NLP_course/master/week2/train\n",
            "Resolving raw.githubusercontent.com (raw.githubusercontent.com)... 185.199.108.133, 185.199.109.133, 185.199.110.133, ...\n",
            "Connecting to raw.githubusercontent.com (raw.githubusercontent.com)|185.199.108.133|:443... connected.\n",
            "HTTP request sent, awaiting response... 200 OK\n",
            "Length: 24525472 (23M) [text/plain]\n",
            "Saving to: ‘train’\n",
            "\n",
            "train               100%[===================>]  23.39M  --.-KB/s    in 0.1s    \n",
            "\n",
            "2021-10-09 08:34:39 (165 MB/s) - ‘train’ saved [24525472/24525472]\n",
            "\n"
          ]
        }
      ]
    },
    {
      "cell_type": "markdown",
      "metadata": {
        "id": "ELfxbU7Oux2T"
      },
      "source": [
        "Importing fasttext library to use FastText model implemented there"
      ]
    },
    {
      "cell_type": "code",
      "metadata": {
        "id": "_M0UUTTPOvG_"
      },
      "source": [
        "import fasttext"
      ],
      "execution_count": 13,
      "outputs": []
    },
    {
      "cell_type": "markdown",
      "metadata": {
        "id": "rAEwvVIVu5p6"
      },
      "source": [
        "Our data is multilabel classification task. Classes represented in data you can see below."
      ]
    },
    {
      "cell_type": "code",
      "metadata": {
        "id": "B9BHjqb1KIfV"
      },
      "source": [
        "parse_labels = ['__label__NORMAL','__label__INSULT','__label__THREAT','__label__OBSCENITY']"
      ],
      "execution_count": 14,
      "outputs": []
    },
    {
      "cell_type": "code",
      "metadata": {
        "id": "7LUtRPaELZmG",
        "colab": {
          "base_uri": "https://localhost:8080/"
        },
        "outputId": "5be3ab1d-f0b0-45f4-fdfc-c66bf476f779"
      },
      "source": [
        "!head -n 20 train"
      ],
      "execution_count": 15,
      "outputs": [
        {
          "output_type": "stream",
          "name": "stdout",
          "text": [
            "41127\t__label__THREAT\tдворника надо тоже уничтожить!\n",
            "6812\t__label__NORMAL\tмоя старшая неделю шипела, не принимала подкидыша, которого я принесла. китя такой славный, потерпите немного, мои теперь душа в душу живут, ваша примет попозже. а котенок необыкновенно красивый.\n",
            "6256\t__label__NORMAL\tполностью с вами согласна!\n",
            "189636\t__label__NORMAL\tхоть ногу вверх, ничего не изменится\n",
            "99053\t__label__NORMAL\tа что значит - левого ребенка?\n",
            "98418\t__label__NORMAL\tвечер добрый! а, что он у вас уже постарел?!\n",
            "3619\t__label__NORMAL\tкакая порода .?\n",
            "176463\t__label__INSULT\tспасатель? просто петух чванливый, взял наших пацанов в заложники и торгуется. позор! как бы сам в щи не попал.\n",
            "13520\t__label__NORMAL\tс замечательным юбилеем!!! голос- чудо, заслушаешься 😍и про чтение все правильно- ничто не сравнится с бумажной книгой!\n",
            "133613\t__label__NORMAL\tеще бы .такой красавец.\n",
            "77333\t__label__NORMAL\tесть вот такое фото культурно-массового мероприятия.\n",
            "201554\t__label__NORMAL\tможно бесконечно искать недостатки! мудрак это достойный кандидат для главы города красномакенска.\n",
            "167393\t__label__NORMAL\t..... 100% (охрана) + 5 по 100% (всё остальное). итог понятен! полный кирдык!!!\n",
            "210414\t__label__INSULT\tбедьненький,давайте скинемся,а то сдохнет мразь!\n",
            "91190\t__label__NORMAL\tорганизация противопожарного контроля. но вот денег на неё нет:-(\n",
            "40268\t__label__NORMAL\tещё версии есть или только эта?\n",
            "79556\t__label__NORMAL\tя всегда говорила -ума нет вот и бодаются с матерками !!! какие слова -такие и мысли !!! о какие мысли ???? !! глупый инстинкт !!!\n",
            "193973\t__label__NORMAL\tгать метлой\n",
            "45268\t__label__NORMAL\tизвините нечаянно нажала, но время от времени пью это лекарство, продаётся в зооветснабе\n",
            "97110\t__label__NORMAL\tшахтам горловки уже 3 года днр должны и вообще тишина\n"
          ]
        }
      ]
    },
    {
      "cell_type": "markdown",
      "metadata": {
        "id": "T4a2ZNpLvHNd"
      },
      "source": [
        "Here we will load data, prepocess each row to get features as OHE vectors and translate target features on russian."
      ]
    },
    {
      "cell_type": "code",
      "metadata": {
        "id": "_2C_favhIyib",
        "colab": {
          "base_uri": "https://localhost:8080/",
          "height": 300
        },
        "outputId": "97c8499c-37bf-4e30-f307-67902026c8cd"
      },
      "source": [
        "train = pd.read_csv('/content/train', sep='\\t', names=['id','target','temp1','temp2','comment'], index_col=0)\n",
        "\n",
        "mask = train['comment'].isin(parse_labels)  # to cope only with correct rows in data\n",
        "train.loc[mask,'target'] = train[mask]['target'] + ',' + train[mask]['comment']\n",
        "train.loc[mask,'comment'] = np.nan\n",
        "\n",
        "for t in ['temp1','temp2']: # if comment have several labels of classes\n",
        "    mask = train[t].isin(parse_labels)\n",
        "    train.loc[mask,'target'] = train[mask]['target'] + ',' + train[mask][t]\n",
        "    train.loc[mask,t] = np.nan\n",
        "    train.loc[~train[t].isna(),'comment'] = train[~train[t].isna()][t]\n",
        "\n",
        "train[['оскорбление','другое','непростойность','угроза']] = train['target'].str.get_dummies(sep=',')\n",
        "\n",
        "train = train[['другое','оскорбление','непростойность','угроза', 'comment']]\n",
        "train.sample(7)"
      ],
      "execution_count": 16,
      "outputs": [
        {
          "output_type": "execute_result",
          "data": {
            "text/html": [
              "<div>\n",
              "<style scoped>\n",
              "    .dataframe tbody tr th:only-of-type {\n",
              "        vertical-align: middle;\n",
              "    }\n",
              "\n",
              "    .dataframe tbody tr th {\n",
              "        vertical-align: top;\n",
              "    }\n",
              "\n",
              "    .dataframe thead th {\n",
              "        text-align: right;\n",
              "    }\n",
              "</style>\n",
              "<table border=\"1\" class=\"dataframe\">\n",
              "  <thead>\n",
              "    <tr style=\"text-align: right;\">\n",
              "      <th></th>\n",
              "      <th>другое</th>\n",
              "      <th>оскорбление</th>\n",
              "      <th>непростойность</th>\n",
              "      <th>угроза</th>\n",
              "      <th>comment</th>\n",
              "    </tr>\n",
              "    <tr>\n",
              "      <th>id</th>\n",
              "      <th></th>\n",
              "      <th></th>\n",
              "      <th></th>\n",
              "      <th></th>\n",
              "      <th></th>\n",
              "    </tr>\n",
              "  </thead>\n",
              "  <tbody>\n",
              "    <tr>\n",
              "      <th>60468</th>\n",
              "      <td>1</td>\n",
              "      <td>0</td>\n",
              "      <td>0</td>\n",
              "      <td>0</td>\n",
              "      <td>а по закону россии, производители белорусских ...</td>\n",
              "    </tr>\n",
              "    <tr>\n",
              "      <th>62208</th>\n",
              "      <td>1</td>\n",
              "      <td>0</td>\n",
              "      <td>0</td>\n",
              "      <td>0</td>\n",
              "      <td>вы счастливый человек,и я ничем никогда ее не ...</td>\n",
              "    </tr>\n",
              "    <tr>\n",
              "      <th>88075</th>\n",
              "      <td>1</td>\n",
              "      <td>0</td>\n",
              "      <td>0</td>\n",
              "      <td>0</td>\n",
              "      <td>не. советую ерунда</td>\n",
              "    </tr>\n",
              "    <tr>\n",
              "      <th>49481</th>\n",
              "      <td>1</td>\n",
              "      <td>0</td>\n",
              "      <td>0</td>\n",
              "      <td>0</td>\n",
              "      <td>живая картина... респект автору!</td>\n",
              "    </tr>\n",
              "    <tr>\n",
              "      <th>146731</th>\n",
              "      <td>1</td>\n",
              "      <td>0</td>\n",
              "      <td>0</td>\n",
              "      <td>0</td>\n",
              "      <td>засранка....почему не было контакта с родителя...</td>\n",
              "    </tr>\n",
              "    <tr>\n",
              "      <th>160607</th>\n",
              "      <td>1</td>\n",
              "      <td>0</td>\n",
              "      <td>0</td>\n",
              "      <td>0</td>\n",
              "      <td>нормальная переднепреводная</td>\n",
              "    </tr>\n",
              "    <tr>\n",
              "      <th>231335</th>\n",
              "      <td>1</td>\n",
              "      <td>0</td>\n",
              "      <td>0</td>\n",
              "      <td>0</td>\n",
              "      <td>нпзвание чопа,будьте добры?</td>\n",
              "    </tr>\n",
              "  </tbody>\n",
              "</table>\n",
              "</div>"
            ],
            "text/plain": [
              "        другое  ...                                            comment\n",
              "id              ...                                                   \n",
              "60468        1  ...  а по закону россии, производители белорусских ...\n",
              "62208        1  ...  вы счастливый человек,и я ничем никогда ее не ...\n",
              "88075        1  ...                                 не. советую ерунда\n",
              "49481        1  ...                   живая картина... респект автору!\n",
              "146731       1  ...  засранка....почему не было контакта с родителя...\n",
              "160607       1  ...                       нормальная переднепреводная \n",
              "231335       1  ...                        нпзвание чопа,будьте добры?\n",
              "\n",
              "[7 rows x 5 columns]"
            ]
          },
          "metadata": {},
          "execution_count": 16
        }
      ]
    },
    {
      "cell_type": "markdown",
      "metadata": {
        "id": "L2a7QbZSLuKa"
      },
      "source": [
        "#### Task 3\n",
        "Initialize variables for texts and targets from train data. Next time we will process this variables in our language model.<br> This action is very frequent and we want to automate it."
      ]
    },
    {
      "cell_type": "markdown",
      "metadata": {
        "id": "kjhVJ-HQwOyx"
      },
      "source": [
        "Each variable will contain np.array values from our train pandas.DataFrame. <br>Numpy is very fast to process, thats why we try to use it more often."
      ]
    },
    {
      "cell_type": "code",
      "metadata": {
        "id": "QbuZa-gEL4fd"
      },
      "source": [
        "# YOUR CODE HERE\n",
        "texts = train['comment'].values\n",
        "targets = train[['другое', 'оскорбление', 'непростойность', 'угроза']].values\n",
        "# or:\n",
        "# texts = np.array(train['comment'])\n",
        "# targets = np.array(train[['другое', 'оскорбление', 'непростойность', 'угроза']])"
      ],
      "execution_count": 17,
      "outputs": []
    },
    {
      "cell_type": "code",
      "metadata": {
        "id": "VRUj_KhbLic4"
      },
      "source": [
        "assert texts.shape[0] == 148775\n",
        "assert targets.shape[1] == 4\n",
        "assert texts.shape[0] == targets.shape[0]"
      ],
      "execution_count": 18,
      "outputs": []
    },
    {
      "cell_type": "markdown",
      "metadata": {
        "id": "oCWFfKvVNhTt"
      },
      "source": [
        "#### Task 4\n"
      ]
    },
    {
      "cell_type": "markdown",
      "metadata": {
        "id": "5YBmSSjowyco"
      },
      "source": [
        "To load data in FastText model we need to correctly represent it. FastText works only with corpus, where every document is splited by `\\n` symbol. When we train model on our data we can then represent each word in it as vector and continue exploring data from mathematical point of view."
      ]
    },
    {
      "cell_type": "markdown",
      "metadata": {
        "id": "zGD2ncLbwxIz"
      },
      "source": [
        "Create file `messages_unsupervised.txt`, that will contain all messages separeted by the `\\n` symbol. This file we will futher use to train FastText model"
      ]
    },
    {
      "cell_type": "code",
      "metadata": {
        "id": "sYOvFvopMlee"
      },
      "source": [
        "# YOUR CODE HERE\n",
        "with open('messages_unsupervised.txt', 'w', encoding='utf8') as f:\n",
        "  f.write('\\n'.join(texts))"
      ],
      "execution_count": 22,
      "outputs": []
    },
    {
      "cell_type": "code",
      "metadata": {
        "id": "8WfYJUn4MlSE"
      },
      "source": [
        "import os\n",
        "\n",
        "assert 'messages_unsupervised.txt' in os.listdir('./')"
      ],
      "execution_count": 23,
      "outputs": []
    },
    {
      "cell_type": "markdown",
      "metadata": {
        "id": "qkEBGqcAzhpb"
      },
      "source": [
        "Start training vector representation of words in our data is very simple. We can just pass generated file in method `train_unsupervised` of fasttext library and set some parameters. Fasttext model use ngams of symbols in words to handle OOV problem. By setting params `minn` and `maxn` we set number of ngrams we will generate. Param `dim` set output dimension of our data."
      ]
    },
    {
      "cell_type": "code",
      "metadata": {
        "id": "wSwekuz7Oipe",
        "outputId": "105161d9-6cf3-44de-8d01-48467cb87b7b",
        "colab": {
          "base_uri": "https://localhost:8080/"
        }
      },
      "source": [
        "%%time\n",
        "ft_vectors = fasttext.train_unsupervised('messages_unsupervised.txt', minn=3,maxn=5, dim=50)"
      ],
      "execution_count": 24,
      "outputs": [
        {
          "output_type": "stream",
          "name": "stdout",
          "text": [
            "CPU times: user 1min 25s, sys: 358 ms, total: 1min 25s\n",
            "Wall time: 1min 25s\n"
          ]
        }
      ]
    },
    {
      "cell_type": "markdown",
      "metadata": {
        "id": "EmL4CgGB0bMk"
      },
      "source": [
        "Now we can see most similar vectors in our dataset to given word"
      ]
    },
    {
      "cell_type": "code",
      "metadata": {
        "id": "8Xaypsl-Ozhq",
        "outputId": "bb40b907-f90d-4c72-d044-006f892cabd7",
        "colab": {
          "base_uri": "https://localhost:8080/"
        }
      },
      "source": [
        "ft_vectors.get_nearest_neighbors('дебил')"
      ],
      "execution_count": 25,
      "outputs": [
        {
          "output_type": "execute_result",
          "data": {
            "text/plain": [
              "[(0.9432968497276306, 'дебил.'),\n",
              " (0.9353195428848267, 'дебил,'),\n",
              " (0.9222123622894287, 'дебил?'),\n",
              " (0.9192084670066833, 'дебил!'),\n",
              " (0.8878727555274963, 'дебилу'),\n",
              " (0.8567968010902405, 'далбоёб'),\n",
              " (0.8566405773162842, 'мудак'),\n",
              " (0.8459110260009766, 'мудак.'),\n",
              " (0.8396469354629517, 'далбаеб'),\n",
              " (0.8340746164321899, 'козёл,')]"
            ]
          },
          "metadata": {},
          "execution_count": 25
        }
      ]
    },
    {
      "cell_type": "markdown",
      "metadata": {
        "id": "v7AC35CMP3Q4"
      },
      "source": [
        "Let`s visualize our vectors"
      ]
    },
    {
      "cell_type": "markdown",
      "metadata": {
        "id": "eKr-zH1z0kvc"
      },
      "source": [
        "For visualization we first need to reduce dimension of our data to 2d or 3d, because only this we can illustrate.<br>\n",
        "One of appropriate methods, that we can use to reduce dimensions is TSNE. It is implemented in MulticoreTSNE python library. <br>\n",
        "Another methods that can reduce dimension is:\n",
        "- UMAP (implemeted in umap library)\n",
        "- SVD (implemented in sklearn)\n",
        "- PCA (implemented in sklearn)"
      ]
    },
    {
      "cell_type": "code",
      "metadata": {
        "id": "nxg9eHKeP24j"
      },
      "source": [
        "!pip install MulticoreTSNE > /dev/null"
      ],
      "execution_count": 26,
      "outputs": []
    },
    {
      "cell_type": "code",
      "metadata": {
        "id": "urq1Qcc5QAnm"
      },
      "source": [
        "from sklearn.pipeline import Pipeline, FeatureUnion\n",
        "from sklearn.base import TransformerMixin, BaseEstimator\n",
        "from sklearn.preprocessing import FunctionTransformer\n",
        "from sklearn.model_selection import train_test_split\n",
        "\n",
        "\n",
        "from sklearn.decomposition import TruncatedSVD\n",
        "from MulticoreTSNE import MulticoreTSNE as TSNE"
      ],
      "execution_count": 27,
      "outputs": []
    },
    {
      "cell_type": "markdown",
      "metadata": {
        "id": "9lt3hly11VKo"
      },
      "source": [
        "We have so much words in our dataset. Lets take only 3 000 most frequent one, to visualize only them."
      ]
    },
    {
      "cell_type": "code",
      "metadata": {
        "id": "GIIu3_66QAbb",
        "outputId": "1dd94a54-0c4b-4c9b-83d4-f2c0ade7ebf3",
        "colab": {
          "base_uri": "https://localhost:8080/"
        }
      },
      "source": [
        "print(len(ft_vectors.words))\n",
        "top3k = ft_vectors.words[:3000]\n",
        "top3k[:10]"
      ],
      "execution_count": 28,
      "outputs": [
        {
          "output_type": "stream",
          "name": "stdout",
          "text": [
            "30552\n"
          ]
        },
        {
          "output_type": "execute_result",
          "data": {
            "text/plain": [
              "['</s>', 'и', 'не', 'в', 'на', 'а', 'с', 'что', 'это', 'я']"
            ]
          },
          "metadata": {},
          "execution_count": 28
        }
      ]
    },
    {
      "cell_type": "markdown",
      "metadata": {
        "id": "jBZngduqQK-z"
      },
      "source": [
        "#### Task 5"
      ]
    },
    {
      "cell_type": "markdown",
      "metadata": {
        "id": "pAnOViB11kpN"
      },
      "source": [
        "initialize `top3k_vectors` variable with all vectors, that are in top 3000 for frequency.<br> \n",
        "Result variable will be list of vectors. Each vector present concrete word representation."
      ]
    },
    {
      "cell_type": "code",
      "metadata": {
        "id": "4N6uodJBQY65"
      },
      "source": [
        "# YOUR CODE HERE\n",
        "top3k_vectors = [ft_vectors.get_word_vector(i) for i in top3k]"
      ],
      "execution_count": 29,
      "outputs": []
    },
    {
      "cell_type": "code",
      "metadata": {
        "id": "iZ2OK989Qegr",
        "outputId": "e2d6522d-dd8b-4973-918f-00c187ebf6e0",
        "colab": {
          "base_uri": "https://localhost:8080/"
        }
      },
      "source": [
        "%%time\n",
        "tsne_emb = TSNE(n_components=2,\n",
        "                n_iter=2000,\n",
        "                n_jobs=-1,\n",
        "                random_state=42).fit_transform(np.array(top3k_vectors))"
      ],
      "execution_count": 30,
      "outputs": [
        {
          "output_type": "stream",
          "name": "stdout",
          "text": [
            "CPU times: user 1min 9s, sys: 247 ms, total: 1min 9s\n",
            "Wall time: 39.1 s\n"
          ]
        }
      ]
    },
    {
      "cell_type": "code",
      "metadata": {
        "id": "pH66cbquQeaI",
        "outputId": "f1af66da-19d9-44f6-b1aa-ccc248a80388",
        "colab": {
          "base_uri": "https://localhost:8080/",
          "height": 617
        }
      },
      "source": [
        "from bokeh.models import ColumnDataSource, LabelSet\n",
        "from bokeh.plotting import figure, show, output_file\n",
        "from bokeh.io import output_notebook\n",
        "\n",
        "output_notebook()\n",
        "\n",
        "p = figure(tools=\"pan,wheel_zoom,reset,save\", title=\"TSNE representation of FastText vectors (top 3k words)\")\n",
        "\n",
        "source = ColumnDataSource(data=dict(x1=tsne_emb[:,0], x2=tsne_emb[:,1], names=top3k))\n",
        "\n",
        "p.scatter(x=\"x1\", y=\"x2\", source=source, size=5)\n",
        "\n",
        "words = LabelSet(x=\"x1\", y=\"x2\", text=\"names\", source=source,\n",
        "                y_offset=6, text_font_size=\"6pt\", \n",
        "                 text_color=\"#555555\", text_align=\"center\")\n",
        "\n",
        "p.add_layout(words)\n",
        "\n",
        "show(p)"
      ],
      "execution_count": 32,
      "outputs": [
        {
          "output_type": "display_data",
          "data": {
            "application/javascript": [
              "\n",
              "(function(root) {\n",
              "  function now() {\n",
              "    return new Date();\n",
              "  }\n",
              "\n",
              "  var force = true;\n",
              "\n",
              "  if (typeof root._bokeh_onload_callbacks === \"undefined\" || force === true) {\n",
              "    root._bokeh_onload_callbacks = [];\n",
              "    root._bokeh_is_loading = undefined;\n",
              "  }\n",
              "\n",
              "  var JS_MIME_TYPE = 'application/javascript';\n",
              "  var HTML_MIME_TYPE = 'text/html';\n",
              "  var EXEC_MIME_TYPE = 'application/vnd.bokehjs_exec.v0+json';\n",
              "  var CLASS_NAME = 'output_bokeh rendered_html';\n",
              "\n",
              "  /**\n",
              "   * Render data to the DOM node\n",
              "   */\n",
              "  function render(props, node) {\n",
              "    var script = document.createElement(\"script\");\n",
              "    node.appendChild(script);\n",
              "  }\n",
              "\n",
              "  /**\n",
              "   * Handle when an output is cleared or removed\n",
              "   */\n",
              "  function handleClearOutput(event, handle) {\n",
              "    var cell = handle.cell;\n",
              "\n",
              "    var id = cell.output_area._bokeh_element_id;\n",
              "    var server_id = cell.output_area._bokeh_server_id;\n",
              "    // Clean up Bokeh references\n",
              "    if (id != null && id in Bokeh.index) {\n",
              "      Bokeh.index[id].model.document.clear();\n",
              "      delete Bokeh.index[id];\n",
              "    }\n",
              "\n",
              "    if (server_id !== undefined) {\n",
              "      // Clean up Bokeh references\n",
              "      var cmd = \"from bokeh.io.state import curstate; print(curstate().uuid_to_server['\" + server_id + \"'].get_sessions()[0].document.roots[0]._id)\";\n",
              "      cell.notebook.kernel.execute(cmd, {\n",
              "        iopub: {\n",
              "          output: function(msg) {\n",
              "            var id = msg.content.text.trim();\n",
              "            if (id in Bokeh.index) {\n",
              "              Bokeh.index[id].model.document.clear();\n",
              "              delete Bokeh.index[id];\n",
              "            }\n",
              "          }\n",
              "        }\n",
              "      });\n",
              "      // Destroy server and session\n",
              "      var cmd = \"import bokeh.io.notebook as ion; ion.destroy_server('\" + server_id + \"')\";\n",
              "      cell.notebook.kernel.execute(cmd);\n",
              "    }\n",
              "  }\n",
              "\n",
              "  /**\n",
              "   * Handle when a new output is added\n",
              "   */\n",
              "  function handleAddOutput(event, handle) {\n",
              "    var output_area = handle.output_area;\n",
              "    var output = handle.output;\n",
              "\n",
              "    // limit handleAddOutput to display_data with EXEC_MIME_TYPE content only\n",
              "    if ((output.output_type != \"display_data\") || (!Object.prototype.hasOwnProperty.call(output.data, EXEC_MIME_TYPE))) {\n",
              "      return\n",
              "    }\n",
              "\n",
              "    var toinsert = output_area.element.find(\".\" + CLASS_NAME.split(' ')[0]);\n",
              "\n",
              "    if (output.metadata[EXEC_MIME_TYPE][\"id\"] !== undefined) {\n",
              "      toinsert[toinsert.length - 1].firstChild.textContent = output.data[JS_MIME_TYPE];\n",
              "      // store reference to embed id on output_area\n",
              "      output_area._bokeh_element_id = output.metadata[EXEC_MIME_TYPE][\"id\"];\n",
              "    }\n",
              "    if (output.metadata[EXEC_MIME_TYPE][\"server_id\"] !== undefined) {\n",
              "      var bk_div = document.createElement(\"div\");\n",
              "      bk_div.innerHTML = output.data[HTML_MIME_TYPE];\n",
              "      var script_attrs = bk_div.children[0].attributes;\n",
              "      for (var i = 0; i < script_attrs.length; i++) {\n",
              "        toinsert[toinsert.length - 1].firstChild.setAttribute(script_attrs[i].name, script_attrs[i].value);\n",
              "        toinsert[toinsert.length - 1].firstChild.textContent = bk_div.children[0].textContent\n",
              "      }\n",
              "      // store reference to server id on output_area\n",
              "      output_area._bokeh_server_id = output.metadata[EXEC_MIME_TYPE][\"server_id\"];\n",
              "    }\n",
              "  }\n",
              "\n",
              "  function register_renderer(events, OutputArea) {\n",
              "\n",
              "    function append_mime(data, metadata, element) {\n",
              "      // create a DOM node to render to\n",
              "      var toinsert = this.create_output_subarea(\n",
              "        metadata,\n",
              "        CLASS_NAME,\n",
              "        EXEC_MIME_TYPE\n",
              "      );\n",
              "      this.keyboard_manager.register_events(toinsert);\n",
              "      // Render to node\n",
              "      var props = {data: data, metadata: metadata[EXEC_MIME_TYPE]};\n",
              "      render(props, toinsert[toinsert.length - 1]);\n",
              "      element.append(toinsert);\n",
              "      return toinsert\n",
              "    }\n",
              "\n",
              "    /* Handle when an output is cleared or removed */\n",
              "    events.on('clear_output.CodeCell', handleClearOutput);\n",
              "    events.on('delete.Cell', handleClearOutput);\n",
              "\n",
              "    /* Handle when a new output is added */\n",
              "    events.on('output_added.OutputArea', handleAddOutput);\n",
              "\n",
              "    /**\n",
              "     * Register the mime type and append_mime function with output_area\n",
              "     */\n",
              "    OutputArea.prototype.register_mime_type(EXEC_MIME_TYPE, append_mime, {\n",
              "      /* Is output safe? */\n",
              "      safe: true,\n",
              "      /* Index of renderer in `output_area.display_order` */\n",
              "      index: 0\n",
              "    });\n",
              "  }\n",
              "\n",
              "  // register the mime type if in Jupyter Notebook environment and previously unregistered\n",
              "  if (root.Jupyter !== undefined) {\n",
              "    var events = require('base/js/events');\n",
              "    var OutputArea = require('notebook/js/outputarea').OutputArea;\n",
              "\n",
              "    if (OutputArea.prototype.mime_types().indexOf(EXEC_MIME_TYPE) == -1) {\n",
              "      register_renderer(events, OutputArea);\n",
              "    }\n",
              "  }\n",
              "\n",
              "  \n",
              "  if (typeof (root._bokeh_timeout) === \"undefined\" || force === true) {\n",
              "    root._bokeh_timeout = Date.now() + 5000;\n",
              "    root._bokeh_failed_load = false;\n",
              "  }\n",
              "\n",
              "  var NB_LOAD_WARNING = {'data': {'text/html':\n",
              "     \"<div style='background-color: #fdd'>\\n\"+\n",
              "     \"<p>\\n\"+\n",
              "     \"BokehJS does not appear to have successfully loaded. If loading BokehJS from CDN, this \\n\"+\n",
              "     \"may be due to a slow or bad network connection. Possible fixes:\\n\"+\n",
              "     \"</p>\\n\"+\n",
              "     \"<ul>\\n\"+\n",
              "     \"<li>re-rerun `output_notebook()` to attempt to load from CDN again, or</li>\\n\"+\n",
              "     \"<li>use INLINE resources instead, as so:</li>\\n\"+\n",
              "     \"</ul>\\n\"+\n",
              "     \"<code>\\n\"+\n",
              "     \"from bokeh.resources import INLINE\\n\"+\n",
              "     \"output_notebook(resources=INLINE)\\n\"+\n",
              "     \"</code>\\n\"+\n",
              "     \"</div>\"}};\n",
              "\n",
              "  function display_loaded() {\n",
              "    var el = document.getElementById(null);\n",
              "    if (el != null) {\n",
              "      el.textContent = \"BokehJS is loading...\";\n",
              "    }\n",
              "    if (root.Bokeh !== undefined) {\n",
              "      if (el != null) {\n",
              "        el.textContent = \"BokehJS \" + root.Bokeh.version + \" successfully loaded.\";\n",
              "      }\n",
              "    } else if (Date.now() < root._bokeh_timeout) {\n",
              "      setTimeout(display_loaded, 100)\n",
              "    }\n",
              "  }\n",
              "\n",
              "\n",
              "  function run_callbacks() {\n",
              "    try {\n",
              "      root._bokeh_onload_callbacks.forEach(function(callback) {\n",
              "        if (callback != null)\n",
              "          callback();\n",
              "      });\n",
              "    } finally {\n",
              "      delete root._bokeh_onload_callbacks\n",
              "    }\n",
              "    console.debug(\"Bokeh: all callbacks have finished\");\n",
              "  }\n",
              "\n",
              "  function load_libs(css_urls, js_urls, callback) {\n",
              "    if (css_urls == null) css_urls = [];\n",
              "    if (js_urls == null) js_urls = [];\n",
              "\n",
              "    root._bokeh_onload_callbacks.push(callback);\n",
              "    if (root._bokeh_is_loading > 0) {\n",
              "      console.debug(\"Bokeh: BokehJS is being loaded, scheduling callback at\", now());\n",
              "      return null;\n",
              "    }\n",
              "    if (js_urls == null || js_urls.length === 0) {\n",
              "      run_callbacks();\n",
              "      return null;\n",
              "    }\n",
              "    console.debug(\"Bokeh: BokehJS not loaded, scheduling load and callback at\", now());\n",
              "    root._bokeh_is_loading = css_urls.length + js_urls.length;\n",
              "\n",
              "    function on_load() {\n",
              "      root._bokeh_is_loading--;\n",
              "      if (root._bokeh_is_loading === 0) {\n",
              "        console.debug(\"Bokeh: all BokehJS libraries/stylesheets loaded\");\n",
              "        run_callbacks()\n",
              "      }\n",
              "    }\n",
              "\n",
              "    function on_error(url) {\n",
              "      console.error(\"failed to load \" + url);\n",
              "    }\n",
              "\n",
              "    for (let i = 0; i < css_urls.length; i++) {\n",
              "      const url = css_urls[i];\n",
              "      const element = document.createElement(\"link\");\n",
              "      element.onload = on_load;\n",
              "      element.onerror = on_error.bind(null, url);\n",
              "      element.rel = \"stylesheet\";\n",
              "      element.type = \"text/css\";\n",
              "      element.href = url;\n",
              "      console.debug(\"Bokeh: injecting link tag for BokehJS stylesheet: \", url);\n",
              "      document.body.appendChild(element);\n",
              "    }\n",
              "\n",
              "    const hashes = {\"https://cdn.bokeh.org/bokeh/release/bokeh-2.3.3.min.js\": \"dM3QQsP+wXdHg42wTqW85BjZQdLNNIXqlPw/BgKoExPmTG7ZLML4EGqLMfqHT6ON\", \"https://cdn.bokeh.org/bokeh/release/bokeh-tables-2.3.3.min.js\": \"8x57I4YuIfu8XyZfFo0XVr2WAT8EK4rh/uDe3wF7YuW2FNUSNEpJbsPaB1nJ2fz2\", \"https://cdn.bokeh.org/bokeh/release/bokeh-widgets-2.3.3.min.js\": \"3QTqdz9LyAm2i0sG5XTePsHec3UHWwVsrOL68SYRoAXsafvfAyqtQ+h440+qIBhS\"};\n",
              "\n",
              "    for (let i = 0; i < js_urls.length; i++) {\n",
              "      const url = js_urls[i];\n",
              "      const element = document.createElement('script');\n",
              "      element.onload = on_load;\n",
              "      element.onerror = on_error.bind(null, url);\n",
              "      element.async = false;\n",
              "      element.src = url;\n",
              "      if (url in hashes) {\n",
              "        element.crossOrigin = \"anonymous\";\n",
              "        element.integrity = \"sha384-\" + hashes[url];\n",
              "      }\n",
              "      console.debug(\"Bokeh: injecting script tag for BokehJS library: \", url);\n",
              "      document.head.appendChild(element);\n",
              "    }\n",
              "  };\n",
              "\n",
              "  function inject_raw_css(css) {\n",
              "    const element = document.createElement(\"style\");\n",
              "    element.appendChild(document.createTextNode(css));\n",
              "    document.body.appendChild(element);\n",
              "  }\n",
              "\n",
              "  \n",
              "  var js_urls = [\"https://cdn.bokeh.org/bokeh/release/bokeh-2.3.3.min.js\", \"https://cdn.bokeh.org/bokeh/release/bokeh-widgets-2.3.3.min.js\", \"https://cdn.bokeh.org/bokeh/release/bokeh-tables-2.3.3.min.js\"];\n",
              "  var css_urls = [];\n",
              "  \n",
              "\n",
              "  var inline_js = [\n",
              "    function(Bokeh) {\n",
              "      Bokeh.set_log_level(\"info\");\n",
              "    },\n",
              "    function(Bokeh) {\n",
              "    \n",
              "    \n",
              "    }\n",
              "  ];\n",
              "\n",
              "  function run_inline_js() {\n",
              "    \n",
              "    if (root.Bokeh !== undefined || force === true) {\n",
              "      \n",
              "    for (var i = 0; i < inline_js.length; i++) {\n",
              "      inline_js[i].call(root, root.Bokeh);\n",
              "    }\n",
              "    } else if (Date.now() < root._bokeh_timeout) {\n",
              "      setTimeout(run_inline_js, 100);\n",
              "    } else if (!root._bokeh_failed_load) {\n",
              "      console.log(\"Bokeh: BokehJS failed to load within specified timeout.\");\n",
              "      root._bokeh_failed_load = true;\n",
              "    } else if (force !== true) {\n",
              "      var cell = $(document.getElementById(null)).parents('.cell').data().cell;\n",
              "      cell.output_area.append_execute_result(NB_LOAD_WARNING)\n",
              "    }\n",
              "\n",
              "  }\n",
              "\n",
              "  if (root._bokeh_is_loading === 0) {\n",
              "    console.debug(\"Bokeh: BokehJS loaded, going straight to plotting\");\n",
              "    run_inline_js();\n",
              "  } else {\n",
              "    load_libs(css_urls, js_urls, function() {\n",
              "      console.debug(\"Bokeh: BokehJS plotting callback run at\", now());\n",
              "      run_inline_js();\n",
              "    });\n",
              "  }\n",
              "}(window));"
            ],
            "application/vnd.bokehjs_load.v0+json": "\n(function(root) {\n  function now() {\n    return new Date();\n  }\n\n  var force = true;\n\n  if (typeof root._bokeh_onload_callbacks === \"undefined\" || force === true) {\n    root._bokeh_onload_callbacks = [];\n    root._bokeh_is_loading = undefined;\n  }\n\n  \n\n  \n  if (typeof (root._bokeh_timeout) === \"undefined\" || force === true) {\n    root._bokeh_timeout = Date.now() + 5000;\n    root._bokeh_failed_load = false;\n  }\n\n  var NB_LOAD_WARNING = {'data': {'text/html':\n     \"<div style='background-color: #fdd'>\\n\"+\n     \"<p>\\n\"+\n     \"BokehJS does not appear to have successfully loaded. If loading BokehJS from CDN, this \\n\"+\n     \"may be due to a slow or bad network connection. Possible fixes:\\n\"+\n     \"</p>\\n\"+\n     \"<ul>\\n\"+\n     \"<li>re-rerun `output_notebook()` to attempt to load from CDN again, or</li>\\n\"+\n     \"<li>use INLINE resources instead, as so:</li>\\n\"+\n     \"</ul>\\n\"+\n     \"<code>\\n\"+\n     \"from bokeh.resources import INLINE\\n\"+\n     \"output_notebook(resources=INLINE)\\n\"+\n     \"</code>\\n\"+\n     \"</div>\"}};\n\n  function display_loaded() {\n    var el = document.getElementById(null);\n    if (el != null) {\n      el.textContent = \"BokehJS is loading...\";\n    }\n    if (root.Bokeh !== undefined) {\n      if (el != null) {\n        el.textContent = \"BokehJS \" + root.Bokeh.version + \" successfully loaded.\";\n      }\n    } else if (Date.now() < root._bokeh_timeout) {\n      setTimeout(display_loaded, 100)\n    }\n  }\n\n\n  function run_callbacks() {\n    try {\n      root._bokeh_onload_callbacks.forEach(function(callback) {\n        if (callback != null)\n          callback();\n      });\n    } finally {\n      delete root._bokeh_onload_callbacks\n    }\n    console.debug(\"Bokeh: all callbacks have finished\");\n  }\n\n  function load_libs(css_urls, js_urls, callback) {\n    if (css_urls == null) css_urls = [];\n    if (js_urls == null) js_urls = [];\n\n    root._bokeh_onload_callbacks.push(callback);\n    if (root._bokeh_is_loading > 0) {\n      console.debug(\"Bokeh: BokehJS is being loaded, scheduling callback at\", now());\n      return null;\n    }\n    if (js_urls == null || js_urls.length === 0) {\n      run_callbacks();\n      return null;\n    }\n    console.debug(\"Bokeh: BokehJS not loaded, scheduling load and callback at\", now());\n    root._bokeh_is_loading = css_urls.length + js_urls.length;\n\n    function on_load() {\n      root._bokeh_is_loading--;\n      if (root._bokeh_is_loading === 0) {\n        console.debug(\"Bokeh: all BokehJS libraries/stylesheets loaded\");\n        run_callbacks()\n      }\n    }\n\n    function on_error(url) {\n      console.error(\"failed to load \" + url);\n    }\n\n    for (let i = 0; i < css_urls.length; i++) {\n      const url = css_urls[i];\n      const element = document.createElement(\"link\");\n      element.onload = on_load;\n      element.onerror = on_error.bind(null, url);\n      element.rel = \"stylesheet\";\n      element.type = \"text/css\";\n      element.href = url;\n      console.debug(\"Bokeh: injecting link tag for BokehJS stylesheet: \", url);\n      document.body.appendChild(element);\n    }\n\n    const hashes = {\"https://cdn.bokeh.org/bokeh/release/bokeh-2.3.3.min.js\": \"dM3QQsP+wXdHg42wTqW85BjZQdLNNIXqlPw/BgKoExPmTG7ZLML4EGqLMfqHT6ON\", \"https://cdn.bokeh.org/bokeh/release/bokeh-tables-2.3.3.min.js\": \"8x57I4YuIfu8XyZfFo0XVr2WAT8EK4rh/uDe3wF7YuW2FNUSNEpJbsPaB1nJ2fz2\", \"https://cdn.bokeh.org/bokeh/release/bokeh-widgets-2.3.3.min.js\": \"3QTqdz9LyAm2i0sG5XTePsHec3UHWwVsrOL68SYRoAXsafvfAyqtQ+h440+qIBhS\"};\n\n    for (let i = 0; i < js_urls.length; i++) {\n      const url = js_urls[i];\n      const element = document.createElement('script');\n      element.onload = on_load;\n      element.onerror = on_error.bind(null, url);\n      element.async = false;\n      element.src = url;\n      if (url in hashes) {\n        element.crossOrigin = \"anonymous\";\n        element.integrity = \"sha384-\" + hashes[url];\n      }\n      console.debug(\"Bokeh: injecting script tag for BokehJS library: \", url);\n      document.head.appendChild(element);\n    }\n  };\n\n  function inject_raw_css(css) {\n    const element = document.createElement(\"style\");\n    element.appendChild(document.createTextNode(css));\n    document.body.appendChild(element);\n  }\n\n  \n  var js_urls = [\"https://cdn.bokeh.org/bokeh/release/bokeh-2.3.3.min.js\", \"https://cdn.bokeh.org/bokeh/release/bokeh-widgets-2.3.3.min.js\", \"https://cdn.bokeh.org/bokeh/release/bokeh-tables-2.3.3.min.js\"];\n  var css_urls = [];\n  \n\n  var inline_js = [\n    function(Bokeh) {\n      Bokeh.set_log_level(\"info\");\n    },\n    function(Bokeh) {\n    \n    \n    }\n  ];\n\n  function run_inline_js() {\n    \n    if (root.Bokeh !== undefined || force === true) {\n      \n    for (var i = 0; i < inline_js.length; i++) {\n      inline_js[i].call(root, root.Bokeh);\n    }\n    } else if (Date.now() < root._bokeh_timeout) {\n      setTimeout(run_inline_js, 100);\n    } else if (!root._bokeh_failed_load) {\n      console.log(\"Bokeh: BokehJS failed to load within specified timeout.\");\n      root._bokeh_failed_load = true;\n    } else if (force !== true) {\n      var cell = $(document.getElementById(null)).parents('.cell').data().cell;\n      cell.output_area.append_execute_result(NB_LOAD_WARNING)\n    }\n\n  }\n\n  if (root._bokeh_is_loading === 0) {\n    console.debug(\"Bokeh: BokehJS loaded, going straight to plotting\");\n    run_inline_js();\n  } else {\n    load_libs(css_urls, js_urls, function() {\n      console.debug(\"Bokeh: BokehJS plotting callback run at\", now());\n      run_inline_js();\n    });\n  }\n}(window));"
          },
          "metadata": {}
        },
        {
          "output_type": "display_data",
          "data": {
            "text/html": [
              "\n",
              "\n",
              "\n",
              "\n",
              "\n",
              "\n",
              "  <div class=\"bk-root\" id=\"da309bfa-d5f2-4769-bb23-1c9ffad3c0e3\" data-root-id=\"1092\"></div>\n"
            ]
          },
          "metadata": {}
        },
        {
          "output_type": "display_data",
          "data": {
            "application/javascript": [
              "(function(root) {\n",
              "  function embed_document(root) {\n",
              "    \n",
              "  var docs_json = {\"6bc500d0-1f2f-46f4-9340-3c7e56a2d480\":{\"defs\":[],\"roots\":{\"references\":[{\"attributes\":{\"below\":[{\"id\":\"1103\"}],\"center\":[{\"id\":\"1106\"},{\"id\":\"1110\"},{\"id\":\"1126\"}],\"left\":[{\"id\":\"1107\"}],\"renderers\":[{\"id\":\"1124\"}],\"title\":{\"id\":\"1093\"},\"toolbar\":{\"id\":\"1115\"},\"x_range\":{\"id\":\"1095\"},\"x_scale\":{\"id\":\"1099\"},\"y_range\":{\"id\":\"1097\"},\"y_scale\":{\"id\":\"1101\"}},\"id\":\"1092\",\"subtype\":\"Figure\",\"type\":\"Plot\"},{\"attributes\":{},\"id\":\"1099\",\"type\":\"LinearScale\"},{\"attributes\":{},\"id\":\"1111\",\"type\":\"PanTool\"},{\"attributes\":{\"axis\":{\"id\":\"1107\"},\"dimension\":1,\"ticker\":null},\"id\":\"1110\",\"type\":\"Grid\"},{\"attributes\":{},\"id\":\"1112\",\"type\":\"WheelZoomTool\"},{\"attributes\":{\"fill_color\":{\"value\":\"#1f77b4\"},\"line_color\":{\"value\":\"#1f77b4\"},\"size\":{\"value\":5},\"x\":{\"field\":\"x1\"},\"y\":{\"field\":\"x2\"}},\"id\":\"1122\",\"type\":\"Scatter\"},{\"attributes\":{},\"id\":\"1097\",\"type\":\"DataRange1d\"},{\"attributes\":{\"source\":{\"id\":\"1120\"},\"text\":{\"field\":\"names\"},\"text_align\":{\"value\":\"center\"},\"text_color\":{\"value\":\"#555555\"},\"text_font_size\":{\"value\":\"6pt\"},\"x\":{\"field\":\"x1\"},\"y\":{\"field\":\"x2\"},\"y_offset\":{\"value\":6}},\"id\":\"1126\",\"type\":\"LabelSet\"},{\"attributes\":{},\"id\":\"1138\",\"type\":\"BasicTickFormatter\"},{\"attributes\":{},\"id\":\"1141\",\"type\":\"BasicTickFormatter\"},{\"attributes\":{\"fill_alpha\":{\"value\":0.1},\"fill_color\":{\"value\":\"#1f77b4\"},\"line_alpha\":{\"value\":0.1},\"line_color\":{\"value\":\"#1f77b4\"},\"size\":{\"value\":5},\"x\":{\"field\":\"x1\"},\"y\":{\"field\":\"x2\"}},\"id\":\"1123\",\"type\":\"Scatter\"},{\"attributes\":{\"text\":\"TSNE representation of FastText vectors (top 3k words)\"},\"id\":\"1093\",\"type\":\"Title\"},{\"attributes\":{},\"id\":\"1140\",\"type\":\"AllLabels\"},{\"attributes\":{},\"id\":\"1114\",\"type\":\"SaveTool\"},{\"attributes\":{\"active_multi\":null,\"tools\":[{\"id\":\"1111\"},{\"id\":\"1112\"},{\"id\":\"1113\"},{\"id\":\"1114\"}]},\"id\":\"1115\",\"type\":\"Toolbar\"},{\"attributes\":{\"source\":{\"id\":\"1120\"}},\"id\":\"1125\",\"type\":\"CDSView\"},{\"attributes\":{},\"id\":\"1144\",\"type\":\"UnionRenderers\"},{\"attributes\":{},\"id\":\"1143\",\"type\":\"AllLabels\"},{\"attributes\":{},\"id\":\"1101\",\"type\":\"LinearScale\"},{\"attributes\":{\"data_source\":{\"id\":\"1120\"},\"glyph\":{\"id\":\"1122\"},\"hover_glyph\":null,\"muted_glyph\":null,\"nonselection_glyph\":{\"id\":\"1123\"},\"view\":{\"id\":\"1125\"}},\"id\":\"1124\",\"type\":\"GlyphRenderer\"},{\"attributes\":{},\"id\":\"1145\",\"type\":\"Selection\"},{\"attributes\":{\"formatter\":{\"id\":\"1138\"},\"major_label_policy\":{\"id\":\"1140\"},\"ticker\":{\"id\":\"1104\"}},\"id\":\"1103\",\"type\":\"LinearAxis\"},{\"attributes\":{\"axis\":{\"id\":\"1103\"},\"ticker\":null},\"id\":\"1106\",\"type\":\"Grid\"},{\"attributes\":{\"formatter\":{\"id\":\"1141\"},\"major_label_policy\":{\"id\":\"1143\"},\"ticker\":{\"id\":\"1108\"}},\"id\":\"1107\",\"type\":\"LinearAxis\"},{\"attributes\":{\"data\":{\"names\":[\"</s>\",\"\\u0438\",\"\\u043d\\u0435\",\"\\u0432\",\"\\u043d\\u0430\",\"\\u0430\",\"\\u0441\",\"\\u0447\\u0442\\u043e\",\"\\u044d\\u0442\\u043e\",\"\\u044f\",\"\\u043a\\u0430\\u043a\",\"\\u0443\",\"\\u0437\\u0430\",\"\\u043f\\u043e\",\"\\u0432\\u0441\\u0435\",\"\\u0442\\u0430\\u043a\",\",\",\"\\u0442\\u043e\",\"\\u0442\\u044b\",\"\\u0431\\u044b\",\"\\u0432\\u044b\",\"-\",\"\\u043e\",\"\\u0442\\u043e\\u043b\\u044c\\u043a\\u043e\",\"\\u043e\\u0442\",\"\\u043e\\u043d\",\"\\u043d\\u043e\",\"\\u043a\",\"\\u0435\\u0441\\u043b\\u0438\",\"\\u0436\\u0435\",\"\\u043d\\u0430\\u0434\\u043e\",\"\\u0432\\u043e\\u0442\",\"\\u043e\\u0447\\u0435\\u043d\\u044c\",\"\\u0434\\u0430\",\"\\u0434\\u043b\\u044f\",\"\\u043a\\u0442\\u043e\",\".\",\"\\u0443\\u0436\\u0435\",\"\\u0435\\u0441\\u0442\\u044c\",\"\\u043e\\u043d\\u0438\",\"\\u0438\\u0437\",\"\\u0435\\u0433\\u043e\",\"\\u043c\\u043d\\u0435\",\"\\u0438\\u043b\\u0438\",\"\\u043c\\u044b\",\"\\u043c\\u043e\\u0436\\u043d\\u043e\",\"\\u0432\\u0430\\u043c\",\"\\u0438\\u0445\",\"\\u0431\\u0443\\u0434\\u0435\\u0442\",\"\\u043c\\u0435\\u043d\\u044f\",\"\\u0434\\u043e\",\"\\u043d\\u0430\\u0441\",\"\\u0433\\u0434\\u0435\",\"\\u0431\\u044b\\u043b\\u043e\",\"\\u043f\\u0440\\u043e\\u0441\\u0442\\u043e\",\"\\u043a\\u043e\\u0433\\u0434\\u0430\",\"\\u0435\\u0449\\u0451\",\"\\u0442\\u043e\\u0436\\u0435\",\"\\u043d\\u0435\\u0442\",\"!\",\"\\u0432\\u0430\\u0441\",\"\\u0442\\u0430\\u043c\",\"\\u043d\\u0443\",\"\\u0432\\u0441\\u0451\",\"\\u0442\\u0435\\u0431\\u044f\",\"\\u0431\\u0435\\u0437\",\"\\u043d\\u0438\",\"\\u043e\\u043d\\u0430\",\"\\u0432\\u0441\\u0435\\u0445\",\"\\u0442\\u0435\\u0431\\u0435\",\"\\u043c\\u043e\\u0436\\u0435\\u0442\",\"\\u0441\\u043a\\u043e\\u043b\\u044c\\u043a\\u043e\",\"\\u0432\\u0441\\u0435\\u043c\",\"\\u0435\\u0449\\u0435\",\"\\u0434\\u0430\\u0436\\u0435\",\"\\u0441\\u0435\\u0439\\u0447\\u0430\\u0441\",\"\\u0431\",\"\\u0441\\u043f\\u0430\\u0441\\u0438\\u0431\\u043e\",\"\\u0447\\u0442\\u043e\\u0431\\u044b\",\"\\u0442\\u0430\\u043a\\u043e\\u0439\",\"\\u043f\\u0443\\u0441\\u0442\\u044c\",\"\\u0447\\u0435\\u043c\",\"\\u0442\\u0430\\u043a\\u0438\\u0445\",\"\\u0442\\u0430\\u043a\\u0438\\u0435\",\"\\u043b\\u0435\\u0442\",\"\\u0438\\u043c\",\"\\u043a\\u0430\\u043a\\u043e\\u0439\",\"\\u043b\\u044e\\u0434\\u0438\",\"\\u043d\\u0443\\u0436\\u043d\\u043e\",\"?\",\"\\u0437\\u0434\\u043e\\u0440\\u043e\\u0432\\u044c\\u044f\",\"\\u0432\\u043e\",\"\\u0431\\u044b\\u043b\",\"\\u044d\\u0442\\u043e\\u0442\",\"\\u044d\\u0442\\u043e\\u0433\\u043e\",\"\\u0435\\u043c\\u0443\",\"\\u0441\\u043e\",\"\\u0432\\u0441\\u0435\\u0433\\u0434\\u0430\",\"\\u0431\\u043e\\u043b\\u044c\\u0448\\u0435\",\"\\u0441\\u0435\\u0431\\u044f\",\"\\u043f\\u043e\\u0442\\u043e\\u043c\",\"\\u0432\\u0440\\u0435\\u043c\\u044f\",\"\\u043f\\u0440\\u0438\",\"\\u0440\\u0430\\u0437\",\"\\u043f\\u0440\\u043e\",\"\\u043f\\u043e\\u0434\",\"\\u043f\\u043e\\u0447\\u0435\\u043c\\u0443\",\"\\u044d\\u0442\\u0438\",\"\\u043d\\u0430\\u043c\",\"\\u0431\\u044b\\u0442\\u044c\",\"\\u0442\\u0443\\u0442\",\"\\u043a\\u0430\\u043a\\u0430\\u044f\",\"\\u043c\\u043d\\u043e\\u0433\\u043e\",\"\\u043d\\u0438\\u0447\\u0435\\u0433\\u043e\",\"\\u043d\\u0438\\u0445\",\"\\u0431\\u044b\\u043b\\u0438\",\"\\u0431\\u044b\\u043b\\u0430\",\"\\u0432\\u043e\\u043e\\u0431\\u0449\\u0435\",\"\\u044d\\u0442\\u0443\",\"\\u043b\\u0443\\u0447\\u0448\\u0435\",\"\\u043f\\u043e\\u0441\\u043b\\u0435\",\"!!!\",\"\\u0434\\u0435\\u043d\\u044c\",\"\\u0431\\u043e\\u0433\",\"\\u043b\\u044e\\u0434\\u0435\\u0439\",\"\\u0442\\u0435\\u043f\\u0435\\u0440\\u044c\",\"\\u0447\\u0442\\u043e\\u0431\",\"\\u043e\\u043e\",\"\\u043e\\u0434\\u0438\\u043d\",\"\\u0447\\u0435\\u0433\\u043e\",\"\\u0441\\u0435\\u0431\\u0435\",\"\\u0442\\u0430\\u043a\\u043e\\u0435\",\"\\u044d\\u0442\\u0438\\u0445\",\"\\u0431\\u0443\\u0434\\u0443\\u0442\",\"\\u044d\\u0442\\u043e\\u043c\",\"\\u0437\",\"\\u044d\\u0442\\u043e\\u0439\",\"\\u0435\\u0451\",\"\\u0444\\u043e\\u0442\\u043e\",\"\\u0436\\u0438\\u0437\\u043d\\u044c\",\"\\u0442\\u043e\\u0433\\u0434\\u0430\",\"\\u0445\\u043e\\u0440\\u043e\\u0448\\u043e\",\"\\u043a\\u0430\\u043a\\u0438\\u0435\",\"\\u0440\\u043e\\u0441\\u0441\\u0438\\u0438\",\"\\u043a\\u043e\\u0433\\u043e\",\"\\u0435\\u0435\",\"2\",\"\\u0445\\u043e\\u0442\\u044c\",\"\\u0447\",\"\\u0442\\u0430\\u043a\\u0430\\u044f\",\"\\u043f\\u043e\\u043a\\u0430\",\":d\",\"\\u043c\\u043e\\u0439\",\"\\u0437\\u0430\\u0447\\u0435\\u043c\",\"\\u0436\\u0438\\u0437\\u043d\\u0438\",\"\\u043a\\u0443\\u0434\\u0430\",\"\\u0434\\u0435\\u043d\\u044c\\u0433\\u0438\",\"\\u0434\\u0435\\u0442\\u0435\\u0439\",\"\\u043d\\u0430\\u0440\\u043e\\u0434\",\"\\u0441\\u0430\\u043c\",\"\\u043a\\u043e\\u0442\\u043e\\u0440\\u044b\\u0435\",\"\\u0435\\u0439\",\"\\u0447\\u0435\\u0440\\u0435\\u0437\",\"\\u0447\\u0435\\u043b\\u043e\\u0432\\u0435\\u043a\",\"\\u0432\\u0435\\u0434\\u044c\",\"\\u043d\\u0435\\u0433\\u043e\",\"\\u0432\\u0441\\u0435\\u0433\\u043e\",\"\\u0441\\u0435\\u0433\\u043e\\u0434\\u043d\\u044f\",\"\\u0441\\u0432\\u043e\\u044e\",\"\\u0434\\u0430\\u0439\",\"\\u0434\\u043e\\u0431\\u0440\\u044b\\u0439\",\"\\u0441\\u0440\\u0430\\u0437\\u0443\",\"\\u043e\\u0431\",\"\\u043a\\u0430\\u0436\\u0434\\u044b\\u0439\",\"\\u043b\\u0438\",\"\\u044d\\u0442\\u0430\",\"...\",\"\\u0445\\u043e\\u0447\\u0443\",\"\\u043a\\u043e\\u043c\\u0443\",\"\\u0437\\u0434\\u0435\\u0441\\u044c\",\"\\u043d\\u0438\\u043a\\u0442\\u043e\",\"\\u0432\\u0441\\u044e\",\"\\u0441\\u0447\\u0430\\u0441\\u0442\\u044c\\u044f\",\"\\u0441\\u0432\\u043e\\u0438\",\"\\u0441\\u0432\\u043e\\u0438\\u0445\",\"\\u043e\\u043f\\u0435\\u0440\\u0430\\u0446\\u0438\\u0438\",\"\\u0434\\u0430\\u0432\\u043d\\u043e\",\"\\u0441\\u0430\\u043c\\u0438\",\"\\u0441\\u0432\\u043e\\u0435\\u0439\",\"3\",\"\\u0436\\u0438\\u0442\\u044c\",\"\\ud83d\\udc4d\",\"\\u0434\\u0435\\u0442\\u0438\",\"\\u0441\\u0442\\u043e\\u0438\\u0442\",\"\\u0441\\u0432\\u043e\\u0439\",\"\\u0433\\u043e\\u0434\\u0430\",\"\\u0442\\u043e\\u0447\\u043d\\u043e\",\"\\u043d\\u0430\\u0448\\u0438\",\"\\u043a\\u043e\\u043d\\u0435\\u0447\\u043d\\u043e\",\"1\",\"\\u043d\\u043e\\u043c\\u0435\\u0440\",\"\\u0442\\u0430\\u043a\\u0443\\u044e\",\"\\u0441\\u043e\\u0432\\u0441\\u0435\\u043c\",\"\\u0434\\u0430,\",\"\\u044d\\u0442\\u0438\\u043c\",\"\\u043f\\u043e\\u0442\\u043e\\u043c\\u0443\",\"\\u043c\\u043e\\u0433\\u0443\",\"\\u043c\\u043e\\u044f\",\"\\u0445\\u0443\\u0439\",\"\\u0441\\u0443\\u043a\\u0430\",\"\\u043f\\u043e\\u0436\\u0430\\u043b\\u0443\\u0439\\u0441\\u0442\\u0430\",\"\\u043f\\u0440\\u0438\\u0432\\u0435\\u0442\",\"\\u0442\\u0435\\u043c\",\"10\",\"\\u043f\\u0443\\u0442\\u0438\\u043d\",\"\\u0440\\u0443\\u043a\\u0438\",\"\\u0442\\u043e\\u0433\\u043e\",\"\\u043d\\u0438\\u043a\\u043e\\u0433\\u0434\\u0430\",\"\\u0442\\u0430\\u043a\\u043e\\u0433\\u043e\",\"\\u043c\\u043e\\u0438\",\"\\u0434\\u0432\\u0430\",\"\\u0434\\u043d\\u0435\\u043c\",\"5\",\"\\u0446\\u0435\\u043d\\u0430\",\"\\u0441\\u0430\\u043c\\u0430\",\"\\u0443\\u0436\",\"\\u0440\\u043e\\u0436\\u0434\\u0435\\u043d\\u0438\\u044f\",\"\\ud83d\\ude02\",\"\\u0440\\u0443\\u0431\",\"\\u043f\\u0440\\u0430\\u0432\\u0438\\u043b\\u044c\\u043d\\u043e\",\"\\u0434\\u043d\\u0451\\u043c\",\"\\u043c\\u043e\\u043b\\u043e\\u0434\\u0435\\u0446\",\"\\u0437\\u043d\\u0430\\u0447\\u0438\\u0442\",\"\\u0434\\u0435\\u043b\\u0430\\u0442\\u044c\",\"\\u0442\\u0435\",\"\\u0434\\u043e\\u043c\\u0430\",\"\\u043e\\u043f\\u044f\\u0442\\u044c\",\"\\u0432\\u0435\\u0441\\u044c\",\"\\u043a\\u043b\\u0430\\u0441\\u0441\",\"\\u0442\\u0432\\u0430\\u0440\\u044c\",\"\\u043a\\u043e\\u0442\\u043e\\u0440\\u044b\\u0439\",\"\\u0445\\u043e\\u0447\\u0435\\u0442\\u0441\\u044f\",\":(\",\"\\u043d\\u0430\\u0432\\u0435\\u0440\\u043d\\u043e\\u0435\",\"\\u0445\\u043e\\u0442\\u044f\",\"\\u0431\\u043e\\u043b\\u0435\\u0435\",\"\\u043c\\u0435\\u0441\\u0442\\u043e\",\"\\u0441\\u0432\\u043e\\u0438\\u043c\",\"\\u0442\\u043e\\u0442\",\"\\u0432\\u043c\\u0435\\u0441\\u0442\\u0435\",\"\\u043c\\u043e\\u0433\\u0443\\u0442\",\"\\u043d\\u0430\\u0448\",\"\\u0432\\u0441\\u044f\",\"\\u043e\\u0434\\u043d\\u0430\",\"\\u0442\\u0430\\u043a\\u0438\\u043c\",\"\\u043a\\u0430\\u0440\\u0442\\u044b\",\"\\u0441\\u0442\\u043e\\u043b\\u044c\\u043a\\u043e\",\"\\u0433\\u043e\\u0434\",\"\\u0440\\u0430\\u043d\\u044c\\u0448\\u0435\",\"\\u043d\\u0435\\u0442.\",\"\\u0441\\u0430\\u043c\\u043e\\u0435\",\"\\u043f\\u0440\\u043e\\u0442\\u0438\\u0432\",\"\\u0437\\u0434\\u0440\\u0430\\u0432\\u0441\\u0442\\u0432\\u0443\\u0439\\u0442\\u0435\",\"\\u0441\\u043a\\u043e\\u0440\\u043e\",\"\\u043d\\u0443\\u0436\\u043d\\u0430\",\"\\u0437\\u043d\\u0430\\u044e\",\"\\u0432\\u0430\\u043c\\u0438\",\"\\u0433\\u043b\\u0430\\u0432\\u043d\\u043e\\u0435\",\"\\u0438\\u043c\\u0435\\u043d\\u043d\\u043e\",\"\\u0442\\u0440\\u0438\",\"\\u043f\\u0438\\u0434\\u043e\\u0440\",\"\\u043d\\u0430\\u0448\\u0435\\u0439\",\"\\u043b\\u044e\\u0431\\u043b\\u044e\",\"\\u0441\\u0434\\u0435\\u043b\\u0430\\u0442\\u044c\",\"4\",\"\\u043d\\u0435\\u0442,\",\":-d\",\"\\u043f\\u0435\\u0440\\u0435\\u0434\",\"\\u0441\\u0432\\u043e\\u0435\\u0433\\u043e\",\"\\u0440\\u043e\\u0441\\u0441\\u0438\\u044f\",\",\\u0430\",\"\\u0432\\u0430\\u0448\",\"\\u043c\\u0430\\u043b\\u043e\",\"\\u0434\\u0440\\u0443\\u0433\",\"\\u044d\\u0442\\u043e\\u043c\\u0443\",\"\\u0434\\u043e\\u043c\",\"\\u0431\\u0443\\u0434\\u0435\\u043c\",\"\\u043e\\u0434\\u043d\\u043e\",\"\\u043d\\u0430\\u0434\",\"\\u043c\\u0440\\u0430\\u0437\\u044c\",\"\\u043f\\u043e\\u044d\\u0442\\u043e\\u043c\\u0443\",\"\\u0441\\u043b\\u043e\\u0432\\u0430\",\"\\u0442\\u0443\\u0434\\u0430\",\"\\u0436\\u0435\\u043b\\u0430\\u044e\",\"\\u0443\\u0440\",\"\\u0434\\u0435\\u043d\\u0435\\u0433\",\"\\u0437\\u0434\\u0440\\u0430\\u0432\\u0441\\u0442\\u0432\\u0443\\u0439\\u0442\\u0435,\",\"\\u0445\\u043e\\u0440\\u043e\\u0448\\u0438\\u0439\",\"\\u0440\\u044f\\u0434\\u043e\\u043c\",\"\\u0447\\u0435\\u043b\\u043e\\u0432\\u0435\\u043a\\u0430\",\"\\u0433\\u043e\\u0434\\u0443\",\"\\u0442\\u043e\\u043c\",\"\\u043d\\u0435\\u043b\\u044c\\u0437\\u044f\",\"\\u043e\\u0434\\u043d\\u043e\\u0433\\u043e\",\"\\u0442\\u043e,\",\"\\u0434\\u043e\\u043b\\u0436\\u043d\\u044b\",\"\\u0432\\u0430\\u0448\\u0438\",\"\\u0432\\u0441\\u0435\\u0439\",\"\\u0440\\u0430\\u0441\\u0441\\u0442\\u0440\\u0435\\u043b\\u044f\\u0442\\u044c\",\"\\u043f\\u0430\\u043c\\u044f\\u0442\\u044c\",\"\\u0447\\u0442\\u043e-\\u0442\\u043e\",\"\\u0434\\u0443\\u043c\\u0430\\u044e\",\"\\u0431\\u0443\\u0434\\u0443\",\",\\u0447\\u0442\\u043e\",\"\\u0434\\u043e\\u0431\\u0440\\u043e\\u0435\",\"\\u043f\\u043e\\u0440\\u0430\",\"\\u0436\",\"\\u043c\\u0430\\u043c\\u0430\",\"\\u0438\\u043d\\u0442\\u0435\\u0440\\u0435\\u0441\\u043d\\u043e\",\"\\u0441\\u0441\\u0441\\u0440\",\"\\u0445\",\"\\u0441\\u0430\\u043c\\u044b\\u0439\",\"\\u0434\\u043e\\u043b\\u0436\\u0435\\u043d\",\"\\u0436\\u043e\\u043f\\u0443\",\"\\u043a\\u0440\\u043e\\u043c\\u0435\",\"(\",\"\\u0442\\u0435\\u0445\",\"\\u043f\\u0440\\u0430\\u0432\\u0434\\u0430\",\"\\u0441\\u0443\\u043f\\u0435\\u0440\",\"\\u043d\\u0430\\u0440\\u043e\\u0434\\u0430\",\"\\u043c\\u0438\\u0440\",\"\\u0434\\u0430\\u043b\\u044c\\u0448\\u0435\",\"\\u0440\\u0430\\u0432\\u043d\\u043e\",\"\\u043e\\u0432\",\"\\u0438\\u0434\\u0438\",\"\\u043f\\u043e\\u0440\",\"\\u0434\\u0440\\u0443\\u0437\\u044c\\u044f\",\"\\u043d\\u0430\\u0448\\u0438\\u0445\",\"\\u043f\\u043e\\u0437\\u0434\\u0440\\u0430\\u0432\\u043b\\u044f\\u044e\",\"\\u0434\\u043d\\u044f\",\"\\u043a\\u0430\\u043a\\u043e\\u0435\",\"20\",\"\\u0441\\u0442\\u0440\\u0430\\u043d\\u0435\",\"\\u0431\\u043e\\u043b\\u044c\\u0448\\u043e\\u0435\",\"\\u0441\\u0432\\u043e\\u0435\",\"\\u0441\\u0431\\u0435\\u0440\\u0431\\u0430\\u043d\\u043a\",\"\\u043c\\u043e\\u0435\\u0439\",\"\\u0442\\u0432\\u043e\\u0439\",\"\\u0434\\u0435\\u0439\\u0441\\u0442\\u0432\\u0438\\u0442\\u0435\\u043b\\u044c\\u043d\\u043e\",\"\\u0432\\u0438\\u0434\\u043d\\u043e\",\"\\u043b\\u0438\\u0448\\u044c\",\"\\u0443\\u0434\\u0430\\u0447\\u0438\",\"\\u043c\\u043d\\u043e\\u0433\\u0438\\u0435\",\"\\u0442\\u0432\\u0430\\u0440\\u0438\",\"\\u043d\\u0443\\u0436\\u0435\\u043d\",\"\\u0432\\u043b\\u0430\\u0441\\u0442\\u0438\",\"\\u043f\\u0435\\u0440\\u0432\\u044b\\u0439\",\"\\u0436\\u0430\\u043b\\u044c\",\"\\u0436\\u0438\\u0432\\u0443\\u0442\",\"\\u043e\\u043d\\u043e\",\"\\u0434\\u0440\\u0443\\u0433\\u0438\\u0445\",\"\\u0442\\u0430\\u043a\\u0436\\u0435\",\"\\u043b\\u044e\\u0431\\u043e\\u0432\\u044c\",\"\\u043d\\u0438\\u0431\\u0443\\u0434\\u044c\",\"\\u0445\\u043e\\u0442\\u044f\\u0442\",\"\\u043f\\u0443\\u0442\\u0438\\u043d\\u0430\",\"\\u0441\\u0432\\u043e\\u0438\\u043c\\u0438\",\"\\u043a\\u0440\\u0430\\u0441\\u0438\\u0432\\u043e\",\"\\u043b\\u044e\\u0434\\u044f\\u043c\",\"\\u043e\\u0442\\u043a\\u0443\\u0434\\u0430\",\"\\u0441\\u0438\\u0445\",\"\\u0437\\u043d\\u0430\\u0435\\u0442\",\"\\u0432\\u0435\\u0449\\u0438\",\"\\u043d\\u0438\\u043c\",\"\\u0445\\u0432\\u0430\\u0442\\u0430\\u0435\\u0442\",\"\\u043e\\u0434\\u043d\\u0438\",\"\\u043e\\u0434\\u043d\\u043e\\u0439\",\"\\u0430\\u0432\\u0433\\u0443\\u0441\\u0442\\u0430\",\"\\u043d\\u0443\\u0436\\u043d\\u044b\",\"\\u043a\\u0440\\u0430\\u0441\\u0438\\u0432\\u0430\\u044f\",\"\\u0431\\u043e\\u043b\\u044c\\u0448\\u043e\\u0439\",\"\\u0441\\u043b\\u043e\\u0432\",\"\\u043d\\u0430\\u0437\\u0430\\u0434\",\"\\u0440\\u043e\\u0442\",\"\\u043d\\u0435\\u0439\",\"\\u0441\\u043a\\u0430\\u0437\\u0430\\u0442\\u044c\",\"\\u0432\\u0435\\u0437\\u0434\\u0435\",\"\\u0434\\u0435\\u043b\\u043e\",\"\\u0432\\u043b\\u0430\\u0441\\u0442\\u044c\",\"\\u0441\\u0430\\u043c\\u043e\\u0433\\u043e\",\"\\u043f\\u043e\\u0447\\u0442\\u0438\",\"\\u0441\\u043b\\u0430\\u0432\\u0430\",\"\\u0437\\u0430\\u0432\\u0442\\u0440\\u0430\",\"\\u0432\\u043e\\u043f\\u0440\\u043e\\u0441\",\"\\u0434\\u0440\\u0443\\u0433\\u0438\\u0435\",\"\\u0441\\u043c\\u043e\\u0442\\u0440\\u0435\\u0442\\u044c\",\"\\u043c\\u043e\\u0436\\u0435\\u0442\\u0435\",\"\\u043d\\u0430\\u0448\\u0430\",\"\\u043a\\u0440\\u0430\\u0441\\u043e\\u0442\\u0430\",\"\\u0440\\u0430\\u0431\\u043e\\u0442\\u0430\\u0442\\u044c\",\"\\u043a\\u043e\\u043b\",\"\\u043d\\u0430\\u0439\\u0442\\u0438\",\"\\u043f\\u043e\\u043c\\u043e\\u0449\\u044c\",\"7\",\"\\u043d\\u0440\\u0430\\u0432\\u0438\\u0442\\u0441\\u044f\",\"\\u043c\\u043e\\u043b\\u043e\\u0434\\u0446\\u044b\",\"\\u043e\\u0441\\u043e\\u0431\\u0435\\u043d\\u043d\\u043e\",\"\\u043f\\u043e\\u043c\\u043d\\u044e\",\"\\u043f\\u0440\\u043e\\u0434\\u0430\\u043c\",\"\\ud83d\\udc4e\",\"\\u0440\\u0430\\u0431\\u043e\\u0442\\u044b\",\"\\u0441\\u0432\\u043e\\u0451\",\"\\u0434\\u043e\\u043b\\u0433\\u043e\",\"\\u0432\\u0447\\u0435\\u0440\\u0430\",\"\\u0442\\u0432\\u043e\\u0438\",\"\\u043a\\u0443\\u043f\\u0438\\u0442\\u044c\",\"\\u0434\\u0440\\u0443\\u0433\\u043e\\u0439\",\"\\u0432\\u0440\\u043e\\u0434\\u0435\",\"\\u043f\\u0438\\u0441\\u0430\\u0442\\u044c\",\"\\u0441\\u043a\\u0430\\u0436\\u0438\\u0442\\u0435\",\"\\u0447\\u0435\",\"\\u043c\\u0435\\u0441\\u0442\\u0435\",\"\\u0433\\u043e\\u0432\\u043e\\u0440\\u044f\\u0442\",\"15\",\"\\u0441\\u0442\\u0440\\u0430\\u043d\\u0443\",\"\\u0445\\u043e\\u0447\\u0435\\u0442\",\"6\",\"\\u0445\\u043e\\u0440\\u043e\\u0448\\u0435\\u0433\\u043e\",\"\\u0434\\u0435\\u043b\\u0430\",\"\\u0437\\u0434\\u0440\\u0430\\u0432\\u0441\\u0442\\u0432\\u0443\\u0439\\u0442\\u0435.\",\"\\u043f\\u043e\\u0434\\u0441\\u043a\\u0430\\u0436\\u0438\\u0442\\u0435\",\"\\u043f\\u043b\\u043e\\u0445\\u043e\",\"\\u043a\\u043e\\u0442\\u043e\\u0440\\u0430\\u044f\",\"\\u0431\\u043e\",\":)\",\"\\u043d\\u0435\\u0441\\u043a\\u043e\\u043b\\u044c\\u043a\\u043e\",\"\\u043b\\u0438\\u0431\\u043e\",\"\\u0432\\u044b\\u043f\\u043e\\u043b\\u043d\\u0435\\u043d\",\"8\",\"\\u0433\\u043e\\u043b\\u043e\\u0432\\u0443\",\"\\u0440\\u0430\\u0437\\u043c\\u0435\\u0440\",\"\\u043f\\u0440\\u044f\\u043c\",\"\\u043d\\u0435\\u043c\\u043d\\u043e\\u0433\\u043e\",\"\\u0432\\u0430\\u0448\\u0435\\u0439\",\"\\u0441\\u0442\\u0440\\u0430\\u043d\\u0430\",\"\\u043c\\u0430\\u0442\\u044c\",\"\\u0440\\u0443\\u0431\\u043b\\u0435\\u0439\",\"\\u0440\",\"\\u0437\\u0435\\u043c\\u043b\\u044f\",\"30\",\"\\u043c\\u0435\\u0441\\u044f\\u0446\",\"\\u043d\\u0430\\u0445\\u0443\\u0439\",\"\\u0441\\u0442\\u0440\\u0430\\u043d\\u044b\",\"\\u0440\\u043e\\u0434\\u0438\\u0442\\u0435\\u043b\\u0438\",\"\\u043d\\u0430\\u0448\\u0435\",\"\\u0436\\u0435\\u043d\\u0449\\u0438\\u043d\\u0430\",\"....\",\"\\u043f\\u0438\\u0448\\u0438\\u0442\\u0435\",\"\\u043e\\u043e\\u043e\",\"\\u2014\",\"\\u0441\\u0430\\u043c\\u044b\\u0435\",\"\\u043f\\u0438\\u0434\\u043e\\u0440\\u044b\",\"\\u0434\\u0432\\u0435\",\"\\u0433\\u043b\\u0430\\u0437\\u0430\",\"\\u0431\\u043b\\u044f\\u0434\\u044c\",\"\\u0436\\u0430\\u043b\\u043a\\u043e\",\"!!!!\",\"\\u043d\\u0430\\u043f\\u0438\\u0448\\u0438\\u0442\\u0435\",\"\\u043c\\u0443\\u0436\",\"\\u043f\\u043e\\u043b\\u0443\\u0447\\u0430\\u0442\\u0435\\u043b\\u044c\",\"\\u0445\\u0432\\u0430\\u0442\\u0438\\u0442\",\"\\u043c\\u0435\\u043d\\u044c\\u0448\\u0435\",\"\\u0432\\u0434\\u0432\",\"\\u0432\\u0438\\u0434\\u0435\\u043e\",\"\\u043f\\u0440\\u0430\\u0437\\u0434\\u043d\\u0438\\u043a\\u043e\\u043c\",\"\\u0432\\u0435\\u0447\\u043d\\u0430\\u044f\",\"\\u043e\\u043d\\u043b\\u0430\\u0439\\u043d\",\"\\u0433\\u043e\\u0440\\u043e\\u0434\",\"..\",\"\\u043a\\u0430\\u043a\\u043e\\u0433\\u043e\",\"100\",\"\\u0434\\u0435\\u0432\\u043e\\u0447\\u043a\\u0438\",\"\\u0431\\u0443\\u0434\\u044c\",\"\\u0432\\u0437\\u044f\\u0442\\u044c\",\"\\u043a\\u0430\\u043a\\u0443\\u044e\",\"\\u0441\\u043f\\u0430\\u0441\\u0438\\u0431\\u043e,\",\"\\u0441\\u0447\\u0430\\u0441\\u0442\\u044c\\u0435\",\"\\u0434\\u043e\\u043b\\u0436\\u043d\\u0430\",\"\\u043b\\u044e\\u0431\\u0432\\u0438\",\"\\u0431\\u0431\",\"\\u043d\\u0430\\u0448\\u0435\\u0433\\u043e\",\"\\u0434\\u0435\\u0442\\u044f\\u043c\",\"\\u0442\\u0430\",\"\\u043d\\u0435\\u0451\",\"\\u043d\\u0435\\u0435\",\"\\u0440\\u043e\\u0441\\u0441\\u0438\\u044e\",\"\\u043a\\u0430\\u043a\\u043e\\u043c\",\"\\ud83d\\ude4f\",\"\\u0431\\u044b\\u0432\\u0430\\u0435\\u0442\",\"\\u0437\\u0430\\u0442\\u043e\",\"\\u043e\\u0431\\u044f\\u0437\\u0430\\u0442\\u0435\\u043b\\u044c\\u043d\\u043e\",\"\\u043e\\u0439\",\"\\u0433\\u043e\\u0441\\u043f\\u043e\\u0434\\u0438\",\"\\u0434\\u0443\\u0448\\u0438\",\")\",\"\\u0446\\u0435\\u043d\\u0443\",\"\\u0441\\u0443\\u043a\\u0438\",\"\\u0447\\u0442\\u043e,\",\"\\u043d\\u043e\\u0432\\u044b\\u0439\",\"\\u0447\\u0443\\u0442\\u044c\",\"\\u0446\\u0435\\u043d\\u044b\",\"\\u0435\",\"\\u043b\\u0438\\u0447\\u043d\\u043e\",\"\\u0433\\u043e\\u0432\\u043e\\u0440\\u0438\\u0442\",\"\\u043d\\u0430\\u0434\\u043e.\",\"\\u043d\\u0430\\u0441\\u0442\\u043e\\u044f\\u0449\\u0438\\u0439\",\"\\u0442\\u0435\\u043b\\u0435\\u0444\\u043e\\u043d\",\"\\u0441\\u0443\\u043c\\u043c\\u0430\",\"\\u0442\\u0432\\u043e\\u044f\",\"\\u0432\\u0440\\u0435\\u043c\\u0435\\u043d\\u0438\",\"\\u0442\",\"\\u0438\\u043d\\u043e\\u0433\\u0434\\u0430\",\"\\u0441\\u043b\\u043e\\u0432\\u043e\",\"\\u044f\\u0439\\u0446\\u0430\",\"\\u0431\\u044b\\u0441\\u0442\\u0440\\u043e\",\"\\u0432\\u0430\\u0448\\u0435\",\"\\u0434\\u043e\\u0431\\u0440\\u043e\\u0433\\u043e\",\"\\u043d\\u0435\\u0443\\u0436\\u0435\\u043b\\u0438\",\"\\u043f\\u043e\\u0441\\u043c\\u043e\\u0442\\u0440\\u0435\\u0442\\u044c\",\"\\u0445\\u043e\\u0442\\u0438\\u0442\\u0435\",\"\\u0434\\u0435\\u043b\\u0430\\u044e\\u0442\",\"\\u2013\",\"\\u043c\\u0435\\u0436\\u0434\\u0443\",\"\\u0437\\u043e\",\"\\u043a\\u0430\\u0440\\u0442\\u0443\",\"\\u0440\\u0430\\u0437\\u0432\\u0435\",\"\\u0437\\u0434\\u043e\\u0440\\u043e\\u0432\\u044c\\u044f,\",\"\\u0431\\u043e\\u0433\\u0430\",\"!!\",\"\\u043d\\u043e\\u0433\\u0438\",\"\\u0447\\u0451\",\"\\u0441\\u043d\\u0430\\u0447\\u0430\\u043b\\u0430\",\"\\u043c\\u0430\\u0441\\u043b\\u043e\",\"\\u0432\\u0442\\u043e\\u0440\\u043e\\u0439\",\"\\u0445\\u043e\\u0442\\u0435\\u043b\\u043e\\u0441\\u044c\",\"\\u043a\\u0442\\u043e-\\u0442\\u043e\",\"\\u0441\\u0435\\u0440\\u0434\\u0446\\u0435\",\"\\ud83c\\udf39\",\"\\u0431\\u0443\\u0434\\u044c\\u0442\\u0435\",\"\\u0445\\u043e\\u0440\\u043e\\u0448\\u0430\\u044f\",\"\\u0440\\u0430\\u0437\\u0430\",\"\\u0442\\u043e\\u0431\\u043e\\u0439\",\"\\u0441\\u0434\\u0435\\u043b\\u0430\\u043b\",\"\\u0447\\u043e\",\"\\u0441\\u0430\\u043c\\u0430\\u044f\",\"\\u0437\\u043e\\u043b\\u043e\\u0442\\u044b\\u0435\",\"\\u0443\\u0442\\u0440\\u043e\",\"\\u0434\\u043e\\u043b\\u0436\\u043d\\u043e\",\"\\u0431\\u044b\\u043b\\u043e.\",\"\\u0432\\u043c\\u0435\\u0441\\u0442\\u043e\",\"\\u0434\\u0435\\u043b\\u0430\\u0435\\u0442\",\"\\u0440\\u0430\\u0431\\u043e\\u0442\\u0443\",\"\\u0436\\u0438\\u043b\\u0438\",\"\\u0441\\u043a\\u043e\\u0440\\u0435\\u0435\",\"\\u0440\\u0430\\u0431\\u043e\\u0442\\u0430\\u0435\\u0442\",\"\\u043a\\u043e\\u0442\\u043e\\u0440\\u044b\\u0445\",\"\\u0441\\u043a\\u0430\\u0437\\u0430\\u043b\",\"\\u043b\\u044e\\u0431\\u043e\\u0439\",\"\\u0432\\u043e\\u0437\\u043c\\u043e\\u0436\\u043d\\u043e\",\"\\u0447\\u0431\",\"\\u0431\\u043b\\u044f\\u0442\\u044c\",\";)\",\"\\u0441\\u0442\\u044b\\u0434\\u043d\\u043e\",\"\\u0443\\u043c\\u0430\",\"\\u0445\\u043e\\u0440\\u043e\\u0448\\u0438\\u0435\",\"\\u0434\\u043d\\u0435\\u0439\",\"\\u0442\\u0430\\u043a\\u0438\\u043c\\u0438\",\"\\u0447\\u0435\\u043a\",\"\\u043c\\u0443\\u0436\\u0438\\u043a\",\"\\u043f\\u0440\\u044f\\u043c\\u043e\",\"\\u043e\\u0434\\u043d\\u0443\",\"\\u043f\\u043e\\u043b\\u043d\\u043e\\u0441\\u0442\\u044c\\u044e\",\"\\u043e\\u0433\\u0440\\u043e\\u043c\\u043d\\u043e\\u0435\",\"\\u043e\\u0441\\u0442\\u0430\\u043b\\u043e\\u0441\\u044c\",\"\\u0447\\u0430\\u0441\\u0442\\u043e\",\"\\u043a\\u0430\\u0436\\u0434\\u043e\\u0433\\u043e\",\":\",\"\\u0434\\u0430\\u0442\\u044c\",\"\\u0441\\u043d\\u043e\\u0432\\u0430\",\"\\u043a\\u043e\",\"\\u0433\",\"\\u0441\\u043e\\u0431\\u0430\\u043a\\u0430\",\"\\u043b\\u044e\\u0434\\u0438,\",\"\\u043d\\u0430\\u0432\\u0435\\u0440\\u043d\\u043e\",\"\\u0442\\u0430\\u043a,\",\"\\u0441\\u044b\\u043d\",\"\\u043a\\u0440\\u0430\\u0441\\u0438\\u0432\\u044b\\u0435\",\"\\u0441\\u043f\\u0430\\u0441\\u0438\\u0431\\u043e.\",\"\\u043f\\u0440\\u043e\\u0441\\u0442\\u043e\\u0439\",\"\\u0445\\u0443\\u0436\\u0435\",\"\\u043f\\u043e\\u0436\\u0430\\u043b\\u0443\\u0439\\u0441\\u0442\\u0430,\",\"\\u0443\\u0431\\u0438\\u0442\\u044c\",\"\\u0438\\u043c\\u0435\\u0435\\u0442\",\"\\u0445\\u043e\\u0437\\u044f\\u0439\\u0441\\u0442\\u0432\\u0435\",\"\\u0432\\u0438\\u0434\\u0438\\u043c\\u043e\",\"\\u0443\\u0437\\u043d\\u0430\\u0442\\u044c\",\"\\u0433\\u043e\\u0432\\u043e\\u0440\\u0438\\u0442\\u044c\",\"\\u043f\\u043e\\u043d\\u044f\\u0442\\u043d\\u043e\",\"\\u0441\\u0432\\u0435\\u0442\\u043b\\u0430\\u044f\",\"\\u043a\\u0430\\u043a\\u0438\\u0445\",\"50\",\"\\u0443\\u0431\\u0438\\u0432\\u0430\\u0442\\u044c\",\"\\u0434\\u0440\\u0443\\u0433\\u0438\\u043c\",\"\\u0431\\u0443\\u0434\\u0435\\u0448\\u044c\",\"\\u0432\\u043e\\u0434\\u044b\",\"\\u043d\\u0443\\u0436\\u043d\\u043e:\",\"\\u0443\\u0442\\u0440\\u043e\\u043c\",\"\\u043c\\u043e\\u0435\\u0433\\u043e\",\"\\u2764\",\"\\u043a\\u0435\\u043c\",\"\\u0442\\u0432\\u043e\\u044e\",\"\\u0441\\u043f\\u0430\\u0441\\u0438\\u0431\\u043e!\",\"\\u0441\\u0442\\u0430\\u043b\",\"\\u0431\\u0443\\u0434\\u0435\\u0442\\u0435\",\"\\u0441\\u0442\\u0430\\u043b\\u0438\",\"\\u0437\\u0434\\u0440\\u0430\\u0432\\u0441\\u0442\\u0432\\u0443\\u0439\\u0442\\u0435!\",\"\\u0437\\u043d\\u0430\\u044e\\u0442\",\"\\u0433\\u043e\\u0440\\u043e\\u0434\\u0435\",\"\\u043a\\u0440\\u0435\\u043f\\u043a\\u043e\\u0433\\u043e\",\"\\u0440\\u0435\\u0431\\u044f\\u0442\\u0430\",\"\\u043c\\u043e\\u0437\\u0433\\u0438\",\"\\u043f\\u0435\\u0440\\u0435\\u0432\\u043e\\u0434\",\"\\u0441\\u0442\\u0440\\u0435\\u043b\\u044f\\u0442\\u044c\",\"\\u0445\\u043e\\u0447\\u0435\\u0448\\u044c\",\"\\u0443\\u0436\\u0430\\u0441\",\"\\u0437\\u0431\",\"\\u043f\\u043e\\u0441\\u0430\\u0434\\u0438\\u0442\\u044c\",\"\\u0440\\u0443\\u0441\\u0441\\u043a\\u0438\\u0439\",\"\\u043c\\u0435\\u0441\\u0442\\u0430\",\"\\u043a\\u0440\\u0430\\u0441\\u0438\\u0432\\u044b\\u0439\",\"\\u0442\\u0432\\u0430\\u0440\\u0435\\u0439\",\"\\u043f\\u043e\\u043b\\u0443\\u0447\\u0430\\u0435\\u0442\\u0441\\u044f\",\"\\u0431\\u0443\\u0434\\u0442\\u043e\",\"\\u0438\\u0449\\u0443\",\"\\u0435\\u0441\\u0442\\u044c,\",\"\\u043d\\u0435\\u0447\\u0435\\u0433\\u043e\",\"9\",\"\\u0431\\u043b\\u0430\\u0433\\u043e\\u0434\\u0430\\u0440\\u044e\",\"\\u0440\\u0443\\u0431.\",\"\\u0441\\u0438\\u043b\\u044c\\u043d\\u043e\",\"\\u0435\\u0441\\u0442\\u044c.\",\"\\u0441\\u0430\\u043c\\u043e\\u043c\",\"\\u043f\\u0430\\u0440\\u0443\",\"(fr)\",\"\\u0441\\u0434\\u0435\\u043b\\u0430\\u043b\\u0438\",\"\\u0432\\u044b\\u0448\\u0435\",\"\\u0432\\u0438\\u0434\\u0435\\u043b\\u0430\",\"\\u043d\\u0438\\u043a\\u043e\\u043c\\u0443\",\"\\u0445\\u043e\\u0440\\u043e\\u0448\\u043e,\",\"\\u0431\\u0443\\u0434\\u0435\\u0442.\",\"\\u0442\\u044b\\u0441\\u044f\\u0447\",\"\\u0447\\u0451\\u043c\",\"\\u0440\\u0430\\u0431\\u043e\\u0442\\u0430\",\"\\u0434\\u0430\\u0442\\u0430\",\"\\u043f\\u043e\\u0441\\u0442\\u043e\\u044f\\u043d\\u043d\\u043e\",\"\\u043a\\u0430\\u0436\\u0435\\u0442\\u0441\\u044f\",\"\\u0442\\u044b,\",\"\\u043d\\u0438\\u043a\\u043e\\u0433\\u043e\",\"\\u043f\",\"\\u043b\\u0443\\u043a\\u0430\\u0448\\u0435\\u043d\\u043a\\u043e\",\"\\u043f\\u043e\\u043b\",\"\\u0437\\u0434\\u043e\\u0440\\u043e\\u0432\\u044c\\u0435\",\"\\u0440\\u0430\\u0437\\u043d\\u044b\\u0435\",\"\\u043f\\u043e\\u0445\\u043e\\u0436\\u0435\",\"\\u0442\\u043e\\u043c\\u0443\",\"\\u043c\",\"\\u0431\\u0440\\u0435\\u0434\",\"\\u043e\\u0431\\u043e\\u0436\\u0430\\u044e\",\"\\u043d\\u0438\\u043c\\u0438\",\"\\u0437\\u043d\\u0430\\u0442\\u044c\",\"\\u0434\\u0430\\u0432\\u0430\\u0439\\u0442\\u0435\",\"\\u0432\\u0430\\u0448\\u0438\\u0445\",\"\\u0440\\u0430\\u0434\\u0438\",\"\\u0441\\u043a\\u0430\\u0437\\u0430\\u043b\\u0438\",\"\\u0432\\u0438\\u0436\\u0443\",\"\\u0434\\u0430\\u043b\\u0438\",\"\\u0434\\u0443\\u0440\\u0430\",\"\\u043e\\u0434\\u043d\\u0438\\u043c\",\"\\u0447\\u0435\\u043c\\u0443\",\"\\u043f\\u043e\\u043b\\u043d\\u044b\\u0439\",\"\\u0438\\u0434\\u0451\\u0442\",\"\\u0437\\u0430\\u0431\\u0440\\u0430\\u0442\\u044c\",\"\\u0447\\u0430\\u0441\\u0442\\u044c\",\"\\u043b\\u0438\\u0447\\u043a\\u0443\",\"\\u043d\\u0430\\u0448\\u0443\",\"\\u0441\\u043e\\u0431\\u043e\\u0439\",\"\\u0441\\u043e\\u0433\\u043b\\u0430\\u0441\\u043d\\u0430\",\"\\u043d\\u0430\\u0440\\u043e\\u0434\\u0443\",\"\\u043f\\u043e\\u0441\\u043c\\u043e\\u0442\\u0440\\u0438\\u0442\\u0435\",\"\\u0432\\u0430\\u0448\\u0443\",\"\\u043a\\u043e\\u0434\",\"\\u0438\\u0437-\\u0437\\u0430\",\"\\u0432\\u0430\\u0448\\u0438\\u043c\",\"40\",\"\\u043d\\u0430\\u0434\\u043e,\",\"\\u043e\\u0447\",\"\\u0440\\u0435\\u0431\\u0435\\u043d\\u043a\\u0430\",\"\\u0440\\u0435\\u0446\\u0435\\u043f\\u0442\",\"\\u0447\\u043c\\u043e\",\"\\u0442\\u043e\\u0433\\u043e,\",\"\\u043d\\u0435\\u0434\\u0435\\u043b\\u044e\",\"\\u043d\\u0430\\u043f\\u0438\\u0441\\u0430\\u043d\\u043e\",\"\\u043f\\u0440\\u0438\\u0448\\u043b\\u0438\",\"\\u0434\\u0435\\u043d\\u044c.\",\"\\u0441\\u0442\\u0440\\u0430\\u0448\\u043d\\u043e\",\"\\u0441\\u043b\\u0438\\u0448\\u043a\\u043e\\u043c\",\"\\u043e\\u043a\\u043e\\u043b\\u043e\",\"\\u0432\\u0434\\u0440\\u0443\\u0433\",\"\\u0436\\u0434\\u0430\\u0442\\u044c\",\"\\u0441\\u0442\\u0430\\u0442\\u0443\\u0441\",\"\\u0433.\",\"\\u0443\\u043b\\u0438\\u0446\\u0435\",\"\\u043f\\u0435\\u043d\\u0441\\u0438\\u0438\",\"\\u0434\\u0432\\u0443\\u0445\",\"\\u0434\\u043e\\u0431\\u0440\\u044b\\u0435\",\"\\u043c\\u0438\\u0440\\u0435\",\"\\u044f\\u0437\\u044b\\u043a\",\"\\u043f\\u0435\\u043d\\u0441\\u0438\\u044e\",\"\\u0434\\u0435\\u0432\\u043e\\u0447\\u043a\\u0430\",\"\\u0431\\u043e\\u043b\\u044c\\u0448\\u0430\\u044f\",\"\\u043f\\u0438\\u0448\\u0443\\u0442\",\"\\u0433\\u043e\\u0441\\u043f\\u043e\\u0434\\u044c\",\"\\u043f\\u043e\\u043d\\u0438\\u043c\\u0430\\u044e\",\"\\u0430\\u0432\\u0442\\u043e\\u0440\",\"\\u0443\\u0440\\u043e\\u0434\\u043e\\u0432\",\"\\u0441\\u0442\\u0430\\u043b\\u043e\",\"\\u0440\\u0435\\u0430\\u043b\\u044c\\u043d\\u043e\",\"\\u0443\\u0442\\u0440\\u0430\",\"\\u0443\\u0440\\u043e\\u0434\",\"\\u0435\\u0441\\u0442\\u044c?\",\"\\u0433\\u043e\\u0440\\u043e\\u0434\\u0430\",\"\\u043e\\u0442\\u0432\\u0435\\u0442\",\"\\u0442\\u0430\\u043a!\",\"\\u0432\\u0430\\u0448\\u0430\",\"\\u0441\\u043c\\u043e\\u0442\\u0440\\u044e\",\"12\",\"\\u043a\\u043e\\u043d\\u0435\\u0447\\u043d\\u043e,\",\"\\u0436\\u0435\\u043d\\u0449\\u0438\\u043d\\u044b\",\"\\u043d\\u0435\\u043a\\u043e\\u0442\\u043e\\u0440\\u044b\\u0435\",\"\\u0433\\u043e\\u0434\\u044b\",\"\\u0441\\u0435\\u043c\\u044c\\u044f\",\"\\u043b\",\"\\u0445\\u043e\\u0442\\u0435\\u043b\\u0430\",\"\\u0438\\u043d\\u0442\\u0435\\u0440\\u0435\\u0441\\u043d\\u043e,\",\"\\u0433\\u0440\\u0443\\u043f\\u043f\\u0430\",\"\\u0441\\u043b\\u0443\\u0447\\u0430\\u0435\",\"\\u0444\\u0438\\u043b\\u044c\\u043c\",\"\\u043b\\u044e\\u0431\\u0438\\u043c\\u044b\\u0439\",\"\\u0438\\u043d\\u0430\\u0447\\u0435\",\"\\u043f\\u043e\\u0431\\u043e\\u043b\\u044c\\u0448\\u0435\",\"\\u043d\\u0443,\",\"\\u043c\\u0441\\u043a\\u0443\",\"\\u043d\\u0438\\u043a\\u0430\\u043a\",\"???\",\"\\u0434\\u043e\\u043a\\u0443\\u043c\\u0435\\u043d\\u0442\\u0430\",\"\\u0438\\u0434\\u0435\\u0442\",\"\\u043f\\u0440\\u0438\\u044f\\u0442\\u043d\\u043e\",\"\\u043d\\u0430\\u0437\\u044b\\u0432\\u0430\\u0435\\u0442\\u0441\\u044f\",\"\\u0434\\u043e\\u043b\\u0433\\u0438\\u0445\",\"\\u043c\\u043d\\u043e\\u0433\\u0438\\u0445\",\"\\u0437\\u0430\\u043a\\u0430\\u0437\",\"\\u0447\\u0438\\u0442\\u0430\\u0442\\u044c\",\"\\u0434\\u043e\\u0440\\u043e\\u0433\\u0438\\u0435\",\"\\u043e\\u0447\\u043a\\u043e\",\"\\u043e\\u0442\\u0432\\u0435\\u0442\\u0438\\u0442\\u044c\",\"\\u0430\\u0434\\u0440\\u0435\\u0441\",\"\\u0434\\u0430\\u0432\\u0430\\u0439\",\"\\u0441\\u0438\\u0434\\u0435\\u0442\\u044c\",\"\\u0440\\u0435\\u0431\\u0435\\u043d\\u043e\\u043a\",\"\\u0432\\u043e\\u043f\\u0440\\u043e\\u0441\\u044b\",\"\\u0445\\u043e\\u0442\\u0435\\u043b\",\"\\u0440\\u043e\\u0434\\u0438\\u0442\\u0435\\u043b\\u0435\\u0439\",\"\\u0441\\u0430\\u043c\\u043e\\u0439\",\"\\u0437\\u043d\\u0430\\u0435\\u0442\\u0435\",\"\\u0447\\u0443\\u0434\\u043e\",\"\\u043c\\u0438\\u0440\\u0430\",\"\\u043d\\u0430\\u0445\\u043e\\u0434\\u0438\\u0442\\u0441\\u044f\",\"\\u0441\\u044b\\u043d\\u0430\",\"\\u043d\\u043e\\u0432\\u044b\\u0435\",\"\\u0443\\u0441\\u043f\\u0435\\u0445\\u043e\\u0432\",\"\\u0448\\u043a\\u043e\\u043b\\u0435\",\"\\u043b\\u044e\\u0431\\u0438\\u0442\",\"\\u0434\\u0435\\u043d\\u044c,\",\"\\u0432\\u0441\\u0435\\u043c\\u0443\",\"\\u0434\\u0440\\u0443\\u0433\\u0430\",\"\\u043e\\u0441\\u0442\\u0430\\u043b\\u044c\\u043d\\u044b\\u0435\",\"\\u0441\\u0440\\u0435\\u0434\\u0438\",\"\\u0442\\u0430\\u043a\\u043e\\u043c\",\"\\u043b\\u0435\\u0442,\",\"\\u0431\\u044b\\u043b\\u043e,\",\"\\u0443\\u0440\\u043e\\u0434\\u044b\",\"\\u0440\\u0430\\u0439\\u043e\\u043d\\u0435\",\"\\u0432\\u043e\\u0437\\u043b\\u0435\",\"\\u043e\\u0442\\u0435\\u0446\",\"\\u0432\\u0441\\u0435,\",\"\\u043d\\u0430\\u0448\\u0438\\u043c\",\"\\u0442\\u0435\\u043b\\u0435\\u0444\\u043e\\u043d\\u0430\",\"\\u043b\\u0435\\u0442.\",\"\\u0443\\u043a\\u0440\\u0430\\u0438\\u043d\\u0435\",\"\\u0442\\u0430\\u043a.\",\"\\u0441\\u0438\\u0434\\u044f\\u0442\",\"\\u0440\\u0444\",\"\\u0436\\u0438\\u0437\\u043d\\u0438.\",\"\\u043f\\u043e\\u043d\\u044f\\u0442\\u044c\",\"\\u0434\\u0430\\u043b\\u0435\\u043a\\u043e\",\"\\u0436\\u0438\\u0432\\u0443\",\"\\u0438\\u043c\\u0435\\u0442\\u044c\",\"\\u043e\\u043f\\u0435\\u0440\\u0430\\u0446\\u0438\\u044f\",\"\\u0432\\u0438\\u0434\\u0435\\u043b\",\"\\u043c\\u043d\\u0435\\u043d\\u0438\\u0435\",\"\\u043f\\u043e\\u0441\\u043b\\u0435\\u0434\\u043d\\u0438\\u0439\",\")))\",\"\\u0434\\u043e\\u043c\\u043e\\u0439\",\"\\u0442\\u0430\\u043a\\u0438\",\"\\u043d\\u0438\\u0437\\u043a\\u0438\\u0439\",\"\\u0432\\u043e\\u0434\\u0430\",\"\\u043f\\u043e\\u0437\\u043e\\u0440\",\"\\u0441\\u0438\\u043b\",\"\\u0432\\u0435\\u0447\\u0435\\u0440\",\"\\u043f\\u043e\\u043b\\u0443\\u0447\\u0438\\u0442\\u044c\",\"\\u0442\\u043e\\u043c,\",\"\\u043c\\u043e\\u0435\\u043c\\u0443\",\"\\u043c\\u043e\\u0436\\u0435\\u0448\\u044c\",\"\\u043c\\u0440\\u0430\\u0437\\u0438\",\"\\u0434\\u043e\\u0431\\u0430\\u0432\\u0438\\u0442\\u044c\",\"\\u043c\\u0443\\u0436\\u0447\\u0438\\u043d\\u0430\",\"\\u0442\\u0438\\u043f\\u0430\",\"\\u043a\\u043e\\u043c\\u0438\\u0441\\u0441\\u0438\\u044f\",\"\\u0433\\u0440\\u0443\\u043f\\u043f\\u044b\",\"\\u043e\\u0442\\u0434\\u0430\\u043c\",\"\\u0445\\u0440\\u0435\\u043d\",\"\\u0441\\u043e\\u0436\\u0430\\u043b\\u0435\\u043d\\u0438\\u044e\",\"\\u0445\\u043e\\u0440\\u043e\\u0448\\u043e.\",\"\\u043c\\u043e\\u043b\\u043e\\u0434\\u0435\\u0446,\",\"\\u043f\\u0440\\u043e\\u0448\\u0443\",\"\\u043f\\u0430\\u043f\\u0430\",\"\\u0441\\u044e\\u0434\\u0430\",\"\\u0437\\u0430\\u043a\\u043e\\u043d\",\"\\u043c\\u0443\\u0436\\u0438\\u043a\\u0438\",\"\\u043c\\u043e\\u0433\\u043b\\u0438\",\"\\u0445\\u043e\\u0434\\u0438\\u0442\\u044c\",\"\\u043d\\u0430\\u0448\\u043b\\u0438\",\"\\u0431\\u0430\\u0431\\u0443\\u0448\\u043a\\u0430\",\"\\u0434\\u043e\\u043c\\u0435\",\"\\ud83d\\udc4d\\ud83d\\udc4d\\ud83d\\udc4d\",\"\\u043f\\u0440\\u0438\\u043c\\u0435\\u0440\",\"\\u0434\\u0435\\u0432\\u0443\\u0448\\u043a\\u0430\",\"\\u0441\\u0438\\u0434\\u0438\\u0442\",\"\\u043c\\u043e\\u043b\\u043e\\u0434\\u0435\\u0446!\",\"\\u043f\\u0440\\u0435\\u0437\\u0438\\u0434\\u0435\\u043d\\u0442\",\"\\u0447\\u0430\\u0441\\u043e\\u0432\",\"\\u043d\\u0430\\u043f\\u0438\\u0441\\u0430\\u0442\\u044c\",\"\\u0436\\u0435,\",\"\\u0437\\u0440\\u044f\",\"\\u0438\\u0434\\u0442\\u0438\",\"\\u043a\\u043e\\u0442\\u043e\\u0440\\u043e\\u0439\",\"\\u043f\\u043e\\u0432\\u0435\\u0441\\u0438\\u0442\\u044c\",\"\\u043c\\u0430\\u0433\\u0430\\u0437\\u0438\\u043d\",\"\\u0431\\u0440\\u0430\\u0432\\u043e\",\"\\u0434\\u0440\\u0443\\u0437\\u0435\\u0439\",\"\\u043b\\u044e\\u0431\\u0438\\u0442\\u044c\",\"\\u0438\\u0433\\u0440\\u0430\",\"\\u043c\\u0435\\u0441\\u044f\\u0446\\u0430\",\"\\u0432\\u044b\\u043f\\u043b\\u0430\\u0442\\u044b\",\"\\u043c\\u0430\\u0441\\u043a\\u0438\",\"\\u0445\\u043b\\u0435\\u0431\",\"\\u0440\\u043e\\u0441\\u0441\\u0438\\u0438.\",\"\\u043b\\u044e\\u0434\\u0435\\u0439,\",\"\\u043c\\u0438\\u043d\\u0443\\u0442\",\"\\u0442\\u043e\\u0439\",\"\\u0432\\u0435\\u0449\\u044c\",\"\\u0431\\u0440\\u0430\\u0442\\u044c\",\"\\u0446\\u0430\\u0440\\u0441\\u0442\\u0432\\u0438\\u0435\",\"\\u0432\\u043e\\u0434\\u0443\",\"\\u0432\\u043a\\u0443\\u0441\\u043d\\u043e\",\"\\u043c\\u043e\\u0438\\u0445\",\"\\u0432\\u043d\\u0438\\u043c\\u0430\\u043d\\u0438\\u0435\",\"\\u0440\\u043e\\u0434\\u0438\\u0442\\u0435\\u043b\\u044f\\u043c\",\"\\u043d\\u0435\\u043c\",\"\\u043c\\u043e\\u0433\",\"\\u0441\\u043e\\u0441\\u0430\\u0442\\u044c\",\"\\u0440\\u0430\\u0431\\u043e\\u0442\\u0430\\u044e\\u0442\",\"\\u0441\\u043b\\u0443\\u0436\\u0438\\u043b\",\"\\u0441\\u0442\\u043e\\u0440\\u043e\\u043d\\u044b\",\"\\u0430\\u0432\\u0433\\u0443\\u0441\\u0442\",\"\\u0438\\u043c\\u044f\",\"\\u043d\\u0430\\u043c\\u0438\",\"\\u043d\\u043e\\u0440\\u043c\\u0430\\u043b\\u044c\\u043d\\u043e\",\"\\u0434\",\"\\u0438\\u0434\\u0443\\u0442\",\"\\u043d\\u0430\\u0448\\u0435\\u043c\",\"8oi\",\"\\u043c\\u043e\\u0440\\u0435\",\"\\u043f\\u0440\\u0435\\u0436\\u0434\\u0435\",\"\\u0432\\u0435\\u0447\\u0435\\u0440\\u043e\\u043c\",\"\\u0434\\u0443\\u0448\\u0430\",\"\\u0432\\u043e\\u0439\\u043d\\u044b\",\"\\u043b\\u0435\\u0442\\u043e\",\"\\u043f\\u044f\\u0442\\u044c\",\"\\u043a\\u043e\\u0442\",\"\\u0436\\u0438\\u0432\\u0451\\u0442\",\",\\u0438\",\"\\u0441\\u0442\\u043e\\u044f\\u0442\",\"\\u043d\\u0438\\u043a\\u0430\\u043a\\u0438\\u0445\",\"\\u0432\\u0431\",\"\\u0434\\u0435\\u043b\\u0430\\u044e\",\"\\u043a\\u0440\\u0430\\u0441\\u043e\\u0442\\u0443\",\"\\ud83d\\udc4f\",\"\\u043a\\u0433\",\"\\u0441\\u0435\\u043c\\u044c\\u0438\",\"\\u043f\\u043e\\u043a\\u043b\\u043e\\u043d\",\":-)\",\"\\u043f\\u043e\\u0434\\u0441\\u043e\\u043b\\u043d.\",\"\\u043e\\u0447\\u0435\\u0440\\u0435\\u0434\\u043d\\u043e\\u0439\",\"\\u0441\\u0448\\u0430\",\"\\u0431\\u0447\",\"\\u043d\\u0435\\u0431\\u0435\\u0441\\u043d\\u043e\\u0435\",\"\\u043a\\u043e\\u0442\\u043e\\u0440\\u043e\\u0433\\u043e\",\"\\u043f\\u0440\\u0430\\u0432\\u043e\",\"\\u0434\\u0435\\u0431\\u0438\\u043b\",\"\\u0431\\u043b\\u044f\",\"\\u043b\\u044e\\u0434\\u0435\\u0439.\",\"\\u0441\\u0440\\u043e\\u0447\\u043d\\u043e\",\"\\u0441\\u0447\\u0451\\u0442\",\"\\u0434\\u0435\\u0442\\u044c\\u043c\\u0438\",\"\\u043a\\u0432\\u0430\\u0440\\u0442\\u0438\\u0440\\u0443\",\"\\u043f\\u0440\\u0435\\u043b\\u0435\\u0441\\u0442\\u044c\",\"\\u0437\\u043d\\u0430\\u044e,\",\"\\u043a\\u0430\\u0436\\u0434\\u043e\\u043c\\u0443\",\"\\u043e\\u0434\\u043d\\u043e\\u043c\",\"\\u0434\\u0443\\u0448\\u0435\",\"\\u0434\\u0430\\u044e\\u0442\",\"\\u043c\\u043e\\u0451\",\"\\u0443\\u0440\\u043e\\u0432\\u0435\\u043d\\u044c\",\"\\u0434\\u043e\\u0431\\u0440\\u0430\",\"\\u043a\\u043e\\u043d\\u0446\\u0430\",\"\\u0431\\u043e\\u0433\\u0443\",\"\\u043a\\u0430\\u043a\\u0438\\u043c\",\"\\u0436\\u0438\\u0432\\u0435\\u0442\",\";-)\",\"\\u043f\\u0440\\u0435\\u043a\\u0440\\u0430\\u0441\\u043d\\u043e\",\"\\u0437\\u0430\\u043a\\u0430\\u0437\\u0430\\u0442\\u044c\",\"\\u043e\\u0441\\u0442\\u0430\\u043b\\u044c\\u043d\\u043e\\u0435\",\"\\u0441\\u0442\\u0430\\u043b\\u0430\",\",\\u043a\\u0430\\u043a\",\"\\u0445\\u043e\\u0440\\u043e\\u0448\\u0435\\u0435\",\"\\u043a\\u0443\\u043f\\u043b\\u044e\",\"\\u0447\\u0435\\u043b\\u043e\\u0432\\u0435\\u043a,\",\"\\u0431\\u0435\\u0441\\u043f\\u043b\\u0430\\u0442\\u043d\\u043e\",\"\\u0435\\u0431\\u0430\\u0442\\u044c\",\"\\u0433\\u043d\\u0430\\u0442\\u044c\",\"\\u0440\\u0430\\u0431\\u043e\\u0442\\u0435\",\"\\u0430\\u0436\",\"\\u043d\\u0435\\u0442\\u0443\",\"\\u0441\\u0443\\u0434\\u0438\\u0442\\u044c\",\"\\u043f\\u0440\\u0430\\u0432\\u0430\",\"\\u043e\\u0442\\u043f\\u0440\\u0430\\u0432\\u0438\\u0442\\u0435\\u043b\\u044c\",\"\\u0434\\u0435\\u043b\\u0435\",\"\\u043a\\u043e\\u0442\\u043e\\u0440\\u0443\\u044e\",\"\\u0436\\u0435\\u043d\\u0430\",\"\\u0441\\u0435\\u043c\\u044c\\u0435\",\"\\u043c\\u0430\\u043c\\u044b\",\"\\u043c\\u043e\\u043c\\u0435\\u043d\\u0442\",\"\\u0432\\u0441\\u0435.\",\"\\u0447\\u043b\\u0435\\u043d\",\"\\u043c\\u043e\\u044e\",\"\\u043e\\u043f\\u043b\\u0430\\u0442\\u0438\\u043b\\u0430\",\"\\u0442\\u0432\\u043e\\u0435\\u0439\",\"\\u043f\\u043e\\u043b\\u0443\\u0447\\u0438\\u043b\",\"\\u0434\\u043e\\u0440\\u043e\\u0433\\u0438\",\"\\u0443\\u0441\\u043f\\u0435\\u0448\\u043d\\u043e\",\"\\u0432\\u043e\\u0439\\u0441\\u043a\\u0430\",\"\\u0432\\u044b\\u043f\\u043e\\u043b\\u043d\\u0438\\u0442\\u044c\",\"\\u0437\\u043d\\u0430\\u0435\\u0448\\u044c\",\"\\u043a\\u0430\\u043a-\\u0442\\u043e\",\"\\u0441\\u0442\\u0430\\u043d\\u0435\\u0442\",\"\\u0431\\u0443\\u0434\\u0435\\u0442,\",\"\\u0437\\u0435\\u043c\\u043b\\u0435\",\"\\u0432\\u0440\\u0435\\u043c\\u0435\\u043d\\u0430\",\"\\u043f\\u043e\\u0434\\u0434\\u0435\\u0440\\u0436\\u043a\\u0430\",\"\\u043f\\u0438\\u0434\\u043e\\u0440\\u0430\\u0441\\u044b\",\"\\u043c\\u0441\\u043a\",\"\\u043d\",\"\\u0434\\u0430\\u0439\\u0442\\u0435\",\"\\u0442\\u0435\\u043b\",\"\\u043d\\u0430\\u0434\\u0435\\u044e\\u0441\\u044c\",\"\\u0432\\u0435\\u0440\\u043d\\u0443\\u0442\\u044c\",\"\\u0447\\u0442\\u043e?\",\"\\u0433\\u043e\\u0441\\u0443\\u0434\\u0430\\u0440\\u0441\\u0442\\u0432\\u043e\",\"\\u043f\\u043e\\u0448\\u043b\\u0438\",\"\\u0434\\u0435\\u0442\\u0441\\u043a\\u0438\\u0435\",\"\\u043f\\u0435\\u0440\\u0432\\u0443\\u044e\",\"\\u043f\\u043b\\u0430\\u0442\\u0435\\u0436\",\"\\u043c\\u0430\\u043b\\u0435\\u043d\\u044c\\u043a\\u0438\\u0439\",\"200\",\"\\u0431\\u0438\\u0442\\u044c\",\"\\u0441\\u043c\\u0435\\u0440\\u0442\\u044c\",\"\\u0434\\u0430\\u043b\",\"\\u043b\\u044e\\u0431\\u044f\\u0442\",\"16\",\"\\u0441\\u0442\\u043e\",\"\\u043a\\u0440\\u0430\\u0441\\u0430\\u0432\\u0438\\u0446\\u0430\",\"\\u0441\\u0432\\u044f\\u0437\\u0438\",\"\\u0442\\u0435\\u0440\\u043f\\u0435\\u043d\\u0438\\u044f\",\"\\u0432\\u0438\\u0434\\u0435\\u0442\\u044c\",\"\\u0440\\u0435\\u0431\\u0451\\u043d\\u043a\\u0430\",\"\\u0437\\u0430\\u0432\\u0438\\u0441\\u0438\\u0442\",\"\\u0440\\u043e\\u0434\\u0438\\u043d\\u0443\",\"\\u0446\\u0432\\u0435\\u0442\\u044b\",\"\\u0446\\u0435\\u043d\\u0430?\",\"--\",\"\\u0440\\u0430\\u0434\\u043e\\u0441\\u0442\\u044c\",\"\\u0441\\u0442\\u0430\\u0432\\u0438\\u0442\\u044c\",\"\\u043a\\u043b\\u0430\\u0441\\u0441\\u043d\\u043e\",\"\\u0440\\u043e\\u0436\\u0434\\u0435\\u043d\\u0438\\u044f!\",\"\\u0436\\u043e\\u043f\\u0430\",\"\\u0441\\u0443\\u0434\",\"\\ud83d\\udc8b\",\"\\u0446\\u0432\\u0435\\u0442\",\"\\u0436\\u0434\\u0443\",\"\\u043f\\u043b\\u0430\\u0442\\u0438\\u0442\\u044c\",\"\\u0445\\u0440\\u0430\\u043d\\u0438\",\"\\u043f\\u0438\\u0448\\u0438\",\",\\u043d\\u043e\",\"\\u043c\\u0430\\u043c\\u0443\",\"\\u043a\\u043e\\u0440\\u043c\\u0438\\u0442\\u044c\",\"\\u043a\\u043b\\u0430\\u0441\\u0441\\u043d\\u044b\\u0439\",\"\\u043e\\u0442\\u043f\\u0440\\u0430\\u0432\\u0438\\u0442\\u044c\",\"\\u043b\\u0435\\u0433\\u043a\\u043e\",\"\\u0440\\u0443\\u0441\\u0441\\u043a\\u0438\\u0445\",\"\\u0440\\u0443\\u0441\\u0441\\u043a\\u0438\\u0435\",\"\\u043e\\u0431\\u043b\\u0430\\u0441\\u0442\\u0438\",\"\\u043a\\u043c\",\"\\u0431\\u043b\\u0438\\u043d\",\"\\u0433\\u0440\\u0443\\u043f\\u043f\\u0435\",\"\\u043f\\u043e\\u0448\\u043b\\u0430\",\"\\u0431\\u0437\",\"\\u0441\\u0442\\u0430\\u0440\\u044b\\u0439\",\"\\u0442\\u0443\",\"\\u0434\\u043e\\u0431\\u0440\\u044b\\u043c\",\"\\u043f\\u0440\\u0430\\u0437\\u0434\\u043d\\u0438\\u043a\",\"\\u043b\\u0438\\u0446\\u043e\",\"\\u0441\\u0432\\u043e\\u043b\\u043e\\u0447\\u044c\",\"\\u043f\\u043e\\u0437\\u0432\\u043e\\u043d\\u0438\\u0442\\u0435\",\"\\u0434\\u0435\\u0431\\u0438\\u043b\\u044b\",\"\\u0433\\u043e\\u043b\\u043e\\u0432\\u0435\",\"\\u0441\\u0432\\u043e\\u0435\\u043c\\u0443\",\"\\u043b\\u044e\\u0431\\u0438\\u043c\\u0430\\u044f\",\"\\u043e\\u043b\\u044c\\u0433\\u0430\",\"\\u0441\\u043e\\u0431\\u0430\\u043a\\u0438\",\"\\u043f\\u0438\\u0442\\u044c\",\"\\u0437\\u0430\\u0440\\u043f\\u043b\\u0430\\u0442\\u0443\",\"\\u043a\\u043e\\u043c\\u043c\\u0435\\u043d\\u0442\\u0430\\u0440\\u0438\\u0438\",\"\\u0447\\u0430\\u0441\",\"\\u0441\\u0435\\u0440\\u0433\\u0435\\u0439\",\"\\u043e\\u0437\",\"\\u043f\\u043e\\u0441\\u0442\\u0430\\u0432\\u0438\\u0442\\u044c\",\"+\",\"\\u043c\\u043d\\u043e\\u0439\",\"\\u0434\\u0435\\u0440\\u0436\\u0430\\u0442\\u044c\",\"\\u043f\\u043b\\u0430\\u0442\\u0435\\u0436\\u0430\",\"\\u043f\\u0440\\u043e\\u0431\\u043b\\u0435\\u043c\\u044b\",\"\\u0433\\u043e\\u0432\\u043e\\u0440\\u044e\",\"\\u0430,\",\"\\u043a\\u043e\\u043d\\u0446\\u0435\",\"\\u043c\\u0430\\u043b\\u044b\\u0448\",\"\\u043d\\u0430\\u0447\\u0430\\u043b\\u0430\",\"\\u043f\\u0443\\u0441\\u043a\\u0430\\u0439\",\"\\u043f\\u043e\\u043c\\u043e\\u0447\\u044c\",\"500\",\"\\u0437\\u0434\\u043e\\u0440\\u043e\\u0432\\u043e\",\"\\u0437\\u0430\\u0434\\u0430\\u0447\\u0443\",\"\\u043b\\u0443\\u0447\\u0448\\u0438\\u0439\",\"25\",\"\\u0432\\u0430\\u0441,\",\"\\u0438,\",\"\\u0443\\u0434\\u043e\\u0432\\u043e\\u043b\\u044c\\u0441\\u0442\\u0432\\u0438\\u0435\\u043c\",\"\\u0443\\u0431\\u0440\\u0430\\u0442\\u044c\",\"\\u0432\\u0430\\u043c,\",\"\\u0432\\u0441\\u044f\\u043a\\u0443\\u044e\",\"\\u043f\\u0440\\u0435\\u0437\\u0438\\u0434\\u0435\\u043d\\u0442\\u0430\",\"\\u0440\\u0435\\u0431\\u0451\\u043d\\u043e\\u043a\",\"\\u0432\\u0430\\u0448\\u0435\\u0433\\u043e\",\"90\",\"\\u0431\\u043e\\u0436\\u0435\",\"\\u0440\\u0443\\u043a\\u0443\",\"\\u044f,\",\"\\u0434\\u0440\\u0443\\u0433\\u043e\\u0433\\u043e\",\"\\u0440\\u043e\\u0434\\u043d\\u044b\\u043c\",\"\\u043e\\u0431\\u044b\\u0447\\u043d\\u043e\",\"\\u043f\\u043e\\u0432\\u043e\\u0434\\u0443\",\"\\u043f\\u0435\\u0441\\u043d\\u0438\",\"\\u0442\\u044f\\u0436\\u0435\\u043b\\u043e\",\"\\u0432\\u0438\\u0434\\u0435\\u043b\\u0438\",\"\\u0432\\u043e\\u0437\\u0440\\u0430\\u0441\\u0442\",\"300\",\"\\u0434\\u0435\\u043d\\u044c!\",\"14\",\"\\u043f\\u043e\\u043c\\u043e\\u0433\\u0430\\u0435\\u0442\",\"\\u0440\\u0430\\u0441\\u0442\\u0440\\u0435\\u043b\\u044f\\u0442\\u044c\",\"\\u0440\\u0435\\u043c\\u043e\\u043d\\u0442\",\"\\u0442\\u0435\\u043b\\u0435\\u0444\\u043e\\u043d\\u0443\",\"\\u043f\\u043e\\u0442\\u0435\\u0440\\u0438\",\"\\u0434\\u043e\\u0447\\u044c\",\"\\u0432\\u0441\\u0435\\u043c\\u0438\",\"\\u043c\\u0438\\u043b\\u0430\\u044f\",\"\\u0445\\u0432\\u0430\\u0442\\u0430\\u0435\\u0442:\",\"(h)\",\"\\u043f\\u0440\\u0438\\u0447\\u0435\\u043c\",\"\\u043c\\u043e\\u0435\",\"\\u043f\\u0438\\u0437\\u0434\\u0435\\u0446\",\"\\u0440\\u0430\\u0434\\u043e\\u0441\\u0442\\u0438\",\"\\u0434\\u0443\\u043c\\u0430\\u0442\\u044c\",\"\\u0432\\u043e\\u0437\\u043c\\u043e\\u0436\\u043d\\u043e\\u0441\\u0442\\u044c\",\"\\u043c\\u0443\\u0436\\u0430\",\"\\u043c\\u0430\\u043b\\u043e\\u0439\",\"\\u043e\\u0447\\u0435\\u0440\\u0435\\u0434\\u044c\",\"\\u0445\\u043e\\u0442\\u0435\\u043b\\u0438\",\"\\u043f\\u043e\\u0440\\u044f\\u0434\\u043e\\u043a\",\"\\u0442\\u0435\\u043c\\u0430\",\"\\u0440\\u0443\\u043a\\u0430\\u043c\\u0438\",\"\\u0432\\u044b\\u0433\\u043b\\u044f\\u0434\\u0438\\u0442\",\"\\u0430\\u043c\\u0438\\u043d\\u044c\",\"\\u043c\\u043e\\u0436\\u0435\\u043c\",\"\\u0441\\u0443\\u0434\\u0430\",\"\\u043f\\u0440\\u0438\\u0447\\u0451\\u043c\",\"\\u043d\\u0430\\u0441\\u0442\\u043e\\u044f\\u0449\\u0438\\u0435\",\"\\u0440\\u0435\\u0434\\u043a\\u0430\\u044f.\",\"\\u043f\\u0438\\u0448\\u0435\\u0442\",\"\\u0441\\u0432\\u043e\\u0435\\u043c\",\"\\u0437\\u0430\\u0431\\u044b\\u043b\\u0438\",\"\\u0432\\u043e\\u043a\\u0440\\u0443\\u0433\",\"(lo)\",\"\\u0445\\u0430\\u0431\\u0430\\u0440\\u043e\\u0432\\u0441\\u043a\",\"\\u043d\\u0435\\u043f\\u0440\\u043e\\u0441\\u0442\\u0443\\u044e\",\"\\u0440\\u0430\\u0439\\u043e\\u043d\",\"\\u0434\\u0443\\u043c\\u0430\\u044e,\",\"\\u0441\\u043e\\u0432\\u0435\\u0440\\u0448\\u0435\\u043d\\u043d\\u043e\",\"\\u0436\\u0430\\u043b\\u044c,\",\"\\u0441\\u0447\\u0435\\u0442\",\"\\u0441\\u043c\\u043e\\u0442\\u0440\\u0438\\u0442\\u0435\",\"\\u043c\\u0430\\u043c\\u0435\",\"\\u0442\\u0440\\u0443\\u0434\\u043d\\u043e\",\"\\u0442\\u0430\\u0442\\u044c\\u044f\\u043d\\u0430\",\"\\u0441\\u0440\\u043e\\u043a\",\"\\u0441\\u0438\\u043b\\u044b\",\"\\u0438\\u0433\\u0440\\u0430\\u0442\\u044c\",\"\\u0436\\u0434\\u0443\\u0442\",\"\\u0441\\u0442\\u0435\\u043d\\u043a\\u0435\",\"\\u0430\\u043b\\u0435\\u043a\\u0441\\u0430\\u043d\\u0434\\u0440\",\"\\u0442\\u0435\\u0445,\",\"\\u043f\\u0440\\u0438\\u043c\\u0435\\u0440\\u043d\\u043e\",\"\\u0432\\u0432\",\"\\u0432\\u043a\\u0443\\u0441\",\"\\u0434\\u0435\\u043b\\u0435!\",\"\\u0441\\u0436\\u0435\\u0447\\u044c\",\"\\u0438\\u044e\\u043b\\u044f\",\"\\u0441\\u0432\\u0435\\u0442\",\"\\u0437\\u0435\\u043c\\u043b\\u0438\",\"\\u043f\\u0440\\u043e\\u0438\\u0441\\u0445\\u043e\\u0434\\u0438\\u0442\",\"\\u043e\\u0445\",\"\\u043f\\u0438\\u0434\\u0430\\u0440\\u0430\\u0441\\u044b\",\"\\u043f\\u0438\\u0434\\u043e\\u0440\\u043e\\u0432\",\"\\u043f\\u0440\\u0430\\u0432\\u0438\\u0442\\u0435\\u043b\\u044c\\u0441\\u0442\\u0432\\u043e\",\"\\u0432\\u044b,\",\"\\u0438\\u0441\\u0442\\u043e\\u0440\\u0438\\u044f\",\"\\u0441\\u043f\\u043e\\u043a\\u043e\\u0439\\u043d\\u043e\",\"\\u043d\\u043e\\u0447\\u044c\",\"\\u0438\\u0433\\u0440\\u0443\",\"\\u044f\\u0432\\u043d\\u043e\",\"\\u043f\\u0438\\u0434\\u043e\\u0440\\u0430\",\"\\u044d\\u0442\\u0438\\u043c\\u0438\",\"!!!!!\",\"\\u043f\\u043e\\u043b\\u0443\\u0447\\u0438\\u043b\\u0430\",\"\\u0434\\u043e\\u0441\\u0442\\u0430\\u0432\\u043a\\u0430\",\"\\u0437\\u0432\\u043e\\u043d\\u0438\\u0442\\u0435\",\"\\u0433\\u043e\\u0440\\u0435\\u0442\\u044c\",\"\\u0436\\u0435\\u043d\\u0449\\u0438\\u043d\",\"\\u0448\\u043a\\u043e\\u043b\\u0443\",\"\\u0433\\u043b\\u0430\\u0437\",\"\\u0442\\u0435\\u0431\\u0435,\",\"60\",\"\\u0441\\u043c\\u043e\\u0442\\u0440\\u044f\",\"\\u0442\\u0440\\u0443\\u0434\\u043d\\u043e\\u043c\",\"\\u0432\\u044b\\u0440\\u0443\\u0447\\u0430\\u0439\\u0442\\u0435\",\"\\u043d\\u0435\\u0432\\u043e\\u0437\\u043c\\u043e\\u0436\\u043d\\u043e\",\"\\u0432\\u0435\\u0447\\u043d\\u043e\",\"\\u0434\\u0435\\u0432\\u043e\\u0447\\u043a\\u0438,\",\"\\u0432\\u0435\\u0441\",\"\\u0441\\u0443\\u043a\\u0443\",\"\\u0434\\u043e\\u0431\\u0440\\u043e\",\"\\u043f\\u0440\\u0430\\u0432\",\"\\u043f\\u0440\\u043e\\u0434\\u0430\\u043b\\u0438\",\"\\u0432\\u0430\\u0436\\u043d\\u043e\",\"\\u043f\\u043e\\u043c\\u043e\\u0449\\u0438\",\"\\u0442\\u044b\\u0441\",\"\\u0432\\u0435\\u0440\\u043d\\u044b\\u0435,\",\"\\u0434\\u0440\\u0443\\u0433\\u043e\\u0435\",\"\\u0434\\u0440\\u0443\\u0433\\u043e\\u043c\\u0443\",\"\\u043f\\u043e\\u0445\\u043e\\u0434\\u0443\",\"\\u0434\\u0443\\u0448\\u0443\",\"\\u043f\\u043b\\u0430\\u0442\\u044f\\u0442\",\"\\ud83d\\udc90\",\".....\",\"\\u043d\\u0430\\u043c\\u043d\\u043e\\u0433\\u043e\",\"\\u043a\\u0440\\u044b\\u043c\",\"1000\",\"\\u0434\\u043e\\u0440\\u043e\\u0433\\u0430\\u044f\",\"\\u0443\\u0431\\u043b\\u044e\\u0434\\u043e\\u043a\",\"\\u0433\\u0434\\u0435-\\u0442\\u043e\",\"\\u043c\\u043e\\u0436\\u043d\\u043e?\",\"\\u0434\\u043e\\u0440\\u043e\\u0433\\u043e\\u0439\",\"\\u043d\\u0438\\u043a\\u0430\\u043a\\u043e\\u0433\\u043e\",\"\\u043a\\u0430\\u0436\\u0434\\u043e\\u0439\",\"\\u0432\\u0438\\u0434\",\"\\u0443\\u0431\\u043b\\u044e\\u0434\\u043a\\u0438\",\"\\u0434\\u0440\\u0443\\u0433\\u043e\\u043c\",\"\\u043d\\u043e\\u0432\\u044b\\u0445\",\"\\u0436\\u0438\\u043b\",\"\\u043e\\u0442\\u043e\\u0440\\u0432\\u0430\\u0442\\u044c\",\"\\u043f\\u043e\\u043c\\u043e\\u0433\\u0438\\u0442\\u0435\",\"\\u0449\\u0430\\u0441\",\"\\u0431\\u0435\\u0440\\u0435\\u0433\\u0438\\u0442\\u0435\",\"\\u043c\\u0443\\u0436\\u0447\\u0438\\u043d\\u044b\",\"\\u0447\\u0435\\u043b\\u043e\\u0432\\u0435\\u043a\\u0443\",\"\\u0440\\u0430\\u0441\\u0441\\u0442\\u0440\\u0435\\u043b\\u0438\\u0432\\u0430\\u0442\\u044c\",\"\\u0433\\u0440\\u0443\\u043f\\u043f\\u0443\",\"\\u043f\\u043b\\u0430\\u0442\\u044c\\u0435\",\"\\u0436\\u0438\\u0437\\u043d\\u0438,\",\"\\u043f\\u0435\\u0440\\u0432\\u0430\\u044f\",\"\\u043d\\u043e\\u0447\\u0438\",\"\\u043f\\u043e\\u043d\\u044f\\u043b\\u0430\",\"\\u0432\\u0435\\u0440\\u043d\\u043e\",\"\\u043b\\u0430\\u0439\\u043a\\u0438\",\"\\u0445\\u0440\\u0435\\u043d\\u044c\",\"\\u043c\\u043e\\u0441\\u043a\\u0432\\u0435\",\"\\u0436\\u0438\\u0432\\u043e\\u0442\\u043d\\u044b\\u0445\",\"\\u0431\\u043e\\u043b\\u044c\\u0448\\u0438\\u0435\",\"\\u043a\\u0430\\u0437\\u043d\\u0438\\u0442\\u044c\",\"\\u0437\\u043d\\u0430\\u043b\\u0438\",\"\\u043c\\u043e\\u0433\\u043b\\u0430\",\"\\u0431\\u0432\",\"\\u0437\\u0430\\u0442\\u0435\\u043c\",\"\\u0435\\u043b\\u0435\\u043d\\u0430\",\"\\u0445\\u0435\\u0440\",\"\\u043b\\u044e\\u0431\\u043e\\u043c\",\"\\u0438\\u0434\\u0438\\u0442\\u0435\",\"\\u043d\\u0435\\u0442?\",\"\\u0441\\u0442\\u043e\\u0440\\u043e\\u043d\\u0443\",\"\\u270c\",\"11\",\"\\u0434\\u0435\\u043b\\u0430\\u043b\\u0430\",\"\\u0434\\u0435\\u0442\\u0441\\u043a\\u0438\\u0439\",\"\\u043f\\u043e\\u043c\\u0438\\u0434\\u043e\\u0440\\u044b\",\"\\u0447\\u0435\\u0441\\u0442\\u044c\",\"\\u043d\\u043e\\u0432\\u0430\\u044f\",\"\\u043f\\u0440\\u043e\\u0431\\u043b\\u0435\\u043c\",\"\\u0431\\u044b\\u0434\\u043b\\u043e\",\"\\u043b\\u0435\\u0441\",\"\\u0440\\u043e\\u0441\\u0441\\u0438\\u0438,\",\"\\u043f\\u043e\\u0448\\u0435\\u043b\",\"\\u0441\\u0435\\u043c\\u044c\\u044e\",\"\\u0441\\u043f\\u0430\\u0441\\u0438\",\"\\u0433\\u043e\\u043b\\u043e\\u0432\\u043e\\u0439\",\"\\u0431\\u043e\\u043b\\u044c\",\"\\u043f\\u043e\\u043d\\u044f\\u043b\",\"\\u043d\\u0435\\u0442!\",\"\\u043e\\u0441\\u0442\\u0430\\u043b\\u0438\\u0441\\u044c\",\"\\u0440\\u0430\\u0441\\u0441\\u0442\",\"\\u0432\\u043b\\u0430\\u0434\\u0438\\u043c\\u0438\\u0440\",\"\\u0431\\u043b\\u0430\\u0433\",\"\\u043f\\u0440\\u043e\\u0449\\u0435\",\"\\u0433\\u043e\\u0434\\u0430.\",\"\\u0441\\u0430\\u0436\\u0430\\u0442\\u044c\",\"\\u0434\\u0440\\u0443\\u0436\\u0435\\u0441\\u043a\\u0430\\u044f,\",\"\\u0438\\u0441\\u0442\\u043e\\u0440\\u0438\\u044e\",\"\\u043f\\u043e\\u0441\\u043b\\u0435\\u0434\\u043d\\u0438\\u0435\",\"\\u0432\\u0430\\u0436\\u043d\\u043e\\u0433\\u043e.\",\"\\u043f\\u0435\\u0440\\u0432\\u043e\\u0433\\u043e\",\"\\u0438\\u043c\\u0435\\u044e\\u0442\",\"\\u0441\\u043a\\u0430\\u0437\\u0430\\u043d\\u043e\",\"\\u043a\\u0430\\u043a\\u043e\\u0439-\\u0442\\u043e\",\"\\u043f\\u0438\\u0437\\u0434\\u0430\",\"\\u0441\\u043c\\u0435\\u0448\\u043d\\u043e\",\"\\u043d\\u0435\\u0434\\u0435\\u043b\\u0438\",\"80\",\"\\u043c\\u0430\\u0448\\u0438\\u043d\\u044b\",\"\\u043f\\u0440\\u0438\\u0448\\u043b\\u0430\",\"\\u0434\\u043e\\u0431\\u0440\\u044b\\u0435!\",\"\\u0441\\u0434\\u0435\\u043b\\u0430\\u043b\\u0430\",\"\\u043c\\u0430\\u043b\\u044c\\u0447\\u0438\\u043a\",\"\\u0442.\\u0434.\",\"\\u0430\\u0432\\u0433\\u0443\\u0441\\u0442\\u0435\",\"\\u0447\\u0435\\u043b\\u043e\\u0432\\u0435\\u043a.\",\"\\u043d\\u0430\\u0442\\u0430\\u043b\\u044c\\u044f\",\"\\u0434\\u0435\\u0442\\u0441\\u0442\\u0432\\u0435\",\"\\u0441\\u0430\\u0439\\u0442\\u0435\",\"\\u043f\\u0440\\u043e\\u0448\\u043b\\u043e\",\"\\u0441\\u0430\\u043c\\u0438\\u0445\",\"\\u043b\\u0438\\u0446\\u0430\",\"\\u043a\\u0443\\u043f\\u0438\\u043b\\u0430\",\"\\u043d\\u043e,\",\"\\u043e\\u0442\\u043d\\u043e\\u0448\\u0435\\u043d\\u0438\\u0435\",\"\\u043a\\u043e\\u0442\\u043e\\u0440\\u043e\\u0435\",\"))\",\"\\u043d\\u0435\\u0434\\u0430\\u0432\\u043d\\u043e\",\"\\u0431\\u0430\\u043d\\u043a\\u0438\",\"\\u043a\\u043e\\u043b\\u0438\\u0447\\u0435\\u0441\\u0442\\u0432\\u043e\",\"\\u0434\\u0435\\u0442\\u0441\\u0442\\u0432\\u0430\",\"\\u043f\\u043e\\u0437\\u0434\\u0440\\u0430\\u0432\\u043b\\u044f\\u0435\\u043c\",\"\\u0441\\u043f\\u0430\\u0442\\u044c\",\"\\u043d\\u0430\\u043b\\u0438\\u0447\\u0438\\u0438\",\"\\u0434\\u0435\\u043b\\u0430\\u043b\\u0438\",\"\\u043f\\u0443\\u0442\\u0438\",\"\\u0437\\u0430\\u0440\\u043f\\u043b\\u0430\\u0442\\u044b\",\"\\u0437\\u0430\\u0440\\u043f\\u043b\\u0430\\u0442\\u0430\",\"\\u0448\\u043b\\u044e\\u0445\\u0430\",\"\\u0434\\u0443\\u043c\\u0430\\u044e\\u0442\",\"\\u043b\\u0435\\u043d\\u0442\\u0435\",\"\\u0447\\u0435\\u0441\\u0442\\u043d\\u043e\",\"\\u043c\\u0430\\u0448\\u0438\\u043d\\u0430\",\"\\u0436\\u0438\\u043b\\u0430\",\"\\u043b\\u044e\\u0434\\u044c\\u043c\\u0438\",\"\\u0432\\u0440\\u0430\\u0447\\u0438\",\"\\u0442\\u0435,\",\"\\u043c\\u044f\\u0441\\u043e\",\"\\u0438\\u043d\\u0442\\u0435\\u0440\\u043d\\u0435\\u0442\",\"\\u0432\\u044b\\u0440\\u0443\\u0447\\u0430\\u0439\\u0442\\u0435,\",\"\\u0443\\u043b.\",\"\\u0442\\u0440\\u0443\\u0434\",\"\\u043c\\u0443\\u0441\\u043e\\u0440\",\"\\u0432\\u0438\\u0434\\u0430\\u0442\\u044c\",\"\\u043c\\u043e\\u0437\\u0433\\u043e\\u0432\",\"\\u0434\\u0435\\u0442\\u0435\\u0439,\",\"\\u043e\\u043a\\u0430\\u0437\\u0430\\u043b\\u043e\\u0441\\u044c!\",\"\\u043f\\u043e\\u0437\\u0434\\u043d\\u043e\",\"\\u0441\\u043e\\u0431\\u043e\\u043b\\u0435\\u0437\\u043d\\u043e\\u0432\\u0430\\u043d\\u0438\\u044f\",\"\\u0441\\u0442\\u0430\\u0440\\u0430\\u044f\",\"\\u0441\\u0447\\u0430\\u0441\\u0442\\u044c\\u044f,\",\"\\ud83d\\ude0a\",\"\\u043f\\u0440\\u0435\\u043a\\u0440\\u0430\\u0441\\u043d\\u044b\\u0439\",\"\\u043e\\u0431\\u0440\\u0430\\u0449\\u0430\\u0442\\u044c\\u0441\\u044f\",\"\\u0433\\u043d\\u0438\\u0434\\u0430\",\"\\u043d\\u0430\\u043f\\u0438\\u0441\\u0430\\u043b\",\"\\u0441\\u0443\\u043f\\u0435\\u0440!\",\"\\u043d\\u0435\\u043e\\u0431\\u0445\\u043e\\u0434\\u0438\\u043c\\u043e\",\"\\u0436\\u0438\\u0437\\u043d\\u044c.\",\"\\u0442.\",\"\\u0434\\u0435\\u0440\\u0435\\u0432\\u043d\\u0435\",\"\\u0445\\u0430\",\"\\u0430\\u0434\\u0443\",\"\\u0432\\u0430\\u0448\\u0435\\u043c\\u0443\",\"\\u043f\\u043e\\u043c\\u043e\\u0436\\u0435\\u0442\",\"\\u0445\\u043e\\u0437\\u044f\\u0438\\u043d\",\"\\u0431\\u044b,\",\"\\u043d\\u0430\\u0448\\u043b\\u0430\",\"\\u043f\\u0430\\u0440\\u0435\\u043d\\u044c\",\"\\u0433\\u043e\\u0432\\u043e\\u0440\\u0438\\u043b\",\"\\u0443\\u043a\\u0440\\u0430\\u0438\\u043d\\u0430\",\"\\u043f\\u0440\\u0430\\u0432\\u0434\\u0443\",\"\\u043a\\u043e\\u043c\\u043c\\u0435\\u043d\\u0442\\u0430\\u0440\\u0438\\u0439\",\"\\u0438\\u0440\\u0438\\u043d\\u0430\",\"\\u0441\\u043e\\u0431\\u0440\\u0430\\u0442\\u044c\",\"\\u0441\\u043e\\u0433\\u043b\\u0430\\u0441\\u0435\\u043d\",\"\\u0436\\u0435.\",\"\\u0432\\u043e\\u0437\\u0440\\u0430\\u0441\\u0442\\u0435\",\"\\u0445\\u0443\\u0439\\u043d\\u044e\",\"\\u0437\\u0434\\u043e\\u0440\\u043e\\u0432\\u044c\\u044f.\",\"\\u0431\\u044b\\u0432\\u0430\\u044e\\u0442\",\"\\u043d\\u0430\\u0447\\u0430\\u043b\\u0438\",\"\\u0436\\u0438\\u0432\\u0438\\u0442\\u0435\",\"\\u043f\\u0440\\u0438\\u0448\\u043b\\u043e\\u0441\\u044c\",\"\\u043f\\u0440\\u0435\\u043a\\u0440\\u0430\\u0441\\u043d\\u044b\\u0435\",\"\\u043d\\u0430\\u0441,\",\"\\u0431\\u0430\\u0431\\u0443\\u0448\\u043a\\u0438\",\"\\u043a\\u0430\\u0436\\u0434\\u043e\\u043c\",\"70\",\"\\u043b\\u044e\\u0434\\u0438.\",\"\\u0447\\u0447\",\"\\u0445\\u043e\\u0440\\u043e\\u0448\\u0438\\u0445\",\"\\u043d\\u0430\\u0447\\u0430\\u043b\\u0435\",\"\\u043d\\u0438\\u0436\\u0435\",\"\\u043e\\u0441\\u0442\\u0440\\u043e\\u0432\",\"\\u043e\\u043a\",\"\\u0447\\u0443\\u0448\\u044c\",\"\\u0440\\u0435\\u0437\\u0443\\u043b\\u044c\\u0442\\u0430\\u0442\",\"\\u043f\\u0435\\u043d\\u0441\\u0438\\u044f\",\"13\",\"\\u0440\\u0430\\u0434\\u0430\",\"\\u0441\\u0442\\u0430\\u043d\\u043e\\u0432\\u0438\\u0442\\u0441\\u044f\",\"\\u0440\\u043e\\u0434\\u043d\\u043e\\u0439\",\"\\u043c\\u0435\\u0441\\u044f\\u0446\\u0435\\u0432\",\"\\u0432\\u0441\\u0451,\",\"\\u0443\\u0448\\u0438\",\"\\u0438\\u0437\\u0432\\u0438\\u043d\\u0438\\u0442\\u0435\",\"\\u043c\\u0430\\u043b\\u0435\\u043d\\u044c\\u043a\\u0438\\u0435\",\"\\u0434\\u043e\\u0440\\u043e\\u0433\\u0443\",\"\\u0447\\u0430\\u0441\\u0430\",\"\\u043c\\u0438\\u043c\\u043e\",\"\\u0437\\u0430\\u043a\\u043e\\u043d\\u044b\",\"\\u0432\\u0435\\u0440\\u0438\\u0442\\u044c\",\"\\u0440\\u043e\\u0441\\u0442\",\"\\u0441\\u043e\\u0431\\u0430\\u043a\",\"\\u043a\\u0441\\u0442\\u0430\\u0442\\u0438\",\"\\u0432\\u0435\\u0440\\u044e\",\"\\u043f\\u0440\\u043e\\u0438\\u0437\\u043e\\u0448\\u043b\\u043e\",\"\\u043f\\u0438\\u0434\\u0430\\u0440\",\"\\u0434\\u0430\\u0451\\u0442\",\"\\u0441\\u0443\\u0434\\u044f\",\"\\u0431\\u043e\\u043b\\u044c\\u043d\\u043e\",\"\\u0446\\u0435\\u043b\\u044b\\u0439\",\"\\u0441\\u0442\\u043e\\u0438\\u043c\\u043e\\u0441\\u0442\\u044c\",\"\\u0432\\u0435\\u0448\\u0430\\u0442\\u044c\",\"\\u0440\\u0430\\u0441\\u0442\\u0443\\u0442\",\"\\u0434\\u0443\\u043c\\u0430\\u043b\\u0430\",\"\\u043f\\u0435\\u0441\\u043d\\u044f\",\"\\u043f\\u043b\\u044e\\u0441\",\"\\u0433\\u043e\\u0441\\u0443\\u0434\\u0430\\u0440\\u0441\\u0442\\u0432\\u0430\",\"\\u043a\\u043e\\u0442\\u043e\\u0440\\u044b\\u043c\",\"\\u0442\\u0435\\u043c,\",\"\\u0431\\u043b\\u044f\\u0434\\u0438\",\"\\u0434\\u0430.\",\"\\u043d\\u043e\\u043c\\u0435\\u0440\\u0443\",\"\\u0432\\u0440\\u0435\\u043c\\u044f,\",\"\\u043a\\u043e\\u043d\\u0435\\u0446\",\"\\u0432\\u0438\\u0434\\u0438\\u0442\",\"\\u0433\\u0430\\u0437\",\"\\u043f\\u043e\\u043a\\u0430\\u0437\\u0430\\u0442\\u044c\",\"\\u0436\\u0438\\u0432\\u043e\\u0442\\u043d\\u044b\\u0435\",\"\\u043c\\u0430\\u0442\\u0435\\u0440\\u0438\",\"\\u0440\\u0430\\u0431\\u043e\\u0442\\u0430\\u043b\",\"\\u043f\\u0443\\u0442\\u0438\\u043d\\u0443\",\"\\u0432\\u0430\\u043c.\",\",,\",\"\\u043d\\u0438\\u043a\\u0430\\u043a\\u043e\\u0439\",\"\\u0433\\u043e\\u0432\\u043d\\u043e\",\"\\u043c\\u043e\\u043b\\u043e\\u043a\\u043e\",\"\\u0443\\u0432\\u0430\\u0436\\u0435\\u043d\\u0438\\u0435\",\"\\u043d\\u043e\\u0447\\u044c\\u044e\",\"\\u0430\\u0432\\u0442\\u043e\\u0440\\u0438\\u0437\\u0430\\u0446\\u0438\\u0438\",\"\\u043f\\u043e\\u043b\\u0443\\u0447\\u0430\\u044e\\u0442\",\".\\u0430\",\"\\u043e\\u0442\\u0440\\u0443\\u0431\\u0438\\u0442\\u044c\",\"\\u043a\\u043e\\u0442\\u043e\\u0440\\u043e\\u043c\",\"\\u0443\\u043c\\u043d\\u0438\\u0446\\u0430\",\"\\u0434\\u043e\\u0440\\u043e\\u0433\\u0430\",\"\\u043f\\u0440\\u043e\\u0448\\u043b\\u043e\\u043c\",\"\\u0433\\u043b\\u0430\\u0437\\u0430\\u0445\",\"\\u043e\\u0442\\u043b\\u0438\\u0447\\u043d\\u044b\\u0439\",\"\\u043b\\u0435\\u0433\\u0447\\u0435\",\"\\u043d\\u0430\\u043f\\u0440\\u0438\\u043c\\u0435\\u0440\",\"\\u043e\\u0442\\u0434\\u0430\\u0442\\u044c\",\"\\u043c\\u043e\\u0438\\u043c\",\"\\u0433\\u043e\\u0441\\u043f\\u043e\\u0434\\u0438,\",\"\\u0445\\u043e\\u0434\\u0443\",\"\\u0440\\u0435\\u0448\\u0438\\u043b\",\"\\u0440\\u0430\\u043d\\u043e\",\"\\u0440\\u0435\\u0447\\u044c\",\"\\u0441\\u043f\\u0435\\u0446\\u0438\\u0430\\u043b\\u044c\\u043d\\u043e\",\"\\u0445\\u0440\\u0435\\u043d\\u0430\",\"\\u043e\\u0442\\u0432\\u0435\\u0447\\u0430\\u0442\\u044c\",\"\\u0431\\u043b\\u0438\\u0436\\u0435\",\"\\u043f\\u043b\\u043e\\u0449\\u0430\\u0434\\u0438\",\"\\u0442\\u0430\\u043c,\",\"\\u0434\\u0435\\u0442\\u0441\\u0442\\u0432\\u043e\",\"\\u0433\\u043e\\u043b\\u043e\\u0441\",\"\\u0432\\u043e\\u0439\\u043d\\u0430\",\"\\u0437\\u0430\\u043c\\u0435\\u0447\\u0430\\u0442\\u0435\\u043b\\u044c\\u043d\\u044b\\u0439\",\"\\u0431\\u0435\\u0434\\u043d\\u044b\\u0439\",\"2020\",\"\\u043f\\u043e\\u0445\\u043e\\u0436\",\"\\u0441\\u043b\\u0443\\u0448\\u0430\\u0442\\u044c\",\"\\u0445\\u0443\\u044f\",\"\\u0432\\u0440\\u0430\\u0447\",\"\\u0441\\u043b\\u043e\\u0432\\u043e\\u043c\",\"\\u0430\\u0431\\u0441\\u043e\\u043b\\u044e\\u0442\\u043d\\u043e\",\"\\u043f\\u0440\\u0438\\u0432\\u0435\\u0442!\",\"\\u0441\\u0430\\u0439\\u0442\",\"\\u043f\\u0440\\u0430\\u043a\\u0442\\u0438\\u0447\\u0435\\u0441\\u043a\\u0438\",\"\\u0441\\u043e\\u0441\\u0438\",\"\\u0436\\u0435\\u043b\\u0430\\u043d\\u0438\\u0435\",\"\\u043f\\u043e\\u043c\\u043e\\u0433\\u0438\",\"\\u0438\\u0441\\u043a\\u0430\\u0442\\u044c\",\"\\u0437\\u0438\\u043c\\u043e\\u0439\",\"\\u0441\\u043a\\u0430\\u0437\\u0430\\u043b\\u0430\",\"\\u0441\\u043b\\u0435\\u0434\\u0443\\u044e\\u0449\\u0438\\u0439\",\"\\u0442\\u0435\\u0431\\u044f,\",\"\\u0434\\u0443\\u043c\\u0430\\u0435\\u0442\\u0435\",\"\\u0433\\u0435\\u0440\\u043c\\u0430\\u043d\\u0438\\u0438\",\"\\u043b\\u0441\",\"\\u0441\\u043e\\u0431\\u0430\\u043a\\u0443\",\"\\u043d\\u0435\\u043c\\u0443\",\"\\u0441\\u043e\\u044e\\u0437\",\"\\u043e\\u0441\\u0442\\u0430\\u043d\\u0435\\u0442\\u0441\\u044f\",\"\\u043c\\u043e\\u043b\\u043e\\u0434\\u0446\\u044b!\",\"\\u043f\\u0443\\u0442\\u044c\",\"\\u0442\\u0443\\u043f\\u043e\\u0439\",\"\\u0438\\u0441\\u0442\\u043e\\u0440\\u0438\\u0438\",\"\\u043d\\u0430\\u0447\\u043d\\u0443\\u0442\",\"\\u043f\\u043e\\u0432\\u0435\\u0437\\u043b\\u043e\",\"\\u043e\\u0433\\u0443\\u0440\\u0446\\u044b\",\"\\u0437\\u0447\",\"\\u0432\\u0435\\u043b\\u0438\\u043a\\u0438\\u0439\",\"\\u0441\\u043e\\u043b\\u0438\",\"\\u0437\\u043e\\u0432\\u0443\\u0442\",\"\\u043e\\u0441\\u043d\\u043e\\u0432\\u043d\\u043e\\u043c\",\"\\u043e\\u0441\\u0442\\u0430\\u043b\\u0441\\u044f\",\"\\u043a\\u0430\\u0441\\u0442\\u0440\\u0438\\u0440\\u043e\\u0432\\u0430\\u0442\\u044c\",\"\\u0433\\u043e\\u0441\\u043f\\u043e\\u0434\\u0430\",\"\\u0438\\u043d\\u0444\\u043e\\u0440\\u043c\\u0430\\u0446\\u0438\\u044e\",\"\\u0441\\u0442\\u0438\\u0445\\u0438\",\"\\u0445\\u043e\\u0434\\u0438\\u043b\\u0438\",\"\\u0442\\u0435\\u0440\\u0440\\u0438\\u0442\\u043e\\u0440\\u0438\\u0438\",\"\\u043f\\u0440\\u0435\\u043a\\u0440\\u0430\\u0441\\u043d\\u0430\\u044f\",\"\\u0432\\u0430\\u0448\\u0435\\u043c\",\"\\u0434\\u0435\\u0440\\u044c\\u043c\\u043e\",\"\\u043f\\u043e\\u043b\\u0435\",\"\\u043f\\u0435\\u0440\\u0432\\u044b\\u0445\",\"\\u0446\\u0430\\u0440\\u0441\\u0442\\u0432\\u043e\",\"\\u043f\\u0440\\u043e\\u0431\\u043b\\u0435\\u043c\\u0430\",\"\\u0438\\u0433\\u0440\\u044b\",\"\\u0440\\u0443\\u043a\\u0430\\u0445\",\"\\u043f\\u0440\\u0438\\u0434\\u0443\\u0440\\u043e\\u043a\",\"\\u0440\\u0430\\u0437\\u043d\\u044b\\u0445\",\"\\u0442\\u0432\\u043e\\u0438\\u0445\",\"\\u0441\\u043c\\u0435\\u0440\\u0442\\u0438\",\"\\u0445\\u043e\\u0434\\u044f\\u0442\",\"\\u0447\\u0437\",\"\\u0441\\u043e\\u0441\\u0442\\u043e\\u044f\\u043d\\u0438\\u0435\",\"\\u043e\\u0439,\",\"\\u0434\\u043e\\u043b\\u0433\\u0438\\u0435\",\"\\u043e\\u0442\\u043b\\u0438\\u0447\\u043d\\u043e\",\"\\u043f\\u043e\\u043b\\u0443\\u0447\\u0438\\u043b\\u0438\",\"\\u043e\\u043f\\u044b\\u0442\",\"18\",\"\\u0438\\u043d\\u0444\\u043e\\u0440\\u043c\\u0430\\u0446\\u0438\\u044f\",\"\\u043c\\u043e\\u0441\\u043a\\u0432\\u0430\",\"\\u0435\\u0445\\u0430\\u0442\\u044c\",\"\\u0431\\u044b.\",\"\\u0432\\u0437\\u044f\\u043b\\u0438\",\"\\u0431\\u0440\\u0430\\u0442\",\"\\u0437\\u0430\\u0435\\u0431\\u0430\\u043b\\u0438\",\"\\u0434\\u043e\\u043a\\u0443\\u043c\\u0435\\u043d\\u0442\\u044b\",\"\\u0441\\u0435\\u0431\\u044f,\",\"\\u043a\\u043b\\u0430\\u0441\\u0441!\",\"\\u0443\\u043a\\u0440\\u0430\\u0438\\u043d\\u044b\",\"\\u0440\\u043e\\u0434\\u043d\\u044b\\u0435\",\"\\u043c\\u043e\\u043b\\u043e\\u0434\\u0435\\u0446.\",\"\\u043b\\u0435\\u0442\\u043e\\u043c\",\"\\u0431\\u043e\\u043b\\u044c\\u0448\\u0438\\u043d\\u0441\\u0442\\u0432\\u043e\",\"\\u0431\\u044b\\u0441\\u0442\\u0440\\u0435\\u0435\",\"\\u043f\\u043e\\u043b\\u043d\\u043e\\u0439\",\"\\u043a\\u0432\\u0430\\u0440\\u0442\\u0438\\u0440\\u0430\",\"\\u0448\\u043a\\u043e\\u043b\\u0430\",\"\\u0441\\u043e\\u0441\\u0442\\u043e\\u044f\\u043d\\u0438\\u0438\",\"\\u043d\\u0430\\u043a\\u043e\\u043d\\u0435\\u0446\",\"\\u043d\\u0430\\u0437\\u0432\\u0430\\u043d\\u0438\\u0435\",\"\\u0441\\u0442\\u0430\\u0442\\u044c\",\"\\u0434\\u0430\\u0432\\u0438\\u0442\\u044c\",\"\\u043f\\u043e\\u043b\\u0443\\u0447\\u0438\\u043b\\u043e\\u0441\\u044c\",\",\\u043d\\u0435\",\"\\u043e\\u0431\\u0430\",\"\\u043e\\u0442\\u0446\\u0430\",\"\\u0440\\u043e\\u0436\\u0434\\u0435\\u043d\\u0438\\u044f,\",\"\\u043d\\u0430\\u0437\\u0432\\u0430\\u0442\\u044c\",\"\\u0443\\u0432\\u0438\\u0434\\u0435\\u0442\\u044c\",\"\\u043f\\u043e\\u0448\\u0451\\u043b\",\"\\u043c\\u043e\\u043b\\u043e\\u0434\\u0446\\u044b,\",\"\\u0441\\u043e\\u0432\\u0435\\u0441\\u0442\\u044c\",\"\\u0437\\u0435\\u043c\\u043b\\u044e\",\"\\u0434\\u0435\\u0442\\u043a\\u0438\",\"\\u043a\\u043b\\u0430\\u0441\\u0441\\u043d\\u0430\\u044f\",\"\\ud83e\\udd23\",\"\\u0435\\u0431\\u043b\\u043e\",\"\\u0441\\u0432\\u043e\\u0451\\u043c\",\"\\u0443\\u043c\\u043d\\u0438\\u0447\\u043a\\u0430\",\"\\ud83d\\ude02\\ud83d\\ude02\\ud83d\\ude02\",\"\\u044f\\u0432\\u043b\\u044f\\u0435\\u0442\\u0441\\u044f\",\"\\u043e\\u0442\\u0440\\u0435\\u0437\\u0430\\u0442\\u044c\",\"\\u0433\\u043e\\u0442\\u043e\\u0432\",\"\\u043f\\u0435\\u0440\\u043e\",\"\\u043d\\u043e\\u0440\\u043c\\u0430\\u043b\\u044c\\u043d\\u044b\\u0439\",\"\\u0437\\u0434\\u043e\\u0440\\u043e\\u0432\\u044c\\u044f!\",\"\\u043a\\u043e\\u0448\\u043a\\u0430\",\"\\u0432\\u0440\\u0435\\u043c\\u044f.\",\"\\u043d\\u0430\\u0441.\",\"\\u0436\\u0438\\u0432\\u0451\\u043c\",\"\\u043f\\u043e\\u0434\\u0441\\u043a\\u0430\\u0436\\u0438\\u0442\\u0435,\",\"\\u0431\\u043b\\u0430\\u0433\\u043e\\u0434\\u0430\\u0440\\u044f\",\"\\u0432\\u0435\\u0441\\u0442\\u0438\",\"\\u0442\\u043e.\",\"\\u0442\\u043e\\u0436\\u0435.\",\"\\u043a\\u0430\\u0436\\u0434\\u044b\\u043c\",\"\\u0432\\u044b\\u0431\\u043e\\u0440\",\"\\u0440\\u043e\\u0434\\u0438\\u043b\\u0441\\u044f\",\"\\u0445\\u0443\\u0439\\u043b\\u043e\",\"\\u0434\\u0443\\u043c\\u0430\\u0435\\u0442\",\"\\u043f\\u043e\\u0441\\u043b\\u0435\\u0434\\u043d\\u0435\\u0435\",\"\\u0433\\u043e\\u0442\\u043e\\u0432\\u044b\",\"\\u0440\\u0430\\u0437\\u0443\",\"\\u0447\\u0438\\u0441\\u043b\\u0430\",\"\\u0440\\u0430\\u0431\\u043e\\u0442\\u0430\\u043b\\u0430\",\"\\u0443\\u043c\\u043d\\u044b\\u0439\",\"\\u0434\\u043e\\u043b\\u0431\\u043e\\u0435\\u0431\",\"\\u0432\\u0438\\u0434\\u0435\",\"\\u043c\\u043e\\u0437\\u0433\",\"\\u0441\\u043c\\u044b\\u0441\\u043b\",\"\\u043f\\u0440\\u0438\\u0432\\u0435\\u0442.\",\"\\u0436\\u0440\\u0430\\u0442\\u044c\",\"\\u0441\\u0435\\u0431\\u044f.\",\"\\u0431\\u0435\\u0440\\u0443\\u0442\",\"\\u0443\\u043b\",\"\\u043a\\u0440\\u0430\\u0441\\u0438\\u0432\\u043e,\",\"\\u043e\\u0431\\u0440\\u0430\\u0437\\u043e\\u0432\\u0430\\u043d\\u0438\\u0435\",\"\\u043c\\u0430\\u043b\\u0435\\u043d\\u044c\\u043a\\u0430\\u044f\",\"\\u043b\\u044e\\u0431\\u0438\\u043c\",\"17\",\"21\",\"\\u044d\\u0442\\u043e,\",\"\\u0441\\u043c\\u043e\\u0442\\u0440\\u0438\",\"\\u043d\\u0430\\u0441\\u0435\\u043b\\u0435\\u043d\\u0438\\u044f\",\"\\u0434\\u0432\\u043e\\u0440\\u0435\",\"\\u0442\\u0435\\u043c\\u0443\",\"\\u0447\\u0430\\u0449\\u0435\",\"\\u0438\\u043d\\u0442\\u0435\\u0440\\u043d\\u0435\\u0442\\u0435\",\"\\u0432\\u0438\\u0440\\u0443\\u0441\",\"\\u043f\\u043e\\u043b\\u0443\\u0447\\u0430\\u0442\\u044c\",\"\\u0433\\u0434\\u0435?\",\"\\u043d\\u043e\\u0432\\u043e\\u0441\\u0442\\u0438\",\"\\u0437\\u043d\\u0430\\u043b\",\"\\u0431\\u043b\\u0430\\u0433\\u043e\\u043f\\u043e\\u043b\\u0443\\u0447\\u0438\\u044f\",\"\\u0443\\u0434\\u0430\\u0440\",\"\\u0431\\u0435\\u043b\\u044b\\u0439\",\"\\u043f\\u0440\\u043e\\u0434\\u0430\\u044e\\u0442\",\"\\u0432\\u0441\\u0435\\u043c,\",\"\\u0434\\u0435\\u043d\\u044c\\u0433\\u0438.\",\"\\u043b\\u0438?\",\"\\u043b\\u044e\\u0431\\u0438\\u0442\\u0435\",\"\\u0440\\u0430\\u0437.\",\"\\u043d\\u0430\\u0448\\u0435\\u043c\\u0443\",\"\\u0438\\u0431\\u043e\",\"\\u0440\\u0443\\u043a\\u0430\",\"\\u0448\\u043a\\u043e\\u043b\\u044b\",\"\\u043d\\u0435\\u043a\\u043e\\u0442\\u043e\\u0440\\u044b\\u0445\",\"\\u0434\\u0440\\u0443\\u0433\\u0443\\u044e\",\"\\u0434\\u043e\\u0441\\u0442\\u0430\\u0442\\u043e\\u0447\\u043d\\u043e\",\"\\u0440.\",\"\\u0432\\u044b\\u0431\\u043e\\u0440\\u044b\",\"\\u0432\\u044b\\u0448\\u0435\\u043b\",\"\\u0434\\u0430\\u043d\\u043d\\u044b\\u0439\",\"q\",\"\\u043a\\u0440\\u0430\\u0441\\u0438\\u0432\\u043e\\u0435\",\"\\u0431\\u043b\\u044f\\u0434\\u0435\\u0439\",\"\\u043f\\u0440\\u0438\\u0434\\u0451\\u0442\",\"\\u0440\\u0435\\u0448\\u0438\\u043b\\u0438\",\"\\u0441\\u0435\\u0440\\u0434\\u0446\\u0430\",\"\\u0440\\u0430\\u0431\\u043e\\u0442\\u0430\\u043b\\u0438\",\"\\u0448\\u043e\",\"\\u043f\\u0438\\u0434\\u043e\\u0440\\u0430\\u0441\\u043e\\u0432\",\"\\u043c\\u0430\\u0448\\u0438\\u043d\\u0443\",\"\\u0432\\u0435\\u0434\\u0440\\u043e\",\"\\u0447\\u0438\\u0441\\u0442\\u043e\",\"\\u0432\\u043e\\u0442,\",\"\\u043f\\u043e\\u0434\\u0432\\u0435\\u0441\\u0438\\u0442\\u044c\",\"\\u043a\\u0430\\u0436\\u0434\\u0443\\u044e\",\"\\u0446\\u0435\\u043d\\u0442\\u0440\\u0435\",\"\\u0432\\u0441\\u0435\\u0445,\",\"\\u0443\\u0432\\u0438\\u0434\\u0435\\u043b\\u0430\",\"\\u043f\\u0440\\u043e\\u0441\\u0442\\u0438\",\"\\u043f\\u043e\\u0434\\u0435\\u043b\\u0438\\u0442\\u044c\\u0441\\u044f\",\"\\u043c\\u043d\\u043e\\u0433\\u043e\\u0435\",\"\\u0437\\u0430\\u043f\\u0440\\u043e\\u0441\",\"\\u043e\\u0431\\u0440\\u0430\\u0442\\u043d\\u043e\",\"\\u0433\\u0435\\u0440\\u043e\\u0439\",\"\\u044d\\u0442\\u043e.\",\"\\u0432\\u0441\\u044f\\u043a\\u0438\\u0445\",\"\\u0438\\u0433\\u0440\\u0435\",\"\\u043b\\u0435\\u0447\\u0438\\u0442\\u044c\",\"\\u043f\\u0438\\u0434\\u043e\\u0440\\u0430\\u0441\",\"\\u0443\\u043c\\u043d\\u044b\\u0435\",\"\\u0442\\u0435\\u0440\\u043f\\u0435\\u0442\\u044c\",\"\\u043e\\u0442\\u043d\\u043e\\u0448\\u0435\\u043d\\u0438\\u044f\",\"\\u043c\\u0430\\u0433\\u0430\\u0437\\u0438\\u043d\\u0435\",\"\\u0434\\u0443\\u0440\\u0430\\u043a\",\"\\u0441\\u043e\\u0445\\u0440\\u0430\\u043d\\u0438\\u0442\\u044c\",\"\\u043c\\u044b\\u0441\\u043b\\u0438\",\"\\u043c\\u043d\\u0435,\",\"\\u043d\\u0430\\u0447\\u0430\\u043b\\u043e\",\"\\u0434\\u0435\\u0442\\u0435\\u0439.\",\"\\u0434\\u0435\\u043b\\u0430\\u0439\\u0442\\u0435\",\"\\ud83d\\ude09\",\"\\u0441\\u0432\\u043e\\u044f\",\"\\ud83c\\udf81\",\"\\u0434\\u043e\\u0431\\u0440\\u044b\\u0445\",\"\\u043d\\u0430\\u0441\\u0442\\u043e\\u044f\\u0449\\u0430\\u044f\",\"\\u0438\\u0434\\u0438\\u043e\\u0442\\u044b\",\"\\u0431\\u043e\\u043e\",\"\\u043d\\u0430\\u043f\\u0438\\u0441\\u0430\\u043b\\u0430\",\"\\u0437\\u0430\\u043f\\u0430\\u0445\",\"\\u0434\\u0435\\u0434\",\"\\u043c\\u043e\\u0436\\u0435\\u0442,\",\"\\u0433\\u043e\\u0432\\u043e\\u0440\\u0438\\u043b\\u0438\",\"\\u0432\\u0430\\u043c!\",\"19\",\"\\u043e\\u0441\\u0442\\u0430\\u0432\\u0438\\u0442\\u044c\",\"\\u0447\\u0435\\u043b\\u043e\\u0432\\u0435\\u043a\\u0430.\",\"\\u043f\\u0440\\u0430\\u0432\\u0434\\u0430,\",\"\\u0434\\u0435\\u043f\\u0443\\u0442\\u0430\\u0442\\u044b\",\"\\u0434\\u043e\\u0431\\u0430\\u0432\\u044c\\u0442\\u0435\",\"\\u0441\\u0430\\u043c\\u0438\\u043c\",\"\\u0440\\u0430\\u0437\\u043d\\u0438\\u0446\\u0430\",\"\\u043d\\u043e\\u0440\\u043c\\u0430\\u043b\\u044c\\u043d\\u044b\\u0435\",\"\\u0437\\u0430\\u0431\\u0440\\u0430\\u043b\\u0438\",\"\\u043c\\u0430\\u044f\",\"\\u043f\\u043e\\u0445\\u043e\\u0436\\u0430\",\"\\u0433\\u0430\\u043d\\u0434\\u043e\\u043d\",\"\\u043e\\u043a\\u0430\\u0437\\u044b\\u0432\\u0430\\u0435\\u0442\\u0441\\u044f\",\"\\u0442\\u0430\\u043a\\u043e\\u043c\\u0443\",\"\\u044f\\u0441\\u043d\\u043e\",\"\\u043d\\u0430\\u0434\\u043e\\u0435\\u043b\\u0438\",\",\\u044f\",\"\\u0438\\u0434\\u0438\\u043e\\u0442\",\"\\u0442\\u0435\\u043b.\",\"\\u0443\\u043c\\u0435\\u044e\\u0442\",\"\\u043f\\u0440\\u0438\\u0445\\u043e\\u0434\\u0438\\u0442\",\"\\u0436\\u0430\\u0440-\\u043f\\u0442\\u0438\\u0446\\u044b\",\"\\u0435\\u0444\\u0440\\u0435\\u043c\\u043e\\u0432\",\"\\u0443\\u043c\\u0435\\u0440\",\"\\u0442\\u043e\\u043b\\u043a\\u0443\",\"\\u0430\\u043b\\u0435\\u043a\\u0441\\u0435\\u0439\",\"\\u0440\\u0430\\u0437\\u043c\\u0435\\u0440\\u044b\",\"\\u0443\\u043a\\u0440\\u0430\\u0438\\u043d\\u0443\",\"\\u0444\\u043e\\u0440\\u043c\\u0430\",\"\\u043a\\u0440\\u0430\\u0441\\u043e\\u0442\\u044b\",\"\\u043d\\u043e\\u0432\\u0443\\u044e\",\"150\",\",\\u044d\\u0442\\u043e\",\"\\u0436\\u0438\\u0437\\u043d\\u044c,\",\"\\u043f\\u043e\\u043f\\u0440\\u043e\\u0431\\u043e\\u0432\\u0430\\u0442\\u044c\",\"\\u0434\\u0430\\u0441\\u0442\",\"\\u0436\\u0434\\u0451\\u0442\",\"\\u0442\\u0432\\u043e\\u0438\\u043c\",\"\\u0445\\u043e\\u0434\\u0438\\u0442\",\"\\u0432\\u0442\\u043e\\u0440\\u0430\\u044f\",\"\\u0447\\u0443\\u0436\\u043e\\u0439\",\"\\u0433\\u043e\\u0440\\u0435\",\"\\u043d\\u0430\\u0440\\u043e\\u0434\\u0430.\",\"\\u0443\\u043d\\u0438\\u0447\\u0442\\u043e\\u0436\\u0430\\u0442\\u044c\",\"\\u0432\\u0441\\u0451.\",\"\\u0431\\u043e\\u044f\\u0442\\u0441\\u044f\",\"\\u0431\\u0430\\u0442\\u044c\\u043a\\u0430\",\"\\u0430\\u0440\\u043c\\u0438\\u0438\",\"\\u0433\\u043e\\u0441\\u0442\\u0438\",\"\\u043f\\u043e\\u0434\\u0430\\u0440\\u043e\\u043a\",\"\\u043a\\u043e\\u0433\\u043e-\\u0442\\u043e\",\"\\u043f\\u043e\\u0434\\u0443\\u043c\\u0430\\u0442\\u044c\",\"\\u0432\\u0437\\u044f\\u043b\",\"\\u0438\\u0442\\u043e\\u0433\\u0435\",\"\\u043d\\u043e\\u0441\\u0438\\u0442\\u044c\",\"\\u0444\\u0443\\u0440\\u0433\\u0430\\u043b\",\"\\u043a\\u043b\\u0430\\u0441\\u0441\\u043d\\u044b\\u0435\",\"\\u043d\\u0430\\u0445\\u0435\\u0440\",\"\\u0443\\u0431\\u0438\\u043b\",\"\\u0441\\u043e\\u043e\\u0431\\u0449\\u0435\\u043d\\u0438\\u0435\",\"\\u0441\\u0438\\u043b\\u0430\",\"\\u0441\\u043c\\u043e\\u0442\\u0440\\u044f\\u0442\",\"\\u043f\\u043e\\u043d\\u0438\\u043c\\u0430\\u044e,\",\"\\u0441\\u043c\",\"\\u0434\\u043e\\u043b\\u0431\\u043e\\u0435\\u0431\\u044b\",\"\\u043a\\u043b\\u0430\\u0441\\u0441\\u044b\",\"\\u0447\\u0435\\u0440\\u043d\\u044b\\u0439\",\"\\u043f\\u043e\\u0441\\u043c\\u043e\\u0442\\u0440\\u0438\",\"\\u0440\\u0430\\u0431\\u043e\\u0442\\u0430\\u044e\",\"\\u0444\\u043e\\u0442\\u043e\\u0433\\u0440\\u0430\\u0444\\u0438\\u0438\",\"\\u0431\\u0435\\u0434\\u043d\\u044b\\u0435\",\"\\u0435\\u0431\\u0430\\u043b\",\"\\u0432\\u043f\\u043e\\u043b\\u043d\\u0435\",\"\\u0441\\u0435\\u043d\\u0442\\u044f\\u0431\\u0440\\u044f\",\"\\u0431\\u0443\\u0434\\u0435\\u0442?\",\"\\u0431\\u043e\\u043b\\u044c\\u043d\\u043e\\u0439\",\"\\u0433\\u043e\\u0440\\u0436\\u0443\\u0441\\u044c\",\"\\u0433\\u0440\\u0430\\u0436\\u0434\\u0430\\u043d\",\"\\u0441\\u043e\\u0432\\u0435\\u0441\\u0442\\u0438\",\"\\u0441\\u0430\\u043c\\u043e\",\"\\u043c\\u043e\\u0447\\u0438\\u0442\\u044c\",\"\\u0441\\u043a\\u0430\\u0436\\u0443\",\"\\u044d\\u0442\\u043e?\",\"\\u0437\\u043d\\u0430\\u0435\\u043c\",\"\\u043d\\u043e\\u0432\\u043e\\u0433\\u043e\",\"\\u043a\\u0440\\u0430\\u0441\\u043d\\u043e\\u0439\",\"\\u043f\\u0435\\u0440\\u0432\\u043e\\u043c\",\"\\u0442\\u0430\\u043b\\u0430\\u043d\\u0442\",\"\\u0441\\u0442\\u0430\\u043b\\u0438\\u043d\",\"\\u0447\\u0432\",\"\\u043c\\u0430\\u0441\\u0442\\u0435\\u0440\",\"\\u0432\\u043a\\u0443\\u0441\\u043d\\u044b\\u0439\",\"\\u043a\\u0440\\u0430\\u0441\\u0438\\u0432\\u043e.\",\"\\u0431\\u043e\\u0433\\u043e\\u043c\",\"\\u0430\\u043b\\u043b\\u0430\\u0445\",\"\\u043f\\u043e\\u043b\\u0443\\u0447\\u0438\\u0442\\u0441\\u044f\",\"\\u0441\\u043a\\u0430\\u0436\\u0438\",\"\\u043f\\u043e\\u043d\\u0438\\u043c\\u0430\\u044e\\u0442\",\"\\u043a\\u043e\\u0444\\u0435\",\"\\u043c\\u043e\\u0436\\u043d\\u043e.\",\"\\u043a\\u0430\\u043f\\u0438\\u0442\\u0430\\u043d\\u0430\",\"000\",\"\\u0434\\u043e\\u043c\\u0430.\",\"\\u043f\\u043e\\u043b\\u043d\\u0430\\u044f\",\"\\u0442\\u0440\\u0435\\u0431\\u0443\\u0435\\u0442\\u0441\\u044f\",\"\\u043f\\u043e\\u0442\\u043e\\u043c\\u0443,\",\"\\u0433\\u043e\",\"\\u0440\\u043e\\u0434\\u0438\\u043d\\u044b\",\"\\u043c\\u0443\\u0436\\u0438\\u043a\\u0430\",\"\\u0441\\u043c\\u043e\\u0442\\u0440\\u0438\\u0442\",\"\\u043f\\u0435\\u0440\\u0432\\u044b\\u0435\",\"\\u0441\\u0432\\u0435\\u0442\\u0435\",\"\\u043c\\u0443\\u0436\\u0438\\u043a\\u043e\\u0432\",\"\\u0444\\u043b\\u0430\\u0433\",\"\\ud83d\\ude21\",\"\\u043c\\u043e\\u043b\\u043e\\u0434\\u043e\\u0439\",\"\\u0434\\u043e\\u0440\\u043e\\u0436\\u0435\",\"\\u043f\\u0440\\u0438\\u0448\\u043b\\u043e\",\"\\u043f\\u0440\\u0430\\u0432\\u0438\\u043b\\u044c\\u043d\\u043e,\",\"\\u0434\\u0435\\u043f\\u0443\\u0442\\u0430\\u0442\\u043e\\u0432\",\"\\ud83d\\ude01\",\"\\u0432\\u0438\\u043d\\u043e\\u0432\\u0430\\u0442\",\"\\u0431\\u044b\\u043b\\u0430,\",\"\\u0437\\u0437\",\"\\u043d\\u0430\\u0447\\u0430\\u0442\\u044c\",\"\\u0441\\u0447\\u0438\\u0442\\u0430\\u044e\\u0442\",\"\\u0442\\u0438\\u0445\\u043e\",\"\\u043c\\u043e\\u043b\\u043e\\u0434\\u044b\\u0435\",\"\\u0431\\u0430\\u0431\\u043a\\u0438\",\"\\u0434\\u0443\\u043c\\u0430\\u043b\",\"\\u0437\\u0432\",\"\\u0432\\u0447\",\"\\u043f\\u0440\\u043e\\u0441\\u0442\\u044b\\u0445\",\"\\u0432\\u043e\\u043d\",\"\\u0437\\u0430\\u0434\\u043d\\u0438\\u0446\\u0443\",\"45\",\"\\u0442\\u0443\\u043f\\u0430\\u044f\",\"\\u043f\\u043e\\u0441\\u0442\",\"\\u0432\\u043d\\u0443\\u0442\\u0440\\u0438\",\"\\u0430\\u043d\\u0434\\u0440\\u0435\\u0439\",\"\\u0442\\u0440\\u0435\\u0442\\u0438\\u0439\",\"\\u0432\\u0435\\u0440\\u043d\\u0443\\u0442\\u044c\\u0441\\u044f\",\"\\u043d\\u0430\\u0434\\u043e\\u0435\\u043b\\u043e\",\"\\u0441\\u043b\\u0443\\u0447\\u0430\\u0439\\u043d\\u043e\",\"\\u043f\\u0440\\u0438\\u0434\\u0435\\u0442\",\"\\u043f\\u043e\\u0436\\u0430\\u043b\\u0443\\u0439\\u0441\\u0442\\u0430.\",\"\\u043a\\u0430\",\"\\u043a\\u043e\\u0440\\u043e\\u0447\\u0435\",\"\\u043d\\u043e\\u0432\\u043e\\u0435\",\"\\u043d\\u0438\\u043a\\u043e\\u043b\\u0430\\u0439\",\"\\u043a\\u0440\\u043e\\u0432\\u044c\",\"\\u043f\\u0430\\u043c\\u044f\\u0442\\u0438\",\"\\u0433\\u043e\\u0432\\u043e\\u0440\\u0438\\u0442\\u0435\",\"\\u0440\\u0430\\u0441\\u0441\\u0442\\u0440\\u0435\\u043b\",\"\\u0442\\u0432\",\"\\u0432\\u043e\\u0437\\u043c\\u043e\\u0436\\u043d\\u043e\\u0441\\u0442\\u0438\",\"\\u0445\\u0432\\u0430\\u0442\\u0430\\u0435\\u0442.\",\"\\u0440\\u0435\\u0441\\u043f\\u0435\\u043a\\u0442\",\"\\u0435\\u0433\\u043e,\",\"\\u0435\\u0431\\u0430\\u043b\\u043e\",\"\\u0437\\u0430\\u044f\\u0432\\u043b\\u0435\\u043d\\u0438\\u0435\",\"\\u043c\\u0438\\u043b\\u044b\\u0439\",\"\\u0433\\u043e\\u043b\\u043e\\u0432\\u0430\",\"\\u043d\\u0430\\u0434\\u043e!\",\"\\u0434\\u043e\\u0440\\u043e\\u0433\\u043e\",\"\\u0436\\u0435\\u043d\\u0449\\u0438\\u043d\\u0443\",\"\\u043d\\u0430\\u0434\\u0435\\u0436\\u0434\\u0430\",\"\\u0434\\u0435\\u043d\\u044c\\u0433\\u0438,\",\",\\u0442\\u043e\",\"\\u043e\\u0441\\u0442\\u0430\\u043b\\u0430\\u0441\\u044c\",\"\\u0430\\u0433\\u0430\",\"\\u0447\\u0435\\u043b\\u043e\\u0432\\u0435\\u043a\\u0430,\",\"\\u043d\\u0451\\u043c\",\"\\u0447\\u0438\\u0442\\u0430\\u044e\",\"\\u043d\\u0430\\u0441\\u0442\\u0440\\u043e\\u0435\\u043d\\u0438\\u044f\",\"\\u0432\\u0438\\u0434\\u043d\\u043e,\",\"\\u0447\\u0430\\u0441\\u0442\\u0438\",\"\\u043d\\u0430\\u043f\\u0438\\u0441\\u0430\\u043b\\u0438\",\"\\u043f\\u0440\\u043e\\u0439\\u0442\\u0438\",\"\\u0430\\u0432\\u0442\\u043e\",\"\\u043f\\u0438\\u0437\\u0434\\u0438\\u0442\\u044c\",\"\\u0436\\u0438\\u0432\\u0438\",\"\\u0436\\u0434\\u0451\\u043c\",\"\\u043a\\u043e\\u043f\\u0435\\u0439\\u043a\\u0438\",\"\\u0434\\u0440\\u0443\\u0433\\u0430\\u044f\",\"\\u043f\\u043e\\u0431\\u0435\\u0434\\u0430\",\"\\u0430\\u0432\\u0433\",\"\\u0442\\u0432\\u043e\\u0451\",\"\\u0441\\u043a\\u0430\\u0437\\u0430\\u0442\\u044c,\",\"\\u043b\\u0435\\u0447\\u0435\\u043d\\u0438\\u0435\",\"\\u043f\\u0438\\u0437\\u0434\\u0430\\u0431\\u043e\\u043b\",\"\\u043f\\u0438\\u0434\\u0430\\u0440\\u0430\\u0441\",\"\\u0442\\u043e\\u0447\\u043d\\u043e.\",\"\\u0443\\u0432\\u0430\\u0436\\u0430\\u044e\",\"\\u0441\\u043f\\u0440\\u043e\\u0441\\u0438\\u0442\\u044c\",\"\\u043f\\u0430\\u043c\\u044f\\u0442\\u044c.\",\"\\u043e\\u043f\\u043b\\u0430\\u0442\\u0430\",\"\\u0431\\u0430\\u0431\\u0430\",\"\\u043c\\u043e\\u043b\\u043e\\u0434\\u0435\\u0446!!!\",\"100%\",\"\\u0448\\u0435\\u044e\",\"\\u0444\\u0438\\u043b\\u044c\\u043c\\u044b\",\"\\u0434\\u043e\\u0440\\u043e\\u0433\\u0435\",\"\\u043d\\u0430\\u0447\\u0430\\u043b\",\"\\u0441\\u043c\\u043e\\u0433\",\"\\u0441\\u043d\\u044f\\u0442\\u044c\",\"\\u043f\\u0440\\u043e\\u0442\\u0438\\u0432\\u043d\\u043e\",\"\\u0441\\u043e\\u0441\\u0435\\u0434\\u0438\",\"\\u0440\\u0443\\u0441\\u0441\\u043a\\u043e\\u0433\\u043e\",\"\\u0431\\u0435\\u043b\\u044b\\u0435\",\"\\u0441\\u043b\\u043e\\u0436\\u043d\\u043e\",\"\\u0447\\u0438\\u0441\\u043b\\u0435\",\"\\u043f\\u0440\\u0438\\u043c\\u0438\\u0442\\u0435\",\"\\u0437\\u0430\\u0440\\u0430\\u043d\\u0435\\u0435\",\"\\u0441\\u0430\\u043c\\u044b\\u043c\",\"\\u0436\\u0435\\u043d\\u0443\",\"\\u043d\\u0443\\u0436\\u043d\\u043e.\",\"\\u0433\\u043e\\u0434.\",\"\\u0441\\u0442\\u043e\\u0438\\u0442\\u044c\",\"\\u0448\\u0442\",\"\\u0441\\u043e\\u0431\\u0438\\u0440\\u0430\\u0442\\u044c\",\"\\u043d\\u0435\\u0431\\u043e\",\"\\u043f\\u043e\\u043c\\u043d\\u0438\\u043c\",\"\\u043f\\u043e\\u0441\\u0442\\u0430\\u0432\\u0438\\u043b\\u0438\",\"\\u0436\\u0435\\u043b\\u0430\\u0435\\u043c\",\"\\u0441\\u0447\\u0438\\u0442\\u0430\\u044e\",\"\\u0434\\u0435\\u0432\\u0443\\u0448\\u043a\\u0438\",\"\\u043a\\u0440\\u0430\\u0441\\u0438\\u0432\\u043e!\",\"\\u0440\\u043e\\u0441\\u0441\\u0438\\u0439\\u0441\\u043a\\u043e\\u0439\",\"\\u043a\\u043e\\u0442\\u0430\",\"\\u0432\\u043e\\u0439\\u043d\\u0443\",\"\\u0437\\u0430\\u0439\\u0442\\u0438\",\"\\u0433\\u043e\\u0434\\u0430,\",\"\\u043c\\u0430\\u043b\\u044c\\u0447\\u0438\\u043a\\u0430\",\"\\u043a\\u0432\\u0430\\u0440\\u0442\\u0438\\u0440\\u044b\",\"\\u0441\\u0443\\u043c\\u043c\\u0443\",\"\\u043f\\u0435\\u0440\\u0435\\u0434\\u0430\\u0442\\u044c\",\"2000\",\"\\u0440\\u043e\\u0434\\u043d\\u044b\\u0445\",\"\\u043c\\u043d\\u043e\\u0433\\u043e,\",\"\\u0432\\u043e\\u043b\\u043e\\u0441\\u044b\",\"\\u0447\\u0430\\u0439\",\"\\u0447\\u0435\\u043b\\u043e\\u0432\\u0435\\u043a\\u043e\\u043c\",\"\\u0432\\u0438\\u0434\\u0438\\u0442\\u0435\",\"\\u0438\\u044e\\u043b\",\"\\u0441\\u0430\\u043c\\u043e\\u043c\\u0443\",\"\\u043d\\u0430\\u043b\\u043e\\u0433\\u0438\",\"\\u0438\\u043d\\u0442\\u0435\\u0440\\u0435\\u0441\\u0443\\u0435\\u0442\",\"\\u0442\\u044b\\u0441\\u044f\\u0447\\u0438\",\"\\u043d\\u0430\\u0441\\u0442\\u0440\\u043e\\u0435\\u043d\\u0438\\u0435\",\"\\u0435\\u0433\\u043e.\",\"\\u0441\\u043e\\u0432\\u0435\\u0442\",\"\\u0441\\u0443\\u0442\\u043a\\u0438\",\"\\u0434\\u043e\\u0431\\u0440\\u043e\\u0439\",\"\\u0441\\u0430\\u043c\\u044b\\u0445\",\"\\u0431\\u0443\\u0434\\u0443\\u0449\\u0435\\u0435\",\"\\u0441\\u043e\\u043b\\u043d\\u044b\\u0448\\u043a\\u043e\",\"\\u043d\\u0438\\u0433\\u0434\\u0435\",\"\\u0441\\u0442\\u043e\\u043b\",\"\\u0441\\u0438\\u0442\\u0443\\u0430\\u0446\\u0438\\u0438\",\"\\u043a\\u043e\\u0448\\u043a\\u0438\",\"\\u0440\\u0443\\u0431\\u043b\\u0435\\u0439.\",\"\\u043f\\u0440\\u043e\\u0434\\u0430\\u0436\\u043d\\u044b\\u0435\",\"\\u0433\\u043e\\u043b\\u043e\\u0432\\u044b\",\"\\u0437\\u0430\\u0441\\u0443\\u043d\\u0443\\u0442\\u044c\",\"\\u0445\\u0430\\u0431\\u0430\\u0440\\u043e\\u0432\\u0441\\u043a\\u0435\",\"\\u0431\\u043b\\u0438\\u0437\\u043a\\u0438\\u043c\",\"\\u0443\\u0441\\u043b\\u043e\\u0432\\u0438\\u044f\",\"\\u043d\\u0430\\u0440\\u043e\\u0434.\",\"\\u0440\\u0430\\u0437\\u043c\\u0435\\u0441\\u0442\\u0438\\u0442\\u044c\",\"\\u043e\\u0431\\u044a\\u044f\\u0432\\u043b\\u0435\\u043d\\u0438\\u0435\",\"\\u0434\\u0430\\u0434\\u0443\\u0442\",\"\\u043a\\u0430\\u043a\\u0438\\u0435-\\u0442\\u043e\",\"\\u0441\\u043e\\u043b\\u043d\\u0446\\u0435\",\"\\u043d\\u0430\\u0441\\u0442\\u043e\\u044f\\u0449\\u0435\\u0435\",\"\\u0437\\u0434\\u043e\\u0440\\u043e\\u0432\\u044b\",\"\\u043c\\u0443\\u0436\\u0435\\u043c\",\"\\u0440\\u0435\\u0431\\u044f\\u0442\",\"\\u043c\\u0438\\u043d\\u0438\\u043c\\u0443\\u043c\",\"\\u043f\\u0435\\u0440\\u0438\\u043e\\u0434\",\"\\u043c\\u0435\\u043d\\u044f\\u0442\\u044c\",\"\\u0443\\u043b\\u0438\\u0446\\u044b\",\"\\u0442\\u043e?\",\"\\u043c\\u043e\\u0436\\u043d\\u043e,\",\"\\u0432\\u0430\\u0441.\",\"\\u0434\\u043e\\u043c\\u0430,\",\"\\u043e\\u0434\\u043d\\u043e\\u043c\\u0443\",\"\\u0432\\u043e\\u0441\\u043f\\u0438\\u0442\\u0430\\u043d\\u0438\\u0435\",\"\\u0432\\u043e\\u0440\",\"\\u043a\\u0443\\u0448\\u0430\\u0442\\u044c\",\"\\u0441\\u043a\\u0430\\u0436\\u0435\\u0442\",\"\\u043f\\u043e\\u0434\\u0440\\u043e\\u0431\\u043d\\u0435\\u0435\",\"\\u043d\\u0435\\u043b\\u044c\\u0437\\u044f.\",\"\\u0440\\u0435\\u0448\\u0435\\u043d\\u0438\\u0435\",\"\\u043b\\u0443\\u0447\\u0448\\u0438\\u0435\",\"\\u0441\\u0440\\u0430\\u0436\\u0435\\u043d\\u0438\\u0435\",\"\\u0437\\u0432\\u043e\\u043d\\u0438\\u0442\\u044c\",\":$\",\"\\u043d\\u0430\\u0432\\u0435\\u0440\\u043d\\u043e\\u0435,\",\"\\u0432\\u0435\\u0440\\u0438\\u0442\",\"\\u043e\\u043a\\u043d\\u0430\",\"\\u0445\\u043e\\u0442\\u0438\\u043c\",\"\\u043b\\u044e\\u0431\\u0438\\u043c\\u044b\\u0435\",\"\\u0441\\u043b\\u0435\\u0434\\u0443\\u044e\\u0449\\u0443\\u044e\",\"\\u0444\\u0443\\u0440\\u0433\\u0430\\u043b\\u0430\",\"\\u0442\\u0432\\u043e\\u0435\",\"\\u0431\\u043e\\u043b\\u044c\\u0448\\u0438\\u043c\",\"\\u043f\\u0438\\u0441\\u0430\\u043b\\u0438\",\"\\u043f\\u0440\\u0438\\u0445\\u043e\\u0434\\u0438\\u0442\\u0441\\u044f\",\"\\u0446\\u0435\\u043d\\u0442\\u0440\",\"\\u043f\\u043e\\u043d\\u0440\\u0430\\u0432\\u0438\\u043b\\u043e\\u0441\\u044c\",\"\\u0432\\u0440\\u0430\\u0433\",\"\\u043e\\u0431\\u0440\\u0430\\u0437\\u043e\\u043c\",\"\\u0443\\u0447\\u0438\\u0442\\u044c\\u0441\\u044f\",\"\\u0443\\u0447\\u0438\\u0442\\u0435\\u043b\\u044c\",\"\\u043d\\u043e\\u0441\",\"\\u0440\\u0435\\u0434\\u043a\\u043e\",\"\\u0442\\u0432\\u043e\\u0440\\u0438\\u0442\\u0441\\u044f\",\"\\u0432\\u043d\\u0443\\u043a\\u0438\",\"\\u043f\\u043e\\u043a\\u043e\\u043b\\u0435\\u043d\\u0438\\u0435\",\"\\u0435\\u0437\\u0434\\u0438\\u0442\\u044c\",\"\\u043f\\u0438\\u0441\\u0430\\u043b\",\"\\u0448\\u0442\\u0443\\u043a\",\"\\u043d\\u0430\\u043f\\u0438\\u0448\\u0438\",\"\\u043f\\u043e\\u043f\\u0440\\u043e\\u0431\\u0443\\u0439\\u0442\\u0435\",\"\\u0434\\u0435\\u043b\\u0430\\u043b\",\"\\u0431\\u043e\\u043b\\u0438\",\"\\u0441\\u0430\\u0445\\u0430\\u0440\",\"\\u043f\\u0435\\u0440\\u0432\\u043e\\u0439\",\"\\u0432\\u043a\\u0443\\u0441\\u043d\\u044b\\u0435\",\"\\u0434\\u043d\\u0438\",\"\\u0446\\u0435\\u043d\\u0435\",\"\\u043f\\u043e\\u0434\\u0445\\u043e\\u0434\\u0438\\u0442\",\"\\u0447\\u0443\\u0436\\u0438\\u0435\",\"\\u0437\\u0430\\u0431\\u044b\\u0442\\u044c\",\"\\u0433\\u043b\\u0430\\u0432\\u043d\\u044b\\u0439\",\"\\u0434\\u043e\\u0436\\u0434\\u044c\",\"\\u043f\\u0440\\u043e\\u0434\\u0443\\u043a\\u0442\\u044b\",\"\\u0434\\u0430\\u0435\\u0442\",\"\\u043a\\u043e\\u043c\\u0443-\\u0442\\u043e\",\"\\u043f\\u043e\\u0447\\u0435\\u043c\\u0443-\\u0442\\u043e\",\"\\u0442\\u0432\\u043e\\u0435\\u0433\\u043e\",\"\\u043f\\u0440\\u0430\\u0432\\u0438\\u043b\\u0430\",\"\\u043f\\u0440\\u0438\\u0448\\u0435\\u043b\",\"\\u043f\\u0435\\u0440\\u0435\\u0446\",\"\\ud83d\\ude0d\",\"\\u0441\\u0435\\u0431\\u0435.\",\"\\u043d\\u0430\\u0447\\u0438\\u043d\\u0430\\u0435\\u0442\\u0441\\u044f\",\"\\u0433\\u043e\\u0440\\u0434\\u043e\\u0441\\u0442\\u044c\",\"\\u043a\\u043e\\u043c\",\"\\u0438\\u043c\\u0435\\u043d\\u0438\",\"\\u0434\\u0435\\u0442\\u043e\\u043a\",\"\\u0445\\u043e\\u0437\\u044f\\u0438\\u043d\\u0430\",\"\\u043f\\u043e\\u043b\\u0438\\u0446\\u0438\\u044f\",\"\\u0434\\u0435\\u0439\\u0441\\u0442\\u0432\\u0438\\u0442\\u0435\\u043b\\u044c\\u043d\\u043e,\",\"\\u0444\\u043e\\u0442\\u043e.\",\"\\u0445\\u043e\\u0440\\u043e\\u0448\\u0435\\u0439\",\"\\u0434\\u0440\\u0443\\u0433\\u0443\",\"\\u0443\\u043a\\u0441\\u0443\\u0441\",\"\\u0432\\u043f\\u0435\\u0440\\u0435\\u0434\\u0438\",\"\\u0430\\u0432\",\"\\u043b\\u0430\\u0434\\u043d\\u043e\",\"\\u043f\\u0440\\u043e\\u0441\\u0442\\u0438\\u0442\\u0435\",\"\\u0432\\u0441\\u044f\\u043a\\u0438\\u0435\",\"\\u043a\\u043e\\u0433\\u0434\\u0430-\\u0442\\u043e\",\"\\u0441\\u043e\\u043e\\u0431\\u0449\\u0435\\u043d\\u0438\\u044f\",\"\\u043a\\u0443\\u043f\\u0438\\u043b\\u0438\",\"\\u0433\\u043e\\u0440\\u0430\\u0437\\u0434\\u043e\",\"\\u043f\\u043e\\u043b\\u043e\\u0432\\u0438\\u043d\\u0430\",\"\\u043e\\u0434\\u043d\\u0430\\u043a\\u043e\",\"\\u043f\\u0440\\u0438\\u0440\\u043e\\u0434\\u0430\",\"\\u0443\\u0432\\u0430\\u0436\\u0430\\u0435\\u043c\\u044b\\u0435\",\"\\u0440\\u043e\\u0434\\u0438\\u043d\\u0430\",\"\\u0443\\u0447\\u0438\\u0442\\u044c\",\"\\u0432\\u0435\\u0447\\u0435\\u0440\\u0430\",\"\\u0437\\u043d\\u0430\\u0435\\u0442,\",\"\\u0441\\u043c\\u043e\\u0436\\u0435\\u0442\",\"\\u043c\\u0443\\u0436\\u0447\\u0438\\u043d\",\"\\u043d\\u0430\\u0447\\u0438\\u043d\\u0430\\u044e\\u0442\",\"\\u043d\\u0430\\u0440\\u043e\\u0434,\",\"\\u0437\\u043d\\u0430\\u043b\\u0430\",\"\\u0441\\u0442\\u0440\\u0430\\u043d\\u044b,\",\"\\u043e\\u043d,\",\"\\u043a\\u0443\\u0441\\u043e\\u043a\",\"\\u0445\\u0440\\u0430\\u043d\\u0438\\u0442\",\"\\u0441\\u043e\\u0432\\u0435\\u0442\\u0441\\u043a\\u0438\\u0439\",\"\\u0443\\u0440\\u043e\\u0434\\u0430\",\"\\u043c\\u0438\\u043b\\u044b\\u0435\",\"\\u0434\\u0432\\u0435\\u0440\\u044c\",\"\\u043f\\u0438\\u0434\\u0430\\u0440\\u044b\",\"\\u043e\\u0442\\u0434\\u0430\\u043b\\u0438\",\"\\u043d\\u043e\\u0432\\u043e\\u0439\",\"\\u0441\\u043c\\u0438\",\"\\u0441\\u0438\\u0442\\u0443\\u0430\\u0446\\u0438\\u044f\",\"\\u0441\\u0442\\u0440\\u043e\\u0438\\u0442\\u044c\",\"\\u0435\\u0431\\u0430\\u043d\\u044b\\u0439\",\"\\u0432\\u0440\\u044f\\u0434\",\"\\u043f\\u0435\\u0440\\u0432\\u043e\\u0435\",\"\\u0440\\u0443\\u0447\\u043a\\u0438\",\"\\u0437\\u0430\\u043d\\u0438\\u043c\\u0430\\u0442\\u044c\\u0441\\u044f\",\"\\u043c\\u043e\\u0440\\u0434\\u0443\",\"\\u0431\\u043e\\u044e\\u0441\\u044c\",\"\\u0431\\u0430\\u043d\\u043a\\u0443\",\"\\u043f\\u043e\\u043c\\u043d\\u0438\\u0442\\u044c\",\"\\u043a\\u0441\\u0442\\u0430\\u0442\\u0438,\",\"\\u0445\\u043e\\u0445\\u043b\\u044b\",\"\\u0440\\u0430\\u043a\\u043e\\u043c\",\"\\u043c\\u043e\\u043b\\u0438\",\"\\u043c\\u043d\\u043e\\u0433\\u043e.\",\"\\u043d\\u0430\\u043e\\u0431\\u043e\\u0440\\u043e\\u0442\",\"\\u043f\\u0440\\u043e\\u0446\\u0435\\u043d\\u0442\\u043e\\u0432\",\"\\u0434\\u0443\\u0440\\u0430\\u043a\\u043e\\u0432\",\"\\u0436\\u0434\\u0435\\u043c\",\"\\u0443\\u0431\\u0438\\u043b\\u0430\",\"\\u0440\\u0430\\u043d\\u0435\\u0435\",\",\\u0435\\u0441\\u043b\\u0438\",\"\\u043f\\u0443\\u0442\\u0438\\u043d\\u0441\\u043a\\u0438\\u0435\",\"\\u0440\\u0443\\u043a\",\"\\u0441\\u0432\\u043e\\u043b\\u043e\\u0447\\u0438\",\"\\u0434\\u043e\\u0441\\u0442\\u0430\\u043b\\u0438\",\"\\u043c\\u0430\\u0433\\u0430\\u0437\\u0438\\u043d\\u0430\\u0445\",\"\\u0448\\u0442\\u0430\\u043d\\u044b\",\"\\u043d\\u0430\\u0440\\u043e\\u0434\\u043e\\u043c\",\"\\u043e\\u0441\\u043e\\u0431\\u043e\",\"\\u0440\\u0430\\u0441\\u0442\\u0435\\u0442\",\"\\u043b\\u0438\\u0442\\u0440\\u043e\\u0432\",\"\\ud83c\\udf3a\",\"\\u043b\\u0438\\u0447\\u043a\\u0443.\",\"\\u0432\\u0437\\u0433\\u043b\\u044f\\u0434\",\"\\u0431\\u043e\\u043b\\u044c\\u0448\\u0435.\",\"\\u043c\\u043e\\u0435\\u043c\",\"\\u0436\\u0434\\u0435\\u0442\",\"\\u0434\\u0435\\u043b\\u0430\\u0435\\u0442\\u0441\\u044f\",\"\\u0432\\u0437\\u044f\\u043b\\u0430\",\"\\u0432\\u044b\\u0445\\u043e\\u0434\\u0438\\u0442\",\"\\u043f\\u0430\\u043e\",\"\\u0441\\u043e\\u0437\\u0434\\u0430\\u0442\\u044c\",\"\\u0436\\u0438\\u0437\\u043d\\u0438!\",\"\\u0441\\u0447\\u0438\\u0442\\u0430\\u0435\\u0442\",\"\\u0441\\u0432\\u0435\\u0442\\u043b\\u0430\\u043d\\u0430\",\"\\u0438\\u044e\\u043d\\u044f\",\"\\u043a\\u0430\\u0441\\u0430\\u0435\\u0442\\u0441\\u044f\",\"\\u0440\\u0435\\u0431\\u0435\\u043d\\u043a\\u0443\",\"\\u0441\\u0432\\u0435\\u0440\\u0445\\u0443\",\"\\u0434\\u0435\\u0440\\u0436\\u0438\\u0442\",\"\\u043e\\u0431\\u043c\\u0435\\u043d\",\"\\u043f\\u0440\\u0438\\u0432\\u0435\\u0442,\",\"\\u0437\\u043e\\u043b\\u043e\\u0442\\u043e\\u0439\",\"\\u0431\\u044b\\u0442\\u044c,\",\"\\u043f\\u043e\\u043a\\u0430\\u0437\\u044b\\u0432\\u0430\\u044e\\u0442\",\"\\u0432\\u0437\\u0440\\u043e\\u0441\\u043b\\u044b\\u0435\",\"\\u0432\\u0442\\u043e\\u0440\\u0438\\u0437\\u0430\\u0446\\u0438\\u0438\",\"\\u043f\\u043e\\u043a\\u043e\\u0439\",\"\\u0440\\u043e\\u0436\\u0430\",\"\\u0447\\u0435\\u0442\\u044b\\u0440\\u0435\",\",\\u0432\",\"\\u0442\\u0440\\u0443\\u0434\\u0430\",\"\\u0441\\u043e\\u0445\\u0440\\u0430\\u043d\\u0438\",\"\\u043b\\u0443\\u0447\\u0448\\u0435\\u0435\",\"\\u043e\\u0442\\u0441\\u0442\\u0440\\u0435\\u043b\\u0438\\u0432\\u0430\\u0442\\u044c\",\"\\u0441\\u043a\\u0430\\u0437\\u0430\\u043b,\",\"\\u0441\\u0443\\u043a\\u0430,\",\"\\u043f\\u0440\\u043e\\u0434\\u0430\\u0442\\u044c\",\"\\u043b\\u044e\\u0431\\u043e\\u0432\\u044c\\u044e\",\"\\u0436\\u0438\\u0442\\u0435\\u043b\\u0438\",\"\\u043c\\u0443\\u0441\\u043e\\u0440\\u0430\",\"\\u043d\\u0438\\u043a\\u0443\\u0434\\u0430\",\"\\u0442\\u043e\\u0447\\u043d\\u043e,\",\"\\u043f\\u043e\\u0439\\u043c\\u0430\\u0442\\u044c\",\"\\u0437\\u0430\\u0431\\u0440\\u0430\\u0442\\u044c?\",\"\\u0434\\u0435\\u0431\\u0438\\u043b\\u043e\\u0432\",\"\\u0441\\u043e\\u0436\\u0430\\u043b\\u0435\\u043d\\u0438\\u044e,\",\"\\u0437\\u0430\\u043c\\u043e\\u043a\",\"\\u0442\\u0443\\u043f\\u044b\\u0435\",\"\\u043f\\u0440\\u043e\\u0436\\u0438\\u0442\\u044c\",\"\\u043a\\u043e\\u043d\\u0447\\u0435\\u043d\\u044b\\u0439\",\"\\u043e\\u0431\\u043e\",\"\\u043f\\u043e\\u043d\\u044f\\u0442\\u043d\\u043e.\",\"\\u0432\\u044b\\u0448\\u043b\\u0438\",\"\\u0433\\u043b\\u0430\\u0432\\u043d\\u043e\\u0435,\",\"\\u0441\\u0442\\u043e\\u044f\\u0442\\u044c\",\"\\u0435\\u0431\\u0430\\u043d\\u044b\\u0435\",\"\\u0441\\u0443\\u043f\\u0435\\u0440.\",\"\\u0433\\u0440\\u0438\\u0431\\u044b\",\"\\u0434\\u0430\\u0432\\u0430\\u0442\\u044c\",\"??\",\"\\u043f\\u0435\\u043d\\u0441\\u0438\\u043e\\u043d\\u043d\\u044b\\u0439\",\"-\\u044d\\u0442\\u043e\",\"\\u0443\\u0445\\u043e\\u0434\\u0438\\u0442\",\"\\u0432\\u0440\\u0430\\u0433\\u0438\",\"\\u043c\\u0438\\u043b\\u043b\\u0438\\u043e\\u043d\\u044b\",\"\\u0431\\u0440\\u0430\\u0442\\u044c\\u044f\",\"\\u0448\\u043b\\u0438\",\"\\u0437\\u0430\\u0431\\u044b\\u043b\",\"\\u0434\\u0435\\u0442\\u0438,\",\"\\u0432\\u0432\\u0438\\u0434\\u0443\",\"(md)\",\"\\u0434\\u0440\\u0443\\u0437\\u044c\\u044f,\",\"\\u0435\\u0434\\u0443\",\"\\u0432\\u043e\\u0432\\u0440\\u0435\\u043c\\u044f\",\"\\u0432\\u043d\\u0443\\u043a\\u043e\\u0432\",\"\\u0432\\u043e\\u0434\\u043e\\u0439\",\"\\u043d\\u0430\\u0437\\u044b\\u0432\\u0430\\u044e\\u0442\",\"\\u0440\\u043e\\u0434\\u0438\\u043b\\u0430\",\"\\u043f\\u043e\\u0441\\u043c\\u043e\\u0442\\u0440\\u0438\\u043c\",\"\\u0432\\u043e\\u0434\\u0438\\u0442\\u0435\\u043b\\u044c\",\"\\u0444\\u0443\",\"\\u0432\\u0435\\u0442\\u0435\\u0440\",\"\\u043f\\u043e\\u043a\\u0443\\u043f\\u0430\\u0442\\u044c\",\"\\u043a\\u0430\\u043a?\",\"\\u0438\\u0433\\u0440\\u0430\\u0435\\u0442\",\"\\u0436\\u0438\\u0432\\u0435\\u043c\",\"\\u0442\\u0435\\u043c\\u044b\",\"\\u043f\\u0430\\u0434\\u043b\\u0430\",\"\\u043f\\u043e\\u043d\\u044f\\u043b\\u0438\",\"\\u043f\\u043e\\u043f\\u0430\\u0441\\u0442\\u044c\",\"\\u0441\\u0430\\u0445\\u0430\\u0440\\u0430\",\"\\u0436\\u0438\\u0442\\u0435\\u043b\\u0435\\u0439\",\"\\u043f\\u043e\\u0432\\u0430\\u0434\\u043d\\u043e\",\"\\u043e\\u0441\\u0435\\u043d\\u044c\",\"\\u043e\\u0442\\u043b\\u0438\\u0447\\u043d\\u0430\\u044f\",\"\\u0432\\u043d\\u043e\\u0432\\u044c\",\"\\u0441\\u0441\\u0441\\u0440.\",\"\\u0443\\u043c\\u0435\\u0435\\u0442\",\"\\u0437\\u043d\\u0430\\u044f\",\"\\u0445\\u043e\\u0440\\u043e\\u0448\\u0438\\u043c\",\"\\u043b\\u0435\\u0441\\u0443\",\"\\u0442\\u0440\\u0451\\u0445\",\"\\u043b\\u0438\\u0437\\u0430\\u0442\\u044c\",\"\\u0440\\u0443\\u0441\\u0441\\u043a\\u0430\\u044f\",\"\\u0437\\u043d\\u0430\\u044e.\",\"\\u0441\\u043c\\u043e\\u0433\\u043b\\u0430\",\"\\u0438\\u043c\\u0435\\u044e\",\"---\",\"\\u043f\\u0440\\u0430\\u0432\\u0438\\u043b\\u044c\\u043d\\u043e.\",\"\\u043e\\u0442\\u0434\\u0435\\u043b\\u044c\\u043d\\u043e\",\"\\u0441\\u043b\\u043e\\u0432\\u043d\\u043e\",\"\\ud83d\\ude00\",\"26\",\"\\u0433\\u043e\\u0434,\",\"\\u043f\\u043e\\u043a\\u0430\\u0437\\u044b\\u0432\\u0430\\u0442\\u044c\",\"\\u043e\\u0431\\u043b\\u0430\\u0441\\u0442\\u044c\",\"\\u0432\\u0438\\u0434\\u044f\\u0442\",\"\\u0441\\u0442\\u0440\\u0430\\u043d\\u043e\\u0439\",\"\\u0441\\u0442\\u0430\\u0434\\u043e\",\"\\u0441\\u043e\\u0431\\u0430\\u0447\\u043a\\u0430\",\"\\u0441\\u0443\\u0434\\u044c\\u0431\\u0430\",\"\\u043d\\u0443\\u0436\\u043d\\u043e,\",\"\\u0437\\u0430\\u0440\\u0430\\u0431\\u043e\\u0442\\u0430\\u0442\\u044c\",\"\\u044f\\u0431\\u043b\\u043e\\u043a\\u0438\",\"\\u043b\\u0435\\u0442\\u0430\",\"\\u043c\\u0435\\u043d\\u0435\\u0435\",\"\\u043f\\u0443\\u0445\\u043e\\u043c\",\"\\u0431\\u0443\\u043a\\u0432\\u044b\",\"\\u0441\\u0440\\u0435\\u0434\\u0441\\u0442\\u0432\\u0430\",\"\\u0431\\u043b\\u0438\\u0437\\u043a\\u0438\\u0445\",\"\\u043a\\u0440\\u0430\\u0439\",\"\\u043e\\u0431\\u043e\\u0438\\u0445\",\"\\u0434\\u0443\\u0448\\u043e\\u0439\",\"\\u0434\\u043e\\u0447\\u0435\\u0440\\u0438\",\"\\u0447\\u0438\\u0442\\u0430\\u0439\\u0442\\u0435\",\"\\u0434\\u0435\\u043b\\u0430\\u0442\\u044c?\",\"\\u0442\\u0440\\u0435\\u0445\",\"\\u043c\\u0443\\u0434\\u0430\\u043a\",\"\\u0434\\u0443\\u043c\\u0435\",\"\\u0432\\u0437\",\"\\u0430\\u0440\\u043c\\u0438\\u044f\",\"\\u0441\\u043a\\u043e\\u0440\\u0435\\u0439\",\"\\u043c\\u0435\\u043d\\u044f,\",\"\\u0432\\u0441\\u0435\\u0445.\",\"\\u043f\\u043e\\u0439\\u043c\\u0443\",\"\\u0441\\u0438\\u0441\\u0442\\u0435\\u043c\\u0430\",\"\\u043b\\u044e\\u0434\\u044f\\u043c,\",\"\\u043b\\u044e\\u0434\\u0438!\",\"\\u0446\\u0432\\u0435\\u0442\\u0430\",\"\\u043b\\u0435\\u0441\\u0430\",\"\\u043a\\u0430\\u0436\\u0434\\u0430\\u044f\",\"\\u043a\\u0430\\u0447\\u0435\\u0441\\u0442\\u0432\\u043e\",\"\\u0445\\u0443\\u043b\\u0438\",\"\\u0436\\u0435\\u043b\\u0430\\u0442\\u0435\\u043b\\u044c\\u043d\\u043e\",\"\\u043d\\u0430\\u0431\\u043e\\u0440\",\"\\u0432\\u0442\\u043e\\u0440\\u0443\\u044e\",\"\\u0441\\u0435\\u0439\\u0447\\u0430\\u0441,\",\"\\u043f\\u043e\\u0440\\u043e\\u0439\",\"\\u0431\\u043e\\u0438\\u0442\\u0441\\u044f\",\"\\u043e\\u0448\\u0438\\u0431\\u043a\\u0438\",\"\\u043a\\u043b\\u0430\\u0441\\u0441,\",\"\\u0438\\u0433\\u0440\\u043e\\u043a\\u0430\",\"\\u0434\\u0435\\u0441\\u044f\\u0442\\u044c\",\"\\u0442\\u0435\\u043c\\u0435\",\"\\u043a\\u043e\\u0437\\u043b\\u0430\",\"\\u0434\\u0435\\u043b\\u0430\\u0435\\u0442\\u0435\",\"\\u0443\\u043a\\u0441\\u0443\\u0441\\u0430\",\"\\u0441\\u043f\\u0438\\u0441\\u043e\\u043a\",\"\\u0441\\u0435\\u0441\\u0442\\u0440\\u0430\",\"\\u0443\\u0447\\u0430\\u0441\\u0442\\u0438\\u0435\",\"\\u043b\\u0438\\u0447\\u043d\\u043e\\u0435\",\"\\u0431\\u043e\\u043b\\u044c\\u0448\\u0435,\",\"\\u043f\\u043e\\u043b\\u0443\",\"\\u0444\\u043e\\u0442\\u043e,\",\"\\u0432\\u0441\\u044f\\u043a\\u043e\\u0439\",\"\\u0432\\u0440\\u0430\\u0447\\u0435\\u0439\",\"\\u0436\\u0438\\u0437\\u043d\\u044c\\u044e\",\"\\u0441\\u043f\\u043e\\u0441\\u043e\\u0431\",\"\\u043f\\u043e\\u0433\\u0438\\u0431\",\"2.\",\"\\u0432\\u043e\\u0439\\u0441\\u043a\",\"\\u0443\\u0431\\u043b\\u044e\\u0434\\u043a\\u043e\\u0432\",\"\\u043a\\u0430\\u0436\\u0435\\u0442\\u0441\\u044f,\",\"\\u0437\\u0430\\u043a\\u0440\\u043e\\u0439\",\"\\u0438\\u043c\\u0438\",\"%\",\"\\ud83d\\ude04\",\"\\u0441\\u0432\\u0435\\u0442\\u0430\",\"\\u0430\\u0433\\u0430,\",\"\\u0432\\u0430\\u043b\\u0438\\u0442\\u044c\",\"\\u0431\\u044b\\u043b,\",\"\\u0438\\u0449\\u0435\\u0442\",\"\\u0441\\u0432\\u044f\\u0437\\u0430\\u0442\\u044c\\u0441\\u044f\",\"\\u043c\\u0438\\u043d\",\"\\u043f\\u043e\\u043c\\u043d\\u044e,\",\"\\u043e\\u0433\\u0440\\u0430\\u0431\\u0438\\u043b\",\"\\u0440\\u0430\\u0434\\u044b\",\"\\u0441\\u0442\\u0440\\u0430\\u043d\",\"\\u0437\\u0430\\u043a\\u0440\\u044b\\u0442\\u044c\",\"\\u0441\\u0443\\u043a\",\"\\u0431\\u043e\\u043b\\u0435\\u0437\\u043d\\u0438\",\"\\u0440\\u0443\\u0441\\u0438\",\"\\u043f\\u0440\\u043e\\u0434\\u0430\\u044e\",\"\\u0440\\u0430\\u0434\",\"\\u0432\\u043d\\u0438\\u043c\\u0430\\u043d\\u0438\\u044f\",\"\\u043a\\u0440\\u0430\\u0441\\u043e\\u0442\\u0430,\",\"\\u0440\\u043e\\u0441\\u0441\\u0438\\u0435\\u0439\",\"\\u0441\\u043a\\u0430\\u0436\\u0443\\u0442\",\"\\u043f\\u043e\\u0434\\u043d\\u044f\\u0442\\u044c\",\"\\u0446\\u0435\\u0440\\u043a\\u043e\\u0432\\u044c\",\"\\u0441\\u0438\\u0434\\u0438\\u0448\\u044c\",\"\\u0430\\u0432\\u0442\\u043e\\u0440\\u0443\",\"\\u0434\\u0430\\u043b\\u0430\",\"\\u043d\\u0430\\u0433\\u0440\\u0430\\u0434\\u0430\",\"\\u043f\\u0440\\u0438\\u0432\\u044f\\u0437\\u0430\\u0442\\u044c\",\"\\u0436\\u0438\\u0432\\u043e\\u0442\\u043d\\u043e\\u0435\",\"1.\",\"\\u043e\\u0431\\u0438\\u0434\\u043d\\u043e\",\"\\u043f\\u0440\\u0438\\u0434\\u0435\\u0442\\u0441\\u044f\",\"\\u043b\\u044e\\u0431\\u043e\\u0433\\u043e\",\"\\u0431\\u044b\\u043b.\",\"\\u043f\\u043e\\u043d\\u044f\\u0442\\u043d\\u043e,\",\"1,5\",\"\\u0431\\u044b\\u043b\\u0430.\",\"\\u043f\\u0435\\u043d\\u0441\\u0438\\u043e\\u043d\\u0435\\u0440\\u044b\",\"\\u0442\\u0435\\u0431\\u0435.\",\"\\u043d\\u0430\\u0432\\u0441\\u0435\\u0433\\u0434\\u0430\",\"\\u0438\\u0437\\u0432\\u0435\\u0441\\u0442\\u043d\\u043e\",\"\\u043f\\u0440\\u0438\\u0434\\u0443\\u043c\\u0430\\u043b\\u0438\",\"\\u043d\\u0440\\u0430\\u0432\\u044f\\u0442\\u0441\\u044f\",\"\\ud83d\\ude18\",\"\\u0441\\u043e\\u0432\\u0435\\u0442\\u0441\\u043a\\u043e\\u0435\",\"\\u0442\\u0432\\u0430\\u0440\\u044c.\",\"\\u0435\\u0431\\u0430\\u043d\\u0443\\u0442\\u044b\\u0435\",\"\\u0441\\u0442\\u0430\\u0440\\u044b\\u0435\",\"\\u0432\\u0430\\u0440\\u0438\\u0430\\u043d\\u0442\",\"!!!!!!\",\"\\u0443\\u0432\\u0430\\u0436\\u0435\\u043d\\u0438\\u0435\\u043c\",\"\\u043f\\u043e\\u043c\\u043e\\u0449\\u044c\\u044e\",\"\\u0433\\u043e\\u0432\\u043e\\u0440\\u044f\\u0442,\",\"\\u043d\\u0430\\u0440\\u043e\\u0434\\u0430,\",\"24\",\"\\u0432\\u043e\\u0437\\u0440\\u0430\\u0441\\u0442\\u0430\",\"\\u0432\\u0435\\u0440\\u0430\",\"\\u0433\\u043e\\u0440\\u043e\\u0434\\u0443\",\"\\u0442\\u0435\\u0447\\u0435\\u043d\\u0438\\u0438\",\"\\u043f\\u043e\\u043b\\u0443\\u0447\\u0430\\u0435\\u0442\",\"\\u0440\\u0435\\u0448\\u0438\\u043b\\u0430\",\"\\u0443\\u0434\\u043e\\u0431\\u043d\\u043e\",\"\\u0440\\u0435\\u0436\\u0438\\u043c\",\"\\u0441\\u043b\\u0443\\u0436\\u0431\\u044b\",\"\\u0441\\u0447\\u0430\\u0441\\u0442\\u043b\\u0438\\u0432\\u044b\",\"\\ud83c\\udf3c\",\"\\u0432\\u0438\\u0434\\u0443\",\"\\u0442\\u0435\\u0447\\u0435\\u043d\\u0438\\u0435\",\"\\u0437\\u0430\\u043f\\u0438\\u0441\\u044c\",\"\\u0434\\u0432\\u0443\\u043c\\u044f\",\"\\u043a\\u0440\\u0430\\u0441\\u043e\\u0442\\u0430!\",\"\\ud83d\\ude4f\\ud83d\\ude4f\\ud83d\\ude4f\",\"\\u043c\\u0435\\u0441\\u0442\\u043e,\",\"\\u0435\\u0431\\u0430\\u043d\\u0443\\u0442\\u0430\\u044f\",\"\\u043f\\u0435\\u0440\\u0432\\u044b\\u043c\",\"\\u0432\\u0435\\u043b\\u0438\\u043a\\u043e\\u0439\",\"\\u0431\\u0443\\u0434\\u0435\\u0442!\",\"\\u0431\\u0430\\u0431\\u043b\\u043e\",\"\\u0441\\u0441\\u044b\\u043b\\u043a\\u0443\",\"\\u0431\\u0435\\u0434\\u0430\",\"\\u043c\\u0430\\u043b\\u043e.\",\"\\u0442\\u044b\\u0441.\",\"\\u043a\\u043e\\u043d\\u043a\\u0440\\u0435\\u0442\\u043d\\u043e\",\"\\u0432\\u043b\\u0430\\u0441\\u0442\\u0438,\",\"\\u0441\\u0430\\u043b\\u0430\\u0442\",\"\\u0445\\u043e\\u0440\\u043e\\u0448\\u043e!\",\"s\",\"\\u043c\\u0430\\u0448\\u0438\\u043d\\u0435\",\"\\u0432.\",\"\\u0442\\u044b.\",\"22\",\"\\u043a\\u0440\\u0443\\u0433\\u043e\\u043c\",\"\\u0433\\u0440\\u0430\\u043d\\u0438\\u0446\\u0443\",\"\\u043a\\u0443\\u043f\\u0438\\u043b\",\"\\u0438\\u043d\\u0442\\u0435\\u0440\\u0435\\u0441\\u043d\\u0430\\u044f\",\"\\u0441\\u043a\\u0430\\u0437\\u043a\\u0438\",\"\\u0432\\u043f\\u0435\\u0440\\u0451\\u0434\",\"\\u043f\\u043e\\u0434\\u0430\\u0440\\u043a\\u0438\",\"\\u0443\\u0434\\u0430\\u043b\\u043e\\u0441\\u044c\",\"\\u0440\\u043e\\u0441\\u0441\\u0438\\u044f\\u043d\\u0435\",\"\\u0443\\u0448\\u0435\\u043b\",\"\\u0432\\u0435\\u0441\\u043d\\u043e\\u0439\",\"\\u0443\\u0436\\u0435,\",\"\\u0434\\u0435\\u0440\\u0435\\u0432\\u043d\\u0438\",\"\\u0431\\u043e\\u043d\\u0443\\u0441\",\"\\u0448\",\"\\u0447\\u0435\\u0440\\u0442\",\"*)\",\"\\u043a\\u0430\\u0436\\u0434\\u043e\\u0435\",\"\\u0442\\u0435\\u043f\\u043b\\u043e\",\"\\u0440\\u0430\\u0437,\",\"\\u0436\\u0438\\u0432\\u044b\",\"\\u0438\\u0441\\u043a\\u0440\\u0435\\u043d\\u043d\\u0438\\u0435\",\"\\u0432\\u0440\\u0430\\u0433\\u043e\\u0432\",\"\\u043c\\u0440\\u0430\\u0437\\u0435\\u0439\",\"\\u043b\\u0443\\u0447\\u0448\\u0435.\",\"\\u043f\\u0440\\u0435\\u0437\\u0438\\u0434\\u0435\\u043d\\u0442\\u043e\\u043c\",\"\\u043d\\u0430\\u0441\\u0442\\u043e\\u043b\\u044c\\u043a\\u043e\",\"\\u0444\\u0430\\u043a\\u0442\",\"\\u0437\\u0430\\u043c\\u0435\\u0447\\u0430\\u0442\\u0435\\u043b\\u044c\\u043d\\u044b\\u0435\",\"\\u0441\\u0443\\u0449\\u0435\\u0441\\u0442\\u0432\\u0443\\u0435\\u0442\",\"\\u0434\\u0432\\u043e\\u0438\\u0445\",\"\\u043f\\u0438\\u0448\\u0443\",\"\\u0430\\u043d\\u043d\\u0430\",\"\\u0443\\u0447\\u0438\\u0442\\u0435\\u043b\\u044f\",\"\\u0432\\u043e\\u0440\\u043e\\u0432\",\"\\u043f\\u043e\\u043b\\u0443\\u0447\\u0438\\u0442\",\"\\u043e\\u0431\\u0449\\u0435\\u043c\",\"\\u043a\\u0440\\u0443\\u0442\\u043e\",\"\\u0443\\u0448\\u043b\\u0430\",\"\\u043d\\u0430\\u043a\\u0430\\u0437\\u0430\\u0442\\u044c\",\"\\u0430\\u0445\",\"\\u0443\\u043b\\u0438\\u0446\\u0443\",\"\\u0431\\u0435\\u043b\\u043e\\u0440\\u0443\\u0441\\u0441\\u0438\\u0438\",\"\\u0432\\u0438\\u043d\\u043e\\u0432\\u0430\\u0442\\u044b\",\"\\u0440\\u044b\\u0431\\u0430\",\"\\u0433\\u0438\",\"\\u0438\\u044e\\u043b\\u0435\",\"\\u0435\\u0444\\u0440\\u0435\\u043c\\u043e\\u0432\\u0430\",\"\\u0440\\u0435\\u0431\\u044f\\u0442\\u0430,\",\"\\u0441\\u0447\\u0438\\u0442\\u0430\\u0442\\u044c\",\"\\u0441\\u0442.\",\"\\u043b\\u044e\\u0431\\u043e\\u0435\",\"\\u0432\\u0435\\u0440\\u044f\\u0442\",\"\\u043e\\u0442\\u0442\\u0443\\u0434\\u0430\",\"\\u0442\\u0435\\u043f\\u043b\\u0430\",\"\\u043e\\u0441\\u0442\\u0430\\u0451\\u0442\\u0441\\u044f\",\"\\u0432\\u043e\\u0437\\u0434\\u0443\\u0445\",\"\\u0432\\u044b\\u0448\\u043b\\u0430\",\"\\u0438\\u044e\\u043b\\u044c\",\"\\u0442\\u043e,\\u0447\\u0442\\u043e\",\"\\u043e\\u0431\\u044b\\u0447\\u043d\\u044b\\u0439\",\"400\",\"\\u0441\\u0435\\u0442\\u0438\",\"\\u0431\\u043e\\u043b\\u044c\\u043d\\u044b\\u0445\",\"\\u043f\\u0440\\u0438\\u043d\\u0438\\u043c\\u0430\\u0442\\u044c\",\"\\u0432\\u0435\\u043a\",\"\\u0435\\u0441\\u0442\\u044c!\",\"\\u0437\\u0430\\u043c\\u0443\\u0436\",\"\\u0432\\u044b\\u0445\\u043e\\u0434\\u044f\\u0442\",\"\\u0433\\u0440\\u044f\\u0437\\u044c\",\"\\u0441\\u044b\\u043d\\u0443\",\"\\u043f\\u0440\\u043e\\u0447\\u0438\\u0442\\u0430\\u043b\\u0430\",\"\\ud83c\\udf89\",\"\\u043d\\u0438\\u0445.\",\"\\u043f\\u0440\\u0430\\u0432\\u0438\\u043b\\u044c\\u043d\\u044b\\u0435\",\"\\u0443\\u0432\\u0430\\u0436\\u0430\\u0442\\u044c\",\"\\u043f\\u043e\\u0437\\u0432\\u043e\\u043d\\u0438\\u0442\\u044c\",\"\\u0438\\u0433\",\"\\u0441\\u043a\\u0430\\u0437\\u043e\\u0447\\u043d\\u044b\\u0439\",\"\\u043f\\u0438\\u0437\\u0434\\u0443\",\"\\u0431\\u0430\\u0431\\u044b\",\"\\u0440\\u0430\\u0431\\u043e\\u0447\\u0438\\u0439\",\"(ch)\",\"\\u2b50\",\"\\u043f\\u0440\\u043e\\u0434\\u0430\\u0436\\u043d\\u0430\\u044f\",\"\\u044b\",\"\\u0441\\u0438\\u0434\\u0435\\u043b\\u0438\",\"\\u0437\\u0430\\u0434\\u043e\\u043b\\u0431\\u0430\\u043b\\u0438\",\"\\u0441\\u0447\\u0430\\u0441\\u0442\\u043b\\u0438\\u0432\\u0430\",\"\\u043f\\u0440\\u043e\\u0448\\u043b\\u0430\",\"\\u043b\\u0438\\u0447\\u043d\\u044b\\u0435\",\"\\u0432\\u0435\\u0447\\u043d\\u044b\\u0439\",\"\\u0435\\u0434\\u0443\\u0442\",\"\\u0434\\u0438\\u0432\\u0430\\u043d\",\"\\u0445\\u043e\\u0437\\u044f\\u0435\\u0432\\u0430\",\"\\u0446\\u0435\\u0440\\u043a\\u0432\\u0438\",\"\\u043c\\u0438\\u043b\\u043b\\u0438\\u043e\\u043d\\u043e\\u0432\",\"\\u0447\\u0443\\u0436\\u0438\\u0445\",\"\\u0441\\u0440\\u0435\\u0434\\u0441\\u0442\\u0432\",\"\\u0441\\u043e\\u0440\\u0442\",\"\\u043d\\u043e\\u043c\\u0435\\u0440\\u0430\",\"\\u0436\\u0438\\u0442\\u044c.\",\"\\u0431\\u044b\\u0442\\u044c.\",\"\\u043f\\u0430\\u0434\\u0430\\u043b\\u044c\",\"\\u0431\\u043b\\u044f\\u0434\\u044c,\",\"\\u0440\\u043e\\u0441\\u0441\\u0438\\u044f\\u043d\",\"\\u0440\\u044b\\u043d\\u043a\\u0435\",\"\\u0432\\u0441\\u0435\\u043c!\",\"\\u043f\\u0440\\u0435\\u043a\\u0440\\u0430\\u0441\\u043d\\u043e\\u0435\",\"\\u0437\\u043d\\u0430\\u043a\\u043e\\u043c\\u044b\\u0435\",\"\\u0430.\",\"\\u0441\\u0442\\u0430\\u0442\\u044c\\u044e\",\"\\u0436\\u043e\\u043f\\u0435\",\"\\u0443\\u043d\\u0438\\u0447\\u0442\\u043e\\u0436\\u0438\\u0442\\u044c\",\"\\u0434.\",\"\\u043a\\u043b\\u0430\\u0441\\u0441\\u043e\\u0432\",\"\\u0437\\u0430\\u0434\",\"\\u043b\\u0443\\u0447\\u0448\\u0435,\",\"\\u043f\\u0440\\u0435\\u0434\\u0430\\u0442\\u0435\\u043b\\u0438\",\"\\u0440\\u043e\\u0436\\u0434\\u0435\\u043d\\u0438\\u044f.\",\"\\u0436\\u0435\\u043d\\u0449\\u0438\\u043d\\u0435\",\"\\u043c\\u0435\\u0447\\u0442\\u044b\",\"\\u0431\\u043e\\u043b\\u044c\\u0448\\u0438\\u0445\",\"\\u043f\\u043e\\u043c\\u043e\\u0433\",\"\\u043d\\u0430\\u0434\\u043e?\",\"\\u0440\\u043e\\u0434\\u0441\\u0442\\u0432\\u0435\\u043d\\u043d\\u0438\\u043a\\u043e\\u0432\",\"\\u0444\\u0430\\u043c\\u0438\\u043b\\u0438\\u044f\",\"\\u0437\\u043d\\u0430\\u043a\",\"\\u0432\\u043e\\u0432\\u0430\",\"\\u043d\\u0430\\u0447\\u0438\\u043d\\u0430\\u0435\\u0442\",\"\\u0432\\u0441\\u0435\\u043c.\",\"\\u0441\\u0434\\u043e\\u0445\",\"\\u043f\\u043e\\u043b\\u043d\\u043e\\u0435\",\"\\u043a\\u0438\\u0442\\u0430\\u0439\",\"\\u0445\\u0443\\u0439\\u043d\\u044f\",\"\\u0441\\u0442\\u0440\\u0430\\u043d\\u044b.\",\"\\u0430\\u0434\\u0432\\u043e\\u043a\\u0430\\u0442\",\"\\u0443\\u0441\\u0442\\u0440\\u0430\\u0438\\u0432\\u0430\\u0435\\u0442\",\"\\u043d\\u0430\\u0447\\u0438\\u043d\\u0430\\u0442\\u044c\",\"\\u043f\\u0443\\u0442\\u0438\\u043d\\u0441\\u043a\\u0430\\u044f\",\"\\u0443\\u0432\\u044b\",\"\\u043d\\u043e\\u0433\\u0443\",\"\\u043d\\u0430\\u043f\\u0440\\u0438\\u043c\\u0435\\u0440,\",\"\\u043d\\u0435\\u0442...\",\"\\u0441\\u043c\\u044b\\u0441\\u043b\\u0430\",\"\\u0434\\u0430\\u0432\\u0430\\u043b\\u0438\",\"\\u0443\\u0440\\u0430\",\"\\u043a\\u0440\\u0430\\u0441\\u0430\\u0432\\u0447\\u0438\\u043a\",\"\\u0440\\u043e\\u0436\\u0434\\u0435\\u043d\\u0438\\u044f!!!\",\"\\u0434\\u0435\",\"\\u0430\\u043b\\u043a\\u0430\\u0448\",\"\\u0434\\u0432\\u0435\\u0440\\u0438\",\"\\u0432\\u044b\\u043f\\u043b\\u0430\\u0442\",\"\\u043f\\u0440\\u043e\\u0441\\u0442\\u043e,\",\"\\u0441\\u043e\\u0432\\u0435\\u0442\\u0441\\u043a\\u0438\\u0435\",\"\\u043c\\u043e\\u0441\\u043a\\u0432\\u044b\",\"\\u0443\\u0440\\u043e\\u0432\\u043d\\u0435\",\"\\u0441\\u0432\\u043e\\u0431\\u043e\\u0434\\u0443\",\"\\u0441\\u043b\\u0435\\u0432\\u0430\",\"\\u043f\\u043e\\u0441\\u043e\\u0431\\u0438\\u044f\",\"\\u0441\\u0442\\u0430\\u0440\\u043e\\u0441\\u0442\\u0438\",\"\\u0448\\u043b\\u044e\\u0445\\u0438\",\"\\u0433\\u0440\\u0435\\u0445\",\"\\u043d\\u0435\\u043d\\u0430\\u0432\\u0438\\u0436\\u0443\",\"\\u043a\\u043e\\u0442\\u0438\\u043a\",\"\\u0433\\u043e\\u0432\\u043e\\u0440\\u0438\\u0442\\u0441\\u044f\",\"\\u0442\\u043e\\u043a\\u0430\",\"\\u0443\\u0435\\u0431\\u043e\\u043a\",\"\\u043f\\u0438\\u0441\\u0430\\u043b\\u0430\",\"\\u0442\\u0435\\u0441\\u0442\\u043e\",\"\\u043f\\u0440\\u0438\\u0434\\u0443\\u0440\\u043a\\u0438\",\"\\u0434\\u044b\\u0448\\u0430\\u0442\\u044c\",\"\\u043d\\u0435\\u0431\\u0430\",\"\\u0440\\u043e\\u0434\\u0438\\u043b\\u0430\\u0441\\u044c\",\"\\u0441\\u0442\\u0430\\u043a\\u0430\\u043d\",\"\\u0434\\u0435\\u043b\\u0430\\u0442\\u044c.\",\"\\u0433\\u043e\\u0432\\u043e\\u0440\\u044f\",\"\\u0434\\u0430!\",\"\\u0437\\u0430\\u043b\\u0438\\u0442\\u044c\",\"\\u043b\\u044e\\u0431\\u0443\\u044e\",\"\\u0436\\u043e\\u043f\\u044b\",\"\\u043f\\u043e\\u0441\\u0442\\u0440\\u043e\\u0438\\u0442\\u044c\",\"\\u0448\\u0438\\u043a\\u0430\\u0440\\u043d\\u0430\\u044f\",\"\\u043f\\u0430\\u0440\\u0430\",\"\\u043c\\u043e\\u0441\\u043a\\u0432\\u0443\",\"\\u0447\\u0435\\u0441\\u043d\\u043e\\u043a\",\"\\u043f\\u043e\\u0434\\u0440\\u0443\\u0433\\u0430\",\"27\",\"\\u043e\\u0441\\u0442\\u0430\\u0432\\u044c\\u0442\\u0435\",\"\\u0441\\u043b\\u0443\\u0447\\u0430\\u0439\",\"\\u0434\\u043e\\u043c.\",\"\\u0441\\u0435\\u0439\\u0447\\u0430\\u0441.\",\"\\u0446\\u0435\\u043b\\u044c\",\"\\u043a\\u043b\\u0430\\u0441\\u0441.\",\"\\u043c\\u0430\\u0440\\u0438\\u044f\",\"\\u0434\\u043e\\u043c\\u0443\",\"\\u0441\\u0438\\u0434\\u0438\",\"\\u043d\\u0430\\u0441\\u0435\\u043b\\u0435\\u043d\\u0438\\u0435\",\"\\u0435\\u0441\\u0442\\u0435\\u0441\\u0442\\u0432\\u0435\\u043d\\u043d\\u043e\",\"\\u0436\\u0430\\u043b\\u043a\\u043e,\",\"\\u0431\\u0435\\u0434\\u043d\\u0430\\u044f\",\"\\u0437\\u043b\\u043e\",\"\\u0432\\u0435\\u0434\\u0443\\u0442\",\"\\u043f\\u0430\\u0440\\u043d\\u0438\",\"\\u0434\\u0435\\u0448\\u0435\\u0432\\u043b\\u0435\",\"\\u0431\\u043b\\u0430\\u0433\\u043e\",\"\\u0431\\u0438\\u0437\\u043d\\u0435\\u0441\",\"250\",\"\\u0433\\u0435\\u0440\\u043e\\u0438\",\"\\u0441\\u0432\\u044f\\u0442\\u043e\\u0433\\u043e\",\"\\u043f\\u0440\\u043e\\u0432\\u0435\\u0440\\u0438\\u0442\\u044c\",\"\\u043f\\u043e\\u0431\\u0435\\u0434\\u044b\",\"\\u043e\\u0441\\u0442\\u0430\\u043b\\u044c\\u043d\\u044b\\u0445\",\"\\u0438\\u043c\\u0435\\u043b\",\"\\u043f\\u0440\\u0438\\u043d\\u0438\\u043c\\u0430\\u044e\",\"\\u043c\\u0438\\u0442\\u0438\\u043d\\u0433\\u0438\",\"\\u043f\\u043e\\u043b\\u043e\\u0436\\u0438\\u0442\\u044c\",\"\\ud83e\\udd14\",\"????\",\"\\u0437\\u0434\\u043e\\u0440\\u043e\\u0432\\u043e!\",\"\\u0432\\u044b\\u0439\\u0434\\u0435\\u0442\",\"\\u0445\\u043e\\u0437\\u044f\\u0435\\u0432\",\"\\u0444\\u043e\\u0440\\u043c\\u0435\",\"\\u0447\\u0442\\u043e.\",\"\\u043f\\u0440\\u0438\\u0440\\u043e\\u0434\\u044b\",\"\\u0430\\u0434\\u043c\\u0438\\u043d\",\"\\u043a\\u0438\\u043d\\u043e\",\"\\u0441\\u0434\\u0435\\u043b\\u0430\\u043d\\u043e\",\"\\u0432\\u0441\\u0451\\u043c\",\"\\u043f\\u0440\\u0438\\u0435\\u0445\\u0430\\u0442\\u044c\",\"\\u0435\\u0434\\u0435\\u0442\",\"\\u0441\\u0438\\u043b\\u044c\\u043d\\u044b\\u0439\",\"\\u043b\\u043e\\u0436\\u043a\\u0438\",\"\\u043d\\u043e\\u0433\\u0430\\u043c\\u0438\",\"\\u0431\\u0430\\u043d\\u043a\",\"\\u043f\\u043e\\u043b\\u0433\\u043e\\u0434\\u0430\",\"\\u043e\\u0431\\u0435\",\"\\u0432\\u043f\\u0435\\u0440\\u0432\\u044b\\u0435\",\"\\u043e\\u0447\\u0435\\u0440\\u0435\\u0434\\u0438\",\"\\u0446\\u0432\\u0435\\u0442\\u043e\\u043a\",\"\\u043f\\u043e\\u0442\\u0435\\u0440\\u044f\\u043b\",\"\\u0441\\u0442\\u043e\\u0438\\u0442.\",\"\\u043f\\u0430\\u043c\\u044f\\u0442\\u043d\\u0438\\u043a\",\"\\u0437\\u043d\\u0430\\u043a\\u043e\\u043c\\u044b\\u0445\",\"\\u0431\\u044b\\u043b\\u0438,\",\"\\u0430\\u0434\\u043c\\u0438\\u043d\\u0438\\u0441\\u0442\\u0440\\u0430\\u0446\\u0438\\u0438\",\"\\u0438\\u0441\\u043f\\u043e\\u043b\\u044c\\u0437\\u043e\\u0432\\u0430\\u0442\\u044c\",\"\\u0433\\u043e\\u0434\\u0443.\",\"\\u043f\\u043e\\u043d\\u044f\\u043b\\u0430,\",\"\\u043f\\u0435\\u043d\\u0441\\u0438\\u043e\\u043d\\u0435\\u0440\\u043e\\u0432\",\"\\u043f\\u0440\\u0430\\u0437\\u0434\\u043d\\u0438\\u043a\\u043e\\u043c!\",\"\\u043f\\u043e\\u0434\\u043e\\u0431\\u043d\\u044b\\u0435\",\"\\u043b\\u044e\\u0431\\u0432\\u0438,\",\"\\u0435\\u0431\\u0430\\u043d\\u0443\\u0442\\u044b\\u0439\",\"\\u043f\\u043e\\u0440\\u043e\\u0434\\u0430\",\"\\u0441\\u0442\\u0440\\u0430\\u043d\\u043d\\u043e\",\"\\u043f\\u043e\\u0441\\u0442\\u0430\\u0432\\u0438\\u043b\",\"\\u0441\\u0430\\u0434\",\"\\u043d\\u0430\\u043f\\u0438\\u0448\\u0443\",\"\\u0439\",\"\\u0442\\u043e\\u0447\\u043d\\u0435\\u0435\",\"3.\",\"\\u043c\\u043d\\u043e\\u0433\\u0438\\u043c\",\"\\u0437\\u0430\\u0447\\u0435\\u043c?\",\"\\u0441\\u043b\\u043e\\u0432\\u0430.\",\"\\u043c\\u0435\\u043d\\u044f.\",\"\\u0432\\u0430\\u043b\\u0435\\u043d\\u0442\\u0438\\u043d\\u0430\",\"\\u043a\\u0440\\u0430\\u0441\\u043e\\u0442\\u043a\\u0430\",\"\\u0432\\u0435\\u043b\\u0438\\u043a\\u0430\\u044f\",\"\\u0441\\u043c\\u043e\\u0433\\u043b\\u0438\",\"\\u043f\\u0440\\u0438\\u0432\\u0435\\u0442\\u0438\\u043a\",\"\\u0442\\u0440\\u0430\\u0445\\u0430\\u0442\\u044c\",\"\\u0445\\u043e\\u043b\\u043e\\u0434\\u0438\\u043b\\u044c\\u043d\\u0438\\u043a\",\"\\u043a\\u0432\",\"\\u0445\\u043e\\u0440\\u043e\\u0448\\u0443\\u044e\",\"\\u0436\\u0435\\u043d\\u044b\",\"\\u043f\\u0443\\u0442\\u0438\\u043d\\u0441\\u043a\\u0438\\u0439\",\"\\u043f\\u043e\\u044f\\u0432\\u0438\\u043b\\u0438\\u0441\\u044c\",\"\\u0441\\u043d\\u0438\\u043c\\u0430\\u0442\\u044c\",\"\\u043a\\u0442\\u043e?\",\"\\u0445\\u0432\\u0430\\u043b\\u0430\",\"\\u0441\\u0435\\u043b\\u043e\",\"\\u043f\\u0440\\u043e\\u0448\\u043b\\u0438\",\"\\u0445\\u0432\\u0430\\u0442\\u0438\\u043b\\u043e\",\"\\u043f\\u0440\\u0438\\u0434\\u0443\\u0442\",\",\\u043a\\u0442\\u043e\",\"\\u043e\\u0442\\u0441\\u044e\\u0434\\u0430\",\"\\u0443\\u0445\\u043e\\u0434\\u044f\\u0442\",\"\\u043c\\u0430\\u0440\\u0438\\u043d\\u0430\",\"\\u043f\\u0430\\u0440\\u043a\",\"\\u0443\\u043b\\u0438\\u0446\\u0430\",\"\\u043a\\u0440\\u043e\\u0432\\u0438\",\"\\u043c\\u0435\\u0434\",\"\\u043d\\u0430\\u0437\\u0430\\u0434,\",\"\\u0441\\u043b\\u0435\\u0437\",\":o\",\":-(\",\"\\u0434\\u0430\\u043d\\u043d\\u044b\\u0435\",\"\\u043f\\u0440\\u0438\\u043e\\u0431\\u0440\\u0435\\u0441\\u0442\\u0438\",\"\\u043b.\",\"\\u043f\\u0430\\u0441\\u043f\\u043e\\u0440\\u0442\",\"\\u043c\\u0435\\u0441\\u0442\\u0435.\",\"\\u0441\\u0441\\u0441\\u0440,\",\"\\u0445\\u043b\\u0435\\u0431\\u0430\",\"\\u043d\\u0430\\u0432\\u0435\\u0440\\u043d\\u044f\\u043a\\u0430\",\"\\u043f\\u0430\\u0440\\u043d\\u044f\",\"\\u0431\\u0435\\u043b\\u043e\\u0440\\u0443\\u0441\\u044b\",\"\\u043c\\u0430\\u0433\\u0430\\u0437\\u0438\\u043d\\u0430\",\"\\u043a\\u0443\\u0447\\u0443\",\"\\u0431\\u0430\\u0431\\u0443\\u0448\\u043a\\u0435\",\"\\u0443\\u0440\\u043e\\u0432\\u043d\\u044f\",\"\\u0434\\u043e\\u0431\\u0440\\u0430\\u044f\",\"?!\",\"\\u0437\\u0430\\u043c\\u0435\\u0447\\u0430\\u0442\\u0435\\u043b\\u044c\\u043d\\u0430\\u044f\",\"v\",\"\\u043f\\u043e\\u043c\\u043d\\u0438\\u0442\",\"\\u0434\\u0430\\u043c\",\"\\u0430\\u0434\\u0440\\u0435\\u0441\\u0443\",\"\\u043e\\u0442\\u043a\\u0440\\u044b\\u0442\\u044c\",\"\\u0441.\",\"\\u0448\\u0442\\u0440\\u0430\\u0444\",\"\\u0437\\u043d\\u0430\\u044e\\u0442,\",\"\\u043f\\u043e\\u0434\\u0434\\u0435\\u0440\\u0436\\u043a\\u0443\",\"\\u043a\\u0443\\u0440\\u0431\\u0430\\u043d\",\"\\u0432\\u043d\\u0438\\u043c\\u0430\\u0442\\u0435\\u043b\\u044c\\u043d\\u043e\",\"\\u0437\\u043d\\u0430\\u0447\\u0438\\u0442,\",\"\\u0441\\u0443\\u0442\\u044c\",\"\\u043a\\u043e\\u0435\",\"\\u043c\\u044b,\",\"\\u0430\\u043b\\u0435\\u043a\\u0441\\u0430\\u043d\\u0434\\u0440\\u043e\\u0432\\u043d\\u0430\",\"\\u0443\\u0436\\u0435.\",\"\\u0431\\u0435\\u043b\\u0430\\u0440\\u0443\\u0441\\u044c\",\"\\u0440\\u0435\\u0439\\u0442\\u0438\\u043d\\u0433\",\"\\u0432\\u043b\\u0430\\u0441\\u0442\\u0438.\",\"\\u0443\\u0432\\u0430\\u0436\\u0430\\u0435\\u043c\\u044b\\u0439\",\"\\u0441\\u0442\\u0430\\u043b\\u0438\\u043d\\u0430\",\"\\u0435\\u0437\\u0434\\u0438\\u043b\\u0438\",\"\\u0438\\u043d\\u0442\\u0435\\u0440\\u0435\\u0441\\u043d\\u044b\\u0439\",\"\\u043e\\u0442\\u0432\\u0435\\u0442\\u0438\\u043b\",\"\\u0441\\u043e\\u0433\\u043b\\u0430\\u0441\\u043d\\u0430,\",\"\\u043d\\u0435\\u043a\\u043e\\u0433\\u0434\\u0430\",\"\\u0441\\u0432\\u0438\\u043d\\u044c\\u044f\",\"\\u043c\\u0435\\u0441\\u0442\\u043e.\",\"\\u0442\\u043e\\u0447\\u043a\\u0443\",\":p\",\"\\u043f\\u043e\\u043b\\u044c\\u0437\\u0443\",\"\\u0431\\u0430\\u0431\\u0443\\u043b\\u044f\",\"\\u043d\\u0440\\u0430\\u0432\\u0438\\u0442\\u044c\\u0441\\u044f\",\"\\u0432\\u0435\\u0447\\u0435\\u0440!\",\"\\u0433\\u0440\",\"\\u0441\\u044b\\u043d\\u043e\\u043a\",\"\\u0434\\u0432\\u043e\\u0435\",\"\\u0431\\u0430\\u0437\\u0435\",\"\\u0441\\u0442\\u0440\\u0430\\u043d\\u0438\\u0446\\u0435\",\"\\u0432\\u0441\\u0435\\u0433\\u043e,\",\"\\u043f\\u0440\\u0438\\u0448\\u0451\\u043b\",\"\\u0432\\u043e\\u0432\\u0441\\u0435\",\"\\u0432\\u043e\\u043f\\u0440\\u043e\\u0441,\",\"\\u043f\\u043e\\u0434\\u0440\\u043e\\u0431\\u043d\\u043e\\u0441\\u0442\\u0438\",\"\\u0441\\u043e\\u0432\\u0435\\u0442\\u0443\\u044e\",\"\\u043a\\u0443\\u0440\\u0441\\u0435\",\"\\u0432\\u044b\\u0445\\u043e\\u0434\\u0438\\u0442\\u044c\",\"\\u0441\\u0430\\u043c\\u0443\\u044e\",\"\\u0436\\u0438\\u0432\\u043e\\u0439\",\"\\u043e\\u0432\\u0446\\u0430\",\"\\u0438\\u043d\\u0444\\u043e\\u0440\\u043c\\u0430\\u0446\\u0438\\u0438\",\"\\u0441\\u0442\\u0430\\u0432\\u044f\\u0442\",\"\\u043f\\u0440\\u043e\\u0444\\u0438\\u043b\\u044c\",\"\\u0440\\u0443\\u0441\\u0441\\u043a\\u043e\\u0439\",\"\\u043c\\u0435\\u0441\\u0442\\u043d\\u044b\\u0435\",\"\\u043f\\u0435\\u0442\\u0443\\u0445\",\"\\u0432\\u0442\\u043e\\u0440\\u043e\\u0433\\u043e\",\"\\u043a\\u043e\\u043d\\u0447\\u0435\\u043d\\u043d\\u0430\\u044f\",\"\\u043b\\u0435\\u043d\\u0438\\u043d\\u0430\",\"\\u043f\\u0438\\u0448\\u0435\\u0448\\u044c\",\"\\u0441\\u044b\\u0440\",\"\\u0435\\u043b\\u0435\",\"\\u043e\\u0441\\u0442\\u0430\\u0435\\u0442\\u0441\\u044f\",\"\\u0441\\u043e\\u044e\\u0437\\u0430\",\"\\u0447\\u0438\\u0441\\u043b\\u043e\",\"\\u043a\\u043e\\u0442\\u043e\\u0440\\u043e\\u043c\\u0443\",\"\\u043c\\u0435\\u0441\\u0442\\u0430\\u0445\",\"\\u0444\\u043e\\u0442\\u043e\\u0448\\u043e\\u043f\",\"\\u043d\\u0430\\u0441\\u0442\\u043e\\u044f\\u0449\\u0438\\u0445\",\"\\u043d\\u0435\\u0431\\u044b\\u043b\\u043e\",\"=\",\"\\u043f\\u043b\\u043e\\u0445\\u043e\\u0439\",\"-\\u0442\\u043e\",\"\\u043e\\u0433\\u0440\\u043e\\u043c\\u043d\\u044b\\u0439\",\"\\u0432\\u0435\\u043a\\u0430\",\"\\u0434\\u044f\\u0434\\u044f\",\"\\u2615\",\"\\u0443\\u0442\\u0440\\u043e!\",\"\\u043c\\u0440\\u0430\\u0437\\u044c.\",\"\\u043e\\u0434\\u043d\\u0430\\u0436\\u0434\\u044b\",\"\\u043f\\u0438\\u0434\\u0430\\u0440\\u0430\\u0441\\u043e\\u0432\",\"\\u043f\\u0440\\u0438\\u043d\\u044f\\u0442\\u044c\",\"\\u0442\\u0432\\u043e\\u0440\\u0447\\u0435\\u0441\\u043a\\u0438\\u0445\",\"\\u0432\\u043e\\u0440\\u0443\\u044e\\u0442\",\"\\u043f\\u043e\\u043b\\u043d\\u043e\",\"\\u043c\\u043e\\u043b\\u0447\\u0430\",\"\\u0438\\u0449\\u0438\\u0442\\u0435\",\"\\u0432\\u043e\\u043e\\u0431\\u0449\\u0435-\\u0442\\u043e\",\"\\u0440\\u0430\\u0434\\u043e\\u0432\\u0430\\u0442\\u044c\\u0441\\u044f\",\"\\u043b\\u0435\\u0436\\u0438\\u0442\",\"\\u044d\\u0442\",\"\\u0441\\u043e\\u043a\",\"\\u0444\\u043e\\u0440\\u043c\\u0443\",\"\\u0442\\u0440\\u0443\\u0441\\u044b\",\"\\u043f\\u0440\\u043e\\u0441\\u0442\\u044b\\u0435\",\"\\u0431\\u044b\\u043b\\u043e!\",\"\\u043a\\u0442\\u043e-\\u043d\\u0438\\u0431\\u0443\\u0434\\u044c\",\"\\u0430\\u043a\\u0442\\u0435\\u0440\",\"\\u0436\\u0435\\u043b\\u0430\\u043d\\u0438\\u044f\",\"\\u0434\\u043e\\u0440\\u043e\\u0433\",\"\\u0437\\u0430\\u0432\\u043e\\u0434\",\"\\u0430\\u0434\\u043c\\u0438\\u043d\\u0438\\u0441\\u0442\\u0440\\u0430\\u0446\\u0438\\u044f\",\"\\u0430\\u043c\\u0438\\u043d\\u044c.\",\"\\u0441\\u043c\\u043e\\u0442\\u0440\\u0435\\u043b\\u0430\",\"\\u0440\\u043e\\u0434\\u0430\",\"\\u043e\\u0431\\u0440\\u0430\\u0442\\u0438\\u0442\\u044c\\u0441\\u044f\",\"\\u043d\\u0430\\u0445\",\"\\u0437\\u0430\\u0449\\u0438\\u0449\\u0430\\u0442\\u044c\",\"\\ud83c\\udf82\",\"))))\",\"\\u0430\\u043d\\u0433\\u0435\\u043b\",\"\\u0441\\u043b\\u0443\\u0447\\u0438\\u043b\\u043e\\u0441\\u044c\",\"\\u0447\\u0435\\u0440\\u0442\\u0438\",\"\\u0443\\u0441\\u043b\\u0443\\u0433\\u0438\",\"\\u0431\\u043b\\u0430\\u0433\\u043e\\u0434\\u0430\\u0440\\u043d\\u043e\\u0441\\u0442\\u044c\",\"\\u0441\\u043e\\u043d\",\"\\u043b\\u0438\\u0442\\u0440\",\"\\u0442\\u0435\\u0431\\u044f.\",\"\\u043f\\u043e\\u043b\\u0443\\u0447\\u0430\\u0435\\u0442\\u0441\\u044f,\",\"\\u043c\\u0443\\u0436\\u0443\",\"\\u0431\\u043e\\u0433,\",\"\\u0441\\u043e\\u0441\\u0435\\u0434\\u0435\\u0439\",\"\\u043a\\u043e\\u0437\\u0435\\u043b\",\"\\u0434\\u0440\\u0443\\u0436\\u0431\\u0443\",\"\\u043e\\u0442\\u0432\\u0435\\u0442\\u0430\",\"\\u0441\\u043a\\u0430\\u0436\\u0438\\u0442\\u0435,\",\"\\u043d\\u043e\\u0441\\u0438\\u0442\",\"\\u0437\\u0430\\u043f\\u0430\\u0434\",\"\\u0438\\u0437\\u043c\\u0435\\u043d\\u0438\\u0442\\u044c\",\"\\u0433\\u0440\\u0430\\u043d\\u0438\\u0446\\u044b\",\"\\u0442\\u0430\\u043a?\",\"\\u0445\\u043e\\u0440\\u043e\\u0448\",\"\\u043d\\u0430\\u0437\\u0430\\u0434.\",\"\\u043f\\u044b\\u0442\\u0430\\u0435\\u0442\\u0441\\u044f\",\"\\u0432\\u043a\\u0443\\u0441\\u043d\\u043e.\",\"\\u043c\\u0435\\u0440\\u0435\",\"\\u0438.\",\"\\u0442\\u043e\\u0436\\u0435,\",\"\\u043c\\u0435\\u0434\\u0438\\u0446\\u0438\\u043d\\u0430\",\"\\u043f\\u0440\\u043e\\u0445\\u043e\\u0434\\u0438\\u0442\",\"\\u0437\\u0430\\u0432\\u043e\\u0434\\u044b\",\"\\u043f\\u0440\\u043e\\u0434\\u0430\\u0436\\u0435\",\"\\u0441\\u0438\\u0434\\u0438\\u0442\\u0435\",\"\\u043a\\u043e\\u043d\\u043b\\u0430\\u0439\\u043d\",\"\\u043c\\u043e\\u043b\\u043e\\u0434\\u0446\\u044b!!!\",\"\\u043d\\u0438\\u0447\\u0435\\u043c\",\"\\u043f\\u043e\\u0434\\u0434\\u0435\\u0440\\u0436\\u0438\\u0432\\u0430\\u044e\",\"\\u0441\\u0443\\u043f\\u0435\\u0440,\",\"\\u043a\\u0433.\",\"\\u0443\\u0447\\u0430\\u0441\\u0442\\u043e\\u043a\",\"\\u0444\\u0438\\u0433\",\"\\u043f\\u0440\\u043e\\u0434\\u0430\\u0435\\u0442\\u0441\\u044f\",\"\\u0443\\u0435\\u0431\\u0438\\u0449\\u0435\",\"\\u0441\\u0431\\u043e\\u0439\",\"\\u043f\\u0440\\u0438\\u0435\\u0445\\u0430\\u043b\\u0438\",\"\\u0442.\\u043a.\",\"\\u0432\\u043e\\u0440\\u044b\",\"\\u0432\\u0441\\u0435\\u0433\\u0434\\u0430,\",\"\\u043a\\u0430\\u043d\\u0430\\u043b\",\"\\u043b\\u0430\\u0439\\u043a\\u043e\\u0432\",\"\\u0442\\u043e\\u0442,\",\"\\u043b\\u044e\\u0434\\u044f\\u0445\",\"\\u0447\\u0438\\u0441\\u0442\\u044b\\u0439\",\"\\u0436\\u043a\\u0445\",\"\\u0437\\u0434\\u043e\\u0440\\u043e\\u0432\\u043e,\",\"\\u043d\\u0430\\u0441\\u0447\\u0451\\u0442\",\"\\u043f\\u0440\\u043e\\u0434\\u0430\\u0451\\u0442\\u0441\\u044f\",\"\\u043e\\u0442\\u0434\\u044b\\u0445\\u0430\",\"\\u0434\\u0440\\u0443\\u0433\\u0438\\u043c\\u0438\",\"\\u0433\\u043b\\u0430\\u0437\\u0430\\u043c\\u0438\",\"\\u043f\\u043e\\u043d\\u0438\\u043c\\u0430\\u0435\\u0442\",\"\\u0434\\u0430\\u0447\\u0435\",\"\\u0433\\u0440\\u044f\\u0437\\u0438\",\"\\u043f\\u0440\\u043e\\u0441\\u0442\\u0438\\u0442\\u0443\\u0442\\u043a\\u0430\",\"\\u0441\\u0447\\u0430\\u0441\\u0442\\u043b\\u0438\\u0432\\u043e\\u0439\",\"\\u0431\\u0443\\u0434\\u0443\\u0442.\",\"\\u0431\\u043b\\u0438\\u0437\\u043a\\u043e\",\"\\u0441\\u0442\\u043e\\u044f\\u043b\",\"\\u043d\\u0430\\u0437\\u044b\\u0432\\u0430\\u043b\\u0438\",\"\\u0441\\u043f\\u043e\\u043a\\u043e\\u0439\\u043d\\u043e\\u0439\",\"\\u043f\\u043e\\u043b\\u043e\\u0432\\u0438\\u043d\\u0443\",\"\\u0447\\u0443\\u0432\\u0441\\u0442\\u0432\\u043e\",\"\\u0434\\u0435\\u0432\\u043e\\u0447\\u043a\\u0443\",\"\\u0440\\u043e\\u0434\\u043d\\u0430\\u044f\",\"\\u0442\\u0432\\u0430\\u0440\\u044c,\",\"\\u0441\\u0442\\u0430\\u0442\\u044c\\u044f\",\"\\u0436\\u0438\\u0442\\u044c,\",\"\\u043d\\u043e\\u0433\",\"\\u043e\\u0442\\u043a\\u0440\\u044b\\u0432\\u0430\\u0435\\u0442\\u0441\\u044f\",\"\\u0431\\u043e\\u043b\\u044c\\u0448\\u043e\\u0433\\u043e\",\"\\u0441\\u043a\\u0438\\u043d\\u0443\\u0442\\u044c\",\"\\u0441\\u043b\\u044b\\u0448\\u0430\\u043b\\u0430\",\"\\u0433\\u043b\\u044f\\u0434\\u044f\",\"\\u0434\\u0440\\u0443\\u0437\\u044c\\u044f\\u043c\",\"\\u043c\\u0435\\u0448\\u0430\\u0435\\u0442\",\"\\u0431\\u043e\\u043b\\u044c\\u043d\\u044b\\u0435\",\"\\u0441\\u0442\\u043e\\u0440\\u043e\\u043d\\u0435\",\"\\u043f\\u0440\\u043e\\u0441\\u0438\\u0442\",\"\\u0434\\u043e\\u043b\\u0431\\u043e\\u0435\\u0431\\u043e\\u0432\",\"\\u043e\\u0431\\u0449\\u0430\\u0442\\u044c\\u0441\\u044f\",\"\\u0437\\u0430\\u0431\\u044b\\u043b\\u0430\",\"\\u043a\\u043e\\u0441\\u0442\\u044e\\u043c\",\"\\u0432\\u043e\\u043e\\u0431\\u0449\\u0435,\",\"\\u043f\\u043e\\u043f\\u0440\\u043e\\u0431\\u0443\\u0439\",\"\\u0433\\u0430\\u0432\\u043d\\u043e\",\"\\u043e\\u0447\\u0435\\u0440\\u0435\\u0434\\u043d\\u0430\\u044f\",\"\\u043f\\u043e\\u043a\\u0430\\u0437\\u044b\\u0432\\u0430\\u0435\\u0442\",\"\\u0438\\u0441\\u043a\\u0440\\u0435\\u043d\\u043d\\u0435\",\"\\u0443\\u0432\\u0430\\u0436\\u0435\\u043d\\u0438\\u044f\",\"\\u043f\\u044c\\u044f\\u043d\\u044b\\u0439\",\"\\u0438\\u0437\\u0432\\u0438\\u043d\\u0438\\u0442\\u0435,\",\"\\u0435\\u0434\\u0438\\u043d\\u0441\\u0442\\u0432\\u0435\\u043d\\u043d\\u044b\\u0439\",\",\\u0442\\u0430\\u043a\",\"\\u043f\\u044b\\u0442\\u0430\\u044e\\u0442\\u0441\\u044f\",\"\\u043a\\u0440\\u0430\\u0441\\u043d\\u044b\\u0439\",\"\\u0432\\u043e\\u0441\\u043a\\u0440\\u0435\\u0441\\u0435\\u043d\\u044c\\u0435\",\"\\u0441\\u0435\\u043a\\u0441\",\"\\u0434\\u043e\\u0441\\u0442\\u043e\\u0439\\u043d\\u043e\",\"\\u0432\\u0440\\u0430\\u0442\\u044c\",\"\\u0432\\u043e\\u0434\\u0435\",\"\\u0431\\u0435\\u043b\\u0430\\u0440\\u0443\\u0441\\u0438\",\"\\u0441\\u043a\\u0438\\u043d\\u044c\\u0442\\u0435\",\"\\u043e\\u0442\\u043f\\u0443\\u0441\\u043a\",\"\\u0447\\u0451\\u0440\\u043d\\u044b\\u0439\",\"\\u0441\\u0443\\u0447\\u043a\\u0430\",\"\\u0442\\u0430\\u043c.\",\"\\u0444\",\"\\u0446\\u0435\\u043d\\u0443?\",\"\\u0436\\u0438\\u0432\\u0451\\u0442\\u0435\",\"\\u043a\\u0430\\u043a\\u0430\\u044f-\\u0442\\u043e\",\"\\u043f\\u0440\\u0435\\u043a\\u0440\\u0430\\u0441\\u043d\\u043e\\u0433\\u043e\",\"\\u043b\\u0443\\u043a\\u0430\",\"\\u0434\\u0435\\u0440\\u0435\\u0432\\u044c\\u044f\",\"\\u0432\\u0437\\u0440\\u043e\\u0441\\u043b\\u044b\\u0445\",\"\\u043c\\u0435\\u0441\\u0442\",\"\\u0432\\u044b\\u0445\\u043e\\u0434\",\"...\\u0430\",\"\\u0431\\u0435\\u0440\\u0435\\u0442\",\"\\u0441\\u043e\\u044e\\u0437\\u0435\",\"\\u043d\\u0430\\u043a\\u0430\\u0437\\u044b\\u0432\\u0430\\u0442\\u044c\",\"\\u0447\\u0435\\u043b\\u043e\\u0432\\u0435\\u043a!\",\"\\u0443\\u0445\",\"\\u0441\\u043e\\u0432\\u0435\\u0442\\u044b\",\"\\u044f\\u0437\\u044b\\u043a\\u043e\\u043c\",\"......\",\"\\u0437\\u0430\\u0431\\u0435\\u0440\\u0443\",\"\\u0433\\u043b\\u0430\\u0437\\u043a\\u0438\",\"\\u043f\\u0440\\u043e\\u0441\\u0442\\u043e\\u0433\\u043e\",\"\\u0440\\u0430\\u0441\\u0441\\u043a\\u0430\\u0437\",\"\\u043e\\u0442\\u0434\\u044b\\u0445\",\"\\u043c\\u0430\\u043b\\u043e,\",\"\\u0432\\u0430\\u043c\\u0438.\",\"\\u043f\\u043e\\u0441\\u0442\\u0443\\u043f\\u043a\\u0438\",\"\\u0430\\u043a\\u0442\\u0440\\u0438\\u0441\\u0430\",\"\\u043b\\u044e\\u0431\\u0430\\u044f\",\"\\u043d\\u0435\\u0447\\u0435\\u043c\",\"\\u0433\\u043e\\u043b\\u043e\\u0441\\u043e\\u0432\\u0430\\u0442\\u044c\",\"\\u043d\\u0435\\u0441\\u0442\\u0438\",\"\\u043b\\u0443\\u0447\\u0448\\u0430\\u044f\",\"\\u0441\\u0442\\u0440\\u0430\\u0448\\u043d\\u043e\\u0435\",\"\\u0441\\u043b\\u0443\\u0448\\u0430\\u0439\",\"\\u0443\\u043c\\u043d\\u0430\\u044f\",\"\\u043c\\u043e\\u043b\\u043e\\u0434\\u043e\\u0441\\u0442\\u0438\",\"\\u043d\\u0440\\u0430\\u0432\\u0438\\u0442\\u0441\\u044f,\",\"\\u0441\\u043b\\u043e\\u0432\\u0430\\u043c\\u0438\",\"\\u0444\\u0430\\u0448\\u0438\\u0441\\u0442\\u043e\\u0432\",\"\\u043e\\u0431\\u0435\\u0434\"],\"x1\":{\"__ndarray__\":\"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\",\"dtype\":\"float64\",\"order\":\"little\",\"shape\":[3000]},\"x2\":{\"__ndarray__\":\"E2q/aC3QCEBlkGZyO1EFQBIqV4wfdw5ADNcugn5zEUDkowIotEsDQLkpRRak7BJAmi43xCwkD0AiGo64krQXQHZfBMAAwxhA2l1HtrbOLkDq6bpaS4kTQOioXKAQtAxAJN8dHQwLAECR0TsCIy46QBHtsDq8GQJADqatNG8eEkBAHZqpTd78P3QvQFInAxhAUnGDFVuLNMBNRdyTw4YFwC+Ut6RqhB1AXk08bChPKUBTh+aqpi4yQM943jeP+BBAL5J2m8GMFkDboxe0xhElwEhBWnwKhB1AtunKCjfzIcAJwHnrgk8UQPuSNy2yvRJAlMCIVIFkJ8Cik9JE1YUVQH2F94WwMyRARSM3IdWEC0DTabFS1yQcQJ2HgHqTiipAE3b+T/eE+j+XRgy3+RgnQPMZaour+w5Ad5BiKwLNB8A4p5v3AecbQFMmSM0PYTZAjoyorwxKPkCpygBiuk8UQEo/xwXVCPw/fzJ0T4XdNsCVE7ZXVGQYwO7HKbEseBjARC5U3lTuKsBU9+2wiIINQHwwkwKK7TBAcTC6Z4Wo3L/zkMql2ysqQODXN16F3AHA6dHgrDb6FUCfKF0zodsWQAmYTvlNlg1ANvAtOlFBGUD/LitoBpxAQBSy3+X9CxRAZJMuquQ6EcBXwGVZGMYMQARTQBDTfhdAvHUPob0eA0CpLfmETLEuwNU4UJexkwZAg/2/WfJ2MECvu7K7+dAiwLV4zxhbnAHAWBQC+Qd5MMA1XfLZhN83wKjraRoiSx9A2zuu7bNJRsAv9D3Ce+ANQLUN6mBaXCBAm9OZMdqhFUCcTXDVIaAyQCpHhBBmwTNAsw58LMPYEMDgNWl7HvEPwLuIxIYJjh/AZEP9monaMUBAD4PdYl9BwJMVyE5ByQ3ARm7sigxHM0Am7WDnM7MfwO1CNufAeSdAn4oXsNal4T8mAQJjYRUmwBIkfuuEzixA40hWjEO+P8DfHIJQ2QHnv8cp7XQu1h3AxWUOaxnNKcAc7y2vFag3QCVCkzVggiDANxWQSgu0RcDLVR7AjrH5v4fpHL9yADhA8pwg2uDbIcDvLFCQgLwOQHHLHA0lSTNAKHhu54e0L0BRlyruKWQrQOHuFxHxRTRAaaAefA6IH0Cod545+PcgQIUdNF05ZgfAXpx0FX47H8C6fuUiOOtDwKQulOWvMCpAob3tVk62McBSiqJiQjY7QFspr6txuTFAlfWutrcf5L97hPxVDSIjwJ8dHOoTshLA97F3kgdoIkCFEahbKsAowEQWkm5EezJAOxqdC73XKkBfxL7TET8TQLvOHjtADEBANhllhoA8QMBlWF1TER4EwKySs6GV+wpACx+j2BrVEMBG7HvxGXU0QAofx+wI4yZAvsFpUTD8MUCRObmKx44iwNxVyOqzRTVAS5fYH4AsQcBrtV8P5+YswHUUXa5q1jJAcFhcv6bxMkA6KkDsg3wUwGefyQYAiSHAOLsmP+8SO0BxwEsDi08rwEcrD5uy/g9ALKAXAyroI0DK1SUWNSoRwBrdAaDnvjfAQ/jto5g+KUAfjmmMWUghwK9XzWyrDzVA4lFRJmekAcCFO2esrboyQEJn5pq7RzHAfFuTbP4UBEAErnCTHr4qQN1N+sLV5xPAl9fTBICHI0AU4BUFf7YswHv+6fWSrCtAySd/lln9OUBjteHOyKwbwDezbpH8aT3AG5BD4f8IJsARPqfBEKPVvwlmcc/cWSPAz8Fv61K9MUAgq+Yb0lZKwLIzqJ+wExJA5IViUZdcNkAzn7wvnTk3QLTQC1VqjyhAlLbkqtqZJ8C1KdsRV0ZAwNYJP+Hh0kBAhYrCSOCVB0ChT+opkDA1QDE7UU3eQC/ADkJpqTthFED6zGhv6MUwwBVM2IudgCdA79Be2FMKPsCptqN1RMwWwFUPGFqDQipAeqoEGRE6MECMw3W3lc0nwM6KSUBBAD/AN4TcGEzcJcAw76NjkUkZwP44nGAvoDhAi+cqukFmKECUrYO4uLjpv5NgyP79lCbAkiNKTOSSNEAYLmf5HoNEwChrDAyb/iRAEavvUENjGMBgv7JmjJcbQCzsc0xlRCfAVcRsjyOXMEC70hXuaRQhQLILIOtZEwfAruEw7ZAvHkCBigu/Mgk2QNuuhrU7c0NAHYkmSa4LKsCjYTGwUVMfQBgG1lFZTh1An17TkHwJIsCb96ZfdC4SwOeoaUeLUTzAxRkmNp0ZNMCAK4WRMC03wCCiEMhyUjrA9oFxsBsURECf0foih2NCQDMImOIbYjZAOBBSBbcONkDihfshyfY4wPdDltzA3jvAfbpc7t7iN0BkzYTWoGUwQEsWjkQb+zdAzaC6HBZERkBOpzXUAhIuQM+64Ah/8TtA5MVsZaDwNUBnY7OmzQlEQMF3hN4u9SLAKcvvtZ0jGkAHGynV3e47QL0WuspbGTBAMTWnOPmkOkBkqpS6fBUhQB0badZ39DtAtTGklDWiGkDQmOmIY74UQCVO8KYrikfA+HoprU5vFUArrtObkzwTQOX/EMbdzTRANDVpCo44KMDObbUGbLAFQHaKc6fILDzAE5TxxJhoJcBGn5fQFGo3wAG+PyhxGSVAYI6cGUA5GUAxBV+wM5ICwHRkHAzIPDdAeJKzTikZJUCjwGvcyqFFwINJ1/+J8iVAG1Svz2OPI0C//eToETo8wF9OwTEofijAOPmCChm2LsBVvjs/hKfiv49GAeHNcSTAIcxbp22DOUDECRln2MoeQFasSxS/NTFAREGfoDDEFUChsUNsNrZAQMBWRGthRTZAOxBAlf79KMAzUSMRWc9DQF9w/U6meDRAT7+5d47fSED1E9l8EWEyQBBvPeX3ADXAPean/rQKNkA4ZWczbDokQHofDqHyCi5AZYvJzyysO8DSSrF/7FE1wJKvzbGJgiZAFzlPFtmIR8D2ECVd6M80QEibFyS0wUBABOPa9b8LK0AcDcEHDh0RQDaLUtvXBDhAESErXBZQN8CzqHLE2yryP8vTXtPCyhvA8WHEzHQEPkBOo7JUXTRDwPrFvgLV5hfACkHix7koEkB2lP9go3EtwHJde/IrAbM/4EuR+FSaQ8D1DMph1CM8wLgs5HHQ5xLAfz6aPXe9E8CrBO1LbKcEQJYEaCkvcD3A7behAX2jMEDvgHYqHEY6QNs2BxQ30UNAR2ajcLKEKMBbv7u3UMoPQL5LD0fxg0rAB2XKYmpvMEDvLqA5kLIyQKg2f4R0ljXAY5YuOXoDOkBu8Ml/ZJ4iQLnBiOP9fEPAh3Z36PMoGsBGpy0/RgMEwPT/n4Tn8ULAcDDO0PdnG0B3dpCwEQcnQNrbRp8BkjBAz9YsqlPMLcDsmr5we2TjP4IP4TNKeyFAzxkLb9QQLcC+vjVzQ3sYQBRijvBxByLAGwkiyj7hOUDPZ61ZWgIywGPfp5GY/y9Axq6KF6aaL8DWWqfXCIBDwNHvLgE7FjTAlFD98Mw+MEC2EJ+bnAApQFYMcoaelylAT8s0agsfIUB1Ec0KzOkhQA8QASB9eT7AvluvTB/7NsB9XoOVLWQGQO/vaZ0e3wZATwVn7GTAL0CrbwGzFQA1wOEDAasCQTxAlHdO3ToTQUBJUq/kDTQVwC93UOwHczxApc1MbuMJKEC0/QLZMZ81QDHBP2sC1DVArvZE7LuQOcDW1Ef4lGwzQOCVDZnjaSbAdzaWuYHgOUBCqKWj76EVwMn6GopLcDLAWSlSf/OzF0BuGmLAmOsPQGPVQg9T7Lk/qAp4jZ84PsAzJsvsTNz4vzc9QQTZBjXA9lkn0ZlzKcDwxY6T4hk9wJQFZb3qBShAJRiIXWn0MEAMhDSKDoAqwHhxdespWzBA1AdxlnGxQ8BLs8e0a24dQCt8ALLo3BjA18EJZU8wKkAs1PaUCrAwwIkpqwuZ8jjAN0odqWeZRcBXF3iLaz4jQAt/h5nZphnASnhK0riUK0D1cFpRLkE8QKT8aouLuDbAd/qrKvHgR0ASrJiXWeghwOoFGm5vMEFAQuSwppuQIMARHpPGxZkIQGciwRwm3i1AdtPAbCaoI8Cv6XjM2KA1wLN2N8CmbDlAGO9R9lWZF8DnJZ/nxyUwQJ1FFvQHdzjAwSbkofgUI8C79iiD1c9BwA4uUOHhZARAriTcnEvTNEB+uOsxcCg9wIq2SVqkuzdAUuHbxUFdLkDRCxYmQnVAwC+AQIeXSyZAPj1T332lO0BGmBaXHpxDwFUT6yQa6hDA2yMYvavpQEAd/gx37l4ywHGmRZKub0HAKSaD+HbhMkC0R6xT63hBwF8+0THgnEDAPphgxhSZOMD8VYF+CQA0QH7qiCnboTHAM+dGGvtrFkBk5g6ppBIgQENdZGD4uRXAcspOFq8lCkAd5LI+1oA7wPXo/DOdqzFAZkDrYaFpJsDdkZdleqgjQKy+U2Vi2ihA7991CICpMMD/9/K4lAFDwLIUBSXD60LApzBhArkWEEDIhvht7RBBQB5wiUfUh0RAW/voAJgVNcDBAxspmx4jQH8jdt93US7AoQ4Q6umeNUA+eWNqL4Y5wDVQtLuqoTfAnUeK5g0hNUCd4USZVh05QFVoHAxcNRzAdNjzGY/LQ0Bt1xPvyGtEQBTXfOWQTgTAApSRc9PlJMBDGM0enDo0QDEaf45bhypAB6/5WBxOH0DpXAjX+QQmQDVL+DpgMjdA+qWWIf8xNEDhumjFrAM6wMEnxA5YZkRAVM2nOZdxHUBRx5BktSs7QAC+/KG1nh/AKco5htjNOMAwd0vzX7FCwGRvkECj6TlALxIE/31eMEDR1bQUaociQNYn+Ajh4jVAoN4umJmZMUAX890IIGU3wKhcCa3NgDnAxFELKpr2GsDN8Nk52v8yQH61nBbJLSPA6hpW022hJ0A1qUGoI+dCQAp/UCF+pDRAfcW9hezbH0C50o/nN4v0v4Laz4Fl/DPAg+sAzkcpLkBeYAqWAWAowG8TZyR6EDfA0DNFdD74MEC6S8EHFakSQIAX9Qit10JA+FqThbjZJsB4l38s9V42QEh4g1vYJ0FAL3FoiN3gN0DZvrE6spI8QHYtczsCnjpA2BKbXeFyPEDSjfeEFW4cQBotrl/s1TlAcM//NxWcJ0Ark2KUfmUnQKriAINJKDJAAKJz2zR9OECS4Qkeb88owHFTA5aWfz3A5bs4y7+HQcBHtnby13kqwLiz4F7txDNAPlJtvMggP8BFKl4xwX1DwOLnlYaA8jzAfuZnau0yM0DYPCqVnLM4QGTDAewfURzAPN7rKo//MMDYruU0mdEhwPd2BBvF1CDAUZbjBadfOMAxCYVB4WMzQFMkpRfH7StAe/rv/plfNcBISOdcXNARQJt3zs6W7iJAzoDvF/OsFsAB/3vmvFQ/wLnJg/N71RDA7pURwIjAKEApQUY7ptlDQAdTUhUH7jTAuF69r5RtJED7rl9pc4QpwOJtsltS3SNA0quohKSRQ0CNSKhOWbowQBkBRkITyC5A+K7mXCluL8BFk7ElcMQnwDjYi+8+hRZANR61HibUQ0DDU34u/IA2QDlc39bLdjTAmHKUMCxPMkAYtTK2nLcwQPMV1ydxTyBAyqILrr1tFcD3C/mBUX1AwPEz2dKguBtAgEQc7iOdHMCGvwP85745QProTDOUcCVAjdh/W0AkEMAPdxiMceVAQNTdiV81EjLAnfKPLXi4H0Cy5GpaoOkNQIo+A3tMZTNAf2s7px+cOUCp1Qpo+mMiQIS7Uc1QfT/AMwqfLp4pQMDgiGVzm5cTQPguy2ghFz3A+/mOBwJdNcBbjP9Oe53+v5gNiIeMrT5Ah3wo1LTFFUDXqCUyw0I9wODITrOthSdApb8LzYKDDsC20dVy4RAqQIsGrvZf2zDAfikhDep5M8Btdrb1rKcsQFs2lcXXGBzAxuNWIhFrIMDjP3UHmpQyQLrA/OauFzLAhXZ1dae4CEAUrwutysQiQIAqc3n6f0PA3iifNxVeA8DcZr9k878jQNpjYxNdfzbAlEp/9cHEMUByIFzGJN8jwAumbQgLrDRAxAeKzOLrMED+E8BiM3PZv89rj8lvDyjApU6eWPRaJ0DUFwsVGDY1wABLbrEjpTNAWXN3a/BdNsCBxbVwJ4MqQJHRTIKIlyjAvVukz5GLLsBe3Uu0lo6fP2wz04pd5TJAQIEXr11tRMC7FX6eRiw6QK+nxt6B/yXAC2uwgKplHUDLzwz523nbP4lFh9h6bDPA2QOxmSlzM0D0cTaW8ywewLhmDmRwQyBA/IoufbM2NEA9V0/49mspQFDHOLj0+0LAfOfKmWiJ0z/WpnDw/f4kQMJdKNDcRDFAKXdemTijLMC64bRkmB3iPxPNRBhsNBhABwnR81kiEkBKBi+6oEEhwNCoJMd7MPM/gR48FkDHM0ALIJVb5kUOwGf0+xTGfzNAONFVGywiREDLdDtPhW5BwGtIz3q05zBANAnR8UzvR0DZAnYfpfIhQMdmJLB7ABLAI+A7f6VDMMDd9lYw/lMvQGkqcwgknhxAne9KHnvNBEA1M3N1/Jg4QAK8rDbp7ELAvkf+r444Q8DAYvnW03Y0wO3ujIYiLj1AUaScZAYFSEBBD9yo/Y4jQDvsaNWRSzhAN+gTOfE+KUDnWFqnqdMvQOZ+XkpSyC7AeV+t1SPDM0AGLvPP6LwgwMTs/PRt4ivAcA889kkhH8D7l07AfMhDQLdEe9IfUjHAPyk0+AqOJ0Cu905/Sl8/wFoZsBJVjgpAURboHWKjLcBAmoFGUqw5QBm/UOlI6kLAhwPCxRFuNMCMXRw9ZVomQN5E4Xt5QTNAI89KfFWjQcAmrxurKcszwIxCkT53UCNAs5FJUX+UKsDISIpaxgVBwLV8yy0QxSDA9JxQDV3vFkDwTvsYGGNAQALJQ4kUGBFAC1NmP2spMkBBp2GZdWczQK3TXGCC2DRAHTr5OpYROkB5oY8gk0gcQB4nFq0eqxBAqGU5h7b3MUAnwURoZXIeQHO3R8HToStA1bXvev1LH8C/lCIdnBAqQBTODRdgHBfAgUmgpQcBMEC7dXcOWoAkQLQRS71eFSvAwL4Al26AN0D/zgbbc8MrQBhhR3GKsTFANFsjSt+pOED3ZloMLBAgQGJOPMrWgDPAFz5/9WCdNcDoQ0irehoxQEw4RDQJITFARhtZnOyJOcChQ9Tb7KQhQH4dUzJT+j/A0kEWSCzoC8DvTkGkDMMWwHV8B2OlBxfAGGmv6/r2MEAQwHfqtCsZQK7VxSAtLCZAzYLpsH1KRMAZs3ttgVBCwARjCvD/akFAopMlTb+iGMAD0GJXBtzvP+YUeECLPhLAq6jmdVo1L0B99XlZFe0bwFGMBVosQDjAmbe94nVPIcDaKLg0lochwAy/gh7o3SvAekINBFb7OMBKjG2u/Q9CQDVPooka9O8/jj1lfFpWQkAGGZRh5hIowDOwzTqR/ULAXP/3qHnDM8BAEBNuhHU9wPpZs7H9XgbAY7CQnyqOGsCxPfe8XFE2QORwHKYvVhxAKvEnAvoFGMDtex0S2gI2QO8E8vZOpifAa99FmTYrMUBygHIhKRAlwFoV/mo0pUBApJVlU1ECOcDjP4i1gCQkQArTDm0DNyxA2g+Brq5jN0AFEqTbMy4NwJ5xulhQJEBAtLiY+alsMkBmNrOewkojQCf/yiCivTRAl0cIjuZjQsD4XYOVk+9CwL7wh2ZDeDZAWK/nu4zvNECD29rvyKgQQCCQgHN44TZASdz/ZH4bFkDaUlA80OjtP25MyNBlBTfAZVN09h3nN8DvfMBDb+A2QMIYJOFUqyjAj3bFdpiZMsD1RbxiRdI9QKWKoVIwfj/AVkob6UcLMUB3vCwAW3E7QOORCdhlIEHAQmLbbYuQHsA8eOZrY1oiQHD8AlCFXyRA3pq4Me9OPMA4LfjWOuRCQPekO2ookCdAR2U5u20SPUACBi4/ZS1FQGUv9HcFDzDAgRQQbneXEcD1SigzDKc0QOjLeCjsMB5AkQsF2KwzJMCgKaKvM+Xzv1kqDBnuHzBA0RYeNBsIIsDWxFsbg5kxQGPmAejMiT3AbHUxUZfrOUBqg1jFxUs/QBA/3g4PyxZA6VQOD0tR7b8/AMl1xSowwF0Sf6/lVxhAqr3OTfuLOEAWbJ/Lp8QZQOPtOp7MLThAhXhiWt0RLkCqIQ8baaMtQBH8UejukzZA4b2H+h3lOMAq/Tu99DEqQKE1Z8Bt5jTAnZEIaXguQMD6wL1JL779v42xTYzBsUJAkOVMtQVCQ8DC3u1pHV83QGLrbPKGWjjAyFOjsiGXPUD/R4+SbHJDQO/fpowbIC3AijGeBcYlRcAxF7ub2QImwMNx68dF0jtAh4Y4gJX4PMCG5A45v90cwLaqUvEkOxPAuLdZNECfHUBXGbjntVkjQMkLA6/9GzfAv+0NTc4PEkA2ioR0Cks4QEPN76/9GgzAL27OLAE/PsASYBiJR2whQLtWE/pksDrAgcjhGNQjQEBhv3u76ltGwB+bPwTUJUPArmN9c7P/AcDHTDRgMnfgv4rVbMpjOzNAcRKB1o1EM0AW59XLsHgDwLTURLxm0TTAbVeHrWpHIkC24uLId58VQGXU/xwbPyHAMaAUzbBr/D+jKP9mxtYewM/PGIl+wUNAuUuAVOZJM0DHxgR//Cs2wC40OWgUOhFACBe6cwttM8Bj96iPkXQ1wP8ogXqopSzATYss6HF3QcAlHmFhWDwhQHTddTGZBCvAN0ygm3aVQsBkgjNg0hM5QN5giOfybRnAKFYlDI5ZOEB25yqYk6MpQIa1b5VDLSZAAFaxWAqNA0BIzYDIMfMQQLsTi3m9MhNANARnMSiEPUCUMShPyGw3wL5EhlcGQ0DA52HKmTTWJUDawGkIuxUbwEnQvoNSITFANZwSfomUIMDSlLH8G280wOx7dlhfIjXAVux3/rcIQEBoWuuKNNojwEHybkp6WCRAb51GEFRFNkAsRnGEG1Y/QOIuqhYAOEFAxiHtkX/WMcBDv8/G/CklwGDZmDkjWiRAWzaDUSzKGkAcVtoKiwQQwMLXeREsvyHAr+o2uzmzKUAoGlG/ET00wKn+HVJ8PynA9A8EWrVoO8CQcNrtOx1FwNHGup8bwBjAzidsTQaYJMA1bPd80jMSQGg2g0PD8CFAUi2OCOTNKUATFCnkZDInwLLSgvX57zjAwiIMUGbEGkBOxb5MIm04wOovRIBlfjJAdLgAq1kSQUBBbYTLrjYbQLSAz+9NKhZAivARzOpQRcBdPvsX5W0kwFgDf13kSkHA7oT3BjyaIEADZdIhvnIfQMWSEmh4k0BAe25N4QqDQ8Dfjazgpb1CQIjGlpPQlTFA5O6VTKCYM0Dwk0M7j30mQAJpJX0R1D9AjPgU6R7XN8BV3oJ7uGoEwCsM0IDYIjJAeoAi0uTYFcCIAJHTEAdIQO5w5s7wN0PAwpis7QRUIECv9gfBuF49QK/oJ2FYP0FA66mxMLhlE8BRLwPgV8w4QCGywQBoBSDACVmNbZq+DEC6x7K9Q0c8wK6qqTc9h0TA6kcE1EQZMUBVuLGq9BnMP9UoWFArdwlAL+kOf4XHLUCAKR23HMoyQN0o5guWLUTAqeEjUx73IUADDh9aw7YwQN2j+uGz+jPAsLs4Ki7qEUBkpQGkCX87wGsa4g2wXRVArJOYkhMEMkANpuQpAF0lQEVQ7VH8Ww7AEvij2IdvMsCGK/h8oikpQLQ8fGsVNjVA61D8MhINLMB/MOlQn4gqwNyZayDPrPM//OTw1ZdgFECJwpsevdEtQB3vaU8TpjJAB8a4YQexQUANAch3g69BwOMScP/gVCZAiHV/HwS+OECz2GGUTe8iwMEKzcpGYBNAFXExmQxBKkBdxdiGqP9HQPhTp7AgNwxAcNEi49HDNsDxB7fdib4yQMBac5TPOiBAAubkN9QbNkBoPqESPSguQJpWNjHesjrAv928mLqBNsAWdOn2JU8EwBACwvtKwh9Ac4Wiv4ypN0AkUtWPQtBEwAoVppPYIRpAJ9u940RfI0Br34J2/2YyQH62xdrjsBvAceDHTnYCFUCGhGa5tBwMwNNFei0eTDHAFk1791+iN0BpLwf7WZQyQLjosV92oTLA5SP0qfA1MEApnWBWC0RAwN7jUOC51yPAkKaNZHu+KsDASzFA0fcpQPanghVEECpAYiNzhaaXQkCnzliXbmoGQIPD2fbjCBTAli8lK2WYAkD6KfuNWNklQKa3rAeDakFAKoJkJIZcSsCrw/+QU5s1QHaKeaTAd0TApoXBWTylQsCkTr20eHwxQJg8DwJyBh5Aix1C25WaQEBMuu+TTjVDwOJkSo7GIS5Avke1rdjnNUAUB2QKGvkxQNl0hczrviTAmdtdT35xJMDbs3t3jvciwF+fwlG91CLA2qxHIjQgKUAfVBwHN8T3PxO4gH4W6zrAEoUX/mNlJ8D8Q/ATtLg4QHRaTvacOjLAhQTKvRXbG8Cx2w2F9IQFQE5nu7qkazZAWZZCBxNUJEBFk3rMQZpHQJRfXQt7cDTAWvc3fPiZH0AOgXJU4PU0wAzoP5DvFyvAAkRLwQcPAEAgtvu5YFYyQNDb0BeNwD1ARqH8V9wQNMAFRSEcwTE4QMaw7VoCxzBAZyVR5vhQQUCP4rZgXF1EQCmedTpbKyxA/OqeS31aP8CQZIO4fOEmQGOEfnG9fjdAWb+tikLHH8CRnXcWxZYXwAa73PrXdAFAgGl3MuQkN0ClLWb+2+gnwNE+RpMpmThA8JsweCd+QcChd9uo5nUgwIHtswCiSyTAlw6ZIWi+L8AyqtBaIG0zQK1RL2WCWh1A2JkYugewNcATGD63emwwQOly+sNqHkDAqO1Zg9GcQsDnbJkeDDYlwMX/cRufxBZAT9ZMSwTFMcD0sxhfxWYKwKRxEHN/+ENARTNFB176K0BuUvq/IJwVwFwGV8CXD0DAuFahupKICEDBJefVbO47QHTkcyRZaDjA6ynr9wA9QcCS1UylZeYoQM17VUK0aQzAa2ZXiKaNNUAt6T2U/4A1QFX5RNDmbj3ALfNiMRfuQUANGZbbk4ACQFA61AebrSbA006bbyi8QcBEGJ7IKHkPQFjtJ3UW9UDAilzZdIBa5D8+w1MnpPAUwLd08jDj3BnAA4y96hhCI0C+S7qSaxIuQCZ0T6HAfxBAV4sXVfFaP0BiD8IFfdsLwDkdMnSofTNAdRkUMUT6OsBSJxsVdpInwJhOz/KpRTLAZLiDetaAPECT6uee9hw1QH1FS8ClLz3AEd9SwAJvQ0ASRU78m8MxwLrnk3RopznANGcWqaQ/JMCDu/aU+wc0wILLhr9bNitAkkhLjWhrLcBZPqeNOE9EwHKpbFQaMTZAQENo0SQEQkBjxkrPCwwxQBw63b1ewihAgmUynNNHMkBsNpBbUQ9AwJN10qJUKDhAhPKpv4F2GcCFIN2wXVNDwPQBkbpkGTdAhEtLxEpwMEDqqJTQ3TouwMTqZPkMqxdAeQsXHd0JMEDXXzJWe/UmwND184fEYv6/WQ9OU7pxH8AJSAlm6UA5wG/eDZTgUDlABv8YqJ7qKEB0CNowxH1HQEcfnQtC1y/A7DKxmj1pNUBEjFBcnc8QwBSIn6IAZBhAQkCioTjKLEC8Y4QBWXVBwE/TjFLy5hbAJhrzLVo3M8CBc7Es3Ws4wCvVFWgjFybATOe0D/LmOEDCLK1IKHY0QFI/Lc9Ykj/AGg+xQngAPsDbLEAepy0SQAblCIXHX0PAyaEstRXsIEA34LkGJWgiQCQasmkSgzpA3YJdwI1Q5L/CwInsSOEBwChUghJqfhrAefjArO8DREDqtltaHR45QD/lgKbHNUBAfqnCgzh7NEBpMrsH/lU5wKMVudpQ6kLAq2dss873IUAIZNB6INNDQJDpS1RFtjBAS09T6jtWIcAdJjyzBK1FwIHjaAxnzjTA5CX9pqsmSEC9dxcn0kkqQOajTThZbC9AjjSULUiPN0BVhDbjwLw3wB8Y+GnS9zvAKRNG6Fc3Q8CUxvwDgNs0wATABKc7kCbAsbUf72MGSEDvVQn7yGIGQONLWkpz1TvA9K9LSJZ3+D9BVXz5pUw/QNKC5Aj5hkPAByMLRjxsIECEP1JP7fE9wP/FwnAu4TfA93YYmihOQcB5RXvxzl8vQMmK9S+Uqvw/NSZk2w0ISEA6WVU9aXA9QNOvoTADRybABdqeFGd9CcATsL3laizzPw9e5JAsqiZAfPr1deHsOsA1vzQRDoNHQFVAMgMQOSJA0QSrkCG1MECuWKS/lUYmQMh5VUG68TBAY+ksArDLN0C9T0+zm84FwMLELeWKiSXAEgz7Uy2MJEAGpYaFauMqQJ12M6Du5DJAAHMViio4QMAGD1kTw9JCQOCjndIxKDTAA3iFmZz7QcCqjm+fwYQoQPfFdH9pkClAnvxHjUUJN0D2V34762wxQA3bJJJTSEFAr8kthxYoR0A5rmHpOn9BwElYgt+C9C9ARvGvLAgD9r/UeRQJdwgBQAQJmoBs8DnAsMgPCCyEMcCJ8fSq3RU0wDcKbZH0Zj/A/c20rRW7N0CoI2RkdKIXQPXqLhravDHARl8R/RQXFcA7a33zitAiQARuRoQ/qkJArFZnYEy2IkBnGBLR6Dc8wOIZXWN/TETAZlI63pBtEkBvrj7U7qYbwCXBm1EZlkJAHg8bGyVrQ0DP1onhTwU/wOfC9IIVQyTAtVV++D9rIUBuq79FSHkowCnv6BALZDDA4S9awwscNkBtO1yZEaYQwATSKTsVHUdAp2AE8CggR0BNJyp/H1Q1wGfLoDiUgwJACmKDJqjRKMBfkowIWvw3QDMynHGU7EDAI//tWpZxMsAKKNMmB/ktQPFJQFagdf4/W4iTsXizHECZ80wjOuw4wD433QwaRjpAyMvOOjDfRkASGb3x/dNCwAVYDYdS6ELALJARD4Z+EMCKCpasdz4LwJv9zUcVrjVAzCokjkZNKUCnWTDqLeEnQFrgrXatJTtAdkuBip1iNsD5cfp9vuE4QBaC+pwZbjXAEThnYnInPMAbjWWgTF4eQFi7gyVyIENA30Zm59tOAEBF32NinZsxQIO/32Wq1DpA+K1Ix/mvHUDvIrTJZeU0wJC9lPaZF0PAJ3ldP08z3D83uEQbjl8qwAhWcevbTUDA14vHXJ8jOsC0KyD3R9MIQL+HpP3j0zDAWA3UwwTZI8Alp3Y21EhKwNn6fm+g4kLAGsdIVn52P0BsJsrHM9AlQDWQ+qN9gCzAayml22tYMMDzoy4/4rAhQIKHIY/UAjJAnkhx7jjEL0Czd9LSHKUowN8Tdab8WDLAKcq7iPYR/j/4geH2MjAIwPUBRQGXnfS/O5TnjXzuQcASMuEhxokYwEHSlU7Szz3ADsNjWX+5MkAnaum6BpskQA6oy/speypAFEuTGtnLN8AGythnNF0mQI52phNfHxxApxgwQJ7xQEDW4KajaGQJQDISA+CpQylAltEHORaCNECZ4f9ZrBobwBtdMOknwBxAeuMnPszLP0CxRSze5N4EwEhCZFJLjzDAgd6vQXxtMEBeHQiUEp02wGYzDLoOfBFAhOUqAqrhN8AMvrm33Ak7wCx6zI/DDSTAEsKgnV8JPsBaXj24IKQ5wEd3CZVYEPU/jRZQlyqxMUADEH5p0KxAQE7xNRSfFyDAXEa9PP48MUBuDbWnhyAnQMwfmncG/z3Aaw5loKWBMUAjUJh5pYwwQEbISIxrY0LAIPWL6NFUSEDLz/bEHs0xwK7Vd2mKoCpAIzQ8dxD9R0CC4f6yv4I5QAwk5r/FGzFApXW5Is6+L0AMt0PlqpcnQPxB2LR74TfAstErBF0nKUCY8opkFiAsQAuOo8XdcjZAMp1LtK2rBUCLmzx4pbQHwBFedchtr0dA4B0hPw4SG8Azp1Sbqq0pwIlmc6/1vCNAJEY/iRP/LUB6y+bTEFlKwNmBMbhwsStApWe7V2GsFcDghntxhApBQObL8tszKy5AradEmUDTHMDRMA88FKT0v0CPP3JOMgHAXjhcORYpGUCUadT9KnA5QN31OJ8eTzZADOdGG9HBJUAkzYJno0AoQKV3vtKWvj5AggA+pORkNUBdjgzJbcIVwMe2XSZCdzxA9hvaG5epRMBjWRlFjlRCQDSAHe52MB/AHOvtqSNnOMAwguDjIC42QMklwpixFDZAnfVkB+74OMBI3hPWCiYywDTSJ+sfnEVAcsZEW+tNKECGpbpJmGUGQHY3rBcSVA/ALlCzlXBeRMC9oCxgj0gvQB1+9RDqgxtAVifmMkDAP0ClT0klG4s5QDmA67DAOkdAmPxjrgwwIECzN/yf4m47QDw4Pt7xZBJAaYhVGR+tQsAZ1RHcVjYtwOXYXQJjhRvAuag7AxXkR0D2OO2CP+IRwO2hnOS0fSBAUezF1hJOOcDo/wzmBvc+wCoFSHrPHSNAjPIHX8NaKcCeFg1Cx1nnP5kn/onWZTrAjjqQc8t8N0Dr1Bjs5joiQIcGlWcL5SdAsxC33KJBK8CvxOkgUOI1QBsKLYT/lxVAFawo1ItJOsAkCinbc9E+wJ2/l8VS+xvAvEhrpQJaOcBO9ZNI94otwEji8OCGEQbAzErfuBvwBsBRqNSUZL4YQI6Gzzfv5S3ARg46SMccNsCKYhH5KyYhQEcVwzUTBEJAUoUR7oYtKkCWfwLtgnZBwFd1LvO9vDPAKj7RlPFiGkDEOgcoyANEQIpbwjySCzTAsE8NWq7UP8C+PGOvC/oywBEp4v4CohvAeg5gtjbbMMBmGac+dQUKwGz0X6RrV+E/BCO6p9CK3b8yuDNT8i8kwDdm2iyB0zpAgLAyg/dQNkDyEuHmhGHfP6DquzqCEzJAe49a6E46IUCnTDE7skX5v/MAdAXj4SlAi5tPNWZyL0D7UV6QKLg2QKBYHZSRPDPAm9SYeMb1KEDsrvgm67s2QJKpnWqfFDRAzOM8r0NALECfg12i7Gw1wB+0MGUO3BPAMqLY4yrsMUAYYpqlibH0Pxknq7dTuy7AoQoQdFL8P0Crcs+ShRUVwGE+u/4mhAVADeLZxMQcMUAT4XnoGCvQvz4X+0eYPTTA13wxvwKzQMDJUicpB5k3QDni5WgUhi3AYLnyUhFEKkBkqLABlycwQP5SDgHihyxAG19HsHxSO8CyZJFY1dA3wIKEk01iSgTAu0hrlm06+j+7+Jwn3TAuwH935J8Ol0JAUjKkvE+aQsDtAVptU2IIwOIelCio4jRAnRoXdNa55b/ZjknE08I3QG82HePzZDdAeOei3LRrwb8/4fhFW881QNCIHemiizXAKz73XRHpH0CQFe4QpHhDQDtZwIS3MzNAInufZEcBGEA1ZDakRjg4wHI3xRy9sxVAiJo7xLq3QcCL53Xi2+rGvw+JYi3YWiDAbkoi/CBSMUAXzhXRSAI5wOZdS0t9sRbARnH4r0OG5j+BUV8F7OEtQHjom/ow7TjA/NKULVuNP0BB02rsyMwSQPaOnxwTwiJA5cfrSzmwNkCgd4vxUh4gwH7S73o1h/A/gChEK3QWQMB6eqOYfcQjwHo2gCmmqx1AgcLVqmhjBUC95f7+kBwuQEaRJkzxJSjAjuAnvA8sKsDA2IhtJ9HoP+BuxvMyPSlAH0puyCruQsCBq3qBFoIhwIn0daI+cD/A0toNlah8EMA819FdJ+AiwD5XJDzrhgJAflJEZ6APMUAssHc+vZ8iQGqUAQqK8zHAiuTxl8FcRMAoLwEGpFkhwIJkXfbjNkLAJnrU4SeMEEB20i3P82kVwEfxkM935zjAb8FT51kUM8D1SIl1QaERQMJpdb8UWy3AfbFTnpCONEB7Ldhjw6gXwCcNyJzbQUPATRjXM/HUNcDBrAM66TovQJIf7xrr5EPAH6gdmLWxJkAVApJGYWJCQOdbI17w4UBAws6J8fo5JUB5uBJ4oG44wOHo3vL+0DdAMIM/AhwbOsDFLQ0IKZBCwLpSjavJuDtA28k63vjzNECyijLzA8woQFfvR1Kxjy7AGDbUxK+LHUDYprJ9pGUzwKDozZY1fUJAIp4tfnCGLcBk1wozBuAgwBYLOFfE5S/AY0qfUQvgNMCNH7IgKtYWQBqaBspaJTjAtsxvok9RN8AKI46wYdIxwFa8WlAeVjbAjctgj55DzD9MnztCdro/QO9h6Oq47jJAl93GgpoIM8BQ6blA6Zc9QGgyxUP4vy1ADbB61rWqI0D584zzYZsgwAl1QWXjNELAcHOQQiCHP8C9sbTL53U9QK1J+AJe0te/yZLpoTSyIcCZ24CIo3w1wKwdaRL2SjTAJ3CCLVJVHsDvb/Did5M2wDhqOYLCCiFAz25RJnvfAMCbb3QyykIgQDbYFU8CZzBAtRdisGaoQkBU1vQ52QE7wFN4Lfq/WTrAsaoDBVXm8b8CRcT3FqUwwLR/XlyvcyDAgFrAGghWNMCsoBisPfEyQN6uBKkpsj5APp7TTEMGG0CSJY2Wu0hAwPJttJDOJyRAraGbjfaUG8D2Xpa+uqYyQIgno/x9jzNAFcgYo7ZfPUCyLnTy9fn8P2I4Qpb/tEXAepgs+D7FBcAt8MsmRB4awChdZ/I7WiDAaZ2CxlnrL8Bw/7bfGxU1QCZYAsUFiSHArplNvZ17B0DlpMSf7SQ2wL6u+fqdWu2/ph+om32cGkD/a20MIsgoQECgEnIC9yFAANxU+tLVCUCnqubCBu4NwKVRIw1DHBpAzGwtg1CGIUCHz+cbvbI+QB7dybMu7BdA8U0uCNlFNkCL7dd5f4BDwBQ8DuiVF0LAMFdMPg9WHMAAKP5rvqz9P6VvwgLrO+u/jqbtRCRQOECGDNRFJO47QKiw+Ir9VELA2hppYHqQQsC9j8d8Cgk7wNLAnfTXcxZAQ7PL/D/9A8Cmoa3/U6wAQKm4872ZEBbA06w3gjexD0DPT15+LQsywCkBiDydXDjAUfTNx36MJsDVHL0cLP4dQGWmMKU9SDLAAEplZFaqNMD9F1s3RV1AwHwGUGRhEC3Au7jcQdvZR0Do37Zk8G4rwO9rFoEEtD/APtXI1pCHLMAr3g0C8DIzQI99Des59N2/rrmqOj37KcDZIxtaQHFEQKhlfZlySjVAyPuKkbWJQMAPyPQ1tiYkQJuAF26x+BlAwAIRxK09O0A6TNDRh6wqQLYH0Bwq1SHAi8mtoFd/NsDslpZK7rY3wOgb96a9+ypAnCUd4wGdLcA0SC4QE1grQOvCcdn6UTJAYM9++O9TMUDtmHCBAlYtwK8Uy1gc3zDAZNbkiHAGH0A1AsVPs5ctwGj7gmqMYNa/xQ/7Dx1iQkDvHeooXbdDwCJAYMsHlCHAgKNV99ZTM8BIoYnWY5MfQIQ3MaCuRiNAeY/TOdWfN0BE+2Y/XH0ywErjUBcZKTPArQkiv8F/M0B3wHZgN30zQEkKxmqUBCJAls3Wo79pD8AhCpfFnX82QDfNjN7JuBVAkbJbm9ndPkBXBUPkdZLIv3zuPk0alDlAT0gWv3rRJUBEvZIQMJ0awLRwR5RDsClAEbFAtsmQNUDpzLm78EIawNswpwlnFT7AerO0O0IqL0Dct2Szyh4twKlKm8QeyAZArLODZDRIRsDohaqdw+s5QKoTR+oO8ihAzg/YtYXWMMBACSHArHsrQFo5aCcErxzA/lKINDSB+L+5MLxdPCs7wGYd0PeAbiFA4lKDBe019L9r8BJjNeZCwGt1b+nWRCVA3VeamcUpOEAiaXswV6gqQC9SdJ8p8SLAJkBLWLV8K8CJw4gaJ94xQC64x9NflyNA/9TC175bQMAYk/WV7e83wLD5+i9WfR7AEv+vLgdcEMATK14IgUoxQN7NfRgPaDbADDNRZrEdQMDfe8yRphkEQNKt+vcaCTpAik/GMbv8BkAqSJAdV34XQAzIyycGEUHAS8o5AMVU4z8VAX09LREhQBKTv15oQAHA1ZDoKmmXFsAsXBEv76gQwL8kIlqWR+E/OCVAA03MOkCUdRORixlFQKEP75XlfR5AW963WNANNMCfWsYKJTgjQEOsfs4jmvS/sFg991WsQkCMaIwrEhBCwP7BTOXkrTvA3Vt52z1u+7+WyFD+boxCwOrLFLYWlzlAiYNjvfW9IEDpG1MSAlA4wDEluSs/wEHANqBB4Ixf7L9yAH0131Q+QDYL6h5Cbvm/HQKu7h6QG8BlbxUHFFAhQBlLS25xuiNAL84M63/yJ8AhOVtwJBgqQGTAkuBA4DLAQqQfHUsCM8ARY8B/NhoywFH/utkMQDRADo01etcINkBWeoyYpxbnP95j3dHAuB7AEinE1sPiN8AGIG4MxV8twLfZ9W1wDxbA27HRCzmyMkD1ZkFdAxZAwF/P1DaQfErA6w4M9O8OIUAxrm2mEm03QFdWd/K5SkNAcGdVGGrm6L8tq1lyFBceQPhL68zGoQHAEtXr02cYGsDT6GGjzRIvwDAud5ZCShjAc1iEo+4RO8BMajThnwA1wKMWR1fKXRnAGfIEj3UCMEAt954w354uwOIsXFZABC9A5TtI20NhNsDY+wPtu1dEQNSL5ocqxy/A8r6HdyKeOMCOu7/FbOdHQHlTt9L5bkDArHd3xv/MH8BNqpcGhxkOQMCN9A6uzChAxaQUHGhjREBdS+SrSDM2wO6aqRGZsztArISMC8yLQcC1CDXq3s/pP5YzsB49MzlAl/kbazReAkDnq5ddk1YrwD4nul3aLS1Am1d8TMG5N8D54q8iC4g6wIVzhKG6JzHAlkJQrMRFOsCcG+K9XAowwKig6SFKQRXAkrJjogROP8CVU0HN4Go+wDkiTq8ws0LAnLh6rcz89j9NcVi44f0xwLKoV3Dl8znAVV0nJ2kWM8AWvgyxCiI1QP1TzowmdQXAb7FvCmFuJ0Dfyn9uDC9DwEUlKd5XDiPA8M7sT2G1I0ApNbgm7l5CwJKPO2uX4zrAqOwbL4FD/D/rwWNSQbE3wHobUWlrrj/AZX/6PyMjQECSXnH53FgLwIzTXZpveBDA3+c26kcRMUCeNRL8VH45QAHfUMy82DDA77pOnlX8AUBGV9qIIKEswM9Lp1GOqArAKUOF7yNjMUD/CsBOfuQ7QMdCKX+88fy/HxYxvCUlOcDgXGNvhaMlQGhabs/NtS5AskzMG2QtK8C/RpoZ1HsUwKK9w3RYejLA5uus9h1HNcAyEC8qDuQDwDa2XtNOahTAzX+Qoy4yQsCxDDmC+6v+P8JYexTdiidA63cXHAEM/D+HskdsxTw5QNC2ndeadELAuIUoewUiFUCRjN7rew4YQBpXDqnvrSHAnA7l+vNDM0Bom2rvXN8gQB8KsTSshkFA4EmUIhBJI0DHphof1YdAwFGFQMDTHjzAKVSvbMXOH8A6eVm9V+01wEqIllreIzLANgu8WWcBO0BHOnaz7AE3wJXaPWeRazBAwJ5FfZtIOUBhpTJEPvkTQHqiIpw4/DDAyoRYYqWyEUD1V25Jr6kQwM4z2wkGIRpADUQaWZusMcCuujGL9v4lwAXVS7rvBQ/AVs0wyWMfKUDiqSojLfr4P9LJhXnEpCnAGv22PbzMNMDBWArMqlpAwG3WrC+W4AXASLI3Y+aJCkD7KvhWSFsJwIqu+birESFAj10Acz2bN0Cm3gePogohQLBHDENCRBPA3pqkHDKmE8CWvDkNZfkyQN1h7mIwLETAFHvTnlstMsCBzBtyWzPev18IeOX9ABHAwdw9o/FEMsDjRg9bmmQnwC1FDKZasjJALPcZAQLFMUBarU7uS+n6vyBlsz/eNTnAQ5hZJUYpPsBi6qSSfJU2QDYnSKP+rTjArSLxe/GsIsCEFqOXfazlP/tNumNlkyhAJbSLAUr0J0CpUR/MV1g/wNHXS6a4pS3A1N9DFT5bFkAVQ8EoU+Q3wCqNr/1bFERAFB+MOZhLN8D40WGvnXwcQMErqaQnAjhAoBbLoHwlKEDPDx+lGEn7v1beemMtBRpAyBBt1xcVLsA+hSgFofVCwHyILKT5nDdACOzwiYLcNMCkK1UdbC5BQBf3jkfVjh9AQNXdSbyzNUAmFMbXKHs4wPh4+97Fjz9A+FSjikYDL8Cy9NUniJg5wHbK35ul6SfATwSe7I1vBUCkKq/+nvIjwGGfP/glPChAsFEod8/uOUBdW5XK5uYAQCH4WgdabRTAJTKu4/tYCsD1hqexA3pKwIKcPUHNDAxAMHKUxqhLMkDOAT/U2hM7wGlKVQZkTxBAlmVJmGO+9T8uaAqMkJ0SwCHj6rDIa0DAh0g0wH1sO0An6Xqevl1CwDHROKCgwivAno6UTKOeNUAWyLC+PL03QOixDSpqzULAV/9qL+slJ0D0EekfPvg2QKMbZ+HanzLASZOcAf/VQcCv1W7/rKY4QBsSRJ/a3zfAspmClSxKO8C21Tmg6+kgQIeS3TjPJRdAZA7JqXGvQMDjf+658t0bQJJDKfwWwThA2cc5/4BFN8DeU8v9RWQbQO7WFAymrCdARYPPrgaMQMDFmbrdNi3tv4x7tIjmQgVAJR48oF9l+r+uvyXNfUQ8wMBC+yoxokHA2ylvz/bgKMD0pC9ABCxAQIEqCZPAyzhAU9nsA+K2EMAtZlEvuHPTP8xuQgGwqjRA49jPO9qhQEBSG/x3/TUwQJHtRyplUN2/SKiJBHyxJMCmVcXUgIYlwE90Tzwy8DBAtNBh+Ix+GECrnlLnEko6QJ/tXDe5Y0TAVYPpDjy33D+uuv6w25QzwIzVy2/UGSLA+F/wbqsvPcBlej8gPjMxQJ6u1HJNICfAPp6lwzczI0C4f2MJENg1wD/8FhkJnCzAhkD5SnZ0MsDOub7vIkRBQEqmwL57kjBAAKresnO9KcC39wLHqoYZQBYCj75YpjhAsvV65i8oQsB6/tjD8384QFxB3i8EWRHAWaqLEnxEO0Aq/KjdqtvAP3H3st15LjtAFpngfpYXSsCeSSbodS8cQCGWQghR7jZAelc6lMLsFsBm1UdlS9k2QOPGNNQvwjlA2G7woP9vN0CBweX6f/06wCWfMQOAmzVA+08PDVWX7L8n5rUW5Jk1QJkUGsFIXzLA9sI9rX2667+yIY8yvVAzQB1Mp4AARfC/6rQ8xQIUMEDAKgLl4T4cQKkRuBYtMS5AK3TnGWZBLcBv4I859cQ5QKxO2X7oODLAlYQitf3UOcDA8pFWDHk/wPKzeYHm5jrApv5Hf3vVIEBEuEL+4dY0QFoC0vp0dT3AtCJlmNnkRUC376bPR6Q/QJ98SppnMDTA5E9+7jWjIED458xTHe/tv3crsI8ZezNA9aHkJcTzP8AAC9iC/K0cwKuRyJUWiglA4K6U1cRKN0BgwqEGCQUpQNeQi2tiu0HAoZnGusiLEEDABZWftYMnQEQjWpNzCzfA400HXXZgEcATAG1SgtkTQOxR+bpylB/AQ1Qa34+VIMBZkrQjvmk8wG0sewLJc0TAbZLtXJRyN8BCUQXFRSNBQJT14VYNmzXAJOTgPO1eOEANuncqWQTsvx3H1TrEjDFAB+8bIAInREATMxfmsyoqQIoUCbamLBlAyAYR0OKYOMC0iNB2GzAWQFv2ufZeGzjASwMFDZ9P4L8k4LCUD+RFQBtc0HHQ5TrAbFmp287HMsDb4wKT0mE5QPKAfMlv+BLA+gWqnGlfOMDKymTZViQhQAtm5Ti58C1AlgpIHqMEPMBS37BupjIkwGe0IrPnGUXAvThpjDXQPED2dbz3mI84wCLo9lG0bSNAwlBFvuZyM8C81JhoiTUTwFcK+3mmXjdA/saLFKETRcCzAdrm4pM3QDFq5lUviDlAxUkDbzwBQkD532wgGgYsQA2DPsvrZyDAvjkn2n6j8D+K0XWM7FI+QA80XPI/CxZA6X3et9MQQUBcknKYCfEgQCPlmgtjlENA5auY3+eYOcCNYaM3STMbwKv+zhf12UDA4sVfE7DmK8D3N8cLLnG1v2PmPjK/CSRAFlyctD+oN8CJqPoJAm8gQC65+JDdjCBAjVmXdftrOEApx4UtuTghQGgRqbVh1gLANrFFQvzePUDFy3VrvGolQK6/GZuifCLAcpL65kEyNsCWsOq9XqEGwMVU2FprCTRADcAm5AN3MkCq5Wwp4dUbwJT1jE7pry3Ai7CTdL3nLEDoL5pTp84XQIRonCXl9jpA9k4Y9lUbIkBYtgOp7ytDwOlTvqj+Aj5ABm2ht/L5B0DoX2a9ons2QB5wj0qJJwVAsidmptgiQEBJ9PJxCo0HwBZam55+Jh1APwo0wsYtQEB31IGVPvUfwNkuby7JqDNAczyhsWpMJEAEt3rgwzjWvyey9TBSri5A9cm8tUZ4N0DeCEe0TaQxwOEdPsmj/UTA1HwkMMGeJUBXSTGlP6A2wNQb3cHL3TfAex/jqae3I8BWy0OV8kM2wDJ5VAZZez3AzNZ2cIixNEA0oVZtq4w5wEfn6ux1ziTA3iIj/TOvPkBJPocDdFQ9wC2tHvW9Ti3APc6EbBuiPcA14LDQanShP4Z6DIPoHhdA67EmQpgUNMB5Bmb0uq8awByWILMMEBdAT6rRemMrRMAiet/dTsEtQPr8Wtn6skHAep+A6NcUPcDJrjIa1CIlQOzPX2Sd9zdASYhIaHSUCECmqtwFiF5FwJRBuKbacT7AZQ0QtPFVLUC1FPrgrVA+QEONkLQ43kDAK8/Qr+xXKkAfZlxSmXY0wPnncGZouTfA6svpogOrPsBYBeUxOUY7QPHXqMOmIxlAl71mz8upN0BrgRsELQAswE5OzJ8unzVAUFfKp1ouPsAI0r3tTS0wQH3+TI5QthNA9W10LVjDMsDQ6YRfDSY7wAg9u1J7iD3Ao9xLqHhkH8Ce8RuT2tQgQEak2+68FC3ABECceP5DPcCTulL5VeEmQOaYJ3mfUgjA2kUqJ/yuO0CP+dt1tmUpQJqCjdgEWUJAfzmjji4b8r80dhISxAo4QG6d9bBlPhFAvrsXWTqjOsBZojAkC/A1wIWcLAeNvQLA2MPOMIaMOsDrKzSgdk43QFZ0FXk+GULA8/SkboXeLMCW9UTkwG43wNRJ4Izs9SlAHz/p/XUTMEAZmP7hQSk1wL+17iSx+yTA+3hj+BcrPkAfVMUFs5U5wG3SF6It+EFAtzkgZY1hQkBJerYG2pjSP11dzjfp9kPA92SAXNyaM8A05uKODw4TwPG4qilDtzZARzQxbyooF8DJB3YH0Cc6wPNglzfhNDBAb4aa6hs3EEDS0o38UGs7QNakXO6Etj3AS1quMM1jM0D/q431/NdCwNnMMdwSICjArLBjM0zuOsAgo4CcyXQBQIgEoClRzBjAJ0QaI1zbJsCgfENDOlYSQA/UXW2lti1AtaGGxHy0IEDNV101XDRCwNCq3z1wGEJACZMFtYPbK8BDFcuOhjQlwKdVeM/XoC5ASxs19oXKMcCVO6/anO5DwJrvmlxYDj3AonRtuJctNUBq7THPklkvQE/gnDXKKR/A5W6Fz2j1NUDTzwxeeF0VQN16wWFb/zHAV7d+xy1uIkDshwYX8RpAQBLHBzfCtEPA8Mv24f+ZLUD7DemUUs43QIISgiS+6gBAUY/IbHL5OcD2KZz7aSM8wBTtFIUKszdA9qwSBjvWBUBJdaDKI8kfwDMF4xftLQnACDabt1pjGMCymygqE4gxQLqGzRDTVSlAYDpSqioGQUBji3SZmSkmQOVfxsxe/BhATNsIKiBdF8DjOoULGJU8QNMrSB45kDPAMOehKjtFBsCMlVly8poKwASIBlWLNT1A16Q/LZQAOsByvMVv8+r9vxq1QMYUrUTAJg8LkcwSKEBxHl9EtXY4wBzHvpd8AirAyEMFZKwDP0CSg56P48g7wJDODR3mrjFAUH4BgWkh7j8loP+C5wc+QH4UCUDvxBHAo+9FCwO1QcA1lNEnMWApQIqRDfLyozPAxaMzqu14EcCT2OPWkR8ywGqB8aORnTrAMMwwcwioMcCeVBVhDoUiQOt80wzBChJASmTLpC/YNUDpmswvh3BEwLRAURxMGjLAMTrg/2FoMkD/2vir0sc9wILziJKrajFAmGd/p2X+K0AGGNnhJBkhQNLpzc+2NyJAea7C3QkqBMCPOQJofVQiQNQFY+88sDNAfRaUxw4IMUBWv+q6WaBDwLbGL7zxQiNAHIJgZADJMsAbEsAiBdQ5wOigO3z3iSHAidCASN5gLMA+ErL2DPgCwLoVmIy5PyXACFWTC7oLM0Cz004J1A5AQGNHfb51NipA8nAEDmUFMECLWoprK+IhQFWtSD8M6CtAbO13i4LxNEBVnx3xa8cQwDosomY3dvQ/IC/n7I+hGsC80O3GUa0WwDvk/hcNTyHAWRmfQrr/QEBwGVSi+5BHwMqTcMn4FjRAHwHAQ5RdOsAetaRKI8wywLFs/KFpzDFALg6GMoYkM8D4BobaTKc0QITcryHjXA9AD06rYapQAcAOsvDh2DwjQPtg+k0apSxAyKsWz8a2GcAzAUsv4RjiP6LUiewxAAzAwBiGQl3AEUCA67gj0q4wwKwo19ZabzVAByX5N000NcBsXqmuf+YiQDgVM29PtUFAgOGABj0z+T8Fv+aI7pAWQLlS2OZ7wxPAOkknCFQnNcBtZBTt//bavxdiHu9SbwRAo/Elr/LWK0DDMRj7dH41QKvdSU8k/T5AFug3RLaJPcB++6fIkBUhQNz6QbJi1j1AusBzYeLWNkANWhPuIQkhwO2FQu1pjyZAtxZ/ehDnNkCI2fh62Ns3QFg0PkubmhrAc5e9uB76OkAJY8oXTeYQwO2nTWn+SS9AeMLEPapnK8AJEV6z8ScoQDsQ4T11jyDALR+j7rzxOEBnBxfLjUgkQIDK9RUt2UDA4N72Rf0iM8BCNAHdCW03wDXoY18iUUTAnXwzYa5yN0CQNaGSd9chQKfZCDg7rva/rPWRpyksEED4dPa/+ytCwJTYAT/4hx3AbignGXD/OMDMxrps9cVFwBC/yeiPQDJAVuFKFZ6vFcDfluz3+TQwQFAGPJcTHPU/tkkVM7BmOcC3GBELpbJAwKAcK4+bxUDA443gW4NU6z8DwIF310w0wI1uvhHaDghAHphdnAqU8D89Pf7FHsU4QFi5JH87d0HAJgdEGrq9N8DQWzv7FBT9P21a2eC05kHALIZac/sI/D/SKbrTJXY0wPQ9Fo7xcztA1FewUyDfA8BwlBBDdFMwQP7zdi7wF0HAJ70kkdCPNUBSZDctw9E4QJy2nHQpQAJAK36ljcS8N8ATRXWc7yM3QBnQyLgSYB3AsFW/pKZXL0CAxv9bRwM2QDlxLVBhjRPA9Yn+tU8/N0CfJvxzcWQwwAvVigiw0v2/xNKGHCsaKEDD5JIltWsywEm2zljVqDHA/u1IgKHqJUAqR9B6u7UtwHTp6KPQVTzAr6A02yIAMsAEpjCtQpYHwGjo4F9FHypAUo31uMFPEkC5qZT3SxITQBQlWm+48zjAvNEfn709LsBJ8iy0dFs+wDqnN/W02TNAMfBklMQDRECEIxAbykcwQCguDmjOmidAzyFAt9dGM0CORgO9eAUgwDRp9xuFTwjAyZUOwwYqH0Ayq7YTfWYmQLIxWhXtNjJAMQJEc819PsDZeRH2aOEoQFTpsStbjTFAtXxFfN23OECHaeDqDERFQBiurg2YWhRAQRGERTpyQcAC5kZGFts9wMfXcdhV/CRABXnuEayDOMBmbtNedAQUQCFmbp4OKjTAr2D6LD88K8AW9p+rhcoywMI11rvSgUFAwJimmf1m/7/e2eeg/vs9QBsey6VZETpA90NCUbylJUDSAFhVpxI9wNRvZUUvWkBAuJ4GjV8iJEA9WmNjV+gwQGTtnvey5QRAFI1x66PxNEDuG62tzu81wKgmoKy96jJAEF5p1+9UAEBXA9z9G9/yP8OcnQIwGCDA6JKy+mpuOkDSWAncTMnzPyzwqrV61wdAt9ZuQIF2BcDjLJfdA8wrQJbjMLUwtzfAfMj7N7cKIcDBrWNIENQ7QB2IHWEIqCZAXE1VWiqKFUAEE0R9TB0vQJDMi/GO3TBA1ReEu+OIOMBnaSpvJ44pQGhUdtGppzlAOjJpKK7kEcApj9B7nnsrQFb4z/rlqSnAsO933lATHkDQ/nLORPQ7wPEwTtYw6EDALK57Yr4aM0CakCedX4E4wBp5nMAmOhFAIDDoZwGqJ0Bs+W/PvAbjP5/ATqM80zfAA9GjzBCdFcDe4tcFwv89QACtWKDvaSpAxWmL7P6WPEC4zPker94/wL+ApshVhx3AmK4A684gIkByJMyKXs0gQCrbbU5ogQ3AMUaOwBTVQcAhFTr9T6ExwOTBEoQhOA5AwP5a8EyWN8Avz3gZ8DYTwM8+uN/9aT5AAcIP5fyTMECPADe0fx0wQE54TJcKdEDA4KnWQm13C0CnosmezEtDwFFdL13UCDtAeDRa1hAoOUC1xnPbdboywD55lw9v6QVAFVuQRUiVE8Aebol+geQ0wK4n0JP8y/M//qILk3SUCsDZNzCb2ycwQEJul3Ok1+I/Z4/ffiEKLMDxi7bKJxY5QLwj+CfbxTVAeEkm3S0EAcANDoKwzl05wB0/T/dm/wXAfjwU1hULEUC/IgITm7scwNfQOmhlZjTA/tbFGDgW+D+BQ8U26IwhwGmNKVX2XDRAN/fgLIQPKkBZHzAyTAfZv8H2AJp/yvG/SGENCmBgQ8DXtDcGliFEQPp+7FX14TVA0awhloOALMAhgGXkDSU4wENzd1dlUjLA3QQSm5aEMEB+kB1jg80pQC1RkrNE7yZAR277KFyVOcCbtPtxHIIwQEqKdG6u2xrANKe0CouWL8D9Jdv0dmM+wOYEa/SXARDAjXTm2j8nPkBFs6BVE7AwwL9Wu9A5qzPAWH4qyAJUQUCqd1s10iEvwOgs6z0PnPs//XVQsmmrN0BcEL/6kl4awEKqiD/t7DRAY4nHNCcJQUCVcVCYXmdDQCZmAVjFnETAfrTH2sn1Q8C8+0VMFLE7wPyN/xv4ajfAsijLzjqGN8DhSMwaSt8iQCdBElHXR0bA55aANGL9KUDlJFA5rTL5v4JXOAXBNCBA53MKrEIDLEAcud/TfOAzwMfYI0c6s0LAbCfpxcmMNUDWgEEsed0AQLE4WQqdmj3ApDJJ4VXgMkCktvjXOOk8wMRYIKsh7jtArcqO5YzZI8AoyEb0SU08wITsQ4psQ+E/+wIoBKu3OcABfCKVz1InwFocTNIFmxfAODH8b9l2/r+WDTPS42soQLyDtdRh4zTA8KFotWSCNsA7ZwTMRUtGwKmsLBiaTjzA3uv1InquNkAxu3BG7f4QQJfduP8FHDbAcSEdHBaFOcDIQRLIk2tAwDn2P0fARjjAXsqpz4swRMDZrGUIIEE5wGFC+b/ANxlA2CNIJWFTPcAeHVw86yopQADWt9h+oEBAJnTt74vl1L+57rDL2NYfwLgiRnMkgSJAmQS2m93WG0DXIA35Qe47QEgH86S74BvAvO1tf0USPMBP4M7KrzMXQCjISbjDmjNASBMorWAdFkCsXS4sfFEtwCdDPGbE3/0/TgKUsh0HMkC66JjqADAnwBrzOYcqZhhAN5X7ikKDM0CFF982YQAIwI9l9GdsKDbArdTCUO2ZAMD/zAvwtDsjwAQUk4A22CvAGB5IqI/ZL8DnRCjZ6zc3wAcT0hnlZjrAxUCGh/7sNUCz2uwUZ9E/QBAl9I+MhDLACtwaMaSBRMBJ0wJwFjffPzQoow4PFwfARhJpdSdPPEAzZwhuvI5HwPUUvd2PgS7AnQ51eSLuIUDgKIZJIAJAQG9wW+QxueI/VNB58DgaNMAGMviI2q9BwDq87nPWxDPAWanMIPDp6b94UVQUouX9P3W2iGjmHz5AM7ub+Bo6QsAtJUeJafwzQEU8FrK6eUFA4peQJ9U7FkABDDxZJIEUQEfOZabIjBZAn3eZ9YvcAkDVArX7q5EFQJqC9ngUlipAZ33rLmdAHMBm9cX9GnQ0wCrgOuCHsjZAait+gT1BJUCu0wfq//QwQPRVkdM5PjLAQCgnOk2gG8CTL/EqBxIzwJgDbKdQHgVABylvAhvUI0Am4+TinXs1QM5AUzim1SNAJ5Ar5+dqOUCrl8296hU0wNZi7d1OwjhAHHz0ZPafQMBZAvb3AvMmQEQv+JRane6/ooeTnOTMMUBqJFUzNU85wEUi3KK03zrAtBr6YUe7I0A3eIGD3qgiQOQOpWYJgC1AoWa4kFfkKECJODzUk7Q5wKwpFMCQFy/AtWhq3jIwLEA0yoKDC8YkQIxJ4Vs8sC5AXF/DlaenJ8CBNVn0IMkJQAUkqPIU1eA/6fwP74/q578f5PHWm8lFwOFCy4s+0znAGWC61MPLKsDW/TdNX9A+QAu3XCOqZUPAENBNXV86PkDDte2QUDguQEKPDGnxVhNAJayr1eciKUBMIC7QgLgJQPxqKF4s8QvAXfpsArb5IsAgXLG0OqYbQI2cOHE9HxlAmV3Wn+caA8DPeyAG84QjwMNuFQT3SC9AhauI2BPwLECUhNeBO28wQA0NV8qVzDFAGHMbp4pIN0BYeNhrV2k8QKUhiXPGaAnAvx14KEnnPMDfp1EXl3U4wIDwB49Jky/ASyEto9UuF0B02tftmmUiwLxXH5rAbBxA1Z4JvtnzQUCZGBtBEBcwQFAFkbT1OBxAOKbedpnyOEDCN4+KNAYgwEp9Hgl4MSNAT6wjV7hYE8Cpl61RI5UOQHPqT0ga+ClAirp+fyxjQcC54JwemR4ywLU19eG4cDvA4xMZqcRiQkDSbp2bS2dEwBAGW9JdtTtA5x/dkxjEHUC1JtQ0sAgkQIh+98UeJSXAIyR3iOXcOcABiWuOCkAhwEvFEA6eZELANEq44bvyKECv5wfDkk04QDYUxVzMfBhA4AOkv/bdEcBdXfgzciZBQKuGHIElAzjAeDetyFCZKkBgrladfCg3wIzPlIrffzTA8XdVZXbAKkAO0YHGHm0hQJ6VWSAWRRFADjn5yccv+b/OCywEKng7QDEEJTZIEzBAomfCDhYmBcA+osUnGKYpQDt4CrX60ylAeSrSR0hvBMDm3lSIsTJAwEu6jBvwsjpA2FGzZq7qMkBio/h+42YjQDNG4l67GDLA4+ghTOiYP0DTcGmZR1oUQP0c87qPquK/q1fR/AewN8AEw4pRS4MgQKYABjuliBNA6QDbjIPxJMD9OiTU5SkyQNyjfUB5mjTAm/ejaCxOI0DJ1SYlYjcYQPwRiaJpujBAfPxKM87rM8B9BuhYEDQtwDm9+IPkdUNAD0wFikCxQMBwShTYglI1QLWZHVoy8DZAVxgS9PjhMMBCLRLjnzs9QJnkpcz+fDtAA96TJJm1OUAe1jzIJEQVQOlhOncgjhlAdylA7BgIN0Ch0aodurUXQInPkFH+WCtASvMaa++4JkCRY8UoVlg3wFsauST8tDJArrf5W3cSPcDIvBzjum03QFJPdJBovyHAoi5sGbGuIcAy/eyzJtsnwDVtcvBwKT1AY1PEptHPM8BdKvlKSjANQERmsrkJUDnAIvEbVUDqJEB//RRX3vYkwPdp9jQD9ilA/UxOj49sJkAskg1azr0kwJq3UkZ5jDHAcnFNStXgJUD6Ow2xCPg5QPeIB3bthCHAqK3L/dkHOEBwbWtD2KkuQNqJcG3HPzxA39hnZf70NkBNV3+2dEsEwD56Cj0C6BtAS/yXm1SVO0ALWs/fzyRBQJSGyaQzGOm/cFuu5iYCKUDjfIkiyyFFwLOb54n/bCXAE3RfsrjAEsC1u7pEXuA4wONiXB+OaT1AfQdJP5H6BsAV5m0F/L9BQGMZ4r8OZjTAEG0w0OEkA8DyQ4U7d/o5wDrgJj1hoDlAVJfDSn9AO8D7JfcDQs4jQPKRQUdLczTA7KQGptmeP0B/OGYFvQYLQMziW05uDDXAGlrZz0EGMMBg0BOa9Mw0QK6DL9BFWCTAxHCLUV0/I0BwTpwwEMY6QMn1txEJD/4/UJgyPgAx+r8nJql3UUo3QDbc4Dt1bQXAyIZxL1xJIEB5UpngH4EowBzNmC1CJzPA1XELXSuUIMB/Z2RhAB4pQFaRhr9SKSNAyKUBad1GPMBFyPo1owO2vw7gOrSTOUDAX6bJ5R9rOcA5sv6tSdk9wPmCUxQ/LDLAoKVAnY8YIkAyhuiByu0owEzU+l6j7kBAGhKxO5GSIUA8/Y0LRFtFwD0jA3IKZzrAVrzfILWLEEArxKY3Ioc9QFXNroJGSSxAr0vSVOMSLcCql+eS7loFwDmXenb7OAPAJuGwHT8UKkCEW2ZYiLwRQPkdtWOSzzdAQFwiHu/xBEDHpYqL3bUYQE9VCng+Mi9ADEr4HJ3pPcBFbbToxQkTwGA9i7StLzHAW72bY2tg5z/hVmnpV9g/wKnGhCN9HEPAxXYhvilIKkAd9wEkb0omQFufnlspGTzAxyZntzPmG8A+qJJlz4w1wEj03g5UZTVAu6+XpIhDNUA5WEGof9n+vxFZRp6R5DtAezuP5fqQLsDLILWagd8gwIdaBq637CbAlTLTO+U1QMBebErYWjdAQIn7yjTTkzvALEAEHTHWQEAgdvZZRhA9QJRvYUIdhERAuGWRWG/mOcBCcF1o3MA4wKH9A+b3O0HAPUco6WT48j/wQMC7EMsRQD9F+9QQnCNAo2W9BKYOMEDem2KKrio1wG6LtjDIP0FA+LCr8LIwI0DhqJm7cWsfQAxyRaEqvRpA+nPAGIgUNkBFU4yI76g5wNSl6qucmxhAy1OCBI8CBkDGC8J8axccQB3m7geKyzlA7e4bTu4dF0BZNQ7wIkwwQEhGbnZqID1A5jDlK7pHIkAbbXlon4Q4QCOs7YesPCZAR8TH7PUjIUB8hnCiCm0KQI+UVSfjITnA1C27KaszMkBIySaYdxshwDrSDe97miRAt35O5nj/McBvRQu/iUj4v8ZEmS3s6TdAeJTQ38tQK8BCsD3FkdwlQJUuxf1U6wXAnG+jUIJuLMDlD+gyTTk2QP1v7IzG+yhAw2FowQygJUDF3t4YFLYJQLirURQcbRxAoKkOxtZeQ8Dv4WN63lFDwAs70STArDfAQKsfsUt+LEBbogdbL2r3PytcBgSYGTjAZYoih9pbPsB9p/XTvcwswEFphyIysyDAXCkBn6lOFEBa4vR0NlYkwKhUi1rwKBbAxbB9qJgpJEBRVMvJOaX5v4S/6orilyjAL389ljkLNMC1UICGVRk8wHvK2kQCoCtA0OBtoA2hRMAOcyzl5fU8wCV+r233yzTA0uHkN+sDOUDL30QdEddAwFSFdRELlTRAjrOkQ6q28L8UgfgZMQBBQA6ccg4vrTfAElZZsL/v+7/x2g/OYboJQOWCWyqzeTvACyiiEdarMMBgwqfRE4ZFwPN52ftYbwjA7V2KZ/2dQUAJXShXIfUhQLPqUe908CtA9Y2rXl89OcCJPt1GA5MwwHTLKkw9ajXAEeLBdunNHUBQnllWsvsSQNUH8Z163D7ABnf6IdW+P0B3VrMw3NsrwDMfAj70Tfw/KyAhMRPiMcBqZrCLgHUrwDe/ZCAegClA4DGha6lfMsD0vp5a5qXwP5YzwWpOk0PAPHrrZU6VPUBAr0B3E2Y3wN1wCvw8wkJAMVk9+MtVLUAcVE5WrX0swJFrmEiOiznAG6tNel1uEECnxnioWBUxQCFFOa142ENAUBXxXCMaKcD/pEMsFsUfQB1+KJZnGDlATVLt2Mz5PkAlWA80U3EVQK9boHF3JhbAA0PyTTnQI0DKSkTQ9EM7wPcW9ZhCfyZA1JSuGgaBOcDmA3o6X90vwEPRV6ReIEPAFZl/UwlOSsDOXe7oSQcywLoLEDSV/Oq/yMmnnIHPN8CdbMrGJ/0nQOYFN8EVhkFAw9lJgeSEKMBbM3vWUYg3QJ+zaf7EvzNAgBtq415nHEBi7dtYYv09QPU+ua7n5DTAcyFcqUL0w79AffI5tqwYQMGSVKmyszHAGOISXz44MkAfJNunGRREwEcngSh5ikDA+IqglMVNMsBmI40ww4IyQGFVljoz5DXAZ00O9wM7MsDJWQRGPrEGwDMe7QxlnzHAJzbY/OjtQ8AH6+Tj8HZAwNt0iVAX6jpA\",\"dtype\":\"float64\",\"order\":\"little\",\"shape\":[3000]}},\"selected\":{\"id\":\"1145\"},\"selection_policy\":{\"id\":\"1144\"}},\"id\":\"1120\",\"type\":\"ColumnDataSource\"},{\"attributes\":{},\"id\":\"1104\",\"type\":\"BasicTicker\"},{\"attributes\":{},\"id\":\"1108\",\"type\":\"BasicTicker\"},{\"attributes\":{},\"id\":\"1095\",\"type\":\"DataRange1d\"},{\"attributes\":{},\"id\":\"1113\",\"type\":\"ResetTool\"}],\"root_ids\":[\"1092\"]},\"title\":\"Bokeh Application\",\"version\":\"2.3.3\"}};\n",
              "  var render_items = [{\"docid\":\"6bc500d0-1f2f-46f4-9340-3c7e56a2d480\",\"root_ids\":[\"1092\"],\"roots\":{\"1092\":\"da309bfa-d5f2-4769-bb23-1c9ffad3c0e3\"}}];\n",
              "  root.Bokeh.embed.embed_items_notebook(docs_json, render_items);\n",
              "\n",
              "  }\n",
              "  if (root.Bokeh !== undefined) {\n",
              "    embed_document(root);\n",
              "  } else {\n",
              "    var attempts = 0;\n",
              "    var timer = setInterval(function(root) {\n",
              "      if (root.Bokeh !== undefined) {\n",
              "        clearInterval(timer);\n",
              "        embed_document(root);\n",
              "      } else {\n",
              "        attempts++;\n",
              "        if (attempts > 100) {\n",
              "          clearInterval(timer);\n",
              "          console.log(\"Bokeh: ERROR: Unable to run BokehJS code because BokehJS library is missing\");\n",
              "        }\n",
              "      }\n",
              "    }, 10, root)\n",
              "  }\n",
              "})(window);"
            ],
            "application/vnd.bokehjs_exec.v0+json": ""
          },
          "metadata": {
            "application/vnd.bokehjs_exec.v0+json": {
              "id": "1092"
            }
          }
        }
      ]
    },
    {
      "cell_type": "markdown",
      "metadata": {
        "id": "XGMIgssJREoy"
      },
      "source": [
        "Now try to preprocess texts and train fasttext one more time!<br>\n",
        "write function to preprocess texts. You can do whatever you want:\n",
        " - delete stop words\n",
        " - delete punctuation\n",
        " - lematize words\n",
        " - stemming\n",
        " - lower texts\n",
        "\n",
        " After that you can explore texts and their representation"
      ]
    },
    {
      "cell_type": "markdown",
      "metadata": {
        "id": "E8vIXQnXR6ko"
      },
      "source": [
        "# Part 2"
      ]
    },
    {
      "cell_type": "markdown",
      "metadata": {
        "id": "O_ozCC-s_d9M"
      },
      "source": [
        "In this task we will solve task of classification sentiment of text. For this purpose install python library datasets which contains IMDB dataset. This is dataset for binary classification. <br>\n",
        "Our main goals are:\n",
        "- solve real task;\n",
        "- try to write custom classes for processing data;\n",
        "- use pretrained vector representaition (aka transfer learning);\n",
        "- try new arhitecture for classification task."
      ]
    },
    {
      "cell_type": "code",
      "metadata": {
        "id": "WkPwemZ2QeTL"
      },
      "source": [
        "!pip install datasets > /dev/null"
      ],
      "execution_count": 33,
      "outputs": []
    },
    {
      "cell_type": "code",
      "metadata": {
        "id": "TspVDW9TSiXP"
      },
      "source": [
        "import datasets"
      ],
      "execution_count": 34,
      "outputs": []
    },
    {
      "cell_type": "markdown",
      "metadata": {
        "id": "IRnJBY1ZCC4R"
      },
      "source": [
        "Loading IMDB dataset"
      ]
    },
    {
      "cell_type": "code",
      "metadata": {
        "id": "7Uulr7deSgto",
        "outputId": "bb50f9dd-0307-4eba-d25f-d30aeb394a19",
        "colab": {
          "base_uri": "https://localhost:8080/",
          "height": 200
        }
      },
      "source": [
        "text_dataset = datasets.load_dataset(\"imdb\")"
      ],
      "execution_count": 35,
      "outputs": [
        {
          "output_type": "display_data",
          "data": {
            "application/vnd.jupyter.widget-view+json": {
              "model_id": "aaf4257c6d174f2991ca81d2d294d66a",
              "version_minor": 0,
              "version_major": 2
            },
            "text/plain": [
              "Downloading:   0%|          | 0.00/1.92k [00:00<?, ?B/s]"
            ]
          },
          "metadata": {}
        },
        {
          "output_type": "display_data",
          "data": {
            "application/vnd.jupyter.widget-view+json": {
              "model_id": "99c38e8ca2b147a996b858198874311f",
              "version_minor": 0,
              "version_major": 2
            },
            "text/plain": [
              "Downloading:   0%|          | 0.00/1.05k [00:00<?, ?B/s]"
            ]
          },
          "metadata": {}
        },
        {
          "output_type": "stream",
          "name": "stdout",
          "text": [
            "Downloading and preparing dataset imdb/plain_text (download: 80.23 MiB, generated: 127.02 MiB, post-processed: Unknown size, total: 207.25 MiB) to /root/.cache/huggingface/datasets/imdb/plain_text/1.0.0/e3c66f1788a67a89c7058d97ff62b6c30531e05b549de56d3ab91891f0561f9a...\n"
          ]
        },
        {
          "output_type": "display_data",
          "data": {
            "application/vnd.jupyter.widget-view+json": {
              "model_id": "1c9b881e657649e09b3a7929d371f7d8",
              "version_minor": 0,
              "version_major": 2
            },
            "text/plain": [
              "Downloading:   0%|          | 0.00/84.1M [00:00<?, ?B/s]"
            ]
          },
          "metadata": {}
        },
        {
          "output_type": "display_data",
          "data": {
            "application/vnd.jupyter.widget-view+json": {
              "model_id": "6186343a2060431f8c9d4f3cdfe2f521",
              "version_minor": 0,
              "version_major": 2
            },
            "text/plain": [
              "0 examples [00:00, ? examples/s]"
            ]
          },
          "metadata": {}
        },
        {
          "output_type": "display_data",
          "data": {
            "application/vnd.jupyter.widget-view+json": {
              "model_id": "1c606e8957454bf498c0bc733b66b267",
              "version_minor": 0,
              "version_major": 2
            },
            "text/plain": [
              "0 examples [00:00, ? examples/s]"
            ]
          },
          "metadata": {}
        },
        {
          "output_type": "display_data",
          "data": {
            "application/vnd.jupyter.widget-view+json": {
              "model_id": "24dfc13296a64e49b9983abceca8375f",
              "version_minor": 0,
              "version_major": 2
            },
            "text/plain": [
              "0 examples [00:00, ? examples/s]"
            ]
          },
          "metadata": {}
        },
        {
          "output_type": "stream",
          "name": "stdout",
          "text": [
            "Dataset imdb downloaded and prepared to /root/.cache/huggingface/datasets/imdb/plain_text/1.0.0/e3c66f1788a67a89c7058d97ff62b6c30531e05b549de56d3ab91891f0561f9a. Subsequent calls will reuse this data.\n"
          ]
        },
        {
          "output_type": "display_data",
          "data": {
            "application/vnd.jupyter.widget-view+json": {
              "model_id": "24a08d8008a6458b9ee959f0ac70ed87",
              "version_minor": 0,
              "version_major": 2
            },
            "text/plain": [
              "  0%|          | 0/3 [00:00<?, ?it/s]"
            ]
          },
          "metadata": {}
        }
      ]
    },
    {
      "cell_type": "code",
      "metadata": {
        "id": "UqQT9KKxS3ui",
        "outputId": "602a6a5c-37f5-488d-9580-ae7e50eb4d42",
        "colab": {
          "base_uri": "https://localhost:8080/",
          "height": 265
        }
      },
      "source": [
        "pd.DataFrame(text_dataset['train'], columns=['label', 'text'])['label'].hist();"
      ],
      "execution_count": 36,
      "outputs": [
        {
          "output_type": "display_data",
          "data": {
            "image/png": "[encoded data removed]",
            "text/plain": [
              "<Figure size 432x288 with 1 Axes>"
            ]
          },
          "metadata": {
            "needs_background": "light"
          }
        }
      ]
    },
    {
      "cell_type": "code",
      "metadata": {
        "id": "_eW-5HDb6167"
      },
      "source": [
        "df = pd.DataFrame(text_dataset['train'], columns=['label', 'text'])"
      ],
      "execution_count": 37,
      "outputs": []
    },
    {
      "cell_type": "markdown",
      "metadata": {
        "id": "B3DEZgV4D1rr"
      },
      "source": [
        "#### Task 6\n"
      ]
    },
    {
      "cell_type": "markdown",
      "metadata": {
        "id": "agwtsDBECkyE"
      },
      "source": [
        "This dataset is rather large, we don`t need so much data. Let's trim our dataset and take only part of it."
      ]
    },
    {
      "cell_type": "markdown",
      "metadata": {
        "id": "g1hW4JTMCJvW"
      },
      "source": [
        "Initialize new df as half of randomly chosen rows of df.<br>\n",
        "You can use different built-in pandas methods, such as sample, loc, iloc."
      ]
    },
    {
      "cell_type": "code",
      "metadata": {
        "id": "FEoLR5fxECT2"
      },
      "source": [
        "# YOUR CODE HERE\n",
        "df = df.sample(len(df) // 2)"
      ],
      "execution_count": 39,
      "outputs": []
    },
    {
      "cell_type": "code",
      "metadata": {
        "id": "Yza7pT9U80H-",
        "outputId": "64b4be55-e278-4379-ee03-5caba97e62d9",
        "colab": {
          "base_uri": "https://localhost:8080/",
          "height": 265
        }
      },
      "source": [
        "df['label'].hist();"
      ],
      "execution_count": 40,
      "outputs": [
        {
          "output_type": "display_data",
          "data": {
            "image/png": "[encoded data removed]",
            "text/plain": [
              "<Figure size 432x288 with 1 Axes>"
            ]
          },
          "metadata": {
            "needs_background": "light"
          }
        }
      ]
    },
    {
      "cell_type": "markdown",
      "metadata": {
        "id": "0qkPbX75CyNz"
      },
      "source": [
        "Before we start working with text, we need to learn how to initialize some layer of neural network with pretrained or predefined vectors.<br> We will use this mechanism if work with pretrained words representaion or pretrained layers of other network."
      ]
    },
    {
      "cell_type": "code",
      "metadata": {
        "id": "QZUP7KqKS5nK"
      },
      "source": [
        "# initialize some vectors\n",
        "some_vectors = torch.rand((10,50), dtype=torch.float32)"
      ],
      "execution_count": 41,
      "outputs": []
    },
    {
      "cell_type": "code",
      "metadata": {
        "id": "gZo4j0iZVGOC"
      },
      "source": [
        "# some random linear layer of neural network\n",
        "custom_layer = nn.Embedding(10, 50)"
      ],
      "execution_count": 42,
      "outputs": []
    },
    {
      "cell_type": "code",
      "metadata": {
        "id": "RTwkk5hgVGFH"
      },
      "source": [
        "# initialize weights of defined layer with early given vectors\n",
        "custom_layer.weight = nn.Parameter(some_vectors.clone().detach().requires_grad_(True))"
      ],
      "execution_count": 43,
      "outputs": []
    },
    {
      "cell_type": "markdown",
      "metadata": {
        "id": "qebgNTs_D--B"
      },
      "source": [
        "#### Downloading pretrained vectors"
      ]
    },
    {
      "cell_type": "markdown",
      "metadata": {
        "id": "iQSN4KKVEEFM"
      },
      "source": [
        "In NLP we have some libraries, that contains pretrained word representaions trained on large corpuses of texts. Some times they contains word representations for several languages (also russian).<br>\n",
        "One library, that we will use `Gensim`."
      ]
    },
    {
      "cell_type": "code",
      "metadata": {
        "id": "Vt44kXP2S5gG"
      },
      "source": [
        "import gensim.downloader"
      ],
      "execution_count": 44,
      "outputs": []
    },
    {
      "cell_type": "markdown",
      "metadata": {
        "id": "LXXqT0C7El4M"
      },
      "source": [
        "We can see what models represented in whis library"
      ]
    },
    {
      "cell_type": "code",
      "metadata": {
        "id": "THX-SwDBTfOt",
        "outputId": "02ac0a7e-1729-4d4d-8a59-be3fc62294f9",
        "colab": {
          "base_uri": "https://localhost:8080/"
        }
      },
      "source": [
        "list(gensim.downloader.info()['models'].keys())"
      ],
      "execution_count": 45,
      "outputs": [
        {
          "output_type": "execute_result",
          "data": {
            "text/plain": [
              "['fasttext-wiki-news-subwords-300',\n",
              " 'conceptnet-numberbatch-17-06-300',\n",
              " 'word2vec-ruscorpora-300',\n",
              " 'word2vec-google-news-300',\n",
              " 'glove-wiki-gigaword-50',\n",
              " 'glove-wiki-gigaword-100',\n",
              " 'glove-wiki-gigaword-200',\n",
              " 'glove-wiki-gigaword-300',\n",
              " 'glove-twitter-25',\n",
              " 'glove-twitter-50',\n",
              " 'glove-twitter-100',\n",
              " 'glove-twitter-200',\n",
              " '__testing_word2vec-matrix-synopsis']"
            ]
          },
          "metadata": {},
          "execution_count": 45
        }
      ]
    },
    {
      "cell_type": "markdown",
      "metadata": {
        "id": "a8S1f2nrEz5k"
      },
      "source": [
        "Gensim contains vector representaion not only for word2vec, but for `Glove` and `Fasttext`. All of them give us realization of distributional semantics converted in different, but rather similar approaches.<br>\n",
        "We will use `glove` vectors just for their light weights and appropriate representation. You can try some other models by yourself."
      ]
    },
    {
      "cell_type": "code",
      "metadata": {
        "id": "JIZwT-ROS5W4",
        "outputId": "e4f1c0a0-814f-4bc8-be98-e6428a30a865",
        "colab": {
          "base_uri": "https://localhost:8080/"
        }
      },
      "source": [
        "glove_vectors = gensim.downloader.load('glove-twitter-100')"
      ],
      "execution_count": 46,
      "outputs": [
        {
          "output_type": "stream",
          "name": "stdout",
          "text": [
            "[==================================================] 100.0% 387.1/387.1MB downloaded\n"
          ]
        }
      ]
    },
    {
      "cell_type": "code",
      "metadata": {
        "id": "mwCbnL3iTwsQ",
        "outputId": "c1a07991-35a5-4be8-e8df-8fddd995bcbf",
        "colab": {
          "base_uri": "https://localhost:8080/"
        }
      },
      "source": [
        "glove_vectors.vectors.shape"
      ],
      "execution_count": 47,
      "outputs": [
        {
          "output_type": "execute_result",
          "data": {
            "text/plain": [
              "(1193514, 100)"
            ]
          },
          "metadata": {},
          "execution_count": 47
        }
      ]
    },
    {
      "cell_type": "code",
      "metadata": {
        "id": "OAeA6mZNZtfQ"
      },
      "source": [
        "list(glove_vectors.vocab.keys())[250:300]"
      ],
      "execution_count": null,
      "outputs": []
    },
    {
      "cell_type": "markdown",
      "metadata": {
        "id": "j4HKyi3aVu2z"
      },
      "source": [
        "#### Task 7"
      ]
    },
    {
      "cell_type": "markdown",
      "metadata": {
        "id": "3FePD8iQF5wp"
      },
      "source": [
        "Initialize loaded weights from gensim to some embedding layer."
      ]
    },
    {
      "cell_type": "code",
      "metadata": {
        "id": "s4JHhXK4GusL"
      },
      "source": [
        "# YOUR CODE HERE\n",
        "embedding_matrix = glove_vectors.vectors\n",
        "embedding = nn.Embedding(*glove_vectors.vectors.shape)\n",
        "embedding.weight = nn.Parameter(torch.tensor(embedding_matrix, dtype=torch.float32))"
      ],
      "execution_count": 50,
      "outputs": []
    },
    {
      "cell_type": "code",
      "metadata": {
        "id": "omhfJYfCV33e"
      },
      "source": [
        "assert embedding_matrix.shape == (1193514, 100)\n",
        "assert embedding_matrix[23].sum() < -4.45\n",
        "assert cos_similarity(embedding_matrix[42], embedding_matrix[23]) < 0.57"
      ],
      "execution_count": 51,
      "outputs": []
    },
    {
      "cell_type": "markdown",
      "metadata": {
        "id": "8sLJ7ctqgctS"
      },
      "source": [
        "After get loaded pretrained weights we can get back to explore data. We will use simple nltk WordPuckt tokenizer to split  punctuation and words from each other. Also you can try here TwitterTokenizer or some other methods."
      ]
    },
    {
      "cell_type": "code",
      "metadata": {
        "id": "TqwXB5bya5Vl"
      },
      "source": [
        "from nltk.tokenize import WordPunctTokenizer\n",
        "\n",
        "tokenizer = WordPunctTokenizer()"
      ],
      "execution_count": 52,
      "outputs": []
    },
    {
      "cell_type": "markdown",
      "metadata": {
        "id": "c9iLspTMGeTE"
      },
      "source": [
        "Look at the lengths of each sample of data and collect in list `l`"
      ]
    },
    {
      "cell_type": "code",
      "metadata": {
        "id": "ORU3mXBVZ8zm",
        "outputId": "8b279710-fe5f-4f84-fe17-5d784ac63c71",
        "colab": {
          "base_uri": "https://localhost:8080/",
          "height": 49,
          "referenced_widgets": [
            "e59c79aad1534b1d8b280ddf2c51c0f0",
            "0c45718b44364618885b5319968bfeb6",
            "9031697170ec4e6d9e1473bda7b21441",
            "11d286fe5b454fbead2d1c635e821bc0",
            "3de5f57cb9ac4fd7bd43d262126db91a",
            "7471f0535229417fb87c8c1d81a53e7f",
            "80c0066beea84e99a1e81b3d7b22cdf2",
            "3f5395e4b44d4ea999a6a48d908ea770",
            "329c55fd3ce14a29a12e19aa8bae0a03",
            "181023ee6a6147a8a7371d8a08124689",
            "d9ab224c5c93435098da7856f70060bb"
          ]
        }
      },
      "source": [
        "l = float('-inf')\n",
        "l = list()\n",
        "for text in tqdm(df['text']):\n",
        "    l.append(len(tokenizer.tokenize(text.lower())))"
      ],
      "execution_count": 53,
      "outputs": [
        {
          "output_type": "display_data",
          "data": {
            "application/vnd.jupyter.widget-view+json": {
              "model_id": "e59c79aad1534b1d8b280ddf2c51c0f0",
              "version_minor": 0,
              "version_major": 2
            },
            "text/plain": [
              "  0%|          | 0/12500 [00:00<?, ?it/s]"
            ]
          },
          "metadata": {}
        }
      ]
    },
    {
      "cell_type": "code",
      "metadata": {
        "id": "LpQtXnOXZ8tW",
        "outputId": "fd2e3279-7670-4f44-c618-1f453c2508fb",
        "colab": {
          "base_uri": "https://localhost:8080/",
          "height": 439
        }
      },
      "source": [
        "print(pd.Series(l).describe())\n",
        "pd.Series(l).plot()"
      ],
      "execution_count": 56,
      "outputs": [
        {
          "output_type": "stream",
          "name": "stdout",
          "text": [
            "count    12500.000000\n",
            "mean       283.791440\n",
            "std        211.770728\n",
            "min         11.000000\n",
            "25%        152.000000\n",
            "50%        211.000000\n",
            "75%        346.000000\n",
            "max       2054.000000\n",
            "dtype: float64\n"
          ]
        },
        {
          "output_type": "execute_result",
          "data": {
            "text/plain": [
              "<matplotlib.axes._subplots.AxesSubplot at 0x7f40e6630450>"
            ]
          },
          "metadata": {},
          "execution_count": 56
        },
        {
          "output_type": "display_data",
          "data": {
            "image/png": "[encoded data removed]",
            "text/plain": [
              "<Figure size 432x288 with 1 Axes>"
            ]
          },
          "metadata": {
            "needs_background": "light"
          }
        }
      ]
    },
    {
      "cell_type": "markdown",
      "metadata": {
        "id": "sEPRWkqtGtY4"
      },
      "source": [
        "If you see outliers of length you can preprocess your data and delete or split such long examples."
      ]
    },
    {
      "cell_type": "markdown",
      "metadata": {
        "id": "ePB81trGcH-n"
      },
      "source": [
        "it can be seen that 90% of the texts do not exceed 1500 tokens. Let's take the quantile 0.95 with a margin and initialize the variable max_len with this value."
      ]
    },
    {
      "cell_type": "markdown",
      "metadata": {
        "id": "sS10uwo2EqSu"
      },
      "source": [
        "#### Task 8"
      ]
    },
    {
      "cell_type": "markdown",
      "metadata": {
        "id": "kYlAZWg5HjcP"
      },
      "source": [
        "Just for simplicity we will delete samples, that have legth over some border value.<br>\n",
        "Take the quantile 0.95 of `l` with a margin and initialize the variable max_len with this value."
      ]
    },
    {
      "cell_type": "code",
      "metadata": {
        "id": "xkCpvUhHcCZ4",
        "outputId": "06904358-4473-42f8-e35f-0c279c0114c1",
        "colab": {
          "base_uri": "https://localhost:8080/"
        }
      },
      "source": [
        "# YOUR CODE HERE\n",
        "max_len = int(pd.Series(l).quantile(0.95))\n",
        "max_len"
      ],
      "execution_count": 58,
      "outputs": [
        {
          "output_type": "execute_result",
          "data": {
            "text/plain": [
              "730"
            ]
          },
          "metadata": {},
          "execution_count": 58
        }
      ]
    },
    {
      "cell_type": "markdown",
      "metadata": {
        "id": "hOQhQdv-H_uc"
      },
      "source": [
        "Create vocab of each token in our dataset.<br>\n",
        "Some approaches to fix their order:\n",
        "- we can count frequencies of each token, enumerate their order and fix it;\n",
        "- use countvectorizer form sklearn;\n",
        "- lexicographically sort all tokens in vocab and fix order.<br>\n",
        "\n",
        "You can come up with your own method - it`s all up to you."
      ]
    },
    {
      "cell_type": "code",
      "metadata": {
        "id": "d0zLOpdFh4qJ"
      },
      "source": [
        "from collections import Counter"
      ],
      "execution_count": 59,
      "outputs": []
    },
    {
      "cell_type": "markdown",
      "metadata": {
        "id": "1HBCYTicJn3Y"
      },
      "source": [
        "We will count all tokens and fix their ranks. <br>\n",
        "All unknown tokens, that are not present in vocab we will translate into special `<UNK>` token, thats why we add it in vocab."
      ]
    },
    {
      "cell_type": "code",
      "metadata": {
        "id": "FNtTEj9X2IxF",
        "outputId": "17ac9dae-1c64-4765-97b5-c84292c3e037",
        "colab": {
          "base_uri": "https://localhost:8080/",
          "height": 49,
          "referenced_widgets": [
            "6b2de2ac39244217a179502259462b55",
            "2eeeb3f789f143a39605288d25e1d0b6",
            "931d1929ed7746b6ad311177008d76ff",
            "e185413ada5f425e8001b41f909846c6",
            "083369f838b2405bba1b724b7beea59b",
            "421f781c092242098c99ca0732e443dc",
            "b2ee31b711214545893fb23068a6d43b",
            "f4a9ee781aa34d98b9a76781713d839d",
            "c2e5eab88117425f9d5c938b036a8422",
            "a9ec7dcd2f434dd88297be177f6064f6",
            "91d3efe091294a8e8a9e957ef120570d"
          ]
        }
      },
      "source": [
        "words = list()\n",
        "for text in tqdm(df['text']):\n",
        "    words.extend(tokenizer.tokenize(text.lower()))\n",
        "index2word = dict(enumerate((word[0] for word in Counter(words).most_common()), start=1))\n",
        "index2word[0] = '<UNK>'\n",
        "word_index = {word: ind for ind, word in index2word.items()}"
      ],
      "execution_count": 60,
      "outputs": [
        {
          "output_type": "display_data",
          "data": {
            "application/vnd.jupyter.widget-view+json": {
              "model_id": "6b2de2ac39244217a179502259462b55",
              "version_minor": 0,
              "version_major": 2
            },
            "text/plain": [
              "  0%|          | 0/12500 [00:00<?, ?it/s]"
            ]
          },
          "metadata": {}
        }
      ]
    },
    {
      "cell_type": "code",
      "metadata": {
        "id": "Q7KzEn9KjX4y",
        "outputId": "fedd4a0d-bd91-4a5d-acee-355cf48d1479",
        "colab": {
          "base_uri": "https://localhost:8080/"
        }
      },
      "source": [
        "len(word_index)"
      ],
      "execution_count": 61,
      "outputs": [
        {
          "output_type": "execute_result",
          "data": {
            "text/plain": [
              "57757"
            ]
          },
          "metadata": {},
          "execution_count": 61
        }
      ]
    },
    {
      "cell_type": "markdown",
      "metadata": {
        "id": "ytWvO8k4KJ0r"
      },
      "source": [
        "After fixing order of words we can create metrix of vectors.<br>\n",
        "In each row their will be vector for corresponding word. Index of word is equal to index in our vocabulary.<br>\n",
        "We will take pretrained vectors from uploaded glove vectors representation."
      ]
    },
    {
      "cell_type": "code",
      "metadata": {
        "id": "p5zq9Qyvked5"
      },
      "source": [
        "def load_w2v(words_dict, w2v, embed_size=100, max_features=100_000):\n",
        "  emb_matrix = np.zeros((min(max_features, len(words_dict)), embed_size))\n",
        "  for word, ind in words_dict.items():\n",
        "      if ind >= max_features:\n",
        "        break\n",
        "      try:\n",
        "        embedding_vector = w2v.get_vector(word)\n",
        "      except KeyError:\n",
        "        embedding_vector = None\n",
        "      if embedding_vector is not None:\n",
        "        emb_matrix[ind] = embedding_vector\n",
        "  return normalize_vectors(emb_matrix)"
      ],
      "execution_count": 62,
      "outputs": []
    },
    {
      "cell_type": "code",
      "metadata": {
        "id": "hUH7heH2meFb"
      },
      "source": [
        "embedding_matrix = load_w2v(word_index, glove_vectors)"
      ],
      "execution_count": 63,
      "outputs": []
    },
    {
      "cell_type": "markdown",
      "metadata": {
        "id": "bu867nGBMFCI"
      },
      "source": [
        "Some times we need to write custom classes for dataset to pass our data into model.<br>\n",
        "We write our class, and each document will be eaqual size, for simple processing by model. Size of each train sample tensor we choose as `max_len` - all samples that are longer will be trimmed by our model."
      ]
    },
    {
      "cell_type": "code",
      "metadata": {
        "id": "Y8RmGeyaby64"
      },
      "source": [
        "class CustomDataset:\n",
        "  def __init__(self, data, targets, tokenize, word2index, max_len=max_len):\n",
        "    self.data = data\n",
        "    self.targets = targets\n",
        "    self.tokenize = tokenize\n",
        "    self.word2index = word2index\n",
        "\n",
        "  def __len__(self):\n",
        "    return len(self.data)\n",
        "\n",
        "  def __getitem__(self, idx):\n",
        "    text = self.data[idx]\n",
        "    label = self.targets[idx]\n",
        "\n",
        "    input_ids = np.zeros((int(max_len),))\n",
        "    row = self.tokenize(text.lower())\n",
        "    for ind, word in enumerate(row):\n",
        "      if ind < max_len - 1:\n",
        "        input_ids[ind] = self.word2index.get(word, 0)\n",
        "    \n",
        "    return {\n",
        "        'text': torch.tensor(input_ids, dtype=torch.long),\n",
        "        'label': torch.tensor(label, dtype=torch.long)\n",
        "    }"
      ],
      "execution_count": 64,
      "outputs": []
    },
    {
      "cell_type": "markdown",
      "metadata": {
        "id": "eV1phAtgDOS_"
      },
      "source": [
        "##### Task 9"
      ]
    },
    {
      "cell_type": "markdown",
      "metadata": {
        "id": "fksDhf6O1ax3"
      },
      "source": [
        "Create `train_dataset` variable as instance of class CustomDataset"
      ]
    },
    {
      "cell_type": "code",
      "metadata": {
        "id": "zNV7HuCGF49T"
      },
      "source": [
        "# YOUR CODE HERE\n",
        "train_dataset = CustomDataset(df['text'].reset_index(drop=True),\n",
        "                              df['label'].reset_index(drop=True),\n",
        "                              tokenizer.tokenize,word_index)"
      ],
      "execution_count": 65,
      "outputs": []
    },
    {
      "cell_type": "code",
      "metadata": {
        "id": "5JXOa-yui066",
        "outputId": "69942d3e-b019-4245-ffcb-fc30f15e19e5",
        "colab": {
          "base_uri": "https://localhost:8080/"
        }
      },
      "source": [
        "train_dataset[3]"
      ],
      "execution_count": 66,
      "outputs": [
        {
          "output_type": "execute_result",
          "data": {
            "text/plain": [
              "{'label': tensor(0),\n",
              " 'text': tensor([   13,    61,     8,    29,   151,    15, 14896,    88,     1,   369,\n",
              "          2193,     9,     1,   273,    25,    13,     8,   161,   140,   123,\n",
              "             2,    22,    11,    79,    39,    51,   121,   577,   402,     2,\n",
              "            26,    13,    61,   704,   151,    11,     8,    16,     1,   102,\n",
              "          7486,    25,    13,     8,   161,   140,   123,     3,    33,   304,\n",
              "           135,     5,   130,  2880,  1030,   411,   232,    80,  2749,    11,\n",
              "           178,  2440,   243,    12,  4314,     3,    49,    21,    70,  4461,\n",
              "             7,   253,     1,    25,   135,     2,    70,  1611,  3350,    41,\n",
              "            40,   520,     1,   157,     3,   193,  3197,    51, 12456,   377,\n",
              "             8,    16,  3558,    21,    47, 24064,   580,    11,    21,  1195,\n",
              "             7,    19,    94,    99,    19,     1,    25,    28,    10,    18,\n",
              "            10,    20,    13,   276,   557,  1197,    41,     1,  2466,   220,\n",
              "            54,   130,   377,     2,     4,     1, 35936,  1047,     7, 17303,\n",
              "             1,   325,     2,   248,    63,   425,    85,    13,   276,   557,\n",
              "          3304,     1,    25,     3,     0,     0,     0,     0,     0,     0,\n",
              "             0,     0,     0,     0,     0,     0,     0,     0,     0,     0,\n",
              "             0,     0,     0,     0,     0,     0,     0,     0,     0,     0,\n",
              "             0,     0,     0,     0,     0,     0,     0,     0,     0,     0,\n",
              "             0,     0,     0,     0,     0,     0,     0,     0,     0,     0,\n",
              "             0,     0,     0,     0,     0,     0,     0,     0,     0,     0,\n",
              "             0,     0,     0,     0,     0,     0,     0,     0,     0,     0,\n",
              "             0,     0,     0,     0,     0,     0,     0,     0,     0,     0,\n",
              "             0,     0,     0,     0,     0,     0,     0,     0,     0,     0,\n",
              "             0,     0,     0,     0,     0,     0,     0,     0,     0,     0,\n",
              "             0,     0,     0,     0,     0,     0,     0,     0,     0,     0,\n",
              "             0,     0,     0,     0,     0,     0,     0,     0,     0,     0,\n",
              "             0,     0,     0,     0,     0,     0,     0,     0,     0,     0,\n",
              "             0,     0,     0,     0,     0,     0,     0,     0,     0,     0,\n",
              "             0,     0,     0,     0,     0,     0,     0,     0,     0,     0,\n",
              "             0,     0,     0,     0,     0,     0,     0,     0,     0,     0,\n",
              "             0,     0,     0,     0,     0,     0,     0,     0,     0,     0,\n",
              "             0,     0,     0,     0,     0,     0,     0,     0,     0,     0,\n",
              "             0,     0,     0,     0,     0,     0,     0,     0,     0,     0,\n",
              "             0,     0,     0,     0,     0,     0,     0,     0,     0,     0,\n",
              "             0,     0,     0,     0,     0,     0,     0,     0,     0,     0,\n",
              "             0,     0,     0,     0,     0,     0,     0,     0,     0,     0,\n",
              "             0,     0,     0,     0,     0,     0,     0,     0,     0,     0,\n",
              "             0,     0,     0,     0,     0,     0,     0,     0,     0,     0,\n",
              "             0,     0,     0,     0,     0,     0,     0,     0,     0,     0,\n",
              "             0,     0,     0,     0,     0,     0,     0,     0,     0,     0,\n",
              "             0,     0,     0,     0,     0,     0,     0,     0,     0,     0,\n",
              "             0,     0,     0,     0,     0,     0,     0,     0,     0,     0,\n",
              "             0,     0,     0,     0,     0,     0,     0,     0,     0,     0,\n",
              "             0,     0,     0,     0,     0,     0,     0,     0,     0,     0,\n",
              "             0,     0,     0,     0,     0,     0,     0,     0,     0,     0,\n",
              "             0,     0,     0,     0,     0,     0,     0,     0,     0,     0,\n",
              "             0,     0,     0,     0,     0,     0,     0,     0,     0,     0,\n",
              "             0,     0,     0,     0,     0,     0,     0,     0,     0,     0,\n",
              "             0,     0,     0,     0,     0,     0,     0,     0,     0,     0,\n",
              "             0,     0,     0,     0,     0,     0,     0,     0,     0,     0,\n",
              "             0,     0,     0,     0,     0,     0,     0,     0,     0,     0,\n",
              "             0,     0,     0,     0,     0,     0,     0,     0,     0,     0,\n",
              "             0,     0,     0,     0,     0,     0,     0,     0,     0,     0,\n",
              "             0,     0,     0,     0,     0,     0,     0,     0,     0,     0,\n",
              "             0,     0,     0,     0,     0,     0,     0,     0,     0,     0,\n",
              "             0,     0,     0,     0,     0,     0,     0,     0,     0,     0,\n",
              "             0,     0,     0,     0,     0,     0,     0,     0,     0,     0,\n",
              "             0,     0,     0,     0,     0,     0,     0,     0,     0,     0,\n",
              "             0,     0,     0,     0,     0,     0,     0,     0,     0,     0,\n",
              "             0,     0,     0,     0,     0,     0,     0,     0,     0,     0,\n",
              "             0,     0,     0,     0,     0,     0,     0,     0,     0,     0,\n",
              "             0,     0,     0,     0,     0,     0,     0,     0,     0,     0,\n",
              "             0,     0,     0,     0,     0,     0,     0,     0,     0,     0,\n",
              "             0,     0,     0,     0,     0,     0,     0,     0,     0,     0,\n",
              "             0,     0,     0,     0,     0,     0,     0,     0,     0,     0,\n",
              "             0,     0,     0,     0,     0,     0,     0,     0,     0,     0,\n",
              "             0,     0,     0,     0,     0,     0,     0,     0,     0,     0,\n",
              "             0,     0,     0,     0,     0,     0,     0,     0,     0,     0,\n",
              "             0,     0,     0,     0,     0,     0,     0,     0,     0,     0,\n",
              "             0,     0,     0,     0,     0,     0,     0,     0,     0,     0,\n",
              "             0,     0,     0,     0,     0,     0,     0,     0,     0,     0,\n",
              "             0,     0,     0,     0,     0,     0,     0,     0,     0,     0,\n",
              "             0,     0,     0,     0,     0,     0,     0,     0,     0,     0])}"
            ]
          },
          "metadata": {},
          "execution_count": 66
        }
      ]
    },
    {
      "cell_type": "markdown",
      "metadata": {
        "id": "30QTtIEiOLDq"
      },
      "source": [
        "For this task we try to train Convolutional Neural Network. You can use more simplier architecture for this task.<br>\n",
        "In text classification tasks, if you deal with data short(less than 50 tokens) and middle length(from 50 to 350) you can succesfully use CNN. Other approach we will explore in next seminars."
      ]
    },
    {
      "cell_type": "code",
      "metadata": {
        "id": "B3zAsOSmqvkg"
      },
      "source": [
        "class ConvNeuralNet(nn.Module):\n",
        "    def __init__(self, embedding_matrix, embed_size,\n",
        "                 do_rate1=0.5, n_classes=2):\n",
        "        super(ConvNeuralNet, self).__init__()\n",
        "\n",
        "        self.vocab_size = embedding_matrix.shape[0]\n",
        "        self.embedding_size = embed_size\n",
        "        self.kernel_num = 128\n",
        "        self.kernels_sizes = [2, 4, 8]\n",
        "        \n",
        "        self.embedding = nn.Embedding(*embedding_matrix.shape)\n",
        "        self.embedding.weight = nn.Parameter(torch.tensor(embedding_matrix, dtype=torch.float32))  # pretrained initialization\n",
        "        self.embedding.weight.requires_grad = False # freeze weights\n",
        "        self.convs = nn.ModuleList([nn.Conv2d(1, self.kernel_num, (K, embed_size)) for K in self.kernels_sizes])\n",
        "        self.dropout = nn.Dropout2d(do_rate1)\n",
        "        self.fc1 = nn.Linear(len(self.kernels_sizes) * self.kernel_num, n_classes)\n",
        "\n",
        "    def forward(self, x):\n",
        "        x = self.embedding(x)\n",
        "        x = x.unsqueeze(1)\n",
        "        \n",
        "        x = [F.relu(conv(x)).squeeze(3) for conv in self.convs]\n",
        "        \n",
        "        x = [F.max_pool1d(i, i.size(2)).squeeze(2) for i in x]\n",
        "        \n",
        "        x = torch.cat(x, 1)\n",
        "        \n",
        "        x = self.dropout(x)\n",
        "        logit = self.fc1(x)\n",
        "        return logit"
      ],
      "execution_count": 67,
      "outputs": []
    },
    {
      "cell_type": "markdown",
      "metadata": {
        "id": "pmS7HqpqE5mQ"
      },
      "source": [
        "##### Task 10"
      ]
    },
    {
      "cell_type": "markdown",
      "metadata": {
        "id": "uviyh0wC1kco"
      },
      "source": [
        "Fill the code with calculation of making prediction, calculating loss, backpropogation, optimization"
      ]
    },
    {
      "cell_type": "markdown",
      "metadata": {
        "id": "zFt83Qavsop-"
      },
      "source": [
        "we initialize device in such way for more flexibility (works on cpu and cuda)"
      ]
    },
    {
      "cell_type": "code",
      "metadata": {
        "id": "PTaemKcjhjq1"
      },
      "source": [
        "device = torch.device('cuda') if torch.cuda.is_available() else  torch.device('cpu')"
      ],
      "execution_count": 68,
      "outputs": []
    },
    {
      "cell_type": "markdown",
      "metadata": {
        "id": "Icq90ojnsIA6"
      },
      "source": [
        "For text classification task we use cross_entropy loss function as optimization functionality.\n"
      ]
    },
    {
      "cell_type": "code",
      "metadata": {
        "id": "rHXP06ORFcru",
        "outputId": "5d5895ed-ee7f-42b4-805c-0222bd36a633",
        "colab": {
          "base_uri": "https://localhost:8080/"
        }
      },
      "source": [
        "# hyperparameters\n",
        "EPOCHS = 7\n",
        "LR = 3e-4 \n",
        "BATCH_SIZE = 32\n",
        "\n",
        "model = ConvNeuralNet(embedding_matrix, 100).to(device)\n",
        "\n",
        "criterion = torch.nn.CrossEntropyLoss()\n",
        "optimizer = torch.optim.Adam(model.parameters(), lr=LR, weight_decay=1e-4) # for first iter Adam is one of the best optimizers"
      ],
      "execution_count": 69,
      "outputs": [
        {
          "output_type": "stream",
          "name": "stderr",
          "text": [
            "/usr/local/lib/python3.7/dist-packages/ipykernel_launcher.py:12: UserWarning: To copy construct from a tensor, it is recommended to use sourceTensor.clone().detach() or sourceTensor.clone().detach().requires_grad_(True), rather than torch.tensor(sourceTensor).\n",
            "  if sys.path[0] == '':\n"
          ]
        }
      ]
    },
    {
      "cell_type": "code",
      "metadata": {
        "id": "djuVYZAHFONb"
      },
      "source": [
        "# YOUR CODE HERE\n",
        "def train(dataloader, optimizer=optimizer, criterion=criterion):\n",
        "    model.train()\n",
        "    total_acc, total_count, total_loss = 0, 0, 0\n",
        "    start_time = time.time()\n",
        "\n",
        "    for idx, batch in enumerate(tqdm(dataloader)):\n",
        "        text = batch['text'].to(device)\n",
        "        label = batch['label'].to(device)\n",
        "        optimizer.zero_grad()\n",
        "        # here you need to get predictions of model\n",
        "        # FILL HERE\n",
        "        predited_label = model(text)\n",
        "        # after that you calculate loss from predictions and true values\n",
        "        loss = criterion(predited_label, label)\n",
        "        # next you run backpropogation through your model\n",
        "        # FILL HERE\n",
        "        loss.backward()\n",
        "        total_loss += loss\n",
        "        # and finally make an optimizer step\n",
        "        # FILL HERE\n",
        "        optimizer.step()\n",
        "        predited_label = predited_label.detach().cpu().numpy()\n",
        "        label = label.to('cpu').numpy()\n",
        "        total_acc += accuracy(predited_label, label)\n",
        "        total_count += len(label)\n",
        "    elapsed = time.time() - start_time\n",
        "    print('| epoch {:3d} | {:5d}/{:5d} batches '\n",
        "                  '| accuracy {:8.3f}| loss {:8.3f}'.format(epoch, idx,\n",
        "                                                            len(dataloader),\n",
        "                                                            total_acc/total_count,\n",
        "                                                            total_loss/total_count\n",
        "                                                            ))\n",
        "    total_acc, total_count = 0, 0\n",
        "    start_time = time.time()"
      ],
      "execution_count": 75,
      "outputs": []
    },
    {
      "cell_type": "code",
      "metadata": {
        "id": "UIDke2EcgR5_"
      },
      "source": [
        "def evaluate(dataloader):\n",
        "    model.eval()\n",
        "    total_acc, total_count, total_loss = 0, 0, 0\n",
        "\n",
        "    with torch.no_grad():\n",
        "        for idx, batch in enumerate(dataloader):\n",
        "            text = batch['text'].to(device)\n",
        "            label = batch['label'].to(device)\n",
        "            predited_label = model(text)\n",
        "            total_loss += criterion(predited_label, label)\n",
        "            predited_label = predited_label.detach().cpu().numpy()\n",
        "            label = label.to('cpu').numpy()\n",
        "            total_acc += accuracy(predited_label, label)\n",
        "            total_count += len(label)\n",
        "    print('| epoch {:3d} | {:5d}/{:5d} batches '\n",
        "    '| accuracy {:8.3f}| loss {:8.3f}'.format(epoch, idx,\n",
        "                                              len(dataloader),\n",
        "                                              total_acc/total_count,\n",
        "                                              total_loss/total_count)\n",
        "    )\n",
        "    return total_acc/total_count"
      ],
      "execution_count": 76,
      "outputs": []
    },
    {
      "cell_type": "code",
      "metadata": {
        "id": "g9rvUlMXheoe"
      },
      "source": [
        "def accuracy(probs, targets):\n",
        "    outputs = np.argmax(probs, axis=1)\n",
        "    return np.sum(outputs == targets)"
      ],
      "execution_count": 77,
      "outputs": []
    },
    {
      "cell_type": "markdown",
      "metadata": {
        "id": "35utxjREtp3O"
      },
      "source": [
        "After writing train and evaluate functions we got ready to start training process. We will get 20% of our train data for validation. On validation metrics we control process of training and prevent overfitting on train data."
      ]
    },
    {
      "cell_type": "code",
      "metadata": {
        "id": "U_Af924ehsSh",
        "outputId": "e5868db8-44bc-481e-8e6d-0353030e074e",
        "colab": {
          "base_uri": "https://localhost:8080/",
          "height": 903,
          "referenced_widgets": [
            "12e5afe589c445ea856558da91d03c6d",
            "c93d8397891940e791b7172244f28b2c",
            "29555a884f7143d6a624af056671fad6",
            "3f4a09e7ae9f41b590f850f01f011a6d",
            "0254a8a6c6584fe4b2e15ef15321f67a",
            "788056d9682442f79a54352889cf7cd5",
            "ff8ed7d0ab044aa48b201e055c65b9fa",
            "81c14041d3d04601b35ca8866afb05a7",
            "4cabc08b94a94d3594e488c4bacafd50",
            "b5068ef5b9c64a3585cb57b134004781",
            "c8ddf832e3c84aa5ac57ee180d275227"
          ]
        }
      },
      "source": [
        "from torch.utils.data.dataset import random_split\n",
        "import time\n",
        "\n",
        "total_accu = None\n",
        "\n",
        "num_train = int(len(train_dataset) * 0.8)\n",
        "split_train_, split_valid_ = \\\n",
        "    random_split(train_dataset, [num_train, len(train_dataset) - num_train])\n",
        "\n",
        "train_dataloader = torch.utils.data.DataLoader(split_train_, batch_size=BATCH_SIZE,\n",
        "                              shuffle=True) \n",
        "valid_dataloader = torch.utils.data.DataLoader(split_valid_, batch_size=BATCH_SIZE,\n",
        "                              shuffle=True)\n",
        "\n",
        "\n",
        "for epoch in range(1, EPOCHS + 1):\n",
        "    epoch_start_time = time.time()\n",
        "    # if epoch == 4: # lets unfreeze weights of model after some epochs\n",
        "    #   model.embedding.weight.requires_grad = True\n",
        "    train(train_dataloader)\n",
        "    accu_val = evaluate(valid_dataloader)\n",
        "    print('-' * 59)\n",
        "    print('| end of epoch {:3d} | time: {:5.2f}s | '\n",
        "          'valid accuracy {:8.3f} '.format(epoch,\n",
        "                                           time.time() - epoch_start_time,\n",
        "                                           accu_val))\n",
        "    print('-' * 59)"
      ],
      "execution_count": 78,
      "outputs": [
        {
          "output_type": "display_data",
          "data": {
            "application/vnd.jupyter.widget-view+json": {
              "model_id": "12e5afe589c445ea856558da91d03c6d",
              "version_minor": 0,
              "version_major": 2
            },
            "text/plain": [
              "  0%|          | 0/313 [00:00<?, ?it/s]"
            ]
          },
          "metadata": {}
        },
        {
          "output_type": "stream",
          "name": "stderr",
          "text": [
            "/usr/local/lib/python3.7/dist-packages/torch/nn/functional.py:652: UserWarning: Named tensors and all their associated APIs are an experimental feature and subject to change. Please do not use them for anything important until they are released as stable. (Triggered internally at  /pytorch/c10/core/TensorImpl.h:1156.)\n",
            "  return torch.max_pool1d(input, kernel_size, stride, padding, dilation, ceil_mode)\n"
          ]
        },
        {
          "output_type": "stream",
          "name": "stdout",
          "text": [
            "| epoch   1 |   312/  313 batches | accuracy    0.603| loss    0.021\n",
            "| epoch   1 |    78/   79 batches | accuracy    0.747| loss    0.020\n",
            "-----------------------------------------------------------\n",
            "| end of epoch   1 | time: 16.95s | valid accuracy    0.747 \n",
            "-----------------------------------------------------------\n"
          ]
        },
        {
          "output_type": "display_data",
          "data": {
            "application/vnd.jupyter.widget-view+json": {
              "model_id": "b408c918f12e49bc903635ae798ed42c",
              "version_minor": 0,
              "version_major": 2
            },
            "text/plain": [
              "  0%|          | 0/313 [00:00<?, ?it/s]"
            ]
          },
          "metadata": {}
        },
        {
          "output_type": "stream",
          "name": "stdout",
          "text": [
            "| epoch   2 |   312/  313 batches | accuracy    0.755| loss    0.017\n",
            "| epoch   2 |    78/   79 batches | accuracy    0.825| loss    0.015\n",
            "-----------------------------------------------------------\n",
            "| end of epoch   2 | time: 16.21s | valid accuracy    0.825 \n",
            "-----------------------------------------------------------\n"
          ]
        },
        {
          "output_type": "display_data",
          "data": {
            "application/vnd.jupyter.widget-view+json": {
              "model_id": "ebb5104548994e0eac0b565f6c54aeed",
              "version_minor": 0,
              "version_major": 2
            },
            "text/plain": [
              "  0%|          | 0/313 [00:00<?, ?it/s]"
            ]
          },
          "metadata": {}
        },
        {
          "output_type": "stream",
          "name": "stdout",
          "text": [
            "| epoch   3 |   312/  313 batches | accuracy    0.817| loss    0.014\n",
            "| epoch   3 |    78/   79 batches | accuracy    0.845| loss    0.012\n",
            "-----------------------------------------------------------\n",
            "| end of epoch   3 | time: 16.31s | valid accuracy    0.845 \n",
            "-----------------------------------------------------------\n"
          ]
        },
        {
          "output_type": "display_data",
          "data": {
            "application/vnd.jupyter.widget-view+json": {
              "model_id": "4ad93697841449019eda898244f27be1",
              "version_minor": 0,
              "version_major": 2
            },
            "text/plain": [
              "  0%|          | 0/313 [00:00<?, ?it/s]"
            ]
          },
          "metadata": {}
        },
        {
          "output_type": "stream",
          "name": "stdout",
          "text": [
            "| epoch   4 |   312/  313 batches | accuracy    0.840| loss    0.012\n",
            "| epoch   4 |    78/   79 batches | accuracy    0.851| loss    0.011\n",
            "-----------------------------------------------------------\n",
            "| end of epoch   4 | time: 16.31s | valid accuracy    0.851 \n",
            "-----------------------------------------------------------\n"
          ]
        },
        {
          "output_type": "display_data",
          "data": {
            "application/vnd.jupyter.widget-view+json": {
              "model_id": "c41589fa52c8465eb734faad1c1d21ff",
              "version_minor": 0,
              "version_major": 2
            },
            "text/plain": [
              "  0%|          | 0/313 [00:00<?, ?it/s]"
            ]
          },
          "metadata": {}
        },
        {
          "output_type": "stream",
          "name": "stdout",
          "text": [
            "| epoch   5 |   312/  313 batches | accuracy    0.854| loss    0.011\n",
            "| epoch   5 |    78/   79 batches | accuracy    0.850| loss    0.011\n",
            "-----------------------------------------------------------\n",
            "| end of epoch   5 | time: 16.46s | valid accuracy    0.850 \n",
            "-----------------------------------------------------------\n"
          ]
        },
        {
          "output_type": "display_data",
          "data": {
            "application/vnd.jupyter.widget-view+json": {
              "model_id": "ee92e9d07fb2461891a4579f254039a7",
              "version_minor": 0,
              "version_major": 2
            },
            "text/plain": [
              "  0%|          | 0/313 [00:00<?, ?it/s]"
            ]
          },
          "metadata": {}
        },
        {
          "output_type": "stream",
          "name": "stdout",
          "text": [
            "| epoch   6 |   312/  313 batches | accuracy    0.868| loss    0.010\n",
            "| epoch   6 |    78/   79 batches | accuracy    0.858| loss    0.011\n",
            "-----------------------------------------------------------\n",
            "| end of epoch   6 | time: 16.41s | valid accuracy    0.858 \n",
            "-----------------------------------------------------------\n"
          ]
        },
        {
          "output_type": "display_data",
          "data": {
            "application/vnd.jupyter.widget-view+json": {
              "model_id": "143bfefa4b0842ca9bd31cec8342d25b",
              "version_minor": 0,
              "version_major": 2
            },
            "text/plain": [
              "  0%|          | 0/313 [00:00<?, ?it/s]"
            ]
          },
          "metadata": {}
        },
        {
          "output_type": "stream",
          "name": "stdout",
          "text": [
            "| epoch   7 |   312/  313 batches | accuracy    0.878| loss    0.009\n",
            "| epoch   7 |    78/   79 batches | accuracy    0.863| loss    0.010\n",
            "-----------------------------------------------------------\n",
            "| end of epoch   7 | time: 16.14s | valid accuracy    0.863 \n",
            "-----------------------------------------------------------\n"
          ]
        }
      ]
    },
    {
      "cell_type": "markdown",
      "metadata": {
        "id": "tUHOdgKluXlP"
      },
      "source": [
        "After finish training process, we can use our model to classify real samples of comments."
      ]
    },
    {
      "cell_type": "code",
      "metadata": {
        "id": "-w1YOZSyfjdN",
        "outputId": "1b6f0ba5-8cba-4397-abad-16a2a98e8d75",
        "colab": {
          "base_uri": "https://localhost:8080/"
        }
      },
      "source": [
        "positive_comment = 'This movie is awesome!'\n",
        "negative_comment = 'This movie is very very bad!'\n",
        "neutral_comment = 'This is so-so'\n",
        "\n",
        "_dataset = CustomDataset([positive_comment, negative_comment, neutral_comment], [0] * 3, tokenizer.tokenize, word_index)\n",
        "_dataloader = torch.utils.data.DataLoader(_dataset, batch_size=32)\n",
        "\n",
        "_x = next(iter(_dataloader))['text'].to(device)\n",
        "probs = torch.softmax(model(_x), 1).detach().cpu().numpy()\n",
        "\n",
        "print(np.round(probs, 3))\n",
        "\n",
        "print(f'Probability of \"{positive_comment}\" to be positive -- {probs[0][1]}')\n",
        "print(f'Probability of \"{negative_comment}\" to be positive -- {probs[1][0]}')\n",
        "print(f'Probability of \"{neutral_comment}\" to be positive -- {probs[2][0]}')\n",
        "\n",
        "del _dataset, _dataloader "
      ],
      "execution_count": 79,
      "outputs": [
        {
          "output_type": "stream",
          "name": "stdout",
          "text": [
            "[[0.038 0.962]\n",
            " [0.44  0.56 ]\n",
            " [0.574 0.426]]\n",
            "Probability of \"This movie is awesome!\" to be positive -- 0.9623942971229553\n",
            "Probability of \"This movie is very very bad!\" to be positive -- 0.43971168994903564\n",
            "Probability of \"This is so-so\" to be positive -- 0.5738967657089233\n"
          ]
        }
      ]
    },
    {
      "cell_type": "code",
      "metadata": {
        "id": "lzH8QcyHqreH"
      },
      "source": [
        ""
      ],
      "execution_count": null,
      "outputs": []
    }
  ]
}
