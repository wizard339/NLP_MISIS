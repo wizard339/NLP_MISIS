{
  "nbformat": 4,
  "nbformat_minor": 0,
  "metadata": {
    "colab": {
      "name": "FCNN ner_for_screencast.ipynb",
      "provenance": [],
      "collapsed_sections": [
        "AqP86jc610L0"
      ]
    },
    "kernelspec": {
      "name": "python3",
      "display_name": "Python 3"
    },
    "language_info": {
      "name": "python"
    },
    "accelerator": "GPU",
    "widgets": {
      "application/vnd.jupyter.widget-state+json": {
        "6c35907602f64406a8e397ab6a7b36ee": {
          "model_module": "@jupyter-widgets/controls",
          "model_name": "HBoxModel",
          "model_module_version": "1.5.0",
          "state": {
            "_view_name": "HBoxView",
            "_dom_classes": [],
            "_model_name": "HBoxModel",
            "_view_module": "@jupyter-widgets/controls",
            "_model_module_version": "1.5.0",
            "_view_count": null,
            "_view_module_version": "1.5.0",
            "box_style": "",
            "layout": "IPY_MODEL_1745481b88f64640a0b7238360730d62",
            "_model_module": "@jupyter-widgets/controls",
            "children": [
              "IPY_MODEL_0ef9c79f82af40e1bd2ad03572cef775",
              "IPY_MODEL_ba3a2410713744d3b1a92154c731708f",
              "IPY_MODEL_cb1300ea2d8c4ac4acd9d2f7e7825422"
            ]
          }
        },
        "1745481b88f64640a0b7238360730d62": {
          "model_module": "@jupyter-widgets/base",
          "model_name": "LayoutModel",
          "model_module_version": "1.2.0",
          "state": {
            "_view_name": "LayoutView",
            "grid_template_rows": null,
            "right": null,
            "justify_content": null,
            "_view_module": "@jupyter-widgets/base",
            "overflow": null,
            "_model_module_version": "1.2.0",
            "_view_count": null,
            "flex_flow": null,
            "width": null,
            "min_width": null,
            "border": null,
            "align_items": null,
            "bottom": null,
            "_model_module": "@jupyter-widgets/base",
            "top": null,
            "grid_column": null,
            "overflow_y": null,
            "overflow_x": null,
            "grid_auto_flow": null,
            "grid_area": null,
            "grid_template_columns": null,
            "flex": null,
            "_model_name": "LayoutModel",
            "justify_items": null,
            "grid_row": null,
            "max_height": null,
            "align_content": null,
            "visibility": null,
            "align_self": null,
            "height": null,
            "min_height": null,
            "padding": null,
            "grid_auto_rows": null,
            "grid_gap": null,
            "max_width": null,
            "order": null,
            "_view_module_version": "1.2.0",
            "grid_template_areas": null,
            "object_position": null,
            "object_fit": null,
            "grid_auto_columns": null,
            "margin": null,
            "display": null,
            "left": null
          }
        },
        "0ef9c79f82af40e1bd2ad03572cef775": {
          "model_module": "@jupyter-widgets/controls",
          "model_name": "HTMLModel",
          "model_module_version": "1.5.0",
          "state": {
            "_view_name": "HTMLView",
            "style": "IPY_MODEL_2e00e983a24c4dd99b43b78e92cbfd9b",
            "_dom_classes": [],
            "description": "",
            "_model_name": "HTMLModel",
            "placeholder": "​",
            "_view_module": "@jupyter-widgets/controls",
            "_model_module_version": "1.5.0",
            "value": "Downloading: ",
            "_view_count": null,
            "_view_module_version": "1.5.0",
            "description_tooltip": null,
            "_model_module": "@jupyter-widgets/controls",
            "layout": "IPY_MODEL_fc208336248845fd8310afac2146f0eb"
          }
        },
        "ba3a2410713744d3b1a92154c731708f": {
          "model_module": "@jupyter-widgets/controls",
          "model_name": "FloatProgressModel",
          "model_module_version": "1.5.0",
          "state": {
            "_view_name": "ProgressView",
            "style": "IPY_MODEL_32d6ce1850ee4f8c8eeab396e5c36434",
            "_dom_classes": [],
            "description": "",
            "_model_name": "FloatProgressModel",
            "bar_style": "success",
            "max": 2603,
            "_view_module": "@jupyter-widgets/controls",
            "_model_module_version": "1.5.0",
            "value": 2603,
            "_view_count": null,
            "_view_module_version": "1.5.0",
            "orientation": "horizontal",
            "min": 0,
            "description_tooltip": null,
            "_model_module": "@jupyter-widgets/controls",
            "layout": "IPY_MODEL_46ef36e4a50b4474bf9dd8f91dc79644"
          }
        },
        "cb1300ea2d8c4ac4acd9d2f7e7825422": {
          "model_module": "@jupyter-widgets/controls",
          "model_name": "HTMLModel",
          "model_module_version": "1.5.0",
          "state": {
            "_view_name": "HTMLView",
            "style": "IPY_MODEL_d1a300f78c0444fea5320c41dad655a0",
            "_dom_classes": [],
            "description": "",
            "_model_name": "HTMLModel",
            "placeholder": "​",
            "_view_module": "@jupyter-widgets/controls",
            "_model_module_version": "1.5.0",
            "value": " 9.52k/? [00:00&lt;00:00, 228kB/s]",
            "_view_count": null,
            "_view_module_version": "1.5.0",
            "description_tooltip": null,
            "_model_module": "@jupyter-widgets/controls",
            "layout": "IPY_MODEL_aacec186f4694c05a20b4c3f6d160b6b"
          }
        },
        "2e00e983a24c4dd99b43b78e92cbfd9b": {
          "model_module": "@jupyter-widgets/controls",
          "model_name": "DescriptionStyleModel",
          "model_module_version": "1.5.0",
          "state": {
            "_view_name": "StyleView",
            "_model_name": "DescriptionStyleModel",
            "description_width": "",
            "_view_module": "@jupyter-widgets/base",
            "_model_module_version": "1.5.0",
            "_view_count": null,
            "_view_module_version": "1.2.0",
            "_model_module": "@jupyter-widgets/controls"
          }
        },
        "fc208336248845fd8310afac2146f0eb": {
          "model_module": "@jupyter-widgets/base",
          "model_name": "LayoutModel",
          "model_module_version": "1.2.0",
          "state": {
            "_view_name": "LayoutView",
            "grid_template_rows": null,
            "right": null,
            "justify_content": null,
            "_view_module": "@jupyter-widgets/base",
            "overflow": null,
            "_model_module_version": "1.2.0",
            "_view_count": null,
            "flex_flow": null,
            "width": null,
            "min_width": null,
            "border": null,
            "align_items": null,
            "bottom": null,
            "_model_module": "@jupyter-widgets/base",
            "top": null,
            "grid_column": null,
            "overflow_y": null,
            "overflow_x": null,
            "grid_auto_flow": null,
            "grid_area": null,
            "grid_template_columns": null,
            "flex": null,
            "_model_name": "LayoutModel",
            "justify_items": null,
            "grid_row": null,
            "max_height": null,
            "align_content": null,
            "visibility": null,
            "align_self": null,
            "height": null,
            "min_height": null,
            "padding": null,
            "grid_auto_rows": null,
            "grid_gap": null,
            "max_width": null,
            "order": null,
            "_view_module_version": "1.2.0",
            "grid_template_areas": null,
            "object_position": null,
            "object_fit": null,
            "grid_auto_columns": null,
            "margin": null,
            "display": null,
            "left": null
          }
        },
        "32d6ce1850ee4f8c8eeab396e5c36434": {
          "model_module": "@jupyter-widgets/controls",
          "model_name": "ProgressStyleModel",
          "model_module_version": "1.5.0",
          "state": {
            "_view_name": "StyleView",
            "_model_name": "ProgressStyleModel",
            "description_width": "",
            "_view_module": "@jupyter-widgets/base",
            "_model_module_version": "1.5.0",
            "_view_count": null,
            "_view_module_version": "1.2.0",
            "bar_color": null,
            "_model_module": "@jupyter-widgets/controls"
          }
        },
        "46ef36e4a50b4474bf9dd8f91dc79644": {
          "model_module": "@jupyter-widgets/base",
          "model_name": "LayoutModel",
          "model_module_version": "1.2.0",
          "state": {
            "_view_name": "LayoutView",
            "grid_template_rows": null,
            "right": null,
            "justify_content": null,
            "_view_module": "@jupyter-widgets/base",
            "overflow": null,
            "_model_module_version": "1.2.0",
            "_view_count": null,
            "flex_flow": null,
            "width": null,
            "min_width": null,
            "border": null,
            "align_items": null,
            "bottom": null,
            "_model_module": "@jupyter-widgets/base",
            "top": null,
            "grid_column": null,
            "overflow_y": null,
            "overflow_x": null,
            "grid_auto_flow": null,
            "grid_area": null,
            "grid_template_columns": null,
            "flex": null,
            "_model_name": "LayoutModel",
            "justify_items": null,
            "grid_row": null,
            "max_height": null,
            "align_content": null,
            "visibility": null,
            "align_self": null,
            "height": null,
            "min_height": null,
            "padding": null,
            "grid_auto_rows": null,
            "grid_gap": null,
            "max_width": null,
            "order": null,
            "_view_module_version": "1.2.0",
            "grid_template_areas": null,
            "object_position": null,
            "object_fit": null,
            "grid_auto_columns": null,
            "margin": null,
            "display": null,
            "left": null
          }
        },
        "d1a300f78c0444fea5320c41dad655a0": {
          "model_module": "@jupyter-widgets/controls",
          "model_name": "DescriptionStyleModel",
          "model_module_version": "1.5.0",
          "state": {
            "_view_name": "StyleView",
            "_model_name": "DescriptionStyleModel",
            "description_width": "",
            "_view_module": "@jupyter-widgets/base",
            "_model_module_version": "1.5.0",
            "_view_count": null,
            "_view_module_version": "1.2.0",
            "_model_module": "@jupyter-widgets/controls"
          }
        },
        "aacec186f4694c05a20b4c3f6d160b6b": {
          "model_module": "@jupyter-widgets/base",
          "model_name": "LayoutModel",
          "model_module_version": "1.2.0",
          "state": {
            "_view_name": "LayoutView",
            "grid_template_rows": null,
            "right": null,
            "justify_content": null,
            "_view_module": "@jupyter-widgets/base",
            "overflow": null,
            "_model_module_version": "1.2.0",
            "_view_count": null,
            "flex_flow": null,
            "width": null,
            "min_width": null,
            "border": null,
            "align_items": null,
            "bottom": null,
            "_model_module": "@jupyter-widgets/base",
            "top": null,
            "grid_column": null,
            "overflow_y": null,
            "overflow_x": null,
            "grid_auto_flow": null,
            "grid_area": null,
            "grid_template_columns": null,
            "flex": null,
            "_model_name": "LayoutModel",
            "justify_items": null,
            "grid_row": null,
            "max_height": null,
            "align_content": null,
            "visibility": null,
            "align_self": null,
            "height": null,
            "min_height": null,
            "padding": null,
            "grid_auto_rows": null,
            "grid_gap": null,
            "max_width": null,
            "order": null,
            "_view_module_version": "1.2.0",
            "grid_template_areas": null,
            "object_position": null,
            "object_fit": null,
            "grid_auto_columns": null,
            "margin": null,
            "display": null,
            "left": null
          }
        },
        "75cf54a1da5749d78b46ee84058202d7": {
          "model_module": "@jupyter-widgets/controls",
          "model_name": "HBoxModel",
          "model_module_version": "1.5.0",
          "state": {
            "_view_name": "HBoxView",
            "_dom_classes": [],
            "_model_name": "HBoxModel",
            "_view_module": "@jupyter-widgets/controls",
            "_model_module_version": "1.5.0",
            "_view_count": null,
            "_view_module_version": "1.5.0",
            "box_style": "",
            "layout": "IPY_MODEL_8d0b567c6d1a40fc997aaf4ae7572d05",
            "_model_module": "@jupyter-widgets/controls",
            "children": [
              "IPY_MODEL_027a69ac543748bea85ff408cc94e363",
              "IPY_MODEL_18c8e3b4b5ee4f9b9a406df051cf63be",
              "IPY_MODEL_dc5d9b03ee154eb18326e3cf843974cf"
            ]
          }
        },
        "8d0b567c6d1a40fc997aaf4ae7572d05": {
          "model_module": "@jupyter-widgets/base",
          "model_name": "LayoutModel",
          "model_module_version": "1.2.0",
          "state": {
            "_view_name": "LayoutView",
            "grid_template_rows": null,
            "right": null,
            "justify_content": null,
            "_view_module": "@jupyter-widgets/base",
            "overflow": null,
            "_model_module_version": "1.2.0",
            "_view_count": null,
            "flex_flow": null,
            "width": null,
            "min_width": null,
            "border": null,
            "align_items": null,
            "bottom": null,
            "_model_module": "@jupyter-widgets/base",
            "top": null,
            "grid_column": null,
            "overflow_y": null,
            "overflow_x": null,
            "grid_auto_flow": null,
            "grid_area": null,
            "grid_template_columns": null,
            "flex": null,
            "_model_name": "LayoutModel",
            "justify_items": null,
            "grid_row": null,
            "max_height": null,
            "align_content": null,
            "visibility": null,
            "align_self": null,
            "height": null,
            "min_height": null,
            "padding": null,
            "grid_auto_rows": null,
            "grid_gap": null,
            "max_width": null,
            "order": null,
            "_view_module_version": "1.2.0",
            "grid_template_areas": null,
            "object_position": null,
            "object_fit": null,
            "grid_auto_columns": null,
            "margin": null,
            "display": null,
            "left": null
          }
        },
        "027a69ac543748bea85ff408cc94e363": {
          "model_module": "@jupyter-widgets/controls",
          "model_name": "HTMLModel",
          "model_module_version": "1.5.0",
          "state": {
            "_view_name": "HTMLView",
            "style": "IPY_MODEL_e7e86847ba8a4f1d98c50e1a15ee8899",
            "_dom_classes": [],
            "description": "",
            "_model_name": "HTMLModel",
            "placeholder": "​",
            "_view_module": "@jupyter-widgets/controls",
            "_model_module_version": "1.5.0",
            "value": "Downloading: ",
            "_view_count": null,
            "_view_module_version": "1.5.0",
            "description_tooltip": null,
            "_model_module": "@jupyter-widgets/controls",
            "layout": "IPY_MODEL_c30fbf10dcd2473aa445cc2b284a1210"
          }
        },
        "18c8e3b4b5ee4f9b9a406df051cf63be": {
          "model_module": "@jupyter-widgets/controls",
          "model_name": "FloatProgressModel",
          "model_module_version": "1.5.0",
          "state": {
            "_view_name": "ProgressView",
            "style": "IPY_MODEL_5d7926bb80374876aabbfc7da6c7677f",
            "_dom_classes": [],
            "description": "",
            "_model_name": "FloatProgressModel",
            "bar_style": "success",
            "max": 1781,
            "_view_module": "@jupyter-widgets/controls",
            "_model_module_version": "1.5.0",
            "value": 1781,
            "_view_count": null,
            "_view_module_version": "1.5.0",
            "orientation": "horizontal",
            "min": 0,
            "description_tooltip": null,
            "_model_module": "@jupyter-widgets/controls",
            "layout": "IPY_MODEL_497cbe7edb2f46c997366fd54c6174d8"
          }
        },
        "dc5d9b03ee154eb18326e3cf843974cf": {
          "model_module": "@jupyter-widgets/controls",
          "model_name": "HTMLModel",
          "model_module_version": "1.5.0",
          "state": {
            "_view_name": "HTMLView",
            "style": "IPY_MODEL_ac32cb15c6b24c07a75a3b3dbfea3f96",
            "_dom_classes": [],
            "description": "",
            "_model_name": "HTMLModel",
            "placeholder": "​",
            "_view_module": "@jupyter-widgets/controls",
            "_model_module_version": "1.5.0",
            "value": " 4.18k/? [00:00&lt;00:00, 103kB/s]",
            "_view_count": null,
            "_view_module_version": "1.5.0",
            "description_tooltip": null,
            "_model_module": "@jupyter-widgets/controls",
            "layout": "IPY_MODEL_7da797e01bea4a388a8dc7d2a25f9237"
          }
        },
        "e7e86847ba8a4f1d98c50e1a15ee8899": {
          "model_module": "@jupyter-widgets/controls",
          "model_name": "DescriptionStyleModel",
          "model_module_version": "1.5.0",
          "state": {
            "_view_name": "StyleView",
            "_model_name": "DescriptionStyleModel",
            "description_width": "",
            "_view_module": "@jupyter-widgets/base",
            "_model_module_version": "1.5.0",
            "_view_count": null,
            "_view_module_version": "1.2.0",
            "_model_module": "@jupyter-widgets/controls"
          }
        },
        "c30fbf10dcd2473aa445cc2b284a1210": {
          "model_module": "@jupyter-widgets/base",
          "model_name": "LayoutModel",
          "model_module_version": "1.2.0",
          "state": {
            "_view_name": "LayoutView",
            "grid_template_rows": null,
            "right": null,
            "justify_content": null,
            "_view_module": "@jupyter-widgets/base",
            "overflow": null,
            "_model_module_version": "1.2.0",
            "_view_count": null,
            "flex_flow": null,
            "width": null,
            "min_width": null,
            "border": null,
            "align_items": null,
            "bottom": null,
            "_model_module": "@jupyter-widgets/base",
            "top": null,
            "grid_column": null,
            "overflow_y": null,
            "overflow_x": null,
            "grid_auto_flow": null,
            "grid_area": null,
            "grid_template_columns": null,
            "flex": null,
            "_model_name": "LayoutModel",
            "justify_items": null,
            "grid_row": null,
            "max_height": null,
            "align_content": null,
            "visibility": null,
            "align_self": null,
            "height": null,
            "min_height": null,
            "padding": null,
            "grid_auto_rows": null,
            "grid_gap": null,
            "max_width": null,
            "order": null,
            "_view_module_version": "1.2.0",
            "grid_template_areas": null,
            "object_position": null,
            "object_fit": null,
            "grid_auto_columns": null,
            "margin": null,
            "display": null,
            "left": null
          }
        },
        "5d7926bb80374876aabbfc7da6c7677f": {
          "model_module": "@jupyter-widgets/controls",
          "model_name": "ProgressStyleModel",
          "model_module_version": "1.5.0",
          "state": {
            "_view_name": "StyleView",
            "_model_name": "ProgressStyleModel",
            "description_width": "",
            "_view_module": "@jupyter-widgets/base",
            "_model_module_version": "1.5.0",
            "_view_count": null,
            "_view_module_version": "1.2.0",
            "bar_color": null,
            "_model_module": "@jupyter-widgets/controls"
          }
        },
        "497cbe7edb2f46c997366fd54c6174d8": {
          "model_module": "@jupyter-widgets/base",
          "model_name": "LayoutModel",
          "model_module_version": "1.2.0",
          "state": {
            "_view_name": "LayoutView",
            "grid_template_rows": null,
            "right": null,
            "justify_content": null,
            "_view_module": "@jupyter-widgets/base",
            "overflow": null,
            "_model_module_version": "1.2.0",
            "_view_count": null,
            "flex_flow": null,
            "width": null,
            "min_width": null,
            "border": null,
            "align_items": null,
            "bottom": null,
            "_model_module": "@jupyter-widgets/base",
            "top": null,
            "grid_column": null,
            "overflow_y": null,
            "overflow_x": null,
            "grid_auto_flow": null,
            "grid_area": null,
            "grid_template_columns": null,
            "flex": null,
            "_model_name": "LayoutModel",
            "justify_items": null,
            "grid_row": null,
            "max_height": null,
            "align_content": null,
            "visibility": null,
            "align_self": null,
            "height": null,
            "min_height": null,
            "padding": null,
            "grid_auto_rows": null,
            "grid_gap": null,
            "max_width": null,
            "order": null,
            "_view_module_version": "1.2.0",
            "grid_template_areas": null,
            "object_position": null,
            "object_fit": null,
            "grid_auto_columns": null,
            "margin": null,
            "display": null,
            "left": null
          }
        },
        "ac32cb15c6b24c07a75a3b3dbfea3f96": {
          "model_module": "@jupyter-widgets/controls",
          "model_name": "DescriptionStyleModel",
          "model_module_version": "1.5.0",
          "state": {
            "_view_name": "StyleView",
            "_model_name": "DescriptionStyleModel",
            "description_width": "",
            "_view_module": "@jupyter-widgets/base",
            "_model_module_version": "1.5.0",
            "_view_count": null,
            "_view_module_version": "1.2.0",
            "_model_module": "@jupyter-widgets/controls"
          }
        },
        "7da797e01bea4a388a8dc7d2a25f9237": {
          "model_module": "@jupyter-widgets/base",
          "model_name": "LayoutModel",
          "model_module_version": "1.2.0",
          "state": {
            "_view_name": "LayoutView",
            "grid_template_rows": null,
            "right": null,
            "justify_content": null,
            "_view_module": "@jupyter-widgets/base",
            "overflow": null,
            "_model_module_version": "1.2.0",
            "_view_count": null,
            "flex_flow": null,
            "width": null,
            "min_width": null,
            "border": null,
            "align_items": null,
            "bottom": null,
            "_model_module": "@jupyter-widgets/base",
            "top": null,
            "grid_column": null,
            "overflow_y": null,
            "overflow_x": null,
            "grid_auto_flow": null,
            "grid_area": null,
            "grid_template_columns": null,
            "flex": null,
            "_model_name": "LayoutModel",
            "justify_items": null,
            "grid_row": null,
            "max_height": null,
            "align_content": null,
            "visibility": null,
            "align_self": null,
            "height": null,
            "min_height": null,
            "padding": null,
            "grid_auto_rows": null,
            "grid_gap": null,
            "max_width": null,
            "order": null,
            "_view_module_version": "1.2.0",
            "grid_template_areas": null,
            "object_position": null,
            "object_fit": null,
            "grid_auto_columns": null,
            "margin": null,
            "display": null,
            "left": null
          }
        },
        "3175cfbdf05e4b298048524f042bebec": {
          "model_module": "@jupyter-widgets/controls",
          "model_name": "HBoxModel",
          "model_module_version": "1.5.0",
          "state": {
            "_view_name": "HBoxView",
            "_dom_classes": [],
            "_model_name": "HBoxModel",
            "_view_module": "@jupyter-widgets/controls",
            "_model_module_version": "1.5.0",
            "_view_count": null,
            "_view_module_version": "1.5.0",
            "box_style": "",
            "layout": "IPY_MODEL_8ea9b9eee0ec4936bc4382570c05e855",
            "_model_module": "@jupyter-widgets/controls",
            "children": [
              "IPY_MODEL_3b509630e8ac49d58a7c88b2076f8f64",
              "IPY_MODEL_6c9e74c020cc44b8a6a94991ca09dab8",
              "IPY_MODEL_3631ffc2ab12440a9c5a5897fa0aa9b6"
            ]
          }
        },
        "8ea9b9eee0ec4936bc4382570c05e855": {
          "model_module": "@jupyter-widgets/base",
          "model_name": "LayoutModel",
          "model_module_version": "1.2.0",
          "state": {
            "_view_name": "LayoutView",
            "grid_template_rows": null,
            "right": null,
            "justify_content": null,
            "_view_module": "@jupyter-widgets/base",
            "overflow": null,
            "_model_module_version": "1.2.0",
            "_view_count": null,
            "flex_flow": null,
            "width": null,
            "min_width": null,
            "border": null,
            "align_items": null,
            "bottom": null,
            "_model_module": "@jupyter-widgets/base",
            "top": null,
            "grid_column": null,
            "overflow_y": null,
            "overflow_x": null,
            "grid_auto_flow": null,
            "grid_area": null,
            "grid_template_columns": null,
            "flex": null,
            "_model_name": "LayoutModel",
            "justify_items": null,
            "grid_row": null,
            "max_height": null,
            "align_content": null,
            "visibility": null,
            "align_self": null,
            "height": null,
            "min_height": null,
            "padding": null,
            "grid_auto_rows": null,
            "grid_gap": null,
            "max_width": null,
            "order": null,
            "_view_module_version": "1.2.0",
            "grid_template_areas": null,
            "object_position": null,
            "object_fit": null,
            "grid_auto_columns": null,
            "margin": null,
            "display": null,
            "left": null
          }
        },
        "3b509630e8ac49d58a7c88b2076f8f64": {
          "model_module": "@jupyter-widgets/controls",
          "model_name": "HTMLModel",
          "model_module_version": "1.5.0",
          "state": {
            "_view_name": "HTMLView",
            "style": "IPY_MODEL_a8273f0ebefe43219739de331e34eef1",
            "_dom_classes": [],
            "description": "",
            "_model_name": "HTMLModel",
            "placeholder": "​",
            "_view_module": "@jupyter-widgets/controls",
            "_model_module_version": "1.5.0",
            "value": "100%",
            "_view_count": null,
            "_view_module_version": "1.5.0",
            "description_tooltip": null,
            "_model_module": "@jupyter-widgets/controls",
            "layout": "IPY_MODEL_8623ebb8fc0147d6b0b8d4b328a2c5a2"
          }
        },
        "6c9e74c020cc44b8a6a94991ca09dab8": {
          "model_module": "@jupyter-widgets/controls",
          "model_name": "FloatProgressModel",
          "model_module_version": "1.5.0",
          "state": {
            "_view_name": "ProgressView",
            "style": "IPY_MODEL_ae10b1be230845af9fbd6d3cf1ca5a67",
            "_dom_classes": [],
            "description": "",
            "_model_name": "FloatProgressModel",
            "bar_style": "success",
            "max": 3,
            "_view_module": "@jupyter-widgets/controls",
            "_model_module_version": "1.5.0",
            "value": 3,
            "_view_count": null,
            "_view_module_version": "1.5.0",
            "orientation": "horizontal",
            "min": 0,
            "description_tooltip": null,
            "_model_module": "@jupyter-widgets/controls",
            "layout": "IPY_MODEL_40526ecf92cc4045add30de3e6d41fa6"
          }
        },
        "3631ffc2ab12440a9c5a5897fa0aa9b6": {
          "model_module": "@jupyter-widgets/controls",
          "model_name": "HTMLModel",
          "model_module_version": "1.5.0",
          "state": {
            "_view_name": "HTMLView",
            "style": "IPY_MODEL_f009fe7bcd6b4e3a933e0193def169c1",
            "_dom_classes": [],
            "description": "",
            "_model_name": "HTMLModel",
            "placeholder": "​",
            "_view_module": "@jupyter-widgets/controls",
            "_model_module_version": "1.5.0",
            "value": " 3/3 [00:02&lt;00:00,  1.29it/s]",
            "_view_count": null,
            "_view_module_version": "1.5.0",
            "description_tooltip": null,
            "_model_module": "@jupyter-widgets/controls",
            "layout": "IPY_MODEL_bed52b0c3d924e09adc90755cb072b4a"
          }
        },
        "a8273f0ebefe43219739de331e34eef1": {
          "model_module": "@jupyter-widgets/controls",
          "model_name": "DescriptionStyleModel",
          "model_module_version": "1.5.0",
          "state": {
            "_view_name": "StyleView",
            "_model_name": "DescriptionStyleModel",
            "description_width": "",
            "_view_module": "@jupyter-widgets/base",
            "_model_module_version": "1.5.0",
            "_view_count": null,
            "_view_module_version": "1.2.0",
            "_model_module": "@jupyter-widgets/controls"
          }
        },
        "8623ebb8fc0147d6b0b8d4b328a2c5a2": {
          "model_module": "@jupyter-widgets/base",
          "model_name": "LayoutModel",
          "model_module_version": "1.2.0",
          "state": {
            "_view_name": "LayoutView",
            "grid_template_rows": null,
            "right": null,
            "justify_content": null,
            "_view_module": "@jupyter-widgets/base",
            "overflow": null,
            "_model_module_version": "1.2.0",
            "_view_count": null,
            "flex_flow": null,
            "width": null,
            "min_width": null,
            "border": null,
            "align_items": null,
            "bottom": null,
            "_model_module": "@jupyter-widgets/base",
            "top": null,
            "grid_column": null,
            "overflow_y": null,
            "overflow_x": null,
            "grid_auto_flow": null,
            "grid_area": null,
            "grid_template_columns": null,
            "flex": null,
            "_model_name": "LayoutModel",
            "justify_items": null,
            "grid_row": null,
            "max_height": null,
            "align_content": null,
            "visibility": null,
            "align_self": null,
            "height": null,
            "min_height": null,
            "padding": null,
            "grid_auto_rows": null,
            "grid_gap": null,
            "max_width": null,
            "order": null,
            "_view_module_version": "1.2.0",
            "grid_template_areas": null,
            "object_position": null,
            "object_fit": null,
            "grid_auto_columns": null,
            "margin": null,
            "display": null,
            "left": null
          }
        },
        "ae10b1be230845af9fbd6d3cf1ca5a67": {
          "model_module": "@jupyter-widgets/controls",
          "model_name": "ProgressStyleModel",
          "model_module_version": "1.5.0",
          "state": {
            "_view_name": "StyleView",
            "_model_name": "ProgressStyleModel",
            "description_width": "",
            "_view_module": "@jupyter-widgets/base",
            "_model_module_version": "1.5.0",
            "_view_count": null,
            "_view_module_version": "1.2.0",
            "bar_color": null,
            "_model_module": "@jupyter-widgets/controls"
          }
        },
        "40526ecf92cc4045add30de3e6d41fa6": {
          "model_module": "@jupyter-widgets/base",
          "model_name": "LayoutModel",
          "model_module_version": "1.2.0",
          "state": {
            "_view_name": "LayoutView",
            "grid_template_rows": null,
            "right": null,
            "justify_content": null,
            "_view_module": "@jupyter-widgets/base",
            "overflow": null,
            "_model_module_version": "1.2.0",
            "_view_count": null,
            "flex_flow": null,
            "width": null,
            "min_width": null,
            "border": null,
            "align_items": null,
            "bottom": null,
            "_model_module": "@jupyter-widgets/base",
            "top": null,
            "grid_column": null,
            "overflow_y": null,
            "overflow_x": null,
            "grid_auto_flow": null,
            "grid_area": null,
            "grid_template_columns": null,
            "flex": null,
            "_model_name": "LayoutModel",
            "justify_items": null,
            "grid_row": null,
            "max_height": null,
            "align_content": null,
            "visibility": null,
            "align_self": null,
            "height": null,
            "min_height": null,
            "padding": null,
            "grid_auto_rows": null,
            "grid_gap": null,
            "max_width": null,
            "order": null,
            "_view_module_version": "1.2.0",
            "grid_template_areas": null,
            "object_position": null,
            "object_fit": null,
            "grid_auto_columns": null,
            "margin": null,
            "display": null,
            "left": null
          }
        },
        "f009fe7bcd6b4e3a933e0193def169c1": {
          "model_module": "@jupyter-widgets/controls",
          "model_name": "DescriptionStyleModel",
          "model_module_version": "1.5.0",
          "state": {
            "_view_name": "StyleView",
            "_model_name": "DescriptionStyleModel",
            "description_width": "",
            "_view_module": "@jupyter-widgets/base",
            "_model_module_version": "1.5.0",
            "_view_count": null,
            "_view_module_version": "1.2.0",
            "_model_module": "@jupyter-widgets/controls"
          }
        },
        "bed52b0c3d924e09adc90755cb072b4a": {
          "model_module": "@jupyter-widgets/base",
          "model_name": "LayoutModel",
          "model_module_version": "1.2.0",
          "state": {
            "_view_name": "LayoutView",
            "grid_template_rows": null,
            "right": null,
            "justify_content": null,
            "_view_module": "@jupyter-widgets/base",
            "overflow": null,
            "_model_module_version": "1.2.0",
            "_view_count": null,
            "flex_flow": null,
            "width": null,
            "min_width": null,
            "border": null,
            "align_items": null,
            "bottom": null,
            "_model_module": "@jupyter-widgets/base",
            "top": null,
            "grid_column": null,
            "overflow_y": null,
            "overflow_x": null,
            "grid_auto_flow": null,
            "grid_area": null,
            "grid_template_columns": null,
            "flex": null,
            "_model_name": "LayoutModel",
            "justify_items": null,
            "grid_row": null,
            "max_height": null,
            "align_content": null,
            "visibility": null,
            "align_self": null,
            "height": null,
            "min_height": null,
            "padding": null,
            "grid_auto_rows": null,
            "grid_gap": null,
            "max_width": null,
            "order": null,
            "_view_module_version": "1.2.0",
            "grid_template_areas": null,
            "object_position": null,
            "object_fit": null,
            "grid_auto_columns": null,
            "margin": null,
            "display": null,
            "left": null
          }
        }
      }
    }
  },
  "cells": [
    {
      "cell_type": "code",
      "metadata": {
        "id": "Vd-IotO4I0tk"
      },
      "source": [
        "!pip install datasets > /dev/null"
      ],
      "execution_count": 1,
      "outputs": []
    },
    {
      "cell_type": "code",
      "metadata": {
        "id": "DJ3hL-f9I0l9"
      },
      "source": [
        "import pytest\n",
        "from datasets import load_dataset\n",
        "import torch\n",
        "import torch.nn as nn\n",
        "from torch import LongTensor, FloatTensor\n",
        "from torch.nn import functional as F\n",
        "from typing import List, Dict, Tuple, Optional\n",
        "from torch.utils.data import Dataset\n",
        "from torch.optim import Adam\n",
        "import time\n",
        "from tqdm import tqdm\n",
        "\n",
        "from collections import Counter"
      ],
      "execution_count": 2,
      "outputs": []
    },
    {
      "cell_type": "code",
      "metadata": {
        "id": "TDZ1Piz4I0XU",
        "colab": {
          "base_uri": "https://localhost:8080/",
          "height": 328,
          "referenced_widgets": [
            "6c35907602f64406a8e397ab6a7b36ee",
            "1745481b88f64640a0b7238360730d62",
            "0ef9c79f82af40e1bd2ad03572cef775",
            "ba3a2410713744d3b1a92154c731708f",
            "cb1300ea2d8c4ac4acd9d2f7e7825422",
            "2e00e983a24c4dd99b43b78e92cbfd9b",
            "fc208336248845fd8310afac2146f0eb",
            "32d6ce1850ee4f8c8eeab396e5c36434",
            "46ef36e4a50b4474bf9dd8f91dc79644",
            "d1a300f78c0444fea5320c41dad655a0",
            "aacec186f4694c05a20b4c3f6d160b6b",
            "75cf54a1da5749d78b46ee84058202d7",
            "8d0b567c6d1a40fc997aaf4ae7572d05",
            "027a69ac543748bea85ff408cc94e363",
            "18c8e3b4b5ee4f9b9a406df051cf63be",
            "dc5d9b03ee154eb18326e3cf843974cf",
            "e7e86847ba8a4f1d98c50e1a15ee8899",
            "c30fbf10dcd2473aa445cc2b284a1210",
            "5d7926bb80374876aabbfc7da6c7677f",
            "497cbe7edb2f46c997366fd54c6174d8",
            "ac32cb15c6b24c07a75a3b3dbfea3f96",
            "7da797e01bea4a388a8dc7d2a25f9237",
            "3175cfbdf05e4b298048524f042bebec",
            "8ea9b9eee0ec4936bc4382570c05e855",
            "3b509630e8ac49d58a7c88b2076f8f64",
            "6c9e74c020cc44b8a6a94991ca09dab8",
            "3631ffc2ab12440a9c5a5897fa0aa9b6",
            "a8273f0ebefe43219739de331e34eef1",
            "8623ebb8fc0147d6b0b8d4b328a2c5a2",
            "ae10b1be230845af9fbd6d3cf1ca5a67",
            "40526ecf92cc4045add30de3e6d41fa6",
            "f009fe7bcd6b4e3a933e0193def169c1",
            "bed52b0c3d924e09adc90755cb072b4a"
          ]
        },
        "outputId": "749b326c-b520-4a83-d4b6-55e0c1b6b6c3"
      },
      "source": [
        "dataset_base = load_dataset(\"conll2003\")"
      ],
      "execution_count": 3,
      "outputs": [
        {
          "output_type": "display_data",
          "data": {
            "application/vnd.jupyter.widget-view+json": {
              "model_id": "6c35907602f64406a8e397ab6a7b36ee",
              "version_minor": 0,
              "version_major": 2
            },
            "text/plain": [
              "Downloading:   0%|          | 0.00/2.60k [00:00<?, ?B/s]"
            ]
          },
          "metadata": {}
        },
        {
          "output_type": "display_data",
          "data": {
            "application/vnd.jupyter.widget-view+json": {
              "model_id": "75cf54a1da5749d78b46ee84058202d7",
              "version_minor": 0,
              "version_major": 2
            },
            "text/plain": [
              "Downloading:   0%|          | 0.00/1.78k [00:00<?, ?B/s]"
            ]
          },
          "metadata": {}
        },
        {
          "output_type": "stream",
          "name": "stdout",
          "text": [
            "Downloading and preparing dataset conll2003/conll2003 (download: 4.63 MiB, generated: 9.78 MiB, post-processed: Unknown size, total: 14.41 MiB) to /root/.cache/huggingface/datasets/conll2003/conll2003/1.0.0/40e7cb6bcc374f7c349c83acd1e9352a4f09474eb691f64f364ee62eb65d0ca6...\n"
          ]
        },
        {
          "output_type": "display_data",
          "data": {
            "application/vnd.jupyter.widget-view+json": {
              "model_id": "3175cfbdf05e4b298048524f042bebec",
              "version_minor": 0,
              "version_major": 2
            },
            "text/plain": [
              "  0%|          | 0/3 [00:00<?, ?it/s]"
            ]
          },
          "metadata": {}
        },
        {
          "output_type": "display_data",
          "data": {
            "application/vnd.jupyter.widget-view+json": {
              "model_id": "e616127a56f64678b379cb17e2b90074",
              "version_minor": 0,
              "version_major": 2
            },
            "text/plain": [
              "Downloading:   0%|          | 0.00/650k [00:00<?, ?B/s]"
            ]
          },
          "metadata": {}
        },
        {
          "output_type": "display_data",
          "data": {
            "application/vnd.jupyter.widget-view+json": {
              "model_id": "69d89e9f66d54de9a54a8bd4bab6d276",
              "version_minor": 0,
              "version_major": 2
            },
            "text/plain": [
              "Downloading:   0%|          | 0.00/163k [00:00<?, ?B/s]"
            ]
          },
          "metadata": {}
        },
        {
          "output_type": "display_data",
          "data": {
            "application/vnd.jupyter.widget-view+json": {
              "model_id": "2da39c0466fa4d82910728a358f05e88",
              "version_minor": 0,
              "version_major": 2
            },
            "text/plain": [
              "Downloading:   0%|          | 0.00/146k [00:00<?, ?B/s]"
            ]
          },
          "metadata": {}
        },
        {
          "output_type": "display_data",
          "data": {
            "application/vnd.jupyter.widget-view+json": {
              "model_id": "8926246d41ab4a26ad1a4b22d6fde5da",
              "version_minor": 0,
              "version_major": 2
            },
            "text/plain": [
              "  0%|          | 0/3 [00:00<?, ?it/s]"
            ]
          },
          "metadata": {}
        },
        {
          "output_type": "display_data",
          "data": {
            "application/vnd.jupyter.widget-view+json": {
              "model_id": "f55bc972717847c1937d6d96a38563e8",
              "version_minor": 0,
              "version_major": 2
            },
            "text/plain": [
              "0 examples [00:00, ? examples/s]"
            ]
          },
          "metadata": {}
        },
        {
          "output_type": "display_data",
          "data": {
            "application/vnd.jupyter.widget-view+json": {
              "model_id": "577f685ad4d848659d8cf06ff99ef8e7",
              "version_minor": 0,
              "version_major": 2
            },
            "text/plain": [
              "0 examples [00:00, ? examples/s]"
            ]
          },
          "metadata": {}
        },
        {
          "output_type": "display_data",
          "data": {
            "application/vnd.jupyter.widget-view+json": {
              "model_id": "368cb338e9cc484ab5547bfe7d353610",
              "version_minor": 0,
              "version_major": 2
            },
            "text/plain": [
              "0 examples [00:00, ? examples/s]"
            ]
          },
          "metadata": {}
        },
        {
          "output_type": "stream",
          "name": "stdout",
          "text": [
            "Dataset conll2003 downloaded and prepared to /root/.cache/huggingface/datasets/conll2003/conll2003/1.0.0/40e7cb6bcc374f7c349c83acd1e9352a4f09474eb691f64f364ee62eb65d0ca6. Subsequent calls will reuse this data.\n"
          ]
        },
        {
          "output_type": "display_data",
          "data": {
            "application/vnd.jupyter.widget-view+json": {
              "model_id": "c35419f54f5e4f03a9f7241b8b0ce51d",
              "version_minor": 0,
              "version_major": 2
            },
            "text/plain": [
              "  0%|          | 0/3 [00:00<?, ?it/s]"
            ]
          },
          "metadata": {}
        }
      ]
    },
    {
      "cell_type": "code",
      "metadata": {
        "colab": {
          "base_uri": "https://localhost:8080/"
        },
        "id": "aUDWw7mZI76R",
        "outputId": "e3130ab6-3434-4054-cfba-a2781d2483e6"
      },
      "source": [
        "dataset_base['train']"
      ],
      "execution_count": 4,
      "outputs": [
        {
          "output_type": "execute_result",
          "data": {
            "text/plain": [
              "Dataset({\n",
              "    features: ['id', 'tokens', 'pos_tags', 'chunk_tags', 'ner_tags'],\n",
              "    num_rows: 14041\n",
              "})"
            ]
          },
          "metadata": {},
          "execution_count": 4
        }
      ]
    },
    {
      "cell_type": "code",
      "metadata": {
        "colab": {
          "base_uri": "https://localhost:8080/"
        },
        "id": "JSwpeouxZgZg",
        "outputId": "ab754235-9029-49f9-8934-af601df89a52"
      },
      "source": [
        "import json\n",
        "mapping_ = {v: k for k, v in dataset_base[\"train\"].features[\"ner_tags\"].feature._str2int.items()}\n",
        "\n",
        "with open('mapping.json', 'w') as f:\n",
        "  json.dump(mapping_, f)\n",
        "mapping_"
      ],
      "execution_count": 5,
      "outputs": [
        {
          "output_type": "execute_result",
          "data": {
            "text/plain": [
              "{0: 'O',\n",
              " 1: 'B-PER',\n",
              " 2: 'I-PER',\n",
              " 3: 'B-ORG',\n",
              " 4: 'I-ORG',\n",
              " 5: 'B-LOC',\n",
              " 6: 'I-LOC',\n",
              " 7: 'B-MISC',\n",
              " 8: 'I-MISC'}"
            ]
          },
          "metadata": {},
          "execution_count": 5
        }
      ]
    },
    {
      "cell_type": "markdown",
      "metadata": {
        "id": "AqP86jc610L0"
      },
      "source": [
        "## sklearn crf"
      ]
    },
    {
      "cell_type": "code",
      "metadata": {
        "id": "yBbojqMZ2AjH"
      },
      "source": [
        "!pip install sklearn_crfsuite > /dev/null"
      ],
      "execution_count": 6,
      "outputs": []
    },
    {
      "cell_type": "code",
      "metadata": {
        "id": "RBun7VL414bV"
      },
      "source": [
        "import pandas as pd\n",
        "import numpy as np\n",
        "import sklearn\n",
        "import sklearn_crfsuite\n",
        "from sklearn_crfsuite import scorers\n",
        "from sklearn_crfsuite import metrics"
      ],
      "execution_count": 7,
      "outputs": []
    },
    {
      "cell_type": "code",
      "metadata": {
        "id": "dpknLGgd14Q2",
        "colab": {
          "base_uri": "https://localhost:8080/",
          "height": 676
        },
        "outputId": "c16ef938-54f5-4f19-9730-a6000a3ee829"
      },
      "source": [
        "df = pd.DataFrame({'sent_id': [i for j in [[i] * len(s['tokens']) for i, s in enumerate(dataset_base['train'])] for i in j],\n",
        "                   'data': [i for j in dataset_base['train'] for i in j['tokens']],\n",
        "                   'entities': [mapping_[i] for j in dataset_base['train'] for i in j['ner_tags']]})\n",
        "df.head(20)"
      ],
      "execution_count": 8,
      "outputs": [
        {
          "output_type": "execute_result",
          "data": {
            "text/html": [
              "<div>\n",
              "<style scoped>\n",
              "    .dataframe tbody tr th:only-of-type {\n",
              "        vertical-align: middle;\n",
              "    }\n",
              "\n",
              "    .dataframe tbody tr th {\n",
              "        vertical-align: top;\n",
              "    }\n",
              "\n",
              "    .dataframe thead th {\n",
              "        text-align: right;\n",
              "    }\n",
              "</style>\n",
              "<table border=\"1\" class=\"dataframe\">\n",
              "  <thead>\n",
              "    <tr style=\"text-align: right;\">\n",
              "      <th></th>\n",
              "      <th>sent_id</th>\n",
              "      <th>data</th>\n",
              "      <th>entities</th>\n",
              "    </tr>\n",
              "  </thead>\n",
              "  <tbody>\n",
              "    <tr>\n",
              "      <th>0</th>\n",
              "      <td>0</td>\n",
              "      <td>EU</td>\n",
              "      <td>B-ORG</td>\n",
              "    </tr>\n",
              "    <tr>\n",
              "      <th>1</th>\n",
              "      <td>0</td>\n",
              "      <td>rejects</td>\n",
              "      <td>O</td>\n",
              "    </tr>\n",
              "    <tr>\n",
              "      <th>2</th>\n",
              "      <td>0</td>\n",
              "      <td>German</td>\n",
              "      <td>B-MISC</td>\n",
              "    </tr>\n",
              "    <tr>\n",
              "      <th>3</th>\n",
              "      <td>0</td>\n",
              "      <td>call</td>\n",
              "      <td>O</td>\n",
              "    </tr>\n",
              "    <tr>\n",
              "      <th>4</th>\n",
              "      <td>0</td>\n",
              "      <td>to</td>\n",
              "      <td>O</td>\n",
              "    </tr>\n",
              "    <tr>\n",
              "      <th>5</th>\n",
              "      <td>0</td>\n",
              "      <td>boycott</td>\n",
              "      <td>O</td>\n",
              "    </tr>\n",
              "    <tr>\n",
              "      <th>6</th>\n",
              "      <td>0</td>\n",
              "      <td>British</td>\n",
              "      <td>B-MISC</td>\n",
              "    </tr>\n",
              "    <tr>\n",
              "      <th>7</th>\n",
              "      <td>0</td>\n",
              "      <td>lamb</td>\n",
              "      <td>O</td>\n",
              "    </tr>\n",
              "    <tr>\n",
              "      <th>8</th>\n",
              "      <td>0</td>\n",
              "      <td>.</td>\n",
              "      <td>O</td>\n",
              "    </tr>\n",
              "    <tr>\n",
              "      <th>9</th>\n",
              "      <td>1</td>\n",
              "      <td>Peter</td>\n",
              "      <td>B-PER</td>\n",
              "    </tr>\n",
              "    <tr>\n",
              "      <th>10</th>\n",
              "      <td>1</td>\n",
              "      <td>Blackburn</td>\n",
              "      <td>I-PER</td>\n",
              "    </tr>\n",
              "    <tr>\n",
              "      <th>11</th>\n",
              "      <td>2</td>\n",
              "      <td>BRUSSELS</td>\n",
              "      <td>B-LOC</td>\n",
              "    </tr>\n",
              "    <tr>\n",
              "      <th>12</th>\n",
              "      <td>2</td>\n",
              "      <td>1996-08-22</td>\n",
              "      <td>O</td>\n",
              "    </tr>\n",
              "    <tr>\n",
              "      <th>13</th>\n",
              "      <td>3</td>\n",
              "      <td>The</td>\n",
              "      <td>O</td>\n",
              "    </tr>\n",
              "    <tr>\n",
              "      <th>14</th>\n",
              "      <td>3</td>\n",
              "      <td>European</td>\n",
              "      <td>B-ORG</td>\n",
              "    </tr>\n",
              "    <tr>\n",
              "      <th>15</th>\n",
              "      <td>3</td>\n",
              "      <td>Commission</td>\n",
              "      <td>I-ORG</td>\n",
              "    </tr>\n",
              "    <tr>\n",
              "      <th>16</th>\n",
              "      <td>3</td>\n",
              "      <td>said</td>\n",
              "      <td>O</td>\n",
              "    </tr>\n",
              "    <tr>\n",
              "      <th>17</th>\n",
              "      <td>3</td>\n",
              "      <td>on</td>\n",
              "      <td>O</td>\n",
              "    </tr>\n",
              "    <tr>\n",
              "      <th>18</th>\n",
              "      <td>3</td>\n",
              "      <td>Thursday</td>\n",
              "      <td>O</td>\n",
              "    </tr>\n",
              "    <tr>\n",
              "      <th>19</th>\n",
              "      <td>3</td>\n",
              "      <td>it</td>\n",
              "      <td>O</td>\n",
              "    </tr>\n",
              "  </tbody>\n",
              "</table>\n",
              "</div>"
            ],
            "text/plain": [
              "    sent_id        data entities\n",
              "0         0          EU    B-ORG\n",
              "1         0     rejects        O\n",
              "2         0      German   B-MISC\n",
              "3         0        call        O\n",
              "4         0          to        O\n",
              "5         0     boycott        O\n",
              "6         0     British   B-MISC\n",
              "7         0        lamb        O\n",
              "8         0           .        O\n",
              "9         1       Peter    B-PER\n",
              "10        1   Blackburn    I-PER\n",
              "11        2    BRUSSELS    B-LOC\n",
              "12        2  1996-08-22        O\n",
              "13        3         The        O\n",
              "14        3    European    B-ORG\n",
              "15        3  Commission    I-ORG\n",
              "16        3        said        O\n",
              "17        3          on        O\n",
              "18        3    Thursday        O\n",
              "19        3          it        O"
            ]
          },
          "metadata": {},
          "execution_count": 8
        }
      ]
    },
    {
      "cell_type": "code",
      "metadata": {
        "id": "pB6G0QRr14G5"
      },
      "source": [
        "class SentenceGetter(object):\n",
        "    \n",
        "    def __init__(self, data):\n",
        "        self.n_sent = 1\n",
        "        self.data = data\n",
        "        self.empty = False\n",
        "        agg_func = lambda s: [(w, t) for w, t in zip(s['data'].values.tolist(), \n",
        "                                                     s['entities'].values.tolist())]\n",
        "        self.grouped = self.data.groupby('sent_id').apply(agg_func)\n",
        "        self.sentences = [s for s in self.grouped]\n",
        "        \n",
        "    def get_next(self):\n",
        "        try: \n",
        "            s = self.grouped['Sentence: {}'.format(self.n_sent)]\n",
        "            self.n_sent += 1\n",
        "            return s \n",
        "        except:\n",
        "            return None\n",
        "\n",
        "getter = SentenceGetter(df)\n",
        "sentences = getter.sentences"
      ],
      "execution_count": 9,
      "outputs": []
    },
    {
      "cell_type": "code",
      "metadata": {
        "id": "6suzvO5E5lbu"
      },
      "source": [
        "def word2features(sent, i):\n",
        "    word = sent[i][0]\n",
        "    postag = sent[i][1]\n",
        "    \n",
        "    features = {\n",
        "        'bias': 1.0, \n",
        "        'word.lower()': word.lower(), \n",
        "        'word[-3:]': word[-3:],\n",
        "        'word[-2:]': word[-2:],\n",
        "        'word.isupper()': word.isupper(),\n",
        "        'word.istitle()': word.istitle(),\n",
        "        'word.isdigit()': word.isdigit()\n",
        "    }\n",
        "    if i > 0:\n",
        "        word1 = sent[i-1][0]\n",
        "        features.update({\n",
        "            '-1:word.lower()': word1.lower(),\n",
        "            '-1:word.istitle()': word1.istitle(),\n",
        "            '-1:word.isupper()': word1.isupper()\n",
        "        })\n",
        "    else:\n",
        "        features['BOS'] = True\n",
        "    if i < len(sent)-1:\n",
        "        word1 = sent[i+1][0]\n",
        "        features.update({\n",
        "            '+1:word.lower()': word1.lower(),\n",
        "            '+1:word.istitle()': word1.istitle(),\n",
        "            '+1:word.isupper()': word1.isupper()\n",
        "        })\n",
        "    else:\n",
        "        features['EOS'] = True\n",
        "\n",
        "    return features\n",
        "\n",
        "def sent2features(sent):\n",
        "    return [word2features(sent, i) for i in range(len(sent))]\n",
        "\n",
        "def sent2labels(sent):\n",
        "    return [label for token, label in sent]\n",
        "\n",
        "def sent2tokens(sent):\n",
        "    return [token for token, label in sent]"
      ],
      "execution_count": 10,
      "outputs": []
    },
    {
      "cell_type": "code",
      "metadata": {
        "id": "17OlKia_5lRr"
      },
      "source": [
        "X = [sent2features(s) for s in sentences]\n",
        "y = [sent2labels(s) for s in sentences]"
      ],
      "execution_count": 11,
      "outputs": []
    },
    {
      "cell_type": "code",
      "metadata": {
        "colab": {
          "base_uri": "https://localhost:8080/"
        },
        "id": "uHje_zel5lIS",
        "outputId": "fcf3e72b-4429-4caa-fc24-2347d848cf8b"
      },
      "source": [
        "len(X)"
      ],
      "execution_count": 12,
      "outputs": [
        {
          "output_type": "execute_result",
          "data": {
            "text/plain": [
              "14041"
            ]
          },
          "metadata": {},
          "execution_count": 12
        }
      ]
    },
    {
      "cell_type": "code",
      "metadata": {
        "id": "7cDvXaMd5zRH"
      },
      "source": [
        "X_train = X[:10000]\n",
        "X_test = X[10000:]\n",
        "y_train = y[:10000]\n",
        "y_test = y[10000:]"
      ],
      "execution_count": 13,
      "outputs": []
    },
    {
      "cell_type": "code",
      "metadata": {
        "id": "WzdtzbLz5_0p",
        "outputId": "1527d112-9712-4f0e-c828-99b61e6921e8",
        "colab": {
          "base_uri": "https://localhost:8080/"
        }
      },
      "source": [
        "%%time\n",
        "crf = sklearn_crfsuite.CRF(\n",
        "    algorithm='lbfgs',\n",
        "    c1=0.1,\n",
        "    c2=0.1,\n",
        "    max_iterations=100,\n",
        "    all_possible_transitions=True,\n",
        "    verbose=True\n",
        ")\n",
        "crf.fit(X_train, y_train)"
      ],
      "execution_count": 14,
      "outputs": [
        {
          "output_type": "stream",
          "name": "stderr",
          "text": [
            "loading training data to CRFsuite: 100%|██████████| 10000/10000 [00:01<00:00, 7101.44it/s]\n"
          ]
        },
        {
          "output_type": "stream",
          "name": "stdout",
          "text": [
            "\n",
            "Feature generation\n",
            "type: CRF1d\n",
            "feature.minfreq: 0.000000\n",
            "feature.possible_states: 0\n",
            "feature.possible_transitions: 1\n",
            "0....1....2....3....4....5....6....7....8....9....10\n",
            "Number of features: 68239\n",
            "Seconds required: 0.286\n",
            "\n",
            "L-BFGS optimization\n",
            "c1: 0.100000\n",
            "c2: 0.100000\n",
            "num_memories: 6\n",
            "max_iterations: 100\n",
            "epsilon: 0.000010\n",
            "stop: 10\n",
            "delta: 0.000010\n",
            "linesearch: MoreThuente\n",
            "linesearch.max_iterations: 20\n",
            "\n",
            "Iter 1   time=0.30  loss=172342.13 active=68004 feature_norm=1.00\n",
            "Iter 2   time=0.31  loss=130286.02 active=66816 feature_norm=3.00\n",
            "Iter 3   time=0.16  loss=109044.75 active=65678 feature_norm=2.57\n",
            "Iter 4   time=0.31  loss=94855.47 active=66280 feature_norm=2.23\n",
            "Iter 5   time=0.17  loss=86509.90 active=67032 feature_norm=2.58\n",
            "Iter 6   time=0.16  loss=76660.45 active=67574 feature_norm=3.25\n",
            "Iter 7   time=0.15  loss=60714.33 active=67292 feature_norm=5.33\n",
            "Iter 8   time=0.15  loss=53334.59 active=66153 feature_norm=6.21\n",
            "Iter 9   time=0.16  loss=47394.52 active=55027 feature_norm=8.14\n",
            "Iter 10  time=0.16  loss=42682.31 active=54600 feature_norm=9.30\n",
            "Iter 11  time=0.16  loss=39755.34 active=53899 feature_norm=10.95\n",
            "Iter 12  time=0.15  loss=36717.45 active=52733 feature_norm=12.41\n",
            "Iter 13  time=0.16  loss=33081.93 active=50066 feature_norm=14.77\n",
            "Iter 14  time=0.16  loss=30104.84 active=46244 feature_norm=18.18\n",
            "Iter 15  time=0.16  loss=27433.58 active=45601 feature_norm=20.71\n",
            "Iter 16  time=0.16  loss=24732.23 active=44314 feature_norm=24.06\n",
            "Iter 17  time=0.17  loss=21878.18 active=42055 feature_norm=31.81\n",
            "Iter 18  time=0.16  loss=19482.24 active=41902 feature_norm=34.95\n",
            "Iter 19  time=0.16  loss=18241.56 active=41277 feature_norm=38.50\n",
            "Iter 20  time=0.17  loss=16918.03 active=39504 feature_norm=46.71\n",
            "Iter 21  time=0.16  loss=15124.00 active=38047 feature_norm=50.30\n",
            "Iter 22  time=0.16  loss=13869.13 active=36713 feature_norm=55.72\n",
            "Iter 23  time=0.16  loss=12422.34 active=36401 feature_norm=62.86\n",
            "Iter 24  time=0.15  loss=11311.81 active=36159 feature_norm=69.20\n",
            "Iter 25  time=0.16  loss=10170.09 active=35071 feature_norm=77.21\n",
            "Iter 26  time=0.15  loss=9228.19  active=33682 feature_norm=84.67\n",
            "Iter 27  time=0.15  loss=8591.07  active=32683 feature_norm=93.57\n",
            "Iter 28  time=0.16  loss=8034.03  active=32892 feature_norm=95.73\n",
            "Iter 29  time=0.16  loss=7647.08  active=32333 feature_norm=99.65\n",
            "Iter 30  time=0.16  loss=7145.39  active=31917 feature_norm=104.81\n",
            "Iter 31  time=0.16  loss=6675.89  active=30843 feature_norm=109.60\n",
            "Iter 32  time=0.61  loss=6607.35  active=30675 feature_norm=111.13\n",
            "Iter 33  time=0.16  loss=6301.12  active=30269 feature_norm=114.25\n",
            "Iter 34  time=0.16  loss=6052.80  active=29838 feature_norm=117.54\n",
            "Iter 35  time=0.15  loss=5978.07  active=27391 feature_norm=122.71\n",
            "Iter 36  time=0.17  loss=5753.62  active=27561 feature_norm=123.35\n",
            "Iter 37  time=0.16  loss=5706.37  active=27482 feature_norm=123.73\n",
            "Iter 38  time=0.16  loss=5607.37  active=27088 feature_norm=124.85\n",
            "Iter 39  time=0.16  loss=5581.04  active=26171 feature_norm=128.29\n",
            "Iter 40  time=0.15  loss=5462.59  active=26458 feature_norm=127.65\n",
            "Iter 41  time=0.16  loss=5441.88  active=26368 feature_norm=127.57\n",
            "Iter 42  time=0.17  loss=5379.43  active=26021 feature_norm=127.71\n",
            "Iter 43  time=0.31  loss=5355.37  active=25550 feature_norm=127.96\n",
            "Iter 44  time=0.16  loss=5318.09  active=25278 feature_norm=128.29\n",
            "Iter 45  time=0.17  loss=5288.16  active=24957 feature_norm=129.10\n",
            "Iter 46  time=0.17  loss=5258.55  active=24704 feature_norm=129.87\n",
            "Iter 47  time=0.16  loss=5231.55  active=24493 feature_norm=130.46\n",
            "Iter 48  time=0.16  loss=5211.98  active=24147 feature_norm=131.00\n",
            "Iter 49  time=0.16  loss=5194.10  active=23618 feature_norm=131.39\n",
            "Iter 50  time=0.16  loss=5180.34  active=23402 feature_norm=131.54\n",
            "Iter 51  time=0.16  loss=5166.24  active=23161 feature_norm=131.60\n",
            "Iter 52  time=0.16  loss=5154.91  active=22734 feature_norm=131.72\n",
            "Iter 53  time=0.16  loss=5142.58  active=22660 feature_norm=131.87\n",
            "Iter 54  time=0.16  loss=5135.56  active=22535 feature_norm=131.93\n",
            "Iter 55  time=0.16  loss=5125.66  active=22250 feature_norm=132.08\n",
            "Iter 56  time=0.16  loss=5117.51  active=22061 feature_norm=132.14\n",
            "Iter 57  time=0.16  loss=5110.43  active=21950 feature_norm=132.21\n",
            "Iter 58  time=0.15  loss=5103.38  active=21762 feature_norm=132.22\n",
            "Iter 59  time=0.16  loss=5098.08  active=21596 feature_norm=132.30\n",
            "Iter 60  time=0.16  loss=5093.11  active=21507 feature_norm=132.35\n",
            "Iter 61  time=0.16  loss=5089.25  active=21477 feature_norm=132.36\n",
            "Iter 62  time=0.16  loss=5085.26  active=21378 feature_norm=132.42\n",
            "Iter 63  time=0.16  loss=5082.43  active=21285 feature_norm=132.46\n",
            "Iter 64  time=0.17  loss=5078.30  active=21198 feature_norm=132.52\n",
            "Iter 65  time=0.16  loss=5075.87  active=21142 feature_norm=132.56\n",
            "Iter 66  time=0.17  loss=5073.28  active=21099 feature_norm=132.61\n",
            "Iter 67  time=0.16  loss=5071.37  active=21025 feature_norm=132.63\n",
            "Iter 68  time=0.15  loss=5068.91  active=20972 feature_norm=132.68\n",
            "Iter 69  time=0.15  loss=5067.04  active=20926 feature_norm=132.70\n",
            "Iter 70  time=0.16  loss=5065.08  active=20857 feature_norm=132.74\n",
            "Iter 71  time=0.16  loss=5063.42  active=20792 feature_norm=132.76\n",
            "Iter 72  time=0.16  loss=5061.68  active=20753 feature_norm=132.79\n",
            "Iter 73  time=0.16  loss=5060.30  active=20714 feature_norm=132.80\n",
            "Iter 74  time=0.16  loss=5058.74  active=20678 feature_norm=132.83\n",
            "Iter 75  time=0.16  loss=5057.55  active=20643 feature_norm=132.84\n",
            "Iter 76  time=0.15  loss=5056.04  active=20621 feature_norm=132.86\n",
            "Iter 77  time=0.17  loss=5055.04  active=20604 feature_norm=132.87\n",
            "Iter 78  time=0.16  loss=5053.76  active=20586 feature_norm=132.89\n",
            "Iter 79  time=0.15  loss=5052.81  active=20561 feature_norm=132.90\n",
            "Iter 80  time=0.16  loss=5051.60  active=20536 feature_norm=132.91\n",
            "Iter 81  time=0.15  loss=5050.72  active=20523 feature_norm=132.93\n",
            "Iter 82  time=0.15  loss=5049.72  active=20512 feature_norm=132.93\n",
            "Iter 83  time=0.16  loss=5048.89  active=20480 feature_norm=132.95\n",
            "Iter 84  time=0.15  loss=5047.97  active=20441 feature_norm=132.96\n",
            "Iter 85  time=0.16  loss=5047.16  active=20431 feature_norm=132.97\n",
            "Iter 86  time=0.16  loss=5046.36  active=20415 feature_norm=132.97\n",
            "Iter 87  time=0.16  loss=5045.61  active=20400 feature_norm=132.98\n",
            "Iter 88  time=0.15  loss=5044.89  active=20371 feature_norm=132.99\n",
            "Iter 89  time=0.16  loss=5044.10  active=20356 feature_norm=132.99\n",
            "Iter 90  time=0.16  loss=5043.41  active=20330 feature_norm=133.00\n",
            "Iter 91  time=0.17  loss=5042.67  active=20328 feature_norm=133.00\n",
            "Iter 92  time=0.16  loss=5042.11  active=20313 feature_norm=133.00\n",
            "Iter 93  time=0.15  loss=5041.35  active=20300 feature_norm=133.01\n",
            "Iter 94  time=0.15  loss=5040.82  active=20278 feature_norm=133.01\n",
            "Iter 95  time=0.15  loss=5040.05  active=20259 feature_norm=133.01\n",
            "Iter 96  time=0.17  loss=5039.51  active=20251 feature_norm=133.01\n",
            "Iter 97  time=0.15  loss=5038.83  active=20226 feature_norm=133.00\n",
            "Iter 98  time=0.15  loss=5038.17  active=20200 feature_norm=132.99\n",
            "Iter 99  time=0.15  loss=5037.61  active=20191 feature_norm=132.99\n",
            "Iter 100 time=0.15  loss=5036.88  active=20185 feature_norm=132.98\n",
            "L-BFGS terminated with the maximum number of iterations\n",
            "Total seconds required for training: 16.940\n",
            "\n",
            "Storing the model\n",
            "Number of active features: 20185 (68239)\n",
            "Number of active attributes: 13596 (55010)\n",
            "Number of active labels: 9 (9)\n",
            "Writing labels\n",
            "Writing attributes\n",
            "Writing feature references for transitions\n",
            "Writing feature references for attributes\n",
            "Seconds required: 0.014\n",
            "\n",
            "CPU times: user 18.5 s, sys: 133 ms, total: 18.7 s\n",
            "Wall time: 18.6 s\n"
          ]
        }
      ]
    },
    {
      "cell_type": "code",
      "metadata": {
        "id": "7xxa8nFp5_kF",
        "colab": {
          "base_uri": "https://localhost:8080/"
        },
        "outputId": "431d3e17-4cf6-4f59-f8b9-46514bc18b71"
      },
      "source": [
        "all_entities = sorted(df.entities.unique().tolist())\n",
        "y_pred = crf.predict(X_test)\n",
        "metrics.flat_f1_score(y_test, y_pred, average='weighted', labels=all_entities)"
      ],
      "execution_count": 15,
      "outputs": [
        {
          "output_type": "execute_result",
          "data": {
            "text/plain": [
              "0.9670912566610134"
            ]
          },
          "metadata": {},
          "execution_count": 15
        }
      ]
    },
    {
      "cell_type": "code",
      "metadata": {
        "id": "viNqEHDf6P9W",
        "colab": {
          "base_uri": "https://localhost:8080/"
        },
        "outputId": "0d737ff5-0fb8-4a53-cec7-220555332dcb"
      },
      "source": [
        "y_pred = crf.predict(X_test)\n",
        "metrics.flat_f1_score(y_test, y_pred, average='weighted', labels=[i for i in all_entities if i != 'O'])"
      ],
      "execution_count": 16,
      "outputs": [
        {
          "output_type": "execute_result",
          "data": {
            "text/plain": [
              "0.8369877440448509"
            ]
          },
          "metadata": {},
          "execution_count": 16
        }
      ]
    },
    {
      "cell_type": "code",
      "metadata": {
        "id": "J4UGNtv16PwU",
        "colab": {
          "base_uri": "https://localhost:8080/"
        },
        "outputId": "b66923ad-52e2-413b-e365-38ff4030aaef"
      },
      "source": [
        "print(metrics.flat_classification_report(y_test, y_pred, labels=all_entities))"
      ],
      "execution_count": 17,
      "outputs": [
        {
          "output_type": "stream",
          "name": "stdout",
          "text": [
            "              precision    recall  f1-score   support\n",
            "\n",
            "       B-LOC       0.89      0.86      0.88      2205\n",
            "      B-MISC       0.91      0.79      0.85      1103\n",
            "       B-ORG       0.78      0.75      0.77      1739\n",
            "       B-PER       0.86      0.86      0.86      1976\n",
            "       I-LOC       0.86      0.69      0.76       422\n",
            "      I-MISC       0.82      0.62      0.70       370\n",
            "       I-ORG       0.79      0.80      0.79      1149\n",
            "       I-PER       0.89      0.95      0.92      1297\n",
            "           O       0.99      0.99      0.99     54605\n",
            "\n",
            "    accuracy                           0.97     64866\n",
            "   macro avg       0.87      0.81      0.84     64866\n",
            "weighted avg       0.97      0.97      0.97     64866\n",
            "\n"
          ]
        }
      ]
    },
    {
      "cell_type": "code",
      "metadata": {
        "colab": {
          "base_uri": "https://localhost:8080/"
        },
        "id": "F6cKe7rU6Pj3",
        "outputId": "883bce14-4f4b-4258-aa07-4527c40fc84c"
      },
      "source": [
        "print(metrics.flat_classification_report(y_test, y_pred, labels=[i for i in all_entities if i != 'O']))"
      ],
      "execution_count": 18,
      "outputs": [
        {
          "output_type": "stream",
          "name": "stdout",
          "text": [
            "              precision    recall  f1-score   support\n",
            "\n",
            "       B-LOC       0.89      0.86      0.88      2205\n",
            "      B-MISC       0.91      0.79      0.85      1103\n",
            "       B-ORG       0.78      0.75      0.77      1739\n",
            "       B-PER       0.86      0.86      0.86      1976\n",
            "       I-LOC       0.86      0.69      0.76       422\n",
            "      I-MISC       0.82      0.62      0.70       370\n",
            "       I-ORG       0.79      0.80      0.79      1149\n",
            "       I-PER       0.89      0.95      0.92      1297\n",
            "\n",
            "   micro avg       0.85      0.82      0.84     10261\n",
            "   macro avg       0.85      0.79      0.82     10261\n",
            "weighted avg       0.85      0.82      0.84     10261\n",
            "\n"
          ]
        }
      ]
    },
    {
      "cell_type": "markdown",
      "metadata": {
        "id": "MFDIKC92G1qe"
      },
      "source": [
        "## NER"
      ]
    },
    {
      "cell_type": "markdown",
      "metadata": {
        "id": "PEMltxDtAyAz"
      },
      "source": [
        "### FCNN"
      ]
    },
    {
      "cell_type": "code",
      "metadata": {
        "id": "s7xvPhtGmOzs"
      },
      "source": [
        "import pytest\n",
        "from datasets import load_dataset\n",
        "import torch\n",
        "import torch.nn as nn\n",
        "from torch import LongTensor, FloatTensor\n",
        "from torch.nn import functional as F\n",
        "from typing import List, Dict, Tuple, Optional, Union\n",
        "from torch.utils.data import Dataset\n",
        "from sklearn.metrics import classification_report\n",
        "import numpy as np\n",
        "import pandas as pd\n",
        "import time\n",
        "from tqdm import tqdm\n",
        "\n",
        "from collections import Counter"
      ],
      "execution_count": 19,
      "outputs": []
    },
    {
      "cell_type": "code",
      "metadata": {
        "colab": {
          "base_uri": "https://localhost:8080/",
          "height": 421
        },
        "id": "b2JqI7fC82P-",
        "outputId": "06300118-806d-42a2-c3ce-0410999adb07"
      },
      "source": [
        "import pandas as pd\n",
        "\n",
        "\n",
        "max_lens = list()\n",
        "for row in dataset_base['train']:\n",
        "    max_lens.append(len(row['tokens']))\n",
        "max_lens = pd.Series(max_lens)\n",
        "max_lens.plot();\n",
        "max_lens.describe()"
      ],
      "execution_count": 20,
      "outputs": [
        {
          "output_type": "execute_result",
          "data": {
            "text/plain": [
              "count    14041.000000\n",
              "mean        14.501887\n",
              "std         11.602756\n",
              "min          1.000000\n",
              "25%          6.000000\n",
              "50%         10.000000\n",
              "75%         22.000000\n",
              "max        113.000000\n",
              "dtype: float64"
            ]
          },
          "metadata": {},
          "execution_count": 20
        },
        {
          "output_type": "display_data",
          "data": {
            "image/png": "[encoded data removed]",
            "text/plain": [
              "<Figure size 432x288 with 1 Axes>"
            ]
          },
          "metadata": {
            "needs_background": "light"
          }
        }
      ]
    },
    {
      "cell_type": "code",
      "metadata": {
        "id": "iZU2rS_4NazR"
      },
      "source": [
        "def get_word_to_idx(count: List[Tuple[str, int]],\n",
        "                   min_words: Union[int, float] = 0.0,\n",
        "                   max_words: Union[int, float] = 1.0) -> Dict[str, int]:\n",
        "    max_count = count[0][1]\n",
        "    if isinstance(min_words, float):\n",
        "        min_words = max_count * min_words\n",
        "    if isinstance(max_words, float):\n",
        "        max_words = max_count * max_words\n",
        "        \n",
        "    all_words = [w[0] for w in count if max_words >= w[1] >= min_words]\n",
        "    \n",
        "    all_words = ['<pad>', '<unk>'] + all_words\n",
        "    \n",
        "    word_to_idx = {k: v for k, v in zip(all_words, range(0, len(all_words)))}\n",
        "    return word_to_idx"
      ],
      "execution_count": 21,
      "outputs": []
    },
    {
      "cell_type": "code",
      "metadata": {
        "colab": {
          "base_uri": "https://localhost:8080/"
        },
        "id": "8erRNdHW7mhy",
        "outputId": "4321e2ab-85f5-49b5-a435-fd12549e2f14"
      },
      "source": [
        "count = Counter([i for j in dataset_base['train'] for i in j['tokens']])\n",
        "word_to_idx = get_word_to_idx(count.most_common(), min_words=1)\n",
        "len(word_to_idx)"
      ],
      "execution_count": 22,
      "outputs": [
        {
          "output_type": "execute_result",
          "data": {
            "text/plain": [
              "23625"
            ]
          },
          "metadata": {},
          "execution_count": 22
        }
      ]
    },
    {
      "cell_type": "code",
      "metadata": {
        "id": "b5ZL84Z8c6FF"
      },
      "source": [
        "def create_matrix_of_texts(dataset, max_sequence_length, \n",
        "                           pad_token, word2index):\n",
        "    texts = np.full((len(dataset), max_sequence_length),\n",
        "                    word2index[pad_token], dtype=np.int64)  # creating empty matrix\n",
        "\n",
        "    for ind, row in enumerate(dataset):\n",
        "          trim_length = min(max_sequence_length, len(row['tokens']))\n",
        "          text = row['tokens'][: trim_length]\n",
        "          texts[ind, : trim_length] = [word2index[item] for item in text]\n",
        "    return texts\n",
        "\n",
        "\n",
        "def create_matrix_of_tags(dataset, max_sequence_length, pad_index):\n",
        "    tags = np.full((len(dataset), max_sequence_length),\n",
        "                    pad_index, dtype=np.int64)  # creating empty matrix\n",
        "\n",
        "    for ind, row in enumerate(dataset):\n",
        "          trim_length = min(max_sequence_length, len(row['ner_tags']))\n",
        "          labels = row['ner_tags'][: trim_length]\n",
        "          tags[ind, : trim_length] = [item for item in labels]\n",
        "    return tags"
      ],
      "execution_count": 23,
      "outputs": []
    },
    {
      "cell_type": "code",
      "metadata": {
        "id": "6wBoNF8dfYlZ"
      },
      "source": [
        "texts = create_matrix_of_texts(dataset_base['train'], \n",
        "                               int(max_lens.quantile(0.97)),\n",
        "                               '<pad>', word_to_idx)\n",
        "tags = create_matrix_of_tags(dataset_base['train'],\n",
        "                             int(max_lens.quantile(0.97)), 0)"
      ],
      "execution_count": 24,
      "outputs": []
    },
    {
      "cell_type": "code",
      "metadata": {
        "id": "wLE_b_fIiiCJ"
      },
      "source": [
        "class NerDataset(Dataset):\n",
        "    def __init__(self,\n",
        "                 texts: np.array,\n",
        "                 tags: np.array):\n",
        "        self.tags = tags\n",
        "        self.texts = texts\n",
        "        \n",
        "\n",
        "    def __getitem__(self, idx: int) -> Tuple[torch.LongTensor, torch.LongTensor]:\n",
        "        tokens_tensor = torch.tensor(self.texts[idx], dtype=torch.int64)\n",
        "        return tokens_tensor, torch.tensor(self.tags[idx], dtype=torch.int64)\n",
        "\n",
        "    def __len__(self) -> int:\n",
        "        dataset_len = self.texts.shape[0]\n",
        "        return dataset_len"
      ],
      "execution_count": 25,
      "outputs": []
    },
    {
      "cell_type": "code",
      "metadata": {
        "id": "pPG8N8PQh69E"
      },
      "source": [
        "dataset = dataset_base['train']\n",
        "ner_dataset = NerDataset(texts, tags)\n",
        "assert len(ner_dataset) == 14041"
      ],
      "execution_count": 26,
      "outputs": []
    },
    {
      "cell_type": "code",
      "metadata": {
        "id": "2O27qc_zYbvk",
        "colab": {
          "base_uri": "https://localhost:8080/"
        },
        "outputId": "47c4d1fe-0924-4766-e369-c36671a26160"
      },
      "source": [
        "' '.join(dataset_base['train'][0]['tokens']), ner_dataset[0]"
      ],
      "execution_count": 27,
      "outputs": [
        {
          "output_type": "execute_result",
          "data": {
            "text/plain": [
              "('EU rejects German call to boycott British lamb .',\n",
              " (tensor([  958, 11984,   234,   763,     7,  4148,   210,  6183,     2,     0,\n",
              "              0,     0,     0,     0,     0,     0,     0,     0,     0,     0,\n",
              "              0,     0,     0,     0,     0,     0,     0,     0,     0,     0,\n",
              "              0,     0,     0,     0,     0,     0,     0,     0,     0,     0]),\n",
              "  tensor([3, 0, 7, 0, 0, 0, 7, 0, 0, 0, 0, 0, 0, 0, 0, 0, 0, 0, 0, 0, 0, 0, 0, 0,\n",
              "          0, 0, 0, 0, 0, 0, 0, 0, 0, 0, 0, 0, 0, 0, 0, 0])))"
            ]
          },
          "metadata": {},
          "execution_count": 27
        }
      ]
    },
    {
      "cell_type": "code",
      "metadata": {
        "id": "UCxj4j9amjIU"
      },
      "source": [
        "dataset = dataset_base[\"train\"]\n",
        "ner_dataset = NerDataset(texts, tags)\n",
        "tokens, labels = ner_dataset[0]\n",
        "assert isinstance(tokens, LongTensor)\n",
        "assert isinstance(labels, LongTensor)\n",
        "assert tokens.shape == labels.shape\n",
        "tokens, labels = ner_dataset[2]\n",
        "assert tokens.shape == labels.shape"
      ],
      "execution_count": 28,
      "outputs": []
    },
    {
      "cell_type": "code",
      "metadata": {
        "id": "rdxMabf1zFc_"
      },
      "source": [
        "from torch.utils.data.dataset import random_split"
      ],
      "execution_count": 29,
      "outputs": []
    },
    {
      "cell_type": "code",
      "metadata": {
        "id": "wjbUjeF5zpoo"
      },
      "source": [
        "BATCH_SIZE = 32"
      ],
      "execution_count": 30,
      "outputs": []
    },
    {
      "cell_type": "code",
      "metadata": {
        "id": "SeJxwMrGs936"
      },
      "source": [
        "num_train = int(len(ner_dataset) * 0.95)\n",
        "split_train_, split_valid_ = \\\n",
        "    random_split(ner_dataset, [num_train, len(ner_dataset) - num_train])\n",
        "\n",
        "train_dataloader = torch.utils.data.DataLoader(split_train_, batch_size=BATCH_SIZE,\n",
        "                              shuffle=True, drop_last=True)\n",
        "valid_dataloader = torch.utils.data.DataLoader(split_valid_, batch_size=BATCH_SIZE,\n",
        "                              shuffle=False)"
      ],
      "execution_count": 31,
      "outputs": []
    },
    {
      "cell_type": "code",
      "metadata": {
        "id": "trRZ_cBis9vt"
      },
      "source": [
        "class NerModel(nn.Module):\n",
        "    def __init__(\n",
        "        self,\n",
        "        word2idx: Dict,\n",
        "        embedding_dim: int = 100,\n",
        "        mapping: Dict[int, str] = None,\n",
        "        hidden_size: int = 256,\n",
        "    ):\n",
        "        super(NerModel, self).__init__()\n",
        "        if not mapping:\n",
        "            raise RuntimeError(f'Empty labels')\n",
        "        self.word2idx = word2idx\n",
        "        self.labels = mapping\n",
        "\n",
        "        self.linear_sigmoid_stack = nn.Sequential(\n",
        "            nn.Embedding(len(self.word2idx), embedding_dim),\n",
        "            nn.Sigmoid(),\n",
        "            nn.Linear(embedding_dim, hidden_size),\n",
        "            nn.Sigmoid(),\n",
        "            nn.Linear(hidden_size, len(mapping))\n",
        "        )\n",
        "\n",
        "\n",
        "    def forward(self, tokens: LongTensor) -> FloatTensor:\n",
        "\n",
        "        return self.linear_sigmoid_stack(tokens).view(-1, len(self.labels))"
      ],
      "execution_count": 32,
      "outputs": []
    },
    {
      "cell_type": "code",
      "metadata": {
        "id": "F75-TSan0zMp"
      },
      "source": [
        "model = NerModel(word_to_idx, 100, {idx: str(idx) for idx in range(10)})\n",
        "assert (\n",
        "        len(list(name for name, module in model.named_modules())) > 3\n",
        "    ), \"Not enough layers created\""
      ],
      "execution_count": 33,
      "outputs": []
    },
    {
      "cell_type": "code",
      "metadata": {
        "id": "aWdYNuWV1UFb"
      },
      "source": [
        "num_classes = 9\n",
        "model = NerModel(word_to_idx, 30, {idx: str(idx) for idx in range(num_classes)})\n",
        "seq_len = 32\n",
        "example_input = torch.randint(0, 2, (BATCH_SIZE, seq_len), dtype=torch.int64)\n",
        "logits = model(example_input)\n",
        "assert isinstance(logits, torch.FloatTensor)\n",
        "assert logits.shape == (BATCH_SIZE * seq_len, num_classes), f\"current size of model output {logits.shape}\""
      ],
      "execution_count": 34,
      "outputs": []
    },
    {
      "cell_type": "code",
      "metadata": {
        "colab": {
          "base_uri": "https://localhost:8080/"
        },
        "id": "oq_vuNOnVfiT",
        "outputId": "17d43345-9180-47ae-f203-7883556ca95a"
      },
      "source": [
        "i = iter(train_dataloader)\n",
        "text, label = next(i)\n",
        "logits = model(text)\n",
        "loss_function = nn.CrossEntropyLoss()\n",
        "loss_function(logits, label.view(-1))"
      ],
      "execution_count": 35,
      "outputs": [
        {
          "output_type": "execute_result",
          "data": {
            "text/plain": [
              "tensor(2.4550, grad_fn=<NllLossBackward>)"
            ]
          },
          "metadata": {},
          "execution_count": 35
        }
      ]
    },
    {
      "cell_type": "markdown",
      "metadata": {
        "id": "cnPKpIrm_cuM"
      },
      "source": [
        "### trainig"
      ]
    },
    {
      "cell_type": "code",
      "metadata": {
        "id": "H4sicwiwZIex"
      },
      "source": [
        "def evaluate(dataloader):\n",
        "    model.eval()\n",
        "    total_acc, total_count = 0, 0\n",
        "    correct_labels = [value for value in mapping_.values() if value != 'O']\n",
        "    predicted, true_labels = list(), list()\n",
        "\n",
        "    with torch.no_grad():\n",
        "        for idx, batch in enumerate(dataloader):\n",
        "            tokens, label = batch\n",
        "            tokens = tokens.to(device)\n",
        "            \n",
        "            logits = model(tokens)\n",
        "            predictions = F.log_softmax(logits, dim=1).reshape(-1,\n",
        "                                                               40,\n",
        "                                                               len(mapping_)).argmax(dim=2).flatten().detach().cpu().numpy()\n",
        "            predicted.extend(predictions)\n",
        "            true_labels.extend(label.flatten().detach().cpu().numpy())\n",
        "    \n",
        "    true_labels = [mapping_[val] for val in true_labels]\n",
        "    \n",
        "    predicted = [mapping_[val] for val in predicted]\n",
        "    print('\\n', classification_report(true_labels,\n",
        "                                      predicted,\n",
        "                                      labels=correct_labels))"
      ],
      "execution_count": 36,
      "outputs": []
    },
    {
      "cell_type": "code",
      "metadata": {
        "colab": {
          "base_uri": "https://localhost:8080/"
        },
        "id": "2mqfJIAqzOnC",
        "outputId": "6b47eeae-f7c9-4ce9-93f3-4933f14f3d68"
      },
      "source": [
        "model = NerModel(word_to_idx, 300, mapping_)\n",
        "optimizer = torch.optim.Adam(model.parameters(), lr=0.01)\n",
        "device = torch.device('cuda') if torch.cuda.is_available() else torch.device('cpu')\n",
        "model.to(device)"
      ],
      "execution_count": 37,
      "outputs": [
        {
          "output_type": "execute_result",
          "data": {
            "text/plain": [
              "NerModel(\n",
              "  (linear_sigmoid_stack): Sequential(\n",
              "    (0): Embedding(23625, 300)\n",
              "    (1): Sigmoid()\n",
              "    (2): Linear(in_features=300, out_features=256, bias=True)\n",
              "    (3): Sigmoid()\n",
              "    (4): Linear(in_features=256, out_features=9, bias=True)\n",
              "  )\n",
              ")"
            ]
          },
          "metadata": {},
          "execution_count": 37
        }
      ]
    },
    {
      "cell_type": "code",
      "metadata": {
        "colab": {
          "base_uri": "https://localhost:8080/"
        },
        "id": "ParaP94P1WEm",
        "outputId": "bfb9cb9e-2621-4a8a-ad9a-aebcead2befb"
      },
      "source": [
        "for e in range(10):\n",
        "    total_loss = 0\n",
        "    model.train()\n",
        "    loss_function = nn.CrossEntropyLoss()\n",
        "    for sent in tqdm(train_dataloader):\n",
        "\n",
        "            # (1) Set gradient to zero for new example: Set gradients to zero before pass\n",
        "            model.zero_grad()\n",
        "            \n",
        "            # (2) Encode sentence and tag sequence as sequences of indices\n",
        "            input_sent, gold_tags = sent\n",
        "\n",
        "            # (3) Predict tags (sentence by sentence)\n",
        "            if len(input_sent) > 0:\n",
        "                pred_scores = model(input_sent.to(device))\n",
        "                mask = gold_tags != 0\n",
        "                # (4) Compute loss and do backward step\n",
        "                loss = loss_function(pred_scores.to(device), gold_tags.view(-1).to(device))\n",
        "                loss.backward()\n",
        "              \n",
        "                # (5) Optimize parameter values\n",
        "                optimizer.step()\n",
        "          \n",
        "                # (6) Accumulate loss\n",
        "                total_loss += loss\n",
        "    print('\\nEpoch: %d, loss: %.4f' % (e, total_loss / len(train_dataloader)))\n",
        "    evaluate(valid_dataloader)"
      ],
      "execution_count": 38,
      "outputs": [
        {
          "output_type": "stream",
          "name": "stderr",
          "text": [
            "100%|██████████| 416/416 [00:02<00:00, 147.51it/s]\n",
            "/usr/local/lib/python3.7/dist-packages/sklearn/metrics/_classification.py:1272: UndefinedMetricWarning: Precision and F-score are ill-defined and being set to 0.0 in labels with no predicted samples. Use `zero_division` parameter to control this behavior.\n",
            "  _warn_prf(average, modifier, msg_start, len(result))\n"
          ]
        },
        {
          "output_type": "stream",
          "name": "stdout",
          "text": [
            "\n",
            "Epoch: 0, loss: 0.2168\n",
            "\n",
            "               precision    recall  f1-score   support\n",
            "\n",
            "       B-PER       0.38      0.70      0.50       352\n",
            "       I-PER       0.00      0.00      0.00       250\n",
            "       B-ORG       0.00      0.00      0.00       317\n",
            "       I-ORG       0.00      0.00      0.00       187\n",
            "       B-LOC       0.47      0.81      0.60       387\n",
            "       I-LOC       0.00      0.00      0.00        57\n",
            "      B-MISC       0.00      0.00      0.00       176\n",
            "      I-MISC       0.00      0.00      0.00        49\n",
            "\n",
            "   micro avg       0.43      0.32      0.36      1775\n",
            "   macro avg       0.11      0.19      0.14      1775\n",
            "weighted avg       0.18      0.32      0.23      1775\n",
            "\n"
          ]
        },
        {
          "output_type": "stream",
          "name": "stderr",
          "text": [
            "100%|██████████| 416/416 [00:02<00:00, 163.57it/s]\n"
          ]
        },
        {
          "output_type": "stream",
          "name": "stdout",
          "text": [
            "\n",
            "Epoch: 1, loss: 0.1069\n",
            "\n",
            "               precision    recall  f1-score   support\n",
            "\n",
            "       B-PER       0.61      0.80      0.69       352\n",
            "       I-PER       0.51      0.18      0.27       250\n",
            "       B-ORG       0.69      0.70      0.69       317\n",
            "       I-ORG       0.48      0.41      0.44       187\n",
            "       B-LOC       0.87      0.76      0.81       387\n",
            "       I-LOC       0.00      0.00      0.00        57\n",
            "      B-MISC       0.75      0.68      0.71       176\n",
            "      I-MISC       0.00      0.00      0.00        49\n",
            "\n",
            "   micro avg       0.68      0.58      0.63      1775\n",
            "   macro avg       0.49      0.44      0.45      1775\n",
            "weighted avg       0.63      0.58      0.59      1775\n",
            "\n"
          ]
        },
        {
          "output_type": "stream",
          "name": "stderr",
          "text": [
            "100%|██████████| 416/416 [00:02<00:00, 163.04it/s]\n"
          ]
        },
        {
          "output_type": "stream",
          "name": "stdout",
          "text": [
            "\n",
            "Epoch: 2, loss: 0.0680\n",
            "\n",
            "               precision    recall  f1-score   support\n",
            "\n",
            "       B-PER       0.64      0.81      0.71       352\n",
            "       I-PER       0.31      0.40      0.35       250\n",
            "       B-ORG       0.74      0.78      0.76       317\n",
            "       I-ORG       0.38      0.61      0.47       187\n",
            "       B-LOC       0.88      0.79      0.83       387\n",
            "       I-LOC       0.00      0.00      0.00        57\n",
            "      B-MISC       0.83      0.74      0.78       176\n",
            "      I-MISC       1.00      0.08      0.15        49\n",
            "\n",
            "   micro avg       0.62      0.67      0.64      1775\n",
            "   macro avg       0.60      0.53      0.51      1775\n",
            "weighted avg       0.65      0.67      0.64      1775\n",
            "\n"
          ]
        },
        {
          "output_type": "stream",
          "name": "stderr",
          "text": [
            "100%|██████████| 416/416 [00:02<00:00, 163.46it/s]\n"
          ]
        },
        {
          "output_type": "stream",
          "name": "stdout",
          "text": [
            "\n",
            "Epoch: 3, loss: 0.0490\n",
            "\n",
            "               precision    recall  f1-score   support\n",
            "\n",
            "       B-PER       0.75      0.74      0.74       352\n",
            "       I-PER       0.27      0.67      0.39       250\n",
            "       B-ORG       0.84      0.75      0.79       317\n",
            "       I-ORG       0.47      0.55      0.50       187\n",
            "       B-LOC       0.88      0.83      0.86       387\n",
            "       I-LOC       0.73      0.72      0.73        57\n",
            "      B-MISC       0.86      0.77      0.81       176\n",
            "      I-MISC       0.71      0.49      0.58        49\n",
            "\n",
            "   micro avg       0.62      0.73      0.67      1775\n",
            "   macro avg       0.69      0.69      0.68      1775\n",
            "weighted avg       0.71      0.73      0.70      1775\n",
            "\n"
          ]
        },
        {
          "output_type": "stream",
          "name": "stderr",
          "text": [
            "100%|██████████| 416/416 [00:02<00:00, 162.44it/s]\n"
          ]
        },
        {
          "output_type": "stream",
          "name": "stdout",
          "text": [
            "\n",
            "Epoch: 4, loss: 0.0402\n",
            "\n",
            "               precision    recall  f1-score   support\n",
            "\n",
            "       B-PER       0.72      0.76      0.74       352\n",
            "       I-PER       0.27      0.64      0.38       250\n",
            "       B-ORG       0.83      0.74      0.78       317\n",
            "       I-ORG       0.51      0.57      0.54       187\n",
            "       B-LOC       0.86      0.85      0.86       387\n",
            "       I-LOC       0.78      0.67      0.72        57\n",
            "      B-MISC       0.86      0.74      0.80       176\n",
            "      I-MISC       0.68      0.61      0.65        49\n",
            "\n",
            "   micro avg       0.62      0.73      0.67      1775\n",
            "   macro avg       0.69      0.70      0.68      1775\n",
            "weighted avg       0.70      0.73      0.70      1775\n",
            "\n"
          ]
        },
        {
          "output_type": "stream",
          "name": "stderr",
          "text": [
            "100%|██████████| 416/416 [00:02<00:00, 162.26it/s]\n"
          ]
        },
        {
          "output_type": "stream",
          "name": "stdout",
          "text": [
            "\n",
            "Epoch: 5, loss: 0.0368\n",
            "\n",
            "               precision    recall  f1-score   support\n",
            "\n",
            "       B-PER       0.80      0.69      0.74       352\n",
            "       I-PER       0.26      0.74      0.38       250\n",
            "       B-ORG       0.86      0.69      0.77       317\n",
            "       I-ORG       0.65      0.47      0.54       187\n",
            "       B-LOC       0.84      0.88      0.86       387\n",
            "       I-LOC       0.65      0.79      0.71        57\n",
            "      B-MISC       0.83      0.78      0.80       176\n",
            "      I-MISC       0.67      0.63      0.65        49\n",
            "\n",
            "   micro avg       0.61      0.73      0.66      1775\n",
            "   macro avg       0.69      0.71      0.68      1775\n",
            "weighted avg       0.72      0.73      0.70      1775\n",
            "\n"
          ]
        },
        {
          "output_type": "stream",
          "name": "stderr",
          "text": [
            "100%|██████████| 416/416 [00:02<00:00, 160.34it/s]\n"
          ]
        },
        {
          "output_type": "stream",
          "name": "stdout",
          "text": [
            "\n",
            "Epoch: 6, loss: 0.0345\n",
            "\n",
            "               precision    recall  f1-score   support\n",
            "\n",
            "       B-PER       0.71      0.79      0.75       352\n",
            "       I-PER       0.29      0.59      0.39       250\n",
            "       B-ORG       0.84      0.69      0.76       317\n",
            "       I-ORG       0.71      0.45      0.56       187\n",
            "       B-LOC       0.83      0.89      0.86       387\n",
            "       I-LOC       0.75      0.68      0.72        57\n",
            "      B-MISC       0.84      0.77      0.80       176\n",
            "      I-MISC       0.65      0.65      0.65        49\n",
            "\n",
            "   micro avg       0.65      0.72      0.68      1775\n",
            "   macro avg       0.70      0.69      0.68      1775\n",
            "weighted avg       0.71      0.72      0.70      1775\n",
            "\n"
          ]
        },
        {
          "output_type": "stream",
          "name": "stderr",
          "text": [
            "100%|██████████| 416/416 [00:02<00:00, 162.53it/s]\n"
          ]
        },
        {
          "output_type": "stream",
          "name": "stdout",
          "text": [
            "\n",
            "Epoch: 7, loss: 0.0331\n",
            "\n",
            "               precision    recall  f1-score   support\n",
            "\n",
            "       B-PER       0.80      0.70      0.74       352\n",
            "       I-PER       0.32      0.59      0.42       250\n",
            "       B-ORG       0.85      0.72      0.78       317\n",
            "       I-ORG       0.46      0.52      0.49       187\n",
            "       B-LOC       0.86      0.86      0.86       387\n",
            "       I-LOC       0.59      0.91      0.72        57\n",
            "      B-MISC       0.83      0.76      0.79       176\n",
            "      I-MISC       0.46      0.67      0.55        49\n",
            "\n",
            "   micro avg       0.65      0.71      0.68      1775\n",
            "   macro avg       0.65      0.72      0.67      1775\n",
            "weighted avg       0.71      0.71      0.70      1775\n",
            "\n"
          ]
        },
        {
          "output_type": "stream",
          "name": "stderr",
          "text": [
            "100%|██████████| 416/416 [00:02<00:00, 161.33it/s]\n"
          ]
        },
        {
          "output_type": "stream",
          "name": "stdout",
          "text": [
            "\n",
            "Epoch: 8, loss: 0.0324\n",
            "\n",
            "               precision    recall  f1-score   support\n",
            "\n",
            "       B-PER       0.77      0.76      0.76       352\n",
            "       I-PER       0.31      0.59      0.41       250\n",
            "       B-ORG       0.75      0.76      0.76       317\n",
            "       I-ORG       0.69      0.45      0.54       187\n",
            "       B-LOC       0.88      0.84      0.86       387\n",
            "       I-LOC       0.75      0.75      0.75        57\n",
            "      B-MISC       0.87      0.74      0.80       176\n",
            "      I-MISC       0.84      0.53      0.65        49\n",
            "\n",
            "   micro avg       0.67      0.71      0.69      1775\n",
            "   macro avg       0.73      0.68      0.69      1775\n",
            "weighted avg       0.73      0.71      0.71      1775\n",
            "\n"
          ]
        },
        {
          "output_type": "stream",
          "name": "stderr",
          "text": [
            "100%|██████████| 416/416 [00:02<00:00, 162.84it/s]\n"
          ]
        },
        {
          "output_type": "stream",
          "name": "stdout",
          "text": [
            "\n",
            "Epoch: 9, loss: 0.0317\n",
            "\n",
            "               precision    recall  f1-score   support\n",
            "\n",
            "       B-PER       0.63      0.82      0.71       352\n",
            "       I-PER       0.40      0.48      0.44       250\n",
            "       B-ORG       0.64      0.76      0.69       317\n",
            "       I-ORG       0.63      0.55      0.58       187\n",
            "       B-LOC       0.87      0.84      0.85       387\n",
            "       I-LOC       0.84      0.56      0.67        57\n",
            "      B-MISC       0.84      0.78      0.81       176\n",
            "      I-MISC       0.74      0.57      0.64        49\n",
            "\n",
            "   micro avg       0.67      0.72      0.69      1775\n",
            "   macro avg       0.70      0.67      0.68      1775\n",
            "weighted avg       0.68      0.72      0.69      1775\n",
            "\n"
          ]
        }
      ]
    },
    {
      "cell_type": "code",
      "metadata": {
        "id": "DWxfp4pffF_O"
      },
      "source": [
        "pytorch_total_parameters = sum([p.numel() for p in model.parameters() if p.requires_grad])"
      ],
      "execution_count": 39,
      "outputs": []
    },
    {
      "cell_type": "code",
      "metadata": {
        "id": "QhylBL963OBI",
        "outputId": "713acb61-9639-46c4-ae12-1e1d123f34ea",
        "colab": {
          "base_uri": "https://localhost:8080/"
        }
      },
      "source": [
        "pytorch_total_parameters"
      ],
      "execution_count": 40,
      "outputs": [
        {
          "output_type": "execute_result",
          "data": {
            "text/plain": [
              "7166869"
            ]
          },
          "metadata": {},
          "execution_count": 40
        }
      ]
    },
    {
      "cell_type": "code",
      "metadata": {
        "id": "PgSHP08M3QBE"
      },
      "source": [
        ""
      ],
      "execution_count": null,
      "outputs": []
    }
  ]
}