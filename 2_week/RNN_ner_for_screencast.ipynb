{
  "nbformat": 4,
  "nbformat_minor": 0,
  "metadata": {
    "colab": {
      "name": "RNN_ner_for_screencast.ipynb",
      "provenance": [],
      "collapsed_sections": [
        "AqP86jc610L0"
      ],
      "include_colab_link": true
    },
    "kernelspec": {
      "name": "python3",
      "display_name": "Python 3"
    },
    "language_info": {
      "name": "python"
    },
    "accelerator": "GPU",
    "widgets": {
      "application/vnd.jupyter.widget-state+json": {
        "10ca698b5fed487a940787be4be1fdbe": {
          "model_module": "@jupyter-widgets/controls",
          "model_name": "HBoxModel",
          "model_module_version": "1.5.0",
          "state": {
            "_view_name": "HBoxView",
            "_dom_classes": [],
            "_model_name": "HBoxModel",
            "_view_module": "@jupyter-widgets/controls",
            "_model_module_version": "1.5.0",
            "_view_count": null,
            "_view_module_version": "1.5.0",
            "box_style": "",
            "layout": "IPY_MODEL_abf58382f21544369dca8b6c309a47ce",
            "_model_module": "@jupyter-widgets/controls",
            "children": [
              "IPY_MODEL_64cfb9667c1841c2b6fe0725cded834d",
              "IPY_MODEL_9ad5c170bb2a4188b8d19fd555147cb3",
              "IPY_MODEL_e7801ec080ef4eeb9377add7506ccfff"
            ]
          }
        },
        "abf58382f21544369dca8b6c309a47ce": {
          "model_module": "@jupyter-widgets/base",
          "model_name": "LayoutModel",
          "model_module_version": "1.2.0",
          "state": {
            "_view_name": "LayoutView",
            "grid_template_rows": null,
            "right": null,
            "justify_content": null,
            "_view_module": "@jupyter-widgets/base",
            "overflow": null,
            "_model_module_version": "1.2.0",
            "_view_count": null,
            "flex_flow": null,
            "width": null,
            "min_width": null,
            "border": null,
            "align_items": null,
            "bottom": null,
            "_model_module": "@jupyter-widgets/base",
            "top": null,
            "grid_column": null,
            "overflow_y": null,
            "overflow_x": null,
            "grid_auto_flow": null,
            "grid_area": null,
            "grid_template_columns": null,
            "flex": null,
            "_model_name": "LayoutModel",
            "justify_items": null,
            "grid_row": null,
            "max_height": null,
            "align_content": null,
            "visibility": null,
            "align_self": null,
            "height": null,
            "min_height": null,
            "padding": null,
            "grid_auto_rows": null,
            "grid_gap": null,
            "max_width": null,
            "order": null,
            "_view_module_version": "1.2.0",
            "grid_template_areas": null,
            "object_position": null,
            "object_fit": null,
            "grid_auto_columns": null,
            "margin": null,
            "display": null,
            "left": null
          }
        },
        "64cfb9667c1841c2b6fe0725cded834d": {
          "model_module": "@jupyter-widgets/controls",
          "model_name": "HTMLModel",
          "model_module_version": "1.5.0",
          "state": {
            "_view_name": "HTMLView",
            "style": "IPY_MODEL_92df696925d2456bb5961958116e1577",
            "_dom_classes": [],
            "description": "",
            "_model_name": "HTMLModel",
            "placeholder": "​",
            "_view_module": "@jupyter-widgets/controls",
            "_model_module_version": "1.5.0",
            "value": "Downloading: ",
            "_view_count": null,
            "_view_module_version": "1.5.0",
            "description_tooltip": null,
            "_model_module": "@jupyter-widgets/controls",
            "layout": "IPY_MODEL_f9c35d31c2d24de7b3a325985e247479"
          }
        },
        "9ad5c170bb2a4188b8d19fd555147cb3": {
          "model_module": "@jupyter-widgets/controls",
          "model_name": "FloatProgressModel",
          "model_module_version": "1.5.0",
          "state": {
            "_view_name": "ProgressView",
            "style": "IPY_MODEL_1c90c4fb93bc472d9f05ea48e49f8551",
            "_dom_classes": [],
            "description": "",
            "_model_name": "FloatProgressModel",
            "bar_style": "success",
            "max": 2603,
            "_view_module": "@jupyter-widgets/controls",
            "_model_module_version": "1.5.0",
            "value": 2603,
            "_view_count": null,
            "_view_module_version": "1.5.0",
            "orientation": "horizontal",
            "min": 0,
            "description_tooltip": null,
            "_model_module": "@jupyter-widgets/controls",
            "layout": "IPY_MODEL_b2b2007268ea450189e4039419c90968"
          }
        },
        "e7801ec080ef4eeb9377add7506ccfff": {
          "model_module": "@jupyter-widgets/controls",
          "model_name": "HTMLModel",
          "model_module_version": "1.5.0",
          "state": {
            "_view_name": "HTMLView",
            "style": "IPY_MODEL_05f9295765f84780ad67d266bf376501",
            "_dom_classes": [],
            "description": "",
            "_model_name": "HTMLModel",
            "placeholder": "​",
            "_view_module": "@jupyter-widgets/controls",
            "_model_module_version": "1.5.0",
            "value": " 9.52k/? [00:00&lt;00:00, 163kB/s]",
            "_view_count": null,
            "_view_module_version": "1.5.0",
            "description_tooltip": null,
            "_model_module": "@jupyter-widgets/controls",
            "layout": "IPY_MODEL_d7427b701e4f4e23b4e787fb71825698"
          }
        },
        "92df696925d2456bb5961958116e1577": {
          "model_module": "@jupyter-widgets/controls",
          "model_name": "DescriptionStyleModel",
          "model_module_version": "1.5.0",
          "state": {
            "_view_name": "StyleView",
            "_model_name": "DescriptionStyleModel",
            "description_width": "",
            "_view_module": "@jupyter-widgets/base",
            "_model_module_version": "1.5.0",
            "_view_count": null,
            "_view_module_version": "1.2.0",
            "_model_module": "@jupyter-widgets/controls"
          }
        },
        "f9c35d31c2d24de7b3a325985e247479": {
          "model_module": "@jupyter-widgets/base",
          "model_name": "LayoutModel",
          "model_module_version": "1.2.0",
          "state": {
            "_view_name": "LayoutView",
            "grid_template_rows": null,
            "right": null,
            "justify_content": null,
            "_view_module": "@jupyter-widgets/base",
            "overflow": null,
            "_model_module_version": "1.2.0",
            "_view_count": null,
            "flex_flow": null,
            "width": null,
            "min_width": null,
            "border": null,
            "align_items": null,
            "bottom": null,
            "_model_module": "@jupyter-widgets/base",
            "top": null,
            "grid_column": null,
            "overflow_y": null,
            "overflow_x": null,
            "grid_auto_flow": null,
            "grid_area": null,
            "grid_template_columns": null,
            "flex": null,
            "_model_name": "LayoutModel",
            "justify_items": null,
            "grid_row": null,
            "max_height": null,
            "align_content": null,
            "visibility": null,
            "align_self": null,
            "height": null,
            "min_height": null,
            "padding": null,
            "grid_auto_rows": null,
            "grid_gap": null,
            "max_width": null,
            "order": null,
            "_view_module_version": "1.2.0",
            "grid_template_areas": null,
            "object_position": null,
            "object_fit": null,
            "grid_auto_columns": null,
            "margin": null,
            "display": null,
            "left": null
          }
        },
        "1c90c4fb93bc472d9f05ea48e49f8551": {
          "model_module": "@jupyter-widgets/controls",
          "model_name": "ProgressStyleModel",
          "model_module_version": "1.5.0",
          "state": {
            "_view_name": "StyleView",
            "_model_name": "ProgressStyleModel",
            "description_width": "",
            "_view_module": "@jupyter-widgets/base",
            "_model_module_version": "1.5.0",
            "_view_count": null,
            "_view_module_version": "1.2.0",
            "bar_color": null,
            "_model_module": "@jupyter-widgets/controls"
          }
        },
        "b2b2007268ea450189e4039419c90968": {
          "model_module": "@jupyter-widgets/base",
          "model_name": "LayoutModel",
          "model_module_version": "1.2.0",
          "state": {
            "_view_name": "LayoutView",
            "grid_template_rows": null,
            "right": null,
            "justify_content": null,
            "_view_module": "@jupyter-widgets/base",
            "overflow": null,
            "_model_module_version": "1.2.0",
            "_view_count": null,
            "flex_flow": null,
            "width": null,
            "min_width": null,
            "border": null,
            "align_items": null,
            "bottom": null,
            "_model_module": "@jupyter-widgets/base",
            "top": null,
            "grid_column": null,
            "overflow_y": null,
            "overflow_x": null,
            "grid_auto_flow": null,
            "grid_area": null,
            "grid_template_columns": null,
            "flex": null,
            "_model_name": "LayoutModel",
            "justify_items": null,
            "grid_row": null,
            "max_height": null,
            "align_content": null,
            "visibility": null,
            "align_self": null,
            "height": null,
            "min_height": null,
            "padding": null,
            "grid_auto_rows": null,
            "grid_gap": null,
            "max_width": null,
            "order": null,
            "_view_module_version": "1.2.0",
            "grid_template_areas": null,
            "object_position": null,
            "object_fit": null,
            "grid_auto_columns": null,
            "margin": null,
            "display": null,
            "left": null
          }
        },
        "05f9295765f84780ad67d266bf376501": {
          "model_module": "@jupyter-widgets/controls",
          "model_name": "DescriptionStyleModel",
          "model_module_version": "1.5.0",
          "state": {
            "_view_name": "StyleView",
            "_model_name": "DescriptionStyleModel",
            "description_width": "",
            "_view_module": "@jupyter-widgets/base",
            "_model_module_version": "1.5.0",
            "_view_count": null,
            "_view_module_version": "1.2.0",
            "_model_module": "@jupyter-widgets/controls"
          }
        },
        "d7427b701e4f4e23b4e787fb71825698": {
          "model_module": "@jupyter-widgets/base",
          "model_name": "LayoutModel",
          "model_module_version": "1.2.0",
          "state": {
            "_view_name": "LayoutView",
            "grid_template_rows": null,
            "right": null,
            "justify_content": null,
            "_view_module": "@jupyter-widgets/base",
            "overflow": null,
            "_model_module_version": "1.2.0",
            "_view_count": null,
            "flex_flow": null,
            "width": null,
            "min_width": null,
            "border": null,
            "align_items": null,
            "bottom": null,
            "_model_module": "@jupyter-widgets/base",
            "top": null,
            "grid_column": null,
            "overflow_y": null,
            "overflow_x": null,
            "grid_auto_flow": null,
            "grid_area": null,
            "grid_template_columns": null,
            "flex": null,
            "_model_name": "LayoutModel",
            "justify_items": null,
            "grid_row": null,
            "max_height": null,
            "align_content": null,
            "visibility": null,
            "align_self": null,
            "height": null,
            "min_height": null,
            "padding": null,
            "grid_auto_rows": null,
            "grid_gap": null,
            "max_width": null,
            "order": null,
            "_view_module_version": "1.2.0",
            "grid_template_areas": null,
            "object_position": null,
            "object_fit": null,
            "grid_auto_columns": null,
            "margin": null,
            "display": null,
            "left": null
          }
        }
      }
    }
  },
  "cells": [
    {
      "cell_type": "markdown",
      "metadata": {
        "id": "view-in-github",
        "colab_type": "text"
      },
      "source": [
        "<a href=\"https://colab.research.google.com/github/wizard339/NLP_MISIS/blob/main/2_week/RNN_ner_for_screencast.ipynb\" target=\"_parent\"><img src=\"https://colab.research.google.com/assets/colab-badge.svg\" alt=\"Open In Colab\"/></a>"
      ]
    },
    {
      "cell_type": "code",
      "metadata": {
        "id": "Vd-IotO4I0tk"
      },
      "source": [
        "!pip install datasets > /dev/null"
      ],
      "execution_count": 1,
      "outputs": []
    },
    {
      "cell_type": "code",
      "metadata": {
        "id": "DJ3hL-f9I0l9"
      },
      "source": [
        "import pytest\n",
        "from datasets import load_dataset\n",
        "import torch\n",
        "import torch.nn as nn\n",
        "from torch import LongTensor, FloatTensor\n",
        "from torch.nn import functional as F\n",
        "from typing import List, Dict, Tuple, Optional, Union\n",
        "from torch.utils.data import Dataset\n",
        "from torch.optim import Adam\n",
        "import time\n",
        "from tqdm import tqdm\n",
        "\n",
        "from collections import Counter"
      ],
      "execution_count": 2,
      "outputs": []
    },
    {
      "cell_type": "code",
      "metadata": {
        "id": "TDZ1Piz4I0XU",
        "colab": {
          "base_uri": "https://localhost:8080/",
          "height": 328,
          "referenced_widgets": [
            "10ca698b5fed487a940787be4be1fdbe",
            "abf58382f21544369dca8b6c309a47ce",
            "64cfb9667c1841c2b6fe0725cded834d",
            "9ad5c170bb2a4188b8d19fd555147cb3",
            "e7801ec080ef4eeb9377add7506ccfff",
            "92df696925d2456bb5961958116e1577",
            "f9c35d31c2d24de7b3a325985e247479",
            "1c90c4fb93bc472d9f05ea48e49f8551",
            "b2b2007268ea450189e4039419c90968",
            "05f9295765f84780ad67d266bf376501",
            "d7427b701e4f4e23b4e787fb71825698"
          ]
        },
        "outputId": "b56fd321-6b74-4073-ff69-53da5067e985"
      },
      "source": [
        "dataset_base = load_dataset(\"conll2003\")"
      ],
      "execution_count": 3,
      "outputs": [
        {
          "output_type": "display_data",
          "data": {
            "application/vnd.jupyter.widget-view+json": {
              "model_id": "10ca698b5fed487a940787be4be1fdbe",
              "version_minor": 0,
              "version_major": 2
            },
            "text/plain": [
              "Downloading:   0%|          | 0.00/2.60k [00:00<?, ?B/s]"
            ]
          },
          "metadata": {}
        },
        {
          "output_type": "display_data",
          "data": {
            "application/vnd.jupyter.widget-view+json": {
              "model_id": "043bf49eb6aa49ffaaf79aa2b4cbcd88",
              "version_minor": 0,
              "version_major": 2
            },
            "text/plain": [
              "Downloading:   0%|          | 0.00/1.78k [00:00<?, ?B/s]"
            ]
          },
          "metadata": {}
        },
        {
          "output_type": "stream",
          "name": "stdout",
          "text": [
            "Downloading and preparing dataset conll2003/conll2003 (download: 4.63 MiB, generated: 9.78 MiB, post-processed: Unknown size, total: 14.41 MiB) to /root/.cache/huggingface/datasets/conll2003/conll2003/1.0.0/40e7cb6bcc374f7c349c83acd1e9352a4f09474eb691f64f364ee62eb65d0ca6...\n"
          ]
        },
        {
          "output_type": "display_data",
          "data": {
            "application/vnd.jupyter.widget-view+json": {
              "model_id": "9d4f0ea8b2cc4f3b90ffecee40cc9600",
              "version_minor": 0,
              "version_major": 2
            },
            "text/plain": [
              "  0%|          | 0/3 [00:00<?, ?it/s]"
            ]
          },
          "metadata": {}
        },
        {
          "output_type": "display_data",
          "data": {
            "application/vnd.jupyter.widget-view+json": {
              "model_id": "8060773d9d66410fa839c5e6366c9051",
              "version_minor": 0,
              "version_major": 2
            },
            "text/plain": [
              "Downloading:   0%|          | 0.00/650k [00:00<?, ?B/s]"
            ]
          },
          "metadata": {}
        },
        {
          "output_type": "display_data",
          "data": {
            "application/vnd.jupyter.widget-view+json": {
              "model_id": "d7406316066e4e0e9a299535c09ab5ea",
              "version_minor": 0,
              "version_major": 2
            },
            "text/plain": [
              "Downloading:   0%|          | 0.00/163k [00:00<?, ?B/s]"
            ]
          },
          "metadata": {}
        },
        {
          "output_type": "display_data",
          "data": {
            "application/vnd.jupyter.widget-view+json": {
              "model_id": "52ec22645b844ad2ac9f2d961ad186de",
              "version_minor": 0,
              "version_major": 2
            },
            "text/plain": [
              "Downloading:   0%|          | 0.00/146k [00:00<?, ?B/s]"
            ]
          },
          "metadata": {}
        },
        {
          "output_type": "display_data",
          "data": {
            "application/vnd.jupyter.widget-view+json": {
              "model_id": "51e07eba6da34ef9857b5acee997c642",
              "version_minor": 0,
              "version_major": 2
            },
            "text/plain": [
              "  0%|          | 0/3 [00:00<?, ?it/s]"
            ]
          },
          "metadata": {}
        },
        {
          "output_type": "display_data",
          "data": {
            "application/vnd.jupyter.widget-view+json": {
              "model_id": "0875210b063443248812505a64749b6d",
              "version_minor": 0,
              "version_major": 2
            },
            "text/plain": [
              "0 examples [00:00, ? examples/s]"
            ]
          },
          "metadata": {}
        },
        {
          "output_type": "display_data",
          "data": {
            "application/vnd.jupyter.widget-view+json": {
              "model_id": "34b6e26549a948f4876e9e4697d6f155",
              "version_minor": 0,
              "version_major": 2
            },
            "text/plain": [
              "0 examples [00:00, ? examples/s]"
            ]
          },
          "metadata": {}
        },
        {
          "output_type": "display_data",
          "data": {
            "application/vnd.jupyter.widget-view+json": {
              "model_id": "fd45e6429e0f4fd39bfb431eec13e929",
              "version_minor": 0,
              "version_major": 2
            },
            "text/plain": [
              "0 examples [00:00, ? examples/s]"
            ]
          },
          "metadata": {}
        },
        {
          "output_type": "stream",
          "name": "stdout",
          "text": [
            "Dataset conll2003 downloaded and prepared to /root/.cache/huggingface/datasets/conll2003/conll2003/1.0.0/40e7cb6bcc374f7c349c83acd1e9352a4f09474eb691f64f364ee62eb65d0ca6. Subsequent calls will reuse this data.\n"
          ]
        },
        {
          "output_type": "display_data",
          "data": {
            "application/vnd.jupyter.widget-view+json": {
              "model_id": "fd73352260284ab18cee5da56cb159f4",
              "version_minor": 0,
              "version_major": 2
            },
            "text/plain": [
              "  0%|          | 0/3 [00:00<?, ?it/s]"
            ]
          },
          "metadata": {}
        }
      ]
    },
    {
      "cell_type": "code",
      "metadata": {
        "colab": {
          "base_uri": "https://localhost:8080/"
        },
        "id": "aUDWw7mZI76R",
        "outputId": "317731d5-418c-4ba9-ba83-197e5f3d4666"
      },
      "source": [
        "dataset_base['train']"
      ],
      "execution_count": 4,
      "outputs": [
        {
          "output_type": "execute_result",
          "data": {
            "text/plain": [
              "Dataset({\n",
              "    features: ['id', 'tokens', 'pos_tags', 'chunk_tags', 'ner_tags'],\n",
              "    num_rows: 14041\n",
              "})"
            ]
          },
          "metadata": {},
          "execution_count": 4
        }
      ]
    },
    {
      "cell_type": "markdown",
      "metadata": {
        "id": "PEMltxDtAyAz"
      },
      "source": [
        "### RNN"
      ]
    },
    {
      "cell_type": "markdown",
      "metadata": {
        "id": "r5d47Afb8rPM"
      },
      "source": [
        "![1*xn5kA92_J5KLaKcP7BMRLA.gif](data:image/gif;base64,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)"
      ]
    },
    {
      "cell_type": "code",
      "metadata": {
        "colab": {
          "base_uri": "https://localhost:8080/",
          "height": 421
        },
        "id": "b2JqI7fC82P-",
        "outputId": "88bb669f-4d26-4203-b95d-34336ec8e50b"
      },
      "source": [
        "import pandas as pd\n",
        "import numpy as np\n",
        "\n",
        "\n",
        "max_lens = list()\n",
        "for row in dataset_base['train']:\n",
        "    max_lens.append(len(row['tokens']))\n",
        "max_lens = pd.Series(max_lens)\n",
        "max_lens.plot();\n",
        "max_lens.describe()"
      ],
      "execution_count": 5,
      "outputs": [
        {
          "output_type": "execute_result",
          "data": {
            "text/plain": [
              "count    14041.000000\n",
              "mean        14.501887\n",
              "std         11.602756\n",
              "min          1.000000\n",
              "25%          6.000000\n",
              "50%         10.000000\n",
              "75%         22.000000\n",
              "max        113.000000\n",
              "dtype: float64"
            ]
          },
          "metadata": {},
          "execution_count": 5
        },
        {
          "output_type": "display_data",
          "data": {
            "image/png": "[encoded data removed]",
            "text/plain": [
              "<Figure size 432x288 with 1 Axes>"
            ]
          },
          "metadata": {
            "needs_background": "light"
          }
        }
      ]
    },
    {
      "cell_type": "code",
      "metadata": {
        "colab": {
          "base_uri": "https://localhost:8080/"
        },
        "id": "BAgV9HGk9AdK",
        "outputId": "b9e681b9-0076-4174-c0ea-2e7f951f3c1e"
      },
      "source": [
        "import json\n",
        "mapping_ = {v: k for k, v in dataset_base[\"train\"].features[\"ner_tags\"].feature._str2int.items()}\n",
        "\n",
        "with open('mapping.json', 'w') as f:\n",
        "  json.dump(mapping_, f)\n",
        "mapping_"
      ],
      "execution_count": 6,
      "outputs": [
        {
          "output_type": "execute_result",
          "data": {
            "text/plain": [
              "{0: 'O',\n",
              " 1: 'B-PER',\n",
              " 2: 'I-PER',\n",
              " 3: 'B-ORG',\n",
              " 4: 'I-ORG',\n",
              " 5: 'B-LOC',\n",
              " 6: 'I-LOC',\n",
              " 7: 'B-MISC',\n",
              " 8: 'I-MISC'}"
            ]
          },
          "metadata": {},
          "execution_count": 6
        }
      ]
    },
    {
      "cell_type": "code",
      "metadata": {
        "id": "iZU2rS_4NazR"
      },
      "source": [
        "def get_word_to_idx(count: List[Tuple[str, int]],\n",
        "                   min_words: Union[int, float] = 0.0,\n",
        "                   max_words: Union[int, float] = 1.0) -> Dict[str, int]:\n",
        "    max_count = count[0][1]\n",
        "    if isinstance(min_words, float):\n",
        "        min_words = max_count * min_words\n",
        "    if isinstance(max_words, float):\n",
        "        max_words = max_count * max_words\n",
        "        \n",
        "    all_words = [w[0] for w in count if max_words >= w[1] >= min_words]\n",
        "    \n",
        "    all_words = ['<pad>', '<unk>'] + all_words\n",
        "    \n",
        "    word_to_idx = {k: v for k, v in zip(all_words, range(0, len(all_words)))}\n",
        "    return word_to_idx"
      ],
      "execution_count": 7,
      "outputs": []
    },
    {
      "cell_type": "code",
      "metadata": {
        "colab": {
          "base_uri": "https://localhost:8080/"
        },
        "id": "8erRNdHW7mhy",
        "outputId": "0895ef5f-7a96-45fd-8d9f-7ce2612a1f0a"
      },
      "source": [
        "count = Counter([i.lower() for j in dataset_base['train'] for i in j['tokens']])\n",
        "word_to_idx = get_word_to_idx(count.most_common(), min_words=1)\n",
        "len(word_to_idx)"
      ],
      "execution_count": 8,
      "outputs": [
        {
          "output_type": "execute_result",
          "data": {
            "text/plain": [
              "21011"
            ]
          },
          "metadata": {},
          "execution_count": 8
        }
      ]
    },
    {
      "cell_type": "code",
      "metadata": {
        "id": "NesvJxG_9oUB"
      },
      "source": [
        "def create_matrix_of_texts(dataset, max_sequence_length, \n",
        "                           pad_token, word2index):\n",
        "    texts = np.full((len(dataset), max_sequence_length),\n",
        "                    word2index[pad_token], dtype=np.int64)  # creating empty matrix\n",
        "\n",
        "    for ind, row in enumerate(dataset):\n",
        "          trim_length = min(max_sequence_length, len(row['tokens']))\n",
        "          text = row['tokens'][: trim_length]\n",
        "          texts[ind, : trim_length] = [word2index[item.lower()] for item in text]\n",
        "    return texts\n",
        "\n",
        "\n",
        "def create_matrix_of_tags(dataset, max_sequence_length, pad_index):\n",
        "    tags = np.full((len(dataset), max_sequence_length),\n",
        "                    pad_index, dtype=np.int64)  # creating empty matrix\n",
        "\n",
        "    for ind, row in enumerate(dataset):\n",
        "          trim_length = min(max_sequence_length, len(row['ner_tags']))\n",
        "          labels = row['ner_tags'][: trim_length]\n",
        "          tags[ind, : trim_length] = [item for item in labels]\n",
        "    return tags"
      ],
      "execution_count": 9,
      "outputs": []
    },
    {
      "cell_type": "code",
      "metadata": {
        "id": "ZgLxcXzm9rYT"
      },
      "source": [
        "texts = create_matrix_of_texts(dataset_base['train'], \n",
        "                               int(max_lens.quantile(0.97)),\n",
        "                               '<pad>', word_to_idx)\n",
        "tags = create_matrix_of_tags(dataset_base['train'],\n",
        "                             int(max_lens.quantile(0.97)), 0)"
      ],
      "execution_count": 10,
      "outputs": []
    },
    {
      "cell_type": "code",
      "metadata": {
        "id": "oXytRlf391rB"
      },
      "source": [
        "class NerDataset(Dataset):\n",
        "    def __init__(self,\n",
        "                 texts: np.array,\n",
        "                 tags: np.array):\n",
        "        self.tags = tags\n",
        "        self.texts = texts\n",
        "        \n",
        "\n",
        "    def __getitem__(self, idx: int) -> Tuple[torch.LongTensor, torch.LongTensor]:\n",
        "        tokens_tensor = torch.tensor(self.texts[idx], dtype=torch.int64)\n",
        "        return tokens_tensor, torch.tensor(self.tags[idx], dtype=torch.int64)\n",
        "\n",
        "    def __len__(self) -> int:\n",
        "        dataset_len = self.texts.shape[0]\n",
        "        return dataset_len"
      ],
      "execution_count": 11,
      "outputs": []
    },
    {
      "cell_type": "code",
      "metadata": {
        "id": "pPG8N8PQh69E"
      },
      "source": [
        "dataset = dataset_base['train']\n",
        "ner_dataset = NerDataset(texts, tags)\n",
        "assert len(ner_dataset) == 14041"
      ],
      "execution_count": 12,
      "outputs": []
    },
    {
      "cell_type": "code",
      "metadata": {
        "id": "2O27qc_zYbvk",
        "colab": {
          "base_uri": "https://localhost:8080/"
        },
        "outputId": "c4a10c53-4b6b-4895-fc98-821f4e7139fd"
      },
      "source": [
        "' '.join(dataset_base['train'][0]['tokens']), ner_dataset[0]"
      ],
      "execution_count": 13,
      "outputs": [
        {
          "output_type": "execute_result",
          "data": {
            "text/plain": [
              "('EU rejects German call to boycott British lamb .',\n",
              " (tensor([  989, 10951,   205,   629,     7,  3939,   216,  5774,     3,     0,\n",
              "              0,     0,     0,     0,     0,     0,     0,     0,     0,     0,\n",
              "              0,     0,     0,     0,     0,     0,     0,     0,     0,     0,\n",
              "              0,     0,     0,     0,     0,     0,     0,     0,     0,     0]),\n",
              "  tensor([3, 0, 7, 0, 0, 0, 7, 0, 0, 0, 0, 0, 0, 0, 0, 0, 0, 0, 0, 0, 0, 0, 0, 0,\n",
              "          0, 0, 0, 0, 0, 0, 0, 0, 0, 0, 0, 0, 0, 0, 0, 0])))"
            ]
          },
          "metadata": {},
          "execution_count": 13
        }
      ]
    },
    {
      "cell_type": "code",
      "metadata": {
        "id": "UCxj4j9amjIU"
      },
      "source": [
        "dataset = dataset_base[\"train\"]\n",
        "ner_dataset = NerDataset(texts, tags)\n",
        "tokens, labels = ner_dataset[0]\n",
        "assert isinstance(tokens, LongTensor)\n",
        "assert isinstance(labels, LongTensor)\n",
        "assert tokens.shape == labels.shape\n",
        "tokens, labels = ner_dataset[2]\n",
        "assert tokens.shape == labels.shape"
      ],
      "execution_count": 14,
      "outputs": []
    },
    {
      "cell_type": "code",
      "metadata": {
        "id": "rdxMabf1zFc_"
      },
      "source": [
        "from torch.utils.data.dataset import random_split"
      ],
      "execution_count": 15,
      "outputs": []
    },
    {
      "cell_type": "code",
      "metadata": {
        "id": "wjbUjeF5zpoo"
      },
      "source": [
        "BATCH_SIZE = 32"
      ],
      "execution_count": 16,
      "outputs": []
    },
    {
      "cell_type": "code",
      "metadata": {
        "id": "SeJxwMrGs936"
      },
      "source": [
        "num_train = int(len(ner_dataset) * 0.95)\n",
        "split_train_, split_valid_ = \\\n",
        "    random_split(ner_dataset, [num_train, len(ner_dataset) - num_train])\n",
        "\n",
        "train_dataloader = torch.utils.data.DataLoader(split_train_, batch_size=BATCH_SIZE,\n",
        "                              shuffle=True, drop_last=True)\n",
        "valid_dataloader = torch.utils.data.DataLoader(split_valid_, batch_size=BATCH_SIZE,\n",
        "                              shuffle=False)"
      ],
      "execution_count": 17,
      "outputs": []
    },
    {
      "cell_type": "code",
      "metadata": {
        "id": "trRZ_cBis9vt"
      },
      "source": [
        "class NerRNNModel(nn.Module):\n",
        "    def __init__(\n",
        "        self,\n",
        "        word2idx: Dict,\n",
        "        embedding_dim: int = 100,\n",
        "        mapping: Dict[int, str] = None,\n",
        "        hidden_size: int = 256\n",
        "    ):\n",
        "        super(NerRNNModel, self).__init__()\n",
        "        if not mapping:\n",
        "            raise RuntimeError(f'Empty labels')\n",
        "        self.word2idx = word2idx\n",
        "        self.labels = mapping\n",
        "        self.embedding = nn.Embedding(len(word_to_idx), embedding_dim)\n",
        "        self.encoder = nn.RNN(\n",
        "            embedding_dim,\n",
        "            hidden_size,\n",
        "            batch_first=True\n",
        "        )\n",
        "        self.projection = nn.Linear(hidden_size, len(mapping))\n",
        "\n",
        "    def forward(self, tokens: LongTensor) -> FloatTensor:\n",
        "\n",
        "        emb = self.embedding(tokens)        \n",
        "        h, _ = self.encoder(emb)\n",
        "        pred = self.projection(h)\n",
        "        return pred.view(-1, len(self.labels))"
      ],
      "execution_count": 18,
      "outputs": []
    },
    {
      "cell_type": "code",
      "metadata": {
        "id": "F75-TSan0zMp"
      },
      "source": [
        "model = NerRNNModel(word_to_idx, 100, {idx: str(idx) for idx in range(10)})\n",
        "assert (\n",
        "        len(list(name for name, module in model.named_modules())) > 3\n",
        "    ), \"Not enough layers created\""
      ],
      "execution_count": 19,
      "outputs": []
    },
    {
      "cell_type": "code",
      "metadata": {
        "id": "aWdYNuWV1UFb"
      },
      "source": [
        "num_classes = 9\n",
        "model = NerRNNModel(word_to_idx, 30, {idx: str(idx) for idx in range(num_classes)})\n",
        "seq_len = 32\n",
        "example_input = torch.randint(0, 2, (BATCH_SIZE, seq_len), dtype=torch.int64)\n",
        "logits = model(example_input)\n",
        "assert isinstance(logits, torch.FloatTensor)\n",
        "assert logits.shape == (BATCH_SIZE * seq_len, num_classes), f\"current size of model output {logits.shape}\""
      ],
      "execution_count": 20,
      "outputs": []
    },
    {
      "cell_type": "code",
      "metadata": {
        "colab": {
          "base_uri": "https://localhost:8080/"
        },
        "id": "oq_vuNOnVfiT",
        "outputId": "809bc8ec-5ac5-40bd-a01a-a0400924902c"
      },
      "source": [
        "i = iter(train_dataloader)\n",
        "text, label = next(i)\n",
        "logits = model(text)\n",
        "loss_function = nn.CrossEntropyLoss()\n",
        "loss_function(logits, label.view(-1))"
      ],
      "execution_count": 21,
      "outputs": [
        {
          "output_type": "execute_result",
          "data": {
            "text/plain": [
              "tensor(2.2589, grad_fn=<NllLossBackward>)"
            ]
          },
          "metadata": {},
          "execution_count": 21
        }
      ]
    },
    {
      "cell_type": "markdown",
      "metadata": {
        "id": "cnPKpIrm_cuM"
      },
      "source": [
        "### trainig"
      ]
    },
    {
      "cell_type": "code",
      "metadata": {
        "id": "H4sicwiwZIex"
      },
      "source": [
        "from sklearn.metrics import classification_report\n",
        "\n",
        "def evaluate(dataloader):\n",
        "    model.eval()\n",
        "    total_acc, total_count = 0, 0\n",
        "    correct_labels = [value for value in mapping_.values() if value != 'O']\n",
        "    predicted, true_labels = list(), list()\n",
        "\n",
        "    with torch.no_grad():\n",
        "        for idx, batch in enumerate(dataloader):\n",
        "            tokens, label = batch\n",
        "            tokens = tokens.to(device)\n",
        "            \n",
        "            logits = model(tokens)\n",
        "            predictions = F.log_softmax(logits, dim=1).reshape(-1,\n",
        "                                                               40,\n",
        "                                                               len(mapping_)).argmax(dim=2).flatten().detach().cpu().numpy()\n",
        "            predicted.extend(predictions)\n",
        "            true_labels.extend(label.flatten().detach().cpu().numpy())\n",
        "    \n",
        "    true_labels = [mapping_[val] for val in true_labels]\n",
        "    \n",
        "    predicted = [mapping_[val] for val in predicted]\n",
        "    print('\\n', classification_report(true_labels,\n",
        "                                      predicted,\n",
        "                                      labels=correct_labels))"
      ],
      "execution_count": 22,
      "outputs": []
    },
    {
      "cell_type": "code",
      "metadata": {
        "colab": {
          "base_uri": "https://localhost:8080/"
        },
        "id": "2mqfJIAqzOnC",
        "outputId": "3f8d186e-a529-40d3-d397-42f5160fbdc9"
      },
      "source": [
        "model = NerRNNModel(word_to_idx, 300, mapping_)\n",
        "optimizer = torch.optim.Adam(model.parameters(), lr=0.01)\n",
        "device = torch.device('cuda') if torch.cuda.is_available() else torch.device('cpu')\n",
        "model.to(device)"
      ],
      "execution_count": 23,
      "outputs": [
        {
          "output_type": "execute_result",
          "data": {
            "text/plain": [
              "NerRNNModel(\n",
              "  (embedding): Embedding(21011, 300)\n",
              "  (encoder): RNN(300, 256, batch_first=True)\n",
              "  (projection): Linear(in_features=256, out_features=9, bias=True)\n",
              ")"
            ]
          },
          "metadata": {},
          "execution_count": 23
        }
      ]
    },
    {
      "cell_type": "code",
      "metadata": {
        "colab": {
          "base_uri": "https://localhost:8080/"
        },
        "id": "NmPcYXFaDzDk",
        "outputId": "22a2ba77-b580-424c-c005-0ccdf53ad2f5"
      },
      "source": [
        "sum([params.numel() for params in model.parameters() if params.requires_grad])"
      ],
      "execution_count": 24,
      "outputs": [
        {
          "output_type": "execute_result",
          "data": {
            "text/plain": [
              "6448461"
            ]
          },
          "metadata": {},
          "execution_count": 24
        }
      ]
    },
    {
      "cell_type": "code",
      "metadata": {
        "colab": {
          "base_uri": "https://localhost:8080/"
        },
        "id": "ParaP94P1WEm",
        "outputId": "e6ea41c5-9dc3-4122-e038-4feb46268981"
      },
      "source": [
        "for e in range(6):\n",
        "    total_loss = 0\n",
        "    model.train()\n",
        "    loss_function = nn.CrossEntropyLoss()\n",
        "    for sent in tqdm(train_dataloader):\n",
        "\n",
        "            # (1) Set gradient to zero for new example: Set gradients to zero before pass\n",
        "            model.zero_grad()\n",
        "            \n",
        "            # (2) Encode sentence and tag sequence as sequences of indices\n",
        "            input_sent, gold_tags = sent\n",
        "\n",
        "            # (3) Predict tags (sentence by sentence)\n",
        "            if len(input_sent) > 0:\n",
        "                pred_scores = model(input_sent.to(device))\n",
        "                mask = gold_tags != 0\n",
        "                # (4) Compute loss and do backward step\n",
        "                loss = loss_function(pred_scores.to(device), gold_tags.view(-1).to(device))\n",
        "                loss.backward()\n",
        "              \n",
        "                # (5) Optimize parameter values\n",
        "                optimizer.step()\n",
        "          \n",
        "                # (6) Accumulate loss\n",
        "                total_loss += loss\n",
        "    print('\\nEpoch: %d, loss: %.4f' % (e, total_loss / len(train_dataloader)))\n",
        "    evaluate(valid_dataloader)"
      ],
      "execution_count": 25,
      "outputs": [
        {
          "output_type": "stream",
          "name": "stderr",
          "text": [
            "100%|██████████| 416/416 [00:04<00:00, 86.41it/s]\n"
          ]
        },
        {
          "output_type": "stream",
          "name": "stdout",
          "text": [
            "\n",
            "Epoch: 0, loss: 0.1629\n",
            "\n",
            "               precision    recall  f1-score   support\n",
            "\n",
            "       B-PER       0.66      0.81      0.73       312\n",
            "       I-PER       0.74      0.88      0.81       198\n",
            "       B-ORG       0.80      0.50      0.62       347\n",
            "       I-ORG       0.75      0.37      0.50       180\n",
            "       B-LOC       0.78      0.80      0.79       319\n",
            "       I-LOC       0.56      0.52      0.54        54\n",
            "      B-MISC       0.74      0.72      0.73       145\n",
            "      I-MISC       0.52      0.37      0.43        46\n",
            "\n",
            "   micro avg       0.73      0.67      0.70      1601\n",
            "   macro avg       0.69      0.62      0.64      1601\n",
            "weighted avg       0.73      0.67      0.69      1601\n",
            "\n"
          ]
        },
        {
          "output_type": "stream",
          "name": "stderr",
          "text": [
            "100%|██████████| 416/416 [00:04<00:00, 91.73it/s]\n"
          ]
        },
        {
          "output_type": "stream",
          "name": "stdout",
          "text": [
            "\n",
            "Epoch: 1, loss: 0.0542\n",
            "\n",
            "               precision    recall  f1-score   support\n",
            "\n",
            "       B-PER       0.76      0.87      0.81       312\n",
            "       I-PER       0.86      0.86      0.86       198\n",
            "       B-ORG       0.76      0.69      0.73       347\n",
            "       I-ORG       0.73      0.62      0.67       180\n",
            "       B-LOC       0.80      0.85      0.83       319\n",
            "       I-LOC       0.72      0.63      0.67        54\n",
            "      B-MISC       0.74      0.72      0.73       145\n",
            "      I-MISC       0.62      0.46      0.52        46\n",
            "\n",
            "   micro avg       0.77      0.77      0.77      1601\n",
            "   macro avg       0.75      0.71      0.73      1601\n",
            "weighted avg       0.77      0.77      0.77      1601\n",
            "\n"
          ]
        },
        {
          "output_type": "stream",
          "name": "stderr",
          "text": [
            "100%|██████████| 416/416 [00:04<00:00, 91.84it/s]\n"
          ]
        },
        {
          "output_type": "stream",
          "name": "stdout",
          "text": [
            "\n",
            "Epoch: 2, loss: 0.0361\n",
            "\n",
            "               precision    recall  f1-score   support\n",
            "\n",
            "       B-PER       0.87      0.85      0.86       312\n",
            "       I-PER       0.86      0.89      0.88       198\n",
            "       B-ORG       0.84      0.70      0.76       347\n",
            "       I-ORG       0.65      0.66      0.66       180\n",
            "       B-LOC       0.82      0.83      0.83       319\n",
            "       I-LOC       0.70      0.52      0.60        54\n",
            "      B-MISC       0.63      0.83      0.72       145\n",
            "      I-MISC       0.36      0.70      0.47        46\n",
            "\n",
            "   micro avg       0.77      0.78      0.78      1601\n",
            "   macro avg       0.72      0.75      0.72      1601\n",
            "weighted avg       0.79      0.78      0.78      1601\n",
            "\n"
          ]
        },
        {
          "output_type": "stream",
          "name": "stderr",
          "text": [
            "100%|██████████| 416/416 [00:04<00:00, 91.48it/s]\n"
          ]
        },
        {
          "output_type": "stream",
          "name": "stdout",
          "text": [
            "\n",
            "Epoch: 3, loss: 0.0299\n",
            "\n",
            "               precision    recall  f1-score   support\n",
            "\n",
            "       B-PER       0.87      0.84      0.85       312\n",
            "       I-PER       0.93      0.84      0.88       198\n",
            "       B-ORG       0.78      0.73      0.75       347\n",
            "       I-ORG       0.68      0.60      0.64       180\n",
            "       B-LOC       0.80      0.87      0.83       319\n",
            "       I-LOC       0.68      0.72      0.70        54\n",
            "      B-MISC       0.70      0.77      0.73       145\n",
            "      I-MISC       0.75      0.59      0.66        46\n",
            "\n",
            "   micro avg       0.80      0.78      0.79      1601\n",
            "   macro avg       0.77      0.74      0.76      1601\n",
            "weighted avg       0.80      0.78      0.78      1601\n",
            "\n"
          ]
        },
        {
          "output_type": "stream",
          "name": "stderr",
          "text": [
            "100%|██████████| 416/416 [00:04<00:00, 92.01it/s]\n"
          ]
        },
        {
          "output_type": "stream",
          "name": "stdout",
          "text": [
            "\n",
            "Epoch: 4, loss: 0.0265\n",
            "\n",
            "               precision    recall  f1-score   support\n",
            "\n",
            "       B-PER       0.89      0.84      0.86       312\n",
            "       I-PER       0.87      0.87      0.87       198\n",
            "       B-ORG       0.78      0.75      0.77       347\n",
            "       I-ORG       0.67      0.73      0.70       180\n",
            "       B-LOC       0.86      0.84      0.85       319\n",
            "       I-LOC       0.64      0.67      0.65        54\n",
            "      B-MISC       0.79      0.81      0.80       145\n",
            "      I-MISC       0.84      0.59      0.69        46\n",
            "\n",
            "   micro avg       0.81      0.80      0.80      1601\n",
            "   macro avg       0.79      0.76      0.77      1601\n",
            "weighted avg       0.82      0.80      0.80      1601\n",
            "\n"
          ]
        },
        {
          "output_type": "stream",
          "name": "stderr",
          "text": [
            "100%|██████████| 416/416 [00:04<00:00, 91.69it/s]\n"
          ]
        },
        {
          "output_type": "stream",
          "name": "stdout",
          "text": [
            "\n",
            "Epoch: 5, loss: 0.0251\n",
            "\n",
            "               precision    recall  f1-score   support\n",
            "\n",
            "       B-PER       0.85      0.83      0.84       312\n",
            "       I-PER       0.92      0.85      0.88       198\n",
            "       B-ORG       0.87      0.76      0.81       347\n",
            "       I-ORG       0.75      0.61      0.67       180\n",
            "       B-LOC       0.88      0.83      0.85       319\n",
            "       I-LOC       0.66      0.70      0.68        54\n",
            "      B-MISC       0.71      0.79      0.75       145\n",
            "      I-MISC       0.81      0.54      0.65        46\n",
            "\n",
            "   micro avg       0.84      0.78      0.80      1601\n",
            "   macro avg       0.81      0.74      0.77      1601\n",
            "weighted avg       0.84      0.78      0.80      1601\n",
            "\n"
          ]
        }
      ]
    },
    {
      "cell_type": "code",
      "metadata": {
        "id": "tokHJUKXfPRc",
        "colab": {
          "base_uri": "https://localhost:8080/",
          "height": 166
        },
        "outputId": "9ec419b1-caba-46cd-9d0c-8a25e89060f8"
      },
      "source": [
        "RNN(num_layers)"
      ],
      "execution_count": 27,
      "outputs": [
        {
          "output_type": "error",
          "ename": "NameError",
          "evalue": "ignored",
          "traceback": [
            "\u001b[0;31m---------------------------------------------------------------------------\u001b[0m",
            "\u001b[0;31mNameError\u001b[0m                                 Traceback (most recent call last)",
            "\u001b[0;32m<ipython-input-27-3e367b8662cb>\u001b[0m in \u001b[0;36m<module>\u001b[0;34m()\u001b[0m\n\u001b[0;32m----> 1\u001b[0;31m \u001b[0mRNN\u001b[0m\u001b[0;34m(\u001b[0m\u001b[0mnum_layers\u001b[0m\u001b[0;34m)\u001b[0m\u001b[0;34m\u001b[0m\u001b[0;34m\u001b[0m\u001b[0m\n\u001b[0m",
            "\u001b[0;31mNameError\u001b[0m: name 'RNN' is not defined"
          ]
        }
      ]
    },
    {
      "cell_type": "code",
      "metadata": {
        "id": "H9Rgk3xD_7PM"
      },
      "source": [
        ""
      ],
      "execution_count": null,
      "outputs": []
    }
  ]
}