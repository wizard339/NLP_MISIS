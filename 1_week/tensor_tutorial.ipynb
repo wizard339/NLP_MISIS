{
  "nbformat": 4,
  "nbformat_minor": 0,
  "metadata": {
    "colab": {
      "name": "tensor_tutorial.ipynb",
      "provenance": []
    },
    "kernelspec": {
      "display_name": "Py3 research env",
      "language": "python",
      "name": "py3_research"
    },
    "language_info": {
      "codemirror_mode": {
        "name": "ipython",
        "version": 3
      },
      "file_extension": ".py",
      "mimetype": "text/x-python",
      "name": "python",
      "nbconvert_exporter": "python",
      "pygments_lexer": "ipython3",
      "version": "3.6.7"
    }
  },
  "cells": [
    {
      "cell_type": "code",
      "metadata": {
        "id": "Civy2l4cos1t"
      },
      "source": [
        "%matplotlib inline"
      ],
      "execution_count": null,
      "outputs": []
    },
    {
      "cell_type": "markdown",
      "metadata": {
        "id": "i0PP8Tn6XWhO"
      },
      "source": [
        "_Credits: First two parts of this notebook are based on PyTorch official_ [tensor](https://pytorch.org/tutorials/beginner/blitz/tensor_tutorial.html#sphx-glr-beginner-blitz-tensor-tutorial-py) _and_ [autograd](https://pytorch.org/tutorials/beginner/blitz/autograd_tutorial.html#sphx-glr-beginner-blitz-autograd-tutorial-py) _tutorials._"
      ]
    },
    {
      "cell_type": "markdown",
      "metadata": {
        "id": "-nEtOTFPos11"
      },
      "source": [
        "\n",
        "Once again, what is PyTorch?\n",
        "================\n",
        "\n",
        "It’s a Python-based scientific computing package targeted at two sets of\n",
        "audiences:\n",
        "\n",
        "-  A replacement for NumPy to use the power of GPUs\n",
        "-  a deep learning research platform that provides maximum flexibility\n",
        "   and speed\n",
        "\n",
        "Getting Started\n",
        "---------------\n",
        "\n",
        "#### Tensors\n",
        "\n",
        "Tensors are similar to NumPy’s ndarrays, with the addition being that\n",
        "Tensors can also be used on a GPU to accelerate computing.\n",
        "\n"
      ]
    },
    {
      "cell_type": "code",
      "metadata": {
        "id": "wCg57jzaos12"
      },
      "source": [
        "import torch"
      ],
      "execution_count": null,
      "outputs": []
    },
    {
      "cell_type": "markdown",
      "metadata": {
        "id": "y2XO1pKzos17"
      },
      "source": [
        "Construct a 5x3 matrix, uninitialized:\n",
        "\n"
      ]
    },
    {
      "cell_type": "code",
      "metadata": {
        "id": "z4hzsf2Zos2A"
      },
      "source": [
        "x = torch.empty(5, 3)\n",
        "print(x)"
      ],
      "execution_count": null,
      "outputs": []
    },
    {
      "cell_type": "markdown",
      "metadata": {
        "id": "s1UXUAyfos2G"
      },
      "source": [
        "Construct a randomly initialized matrix:\n",
        "\n"
      ]
    },
    {
      "cell_type": "code",
      "metadata": {
        "id": "2pZuhVZdos2I"
      },
      "source": [
        "x = torch.rand(5, 3)\n",
        "print(x)"
      ],
      "execution_count": null,
      "outputs": []
    },
    {
      "cell_type": "markdown",
      "metadata": {
        "id": "XDuGrzjJos2O"
      },
      "source": [
        "Construct a matrix filled zeros and of dtype long:\n",
        "\n"
      ]
    },
    {
      "cell_type": "code",
      "metadata": {
        "id": "d7RuB4xhos2P"
      },
      "source": [
        "x = torch.zeros(5, 3, dtype=torch.long)\n",
        "print(x)"
      ],
      "execution_count": null,
      "outputs": []
    },
    {
      "cell_type": "markdown",
      "metadata": {
        "id": "dh6Esa3Fos2W"
      },
      "source": [
        "Construct a tensor directly from data:\n",
        "\n"
      ]
    },
    {
      "cell_type": "code",
      "metadata": {
        "id": "RnInKPIQos2X"
      },
      "source": [
        "x = torch.tensor([5.5, 3])\n",
        "print(x)"
      ],
      "execution_count": null,
      "outputs": []
    },
    {
      "cell_type": "markdown",
      "metadata": {
        "id": "vMJZ3uZQos2q"
      },
      "source": [
        "or create a tensor based on an existing tensor. These methods\n",
        "will reuse properties of the input tensor, e.g. dtype, unless\n",
        "new values are provided by user\n",
        "\n"
      ]
    },
    {
      "cell_type": "code",
      "metadata": {
        "id": "bKfLS4Mios2r"
      },
      "source": [
        "x = x.new_ones(5, 3, dtype=torch.double)      # new_* methods take in sizes\n",
        "print(x)\n",
        "\n",
        "x = torch.randn_like(x, dtype=torch.float)    # override dtype!\n",
        "print(x)                                      # result has the same size"
      ],
      "execution_count": null,
      "outputs": []
    },
    {
      "cell_type": "code",
      "metadata": {
        "id": "yICWuQiPXWhY"
      },
      "source": [
        "import numpy as np"
      ],
      "execution_count": null,
      "outputs": []
    },
    {
      "cell_type": "code",
      "metadata": {
        "id": "6M4dkilSXWhZ"
      },
      "source": [
        "np.random.randint((2,5))\n"
      ],
      "execution_count": null,
      "outputs": []
    },
    {
      "cell_type": "code",
      "metadata": {
        "id": "9HKFndN_XWha"
      },
      "source": [
        "a = np.random.randint((2,5))\n",
        "\n",
        "# Create a torch tensor from numpy tensor and cast it to float32 type\n",
        "a_t = torch.tensor(a, dtype=torch.float32)# YOUR CODE HERE\n",
        "assert a_t.dtype == torch.float32"
      ],
      "execution_count": null,
      "outputs": []
    },
    {
      "cell_type": "code",
      "metadata": {
        "id": "TKXr5uY2XWhb"
      },
      "source": [
        "a_t"
      ],
      "execution_count": null,
      "outputs": []
    },
    {
      "cell_type": "markdown",
      "metadata": {
        "id": "cHcJcupjos2u"
      },
      "source": [
        "Get its size:\n",
        "\n"
      ]
    },
    {
      "cell_type": "code",
      "metadata": {
        "id": "glNo_10Kos2v"
      },
      "source": [
        "print(x.size())"
      ],
      "execution_count": null,
      "outputs": []
    },
    {
      "cell_type": "code",
      "metadata": {
        "id": "9PtBBxVIXWhc"
      },
      "source": [
        "x.shape[:2]"
      ],
      "execution_count": null,
      "outputs": []
    },
    {
      "cell_type": "markdown",
      "metadata": {
        "id": "_scE1Qvwos21"
      },
      "source": [
        "<div class=\"alert alert-info\"><h4>Note</h4><p>``torch.Size`` is in fact a tuple, so it supports all tuple operations.</p></div>\n",
        "\n",
        "#### Operations\n",
        "\n",
        "There are multiple syntaxes for operations. In the following\n",
        "example, we will take a look at the addition operation.\n",
        "\n",
        "Addition: syntax 1\n",
        "\n"
      ]
    },
    {
      "cell_type": "code",
      "metadata": {
        "id": "luQAJTT9os22"
      },
      "source": [
        "y = torch.rand(5, 3)\n",
        "print(x + y)"
      ],
      "execution_count": null,
      "outputs": []
    },
    {
      "cell_type": "markdown",
      "metadata": {
        "id": "e8s8E-Q2os26"
      },
      "source": [
        "Addition: syntax 2\n",
        "\n"
      ]
    },
    {
      "cell_type": "code",
      "metadata": {
        "id": "FLwb3hgyos28"
      },
      "source": [
        "print(torch.add(x, y))"
      ],
      "execution_count": null,
      "outputs": []
    },
    {
      "cell_type": "markdown",
      "metadata": {
        "id": "2dItCJmIos2_"
      },
      "source": [
        "Addition: providing an output tensor as argument\n",
        "\n"
      ]
    },
    {
      "cell_type": "code",
      "metadata": {
        "id": "eTXFN-TTos3B"
      },
      "source": [
        "result = torch.empty(5, 3)\n",
        "torch.add(x, y, out=result)\n",
        "print(result)"
      ],
      "execution_count": null,
      "outputs": []
    },
    {
      "cell_type": "markdown",
      "metadata": {
        "id": "BmLxccujos3F"
      },
      "source": [
        "Addition: in-place\n",
        "\n"
      ]
    },
    {
      "cell_type": "code",
      "metadata": {
        "id": "udSpL0x0os3H"
      },
      "source": [
        "# adds x to y\n",
        "y.add_(x)\n",
        "print(y)"
      ],
      "execution_count": null,
      "outputs": []
    },
    {
      "cell_type": "markdown",
      "metadata": {
        "id": "zqQU0LO0os3M"
      },
      "source": [
        "<div class=\"alert alert-info\"><h4>Note</h4><p>Any operation that mutates a tensor in-place is post-fixed with an ``_``.\n",
        "    For example: ``x.copy_(y)``, ``x.t_()``, will change ``x``.</p></div>\n",
        "\n",
        "You can use standard NumPy-like indexing with all bells and whistles!\n",
        "\n"
      ]
    },
    {
      "cell_type": "code",
      "metadata": {
        "id": "wcuoNbqOos3Q"
      },
      "source": [
        "print(x[:, 1])"
      ],
      "execution_count": null,
      "outputs": []
    },
    {
      "cell_type": "markdown",
      "metadata": {
        "id": "XyKhJ4E8os3U"
      },
      "source": [
        "Resizing: If you want to resize/reshape tensor, you can use ``torch.view``:\n",
        "\n"
      ]
    },
    {
      "cell_type": "code",
      "metadata": {
        "id": "LmCUrv3qos3V"
      },
      "source": [
        "x = torch.randn(4, 4)\n",
        "y = x.view(16)\n",
        "z = x.view(-1, 8)  # the size -1 is inferred from other dimensions\n",
        "print(x.size(), y.size(), z.size())"
      ],
      "execution_count": null,
      "outputs": []
    },
    {
      "cell_type": "markdown",
      "metadata": {
        "id": "Srv3YKMMos3Y"
      },
      "source": [
        "If you have a one element tensor, use ``.item()`` to get the value as a\n",
        "Python number\n",
        "\n"
      ]
    },
    {
      "cell_type": "code",
      "metadata": {
        "id": "s13XZt8Cos3Z"
      },
      "source": [
        "x = torch.randn(1)\n",
        "print(x)\n",
        "print(x.item())"
      ],
      "execution_count": null,
      "outputs": []
    },
    {
      "cell_type": "markdown",
      "metadata": {
        "id": "orMsQvQAos3c"
      },
      "source": [
        "**Read later:**\n",
        "\n",
        "\n",
        "  100+ Tensor operations, including transposing, indexing, slicing,\n",
        "  mathematical operations, linear algebra, random numbers, etc.,\n",
        "  are described\n",
        "  `here <http://pytorch.org/docs/torch>`_.\n",
        "\n",
        "NumPy Bridge\n",
        "------------\n",
        "\n",
        "Converting a Torch Tensor to a NumPy array and vice versa is a breeze.\n",
        "\n",
        "The Torch Tensor and NumPy array will share their underlying memory\n",
        "locations, and changing one will change the other.\n",
        "\n",
        "#### Converting a Torch Tensor to a NumPy Array\n",
        "\n"
      ]
    },
    {
      "cell_type": "code",
      "metadata": {
        "id": "BOdXxb_Vos3d"
      },
      "source": [
        "a = torch.ones(5)\n",
        "print(a)"
      ],
      "execution_count": null,
      "outputs": []
    },
    {
      "cell_type": "code",
      "metadata": {
        "id": "68cPoOiIos3i"
      },
      "source": [
        "b = a.numpy()\n",
        "print(b)"
      ],
      "execution_count": null,
      "outputs": []
    },
    {
      "cell_type": "markdown",
      "metadata": {
        "id": "N9q-JAGdos3n"
      },
      "source": [
        "See how the numpy array changed in value.\n",
        "\n"
      ]
    },
    {
      "cell_type": "code",
      "metadata": {
        "id": "0-AYXf1Los3p"
      },
      "source": [
        "a.add_(1)\n",
        "print(a)\n",
        "print(b)"
      ],
      "execution_count": null,
      "outputs": []
    },
    {
      "cell_type": "markdown",
      "metadata": {
        "id": "8QtC7o0zos3s"
      },
      "source": [
        "#### Converting NumPy Array to Torch Tensor\n",
        "\n",
        "See how changing the np array changed the Torch Tensor automatically\n",
        "\n"
      ]
    },
    {
      "cell_type": "code",
      "metadata": {
        "id": "MxF1_zXDos3t"
      },
      "source": [
        "import numpy as np\n",
        "a = np.ones(5)\n",
        "b = torch.from_numpy(a)\n",
        "np.add(a, 1, out=a)\n",
        "print(a)\n",
        "print(b)"
      ],
      "execution_count": null,
      "outputs": []
    },
    {
      "cell_type": "markdown",
      "metadata": {
        "id": "-w5pWYnaos3w"
      },
      "source": [
        "All the Tensors on the CPU except a CharTensor support converting to\n",
        "NumPy and back.\n",
        "\n",
        "CUDA Tensors\n",
        "------------\n",
        "\n",
        "Tensors can be moved onto any device using the ``.to`` method.\n",
        "\n"
      ]
    },
    {
      "cell_type": "code",
      "metadata": {
        "id": "LHW5QuDSos3x"
      },
      "source": [
        "# let us run this cell only if CUDA is available\n",
        "# We will use ``torch.device`` objects to move tensors in and out of GPU\n",
        "if torch.cuda.is_available():\n",
        "    device = torch.device(\"cuda\")          # a CUDA device object\n",
        "    y = torch.ones_like(x, device=device)  # directly create a tensor on GPU\n",
        "    x = x.to(device)                       # or just use strings ``.to(\"cuda\")``\n",
        "    z = x + y\n",
        "    print(z)\n",
        "    print(z.to(\"cpu\", torch.double))       # ``.to`` can also change dtype together!"
      ],
      "execution_count": null,
      "outputs": []
    },
    {
      "cell_type": "code",
      "metadata": {
        "id": "zgt0RPz3XWhm"
      },
      "source": [
        "z.device"
      ],
      "execution_count": null,
      "outputs": []
    },
    {
      "cell_type": "code",
      "metadata": {
        "id": "b-tAuF7VXWhn"
      },
      "source": [
        "z.shape"
      ],
      "execution_count": null,
      "outputs": []
    },
    {
      "cell_type": "code",
      "metadata": {
        "id": "K1tfEAwhXWho"
      },
      "source": [
        "a = torch.ones((2, 8))"
      ],
      "execution_count": null,
      "outputs": []
    },
    {
      "cell_type": "code",
      "metadata": {
        "id": "Ua2epYNyXWhp"
      },
      "source": [
        "z.to(\"cpu\") + a"
      ],
      "execution_count": null,
      "outputs": []
    },
    {
      "cell_type": "code",
      "metadata": {
        "id": "Iqh6fwauXWhp"
      },
      "source": [
        "x.device"
      ],
      "execution_count": null,
      "outputs": []
    },
    {
      "cell_type": "code",
      "metadata": {
        "id": "W3-Cuo4cXWhq"
      },
      "source": [
        "torch.cuda.is_available()"
      ],
      "execution_count": null,
      "outputs": []
    },
    {
      "cell_type": "markdown",
      "metadata": {
        "id": "YIvSd_XnXWhq"
      },
      "source": [
        "\n",
        "Autograd: Automatic Differentiation\n",
        "===================================\n",
        "\n",
        "Central to all neural networks in PyTorch is the ``autograd`` package.\n",
        "Let’s first briefly visit this, and we will then go to training our\n",
        "first neural network.\n",
        "\n",
        "\n",
        "The ``autograd`` package provides automatic differentiation for all operations\n",
        "on Tensors. It is a define-by-run framework, which means that your backprop is\n",
        "defined by how your code is run, and that every single iteration can be\n",
        "different.\n",
        "\n",
        "Let us see this in more simple terms with some examples.\n",
        "\n",
        "Tensor\n",
        "--------\n",
        "\n",
        "``torch.Tensor`` is the central class of the package. If you set its attribute\n",
        "``.requires_grad`` as ``True``, it starts to track all operations on it. When\n",
        "you finish your computation you can call ``.backward()`` and have all the\n",
        "gradients computed automatically. The gradient for this tensor will be\n",
        "accumulated into ``.grad`` attribute.\n",
        "\n",
        "To stop a tensor from tracking history, you can call ``.detach()`` to detach\n",
        "it from the computation history, and to prevent future computation from being\n",
        "tracked.\n",
        "\n",
        "To prevent tracking history (and using memory), you can also wrap the code block\n",
        "in ``with torch.no_grad():``. This can be particularly helpful when evaluating a\n",
        "model because the model may have trainable parameters with `requires_grad=True`,\n",
        "but for which we don't need the gradients.\n",
        "\n",
        "There’s one more class which is very important for autograd\n",
        "implementation - a ``Function``.\n",
        "\n",
        "``Tensor`` and ``Function`` are interconnected and build up an acyclic\n",
        "graph, that encodes a complete history of computation. Each tensor has\n",
        "a ``.grad_fn`` attribute that references a ``Function`` that has created\n",
        "the ``Tensor`` (except for Tensors created by the user - their\n",
        "``grad_fn is None``).\n",
        "\n",
        "If you want to compute the derivatives, you can call ``.backward()`` on\n",
        "a ``Tensor``. If ``Tensor`` is a scalar (i.e. it holds a one element\n",
        "data), you don’t need to specify any arguments to ``backward()``,\n",
        "however if it has more elements, you need to specify a ``gradient``\n",
        "argument that is a tensor of matching shape.\n",
        "\n"
      ]
    },
    {
      "cell_type": "code",
      "metadata": {
        "id": "C6xhGBBjXWhq"
      },
      "source": [
        "import torch"
      ],
      "execution_count": null,
      "outputs": []
    },
    {
      "cell_type": "markdown",
      "metadata": {
        "id": "4j0sbT-nXWhr"
      },
      "source": [
        "Create a tensor and set requires_grad=True to track computation with it\n",
        "\n"
      ]
    },
    {
      "cell_type": "code",
      "metadata": {
        "id": "w75gttBRXWhr"
      },
      "source": [
        "x = torch.ones(2, 2, requires_grad=True)\n",
        "print(x)"
      ],
      "execution_count": null,
      "outputs": []
    },
    {
      "cell_type": "markdown",
      "metadata": {
        "id": "geOhzy_5XWhr"
      },
      "source": [
        "Do an operation of tensor:\n",
        "\n"
      ]
    },
    {
      "cell_type": "code",
      "metadata": {
        "id": "KyM8FReWXWhr"
      },
      "source": [
        "y = x + 2\n",
        "print(y)"
      ],
      "execution_count": null,
      "outputs": []
    },
    {
      "cell_type": "markdown",
      "metadata": {
        "id": "vQX5nuixXWhr"
      },
      "source": [
        "``y`` was created as a result of an operation, so it has a ``grad_fn``.\n",
        "\n"
      ]
    },
    {
      "cell_type": "code",
      "metadata": {
        "id": "82-wk49sXWhs"
      },
      "source": [
        "print(y.grad_fn)"
      ],
      "execution_count": null,
      "outputs": []
    },
    {
      "cell_type": "markdown",
      "metadata": {
        "id": "tcBd8nYJXWhs"
      },
      "source": [
        "Do more operations on y"
      ]
    },
    {
      "cell_type": "code",
      "metadata": {
        "id": "SMyhn2yaXWhs"
      },
      "source": [
        "z = y * y * 3\n",
        "out = z.mean()\n",
        "\n",
        "print(z, out)"
      ],
      "execution_count": null,
      "outputs": []
    },
    {
      "cell_type": "markdown",
      "metadata": {
        "id": "GP5Kfl-gXWhs"
      },
      "source": [
        "``.requires_grad_( ... )`` changes an existing Tensor's ``requires_grad``\n",
        "flag in-place. The input flag defaults to ``False`` if not given.\n",
        "\n"
      ]
    },
    {
      "cell_type": "code",
      "metadata": {
        "id": "bWq2dTkIXWhs"
      },
      "source": [
        "a = torch.randn(2, 2)\n",
        "a = ((a * 3) / (a - 1))\n",
        "print(a.requires_grad)\n",
        "a.requires_grad_(True)\n",
        "print(a.requires_grad)\n",
        "b = (a * a).sum()\n",
        "print(b.grad_fn)"
      ],
      "execution_count": null,
      "outputs": []
    },
    {
      "cell_type": "markdown",
      "metadata": {
        "id": "KDS2F_x8XWht"
      },
      "source": [
        "Gradients\n",
        "---------\n",
        "Let's backprop now\n",
        "Because ``out`` contains a single scalar, ``out.backward()`` is\n",
        "equivalent to ``out.backward(torch.tensor(1))``.\n",
        "\n"
      ]
    },
    {
      "cell_type": "code",
      "metadata": {
        "id": "6_xPZxYHXWht"
      },
      "source": [
        "out.backward()"
      ],
      "execution_count": null,
      "outputs": []
    },
    {
      "cell_type": "markdown",
      "metadata": {
        "id": "OMPZY_i5XWht"
      },
      "source": [
        "print gradients d(out)/dx\n",
        "\n",
        "\n"
      ]
    },
    {
      "cell_type": "code",
      "metadata": {
        "id": "cxZQuJ2dXWhu"
      },
      "source": [
        "print(x.grad)"
      ],
      "execution_count": null,
      "outputs": []
    },
    {
      "cell_type": "markdown",
      "metadata": {
        "id": "3qHhOM5cXWhu"
      },
      "source": [
        "You should have got a matrix of ``4.5``. Let’s call the ``out``\n",
        "*Tensor* “$o$”.\n",
        "We have that \n",
        "$$o = \\frac{1}{4}\\sum_i z_i,$$\n",
        "\n",
        "$$z_i = 3(x_i+2)^2$$ and $$z_i\\bigr\\rvert_{x_i=1} = 27$$\n",
        "\n",
        "Therefore,\n",
        "\n",
        "$$\\frac{\\partial o}{\\partial x_i} = \\frac{3}{2}(x_i+2),$$ hence\n",
        "$$\\frac{\\partial o}{\\partial x_i}\\bigr\\rvert_{x_i=1} = \\frac{9}{2} = 4.5$$"
      ]
    },
    {
      "cell_type": "markdown",
      "metadata": {
        "id": "MgXelTEDXWhu"
      },
      "source": [
        "You can do many crazy things with autograd!\n",
        "\n"
      ]
    },
    {
      "cell_type": "code",
      "metadata": {
        "id": "JVVlx9GTXWhv"
      },
      "source": [
        "x = torch.randn(3, requires_grad=True)\n",
        "\n",
        "y = x * 2\n",
        "while y.data.norm() < 1000:\n",
        "    y = y * 2\n",
        "\n",
        "print(y)"
      ],
      "execution_count": null,
      "outputs": []
    },
    {
      "cell_type": "code",
      "metadata": {
        "id": "WrOxqlI1XWhv"
      },
      "source": [
        "gradients = torch.tensor([0.1, 1.0, 0.0001], dtype=torch.float)\n",
        "y.backward(gradients)\n",
        "\n",
        "print(x.grad)"
      ],
      "execution_count": null,
      "outputs": []
    },
    {
      "cell_type": "markdown",
      "metadata": {
        "id": "3ASkHPvZXWhv"
      },
      "source": [
        "You can also stop autograd from tracking history on Tensors\n",
        "with ``.requires_grad=True`` by wrapping the code block in\n",
        "``with torch.no_grad()``:\n",
        "\n"
      ]
    },
    {
      "cell_type": "code",
      "metadata": {
        "id": "8VGspS4BXWhw"
      },
      "source": [
        "print(x.requires_grad)\n",
        "print((x ** 2).requires_grad)\n",
        "\n",
        "with torch.no_grad():\n",
        "    print((x ** 2).requires_grad)"
      ],
      "execution_count": null,
      "outputs": []
    },
    {
      "cell_type": "markdown",
      "metadata": {
        "id": "rYorAGa8XWhx"
      },
      "source": [
        "**Read Later:**\n",
        "\n",
        "Documentation of ``autograd`` and ``Function`` is at\n",
        "http://pytorch.org/docs/autograd\n",
        "\n"
      ]
    },
    {
      "cell_type": "code",
      "metadata": {
        "id": "H7OV52kcXWhx"
      },
      "source": [
        "def plot_train_process(train_loss, val_loss, train_accuracy, val_accuracy, title_suffix=''):\n",
        "    fig, axes = plt.subplots(1, 2, figsize=(15, 5))\n",
        "\n",
        "    axes[0].set_title(' '.join(['Loss', title_suffix]))\n",
        "    axes[0].plot(train_loss, label='train')\n",
        "    axes[0].plot(val_loss, label='validation')\n",
        "    axes[0].legend()\n",
        "\n",
        "    axes[1].set_title(' '.join(['Validation accuracy', title_suffix]))\n",
        "    axes[1].plot(train_accuracy, label='train')\n",
        "    axes[1].plot(val_accuracy, label='validation')\n",
        "    axes[1].legend()\n",
        "    plt.show()"
      ],
      "execution_count": null,
      "outputs": []
    },
    {
      "cell_type": "markdown",
      "metadata": {
        "id": "1xEzc7mRXWhy"
      },
      "source": [
        "### Dealing with the simple task\n",
        "Now we will tackle the car classification problem with new techniques: neural networks. Let's get started"
      ]
    },
    {
      "cell_type": "code",
      "metadata": {
        "id": "M6ZoLD_CXWhy"
      },
      "source": [
        "import pandas as pd"
      ],
      "execution_count": null,
      "outputs": []
    },
    {
      "cell_type": "code",
      "metadata": {
        "id": "isRkvGQaXWhy"
      },
      "source": [
        "import pandas as pd\n",
        "import numpy as np\n",
        "import matplotlib.pyplot as plt\n",
        "from sklearn.model_selection import train_test_split"
      ],
      "execution_count": null,
      "outputs": []
    },
    {
      "cell_type": "code",
      "metadata": {
        "id": "qZSWixBsXWhz"
      },
      "source": [
        "try:\n",
        "    dataset = pd.read_csv('../datasets/car_dataset/car_data.csv', delimiter=',', header=None).values\n",
        "except FileNotFoundError:\n",
        "    !wget https://raw.githubusercontent.com/neychev/made_nlp_course/master/datasets/car_dataset/car_data.csv -nc\n",
        "    dataset = pd.read_csv('car_data.csv', delimiter=',', header=None).values"
      ],
      "execution_count": null,
      "outputs": []
    },
    {
      "cell_type": "code",
      "metadata": {
        "id": "0yWuVUqCXWhz"
      },
      "source": [
        "data = dataset[:, :-1].astype(int)\n",
        "target = dataset[:, -1]\n",
        "\n",
        "print(data.shape, target.shape)\n",
        "\n",
        "X_train, X_test, y_train_raw, y_test_raw = train_test_split(data, target, test_size=0.15)\n",
        "print(X_train.shape, y_train_raw.shape, X_test.shape, y_test_raw.shape)"
      ],
      "execution_count": null,
      "outputs": []
    },
    {
      "cell_type": "markdown",
      "metadata": {
        "id": "1lTsaHtpXWhz"
      },
      "source": [
        "Now we need to map all the class labels to numbers with some `dict`. PyTorch does not like non-numeric labels."
      ]
    },
    {
      "cell_type": "code",
      "metadata": {
        "id": "pq_LzEYiXWhz"
      },
      "source": [
        "mapper = # YOUR CODE HERE\n",
        "y_train = np.array([mapper[y] for y in y_train_raw])\n",
        "y_test = np.array([mapper[y] for y in y_test_raw])"
      ],
      "execution_count": null,
      "outputs": []
    },
    {
      "cell_type": "markdown",
      "metadata": {
        "id": "9h5D2AIIXWh0"
      },
      "source": [
        "And let's preprocess the feature matrices as well"
      ]
    },
    {
      "cell_type": "code",
      "metadata": {
        "id": "GHguLQOWXWh0"
      },
      "source": [
        "from sklearn.preprocessing import StandardScaler\n",
        "scaler = # YOUR CODE HERE\n",
        "\n",
        "X_train_scaled = # YOUR CODE HERE\n",
        "X_test_scaled = # YOUR CODE HERE\n"
      ],
      "execution_count": null,
      "outputs": []
    },
    {
      "cell_type": "code",
      "metadata": {
        "id": "XUpzCxfKXWh0"
      },
      "source": [
        "X_train_scaled"
      ],
      "execution_count": null,
      "outputs": []
    },
    {
      "cell_type": "code",
      "metadata": {
        "id": "NSfxk-H3XWh1"
      },
      "source": [
        "import torch\n",
        "from torch import nn\n",
        "from torch.nn import functional as F\n",
        "import torchsummary"
      ],
      "execution_count": null,
      "outputs": []
    },
    {
      "cell_type": "code",
      "metadata": {
        "id": "XTbibHD5XWh1"
      },
      "source": [
        "model = nn.Sequential()\n",
        "model.add_module('l1', nn.Linear(19, 4))"
      ],
      "execution_count": null,
      "outputs": []
    },
    {
      "cell_type": "code",
      "metadata": {
        "id": "uLk9RICxXWh2"
      },
      "source": [
        "torchsummary.summary(model, (19,))"
      ],
      "execution_count": null,
      "outputs": []
    },
    {
      "cell_type": "code",
      "metadata": {
        "id": "b3DPp1MdXWh2"
      },
      "source": [
        "X_train.shape"
      ],
      "execution_count": null,
      "outputs": []
    },
    {
      "cell_type": "code",
      "metadata": {
        "id": "uqHXCu9CXWh2"
      },
      "source": [
        "opt = torch.optim.AdamW(model.parameters(), lr=3e-3)"
      ],
      "execution_count": null,
      "outputs": []
    },
    {
      "cell_type": "markdown",
      "metadata": {
        "id": "v7v2T87eXWh3"
      },
      "source": [
        "And here comes the loss function as well. `nn.CrossEntropyLoss` combines both log-softmax and `NLLLoss`.\n",
        "__Be careful with it! Criterion `nn.CrossEntropyLoss` with still work with log-softmax output, but it won't allow you to converge to the optimum.__ Next comes small demonstration:"
      ]
    },
    {
      "cell_type": "code",
      "metadata": {
        "id": "n5WDhdPBXWh3"
      },
      "source": [
        "x = torch.randn((1, 10))"
      ],
      "execution_count": null,
      "outputs": []
    },
    {
      "cell_type": "code",
      "metadata": {
        "id": "l-QJoRQhXWh3"
      },
      "source": [
        "x_new = x\n",
        "for n_sequential_softmax_transforms in range(1, 5):\n",
        "    x_new = F.softmax(x_new, dim=1)\n",
        "    \n",
        "    fig = plt.figure()\n",
        "    plt.bar(range(10), x_new.numpy().squeeze())\n",
        "    plt.title('N sequential softmax transforms: {}'.format(n_sequential_softmax_transforms))\n",
        "    plt.show()"
      ],
      "execution_count": null,
      "outputs": []
    },
    {
      "cell_type": "markdown",
      "metadata": {
        "id": "fDS0phowXWh3"
      },
      "source": [
        "As you can see, the _entropy_ of the labels distribution increases (so it becomes closer to uniform) if you use several `softmax` transformations in a row. But it won't affect the accuracy at first sight, because softmax preserves the maximum value position."
      ]
    },
    {
      "cell_type": "code",
      "metadata": {
        "id": "S_oR1CUrXWh4"
      },
      "source": [
        "# loss_function = nn.NLLLoss()\n",
        "loss_function = nn.CrossEntropyLoss()"
      ],
      "execution_count": null,
      "outputs": []
    },
    {
      "cell_type": "code",
      "metadata": {
        "id": "bGS_RI4KXWh5"
      },
      "source": [
        "X_train_torch = torch.tensor(X_train_scaled, dtype=torch.float32)\n",
        "X_test_torch = torch.tensor(X_test_scaled, dtype=torch.float32)\n",
        "\n",
        "y_train_torch = torch.tensor(y_train, dtype=torch.long)\n",
        "y_test_torch = torch.tensor(y_test, dtype=torch.long)"
      ],
      "execution_count": null,
      "outputs": []
    },
    {
      "cell_type": "code",
      "metadata": {
        "id": "x7twb5QmXWh6"
      },
      "source": [
        "# example loss\n",
        "loss_function(model(X_train_torch[:3]), y_train_torch[:3])"
      ],
      "execution_count": null,
      "outputs": []
    },
    {
      "cell_type": "code",
      "metadata": {
        "id": "Sp6Tc9IzXWh6"
      },
      "source": [
        "# !pip install scikit-plot"
      ],
      "execution_count": null,
      "outputs": []
    },
    {
      "cell_type": "code",
      "metadata": {
        "id": "u5E_QxP_XWh6"
      },
      "source": [
        "from sklearn.metrics import accuracy_score, f1_score\n",
        "import scikitplot"
      ],
      "execution_count": null,
      "outputs": []
    },
    {
      "cell_type": "code",
      "metadata": {
        "id": "uK-pIaxSXWh7"
      },
      "source": [
        "from torch.optim.lr_scheduler import StepLR, ReduceLROnPlateau"
      ],
      "execution_count": null,
      "outputs": []
    },
    {
      "cell_type": "code",
      "metadata": {
        "id": "zOuiv43zXWh7"
      },
      "source": [
        "# To reduce learning rate on plateau of the loss functions\n",
        "lr_scheduler = ReduceLROnPlateau(opt, patience=5)"
      ],
      "execution_count": null,
      "outputs": []
    },
    {
      "cell_type": "code",
      "metadata": {
        "id": "vWvh0-psXWh7"
      },
      "source": [
        "opt"
      ],
      "execution_count": null,
      "outputs": []
    },
    {
      "cell_type": "code",
      "metadata": {
        "id": "rkpQOJZvXWh7"
      },
      "source": [
        "from IPython import display"
      ],
      "execution_count": null,
      "outputs": []
    },
    {
      "cell_type": "code",
      "metadata": {
        "scrolled": false,
        "id": "bZpmvm9KXWh8"
      },
      "source": [
        "train_loss_history = []\n",
        "train_acc_history = []\n",
        "val_loss_history = []\n",
        "val_acc_history = []\n",
        "\n",
        "local_train_loss_history = []\n",
        "local_train_acc_history = []\n",
        "for i in range(5000):\n",
        "    \n",
        "    # sample 256 random observations\n",
        "    ix = np.random.randint(0, len(X_train), 256)\n",
        "    x_batch = X_train_torch[ix]\n",
        "    y_batch = y_train_torch[ix]\n",
        "    \n",
        "    # predict log-probabilities or logits\n",
        "    ### YOUR CODE\n",
        "    \n",
        "    # compute loss, just like before\n",
        "    loss = ### YOUR CODE\n",
        "\n",
        "    \n",
        "    # compute gradients\n",
        "    ### YOUR CODE\n",
        "    \n",
        "    # Adam step\n",
        "    ### YOUR CODE\n",
        "    \n",
        "    # clear gradients\n",
        "    ### YOUR CODE\n",
        "    \n",
        "    local_train_loss_history.append(loss.data.numpy())\n",
        "    local_train_acc_history.append(\n",
        "        accuracy_score(\n",
        "            y_batch.detach().numpy(),\n",
        "            y_predicted.detach().numpy().argmax(axis=1)\n",
        "        )\n",
        "    )\n",
        "    \n",
        "    if i % 200 == 0:\n",
        "        train_loss_history.append(np.mean(local_train_loss_history))\n",
        "        train_acc_history.append(np.mean(local_train_acc_history))\n",
        "        local_train_loss_history, local_train_acc_history = [], []\n",
        "\n",
        "        predictions_val = model(X_test_torch)\n",
        "        val_loss_history.append(loss_function(predictions_val, y_test_torch).detach().item())\n",
        "        \n",
        "        acc_score_val = accuracy_score(y_test, predictions_val.detach().numpy().argmax(axis=1))\n",
        "        val_acc_history.append(acc_score_val)\n",
        "        lr_scheduler.step(train_loss_history[-1])\n",
        "        \n",
        "        display.clear_output()\n",
        "        plot_train_process(train_loss_history, val_loss_history, train_acc_history, val_acc_history)"
      ],
      "execution_count": null,
      "outputs": []
    },
    {
      "cell_type": "markdown",
      "metadata": {
        "id": "UiisWeOoXWh8"
      },
      "source": [
        "Now we get the predictions"
      ]
    },
    {
      "cell_type": "code",
      "metadata": {
        "id": "idY1iqixXWh8"
      },
      "source": [
        "y_predicted_train = model(torch.from_numpy(\n",
        "    X_train_scaled\n",
        ").type(torch.float32)).detach().numpy()\n",
        "\n",
        "\n",
        "y_predicted_test = model(torch.from_numpy(\n",
        "    X_test_scaled\n",
        ").type(torch.float32)).detach().numpy()"
      ],
      "execution_count": null,
      "outputs": []
    },
    {
      "cell_type": "code",
      "metadata": {
        "id": "YEI5uoEZXWh8"
      },
      "source": [
        "from sklearn.metrics import accuracy_score, f1_score\n",
        "import scikitplot"
      ],
      "execution_count": null,
      "outputs": []
    },
    {
      "cell_type": "code",
      "metadata": {
        "id": "BKIx1-AkXWh9"
      },
      "source": [
        "print('Accuracy train: {}\\nAccuracy  test: {}\\nf1 train: {}\\nf1 test: {}'.format(\n",
        "    accuracy_score(y_train, np.argmax(y_predicted_train, axis=1)),\n",
        "    accuracy_score(y_test, np.argmax(y_predicted_test, axis=1)),\n",
        "    f1_score(y_train, np.argmax(y_predicted_train, axis=1), average='macro'),\n",
        "    f1_score(y_test, np.argmax(y_predicted_test, axis=1), average='macro')\n",
        "))"
      ],
      "execution_count": null,
      "outputs": []
    },
    {
      "cell_type": "code",
      "metadata": {
        "id": "YqUEucq4XWh9"
      },
      "source": [
        "print('Accuracy train: {}\\nAccuracy  test: {}\\nf1 train: {}\\nf1 test: {}'.format(\n",
        "    accuracy_score(y_train, np.argmax(y_predicted_train, axis=1)),\n",
        "    accuracy_score(y_test, np.argmax(y_predicted_test, axis=1)),\n",
        "    f1_score(y_train, np.argmax(y_predicted_train, axis=1), average='weighted'),\n",
        "    f1_score(y_test, np.argmax(y_predicted_test, axis=1), average='weighted')\n",
        "))"
      ],
      "execution_count": null,
      "outputs": []
    },
    {
      "cell_type": "code",
      "metadata": {
        "id": "Jfj5wFpDXWh9"
      },
      "source": [
        "scikitplot.metrics.plot_roc(y_test, y_predicted_test)"
      ],
      "execution_count": null,
      "outputs": []
    },
    {
      "cell_type": "markdown",
      "metadata": {
        "id": "QXt_D4DwXWh9"
      },
      "source": [
        "__Not that good, yeah? Let's get back and make it really work__"
      ]
    },
    {
      "cell_type": "markdown",
      "metadata": {
        "id": "ca6ojifaXWh9"
      },
      "source": [
        "### And now let's do in with texts"
      ]
    },
    {
      "cell_type": "code",
      "metadata": {
        "id": "KsO-4rsJXWh-"
      },
      "source": [
        "try:\n",
        "    data = pd.read_csv('../datasets/comments_small_dataset/comments.tsv', sep='\\t')\n",
        "except FileNotFoundError:\n",
        "    ! wget https://raw.githubusercontent.com/neychev/made_nlp_course/master/datasets/comments_small_dataset/comments.tsv -nc\n",
        "    data = pd.read_csv(\"comments.tsv\", sep='\\t')"
      ],
      "execution_count": null,
      "outputs": []
    },
    {
      "cell_type": "code",
      "metadata": {
        "id": "qU0EblSkXWh-"
      },
      "source": [
        "import pandas as pd\n",
        "data = pd.read_csv(\"comments.tsv\", sep='\\t')\n",
        "\n",
        "texts = data['comment_text'].values\n",
        "target = data['should_ban'].values\n",
        "data[50::200]"
      ],
      "execution_count": null,
      "outputs": []
    },
    {
      "cell_type": "code",
      "metadata": {
        "id": "tOQWSUC3XWh-"
      },
      "source": [
        "from sklearn.model_selection import train_test_split\n",
        "texts_train, texts_test, y_train, y_test = train_test_split(texts, target, test_size=0.5, random_state=42)"
      ],
      "execution_count": null,
      "outputs": []
    },
    {
      "cell_type": "code",
      "metadata": {
        "id": "B78QvoM8XWh-"
      },
      "source": [
        "from nltk.tokenize import TweetTokenizer\n",
        "tokenizer = TweetTokenizer()\n",
        "preprocess = lambda text: ' '.join(tokenizer.tokenize(text.lower()))\n",
        "\n",
        "text = 'How to be a grown-up at work: replace \"I don\\'t want to do that\" with \"Ok, great!\".'\n",
        "print(\"before:\", text,)\n",
        "print(\"after:\", preprocess(text),)"
      ],
      "execution_count": null,
      "outputs": []
    },
    {
      "cell_type": "code",
      "metadata": {
        "id": "myxVmk_bXWh_"
      },
      "source": [
        "\n",
        "# task: preprocess each comment in train and test\n",
        "\n",
        "texts_train =  ### YOUR CODE HERE\n",
        "texts_test = ### YOUR CODE HERE"
      ],
      "execution_count": null,
      "outputs": []
    },
    {
      "cell_type": "code",
      "metadata": {
        "id": "OxQpuyy2XWh_"
      },
      "source": [
        "assert texts_train[5] ==  'who cares anymore . they attack with impunity .'\n",
        "assert texts_test[89] == 'hey todds ! quick q ? why are you so gay'\n",
        "assert len(texts_test) == len(y_test)"
      ],
      "execution_count": null,
      "outputs": []
    },
    {
      "cell_type": "code",
      "metadata": {
        "id": "HUnaQSQmXWh_"
      },
      "source": [
        "# task: find up to k most frequent tokens in texts_train,\n",
        "# sort them by number of occurences (highest first)\n",
        "\n",
        "k = min(10000, len(set(' '.join(texts_train).split())))\n",
        "bow_vocabulary = ### YOUR CODE HERE\n",
        "\n",
        "print('example features:', sorted(bow_vocabulary)[::100])"
      ],
      "execution_count": null,
      "outputs": []
    },
    {
      "cell_type": "code",
      "metadata": {
        "id": "tJh5zapVXWiA"
      },
      "source": [
        "def text_to_bow(text):\n",
        "    \"\"\" convert text string to an array of token counts. Use bow_vocabulary. \"\"\"\n",
        "    #<YOUR CODE>\n",
        "\n",
        "    return np.array(<...>, 'float32')"
      ],
      "execution_count": null,
      "outputs": []
    },
    {
      "cell_type": "code",
      "metadata": {
        "id": "siYtLha6XWiA"
      },
      "source": [
        "X_train_bow = np.stack(list(map(text_to_bow, texts_train)))\n",
        "X_test_bow = np.stack(list(map(text_to_bow, texts_test)))"
      ],
      "execution_count": null,
      "outputs": []
    },
    {
      "cell_type": "code",
      "metadata": {
        "id": "Io5R30QCXWiB"
      },
      "source": [
        "# Small check that everything is done properly\n",
        "k_max = len(set(' '.join(texts_train).split()))\n",
        "assert X_train_bow.shape == (len(texts_train), min(k, k_max))\n",
        "assert X_test_bow.shape == (len(texts_test), min(k, k_max))\n",
        "assert np.all(X_train_bow[5:10].sum(-1) == np.array([len(s.split()) for s in  texts_train[5:10]]))\n",
        "assert len(bow_vocabulary) <= min(k, k_max)\n",
        "assert X_train_bow[6, bow_vocabulary.index('.')] == texts_train[6].split().count('.')"
      ],
      "execution_count": null,
      "outputs": []
    },
    {
      "cell_type": "markdown",
      "metadata": {
        "id": "PFw8OlutXWiC"
      },
      "source": [
        "Let's solve it using `sklearn` logistic regression model:"
      ]
    },
    {
      "cell_type": "code",
      "metadata": {
        "id": "ixA4tDKkXWiC"
      },
      "source": [
        "from sklearn.linear_model import LogisticRegression\n",
        "bow_model = LogisticRegression().fit(X_train_bow, y_train)"
      ],
      "execution_count": null,
      "outputs": []
    },
    {
      "cell_type": "code",
      "metadata": {
        "id": "LyEB3W7zXWiC"
      },
      "source": [
        "X_train_bow.shape"
      ],
      "execution_count": null,
      "outputs": []
    },
    {
      "cell_type": "code",
      "metadata": {
        "id": "ONS-CirqXWiD"
      },
      "source": [
        "model.score(X_train_bow, y_train)"
      ],
      "execution_count": null,
      "outputs": []
    },
    {
      "cell_type": "code",
      "metadata": {
        "id": "PDCRSkR8XWiD"
      },
      "source": [
        "model.score(X_test_bow, y_test)"
      ],
      "execution_count": null,
      "outputs": []
    },
    {
      "cell_type": "code",
      "metadata": {
        "id": "aptnDsI4XWiE"
      },
      "source": [
        "from sklearn.metrics import roc_auc_score, roc_curve\n",
        "\n",
        "for name, X, y, model in [\n",
        "    ('train', X_train_bow, y_train, bow_model),\n",
        "    ('test ', X_test_bow, y_test, bow_model)\n",
        "]:\n",
        "    proba = model.predict_proba(X)[:, 1]\n",
        "    auc = roc_auc_score(y, proba)\n",
        "    plt.plot(*roc_curve(y, proba)[:2], label='%s AUC=%.4f' % (name, auc))\n",
        "\n",
        "plt.plot([0, 1], [0, 1], '--', color='black',)\n",
        "plt.legend(fontsize='large')\n",
        "plt.grid()"
      ],
      "execution_count": null,
      "outputs": []
    },
    {
      "cell_type": "markdown",
      "metadata": {
        "id": "Z9wFbviUXWiE"
      },
      "source": [
        "And now let's achieve similar results using PyTorch:"
      ]
    },
    {
      "cell_type": "code",
      "metadata": {
        "id": "aFe6SG3lXWiF"
      },
      "source": [
        "linear_model = ### YOUR CODE HERE\n",
        "opt = ### YOUR CODE HERE\n",
        "loss_func = ### YOUR CODE HERE\n",
        "\n",
        "X_train_bow_torch = torch.from_numpy(X_train_bow)\n",
        "y_train_torch = torch.from_numpy(y_train)"
      ],
      "execution_count": null,
      "outputs": []
    },
    {
      "cell_type": "code",
      "metadata": {
        "id": "kDfAG9ihXWiF"
      },
      "source": [
        "# Simple training loop. No need in batch generation in here\n",
        "for _ in range(100):\n",
        "    ### YOUR CODE HERE"
      ],
      "execution_count": null,
      "outputs": []
    },
    {
      "cell_type": "code",
      "metadata": {
        "id": "_NJrZJjbXWiF"
      },
      "source": [
        "y_pred_train = linear_model(X_train_bow_torch).argmax(dim=1).numpy()"
      ],
      "execution_count": null,
      "outputs": []
    },
    {
      "cell_type": "code",
      "metadata": {
        "id": "GNnxRhzfXWiG"
      },
      "source": [
        "y_pred_test = linear_model(torch.from_numpy(X_test_bow)).argmax(dim=1).numpy()"
      ],
      "execution_count": null,
      "outputs": []
    },
    {
      "cell_type": "code",
      "metadata": {
        "id": "mTtexSKkXWiH"
      },
      "source": [
        "np.mean(y_pred_train == y_train)"
      ],
      "execution_count": null,
      "outputs": []
    },
    {
      "cell_type": "code",
      "metadata": {
        "id": "MVwVIPQYXWiI"
      },
      "source": [
        "np.mean(y_pred_test == y_test)"
      ],
      "execution_count": null,
      "outputs": []
    },
    {
      "cell_type": "markdown",
      "metadata": {
        "id": "DYkqiVhfXWiL"
      },
      "source": [
        "### Extra stuff: NotMNIST"
      ]
    },
    {
      "cell_type": "code",
      "metadata": {
        "id": "TYvSGSx8XWiL"
      },
      "source": [
        "! wget https://raw.githubusercontent.com/neychev/made_nlp_course/master/week01_Intro/notmnist.py -nc"
      ],
      "execution_count": null,
      "outputs": []
    },
    {
      "cell_type": "code",
      "metadata": {
        "id": "ehGFP59KXWiM"
      },
      "source": [
        "from notmnist import load_notmnist\n",
        "X_train, y_train, X_test, y_test = load_notmnist()\n",
        "X_train, X_test = X_train.reshape([-1, 784]), X_test.reshape([-1, 784])\n",
        "\n",
        "print(\"Train size = %i, test_size = %i\"%(len(X_train),len(X_test)))"
      ],
      "execution_count": null,
      "outputs": []
    },
    {
      "cell_type": "code",
      "metadata": {
        "id": "nS2Pk2AGXWiM"
      },
      "source": [
        "for i in [0,1]:\n",
        "    plt.subplot(1, 2, i + 1)\n",
        "    plt.imshow(X_train[i].reshape([28,28]))\n",
        "    plt.title(str(y_train[i]))"
      ],
      "execution_count": null,
      "outputs": []
    },
    {
      "cell_type": "code",
      "metadata": {
        "id": "3zxrzp7EXWiM"
      },
      "source": [
        "# Your turn: create a multiclass classifier in here for notMNIST dataset."
      ],
      "execution_count": null,
      "outputs": []
    },
    {
      "cell_type": "code",
      "metadata": {
        "id": "-40wQrw3XWiM"
      },
      "source": [
        "# create a network that stacks layers on top of each other\n",
        "model = nn.Sequential()\n",
        "\n",
        "# add first \"dense\" layer with 784 input units and 1 output unit. \n",
        "model.add_module('l1', # YOUR CODE HERE)\n",
        "model.add_module('a1', # YOUR CODE HERE)\n",
        "..."
      ],
      "execution_count": null,
      "outputs": []
    },
    {
      "cell_type": "markdown",
      "metadata": {
        "id": "hdNgZ0HpXWiN"
      },
      "source": [
        "Take a look at the model structure:"
      ]
    },
    {
      "cell_type": "code",
      "metadata": {
        "id": "zJSMOQa3XWiN"
      },
      "source": [
        "torchsummary.summary(model)"
      ],
      "execution_count": null,
      "outputs": []
    },
    {
      "cell_type": "markdown",
      "metadata": {
        "id": "rtSTuNZVXWiN"
      },
      "source": [
        "Let's check that everything works correctly:"
      ]
    },
    {
      "cell_type": "code",
      "metadata": {
        "id": "FvhKB2J5XWiO"
      },
      "source": [
        "# create dummy data with 3 samples and 784 features\n",
        "x = torch.tensor(X_train[:3], dtype=torch.float32)\n",
        "y = torch.tensor(y_train[:3], dtype=torch.float32)\n",
        "\n",
        "# compute outputs given inputs, both are variables\n",
        "y_predicted = model(x)[:, 0]\n",
        "\n",
        "y_predicted # display what we've got"
      ],
      "execution_count": null,
      "outputs": []
    },
    {
      "cell_type": "markdown",
      "metadata": {
        "id": "QFdneDfqXWiO"
      },
      "source": [
        "Let's call the loss function from `torch.nn`."
      ]
    },
    {
      "cell_type": "code",
      "metadata": {
        "id": "eAehJgkNXWiO"
      },
      "source": [
        "loss_function = nn.CrossEntropyLoss()"
      ],
      "execution_count": null,
      "outputs": []
    },
    {
      "cell_type": "markdown",
      "metadata": {
        "id": "jHPSJuBnXWiO"
      },
      "source": [
        "Define some optimizer for your model parameters:"
      ]
    },
    {
      "cell_type": "code",
      "metadata": {
        "id": "YO_NdyHFXWiP"
      },
      "source": [
        "opt = # YOUR CODE HERE"
      ],
      "execution_count": null,
      "outputs": []
    },
    {
      "cell_type": "markdown",
      "metadata": {
        "id": "m3QwkFXDXWiP"
      },
      "source": [
        "Compute the loss for some batch of objects:"
      ]
    },
    {
      "cell_type": "code",
      "metadata": {
        "id": "PWnBLKGoXWiP"
      },
      "source": [
        "loss = # YOUR CODE HERE"
      ],
      "execution_count": null,
      "outputs": []
    },
    {
      "cell_type": "markdown",
      "metadata": {
        "id": "i9WSJyPdXWiP"
      },
      "source": [
        "Do a backward pass and optimizator step:"
      ]
    },
    {
      "cell_type": "code",
      "metadata": {
        "id": "nvoRZ27mXWiP"
      },
      "source": [
        "# YOUR CODE HERE"
      ],
      "execution_count": null,
      "outputs": []
    },
    {
      "cell_type": "markdown",
      "metadata": {
        "id": "hqOpiol1XWiP"
      },
      "source": [
        "Finally, implement the optimization pipeline and monitor the model quality during the optimization."
      ]
    },
    {
      "cell_type": "code",
      "metadata": {
        "id": "uEyRTt6HXWiP"
      },
      "source": [
        "# YOUR CODE HERE"
      ],
      "execution_count": null,
      "outputs": []
    }
  ]
}
